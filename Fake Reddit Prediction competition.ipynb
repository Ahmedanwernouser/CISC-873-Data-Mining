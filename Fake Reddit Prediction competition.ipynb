{
  "nbformat": 4,
  "nbformat_minor": 0,
  "metadata": {
    "colab": {
      "name": "comp 3 final.ipynb",
      "provenance": [],
      "collapsed_sections": [],
      "toc_visible": true
    },
    "kernelspec": {
      "name": "python3",
      "display_name": "Python 3"
    },
    "language_info": {
      "name": "python"
    }
  },
  "cells": [
    {
      "cell_type": "markdown",
      "source": [
        "# Problem Formulation"
      ],
      "metadata": {
        "id": "zyKTW6FNJSMI"
      }
    },
    {
      "cell_type": "markdown",
      "source": [
        "1 Define the problem  ?\n",
        "\n",
        "In this assignment, fake news are predicted from reddit website by looking at the title of the news. It is a sequential data problem. we are going to predict if a specific reddit post is fake news or not, by looking at its title"
      ],
      "metadata": {
        "id": "0fa1LZ6u0k2V"
      }
    },
    {
      "cell_type": "markdown",
      "source": [
        "2 What is the input ? \n",
        "\n",
        "the input is previous data in raw form The data in this problem is in the text format. Each data entry contains number of words which represents the title of the news. It is a labelled data with label as 1 or 0 which implies if the news is fake or not respectively. Number of words in each data entry varies as the title length changes"
      ],
      "metadata": {
        "id": "PCz-BkGw0oF-"
      }
    },
    {
      "cell_type": "markdown",
      "source": [
        "3 What is the output?\n",
        "\n",
        "we are going to predict if a specific reddit post is fake news or not, by looking at its title is the prediction whether the give titled news is fake or not."
      ],
      "metadata": {
        "id": "nHwGfkgu0rXe"
      }
    },
    {
      "cell_type": "markdown",
      "source": [
        "4 What data mining function is required ?\n",
        "\n",
        "The model is classification model.\n",
        "  classification is the technique to categorize elements in a collection,basis their predefined functionalities and properties. In classification, the model can classify new instances whose classification is unknown.\n",
        "These particular instances that are used to create the model are called training data. Such a mechanism of classification uses methods like if-then,decision trees, neural networks, or even a set of classification rules These methods can be retrieved to identify future data."
      ],
      "metadata": {
        "id": "6sYq1OlC0vT2"
      }
    },
    {
      "cell_type": "markdown",
      "source": [
        "5 What could be the challenges ?\n",
        "\n",
        "The challenges that we have is to clean the data froma the noise in the dataset and preprocessing To convert the text data to the numeric form so that it can be trained on some model, tokenizer package and pad_sequence function is used. Before that, the stop words are removed and the words are stemmed using tlnk package.\n",
        "\n",
        "The training data given has y_label as 0,1 or 2. The label \"2\" is not the accurate labels as the final output can be 0 or 1 only. I removed those entries with label as 2 (total 232 data entries)"
      ],
      "metadata": {
        "id": "qqutNoyl0xyN"
      }
    },
    {
      "cell_type": "markdown",
      "source": [
        "6 What is the impact ?\n",
        "\n",
        "we are going to predict if a specific reddit post is fake news or not, by looking at its title is the prediction "
      ],
      "metadata": {
        "id": "z5DRbxZZ00cl"
      }
    },
    {
      "cell_type": "markdown",
      "source": [
        "7 What is an ideal solution ?\n",
        "\n",
        "to my rate (XGBClassifier) after making appropriate preprocessing on the dataset to \n",
        "help the model to predict the right result after clean the data set and overcome our chalenges"
      ],
      "metadata": {
        "id": "ZAiDMq0-TSF1"
      }
    },
    {
      "cell_type": "markdown",
      "source": [
        "#Imports"
      ],
      "metadata": {
        "id": "j_k_vncsq7gp"
      }
    },
    {
      "cell_type": "code",
      "source": [
        "import re\n",
        "import pickle\n",
        "import sklearn\n",
        "import pandas as pd\n",
        "import numpy as np\n",
        "import holoviews as hv\n",
        "import nltk \n",
        "from pathlib import Path\n",
        "from sklearn.model_selection import train_test_split\n",
        "from sklearn.feature_extraction.text import TfidfVectorizer\n",
        "from sklearn.linear_model import LogisticRegression\n",
        "from sklearn.svm import LinearSVC\n",
        "from sklearn.ensemble import RandomForestClassifier\n",
        "from sklearn.neural_network import MLPClassifier\n",
        "from sklearn.pipeline import Pipeline\n",
        "from sklearn.model_selection import GridSearchCV, RandomizedSearchCV\n",
        "from xgboost import XGBClassifier\n",
        "from nltk.stem.snowball import SnowballStemmer\n",
        "from nltk.tokenize import word_tokenize\n",
        "from nltk.corpus import stopwords\n",
        "from xgboost.sklearn import XGBClassifier\n",
        "from tensorflow.keras.preprocessing.text import Tokenizer  #Tokenizer library to give each word a token \n",
        "from tensorflow.keras.preprocessing.sequence import pad_sequences  #To convert tokenized array to a 2D array\n",
        "from sklearn.model_selection import train_test_split  # to make train-validation split\n",
        "from pprint import pprint\n",
        "from nltk.tokenize import word_tokenize\n"
      ],
      "metadata": {
        "id": "QxNoRV-eXIpk"
      },
      "execution_count": 1,
      "outputs": []
    },
    {
      "cell_type": "code",
      "source": [
        "from bokeh.io import output_notebook\n",
        "output_notebook()\n",
        "from pathlib import Path\n",
        "# some seeting for pandas and hvplot\n",
        "pd.options.display.max_columns = 100\n",
        "pd.options.display.max_rows = 300\n",
        "pd.options.display.max_colwidth = 100\n",
        "np.set_printoptions(threshold=2000)"
      ],
      "metadata": {
        "id": "g_DcA_OnJVhq"
      },
      "execution_count": 2,
      "outputs": []
    },
    {
      "cell_type": "code",
      "execution_count": 2,
      "metadata": {
        "id": "0QsufLtSjRoS"
      },
      "outputs": [],
      "source": [
        ""
      ]
    },
    {
      "cell_type": "code",
      "source": [
        "#import pipeline with the imputer\n",
        "from sklearn.compose import ColumnTransformer\n",
        "from sklearn.datasets import fetch_openml\n",
        "from sklearn.pipeline import Pipeline\n",
        "from sklearn.impute import SimpleImputer\n",
        "from sklearn.preprocessing import StandardScaler, OneHotEncoder\n",
        "from sklearn.linear_model import LogisticRegression\n",
        "from sklearn.ensemble import RandomForestClassifier\n",
        "from sklearn.model_selection import train_test_split, GridSearchCV\n"
      ],
      "metadata": {
        "id": "Mnn27W_mtBCE"
      },
      "execution_count": 3,
      "outputs": []
    },
    {
      "cell_type": "code",
      "source": [
        "pip install nltk"
      ],
      "metadata": {
        "id": "Ue7w0MabuJrN",
        "outputId": "9f4c72c4-0ec1-4805-ab63-81af33426176",
        "colab": {
          "base_uri": "https://localhost:8080/"
        }
      },
      "execution_count": 4,
      "outputs": [
        {
          "output_type": "stream",
          "name": "stdout",
          "text": [
            "Requirement already satisfied: nltk in /usr/local/lib/python3.7/dist-packages (3.2.5)\n",
            "Requirement already satisfied: six in /usr/local/lib/python3.7/dist-packages (from nltk) (1.15.0)\n"
          ]
        }
      ]
    },
    {
      "cell_type": "markdown",
      "source": [
        "#upload data"
      ],
      "metadata": {
        "id": "KcGQLE1PrK1K"
      }
    },
    {
      "cell_type": "code",
      "source": [
        "#upload train data set \n",
        "df_train=pd.read_csv(\"/content/xy_train.csv\")\n",
        "df_train"
      ],
      "metadata": {
        "colab": {
          "base_uri": "https://localhost:8080/",
          "height": 424
        },
        "id": "lwvfdBkCJXqh",
        "outputId": "b631479a-f8e3-4815-d429-85826a409945"
      },
      "execution_count": 5,
      "outputs": [
        {
          "output_type": "execute_result",
          "data": {
            "text/plain": [
              "           id  \\\n",
              "0      265723   \n",
              "1      284269   \n",
              "2      207715   \n",
              "3      551106   \n",
              "4        8584   \n",
              "...       ...   \n",
              "59995   70046   \n",
              "59996  189377   \n",
              "59997   93486   \n",
              "59998  140950   \n",
              "59999   34509   \n",
              "\n",
              "                                                                                                      text  \\\n",
              "0      A group of friends began to volunteer at a homeless shelter after their neighbors protested. \"Se...   \n",
              "1      British Prime Minister @Theresa_May on Nerve Attack on Former Russian Spy: \"The government has c...   \n",
              "2      In 1961, Goodyear released a kit that allows PS2s to be brought to heel. https://m.youtube.com/w...   \n",
              "3      Happy Birthday, Bob Barker! The Price Is Right Host on How He'd Like to Be Remembered | \"As the ...   \n",
              "4      Obama to Nation: 聙\"Innocent Cops and Unarmed Young Black Men Should Not be Dying Before Magic Jo...   \n",
              "...                                                                                                    ...   \n",
              "59995                Finish Sniper Simo H盲yh盲 during the invasion of Finland by the USSR (1939, colorized)   \n",
              "59996                Nigerian Prince Scam took $110K from Kansas man; 10 years later, he's getting it back   \n",
              "59997                Is It Safe To Smoke Marijuana During Pregnancy? You鈥檇 Be Surprised Of The Answer | no   \n",
              "59998                Julius Caesar upon realizing that everyone in the room has a knife except him (44 bc)   \n",
              "59999                Jeff Bridges Releasing 鈥楽leeping Tapes,鈥?a New Album Designed to Help You Fall Asleep   \n",
              "\n",
              "       label  \n",
              "0          0  \n",
              "1          0  \n",
              "2          0  \n",
              "3          0  \n",
              "4          0  \n",
              "...      ...  \n",
              "59995      0  \n",
              "59996      1  \n",
              "59997      0  \n",
              "59998      0  \n",
              "59999      1  \n",
              "\n",
              "[60000 rows x 3 columns]"
            ],
            "text/html": [
              "\n",
              "  <div id=\"df-ece17b2c-5a8c-4de7-b99a-f233ac2fc230\">\n",
              "    <div class=\"colab-df-container\">\n",
              "      <div>\n",
              "<style scoped>\n",
              "    .dataframe tbody tr th:only-of-type {\n",
              "        vertical-align: middle;\n",
              "    }\n",
              "\n",
              "    .dataframe tbody tr th {\n",
              "        vertical-align: top;\n",
              "    }\n",
              "\n",
              "    .dataframe thead th {\n",
              "        text-align: right;\n",
              "    }\n",
              "</style>\n",
              "<table border=\"1\" class=\"dataframe\">\n",
              "  <thead>\n",
              "    <tr style=\"text-align: right;\">\n",
              "      <th></th>\n",
              "      <th>id</th>\n",
              "      <th>text</th>\n",
              "      <th>label</th>\n",
              "    </tr>\n",
              "  </thead>\n",
              "  <tbody>\n",
              "    <tr>\n",
              "      <th>0</th>\n",
              "      <td>265723</td>\n",
              "      <td>A group of friends began to volunteer at a homeless shelter after their neighbors protested. \"Se...</td>\n",
              "      <td>0</td>\n",
              "    </tr>\n",
              "    <tr>\n",
              "      <th>1</th>\n",
              "      <td>284269</td>\n",
              "      <td>British Prime Minister @Theresa_May on Nerve Attack on Former Russian Spy: \"The government has c...</td>\n",
              "      <td>0</td>\n",
              "    </tr>\n",
              "    <tr>\n",
              "      <th>2</th>\n",
              "      <td>207715</td>\n",
              "      <td>In 1961, Goodyear released a kit that allows PS2s to be brought to heel. https://m.youtube.com/w...</td>\n",
              "      <td>0</td>\n",
              "    </tr>\n",
              "    <tr>\n",
              "      <th>3</th>\n",
              "      <td>551106</td>\n",
              "      <td>Happy Birthday, Bob Barker! The Price Is Right Host on How He'd Like to Be Remembered | \"As the ...</td>\n",
              "      <td>0</td>\n",
              "    </tr>\n",
              "    <tr>\n",
              "      <th>4</th>\n",
              "      <td>8584</td>\n",
              "      <td>Obama to Nation: 聙\"Innocent Cops and Unarmed Young Black Men Should Not be Dying Before Magic Jo...</td>\n",
              "      <td>0</td>\n",
              "    </tr>\n",
              "    <tr>\n",
              "      <th>...</th>\n",
              "      <td>...</td>\n",
              "      <td>...</td>\n",
              "      <td>...</td>\n",
              "    </tr>\n",
              "    <tr>\n",
              "      <th>59995</th>\n",
              "      <td>70046</td>\n",
              "      <td>Finish Sniper Simo H盲yh盲 during the invasion of Finland by the USSR (1939, colorized)</td>\n",
              "      <td>0</td>\n",
              "    </tr>\n",
              "    <tr>\n",
              "      <th>59996</th>\n",
              "      <td>189377</td>\n",
              "      <td>Nigerian Prince Scam took $110K from Kansas man; 10 years later, he's getting it back</td>\n",
              "      <td>1</td>\n",
              "    </tr>\n",
              "    <tr>\n",
              "      <th>59997</th>\n",
              "      <td>93486</td>\n",
              "      <td>Is It Safe To Smoke Marijuana During Pregnancy? You鈥檇 Be Surprised Of The Answer | no</td>\n",
              "      <td>0</td>\n",
              "    </tr>\n",
              "    <tr>\n",
              "      <th>59998</th>\n",
              "      <td>140950</td>\n",
              "      <td>Julius Caesar upon realizing that everyone in the room has a knife except him (44 bc)</td>\n",
              "      <td>0</td>\n",
              "    </tr>\n",
              "    <tr>\n",
              "      <th>59999</th>\n",
              "      <td>34509</td>\n",
              "      <td>Jeff Bridges Releasing 鈥楽leeping Tapes,鈥?a New Album Designed to Help You Fall Asleep</td>\n",
              "      <td>1</td>\n",
              "    </tr>\n",
              "  </tbody>\n",
              "</table>\n",
              "<p>60000 rows × 3 columns</p>\n",
              "</div>\n",
              "      <button class=\"colab-df-convert\" onclick=\"convertToInteractive('df-ece17b2c-5a8c-4de7-b99a-f233ac2fc230')\"\n",
              "              title=\"Convert this dataframe to an interactive table.\"\n",
              "              style=\"display:none;\">\n",
              "        \n",
              "  <svg xmlns=\"http://www.w3.org/2000/svg\" height=\"24px\"viewBox=\"0 0 24 24\"\n",
              "       width=\"24px\">\n",
              "    <path d=\"M0 0h24v24H0V0z\" fill=\"none\"/>\n",
              "    <path d=\"M18.56 5.44l.94 2.06.94-2.06 2.06-.94-2.06-.94-.94-2.06-.94 2.06-2.06.94zm-11 1L8.5 8.5l.94-2.06 2.06-.94-2.06-.94L8.5 2.5l-.94 2.06-2.06.94zm10 10l.94 2.06.94-2.06 2.06-.94-2.06-.94-.94-2.06-.94 2.06-2.06.94z\"/><path d=\"M17.41 7.96l-1.37-1.37c-.4-.4-.92-.59-1.43-.59-.52 0-1.04.2-1.43.59L10.3 9.45l-7.72 7.72c-.78.78-.78 2.05 0 2.83L4 21.41c.39.39.9.59 1.41.59.51 0 1.02-.2 1.41-.59l7.78-7.78 2.81-2.81c.8-.78.8-2.07 0-2.86zM5.41 20L4 18.59l7.72-7.72 1.47 1.35L5.41 20z\"/>\n",
              "  </svg>\n",
              "      </button>\n",
              "      \n",
              "  <style>\n",
              "    .colab-df-container {\n",
              "      display:flex;\n",
              "      flex-wrap:wrap;\n",
              "      gap: 12px;\n",
              "    }\n",
              "\n",
              "    .colab-df-convert {\n",
              "      background-color: #E8F0FE;\n",
              "      border: none;\n",
              "      border-radius: 50%;\n",
              "      cursor: pointer;\n",
              "      display: none;\n",
              "      fill: #1967D2;\n",
              "      height: 32px;\n",
              "      padding: 0 0 0 0;\n",
              "      width: 32px;\n",
              "    }\n",
              "\n",
              "    .colab-df-convert:hover {\n",
              "      background-color: #E2EBFA;\n",
              "      box-shadow: 0px 1px 2px rgba(60, 64, 67, 0.3), 0px 1px 3px 1px rgba(60, 64, 67, 0.15);\n",
              "      fill: #174EA6;\n",
              "    }\n",
              "\n",
              "    [theme=dark] .colab-df-convert {\n",
              "      background-color: #3B4455;\n",
              "      fill: #D2E3FC;\n",
              "    }\n",
              "\n",
              "    [theme=dark] .colab-df-convert:hover {\n",
              "      background-color: #434B5C;\n",
              "      box-shadow: 0px 1px 3px 1px rgba(0, 0, 0, 0.15);\n",
              "      filter: drop-shadow(0px 1px 2px rgba(0, 0, 0, 0.3));\n",
              "      fill: #FFFFFF;\n",
              "    }\n",
              "  </style>\n",
              "\n",
              "      <script>\n",
              "        const buttonEl =\n",
              "          document.querySelector('#df-ece17b2c-5a8c-4de7-b99a-f233ac2fc230 button.colab-df-convert');\n",
              "        buttonEl.style.display =\n",
              "          google.colab.kernel.accessAllowed ? 'block' : 'none';\n",
              "\n",
              "        async function convertToInteractive(key) {\n",
              "          const element = document.querySelector('#df-ece17b2c-5a8c-4de7-b99a-f233ac2fc230');\n",
              "          const dataTable =\n",
              "            await google.colab.kernel.invokeFunction('convertToInteractive',\n",
              "                                                     [key], {});\n",
              "          if (!dataTable) return;\n",
              "\n",
              "          const docLinkHtml = 'Like what you see? Visit the ' +\n",
              "            '<a target=\"_blank\" href=https://colab.research.google.com/notebooks/data_table.ipynb>data table notebook</a>'\n",
              "            + ' to learn more about interactive tables.';\n",
              "          element.innerHTML = '';\n",
              "          dataTable['output_type'] = 'display_data';\n",
              "          await google.colab.output.renderOutput(dataTable, element);\n",
              "          const docLink = document.createElement('div');\n",
              "          docLink.innerHTML = docLinkHtml;\n",
              "          element.appendChild(docLink);\n",
              "        }\n",
              "      </script>\n",
              "    </div>\n",
              "  </div>\n",
              "  "
            ]
          },
          "metadata": {},
          "execution_count": 5
        }
      ]
    },
    {
      "cell_type": "code",
      "source": [
        "df_train['text'][2]"
      ],
      "metadata": {
        "id": "82O_neVxBKJ_",
        "outputId": "9cf6ccb8-3fa7-431a-8c7a-fac742869900",
        "colab": {
          "base_uri": "https://localhost:8080/",
          "height": 174
        }
      },
      "execution_count": 6,
      "outputs": [
        {
          "output_type": "execute_result",
          "data": {
            "text/plain": [
              "'In 1961, Goodyear released a kit that allows PS2s to be brought to heel. https://m.youtube.com/watch?v=ALXulk0T8cg 鈥?\"\"\\t0.72\\t0\\t2\\t3\\nzwillc92\\twe were fishing in the midatlantic yesterday when these twin water spouts touched down and danced around for minutes\\t1564935175.0\\ti.redd.it\\tTrue\\tcly213\\thttps://preview.redd.it/2ksr2me7ige31.jpg?width=320&crop=smart&auto=webp&s=c2ccc5c9c976a1b9a666c4d45f6592fbcdf91e9a\\t\\t48.0\\t1360\\tmildlyinteresting\\tWe were fishing in the mid-Atlantic yesterday when these twin water spouts touched down and danced around for 30 minutes\\t0.98\\t1\\t0\\t0\\n\\tibm branches out into condiments\\t1401301501.0\\tdataconomy.com\\tTrue\\t26ps9d\\thttps://external-preview.redd.it/Zu8MdLiIplYXJH_kYW7O4kKWPy5pFv55FFvOR23z8l8.jpg?width=320&crop=smart&auto=webp&s=99a4df29ec04740d612e98b32345f1c257691599\\t\\t0.0\\t8\\tnottheonion\\tIBM Branches Out Into Condiments\\t0.65\\t1\\t0\\t0\\nTheGuyWhoLikesThings\\tan accidental find\\t1479438190.0\\ti.reddituploads.com\\tTrue\\t5dk6ix\\thttps://external-preview.redd.it/ocZVw-ddLq5uPcnx2bZkIVEqi-bDln5YPmReRDRD0oc.jpg?width=320&crop=smart&auto=webp&s=9d039eb9c2f4da91b87bd4dd5e7cc9f898a339f4\\t\\t0.0\\t74\\tfakehistoryporn\\tAn accidental find, 1991\\t0.98\\t0\\t2\\t2\\nsolrakgx\\thes going to read your future\\t1376098623.0\\t\\tTrue\\tcbkn766\\thttp://i.imgur.com/PBK4EK8.jpg\\t1k21w3\\t\\t4\\tpsbattle_artwork\\tHe\\'s going to read your future\\t\\t0\\t2\\t4\\nEdwarderar88\\tyou are not going to die out here a womans terrifying night in the chesapeake\\t1467267040.0\\twashingtonpost.com\\tTrue\\t4qk7jo\\thttps://external-preview.redd.it/U8DGG97PymtVe6XOJPc2GrILXzQUi_B1Pgw7NkpmJ_Y.jpg?width=320&crop=smart&auto=webp&s=ce4f690f11bf30ca8a03546da26e7780addee561\\t\\t0.0\\t9\\tusanews\\t鈥榊ou are not going to die out here鈥? A woman鈥檚 terrifying night in the Chesapeake\\t0.72\\t1\\t0\\t0\\nyesimmadbros\\tmy friends badass son\\t1410645555.0\\ti.imgur.com\\tTrue\\t2gblau\\thttps://external-preview.redd.it/cEReXtcWmDRzUdOIBclIpAqvOq6TJIsHSuA3G9tsw2k.jpg?width=320&crop=smart&auto=webp&s=e5b963b4ddfba11bc1e9d5fddecd29fbcdc92d34\\t\\t6.0\\t4\\tphotoshopbattles\\tPsBattle: My friends badass son\\t0.63\\t1\\t0\\t0\\nfeistybutsmall\\tbad bitches bureau american benevolence\\t1550437464.0\\ti.redd.it\\tTrue\\tarp1ql\\thttps://preview.redd.it/vo3oddc217h21.jpg?width=320&crop=smart&auto=webp&s=8cd7d8b2a2dcba3f6dbf4d1adaa49ad26e7802c2\\t\\t0.0\\t10\\tfakealbumcovers\\tBad Bitches Bureau - American Benevolence\\t0.7\\t0\\t2\\t1\\ntowerofspain\\ti put all the stuffing from a pack of oreos to make a mega one\\t1559753525.0\\ti.redd.it\\tTrue\\tbx4une\\thttps://preview.redd.it/9z1rjujiik231.jpg?width=320&crop=smart&auto=webp&s=196124277d31ec81e51ef49356bd105c5fca63c9\\t\\t8.0\\t9\\tmildlyinteresting\\tI put all the stuffing from a pack of Oreos to make a mega one\\t0.64\\t1\\t0\\t0\\nsaintshing\\ttom hardy running shirtless in his boxers\\t1445802886.0\\ti.imgur.com\\tTrue\\t3q6pjg\\thttps://external-preview.redd.it/Q2Q0XrThL0YqYaSBV3W4BqTnDhqLHSKZMQD9rgESE-k.jpg?width=320&crop=smart&auto=webp&s=bb04792f0d4eb59b35892ddb7560d89920aa8676\\t\\t18.0\\t6\\tphotoshopbattles\\tPsBattle: Tom Hardy running shirtless in his boxers\\t0.76\\t1\\t0\\t0\\nTelefunkin\\tcrazy sunset caused by the pollution in the industrial district\\t1475194285.0\\ti.imgur.com\\tTrue\\t555aff\\thttps://external-preview.redd.it/Sqd8fm0jgNCDhE2tEKx-WoQ9l_k7AV_ROoFdFdUcZGs.jpg?width=320&crop=smart&auto=webp&s=16143f78b6a779171668b18345d3e158e7514edd\\t\\t0.0\\t42\\tmisleadingthumbnails\\tCrazy sunset caused by the pollution in the industrial district.\\t0.97\\t0\\t2\\t2\\nmic9ael\\tstudent arrested after flamingos die in frat prank gone wrong\\t1412925360.0\\tcollege.usatoday.com\\tTrue\\t2iu52z\\thttps://external-preview.redd.it/FIlb74BEZDhO3F2_vXSimdd7EofDjCP2TVUvnztd1x8.jpg?width=320&crop=smart&auto=webp&s=3d97ddac3628b80a572d757608c2e89c6983c1ea\\t\\t8.0\\t26\\tnottheonion\\tStudent arrested after 2 flamingos die in frat prank gone wrong\\t0.83\\t1\\t0\\t0\\n\\twould you rather fight one horse sized duck or a hundred duck sized horses\\t1456162794.0\\t\\tTrue\\td09hcyw\\thttp://i.imgur.com/bEimUaW.jpg\\t471l8d\\t\\t4\\tpsbattle_artwork\\tWould you rather fight one horse sized duck or a hundred duck sized horses?\\t\\t0\\t2\\t4\\njjordan47\\ttim tebow signs contract with russian football team\\t1379698365.0\\titar-tass.com\\tTrue\\t1msf1w\\thttps://external-preview.redd.it/PsWudL07M_ffDStijb2QcxroBnP8V1ifsQOIyVdFBl8.jpg?width=320&crop=smart&auto=webp&s=243530429dfbf6b0b7d1d27f05f3511a375ce3c4\\t\\t4.0\\t18\\tnottheonion\\tTim Tebow signs contract with Russian football team\\t0.71\\t1\\t0\\t0\\nmestermambofrug\\ttrump doll in danish driveway\\t1537010190.0\\ti.redd.it\\tTrue\\t9g0q0f\\thttps://preview.redd.it/c1iuxnfwydm11.jpg?width=320&crop=smart&auto=webp&s=0da8ff92c873137bc0b5f3d6e2c64f80ec19f536\\t\\t6.0\\t12\\tmildlyinteresting\\tTrump doll in Danish driveway\\t0.65\\t1\\t0\\t0\\nfakeplasticplant\\tgo go goooo\\t1354866997.0\\t\\tTrue\\tc7cmu2f\\thttp://i.imgur.com/jYno5.jpg\\t14f54o\\t\\t6\\tpsbattle_artwork\\tGo Go Goooo!\\t\\t0\\t2\\t4\\nhypoboxer\\tmarco rubio prepares for dolphins season by hitting a kid in the face with a pass\\t1439977301.0\\twashingtonpost.com\\tTrue\\t3hkcjs\\thttps://external-preview.redd.it/m-nMrxqdOB9Vv9DogFa5xXA10ccZi9K8RsfhUIyAE6A.jpg?width=320&crop=smart&auto=webp&s=6fe46d67ca3c266a2be175cb526160055bdc6fc3\\t\\t4.0\\t48\\tnottheonion\\tMarco Rubio prepares for Dolphins season by hitting a kid in the face with a pass\\t0.81\\t1\\t0\\t0\\nMooGirl\\tdeedeedeedeedeedeedeeeee\\t1343334585.0\\t\\tTrue\\tc5jvchs\\thttp://i.imgur.com/lj10Q.jpg\\tx7481\\t\\t14\\tpsbattle_artwork\\tDeedee-dee-dee-deedee-deeeee\\t\\t0\\t2\\t4\\nsignalxp\\tcar carrying furniture has a mirror in the back males it look like a hole\\t1561656359.0\\ti.redd.it\\tTrue\\tc68byg\\thttps://preview.redd.it/nu8lfaglox631.jpg?width=320&crop=smart&auto=webp&s=fe90636fd1a6dedc7b0ec400a3a78ac2f929ab88\\t\\t3.0\\t58\\tconfusing_perspective\\tCar carrying furniture has a mirror in the back, males it look like a hole\\t0.96\\t0\\t2\\t2\\nNick-Michael\\tthis rock i found in michigan looks exactly like michigan\\t1536977974.0\\ti.redd.it\\tTrue\\t9fxzu1\\thttps://preview.redd.it/lobiy804bbm11.jpg?width=320&crop=smart&auto=webp&s=053d776a24fd01694449b9196846aebb50654fe0\\t\\t32.0\\t175\\tmildlyinteresting\\tThis rock I found in Michigan looks exactly like Michigan\\t0.86\\t1\\t0\\t0\\nMrMonotreme\\tgame over\\t1427052477.0\\t\\tTrue\\tcpn6rjn\\thttp://i.imgur.com/ZOwabbX.jpg\\t2zwqrc\\t\\t93\\tpsbattle_artwork\\tGame Over\\t\\t0\\t2\\t4\\nWetCoastLife\\tdisapproving penguin\\t1464913359.0\\t\\tTrue\\td3ttume\\thttp://i.imgur.com/nR4HPzP.jpg\\t4m76u4\\t\\t4\\tpsbattle_artwork\\tDisapproving penguin\\t\\t0\\t2\\t4\\nHavingAChumpBurnout\\tdont forget to take turns boys\\t1537793417.0\\t\\tTrue\\te6jnbjx\\thttps://i.imgur.com/GxGlH79.jpg\\t9if5ed\\t\\t3\\tpsbattle_artwork\\tDon\\'t forget to take turns, boys.\\t\\t0\\t2\\t4\\nhiro24\\tkingsman\\t1428593302.0\\t\\tTrue\\tcq6lvmv\\thttp://i.imgur.com/QcCh5L2.jpg\\t31yko7\\t\\t29\\tpsbattle_artwork\\tKingsman\\t\\t0\\t2\\t4\\nShappie\\tonwards\\t1390679602.0\\t\\tTrue\\tceyphro\\thttp://i.imgur.com/sEHdVAe.jpg\\t1w3ooj\\t\\t134\\tpsbattle_artwork\\tOnwards!\\t\\t0\\t2\\t4\\nJessicaMaple\\tyearold girl calls to save her mother\\t1551748639.0\\tktvu.com\\tTrue\\taxf4qr\\thttps://external-preview.redd.it/tURxgVJN9i0nZY2LQPDb5sldOUR9A7rxiFPUOYe6H1Q.jpg?width=320&crop=smart&auto=webp&s=1aa1fec1606375cdf74cf9ca6278a3bf227979e3\\t\\t2.0\\t29\\tupliftingnews\\t7-year-old girl calls 911 to save her mother\\t0.87\\t1\\t0\\t0\\nUltraSpecial\\tyou are absolutely awesome\\t1416470960.0\\t\\tTrue\\tcm7taat\\thttp://i.imgur.com/5pPXpgH.jpg\\t2mrvar\\t\\t1\\tpsbattle_artwork\\tYou are absolutely awesome!\\t\\t0\\t2\\t4\\nicontainletters\\tsun tzu art of war bc\\t1569698027.0\\ti.redd.it\\tTrue\\tdakehz\\thttps://preview.redd.it/uf0jxpkmwdp31.jpg?width=320&crop=smart&auto=webp&s=5d15c3a43603d4232a5ac252d1c9886b9469f35d\\t\\t0.0\\t14\\tfakehistoryporn\\tSun Tzu 鈥淎rt of War鈥?(500BC)\\t1.0\\t0\\t2\\t2\\ngibbonofdoom\\tteenage john boyega in a getty stock image education shoot\\t1452255352.0\\ti.imgur.com\\tTrue\\t400uza\\thttps://external-preview.redd.it/0pIsdWAYDIojmdbrdr4fX7Duvn7Ktn1kAn_5qbV2BRE.jpg?width=320&crop=smart&auto=webp&s=9d22e60e74d8e52144318c55c34dee8c3bdb9158\\t\\t15.0\\t47\\tphotoshopbattles\\tPsBattle: Teenage John Boyega in a Getty Stock image education shoot.\\t0.82\\t1\\t0\\t0\\ndrbootup\\tnorthern virginia school under fire after students instructed to play runaway slave game\\t1550842743.0\\tfox5dc.com\\tTrue\\tathpd9\\thttps://external-preview.redd.it/XWNj_zEvN3reW_5yjugQTS532nx1AsAeGpNFTGFGp1g.jpg?width=320&crop=smart&auto=webp&s=6efbc9860f2401563ec4ff2cdf93f425e3cc08ba\\t\\t119.0\\t1063\\tnottheonion\\tNorthern Virginia school under fire after students instructed to play 鈥榬unaway slave game\\'\\t0.96\\t1\\t0\\t0\\nDoctorTagada\\tart is everywhere and anytime even by chance while cleaning the kitchen\\t1565804056.0\\ti.imgur.com\\tTrue\\tcqcyuh\\thttps://external-preview.redd.it/OXPXao3S4xhFsE25SzXJs3SbFnAYUOOTP7uF1Q_CbaY.jpg?width=320&crop=smart&auto=webp&s=5f6e53c39811bc364737a8d066a086cc880e5b7a\\t\\t3.0\\t31\\tmildlyinteresting\\tArt is everywhere, and anytime, even... by chance, while cleaning the kitchen.\\t0.83\\t1\\t0\\t0\\nbailey_parker\\tmy work installed timed electrical outlets to conserve energy\\t1569454544.0\\ti.redd.it\\tTrue\\td9bejv\\thttps://preview.redd.it/7qv9jmc6mto31.png?width=320&crop=smart&auto=webp&s=f74b7aad0bc26c2d2a7db4323891daf469e3c58c\\t\\t11.0\\t24\\tmildlyinteresting\\tMy work installed timed electrical outlets to conserve energy\\t0.93\\t1\\t0\\t0\\nMalyarrr\\trussian channel rossiya prematurely reports on putin meeting which has yet to happen\\t1426270441.0\\tuatoday.tv\\tTrue\\t2yxmzf\\thttps://external-preview.redd.it/UGTD6nHZNUDWrRfI8F4q52RPZQLjG5D1r3h1W1v9ogQ.jpg?width=320&crop=smart&auto=webp&s=9e1f916c797af36848568a77b7abbd7c63727be6\\t\\t0.0\\t32\\tnottheonion\\tRussian channel \\'Rossiya 24\\' prematurely reports on Putin meeting which has yet to happen\\t0.81\\t1\\t0\\t0\\n\\tfaces of an oud\\t1398143473.0\\ti.imgur.com\\tTrue\\t23nnms\\thttps://external-preview.redd.it/cW79eTHFWoHIKfR8-8jJjqq5OYLOkwQlMNU3u94nGsk.jpg?width=320&crop=smart&auto=webp&s=4c5afe0d1c9b850290141bec530d99b49ad863f3\\t\\t0.0\\t3\\tpareidolia\\tFaces of an Oud\\t0.72\\t0\\t2\\t2\\nWhat_No_Cookie\\tdreadlocks\\t1397917794.0\\ti.imgur.com\\tTrue\\t23fqp8\\thttps://external-preview.redd.it/qV1ejfOyLCmNoX8nC_VaBNFOwtjZzQfQyqY7q7EG4A8.jpg?width=320&crop=smart&auto=webp&s=14bf26e991eca40e815227f542b6a8a3537f28d3\\t\\t4.0\\t4\\tphotoshopbattles\\tDreadlocks. (x-post /r/pics)\\t0.67\\t1\\t0\\t0\\nlegard420\\tthis insect that looks like its an insect guardian angel\\t1562869125.0\\ti.redd.it\\tTrue\\tcbz5lv\\thttps://preview.redd.it/zx7bauhsup931.jpg?width=320&crop=smart&auto=webp&s=57730387853818f6a827a46d606c31c1b65e5ed4\\t\\t3.0\\t35\\tmildlyinteresting\\tThis insect that looks like it鈥檚 an insect guardian angel\\t0.92\\t1\\t0\\t0\\nwadeybb\\tthere was something odd about the new girl at the sauna\\t1536023294.0\\t\\tTrue\\te5cnilw\\thttps://i.imgur.com/JDWylUX.jpg\\t9cnx14\\t\\t4\\tpsbattle_artwork\\tthere was something odd about the new girl at the sauna\\t\\t0\\t2\\t4\\nlikelyculprit\\tyou wont believe how much david beckham is paid for each sponsored instagram post\\t1532612342.0\\tweb.archive.org\\tTrue\\t922c13\\thttps://external-preview.redd.it/VS_sYf1qOXmRfs2ATfqHtZc5pMyNN9oeqoeYTjNenL4.jpg?width=320&crop=smart&auto=webp&s=aab34092a420839eb990b8c62e3c602354f04a0f\\t\\t0.0\\t66\\tsavedyouaclick\\tYou won\\'t believe how much David Beckham is paid for each sponsored Instagram post | Up to 拢228K\\t0.92\\t0\\t2\\t5\\n\\theres something new\\t1391984902.0\\t\\tTrue\\tcfb757y\\thttp://i.imgur.com/455EKnr.jpg\\t1xfr0k\\t\\t7\\tpsbattle_artwork\\tHere\\'s something new \\t\\t0\\t2\\t4\\nLt_Lysol\\tmourning after guest\\t1518113156.0\\ti.redd.it\\tTrue\\t7w6r3o\\thttps://preview.redd.it/nl5a8tu941f01.png?width=320&crop=smart&auto=webp&s=5591deade1de5f6f90fab440508ff25855f2185e\\t\\t3.0\\t27\\tfakealbumcovers\\tMourning After- Guest\\t0.93\\t0\\t2\\t1\\nApiContraption\\tother discussions\\t1396111183.0\\t\\tTrue\\tcgezk2n\\thttp://i.imgur.com/CVB5Csy%2ejpg\\t21oh6a\\t\\t1\\tpsbattle_artwork\\tOther Discussions\\t\\t0\\t2\\t4\\nmafiamasta\\tluuuuuuuuuke\\t1365816467.0\\t\\tTrue\\tc9e5gye\\thttp://i.imgur.com/gc7QkoE.jpg\\t1c893d\\t\\t9\\tpsbattle_artwork\\tLuuuuuuuuuke!\\t\\t0\\t2\\t4\\n\\ti can make that too p\\t1459650720.0\\t\\tTrue\\td1no90s\\thttp://i.imgur.com/5OGUZrP.jpg\\t4d2r76\\t\\t101\\tpsbattle_artwork\\tI can make that too :p\\t\\t0\\t2\\t4\\nApiContraption\\tother discussions\\t1392855641.0\\t\\tTrue\\tcfjoypm\\thttp://i.imgur.com/K6ANh2t%2ejpg\\t1ye4sh\\t\\t1\\tpsbattle_artwork\\tOther Discussions\\t\\t0\\t2\\t4\\ncouchpotatoe\\thonoured artists of the rsfsr the koch sisters ussr\\t1563515368.0\\ti.redd.it\\tTrue\\tcf3qdy\\thttps://preview.redd.it/zzj7zhhb87b31.jpg?width=320&crop=smart&auto=webp&s=e8861db499853cdba183306f895930d7ddfde4c8\\t\\t0.0\\t35\\tpropagandaposters\\tHonoured Artists of the RSFSR, the Koch Sisters, USSR, 1950\\t0.88\\t0\\t1\\t5\\nFly_Caster\\twho you jumping on im over here today\\t1364227784.0\\t\\tTrue\\tc923rcs\\thttp://i.imgur.com/mgV9JSv.jpg\\t1ayl9k\\t\\t2\\tpsbattle_artwork\\tWho you jumping on? I\\'m over here today.\\t\\t0\\t2\\t4\\nLazermissile\\tthe worlds beard and moustache champion\\t1416230596.0\\ti.imgur.com\\tTrue\\t2mk1wm\\thttps://external-preview.redd.it/pp-7orjKOPBF0jkQghlQURMrdyWJcGHksnUN5TbcbCs.jpg?width=320&crop=smart&auto=webp&s=6188dce68a389b73878cd19d29e4947e1ac47a18\\t\\t8.0\\t7\\tphotoshopbattles\\tPsBattle: The World\\'s Beard And Moustache Champion\\t0.62\\t1\\t0\\t0\\nringingbells\\tabstract sculpture of person sitting on bench at park\\t1503859404.0\\ti.imgur.com\\tTrue\\t6wdx1g\\thttps://external-preview.redd.it/8HrTaNXgHAba2JDHfRO_BhbDPj7M0_6SJ_St2beVjO8.png?width=320&crop=smart&auto=webp&s=57686884aadf913ed2d3373589c41d0bfe83c0b1\\t\\t7.0\\t45\\tphotoshopbattles\\tPsBattle: Abstract Sculpture Of Person Sitting On Bench At Park\\t0.88\\t1\\t0\\t0\\nmadazzahatter\\tmichael bloomberg to write m cheque to cover us commitment to paris climate agreement billionaire former mayor of new york says he hopes donald trump will change his mind and rejoin the pact next year\\t1524477168.0\\tindependent.co.uk\\tTrue\\t8eaa4h\\thttps://external-preview.redd.it/7cWC3KknqHe3mdqAD69eLkcxgkt7pJEvOA2WHzVRdS8.jpg?width=320&crop=smart&auto=webp&s=8e4e4ef1540a71a13d13ee06dcd6c9578b255df9\\t\\t7.0\\t49\\tupliftingnews\\tMichael Bloomberg \\'to write $4.5m cheque to cover US commitment to Paris climate agreement\\': Billionaire former mayor of New York says he hopes Donald Trump will change his mind and rejoin the pact next year.\\t0.81\\t1\\t0\\t0\\nfunkdaddyfresh\\tsnow ferret on the hunt\\t1382157927.0\\ti.imgur.com\\tTrue\\t1orepa\\thttps://external-preview.redd.it/PiazZXB51YRz0LCDtiFz-Nd9EuNVdBuXhoNkq_g_I9g.jpg?width=320&crop=smart&auto=webp&s=b28a42c7a4738dece615190b693e1648c06d9acc\\t\\t17.0\\t290\\tphotoshopbattles\\tSnow ferret on the hunt!\\t0.95\\t1\\t0\\t0\\npipsdontsqueak\\ttrump will allow dreamers to stay in us reversing campaign promise\\t1497618772.0\\tnytimes.com\\tTrue\\t6hmflo\\thttps://external-preview.redd.it/ENmzSwJ9qokJ5uz8NOG-2PYSLmlycMmcBIfHqaYxQw0.jpg?width=320&crop=smart&auto=webp&s=665c2975def3cfd6d9d1d1d1c614bc1d0354d8a3\\t\\t9.0\\t35\\tneutralnews\\tTrump Will Allow 鈥楧reamers鈥?to Stay in U.S., Reversing Campaign Promise\\t0.84\\t1\\t0\\t0\\nalomjahajmola\\tbut earth is a peaceful pla nah nevermind\\t1352082803.0\\t\\tTrue\\tc6wipbh\\thttp://i.imgur.com/hpCVW.jpg\\t12mxor\\t\\t13\\tpsbattle_artwork\\tBut Earth is a peaceful pla... nah nevermind.\\t\\t0\\t2\\t4\\nAFCBlink\\ttribal ka too cold for mercy\\t1489530979.0\\ti.redd.it\\tTrue\\t5zfhew\\thttps://preview.redd.it/zlkqyutoagly.jpg?width=320&crop=smart&auto=webp&s=93dc6ce2ea8453b77b02de3e066d512c38c9879d\\t\\t1.0\\t2\\tfakealbumcovers\\tTribal Ka - Too Cold For Mercy\\t0.63\\t0\\t2\\t1\\n\\tphone home\\t1442087257.0\\t\\tTrue\\tcuz9yqs\\thttp://i.imgur.com/dcaZrva.jpg\\t3kopti\\t\\t4\\tpsbattle_artwork\\tPhone home?\\t\\t0\\t2\\t4\\nHysteriia\\tyou came to the wrong neighborhood motherfucker\\t1485106166.0\\timgur.com\\tTrue\\t5pi8o5\\thttps://external-preview.redd.it/u6FwKk-i6b3SGHMz_B4mll-35T-Yi3I9iByfFIkDix0.jpg?width=320&crop=smart&auto=webp&s=cdd897f7664155ea8ddf712b58d019341bf59220\\t\\t36.0\\t6004\\tpareidolia\\tYou came to the wrong neighborhood, motherfucker\\t0.94\\t0\\t2\\t2\\nnickleout\\tthe power of darkness keihan railway\\t1558982978.0\\ti.imgur.com\\tTrue\\tbtpq8n\\thttps://external-preview.redd.it/Sl_KNsLkKDQIqHuvRxWmJg-RGayd_dVhfvlXGKqSHAA.jpg?width=320&crop=smart&auto=webp&s=235abe11a8c4d10c92a669c2fdef06b4aa125837\\t\\t0.0\\t4\\tfakealbumcovers\\tThe Power of Darkness - Keihan Railway\\t1.0\\t0\\t2\\t1\\nJalinja\\tsorry for being a noob at photoshop\\t1379797564.0\\t\\tTrue\\tccctgcd\\thttp://i.imgur.com/PmBjtaj.jpg\\t1muhdq\\t\\t3\\tpsbattle_artwork\\tSorry for being a noob at photoshop.\\t\\t0\\t2\\t4\\nzzzxxc1\\timage of the moab dropped on isis circa\\t1492436673.0\\ti.redd.it\\tTrue\\t65vmbf\\thttps://preview.redd.it/az35yc7ya4sy.jpg?width=320&crop=smart&auto=webp&s=2e0a2f7a59e2ad7c2f01c7a3b2543eab78e1af5b\\t\\t0.0\\t14\\tfakehistoryporn\\tImage of the MOAB dropped on ISIS circa 2017\\t0.93\\t0\\t2\\t2\\nGoodDayBoy\\tcat standing in a boxing position\\t1510834621.0\\ti.redd.it\\tTrue\\t7dc0an\\thttps://preview.redd.it/xn6h5e0ixbyz.jpg?width=320&crop=smart&auto=webp&s=6394fa757f0dc5df0a98d2d2794fcccfb9483da4\\t\\t496.0\\t42470\\tphotoshopbattles\\tPsBattle: Cat standing in a boxing position\\t0.91\\t1\\t0\\t0\\nAnal_romancer\\tthis s cartoon villain mask of a helmet\\t1552324202.0\\ti.redd.it\\tTrue\\tazvwyl\\thttps://preview.redd.it/dyd29sk8vil21.jpg?width=320&crop=smart&auto=webp&s=634b426a6c01029f58aa943e2f51f7d3abd0b376\\t\\t0.0\\t7\\tpareidolia\\tThis 90s cartoon villain mask of a helmet\\t1.0\\t0\\t2\\t2\\nswimfastalex\\tmail carrier calls for help after wild turkeys surround truck\\t1456313623.0\\twcvb.com\\tTrue\\t47c5u9\\thttps://external-preview.redd.it/_N50E60CgXWX2T1bxAX5lE--0An8xq5u4ty1xHrAqJ8.jpg?width=320&crop=smart&auto=webp&s=25c42465992360971e679d1457bfc11ebb6104d5\\t\\t16.0\\t142\\tnottheonion\\tMail carrier calls for help after wild turkeys surround truck\\t0.94\\t1\\t0\\t0\\n\\ti hope there is a dog in this one\\t1427476674.0\\t\\tTrue\\tcpsp3on\\thttp://i.imgur.com/mx9Y1Vh.jpg\\t30g3c6\\t\\t2\\tpsbattle_artwork\\tI hope there is a dog in this one\\t\\t0\\t2\\t4\\nadimwit\\tthe birth of a nation film poster glorifying the postcivil war ku klux klan\\t1306609683.0\\tupload.wikimedia.org\\tTrue\\thmdu5\\thttps://external-preview.redd.it/zUrfPAtCy1VUZmZ6sV14qhBfflHgLiZYjZt8WuOb8HA.jpg?width=216&crop=smart&auto=webp&s=46195f97796a1a3a15795fe4415c8021e47b2f99\\t\\t2.0\\t3\\tpropagandaposters\\t\"The Birth of a Nation\"\" Film Poster, Glorifying the post-Civil War Ku Klux Klan.\"'"
            ],
            "application/vnd.google.colaboratory.intrinsic+json": {
              "type": "string"
            }
          },
          "metadata": {},
          "execution_count": 6
        }
      ]
    },
    {
      "cell_type": "code",
      "source": [
        "#upload train data set \n",
        "df_test=pd.read_csv(\"/content/x_test.csv\")\n",
        "df_test"
      ],
      "metadata": {
        "colab": {
          "base_uri": "https://localhost:8080/",
          "height": 424
        },
        "outputId": "f461843b-f12c-4072-9d51-1609b71d2cf5",
        "id": "FFABQMuaeeTY"
      },
      "execution_count": 7,
      "outputs": [
        {
          "output_type": "execute_result",
          "data": {
            "text/plain": [
              "          id  \\\n",
              "0          0   \n",
              "1          1   \n",
              "2          2   \n",
              "3          3   \n",
              "4          4   \n",
              "...      ...   \n",
              "59146  59146   \n",
              "59147  59147   \n",
              "59148  59148   \n",
              "59149  59149   \n",
              "59150  59150   \n",
              "\n",
              "                                                                                  text  \n",
              "0                                                                           stargazer   \n",
              "1                                                                                 yeah  \n",
              "2                           PD: Phoenix car thief gets instructions from YouTube video  \n",
              "3                       As Trump Accuses Iran, He Has One Problem: His Own Credibility  \n",
              "4                                                         \"Believers\" - Hezbollah 2011  \n",
              "...                                                                                ...  \n",
              "59146                                                Bicycle taxi drivers of New Delhi  \n",
              "59147                             Trump blows up GOP's formula for winning House races  \n",
              "59148  Napoleon returns from his exile on the island of Elba. (March 1815), Colourised  \n",
              "59149                                 Deep down he always wanted to be a ballet dancer  \n",
              "59150                        Toddler miraculously survives 6-story fall landing on car  \n",
              "\n",
              "[59151 rows x 2 columns]"
            ],
            "text/html": [
              "\n",
              "  <div id=\"df-7861c866-6dda-4fbc-a03b-5c8fb7a6eff8\">\n",
              "    <div class=\"colab-df-container\">\n",
              "      <div>\n",
              "<style scoped>\n",
              "    .dataframe tbody tr th:only-of-type {\n",
              "        vertical-align: middle;\n",
              "    }\n",
              "\n",
              "    .dataframe tbody tr th {\n",
              "        vertical-align: top;\n",
              "    }\n",
              "\n",
              "    .dataframe thead th {\n",
              "        text-align: right;\n",
              "    }\n",
              "</style>\n",
              "<table border=\"1\" class=\"dataframe\">\n",
              "  <thead>\n",
              "    <tr style=\"text-align: right;\">\n",
              "      <th></th>\n",
              "      <th>id</th>\n",
              "      <th>text</th>\n",
              "    </tr>\n",
              "  </thead>\n",
              "  <tbody>\n",
              "    <tr>\n",
              "      <th>0</th>\n",
              "      <td>0</td>\n",
              "      <td>stargazer</td>\n",
              "    </tr>\n",
              "    <tr>\n",
              "      <th>1</th>\n",
              "      <td>1</td>\n",
              "      <td>yeah</td>\n",
              "    </tr>\n",
              "    <tr>\n",
              "      <th>2</th>\n",
              "      <td>2</td>\n",
              "      <td>PD: Phoenix car thief gets instructions from YouTube video</td>\n",
              "    </tr>\n",
              "    <tr>\n",
              "      <th>3</th>\n",
              "      <td>3</td>\n",
              "      <td>As Trump Accuses Iran, He Has One Problem: His Own Credibility</td>\n",
              "    </tr>\n",
              "    <tr>\n",
              "      <th>4</th>\n",
              "      <td>4</td>\n",
              "      <td>\"Believers\" - Hezbollah 2011</td>\n",
              "    </tr>\n",
              "    <tr>\n",
              "      <th>...</th>\n",
              "      <td>...</td>\n",
              "      <td>...</td>\n",
              "    </tr>\n",
              "    <tr>\n",
              "      <th>59146</th>\n",
              "      <td>59146</td>\n",
              "      <td>Bicycle taxi drivers of New Delhi</td>\n",
              "    </tr>\n",
              "    <tr>\n",
              "      <th>59147</th>\n",
              "      <td>59147</td>\n",
              "      <td>Trump blows up GOP's formula for winning House races</td>\n",
              "    </tr>\n",
              "    <tr>\n",
              "      <th>59148</th>\n",
              "      <td>59148</td>\n",
              "      <td>Napoleon returns from his exile on the island of Elba. (March 1815), Colourised</td>\n",
              "    </tr>\n",
              "    <tr>\n",
              "      <th>59149</th>\n",
              "      <td>59149</td>\n",
              "      <td>Deep down he always wanted to be a ballet dancer</td>\n",
              "    </tr>\n",
              "    <tr>\n",
              "      <th>59150</th>\n",
              "      <td>59150</td>\n",
              "      <td>Toddler miraculously survives 6-story fall landing on car</td>\n",
              "    </tr>\n",
              "  </tbody>\n",
              "</table>\n",
              "<p>59151 rows × 2 columns</p>\n",
              "</div>\n",
              "      <button class=\"colab-df-convert\" onclick=\"convertToInteractive('df-7861c866-6dda-4fbc-a03b-5c8fb7a6eff8')\"\n",
              "              title=\"Convert this dataframe to an interactive table.\"\n",
              "              style=\"display:none;\">\n",
              "        \n",
              "  <svg xmlns=\"http://www.w3.org/2000/svg\" height=\"24px\"viewBox=\"0 0 24 24\"\n",
              "       width=\"24px\">\n",
              "    <path d=\"M0 0h24v24H0V0z\" fill=\"none\"/>\n",
              "    <path d=\"M18.56 5.44l.94 2.06.94-2.06 2.06-.94-2.06-.94-.94-2.06-.94 2.06-2.06.94zm-11 1L8.5 8.5l.94-2.06 2.06-.94-2.06-.94L8.5 2.5l-.94 2.06-2.06.94zm10 10l.94 2.06.94-2.06 2.06-.94-2.06-.94-.94-2.06-.94 2.06-2.06.94z\"/><path d=\"M17.41 7.96l-1.37-1.37c-.4-.4-.92-.59-1.43-.59-.52 0-1.04.2-1.43.59L10.3 9.45l-7.72 7.72c-.78.78-.78 2.05 0 2.83L4 21.41c.39.39.9.59 1.41.59.51 0 1.02-.2 1.41-.59l7.78-7.78 2.81-2.81c.8-.78.8-2.07 0-2.86zM5.41 20L4 18.59l7.72-7.72 1.47 1.35L5.41 20z\"/>\n",
              "  </svg>\n",
              "      </button>\n",
              "      \n",
              "  <style>\n",
              "    .colab-df-container {\n",
              "      display:flex;\n",
              "      flex-wrap:wrap;\n",
              "      gap: 12px;\n",
              "    }\n",
              "\n",
              "    .colab-df-convert {\n",
              "      background-color: #E8F0FE;\n",
              "      border: none;\n",
              "      border-radius: 50%;\n",
              "      cursor: pointer;\n",
              "      display: none;\n",
              "      fill: #1967D2;\n",
              "      height: 32px;\n",
              "      padding: 0 0 0 0;\n",
              "      width: 32px;\n",
              "    }\n",
              "\n",
              "    .colab-df-convert:hover {\n",
              "      background-color: #E2EBFA;\n",
              "      box-shadow: 0px 1px 2px rgba(60, 64, 67, 0.3), 0px 1px 3px 1px rgba(60, 64, 67, 0.15);\n",
              "      fill: #174EA6;\n",
              "    }\n",
              "\n",
              "    [theme=dark] .colab-df-convert {\n",
              "      background-color: #3B4455;\n",
              "      fill: #D2E3FC;\n",
              "    }\n",
              "\n",
              "    [theme=dark] .colab-df-convert:hover {\n",
              "      background-color: #434B5C;\n",
              "      box-shadow: 0px 1px 3px 1px rgba(0, 0, 0, 0.15);\n",
              "      filter: drop-shadow(0px 1px 2px rgba(0, 0, 0, 0.3));\n",
              "      fill: #FFFFFF;\n",
              "    }\n",
              "  </style>\n",
              "\n",
              "      <script>\n",
              "        const buttonEl =\n",
              "          document.querySelector('#df-7861c866-6dda-4fbc-a03b-5c8fb7a6eff8 button.colab-df-convert');\n",
              "        buttonEl.style.display =\n",
              "          google.colab.kernel.accessAllowed ? 'block' : 'none';\n",
              "\n",
              "        async function convertToInteractive(key) {\n",
              "          const element = document.querySelector('#df-7861c866-6dda-4fbc-a03b-5c8fb7a6eff8');\n",
              "          const dataTable =\n",
              "            await google.colab.kernel.invokeFunction('convertToInteractive',\n",
              "                                                     [key], {});\n",
              "          if (!dataTable) return;\n",
              "\n",
              "          const docLinkHtml = 'Like what you see? Visit the ' +\n",
              "            '<a target=\"_blank\" href=https://colab.research.google.com/notebooks/data_table.ipynb>data table notebook</a>'\n",
              "            + ' to learn more about interactive tables.';\n",
              "          element.innerHTML = '';\n",
              "          dataTable['output_type'] = 'display_data';\n",
              "          await google.colab.output.renderOutput(dataTable, element);\n",
              "          const docLink = document.createElement('div');\n",
              "          docLink.innerHTML = docLinkHtml;\n",
              "          element.appendChild(docLink);\n",
              "        }\n",
              "      </script>\n",
              "    </div>\n",
              "  </div>\n",
              "  "
            ]
          },
          "metadata": {},
          "execution_count": 7
        }
      ]
    },
    {
      "cell_type": "code",
      "source": [
        "# # the data frame is quite large. we use part of it in this lab if we need to \n",
        "# data = df_train.sample(20000)\n",
        "# data"
      ],
      "metadata": {
        "id": "Dl8HDvL4NRKk"
      },
      "execution_count": 8,
      "outputs": []
    },
    {
      "cell_type": "markdown",
      "metadata": {
        "id": "wpvWcTcpMOOl"
      },
      "source": [
        "# Data exploration"
      ]
    },
    {
      "cell_type": "code",
      "execution_count": 9,
      "metadata": {
        "colab": {
          "base_uri": "https://localhost:8080/"
        },
        "id": "FkPg0ygYAEBS",
        "outputId": "b574c9db-59d8-4f67-e877-adeac801ab1d"
      },
      "outputs": [
        {
          "output_type": "execute_result",
          "data": {
            "text/plain": [
              "id       0\n",
              "text     0\n",
              "label    0\n",
              "dtype: int64"
            ]
          },
          "metadata": {},
          "execution_count": 9
        }
      ],
      "source": [
        "# anything missing?\n",
        "df_train.isnull().sum().sort_values(ascending=False)"
      ]
    },
    {
      "cell_type": "code",
      "execution_count": 10,
      "metadata": {
        "colab": {
          "base_uri": "https://localhost:8080/",
          "height": 282
        },
        "id": "rXFEu7y9HY85",
        "outputId": "8b495ae6-4b6b-4817-cc40-9b2f4ee91022"
      },
      "outputs": [
        {
          "output_type": "execute_result",
          "data": {
            "text/plain": [
              "<matplotlib.axes._subplots.AxesSubplot at 0x7fc8c7012510>"
            ]
          },
          "metadata": {},
          "execution_count": 10
        },
        {
          "output_type": "display_data",
          "data": {
            "text/plain": [
              "<Figure size 432x288 with 1 Axes>"
            ],
            "image/png": "[encoded data removed]"
          },
          "metadata": {
            "needs_background": "light"
          }
        }
      ],
      "source": [
        "df_train.isnull().sum().hist()"
      ]
    },
    {
      "cell_type": "code",
      "execution_count": 11,
      "metadata": {
        "colab": {
          "base_uri": "https://localhost:8080/",
          "height": 282
        },
        "id": "CfEJ3KWWHeUt",
        "outputId": "47496a16-f0b9-402b-afca-e966d056fd53"
      },
      "outputs": [
        {
          "output_type": "execute_result",
          "data": {
            "text/plain": [
              "<matplotlib.axes._subplots.AxesSubplot at 0x7fc8c6ad0f90>"
            ]
          },
          "metadata": {},
          "execution_count": 11
        },
        {
          "output_type": "display_data",
          "data": {
            "text/plain": [
              "<Figure size 432x288 with 1 Axes>"
            ],
            "image/png": "[encoded data removed]"
          },
          "metadata": {
            "needs_background": "light"
          }
        }
      ],
      "source": [
        "df_test.isnull().sum().hist()"
      ]
    },
    {
      "cell_type": "code",
      "source": [
        ""
      ],
      "metadata": {
        "id": "LD-qRF9zHXR1"
      },
      "execution_count": 11,
      "outputs": []
    },
    {
      "cell_type": "code",
      "source": [
        "import seaborn as sns"
      ],
      "metadata": {
        "id": "PtQMT4LMHbBn"
      },
      "execution_count": 12,
      "outputs": []
    },
    {
      "cell_type": "code",
      "execution_count": 13,
      "metadata": {
        "colab": {
          "base_uri": "https://localhost:8080/",
          "height": 282
        },
        "id": "2mEx6tdcH7fi",
        "outputId": "81dfc1d8-3bff-4a12-ae20-fa7bf26c2add"
      },
      "outputs": [
        {
          "output_type": "execute_result",
          "data": {
            "text/plain": [
              "<matplotlib.axes._subplots.AxesSubplot at 0x7fc8c6952210>"
            ]
          },
          "metadata": {},
          "execution_count": 13
        },
        {
          "output_type": "display_data",
          "data": {
            "text/plain": [
              "<Figure size 432x288 with 1 Axes>"
            ],
            "image/png": "[encoded data removed]"
          },
          "metadata": {
            "needs_background": "light"
          }
        }
      ],
      "source": [
        "# plot the amount of missing values in the train features.\n",
        "sns.heatmap(df_train.isnull(),yticklabels=False,cbar=False,cmap='viridis')"
      ]
    },
    {
      "cell_type": "markdown",
      "source": [
        "we can notice that there is no null values"
      ],
      "metadata": {
        "id": "5cNiztjoHxTe"
      }
    },
    {
      "cell_type": "code",
      "execution_count": 14,
      "metadata": {
        "colab": {
          "base_uri": "https://localhost:8080/",
          "height": 282
        },
        "id": "VkTC0GyouRGV",
        "outputId": "2e4d6dbe-1343-4cd4-ef4c-0c71c45195b0"
      },
      "outputs": [
        {
          "output_type": "execute_result",
          "data": {
            "text/plain": [
              "<matplotlib.axes._subplots.AxesSubplot at 0x7fc8c61ed4d0>"
            ]
          },
          "metadata": {},
          "execution_count": 14
        },
        {
          "output_type": "display_data",
          "data": {
            "text/plain": [
              "<Figure size 432x288 with 1 Axes>"
            ],
            "image/png": "[encoded data removed]"
          },
          "metadata": {
            "needs_background": "light"
          }
        }
      ],
      "source": [
        "# plot the amount of missing values in the test features.\n",
        "sns.heatmap(df_test.isnull(),yticklabels=False,cbar=False,cmap='viridis')"
      ]
    },
    {
      "cell_type": "markdown",
      "source": [
        "we can notice that there is no null values"
      ],
      "metadata": {
        "id": "7qeyXr1QH8OA"
      }
    },
    {
      "cell_type": "code",
      "execution_count": 15,
      "metadata": {
        "colab": {
          "base_uri": "https://localhost:8080/"
        },
        "id": "XlQDW541ofUk",
        "outputId": "d722c476-9593-42b6-98bd-b5365fce5fe7"
      },
      "outputs": [
        {
          "output_type": "execute_result",
          "data": {
            "text/plain": [
              "id       0\n",
              "text     0\n",
              "label    0\n",
              "dtype: int64"
            ]
          },
          "metadata": {},
          "execution_count": 15
        }
      ],
      "source": [
        "#counts the null vaalues in each column from the highest to the lowest in train data\n",
        "total = df_train.isnull().sum().sort_values(ascending=False) \n",
        "total"
      ]
    },
    {
      "cell_type": "code",
      "source": [
        "sns.displot(df_train['label'].dropna(),kde=False,color='darkred',bins=30)"
      ],
      "metadata": {
        "colab": {
          "base_uri": "https://localhost:8080/",
          "height": 386
        },
        "id": "9KWyXjRwIeQG",
        "outputId": "e09cb70f-44b7-42b6-e7ce-13387a37c73a"
      },
      "execution_count": 16,
      "outputs": [
        {
          "output_type": "execute_result",
          "data": {
            "text/plain": [
              "<seaborn.axisgrid.FacetGrid at 0x7fc8c4191350>"
            ]
          },
          "metadata": {},
          "execution_count": 16
        },
        {
          "output_type": "display_data",
          "data": {
            "text/plain": [
              "<Figure size 360x360 with 1 Axes>"
            ],
            "image/png": "[encoded data removed]"
          },
          "metadata": {
            "needs_background": "light"
          }
        }
      ]
    },
    {
      "cell_type": "markdown",
      "metadata": {
        "id": "VwqtI8iD0NM-"
      },
      "source": [
        "### Visualizing numeric values"
      ]
    },
    {
      "cell_type": "code",
      "execution_count": 17,
      "metadata": {
        "colab": {
          "base_uri": "https://localhost:8080/"
        },
        "id": "X3cm3srz0hxm",
        "outputId": "a9bec76c-7a0b-4730-972e-94384c70f00d"
      },
      "outputs": [
        {
          "output_type": "execute_result",
          "data": {
            "text/plain": [
              "Index(['id', 'label'], dtype='object')"
            ]
          },
          "metadata": {},
          "execution_count": 17
        }
      ],
      "source": [
        "df_numeric = df_train.select_dtypes(include=np.number)\n",
        "df_numeric.columns"
      ]
    },
    {
      "cell_type": "code",
      "execution_count": 18,
      "metadata": {
        "id": "JYp6SSYd1AsC",
        "colab": {
          "base_uri": "https://localhost:8080/",
          "height": 542
        },
        "outputId": "acc454c9-5b4d-4b28-9c18-24c95162cc69"
      },
      "outputs": [
        {
          "output_type": "display_data",
          "data": {
            "text/html": [
              "<html>\n",
              "<head><meta charset=\"utf-8\" /></head>\n",
              "<body>\n",
              "    <div>            <script src=\"https://cdnjs.cloudflare.com/ajax/libs/mathjax/2.7.5/MathJax.js?config=TeX-AMS-MML_SVG\"></script><script type=\"text/javascript\">if (window.MathJax) {MathJax.Hub.Config({SVG: {font: \"STIX-Web\"}});}</script>                <script type=\"text/javascript\">window.PlotlyConfig = {MathJaxConfig: 'local'};</script>\n",
              "        <script src=\"https://cdn.plot.ly/plotly-2.8.3.min.js\"></script>                <div id=\"e962e613-0b04-4bbd-a4a5-ed8d734a2a85\" class=\"plotly-graph-div\" style=\"height:525px; width:100%;\"></div>            <script type=\"text/javascript\">                                    window.PLOTLYENV=window.PLOTLYENV || {};                                    if (document.getElementById(\"e962e613-0b04-4bbd-a4a5-ed8d734a2a85\")) {                    Plotly.newPlot(                        \"e962e613-0b04-4bbd-a4a5-ed8d734a2a85\",                        [{\"coloraxis\":\"coloraxis\",\"name\":\"0\",\"x\":[\"id\",\"label\"],\"y\":[\"id\",\"label\"],\"z\":[[1.0,0.0006870415307087782],[0.0006870415307087782,1.0]],\"type\":\"heatmap\",\"xaxis\":\"x\",\"yaxis\":\"y\",\"hovertemplate\":\"x: %{x}<br>y: %{y}<br>color: %{z}<extra></extra>\"}],                        {\"template\":{\"data\":{\"bar\":[{\"error_x\":{\"color\":\"#2a3f5f\"},\"error_y\":{\"color\":\"#2a3f5f\"},\"marker\":{\"line\":{\"color\":\"#E5ECF6\",\"width\":0.5},\"pattern\":{\"fillmode\":\"overlay\",\"size\":10,\"solidity\":0.2}},\"type\":\"bar\"}],\"barpolar\":[{\"marker\":{\"line\":{\"color\":\"#E5ECF6\",\"width\":0.5},\"pattern\":{\"fillmode\":\"overlay\",\"size\":10,\"solidity\":0.2}},\"type\":\"barpolar\"}],\"carpet\":[{\"aaxis\":{\"endlinecolor\":\"#2a3f5f\",\"gridcolor\":\"white\",\"linecolor\":\"white\",\"minorgridcolor\":\"white\",\"startlinecolor\":\"#2a3f5f\"},\"baxis\":{\"endlinecolor\":\"#2a3f5f\",\"gridcolor\":\"white\",\"linecolor\":\"white\",\"minorgridcolor\":\"white\",\"startlinecolor\":\"#2a3f5f\"},\"type\":\"carpet\"}],\"choropleth\":[{\"colorbar\":{\"outlinewidth\":0,\"ticks\":\"\"},\"type\":\"choropleth\"}],\"contour\":[{\"colorbar\":{\"outlinewidth\":0,\"ticks\":\"\"},\"colorscale\":[[0.0,\"#0d0887\"],[0.1111111111111111,\"#46039f\"],[0.2222222222222222,\"#7201a8\"],[0.3333333333333333,\"#9c179e\"],[0.4444444444444444,\"#bd3786\"],[0.5555555555555556,\"#d8576b\"],[0.6666666666666666,\"#ed7953\"],[0.7777777777777778,\"#fb9f3a\"],[0.8888888888888888,\"#fdca26\"],[1.0,\"#f0f921\"]],\"type\":\"contour\"}],\"contourcarpet\":[{\"colorbar\":{\"outlinewidth\":0,\"ticks\":\"\"},\"type\":\"contourcarpet\"}],\"heatmap\":[{\"colorbar\":{\"outlinewidth\":0,\"ticks\":\"\"},\"colorscale\":[[0.0,\"#0d0887\"],[0.1111111111111111,\"#46039f\"],[0.2222222222222222,\"#7201a8\"],[0.3333333333333333,\"#9c179e\"],[0.4444444444444444,\"#bd3786\"],[0.5555555555555556,\"#d8576b\"],[0.6666666666666666,\"#ed7953\"],[0.7777777777777778,\"#fb9f3a\"],[0.8888888888888888,\"#fdca26\"],[1.0,\"#f0f921\"]],\"type\":\"heatmap\"}],\"heatmapgl\":[{\"colorbar\":{\"outlinewidth\":0,\"ticks\":\"\"},\"colorscale\":[[0.0,\"#0d0887\"],[0.1111111111111111,\"#46039f\"],[0.2222222222222222,\"#7201a8\"],[0.3333333333333333,\"#9c179e\"],[0.4444444444444444,\"#bd3786\"],[0.5555555555555556,\"#d8576b\"],[0.6666666666666666,\"#ed7953\"],[0.7777777777777778,\"#fb9f3a\"],[0.8888888888888888,\"#fdca26\"],[1.0,\"#f0f921\"]],\"type\":\"heatmapgl\"}],\"histogram\":[{\"marker\":{\"pattern\":{\"fillmode\":\"overlay\",\"size\":10,\"solidity\":0.2}},\"type\":\"histogram\"}],\"histogram2d\":[{\"colorbar\":{\"outlinewidth\":0,\"ticks\":\"\"},\"colorscale\":[[0.0,\"#0d0887\"],[0.1111111111111111,\"#46039f\"],[0.2222222222222222,\"#7201a8\"],[0.3333333333333333,\"#9c179e\"],[0.4444444444444444,\"#bd3786\"],[0.5555555555555556,\"#d8576b\"],[0.6666666666666666,\"#ed7953\"],[0.7777777777777778,\"#fb9f3a\"],[0.8888888888888888,\"#fdca26\"],[1.0,\"#f0f921\"]],\"type\":\"histogram2d\"}],\"histogram2dcontour\":[{\"colorbar\":{\"outlinewidth\":0,\"ticks\":\"\"},\"colorscale\":[[0.0,\"#0d0887\"],[0.1111111111111111,\"#46039f\"],[0.2222222222222222,\"#7201a8\"],[0.3333333333333333,\"#9c179e\"],[0.4444444444444444,\"#bd3786\"],[0.5555555555555556,\"#d8576b\"],[0.6666666666666666,\"#ed7953\"],[0.7777777777777778,\"#fb9f3a\"],[0.8888888888888888,\"#fdca26\"],[1.0,\"#f0f921\"]],\"type\":\"histogram2dcontour\"}],\"mesh3d\":[{\"colorbar\":{\"outlinewidth\":0,\"ticks\":\"\"},\"type\":\"mesh3d\"}],\"parcoords\":[{\"line\":{\"colorbar\":{\"outlinewidth\":0,\"ticks\":\"\"}},\"type\":\"parcoords\"}],\"pie\":[{\"automargin\":true,\"type\":\"pie\"}],\"scatter\":[{\"marker\":{\"colorbar\":{\"outlinewidth\":0,\"ticks\":\"\"}},\"type\":\"scatter\"}],\"scatter3d\":[{\"line\":{\"colorbar\":{\"outlinewidth\":0,\"ticks\":\"\"}},\"marker\":{\"colorbar\":{\"outlinewidth\":0,\"ticks\":\"\"}},\"type\":\"scatter3d\"}],\"scattercarpet\":[{\"marker\":{\"colorbar\":{\"outlinewidth\":0,\"ticks\":\"\"}},\"type\":\"scattercarpet\"}],\"scattergeo\":[{\"marker\":{\"colorbar\":{\"outlinewidth\":0,\"ticks\":\"\"}},\"type\":\"scattergeo\"}],\"scattergl\":[{\"marker\":{\"colorbar\":{\"outlinewidth\":0,\"ticks\":\"\"}},\"type\":\"scattergl\"}],\"scattermapbox\":[{\"marker\":{\"colorbar\":{\"outlinewidth\":0,\"ticks\":\"\"}},\"type\":\"scattermapbox\"}],\"scatterpolar\":[{\"marker\":{\"colorbar\":{\"outlinewidth\":0,\"ticks\":\"\"}},\"type\":\"scatterpolar\"}],\"scatterpolargl\":[{\"marker\":{\"colorbar\":{\"outlinewidth\":0,\"ticks\":\"\"}},\"type\":\"scatterpolargl\"}],\"scatterternary\":[{\"marker\":{\"colorbar\":{\"outlinewidth\":0,\"ticks\":\"\"}},\"type\":\"scatterternary\"}],\"surface\":[{\"colorbar\":{\"outlinewidth\":0,\"ticks\":\"\"},\"colorscale\":[[0.0,\"#0d0887\"],[0.1111111111111111,\"#46039f\"],[0.2222222222222222,\"#7201a8\"],[0.3333333333333333,\"#9c179e\"],[0.4444444444444444,\"#bd3786\"],[0.5555555555555556,\"#d8576b\"],[0.6666666666666666,\"#ed7953\"],[0.7777777777777778,\"#fb9f3a\"],[0.8888888888888888,\"#fdca26\"],[1.0,\"#f0f921\"]],\"type\":\"surface\"}],\"table\":[{\"cells\":{\"fill\":{\"color\":\"#EBF0F8\"},\"line\":{\"color\":\"white\"}},\"header\":{\"fill\":{\"color\":\"#C8D4E3\"},\"line\":{\"color\":\"white\"}},\"type\":\"table\"}]},\"layout\":{\"annotationdefaults\":{\"arrowcolor\":\"#2a3f5f\",\"arrowhead\":0,\"arrowwidth\":1},\"autotypenumbers\":\"strict\",\"coloraxis\":{\"colorbar\":{\"outlinewidth\":0,\"ticks\":\"\"}},\"colorscale\":{\"diverging\":[[0,\"#8e0152\"],[0.1,\"#c51b7d\"],[0.2,\"#de77ae\"],[0.3,\"#f1b6da\"],[0.4,\"#fde0ef\"],[0.5,\"#f7f7f7\"],[0.6,\"#e6f5d0\"],[0.7,\"#b8e186\"],[0.8,\"#7fbc41\"],[0.9,\"#4d9221\"],[1,\"#276419\"]],\"sequential\":[[0.0,\"#0d0887\"],[0.1111111111111111,\"#46039f\"],[0.2222222222222222,\"#7201a8\"],[0.3333333333333333,\"#9c179e\"],[0.4444444444444444,\"#bd3786\"],[0.5555555555555556,\"#d8576b\"],[0.6666666666666666,\"#ed7953\"],[0.7777777777777778,\"#fb9f3a\"],[0.8888888888888888,\"#fdca26\"],[1.0,\"#f0f921\"]],\"sequentialminus\":[[0.0,\"#0d0887\"],[0.1111111111111111,\"#46039f\"],[0.2222222222222222,\"#7201a8\"],[0.3333333333333333,\"#9c179e\"],[0.4444444444444444,\"#bd3786\"],[0.5555555555555556,\"#d8576b\"],[0.6666666666666666,\"#ed7953\"],[0.7777777777777778,\"#fb9f3a\"],[0.8888888888888888,\"#fdca26\"],[1.0,\"#f0f921\"]]},\"colorway\":[\"#636efa\",\"#EF553B\",\"#00cc96\",\"#ab63fa\",\"#FFA15A\",\"#19d3f3\",\"#FF6692\",\"#B6E880\",\"#FF97FF\",\"#FECB52\"],\"font\":{\"color\":\"#2a3f5f\"},\"geo\":{\"bgcolor\":\"white\",\"lakecolor\":\"white\",\"landcolor\":\"#E5ECF6\",\"showlakes\":true,\"showland\":true,\"subunitcolor\":\"white\"},\"hoverlabel\":{\"align\":\"left\"},\"hovermode\":\"closest\",\"mapbox\":{\"style\":\"light\"},\"paper_bgcolor\":\"white\",\"plot_bgcolor\":\"#E5ECF6\",\"polar\":{\"angularaxis\":{\"gridcolor\":\"white\",\"linecolor\":\"white\",\"ticks\":\"\"},\"bgcolor\":\"#E5ECF6\",\"radialaxis\":{\"gridcolor\":\"white\",\"linecolor\":\"white\",\"ticks\":\"\"}},\"scene\":{\"xaxis\":{\"backgroundcolor\":\"#E5ECF6\",\"gridcolor\":\"white\",\"gridwidth\":2,\"linecolor\":\"white\",\"showbackground\":true,\"ticks\":\"\",\"zerolinecolor\":\"white\"},\"yaxis\":{\"backgroundcolor\":\"#E5ECF6\",\"gridcolor\":\"white\",\"gridwidth\":2,\"linecolor\":\"white\",\"showbackground\":true,\"ticks\":\"\",\"zerolinecolor\":\"white\"},\"zaxis\":{\"backgroundcolor\":\"#E5ECF6\",\"gridcolor\":\"white\",\"gridwidth\":2,\"linecolor\":\"white\",\"showbackground\":true,\"ticks\":\"\",\"zerolinecolor\":\"white\"}},\"shapedefaults\":{\"line\":{\"color\":\"#2a3f5f\"}},\"ternary\":{\"aaxis\":{\"gridcolor\":\"white\",\"linecolor\":\"white\",\"ticks\":\"\"},\"baxis\":{\"gridcolor\":\"white\",\"linecolor\":\"white\",\"ticks\":\"\"},\"bgcolor\":\"#E5ECF6\",\"caxis\":{\"gridcolor\":\"white\",\"linecolor\":\"white\",\"ticks\":\"\"}},\"title\":{\"x\":0.05},\"xaxis\":{\"automargin\":true,\"gridcolor\":\"white\",\"linecolor\":\"white\",\"ticks\":\"\",\"title\":{\"standoff\":15},\"zerolinecolor\":\"white\",\"zerolinewidth\":2},\"yaxis\":{\"automargin\":true,\"gridcolor\":\"white\",\"linecolor\":\"white\",\"ticks\":\"\",\"title\":{\"standoff\":15},\"zerolinecolor\":\"white\",\"zerolinewidth\":2}}},\"xaxis\":{\"anchor\":\"y\",\"domain\":[0.0,1.0],\"scaleanchor\":\"y\",\"constrain\":\"domain\"},\"yaxis\":{\"anchor\":\"x\",\"domain\":[0.0,1.0],\"autorange\":\"reversed\",\"constrain\":\"domain\"},\"coloraxis\":{\"colorscale\":[[0.0,\"#0d0887\"],[0.1111111111111111,\"#46039f\"],[0.2222222222222222,\"#7201a8\"],[0.3333333333333333,\"#9c179e\"],[0.4444444444444444,\"#bd3786\"],[0.5555555555555556,\"#d8576b\"],[0.6666666666666666,\"#ed7953\"],[0.7777777777777778,\"#fb9f3a\"],[0.8888888888888888,\"#fdca26\"],[1.0,\"#f0f921\"]]},\"margin\":{\"t\":60}},                        {\"responsive\": true}                    ).then(function(){\n",
              "                            \n",
              "var gd = document.getElementById('e962e613-0b04-4bbd-a4a5-ed8d734a2a85');\n",
              "var x = new MutationObserver(function (mutations, observer) {{\n",
              "        var display = window.getComputedStyle(gd).display;\n",
              "        if (!display || display === 'none') {{\n",
              "            console.log([gd, 'removed!']);\n",
              "            Plotly.purge(gd);\n",
              "            observer.disconnect();\n",
              "        }}\n",
              "}});\n",
              "\n",
              "// Listen for the removal of the full notebook cells\n",
              "var notebookContainer = gd.closest('#notebook-container');\n",
              "if (notebookContainer) {{\n",
              "    x.observe(notebookContainer, {childList: true});\n",
              "}}\n",
              "\n",
              "// Listen for the clearing of the current output cell\n",
              "var outputEl = gd.closest('.output');\n",
              "if (outputEl) {{\n",
              "    x.observe(outputEl, {childList: true});\n",
              "}}\n",
              "\n",
              "                        })                };                            </script>        </div>\n",
              "</body>\n",
              "</html>"
            ]
          },
          "metadata": {}
        }
      ],
      "source": [
        "# # co-relation\n",
        "import plotly.express as px\n",
        "fig1 = px.imshow(df_numeric.corr())\n",
        "fig1.show()"
      ]
    },
    {
      "cell_type": "markdown",
      "source": [
        "we can notice that there is no coroleation "
      ],
      "metadata": {
        "id": "dC1ACEP9Ka9G"
      }
    },
    {
      "cell_type": "markdown",
      "metadata": {
        "id": "MEpTgjzC0S21"
      },
      "source": [
        "### Visualizing categorical columns"
      ]
    },
    {
      "cell_type": "code",
      "execution_count": 19,
      "metadata": {
        "id": "irj7akWm0iJ0",
        "colab": {
          "base_uri": "https://localhost:8080/"
        },
        "outputId": "c6ee9786-c285-4479-a11e-e35f4d67f7c3"
      },
      "outputs": [
        {
          "output_type": "execute_result",
          "data": {
            "text/plain": [
              "Index(['text'], dtype='object')"
            ]
          },
          "metadata": {},
          "execution_count": 19
        }
      ],
      "source": [
        "df_categorical = df_train.select_dtypes(include =['object'])\n",
        "df_categorical.columns"
      ]
    },
    {
      "cell_type": "markdown",
      "metadata": {
        "id": "3qLeDb2h2t4Z"
      },
      "source": [
        "##Investigating data"
      ]
    },
    {
      "cell_type": "code",
      "execution_count": 20,
      "metadata": {
        "id": "6L77eGU5xaZI",
        "colab": {
          "base_uri": "https://localhost:8080/"
        },
        "outputId": "9da14942-8574-445c-ca72-007ca21d49d1"
      },
      "outputs": [
        {
          "output_type": "stream",
          "name": "stdout",
          "text": [
            "<class 'pandas.core.frame.DataFrame'>\n",
            "RangeIndex: 60000 entries, 0 to 59999\n",
            "Data columns (total 3 columns):\n",
            " #   Column  Non-Null Count  Dtype \n",
            "---  ------  --------------  ----- \n",
            " 0   id      60000 non-null  int64 \n",
            " 1   text    60000 non-null  object\n",
            " 2   label   60000 non-null  int64 \n",
            "dtypes: int64(2), object(1)\n",
            "memory usage: 1.4+ MB\n",
            "<class 'pandas.core.frame.DataFrame'>\n",
            "RangeIndex: 60000 entries, 0 to 59999\n",
            "Data columns (total 3 columns):\n",
            " #   Column  Non-Null Count  Dtype \n",
            "---  ------  --------------  ----- \n",
            " 0   id      60000 non-null  int64 \n",
            " 1   text    60000 non-null  object\n",
            " 2   label   60000 non-null  int64 \n",
            "dtypes: int64(2), object(1)\n",
            "memory usage: 1.4+ MB\n"
          ]
        }
      ],
      "source": [
        "# dataframe.info(verbose,buf=buffer,max_cols,memory_usage,show_counts,null_counts)\n",
        "df_train.info(verbose=True,max_cols=34,memory_usage=True,show_counts=True)  #Investigating data\n",
        "df_train.info()  #another way without using parameters of df.info function"
      ]
    },
    {
      "cell_type": "code",
      "execution_count": 21,
      "metadata": {
        "id": "L3Mv8hTIQBi9",
        "colab": {
          "base_uri": "https://localhost:8080/",
          "height": 296
        },
        "outputId": "86440b9f-41ff-4660-efd9-89f26ef79598"
      },
      "outputs": [
        {
          "output_type": "execute_result",
          "data": {
            "text/plain": [
              "<matplotlib.axes._subplots.AxesSubplot at 0x7fc8c1cf0090>"
            ]
          },
          "metadata": {},
          "execution_count": 21
        },
        {
          "output_type": "display_data",
          "data": {
            "text/plain": [
              "<Figure size 432x288 with 1 Axes>"
            ],
            "image/png": "[encoded data removed]"
          },
          "metadata": {}
        }
      ],
      "source": [
        "# the count of the real news vs not rreal\n",
        "sns.set_style('whitegrid')\n",
        "sns.countplot(x='label', data=df_train,palette='RdBu_r')"
      ]
    },
    {
      "cell_type": "code",
      "execution_count": 22,
      "metadata": {
        "id": "Oq67Z1wRTVwW"
      },
      "outputs": [],
      "source": [
        "# # Trying to understand if text has an impact on the label\n",
        "# sns.set_style('whitegrid')\n",
        "# sns.countplot(x='label', hue='text', data=df_train,palette='rainbow')"
      ]
    },
    {
      "cell_type": "markdown",
      "metadata": {
        "id": "8goF1hdufGPC"
      },
      "source": [
        "## Cleaning and pre processing\n",
        "\n",
        "Having consistent and clean data is fundamental for good modeling results. No matter how sophisticated your model the basic principle is: trash in trash out. When dealing with NLP the cleaning and pre processing can differ depending on which model you intend to use. We will use frequency based representation methods for our text. Thus, we usually want to have a pretty thorough manipulation of the input data:"
      ]
    },
    {
      "cell_type": "markdown",
      "source": [
        ""
      ],
      "metadata": {
        "id": "mNMtwCyjN-JD"
      }
    },
    {
      "cell_type": "code",
      "source": [
        "#Now we will start with the techniques for text preprocessing and clean the data which is ready to build\n",
        "#a model. let us see the first text and when we will apply the text cleaning technique we will observe\n",
        "#the changes to the first text.\n",
        "\n"
      ],
      "metadata": {
        "id": "-PXKt0xDqxVK"
      },
      "execution_count": 23,
      "outputs": []
    },
    {
      "cell_type": "markdown",
      "source": [
        "### 0 drop duplicates"
      ],
      "metadata": {
        "id": "R0gWWbiSWRU9"
      }
    },
    {
      "cell_type": "code",
      "source": [
        ""
      ],
      "metadata": {
        "id": "lvci0PRiZ793"
      },
      "execution_count": 23,
      "outputs": []
    },
    {
      "cell_type": "code",
      "source": [
        "#count the number of False (= the number of non-duplicate rows),\n",
        "print(~df_train.duplicated())"
      ],
      "metadata": {
        "colab": {
          "base_uri": "https://localhost:8080/"
        },
        "id": "E72LnmijXRRk",
        "outputId": "09873276-a50c-4e12-eead-b7d78d65502d"
      },
      "execution_count": 24,
      "outputs": [
        {
          "output_type": "stream",
          "name": "stdout",
          "text": [
            "0        True\n",
            "1        True\n",
            "2        True\n",
            "3        True\n",
            "4        True\n",
            "         ... \n",
            "59995    True\n",
            "59996    True\n",
            "59997    True\n",
            "59998    True\n",
            "59999    True\n",
            "Length: 60000, dtype: bool\n"
          ]
        }
      ]
    },
    {
      "cell_type": "code",
      "source": [
        "#count the number duplicate rows\n",
        "print(df_test.duplicated().sum())"
      ],
      "metadata": {
        "colab": {
          "base_uri": "https://localhost:8080/"
        },
        "id": "DKRmIlRZWc1a",
        "outputId": "d5013c0f-ec10-4a92-ae90-22b4e4160670"
      },
      "execution_count": 25,
      "outputs": [
        {
          "output_type": "stream",
          "name": "stdout",
          "text": [
            "0\n"
          ]
        }
      ]
    },
    {
      "cell_type": "code",
      "source": [
        "#You can also count True and False together with value_counts()\n",
        "print(df_train.duplicated().value_counts())"
      ],
      "metadata": {
        "colab": {
          "base_uri": "https://localhost:8080/"
        },
        "id": "Mb7zEMlMaK5B",
        "outputId": "6ac5cda6-3869-4f74-fb2c-9e076f66c4c7"
      },
      "execution_count": 26,
      "outputs": [
        {
          "output_type": "stream",
          "name": "stdout",
          "text": [
            "False    60000\n",
            "dtype: int64\n"
          ]
        }
      ]
    },
    {
      "cell_type": "code",
      "source": [
        "# First, lets drop duplicates (if any)\n",
        "df_train.drop_duplicates(inplace=True)"
      ],
      "metadata": {
        "id": "EEkMwkapN9P7"
      },
      "execution_count": 27,
      "outputs": []
    },
    {
      "cell_type": "code",
      "source": [
        "print(df_train.duplicated().sum())"
      ],
      "metadata": {
        "colab": {
          "base_uri": "https://localhost:8080/"
        },
        "id": "PvYloVJCXGAL",
        "outputId": "a5d8a33a-1a4b-45ac-8e09-45fe54563798"
      },
      "execution_count": 28,
      "outputs": [
        {
          "output_type": "stream",
          "name": "stdout",
          "text": [
            "0\n"
          ]
        }
      ]
    },
    {
      "cell_type": "code",
      "source": [
        "#socend we don't need the label 2 \n",
        "df_train=df_train[df_train.label != 2] "
      ],
      "metadata": {
        "id": "bgmUmP5KOgU9"
      },
      "execution_count": 29,
      "outputs": []
    },
    {
      "cell_type": "code",
      "source": [
        "# #drop all the columns that contains null values more than 50 %\n",
        "# df_train=df_train.loc[:, pd.isnull(df_train).sum()>len(df_train)*.5] "
      ],
      "metadata": {
        "id": "EyJ1iv_BpwTG"
      },
      "execution_count": 30,
      "outputs": []
    },
    {
      "cell_type": "markdown",
      "source": [
        "### 1 Expand Contractions"
      ],
      "metadata": {
        "id": "72YUkKkusZgc"
      }
    },
    {
      "cell_type": "markdown",
      "source": [
        "Contraction is the shortened form of a word like don’t stands for do not, aren’t stands for are not. Like this, we need to expand this contraction in the text data for better analysis. i can get the dictionary of contraction by creating my own and use it .\n",
        "\n"
      ],
      "metadata": {
        "id": "dUWO9Ur_tAo8"
      }
    },
    {
      "cell_type": "code",
      "source": [
        "df_train['text'][0]"
      ],
      "metadata": {
        "id": "3hoW0E0Ftn4o",
        "colab": {
          "base_uri": "https://localhost:8080/",
          "height": 174
        },
        "outputId": "e73db8fd-4731-474d-e009-ebb8a04c3ca7"
      },
      "execution_count": 31,
      "outputs": [
        {
          "output_type": "execute_result",
          "data": {
            "text/plain": [
              "'A group of friends began to volunteer at a homeless shelter after their neighbors protested. \"Seeing another person who鈥檚 also in need, you should just naturally be like, 鈥業 want to help that person.鈥?\\t0.84\\t1\\t0\\t0\\nNeoMegaRyuMKII\\tdenmark just trolled trump with a bus watch what happens when it moves\\t1489962542.0\\tarchive.is\\tTrue\\t60cu90\\thttps://external-preview.redd.it/s8HQxoWDwn2pt3eeBjIqetmGxvVMBBxaD93W08lGZrs.jpg?width=320&crop=smart&auto=webp&s=46f0ad18132126cab9823da4f3a6d6ec3a281bb2\\t\\t5.0\\t36\\tsavedyouaclick\\tDenmark Just Trolled Trump With A Bus. Watch What Happens When It Moves | Back wheels look like eyes that spin crazily as the bus moves (saved a click + short video that goes into slow motion (video mirror in comments since archive removed it))\\t0.92\\t0\\t2\\t5\\natbthefirst\\tyoung man theres no need to feel down\\t1429563057.0\\t\\tTrue\\tcqiw655\\thttp://i.imgur.com/rxTKm4U.jpg\\t338ute\\t\\t6\\tpsbattle_artwork\\tYoung man, there\\'s no need to feel down\\t\\t0\\t2\\t4\\nbeosronlto\\tmy onion ring chimp\\t1491483860.0\\timgur.com\\tTrue\\t63ss2x\\thttps://external-preview.redd.it/5muewXGrxJ6YS_iYpjqiBiXpIdxR7d7Woyyln7E4Xe4.jpg?width=320&crop=smart&auto=webp&s=68f0308f16bf0aa9dab6a28260dd06c85ed67450\\t\\t0.0\\t2\\tpareidolia\\tMy onion ring chimp\\t0.63\\t0\\t2\\t2\\nfood_SS\\tthis is what we eat in the images description\\t1443409099.0\\timgur.com\\tTrue\\t3mnjdi\\thttps://external-preview.redd.it/lLESgQetBjASylhfFUw6CKMfbKdR00WZA_LDVdXpOog.jpg?width=320&crop=smart&auto=webp&s=0cb7c577cf8f78d74b23db11f0069d3f32248d31\\t\\t20.0\\t20\\tsubredditsimulator\\tThis is what we eat in the images description)\\t0.84\\t0\\t2\\t3\\nCardboardSoyuz\\tarizona man purchases home and discovers an underground hatch in backyard\\t1505215025.0\\tweb.archive.org\\tTrue\\t6zmas6\\thttps://external-preview.redd.it/FBVXMNmhDNTqADXsiP9UE-NxQ7Caq5kTInsgl-BSvWI.jpg?width=320&crop=smart&auto=webp&s=cdf12b2b558aed4d0ad86199ea3d9592ff1f88c2\\t\\t7.0\\t613\\tsavedyouaclick\\tArizona Man Purchases Home And Discovers An Underground Hatch In Backyard | It leads to an old fall-out shelter in pretty good shape. It had a couple of cans of supplies in it, too. 17 clicks.\\t0.98\\t0\\t2\\t5\\nHarry_Butz\\tthe rpics awards spell out penis\\t1565605730.0\\ti.redd.it\\tTrue\\tcpajkp\\thttps://preview.redd.it/w948d5n4wzf31.jpg?width=320&crop=smart&auto=webp&s=a165988b2d70ef55257a8eeaeedf51b710f1a55b\\t\\t3.0\\t10\\tmildlyinteresting\\tThe /r/Pics awards spell out penis\\t0.71\\t1\\t0\\t0\\nbillarastg\\ttime traveller assassin attemps to take down obama before he becomes president circa\\t1551597882.0\\ti.redd.it\\tTrue\\tawrrxk\\thttps://preview.redd.it/behjedplvuj21.jpg?width=320&crop=smart&auto=webp&s=42ad1a826403a3575fbb94e823d47999b34cfbbd\\t\\t6.0\\t28\\tfakehistoryporn\\tTime traveller Assassin attemps to take down Obama before he becomes president. (circa 1952).\\t0.87\\t0\\t2\\t2\\nMissMaria86\\tew\\t1407262199.0\\t\\tTrue\\tcjhqf8a\\thttp://i.imgur.com/YBE2jms.jpg\\t2coipv\\t\\t95\\tpsbattle_artwork\\tEw.\\t\\t0\\t2\\t4\\nsnlisha\\tislamic state fighters reenter ancient palmyra in syria\\t1481392782.0\\tbbc.com\\tTrue\\t5hlch8\\thttps://external-preview.redd.it/rofxJBXObS76fw5nPTXg4tT9OXFHK-kvH33bZQyaO_8.jpg?width=320&crop=smart&auto=webp&s=02cc00050036279a3ae533ba8540830043fff74a\\t\\t0.0\\t5\\tneutralnews\\tIslamic State fighters \\'re-enter ancient Palmyra\\' in Syria\\t0.79\\t1\\t0\\t0\\nRaidyRafy\\ttop golf red line warning sign how many people have gotten hurt\\t1568605849.0\\ti.redd.it\\tTrue\\td4vcq7\\thttps://preview.redd.it/xtjcu5f0pvm31.jpg?width=320&crop=smart&auto=webp&s=9562ffe4127a0d6d34360e4df8a81e05de126519\\t\\t4.0\\t12\\tmildlyinteresting\\tTop Golf red line warning sign. How many people have gotten hurt?\\t0.83\\t1\\t0\\t0\\nBudrickBundy\\tthe nfls ratings slide was mainly fueled by white viewers and younger viewers\\t1516117668.0\\tawfulannouncing.com\\tTrue\\t7qt5fc\\thttps://external-preview.redd.it/vq1q3olqrN3tSCHnl2XJm349y4aGAnSEyepo6LkyFYQ.jpg?width=320&crop=smart&auto=webp&s=38bc55460c5785dbfb3dc2932c1e0321a1fe626c\\t\\t17.0\\t5\\tusanews\\tThe NFL\\'s 2017 ratings slide was mainly fueled by white viewers and younger viewers\\t0.69\\t1\\t0\\t0\\nbbizzess\\tmeryl streep marries\\t1475121888.0\\tarchive.is\\tTrue\\t550gen\\thttps://external-preview.redd.it/QaioECFejw0fZN8SE5WoeGkfu3rRHO3fbYKq_4Ae3b4.jpg?width=320&crop=smart&auto=webp&s=8a4d0ebe34e0e8f3b3b4f163a8369c92e1fb2c14\\t\\t1.0\\t34\\tsavedyouaclick\\tMeryl Streep Marries | Article says she\\'s marrying Robert Redford. She is not.\\t0.94\\t0\\t2\\t5\\nApiContraption\\tother discussions\\t1393550555.0\\t\\tTrue\\tcfqkht6\\thttp://i.imgur.com/XZObVs4%2ejpg\\t1z5152\\t\\t1\\tpsbattle_artwork\\tOther Discussions\\t\\t0\\t2\\t4\\nAskesl\\tsquash dingres\\t1447949876.0\\t\\tTrue\\tcx5t9jt\\thttp://i.imgur.com/4WrG3N6.jpg\\t3tfgjo\\t\\t242\\tpsbattle_artwork\\tSquash d\\'Ingres\\t\\t0\\t2\\t4\\nGrahamSaysNO\\tthis cactus man\\t1409262115.0\\timgur.com\\tTrue\\t2ev0r6\\thttps://external-preview.redd.it/tod214DPHe8fopeWeF_9MJUVbRXDR2tr78uzMrZSa2E.jpg?width=320&crop=smart&auto=webp&s=e6486a1ed49915388d5b756ae11b4f5e88bc64c4\\t\\t6.0\\t54\\tpareidolia\\tThis cactus man.\\t0.91\\t0\\t2\\t2\\nIShitPoopsALot\\troommates stab each other over debate between iphone and samsung\\t1429265409.0\\tktul.com\\tTrue\\t32wpnv\\thttps://external-preview.redd.it/TypZIEwJmWacgv45TjxxCrHXytjUCkLmhYjZUZatYmU.jpg?width=320&crop=smart&auto=webp&s=4cef96c45cc0f50e2d64f829daa184449136b89e\\t\\t183.0\\t1175\\tnottheonion\\tRoommates stab each other over debate between iPhone and Samsung.\\t0.93\\t1\\t0\\t0\\nslithek\\tgot rid of the ant\\t1365912044.0\\t\\tTrue\\tc9es9hx\\thttp://i.imgur.com/HOCK1nE.jpg\\t1cairr\\t\\t99\\tpsbattle_artwork\\tGot rid of the ant...\\t\\t0\\t2\\t4\\nJJ935\\ttitanic\\t1557350663.0\\t\\tTrue\\temv7vw0\\thttps://i.imgur.com/WIYL8aT.jpg\\tbm9yhe\\t\\t3\\tpsbattle_artwork\\tTitanic\\t\\t0\\t2\\t4\\nThigira\\tdeclaration of independence philadelphia\\t1553375330.0\\ti.redd.it\\tTrue\\tb4o9wf\\thttps://preview.redd.it/9v1epg3voxn21.jpg?width=320&crop=smart&auto=webp&s=eece10bb46d039890257c34ace5de65900928c13\\t\\t3.0\\t81\\tfakehistoryporn\\tDeclaration of Independence. Philadelphia, 1776. Colorized\\t0.91\\t0\\t2\\t2\\nBobblee20\\tthis cloud formation against a sunrise looks like a fire tornado\\t1551025203.0\\ti.redd.it\\tTrue\\tau9fsm\\thttps://preview.redd.it/f6kfxc7qkji21.jpg?width=320&crop=smart&auto=webp&s=bd863086c477286b4c2cdb4ca3fa0b547494c118\\t\\t1.0\\t48\\tmildlyinteresting\\tThis cloud formation against a sunrise looks like a fire tornado\\t0.93\\t1\\t0\\t0\\nChispy\\tobligatory faceswap\\t1472415912.0\\t\\tTrue\\td70cdmk\\thttp://i.imgur.com/KbRXBLs.jpg\\t4zzhjk\\t\\t60\\tpsbattle_artwork\\tobligatory faceswap\\t\\t0\\t2\\t4\\nVt412\\texcited dog\\t1367321385.0\\ti.imgur.com\\tTrue\\t1dekok\\thttps://external-preview.redd.it/ESPM-tTuK3werLgfWG_wBsw_trUSDNU4bI5s2jVRAgQ.png?width=108&crop=smart&auto=webp&s=6bdf4d9c8ec6b3100f803c1cf0848f49a5aee344\\t\\t1.0\\t1\\tphotoshopbattles\\tExcited dog\\t0.53\\t1\\t0\\t0\\nratchetraccoon\\tphotograph of first interracial family in pennsylvania after interracial marriage is legalized circa\\t1524449884.0\\ti.redd.it\\tTrue\\t8e84ku\\thttps://preview.redd.it/mydnsd5oikt01.jpg?width=320&crop=smart&auto=webp&s=dbcf91c9c5aacb9f49c2e2cdf5f9f8dcca3b7d8d\\t\\t4.0\\t103\\tfakehistoryporn\\tColorized photograph of first interracial family in Pennsylvania after interracial marriage is legalized, circa 1780\\t0.97\\t0\\t2\\t2\\nMrtenpence\\tmy local bus has usb chargers in every seat\\t1537876887.0\\timgur.com\\tTrue\\t9iri2s\\thttps://external-preview.redd.it/8OSU-4_TeshCI8i0-Qokoj4-GnuIeAsl1uS7Y5-yAko.jpg?width=320&crop=smart&auto=webp&s=ccbf8c98e0c00fb8f459a421a4a3d5f29dc05a18\\t\\t32.0\\t261\\tmildlyinteresting\\tMy local bus has USB chargers in every seat\\t0.92\\t1\\t0\\t0\\nLucastWaddle\\tthe fact that people keep buying this stuff at the ace harware i work at in texas\\t1561857484.0\\ti.redd.it\\tTrue\\tc7790i\\thttps://preview.redd.it/uj09xvsnae731.jpg?width=320&crop=smart&auto=webp&s=9b174799db2c906c646b9a8999e76d4dedc97a09\\t\\t4.0\\t7\\tmildlyinteresting\\tThe fact that people keep buying this stuff at the Ace Harware I work at in Texas.\\t0.82\\t1\\t0\\t0\\nOriginalstix\\thuge tennis racket or mini federer\\t1451981052.0\\t\\tTrue\\tcymkq8f\\thttp://i.imgur.com/kWNXbnZ.jpg\\t3zfune\\t\\t1\\tpsbattle_artwork\\thuge tennis racket or mini federer?\\t\\t0\\t2\\t4\\nmangobutter6179\\tthese cigs in mexico have a photo of a dead body on it also picked it up at a pharmacy who was selling it secretly lol\\t1568731999.0\\ti.redd.it\\tTrue\\td5i3v2\\thttps://preview.redd.it/jy5rsoi446n31.jpg?width=320&crop=smart&auto=webp&s=30c4d1ab9ff12513839b3492606c02d4dad3fedf\\t\\t7.0\\t8\\tmildlyinteresting\\tThese cigs in Mexico have a photo of a dead body on it, also picked it up at a pharmacy who was selling it secretly lol\\t0.75\\t1\\t0\\t0\\n9elefanttwoothpaste7\\tfat man bomb dropped on nagasaki\\t1501655233.0\\ti.imgur.com\\tTrue\\t6r2cz7\\thttps://external-preview.redd.it/Pk13Js7E_zB5abguKu7q7vJkzSol8soRomMY2bQsOcU.jpg?width=320&crop=smart&auto=webp&s=1846378b13372ae5a072f7c7494bc15b9243288d\\t\\t0.0\\t4\\tmisleadingthumbnails\\tFat Man bomb dropped on Nagasaki, 1945 (colorized)\\t0.57\\t0\\t2\\t2\\nViperdream\\tdeath is close\\t1364940402.0\\t\\tTrue\\tc978mws\\thttp://i.imgur.com/vW3hyor.jpg\\t1biplz\\t\\t1\\tpsbattle_artwork\\tDeath is close...\\t\\t0\\t2\\t4\\nMohhh777\\tbritish soldiers during a last stand in the battle of el alamein\\t1520350464.0\\ti.redd.it\\tTrue\\t82fx19\\thttps://preview.redd.it/q0pxntkzw5k01.jpg?width=320&crop=smart&auto=webp&s=f5e3a60c7d11e99167a41d139f7aafadfd572eab\\t\\t1.0\\t6\\tfakehistoryporn\\tBritish soldiers during a last stand in the battle of el alamein (1942,colorized)\\t0.87\\t0\\t2\\t2\\nWaffleSmoof\\ta year old doingthis\\t1466958003.0\\ti.imgur.com\\tTrue\\t4pyfx6\\thttps://external-preview.redd.it/E5eDuxcbUIShmnalJeNwxFdygee8fD8wnPkva04grGk.jpg?width=320&crop=smart&auto=webp&s=a55dceaa0d3d8be7b860c503b3ebbe881b2c4de9\\t\\t8.0\\t5\\tphotoshopbattles\\tPsBattle: A 4-year old doing...this\\t0.86\\t1\\t0\\t0\\nj_Wlms\\tboov\\t1480133670.0\\t\\tTrue\\tdafx4a6\\thttp://i64.tinypic.com/2iqi36.jpg\\t5etd1l\\t\\t3\\tpsbattle_artwork\\tboov\\t\\t0\\t2\\t4\\nLordMetrognome\\tthese puppies\\t1560574409.0\\ti.redd.it\\tTrue\\tc0tmcc\\thttps://preview.redd.it/cfv54djfbg431.jpg?width=320&crop=smart&auto=webp&s=4e3def0be13bf80708e56b7d1d787da9dc992953\\t\\t6.0\\t35\\tphotoshopbattles\\tPsBattle: These 3 puppies\\t0.85\\t1\\t0\\t0\\nswigsweg8897\\twe raced another plane on my flight back from europe the other day\\t1536676609.0\\timgur.com\\tTrue\\t9ey3ng\\thttps://external-preview.redd.it/gG22KFjIVjNARSyZPlTpL34Fs_O-IJ-Po07K_4JCkBA.jpg?width=320&crop=smart&auto=webp&s=21d02ead80ce93e5a3066d4285bd580a3d98d700\\t\\t5.0\\t13\\tmildlyinteresting\\tWe raced another plane on my flight back from Europe the other day\\t0.85\\t1\\t0\\t0\\nBlackjack115\\ttexas woman uses her coupon clipping skills to help hurricane survivors\\t1505681867.0\\tabcnews.go.com\\tTrue\\t70q7na\\thttps://external-preview.redd.it/X34E8Gwjznfyqi_wuBHow-e6zi3caqVn8IQ8zWx82CU.jpg?width=320&crop=smart&auto=webp&s=ba32edcc58727c1de53e72a37fd51aeae0ef9887\\t\\t615.0\\t29035\\tupliftingnews\\tTexas woman uses her coupon clipping skills to help hurricane survivors\\t0.87\\t1\\t0\\t0\\nApiContraption\\tcutouts\\t1412348760.0\\t\\tTrue\\tckzeba8\\thttp://i.imgur.com/uSH1Cwe%2ejpg\\t2i6ymd\\t\\t2\\tpsbattle_artwork\\tcutouts\\t\\t0\\t2\\t4\\njargos\\tidk might be nsfw\\t1373170717.0\\t\\tTrue\\tcaxeexm\\thttp://i.imgur.com/B9oD0ac.jpg\\t1hs7jh\\t\\t15\\tpsbattle_artwork\\tIDK, might be NSFW\\t\\t0\\t2\\t4\\nene_due_rabe\\tdeep inside shes no different\\t1524409377.0\\t\\tTrue\\tdxs4e1p\\thttps://i.imgur.com/pQnFFRS.jpg\\t8e2py4\\t\\t3\\tpsbattle_artwork\\tDeep inside she\\'s no different\\t\\t0\\t2\\t4\\nRizilus\\tbig head\\t1524535418.0\\t\\tTrue\\tdxv3mcd\\thttps://i.imgur.com/Kfo4au9.jpg\\t8ee4tt\\t\\t2\\tpsbattle_artwork\\tBig Head\\t\\t0\\t2\\t4\\nchibucks\\teveryone looks so yummy\\t1445894162.0\\t\\tTrue\\tcwdtq0c\\thttp://i.imgur.com/FA7Tni2.jpg\\t3q9z4g\\t\\t15\\tpsbattle_artwork\\teveryone looks so yummy\\t\\t0\\t2\\t4\\n\\tthis guy at the adult vr festival in tokyo this weekend\\t1465819487.0\\ti.kinja-img.com\\tTrue\\t4nvas9\\thttps://external-preview.redd.it/1XEjZYusUBXwJndja1lHPuCW4NFz7j80OCfBd7XiTAY.jpg?width=320&crop=smart&auto=webp&s=e80adfcb9b709fb98556ce09261ee53de045800b\\t\\t349.0\\t9551\\tphotoshopbattles\\tPsBattle: This guy at the Adult VR Festival in Tokyo this weekend\\t0.89\\t1\\t0\\t0\\nDizzyEllie\\tobligitory\\t1476226457.0\\t\\tTrue\\td8o0chd\\thttp://i.imgur.com/z0PnFE0.jpg\\t56z02p\\t\\t2\\tpsbattle_artwork\\tObligitory.\\t\\t0\\t2\\t4\\nall-top-today_SS\\telephant seal pup says hello to a post from a few floors above\\t1559336297.0\\ti.redd.it\\tTrue\\tbvctt3\\thttps://preview.redd.it/g0c53pmrlf131.jpg?width=320&crop=smart&auto=webp&s=1de627c4a23e85b629d107d7e1ebc7b06b1d39ee\\t\\t18.0\\t101\\tsubredditsimulator\\tElephant seal pup says hello to a post from a few floors above\\t0.96\\t0\\t2\\t3\\nshinji3\\twhat elon doesnt want you to see\\t1518287809.0\\t\\tTrue\\tdu1mjqa\\thttps://i.imgur.com/xRbpvxW.jpg\\t7wl1vo\\t\\t71\\tpsbattle_artwork\\tWhat Elon doesn\\'t want you to see\\t\\t0\\t2\\t4\\nTheCreativeNick\\tblue turtle with a dirty shell\\t1563833741.0\\ti.redd.it\\tTrue\\tcgjwhn\\thttps://preview.redd.it/9qdsw151jxb31.jpg?width=320&crop=smart&auto=webp&s=c4c5c2ade1810433a3e371e72a5a2d848464f7ae\\t\\t408.0\\t24511\\tphotoshopbattles\\tPsBattle: Blue turtle with a dirty shell\\t0.96\\t1\\t0\\t0\\ncauseofb\\tjapanese depiction of an american warship\\t1476659895.0\\ti.imgur.com\\tTrue\\t57u8n9\\thttps://external-preview.redd.it/DaZZGGLadbj-qSzlJ96STTAfhrlUqz6MbTn5AK3wsGw.jpg?width=320&crop=smart&auto=webp&s=d188c0f83b3d2e8072ad9c7bf585cbb682876baa\\t\\t67.0\\t1105\\tpropagandaposters\\tJapanese depiction of an American warship, 1854\\t0.97\\t0\\t1\\t5\\n\\tlittle girl in a white dress looking out a window\\t1436536622.0\\timgur.com\\tTrue\\t3csr8n\\thttps://external-preview.redd.it/PwEtMoKSLV6YSSn3kpk-UyRocldOPcAEAGqQO9XoO2k.jpg?width=320&crop=smart&auto=webp&s=87f9ff5781ff0b8153faba6f7387211fa953b0bf\\t\\t6.0\\t100\\tmisleadingthumbnails\\tLittle girl in a white dress looking out a window.\\t0.86\\t0\\t2\\t2\\nDrXtreme28\\tkeep your head above\\t1399860594.0\\t\\tTrue\\tchfm9uw\\thttp://i.imgur.com/J4Qwfi4.jpg\\t25b9e2\\t\\t31\\tpsbattle_artwork\\tKeep your head above\\t\\t0\\t2\\t4\\nIf_You_Only_Knew\\toh north koreas invading well let me just go and get my fucking clown shoes\\t1363142770.0\\t\\tTrue\\tc8umnyd\\thttp://i.imgur.com/HMPT52I.jpg\\t1a6upj\\t\\t27\\tpsbattle_artwork\\tOh, North Korea\\'s invading? Well, let me just go and get my fucking clown shoes.\\t\\t0\\t2\\t4\\nGetMotivated_SS\\tarticle one of the rest of us are wasting our lives\\t1448287091.0\\tbrainpickings.org\\tTrue\\t3txxj1\\thttps://external-preview.redd.it/r2qrGFfHPGuFWTCeXdjcly6Ew7UlC5yR2urSZuHoW74.jpg?width=320&crop=smart&auto=webp&s=381feada4235ba6e4686f149b41f78007bd7a02e\\t\\t20.0\\t9\\tsubredditsimulator\\t[Article] One of the rest of us are wasting our lives\\t0.91\\t0\\t2\\t3\\nartunitinc\\tthis one\\t1468845225.0\\t\\tTrue\\td5gpz50\\thttp://i.imgur.com/JPJBsz0.jpg\\t4td1bc\\t\\t33\\tpsbattle_artwork\\tthis one?\\t\\t0\\t2\\t4\\nkoi666\\tbored christmas cat\\t1482768667.0\\ti.reddituploads.com\\tTrue\\t5kecl5\\thttps://external-preview.redd.it/_oeEZ21UIWYl9qySzhuhOBihXfL8pHd-q4ThRcoTuTI.jpg?width=320&crop=smart&auto=webp&s=3f81abc8b3013db4e2121338709f2242c20abdcb\\t\\t1.0\\t5\\tphotoshopbattles\\tPsBattle: Bored Christmas cat\\t0.86\\t1\\t0\\t0\\nkluste\\twhere is the fucking backup\\t1476130417.0\\t\\tTrue\\td8mbzus\\thttp://i.imgur.com/4BkCTlU.jpg\\t56tith\\t\\t2\\tpsbattle_artwork\\tWhere is the fucking backup!?!?!\\t\\t0\\t2\\t4\\nal0c-ac0c\\tbeen staring at this one eared cyclops mouse on my train ride through scotland\\t1568824896.0\\timgur.com\\tTrue\\td60g9w\\thttps://external-preview.redd.it/Y3Wr32rXNPudybPwgaFelgcf2rkiyrGSb9jmV8n0nCA.jpg?width=320&crop=smart&auto=webp&s=f99b7f97505aadb40d816857877158668a3b85b5\\t\\t1.0\\t6\\tpareidolia\\tBeen staring at this one eared Cyclops mouse on my train ride through Scotland.\\t0.88\\t0\\t2\\t2\\nall-top-today_SS\\tmy first gaming pc just arrived in brazil i am sick of politicians giving the same thing as donald trumps star on the head\\t1485817095.0\\ti.imgur.com\\tTrue\\t5r48ow\\thttps://external-preview.redd.it/ESPM-tTuK3werLgfWG_wBsw_trUSDNU4bI5s2jVRAgQ.png?width=108&crop=smart&auto=webp&s=6bdf4d9c8ec6b3100f803c1cf0848f49a5aee344\\t\\t20.0\\t31\\tsubredditsimulator\\tMy first gaming pc just arrived in Brazil, I am sick of politicians giving the same thing as Donald Trump\\'s star on the head\\t0.88\\t0\\t2\\t3\\nalsobrante\\tmit engineer browsing incognito mode on early computer\\t1538338579.0\\ti.imgur.com\\tTrue\\t9k9lgj\\thttps://external-preview.redd.it/O20cyX0xei4nvxlKlFepHyl3JcqI3Hm-pN7E2415_U8.png?width=320&crop=smart&auto=webp&s=d16e7d0d23250c36644e90b66e2e5c9fe559dd6d\\t\\t4.0\\t173\\tfakehistoryporn\\tMIT engineer browsing incognito mode on early computer (1983)\\t1.0\\t0\\t2\\t2\\nalloutnow\\ttrump blocks release of democratic memo on russia probe\\t1518225144.0\\treuters.com\\tTrue\\t7wi82s\\thttps://external-preview.redd.it/U5Y07YbILjhjvhQiiaawsr2jdIwnO2Fxd1C_d24xYw4.jpg?width=320&crop=smart&auto=webp&s=9edaf07bda93aa9a9d24ee418fa53470fbd32cc2\\t\\t1.0\\t23\\tusanews\\tTrump blocks release of Democratic memo on Russia probe | Reuters\\t0.83\\t1\\t0\\t0\\nFoxprowl\\tthe city of los angeles at night seen from space\\t1502384619.0\\ti.redd.it\\tTrue\\t6sup0y\\thttps://preview.redd.it/w3y6f99jixez.jpg?width=320&crop=smart&auto=webp&s=69fa24f2862da454d01a71b6639a27ad491fcbc6\\t\\t0.0\\t10\\tmisleadingthumbnails\\tThe city of Los Angeles at night seen from space\\t0.71\\t0\\t2\\t2\\nblackbanhmi\\ta coffee shop in vietnam where you can soak your feet in anklelevel water with swimming fish\\t1537851239.0\\ti.redd.it\\tTrue\\t9ip9m3\\thttps://preview.redd.it/y1grvezrfbo11.jpg?width=320&crop=smart&auto=webp&s=85a8240a4042389f1d53d9046f983993ddabebd8\\t\\t24.0\\t87\\tmildlyinteresting\\tA coffee shop in Vietnam, where you can soak your feet in ankle-level water with swimming fish\\t0.91\\t1\\t0\\t0\\nSimmo5150\\tthe strangers at the mountains of madness\\t1522416520.0\\ti.redd.it\\tTrue\\t88abtq\\thttps://preview.redd.it/f5vy9qi7kwo01.jpg?width=320&crop=smart&auto=webp&s=b819fa1c7096cf275cf65a26dca2e33b64e429aa\\t\\t2.0\\t49\\tfakealbumcovers\\tThe Strangers - At The Mountains Of Madness\\t0.98\\t0\\t2\\t1\\n\\tirafsky district tender compassions x\\t1422020514.0\\ti.imgur.com\\tTrue\\t2tehcz\\thttps://external-preview.redd.it/FZyyQnZrEkI997h31MdaUxrkQf4hlDirrd9uLXIckOc.png?width=320&crop=smart&auto=webp&s=c71ff486b5d749cd93313a3cc14d86cbeae3e2e2\\t\\t1.0\\t7\\tfakealbumcovers\\tIrafsky District - Tender Compassions {1040x1040}\\t1.0\\t0\\t2\\t1\\nroset_ta\\tthis world leader missing from his chair\\t1566852595.0\\ti.redd.it\\tTrue\\tcvtwtq\\thttps://preview.redd.it/poaq69oe7ti31.jpg?width=320&crop=smart&auto=webp&s=ad1bb72a6d731a440bcd33256c53b1504c1540a0\\t\\t14.0\\t30\\tphotoshopbattles\\tPsBattle: This world leader missing from his chair.\\t0.81\\t1\\t0\\t0\\nOxTox\\tmy cat dreaming about his future as a basketballer\\t1374694335.0\\ti.imgur.com\\tTrue\\t1iz5p0\\thttps://external-preview.redd.it/Kt6FWE0rz41rDzlHbrtZjl1nZl4SBnTOBquEJ7DHbyQ.jpg?width=320&crop=smart&auto=webp&s=d69173783daa7e0dba2c9d2b3abfdadc650d5d69\\t\\t6.0\\t3\\tphotoshopbattles\\tMy cat dreaming about his future as a basketballer.\\t0.72\\t1\\t0\\t0\\nChesleaFc\\ther period gone wild\\t1420259337.0\\ti.imgur.com\\tTrue\\t2r69ma\\thttps://external-preview.redd.it/psWSM7m7r_Zuw7dMUg_BBi4BLMor_CRXtEZkrcFyLww.jpg?width=320&crop=smart&auto=webp&s=fb315ebd5bdae391657e48b8fad4bdebe63b8af3\\t\\t5.0\\t63\\tmisleadingthumbnails\\tHer period gone wild\\t0.68\\t0\\t2\\t2\\nMyEmptyBagOfChips\\tthese snails crowded on a tree\\t1557935912.0\\ti.imgur.com\\tTrue\\tbozp05\\thttps://external-preview.redd.it/6O_jT6jvg3Hw1_yIeiJuo1c621jDd2cJYCQcb2JNkmo.jpg?width=320&crop=smart&auto=webp&s=c8acfe313a1737754086f16f07a30124da959b6a\\t\\t5.0\\t21\\tphotoshopbattles\\tPsBattle: These snails crowded on a tree\\t0.8\\t1\\t0\\t0\\nfried_egg_on_toast\\ti was driving and saw this house that had a sperm kite flying outside\\t1564947960.0\\ti.redd.it\\tTrue\\tcm0o0a\\thttps://preview.redd.it/krgpibi8khe31.jpg?width=320&crop=smart&auto=webp&s=18fb1c436e2a825af71a2380646a29297d51affc\\t\\t14.0\\t8\\tmildlyinteresting\\tI was driving and saw this house that had a sperm kite flying outside\\t0.79\\t1\\t0\\t0\\nramong941\\tdont skip leg day\\t1447339550.0\\ti.imgur.com\\tTrue\\t3sjdx0\\thttps://external-preview.redd.it/Y-UA9ez9xIbJ7DW4ee44psznfbgrZYDlp9MCd_aNS6M.jpg?width=320&crop=smart&auto=webp&s=e2fbd201c861263735f76e0ad196907448736152\\t\\t3.0\\t366\\tconfusing_perspective\\tDon\\'t skip leg day\\t0.95\\t0\\t2\\t2\\nApiContraption\\tcutouts\\t1407988458.0\\t\\tTrue\\tcjpqh64\\thttp://i.imgur.com/aQdK3Cd%2ejpg\\t2di8gm\\t\\t1\\tpsbattle_artwork\\tcutouts\\t\\t0\\t2\\t4\\nJohnJTaylor\\tstate has st elk sighting in more than centuries\\t1477570409.0\\tmsn.com\\tTrue\\t59nmlp\\thttps://external-preview.redd.it/GK9zzWdnSgLiJfA0UoZ-6RI4PgInibREyfSNBj_xZHo.jpg?width=320&crop=smart&auto=webp&s=31042c360e26d9aea8294e62ff4ea3636b5ff12f\\t\\t3.0\\t18\\tupliftingnews\\tState has 1st elk sighting in more than 2 centuries\\t0.89\\t1\\t0\\t0\\nWOSBen\\twish you were here\\t1468486664.0\\t\\tTrue\\td5bqhmr\\thttp://i.imgur.com/6dHjTDU.jpg\\t4srok6\\t\\t550\\tpsbattle_artwork\\t\"Wish you were here\"\"\"'"
            ],
            "application/vnd.google.colaboratory.intrinsic+json": {
              "type": "string"
            }
          },
          "metadata": {},
          "execution_count": 31
        }
      ]
    },
    {
      "cell_type": "code",
      "source": [
        "contractions_dict = {\"ain't\": \"are not\",\"'s\":\" is\",\"aren't\": \"are not\"}\n",
        "# Regular expression for finding contractions\n",
        "contractions_re=re.compile('(%s)' % '|'.join(contractions_dict.keys()))\n",
        "def expand_contractions(text,contractions_dict=contractions_dict):\n",
        "    def replace(match):\n",
        "        return contractions_dict[match.group(0)]\n",
        "    return contractions_re.sub(replace, text)\n",
        "# Expanding Contractions in the reviews\n",
        "df_train['text']=df_train['text'].apply(lambda x:expand_contractions(x))"
      ],
      "metadata": {
        "id": "B5SlKCv_sZAq",
        "outputId": "a1cd1a77-f686-41ff-dcfb-3a77f222f91c",
        "colab": {
          "base_uri": "https://localhost:8080/"
        }
      },
      "execution_count": 32,
      "outputs": [
        {
          "output_type": "stream",
          "name": "stderr",
          "text": [
            "/usr/local/lib/python3.7/dist-packages/ipykernel_launcher.py:9: SettingWithCopyWarning:\n",
            "\n",
            "\n",
            "A value is trying to be set on a copy of a slice from a DataFrame.\n",
            "Try using .loc[row_indexer,col_indexer] = value instead\n",
            "\n",
            "See the caveats in the documentation: https://pandas.pydata.org/pandas-docs/stable/user_guide/indexing.html#returning-a-view-versus-a-copy\n",
            "\n"
          ]
        }
      ]
    },
    {
      "cell_type": "code",
      "source": [
        "df_train['text'][0]"
      ],
      "metadata": {
        "colab": {
          "base_uri": "https://localhost:8080/",
          "height": 174
        },
        "id": "BC174wEKZBeg",
        "outputId": "acb0eb90-1297-4b7a-db92-4614f997d57f"
      },
      "execution_count": 33,
      "outputs": [
        {
          "output_type": "execute_result",
          "data": {
            "text/plain": [
              "'A group of friends began to volunteer at a homeless shelter after their neighbors protested. \"Seeing another person who鈥檚 also in need, you should just naturally be like, 鈥業 want to help that person.鈥?\\t0.84\\t1\\t0\\t0\\nNeoMegaRyuMKII\\tdenmark just trolled trump with a bus watch what happens when it moves\\t1489962542.0\\tarchive.is\\tTrue\\t60cu90\\thttps://external-preview.redd.it/s8HQxoWDwn2pt3eeBjIqetmGxvVMBBxaD93W08lGZrs.jpg?width=320&crop=smart&auto=webp&s=46f0ad18132126cab9823da4f3a6d6ec3a281bb2\\t\\t5.0\\t36\\tsavedyouaclick\\tDenmark Just Trolled Trump With A Bus. Watch What Happens When It Moves | Back wheels look like eyes that spin crazily as the bus moves (saved a click + short video that goes into slow motion (video mirror in comments since archive removed it))\\t0.92\\t0\\t2\\t5\\natbthefirst\\tyoung man theres no need to feel down\\t1429563057.0\\t\\tTrue\\tcqiw655\\thttp://i.imgur.com/rxTKm4U.jpg\\t338ute\\t\\t6\\tpsbattle_artwork\\tYoung man, there is no need to feel down\\t\\t0\\t2\\t4\\nbeosronlto\\tmy onion ring chimp\\t1491483860.0\\timgur.com\\tTrue\\t63ss2x\\thttps://external-preview.redd.it/5muewXGrxJ6YS_iYpjqiBiXpIdxR7d7Woyyln7E4Xe4.jpg?width=320&crop=smart&auto=webp&s=68f0308f16bf0aa9dab6a28260dd06c85ed67450\\t\\t0.0\\t2\\tpareidolia\\tMy onion ring chimp\\t0.63\\t0\\t2\\t2\\nfood_SS\\tthis is what we eat in the images description\\t1443409099.0\\timgur.com\\tTrue\\t3mnjdi\\thttps://external-preview.redd.it/lLESgQetBjASylhfFUw6CKMfbKdR00WZA_LDVdXpOog.jpg?width=320&crop=smart&auto=webp&s=0cb7c577cf8f78d74b23db11f0069d3f32248d31\\t\\t20.0\\t20\\tsubredditsimulator\\tThis is what we eat in the images description)\\t0.84\\t0\\t2\\t3\\nCardboardSoyuz\\tarizona man purchases home and discovers an underground hatch in backyard\\t1505215025.0\\tweb.archive.org\\tTrue\\t6zmas6\\thttps://external-preview.redd.it/FBVXMNmhDNTqADXsiP9UE-NxQ7Caq5kTInsgl-BSvWI.jpg?width=320&crop=smart&auto=webp&s=cdf12b2b558aed4d0ad86199ea3d9592ff1f88c2\\t\\t7.0\\t613\\tsavedyouaclick\\tArizona Man Purchases Home And Discovers An Underground Hatch In Backyard | It leads to an old fall-out shelter in pretty good shape. It had a couple of cans of supplies in it, too. 17 clicks.\\t0.98\\t0\\t2\\t5\\nHarry_Butz\\tthe rpics awards spell out penis\\t1565605730.0\\ti.redd.it\\tTrue\\tcpajkp\\thttps://preview.redd.it/w948d5n4wzf31.jpg?width=320&crop=smart&auto=webp&s=a165988b2d70ef55257a8eeaeedf51b710f1a55b\\t\\t3.0\\t10\\tmildlyinteresting\\tThe /r/Pics awards spell out penis\\t0.71\\t1\\t0\\t0\\nbillarastg\\ttime traveller assassin attemps to take down obama before he becomes president circa\\t1551597882.0\\ti.redd.it\\tTrue\\tawrrxk\\thttps://preview.redd.it/behjedplvuj21.jpg?width=320&crop=smart&auto=webp&s=42ad1a826403a3575fbb94e823d47999b34cfbbd\\t\\t6.0\\t28\\tfakehistoryporn\\tTime traveller Assassin attemps to take down Obama before he becomes president. (circa 1952).\\t0.87\\t0\\t2\\t2\\nMissMaria86\\tew\\t1407262199.0\\t\\tTrue\\tcjhqf8a\\thttp://i.imgur.com/YBE2jms.jpg\\t2coipv\\t\\t95\\tpsbattle_artwork\\tEw.\\t\\t0\\t2\\t4\\nsnlisha\\tislamic state fighters reenter ancient palmyra in syria\\t1481392782.0\\tbbc.com\\tTrue\\t5hlch8\\thttps://external-preview.redd.it/rofxJBXObS76fw5nPTXg4tT9OXFHK-kvH33bZQyaO_8.jpg?width=320&crop=smart&auto=webp&s=02cc00050036279a3ae533ba8540830043fff74a\\t\\t0.0\\t5\\tneutralnews\\tIslamic State fighters \\'re-enter ancient Palmyra\\' in Syria\\t0.79\\t1\\t0\\t0\\nRaidyRafy\\ttop golf red line warning sign how many people have gotten hurt\\t1568605849.0\\ti.redd.it\\tTrue\\td4vcq7\\thttps://preview.redd.it/xtjcu5f0pvm31.jpg?width=320&crop=smart&auto=webp&s=9562ffe4127a0d6d34360e4df8a81e05de126519\\t\\t4.0\\t12\\tmildlyinteresting\\tTop Golf red line warning sign. How many people have gotten hurt?\\t0.83\\t1\\t0\\t0\\nBudrickBundy\\tthe nfls ratings slide was mainly fueled by white viewers and younger viewers\\t1516117668.0\\tawfulannouncing.com\\tTrue\\t7qt5fc\\thttps://external-preview.redd.it/vq1q3olqrN3tSCHnl2XJm349y4aGAnSEyepo6LkyFYQ.jpg?width=320&crop=smart&auto=webp&s=38bc55460c5785dbfb3dc2932c1e0321a1fe626c\\t\\t17.0\\t5\\tusanews\\tThe NFL is 2017 ratings slide was mainly fueled by white viewers and younger viewers\\t0.69\\t1\\t0\\t0\\nbbizzess\\tmeryl streep marries\\t1475121888.0\\tarchive.is\\tTrue\\t550gen\\thttps://external-preview.redd.it/QaioECFejw0fZN8SE5WoeGkfu3rRHO3fbYKq_4Ae3b4.jpg?width=320&crop=smart&auto=webp&s=8a4d0ebe34e0e8f3b3b4f163a8369c92e1fb2c14\\t\\t1.0\\t34\\tsavedyouaclick\\tMeryl Streep Marries | Article says she is marrying Robert Redford. She is not.\\t0.94\\t0\\t2\\t5\\nApiContraption\\tother discussions\\t1393550555.0\\t\\tTrue\\tcfqkht6\\thttp://i.imgur.com/XZObVs4%2ejpg\\t1z5152\\t\\t1\\tpsbattle_artwork\\tOther Discussions\\t\\t0\\t2\\t4\\nAskesl\\tsquash dingres\\t1447949876.0\\t\\tTrue\\tcx5t9jt\\thttp://i.imgur.com/4WrG3N6.jpg\\t3tfgjo\\t\\t242\\tpsbattle_artwork\\tSquash d\\'Ingres\\t\\t0\\t2\\t4\\nGrahamSaysNO\\tthis cactus man\\t1409262115.0\\timgur.com\\tTrue\\t2ev0r6\\thttps://external-preview.redd.it/tod214DPHe8fopeWeF_9MJUVbRXDR2tr78uzMrZSa2E.jpg?width=320&crop=smart&auto=webp&s=e6486a1ed49915388d5b756ae11b4f5e88bc64c4\\t\\t6.0\\t54\\tpareidolia\\tThis cactus man.\\t0.91\\t0\\t2\\t2\\nIShitPoopsALot\\troommates stab each other over debate between iphone and samsung\\t1429265409.0\\tktul.com\\tTrue\\t32wpnv\\thttps://external-preview.redd.it/TypZIEwJmWacgv45TjxxCrHXytjUCkLmhYjZUZatYmU.jpg?width=320&crop=smart&auto=webp&s=4cef96c45cc0f50e2d64f829daa184449136b89e\\t\\t183.0\\t1175\\tnottheonion\\tRoommates stab each other over debate between iPhone and Samsung.\\t0.93\\t1\\t0\\t0\\nslithek\\tgot rid of the ant\\t1365912044.0\\t\\tTrue\\tc9es9hx\\thttp://i.imgur.com/HOCK1nE.jpg\\t1cairr\\t\\t99\\tpsbattle_artwork\\tGot rid of the ant...\\t\\t0\\t2\\t4\\nJJ935\\ttitanic\\t1557350663.0\\t\\tTrue\\temv7vw0\\thttps://i.imgur.com/WIYL8aT.jpg\\tbm9yhe\\t\\t3\\tpsbattle_artwork\\tTitanic\\t\\t0\\t2\\t4\\nThigira\\tdeclaration of independence philadelphia\\t1553375330.0\\ti.redd.it\\tTrue\\tb4o9wf\\thttps://preview.redd.it/9v1epg3voxn21.jpg?width=320&crop=smart&auto=webp&s=eece10bb46d039890257c34ace5de65900928c13\\t\\t3.0\\t81\\tfakehistoryporn\\tDeclaration of Independence. Philadelphia, 1776. Colorized\\t0.91\\t0\\t2\\t2\\nBobblee20\\tthis cloud formation against a sunrise looks like a fire tornado\\t1551025203.0\\ti.redd.it\\tTrue\\tau9fsm\\thttps://preview.redd.it/f6kfxc7qkji21.jpg?width=320&crop=smart&auto=webp&s=bd863086c477286b4c2cdb4ca3fa0b547494c118\\t\\t1.0\\t48\\tmildlyinteresting\\tThis cloud formation against a sunrise looks like a fire tornado\\t0.93\\t1\\t0\\t0\\nChispy\\tobligatory faceswap\\t1472415912.0\\t\\tTrue\\td70cdmk\\thttp://i.imgur.com/KbRXBLs.jpg\\t4zzhjk\\t\\t60\\tpsbattle_artwork\\tobligatory faceswap\\t\\t0\\t2\\t4\\nVt412\\texcited dog\\t1367321385.0\\ti.imgur.com\\tTrue\\t1dekok\\thttps://external-preview.redd.it/ESPM-tTuK3werLgfWG_wBsw_trUSDNU4bI5s2jVRAgQ.png?width=108&crop=smart&auto=webp&s=6bdf4d9c8ec6b3100f803c1cf0848f49a5aee344\\t\\t1.0\\t1\\tphotoshopbattles\\tExcited dog\\t0.53\\t1\\t0\\t0\\nratchetraccoon\\tphotograph of first interracial family in pennsylvania after interracial marriage is legalized circa\\t1524449884.0\\ti.redd.it\\tTrue\\t8e84ku\\thttps://preview.redd.it/mydnsd5oikt01.jpg?width=320&crop=smart&auto=webp&s=dbcf91c9c5aacb9f49c2e2cdf5f9f8dcca3b7d8d\\t\\t4.0\\t103\\tfakehistoryporn\\tColorized photograph of first interracial family in Pennsylvania after interracial marriage is legalized, circa 1780\\t0.97\\t0\\t2\\t2\\nMrtenpence\\tmy local bus has usb chargers in every seat\\t1537876887.0\\timgur.com\\tTrue\\t9iri2s\\thttps://external-preview.redd.it/8OSU-4_TeshCI8i0-Qokoj4-GnuIeAsl1uS7Y5-yAko.jpg?width=320&crop=smart&auto=webp&s=ccbf8c98e0c00fb8f459a421a4a3d5f29dc05a18\\t\\t32.0\\t261\\tmildlyinteresting\\tMy local bus has USB chargers in every seat\\t0.92\\t1\\t0\\t0\\nLucastWaddle\\tthe fact that people keep buying this stuff at the ace harware i work at in texas\\t1561857484.0\\ti.redd.it\\tTrue\\tc7790i\\thttps://preview.redd.it/uj09xvsnae731.jpg?width=320&crop=smart&auto=webp&s=9b174799db2c906c646b9a8999e76d4dedc97a09\\t\\t4.0\\t7\\tmildlyinteresting\\tThe fact that people keep buying this stuff at the Ace Harware I work at in Texas.\\t0.82\\t1\\t0\\t0\\nOriginalstix\\thuge tennis racket or mini federer\\t1451981052.0\\t\\tTrue\\tcymkq8f\\thttp://i.imgur.com/kWNXbnZ.jpg\\t3zfune\\t\\t1\\tpsbattle_artwork\\thuge tennis racket or mini federer?\\t\\t0\\t2\\t4\\nmangobutter6179\\tthese cigs in mexico have a photo of a dead body on it also picked it up at a pharmacy who was selling it secretly lol\\t1568731999.0\\ti.redd.it\\tTrue\\td5i3v2\\thttps://preview.redd.it/jy5rsoi446n31.jpg?width=320&crop=smart&auto=webp&s=30c4d1ab9ff12513839b3492606c02d4dad3fedf\\t\\t7.0\\t8\\tmildlyinteresting\\tThese cigs in Mexico have a photo of a dead body on it, also picked it up at a pharmacy who was selling it secretly lol\\t0.75\\t1\\t0\\t0\\n9elefanttwoothpaste7\\tfat man bomb dropped on nagasaki\\t1501655233.0\\ti.imgur.com\\tTrue\\t6r2cz7\\thttps://external-preview.redd.it/Pk13Js7E_zB5abguKu7q7vJkzSol8soRomMY2bQsOcU.jpg?width=320&crop=smart&auto=webp&s=1846378b13372ae5a072f7c7494bc15b9243288d\\t\\t0.0\\t4\\tmisleadingthumbnails\\tFat Man bomb dropped on Nagasaki, 1945 (colorized)\\t0.57\\t0\\t2\\t2\\nViperdream\\tdeath is close\\t1364940402.0\\t\\tTrue\\tc978mws\\thttp://i.imgur.com/vW3hyor.jpg\\t1biplz\\t\\t1\\tpsbattle_artwork\\tDeath is close...\\t\\t0\\t2\\t4\\nMohhh777\\tbritish soldiers during a last stand in the battle of el alamein\\t1520350464.0\\ti.redd.it\\tTrue\\t82fx19\\thttps://preview.redd.it/q0pxntkzw5k01.jpg?width=320&crop=smart&auto=webp&s=f5e3a60c7d11e99167a41d139f7aafadfd572eab\\t\\t1.0\\t6\\tfakehistoryporn\\tBritish soldiers during a last stand in the battle of el alamein (1942,colorized)\\t0.87\\t0\\t2\\t2\\nWaffleSmoof\\ta year old doingthis\\t1466958003.0\\ti.imgur.com\\tTrue\\t4pyfx6\\thttps://external-preview.redd.it/E5eDuxcbUIShmnalJeNwxFdygee8fD8wnPkva04grGk.jpg?width=320&crop=smart&auto=webp&s=a55dceaa0d3d8be7b860c503b3ebbe881b2c4de9\\t\\t8.0\\t5\\tphotoshopbattles\\tPsBattle: A 4-year old doing...this\\t0.86\\t1\\t0\\t0\\nj_Wlms\\tboov\\t1480133670.0\\t\\tTrue\\tdafx4a6\\thttp://i64.tinypic.com/2iqi36.jpg\\t5etd1l\\t\\t3\\tpsbattle_artwork\\tboov\\t\\t0\\t2\\t4\\nLordMetrognome\\tthese puppies\\t1560574409.0\\ti.redd.it\\tTrue\\tc0tmcc\\thttps://preview.redd.it/cfv54djfbg431.jpg?width=320&crop=smart&auto=webp&s=4e3def0be13bf80708e56b7d1d787da9dc992953\\t\\t6.0\\t35\\tphotoshopbattles\\tPsBattle: These 3 puppies\\t0.85\\t1\\t0\\t0\\nswigsweg8897\\twe raced another plane on my flight back from europe the other day\\t1536676609.0\\timgur.com\\tTrue\\t9ey3ng\\thttps://external-preview.redd.it/gG22KFjIVjNARSyZPlTpL34Fs_O-IJ-Po07K_4JCkBA.jpg?width=320&crop=smart&auto=webp&s=21d02ead80ce93e5a3066d4285bd580a3d98d700\\t\\t5.0\\t13\\tmildlyinteresting\\tWe raced another plane on my flight back from Europe the other day\\t0.85\\t1\\t0\\t0\\nBlackjack115\\ttexas woman uses her coupon clipping skills to help hurricane survivors\\t1505681867.0\\tabcnews.go.com\\tTrue\\t70q7na\\thttps://external-preview.redd.it/X34E8Gwjznfyqi_wuBHow-e6zi3caqVn8IQ8zWx82CU.jpg?width=320&crop=smart&auto=webp&s=ba32edcc58727c1de53e72a37fd51aeae0ef9887\\t\\t615.0\\t29035\\tupliftingnews\\tTexas woman uses her coupon clipping skills to help hurricane survivors\\t0.87\\t1\\t0\\t0\\nApiContraption\\tcutouts\\t1412348760.0\\t\\tTrue\\tckzeba8\\thttp://i.imgur.com/uSH1Cwe%2ejpg\\t2i6ymd\\t\\t2\\tpsbattle_artwork\\tcutouts\\t\\t0\\t2\\t4\\njargos\\tidk might be nsfw\\t1373170717.0\\t\\tTrue\\tcaxeexm\\thttp://i.imgur.com/B9oD0ac.jpg\\t1hs7jh\\t\\t15\\tpsbattle_artwork\\tIDK, might be NSFW\\t\\t0\\t2\\t4\\nene_due_rabe\\tdeep inside shes no different\\t1524409377.0\\t\\tTrue\\tdxs4e1p\\thttps://i.imgur.com/pQnFFRS.jpg\\t8e2py4\\t\\t3\\tpsbattle_artwork\\tDeep inside she is no different\\t\\t0\\t2\\t4\\nRizilus\\tbig head\\t1524535418.0\\t\\tTrue\\tdxv3mcd\\thttps://i.imgur.com/Kfo4au9.jpg\\t8ee4tt\\t\\t2\\tpsbattle_artwork\\tBig Head\\t\\t0\\t2\\t4\\nchibucks\\teveryone looks so yummy\\t1445894162.0\\t\\tTrue\\tcwdtq0c\\thttp://i.imgur.com/FA7Tni2.jpg\\t3q9z4g\\t\\t15\\tpsbattle_artwork\\teveryone looks so yummy\\t\\t0\\t2\\t4\\n\\tthis guy at the adult vr festival in tokyo this weekend\\t1465819487.0\\ti.kinja-img.com\\tTrue\\t4nvas9\\thttps://external-preview.redd.it/1XEjZYusUBXwJndja1lHPuCW4NFz7j80OCfBd7XiTAY.jpg?width=320&crop=smart&auto=webp&s=e80adfcb9b709fb98556ce09261ee53de045800b\\t\\t349.0\\t9551\\tphotoshopbattles\\tPsBattle: This guy at the Adult VR Festival in Tokyo this weekend\\t0.89\\t1\\t0\\t0\\nDizzyEllie\\tobligitory\\t1476226457.0\\t\\tTrue\\td8o0chd\\thttp://i.imgur.com/z0PnFE0.jpg\\t56z02p\\t\\t2\\tpsbattle_artwork\\tObligitory.\\t\\t0\\t2\\t4\\nall-top-today_SS\\telephant seal pup says hello to a post from a few floors above\\t1559336297.0\\ti.redd.it\\tTrue\\tbvctt3\\thttps://preview.redd.it/g0c53pmrlf131.jpg?width=320&crop=smart&auto=webp&s=1de627c4a23e85b629d107d7e1ebc7b06b1d39ee\\t\\t18.0\\t101\\tsubredditsimulator\\tElephant seal pup says hello to a post from a few floors above\\t0.96\\t0\\t2\\t3\\nshinji3\\twhat elon doesnt want you to see\\t1518287809.0\\t\\tTrue\\tdu1mjqa\\thttps://i.imgur.com/xRbpvxW.jpg\\t7wl1vo\\t\\t71\\tpsbattle_artwork\\tWhat Elon doesn\\'t want you to see\\t\\t0\\t2\\t4\\nTheCreativeNick\\tblue turtle with a dirty shell\\t1563833741.0\\ti.redd.it\\tTrue\\tcgjwhn\\thttps://preview.redd.it/9qdsw151jxb31.jpg?width=320&crop=smart&auto=webp&s=c4c5c2ade1810433a3e371e72a5a2d848464f7ae\\t\\t408.0\\t24511\\tphotoshopbattles\\tPsBattle: Blue turtle with a dirty shell\\t0.96\\t1\\t0\\t0\\ncauseofb\\tjapanese depiction of an american warship\\t1476659895.0\\ti.imgur.com\\tTrue\\t57u8n9\\thttps://external-preview.redd.it/DaZZGGLadbj-qSzlJ96STTAfhrlUqz6MbTn5AK3wsGw.jpg?width=320&crop=smart&auto=webp&s=d188c0f83b3d2e8072ad9c7bf585cbb682876baa\\t\\t67.0\\t1105\\tpropagandaposters\\tJapanese depiction of an American warship, 1854\\t0.97\\t0\\t1\\t5\\n\\tlittle girl in a white dress looking out a window\\t1436536622.0\\timgur.com\\tTrue\\t3csr8n\\thttps://external-preview.redd.it/PwEtMoKSLV6YSSn3kpk-UyRocldOPcAEAGqQO9XoO2k.jpg?width=320&crop=smart&auto=webp&s=87f9ff5781ff0b8153faba6f7387211fa953b0bf\\t\\t6.0\\t100\\tmisleadingthumbnails\\tLittle girl in a white dress looking out a window.\\t0.86\\t0\\t2\\t2\\nDrXtreme28\\tkeep your head above\\t1399860594.0\\t\\tTrue\\tchfm9uw\\thttp://i.imgur.com/J4Qwfi4.jpg\\t25b9e2\\t\\t31\\tpsbattle_artwork\\tKeep your head above\\t\\t0\\t2\\t4\\nIf_You_Only_Knew\\toh north koreas invading well let me just go and get my fucking clown shoes\\t1363142770.0\\t\\tTrue\\tc8umnyd\\thttp://i.imgur.com/HMPT52I.jpg\\t1a6upj\\t\\t27\\tpsbattle_artwork\\tOh, North Korea is invading? Well, let me just go and get my fucking clown shoes.\\t\\t0\\t2\\t4\\nGetMotivated_SS\\tarticle one of the rest of us are wasting our lives\\t1448287091.0\\tbrainpickings.org\\tTrue\\t3txxj1\\thttps://external-preview.redd.it/r2qrGFfHPGuFWTCeXdjcly6Ew7UlC5yR2urSZuHoW74.jpg?width=320&crop=smart&auto=webp&s=381feada4235ba6e4686f149b41f78007bd7a02e\\t\\t20.0\\t9\\tsubredditsimulator\\t[Article] One of the rest of us are wasting our lives\\t0.91\\t0\\t2\\t3\\nartunitinc\\tthis one\\t1468845225.0\\t\\tTrue\\td5gpz50\\thttp://i.imgur.com/JPJBsz0.jpg\\t4td1bc\\t\\t33\\tpsbattle_artwork\\tthis one?\\t\\t0\\t2\\t4\\nkoi666\\tbored christmas cat\\t1482768667.0\\ti.reddituploads.com\\tTrue\\t5kecl5\\thttps://external-preview.redd.it/_oeEZ21UIWYl9qySzhuhOBihXfL8pHd-q4ThRcoTuTI.jpg?width=320&crop=smart&auto=webp&s=3f81abc8b3013db4e2121338709f2242c20abdcb\\t\\t1.0\\t5\\tphotoshopbattles\\tPsBattle: Bored Christmas cat\\t0.86\\t1\\t0\\t0\\nkluste\\twhere is the fucking backup\\t1476130417.0\\t\\tTrue\\td8mbzus\\thttp://i.imgur.com/4BkCTlU.jpg\\t56tith\\t\\t2\\tpsbattle_artwork\\tWhere is the fucking backup!?!?!\\t\\t0\\t2\\t4\\nal0c-ac0c\\tbeen staring at this one eared cyclops mouse on my train ride through scotland\\t1568824896.0\\timgur.com\\tTrue\\td60g9w\\thttps://external-preview.redd.it/Y3Wr32rXNPudybPwgaFelgcf2rkiyrGSb9jmV8n0nCA.jpg?width=320&crop=smart&auto=webp&s=f99b7f97505aadb40d816857877158668a3b85b5\\t\\t1.0\\t6\\tpareidolia\\tBeen staring at this one eared Cyclops mouse on my train ride through Scotland.\\t0.88\\t0\\t2\\t2\\nall-top-today_SS\\tmy first gaming pc just arrived in brazil i am sick of politicians giving the same thing as donald trumps star on the head\\t1485817095.0\\ti.imgur.com\\tTrue\\t5r48ow\\thttps://external-preview.redd.it/ESPM-tTuK3werLgfWG_wBsw_trUSDNU4bI5s2jVRAgQ.png?width=108&crop=smart&auto=webp&s=6bdf4d9c8ec6b3100f803c1cf0848f49a5aee344\\t\\t20.0\\t31\\tsubredditsimulator\\tMy first gaming pc just arrived in Brazil, I am sick of politicians giving the same thing as Donald Trump is star on the head\\t0.88\\t0\\t2\\t3\\nalsobrante\\tmit engineer browsing incognito mode on early computer\\t1538338579.0\\ti.imgur.com\\tTrue\\t9k9lgj\\thttps://external-preview.redd.it/O20cyX0xei4nvxlKlFepHyl3JcqI3Hm-pN7E2415_U8.png?width=320&crop=smart&auto=webp&s=d16e7d0d23250c36644e90b66e2e5c9fe559dd6d\\t\\t4.0\\t173\\tfakehistoryporn\\tMIT engineer browsing incognito mode on early computer (1983)\\t1.0\\t0\\t2\\t2\\nalloutnow\\ttrump blocks release of democratic memo on russia probe\\t1518225144.0\\treuters.com\\tTrue\\t7wi82s\\thttps://external-preview.redd.it/U5Y07YbILjhjvhQiiaawsr2jdIwnO2Fxd1C_d24xYw4.jpg?width=320&crop=smart&auto=webp&s=9edaf07bda93aa9a9d24ee418fa53470fbd32cc2\\t\\t1.0\\t23\\tusanews\\tTrump blocks release of Democratic memo on Russia probe | Reuters\\t0.83\\t1\\t0\\t0\\nFoxprowl\\tthe city of los angeles at night seen from space\\t1502384619.0\\ti.redd.it\\tTrue\\t6sup0y\\thttps://preview.redd.it/w3y6f99jixez.jpg?width=320&crop=smart&auto=webp&s=69fa24f2862da454d01a71b6639a27ad491fcbc6\\t\\t0.0\\t10\\tmisleadingthumbnails\\tThe city of Los Angeles at night seen from space\\t0.71\\t0\\t2\\t2\\nblackbanhmi\\ta coffee shop in vietnam where you can soak your feet in anklelevel water with swimming fish\\t1537851239.0\\ti.redd.it\\tTrue\\t9ip9m3\\thttps://preview.redd.it/y1grvezrfbo11.jpg?width=320&crop=smart&auto=webp&s=85a8240a4042389f1d53d9046f983993ddabebd8\\t\\t24.0\\t87\\tmildlyinteresting\\tA coffee shop in Vietnam, where you can soak your feet in ankle-level water with swimming fish\\t0.91\\t1\\t0\\t0\\nSimmo5150\\tthe strangers at the mountains of madness\\t1522416520.0\\ti.redd.it\\tTrue\\t88abtq\\thttps://preview.redd.it/f5vy9qi7kwo01.jpg?width=320&crop=smart&auto=webp&s=b819fa1c7096cf275cf65a26dca2e33b64e429aa\\t\\t2.0\\t49\\tfakealbumcovers\\tThe Strangers - At The Mountains Of Madness\\t0.98\\t0\\t2\\t1\\n\\tirafsky district tender compassions x\\t1422020514.0\\ti.imgur.com\\tTrue\\t2tehcz\\thttps://external-preview.redd.it/FZyyQnZrEkI997h31MdaUxrkQf4hlDirrd9uLXIckOc.png?width=320&crop=smart&auto=webp&s=c71ff486b5d749cd93313a3cc14d86cbeae3e2e2\\t\\t1.0\\t7\\tfakealbumcovers\\tIrafsky District - Tender Compassions {1040x1040}\\t1.0\\t0\\t2\\t1\\nroset_ta\\tthis world leader missing from his chair\\t1566852595.0\\ti.redd.it\\tTrue\\tcvtwtq\\thttps://preview.redd.it/poaq69oe7ti31.jpg?width=320&crop=smart&auto=webp&s=ad1bb72a6d731a440bcd33256c53b1504c1540a0\\t\\t14.0\\t30\\tphotoshopbattles\\tPsBattle: This world leader missing from his chair.\\t0.81\\t1\\t0\\t0\\nOxTox\\tmy cat dreaming about his future as a basketballer\\t1374694335.0\\ti.imgur.com\\tTrue\\t1iz5p0\\thttps://external-preview.redd.it/Kt6FWE0rz41rDzlHbrtZjl1nZl4SBnTOBquEJ7DHbyQ.jpg?width=320&crop=smart&auto=webp&s=d69173783daa7e0dba2c9d2b3abfdadc650d5d69\\t\\t6.0\\t3\\tphotoshopbattles\\tMy cat dreaming about his future as a basketballer.\\t0.72\\t1\\t0\\t0\\nChesleaFc\\ther period gone wild\\t1420259337.0\\ti.imgur.com\\tTrue\\t2r69ma\\thttps://external-preview.redd.it/psWSM7m7r_Zuw7dMUg_BBi4BLMor_CRXtEZkrcFyLww.jpg?width=320&crop=smart&auto=webp&s=fb315ebd5bdae391657e48b8fad4bdebe63b8af3\\t\\t5.0\\t63\\tmisleadingthumbnails\\tHer period gone wild\\t0.68\\t0\\t2\\t2\\nMyEmptyBagOfChips\\tthese snails crowded on a tree\\t1557935912.0\\ti.imgur.com\\tTrue\\tbozp05\\thttps://external-preview.redd.it/6O_jT6jvg3Hw1_yIeiJuo1c621jDd2cJYCQcb2JNkmo.jpg?width=320&crop=smart&auto=webp&s=c8acfe313a1737754086f16f07a30124da959b6a\\t\\t5.0\\t21\\tphotoshopbattles\\tPsBattle: These snails crowded on a tree\\t0.8\\t1\\t0\\t0\\nfried_egg_on_toast\\ti was driving and saw this house that had a sperm kite flying outside\\t1564947960.0\\ti.redd.it\\tTrue\\tcm0o0a\\thttps://preview.redd.it/krgpibi8khe31.jpg?width=320&crop=smart&auto=webp&s=18fb1c436e2a825af71a2380646a29297d51affc\\t\\t14.0\\t8\\tmildlyinteresting\\tI was driving and saw this house that had a sperm kite flying outside\\t0.79\\t1\\t0\\t0\\nramong941\\tdont skip leg day\\t1447339550.0\\ti.imgur.com\\tTrue\\t3sjdx0\\thttps://external-preview.redd.it/Y-UA9ez9xIbJ7DW4ee44psznfbgrZYDlp9MCd_aNS6M.jpg?width=320&crop=smart&auto=webp&s=e2fbd201c861263735f76e0ad196907448736152\\t\\t3.0\\t366\\tconfusing_perspective\\tDon\\'t skip leg day\\t0.95\\t0\\t2\\t2\\nApiContraption\\tcutouts\\t1407988458.0\\t\\tTrue\\tcjpqh64\\thttp://i.imgur.com/aQdK3Cd%2ejpg\\t2di8gm\\t\\t1\\tpsbattle_artwork\\tcutouts\\t\\t0\\t2\\t4\\nJohnJTaylor\\tstate has st elk sighting in more than centuries\\t1477570409.0\\tmsn.com\\tTrue\\t59nmlp\\thttps://external-preview.redd.it/GK9zzWdnSgLiJfA0UoZ-6RI4PgInibREyfSNBj_xZHo.jpg?width=320&crop=smart&auto=webp&s=31042c360e26d9aea8294e62ff4ea3636b5ff12f\\t\\t3.0\\t18\\tupliftingnews\\tState has 1st elk sighting in more than 2 centuries\\t0.89\\t1\\t0\\t0\\nWOSBen\\twish you were here\\t1468486664.0\\t\\tTrue\\td5bqhmr\\thttp://i.imgur.com/6dHjTDU.jpg\\t4srok6\\t\\t550\\tpsbattle_artwork\\t\"Wish you were here\"\"\"'"
            ],
            "application/vnd.google.colaboratory.intrinsic+json": {
              "type": "string"
            }
          },
          "metadata": {},
          "execution_count": 33
        }
      ]
    },
    {
      "cell_type": "markdown",
      "source": [
        "###2 Lower Case"
      ],
      "metadata": {
        "id": "FRPWDuB3vfCa"
      }
    },
    {
      "cell_type": "markdown",
      "source": [
        "If the text is in the same case, it is easy for a machine to interpret the words because the lower case and upper case are treated differently by the machine. for example, words like Ball and ball are treated differently by machine. So, we need to make the text in the same case and the most preferred case is a lower case to avoid such problems."
      ],
      "metadata": {
        "id": "w0cKRIgmv2V1"
      }
    },
    {
      "cell_type": "code",
      "source": [
        "df_train['text'] = df_train['text'].str.lower()"
      ],
      "metadata": {
        "id": "e0OdS6DZvx3Y",
        "outputId": "bd2c05b2-d34e-4843-f87a-526229668fd4",
        "colab": {
          "base_uri": "https://localhost:8080/"
        }
      },
      "execution_count": 34,
      "outputs": [
        {
          "output_type": "stream",
          "name": "stderr",
          "text": [
            "/usr/local/lib/python3.7/dist-packages/ipykernel_launcher.py:1: SettingWithCopyWarning:\n",
            "\n",
            "\n",
            "A value is trying to be set on a copy of a slice from a DataFrame.\n",
            "Try using .loc[row_indexer,col_indexer] = value instead\n",
            "\n",
            "See the caveats in the documentation: https://pandas.pydata.org/pandas-docs/stable/user_guide/indexing.html#returning-a-view-versus-a-copy\n",
            "\n"
          ]
        }
      ]
    },
    {
      "cell_type": "code",
      "source": [
        "df_train['text'][0]"
      ],
      "metadata": {
        "id": "Fph2JCu1wg2v",
        "outputId": "5f79e514-2632-4eab-f3da-0b9e9ac4c507",
        "colab": {
          "base_uri": "https://localhost:8080/",
          "height": 174
        }
      },
      "execution_count": 35,
      "outputs": [
        {
          "output_type": "execute_result",
          "data": {
            "text/plain": [
              "'a group of friends began to volunteer at a homeless shelter after their neighbors protested. \"seeing another person who鈥檚 also in need, you should just naturally be like, 鈥業 want to help that person.鈥?\\t0.84\\t1\\t0\\t0\\nneomegaryumkii\\tdenmark just trolled trump with a bus watch what happens when it moves\\t1489962542.0\\tarchive.is\\ttrue\\t60cu90\\thttps://external-preview.redd.it/s8hqxowdwn2pt3eebjiqetmgxvvmbbxad93w08lgzrs.jpg?width=320&crop=smart&auto=webp&s=46f0ad18132126cab9823da4f3a6d6ec3a281bb2\\t\\t5.0\\t36\\tsavedyouaclick\\tdenmark just trolled trump with a bus. watch what happens when it moves | back wheels look like eyes that spin crazily as the bus moves (saved a click + short video that goes into slow motion (video mirror in comments since archive removed it))\\t0.92\\t0\\t2\\t5\\natbthefirst\\tyoung man theres no need to feel down\\t1429563057.0\\t\\ttrue\\tcqiw655\\thttp://i.imgur.com/rxtkm4u.jpg\\t338ute\\t\\t6\\tpsbattle_artwork\\tyoung man, there is no need to feel down\\t\\t0\\t2\\t4\\nbeosronlto\\tmy onion ring chimp\\t1491483860.0\\timgur.com\\ttrue\\t63ss2x\\thttps://external-preview.redd.it/5muewxgrxj6ys_iypjqibixpidxr7d7woyyln7e4xe4.jpg?width=320&crop=smart&auto=webp&s=68f0308f16bf0aa9dab6a28260dd06c85ed67450\\t\\t0.0\\t2\\tpareidolia\\tmy onion ring chimp\\t0.63\\t0\\t2\\t2\\nfood_ss\\tthis is what we eat in the images description\\t1443409099.0\\timgur.com\\ttrue\\t3mnjdi\\thttps://external-preview.redd.it/llesgqetbjasylhffuw6ckmfbkdr00wza_ldvdxpoog.jpg?width=320&crop=smart&auto=webp&s=0cb7c577cf8f78d74b23db11f0069d3f32248d31\\t\\t20.0\\t20\\tsubredditsimulator\\tthis is what we eat in the images description)\\t0.84\\t0\\t2\\t3\\ncardboardsoyuz\\tarizona man purchases home and discovers an underground hatch in backyard\\t1505215025.0\\tweb.archive.org\\ttrue\\t6zmas6\\thttps://external-preview.redd.it/fbvxmnmhdntqadxsip9ue-nxq7caq5ktinsgl-bsvwi.jpg?width=320&crop=smart&auto=webp&s=cdf12b2b558aed4d0ad86199ea3d9592ff1f88c2\\t\\t7.0\\t613\\tsavedyouaclick\\tarizona man purchases home and discovers an underground hatch in backyard | it leads to an old fall-out shelter in pretty good shape. it had a couple of cans of supplies in it, too. 17 clicks.\\t0.98\\t0\\t2\\t5\\nharry_butz\\tthe rpics awards spell out penis\\t1565605730.0\\ti.redd.it\\ttrue\\tcpajkp\\thttps://preview.redd.it/w948d5n4wzf31.jpg?width=320&crop=smart&auto=webp&s=a165988b2d70ef55257a8eeaeedf51b710f1a55b\\t\\t3.0\\t10\\tmildlyinteresting\\tthe /r/pics awards spell out penis\\t0.71\\t1\\t0\\t0\\nbillarastg\\ttime traveller assassin attemps to take down obama before he becomes president circa\\t1551597882.0\\ti.redd.it\\ttrue\\tawrrxk\\thttps://preview.redd.it/behjedplvuj21.jpg?width=320&crop=smart&auto=webp&s=42ad1a826403a3575fbb94e823d47999b34cfbbd\\t\\t6.0\\t28\\tfakehistoryporn\\ttime traveller assassin attemps to take down obama before he becomes president. (circa 1952).\\t0.87\\t0\\t2\\t2\\nmissmaria86\\tew\\t1407262199.0\\t\\ttrue\\tcjhqf8a\\thttp://i.imgur.com/ybe2jms.jpg\\t2coipv\\t\\t95\\tpsbattle_artwork\\tew.\\t\\t0\\t2\\t4\\nsnlisha\\tislamic state fighters reenter ancient palmyra in syria\\t1481392782.0\\tbbc.com\\ttrue\\t5hlch8\\thttps://external-preview.redd.it/rofxjbxobs76fw5nptxg4tt9oxfhk-kvh33bzqyao_8.jpg?width=320&crop=smart&auto=webp&s=02cc00050036279a3ae533ba8540830043fff74a\\t\\t0.0\\t5\\tneutralnews\\tislamic state fighters \\'re-enter ancient palmyra\\' in syria\\t0.79\\t1\\t0\\t0\\nraidyrafy\\ttop golf red line warning sign how many people have gotten hurt\\t1568605849.0\\ti.redd.it\\ttrue\\td4vcq7\\thttps://preview.redd.it/xtjcu5f0pvm31.jpg?width=320&crop=smart&auto=webp&s=9562ffe4127a0d6d34360e4df8a81e05de126519\\t\\t4.0\\t12\\tmildlyinteresting\\ttop golf red line warning sign. how many people have gotten hurt?\\t0.83\\t1\\t0\\t0\\nbudrickbundy\\tthe nfls ratings slide was mainly fueled by white viewers and younger viewers\\t1516117668.0\\tawfulannouncing.com\\ttrue\\t7qt5fc\\thttps://external-preview.redd.it/vq1q3olqrn3tschnl2xjm349y4aganseyepo6lkyfyq.jpg?width=320&crop=smart&auto=webp&s=38bc55460c5785dbfb3dc2932c1e0321a1fe626c\\t\\t17.0\\t5\\tusanews\\tthe nfl is 2017 ratings slide was mainly fueled by white viewers and younger viewers\\t0.69\\t1\\t0\\t0\\nbbizzess\\tmeryl streep marries\\t1475121888.0\\tarchive.is\\ttrue\\t550gen\\thttps://external-preview.redd.it/qaioecfejw0fzn8se5woegkfu3rrho3fbykq_4ae3b4.jpg?width=320&crop=smart&auto=webp&s=8a4d0ebe34e0e8f3b3b4f163a8369c92e1fb2c14\\t\\t1.0\\t34\\tsavedyouaclick\\tmeryl streep marries | article says she is marrying robert redford. she is not.\\t0.94\\t0\\t2\\t5\\napicontraption\\tother discussions\\t1393550555.0\\t\\ttrue\\tcfqkht6\\thttp://i.imgur.com/xzobvs4%2ejpg\\t1z5152\\t\\t1\\tpsbattle_artwork\\tother discussions\\t\\t0\\t2\\t4\\naskesl\\tsquash dingres\\t1447949876.0\\t\\ttrue\\tcx5t9jt\\thttp://i.imgur.com/4wrg3n6.jpg\\t3tfgjo\\t\\t242\\tpsbattle_artwork\\tsquash d\\'ingres\\t\\t0\\t2\\t4\\ngrahamsaysno\\tthis cactus man\\t1409262115.0\\timgur.com\\ttrue\\t2ev0r6\\thttps://external-preview.redd.it/tod214dphe8fopewef_9mjuvbrxdr2tr78uzmrzsa2e.jpg?width=320&crop=smart&auto=webp&s=e6486a1ed49915388d5b756ae11b4f5e88bc64c4\\t\\t6.0\\t54\\tpareidolia\\tthis cactus man.\\t0.91\\t0\\t2\\t2\\nishitpoopsalot\\troommates stab each other over debate between iphone and samsung\\t1429265409.0\\tktul.com\\ttrue\\t32wpnv\\thttps://external-preview.redd.it/typziewjmwacgv45tjxxcrhxytjucklmhyjzuzatymu.jpg?width=320&crop=smart&auto=webp&s=4cef96c45cc0f50e2d64f829daa184449136b89e\\t\\t183.0\\t1175\\tnottheonion\\troommates stab each other over debate between iphone and samsung.\\t0.93\\t1\\t0\\t0\\nslithek\\tgot rid of the ant\\t1365912044.0\\t\\ttrue\\tc9es9hx\\thttp://i.imgur.com/hock1ne.jpg\\t1cairr\\t\\t99\\tpsbattle_artwork\\tgot rid of the ant...\\t\\t0\\t2\\t4\\njj935\\ttitanic\\t1557350663.0\\t\\ttrue\\temv7vw0\\thttps://i.imgur.com/wiyl8at.jpg\\tbm9yhe\\t\\t3\\tpsbattle_artwork\\ttitanic\\t\\t0\\t2\\t4\\nthigira\\tdeclaration of independence philadelphia\\t1553375330.0\\ti.redd.it\\ttrue\\tb4o9wf\\thttps://preview.redd.it/9v1epg3voxn21.jpg?width=320&crop=smart&auto=webp&s=eece10bb46d039890257c34ace5de65900928c13\\t\\t3.0\\t81\\tfakehistoryporn\\tdeclaration of independence. philadelphia, 1776. colorized\\t0.91\\t0\\t2\\t2\\nbobblee20\\tthis cloud formation against a sunrise looks like a fire tornado\\t1551025203.0\\ti.redd.it\\ttrue\\tau9fsm\\thttps://preview.redd.it/f6kfxc7qkji21.jpg?width=320&crop=smart&auto=webp&s=bd863086c477286b4c2cdb4ca3fa0b547494c118\\t\\t1.0\\t48\\tmildlyinteresting\\tthis cloud formation against a sunrise looks like a fire tornado\\t0.93\\t1\\t0\\t0\\nchispy\\tobligatory faceswap\\t1472415912.0\\t\\ttrue\\td70cdmk\\thttp://i.imgur.com/kbrxbls.jpg\\t4zzhjk\\t\\t60\\tpsbattle_artwork\\tobligatory faceswap\\t\\t0\\t2\\t4\\nvt412\\texcited dog\\t1367321385.0\\ti.imgur.com\\ttrue\\t1dekok\\thttps://external-preview.redd.it/espm-ttuk3werlgfwg_wbsw_trusdnu4bi5s2jvragq.png?width=108&crop=smart&auto=webp&s=6bdf4d9c8ec6b3100f803c1cf0848f49a5aee344\\t\\t1.0\\t1\\tphotoshopbattles\\texcited dog\\t0.53\\t1\\t0\\t0\\nratchetraccoon\\tphotograph of first interracial family in pennsylvania after interracial marriage is legalized circa\\t1524449884.0\\ti.redd.it\\ttrue\\t8e84ku\\thttps://preview.redd.it/mydnsd5oikt01.jpg?width=320&crop=smart&auto=webp&s=dbcf91c9c5aacb9f49c2e2cdf5f9f8dcca3b7d8d\\t\\t4.0\\t103\\tfakehistoryporn\\tcolorized photograph of first interracial family in pennsylvania after interracial marriage is legalized, circa 1780\\t0.97\\t0\\t2\\t2\\nmrtenpence\\tmy local bus has usb chargers in every seat\\t1537876887.0\\timgur.com\\ttrue\\t9iri2s\\thttps://external-preview.redd.it/8osu-4_teshci8i0-qokoj4-gnuieasl1us7y5-yako.jpg?width=320&crop=smart&auto=webp&s=ccbf8c98e0c00fb8f459a421a4a3d5f29dc05a18\\t\\t32.0\\t261\\tmildlyinteresting\\tmy local bus has usb chargers in every seat\\t0.92\\t1\\t0\\t0\\nlucastwaddle\\tthe fact that people keep buying this stuff at the ace harware i work at in texas\\t1561857484.0\\ti.redd.it\\ttrue\\tc7790i\\thttps://preview.redd.it/uj09xvsnae731.jpg?width=320&crop=smart&auto=webp&s=9b174799db2c906c646b9a8999e76d4dedc97a09\\t\\t4.0\\t7\\tmildlyinteresting\\tthe fact that people keep buying this stuff at the ace harware i work at in texas.\\t0.82\\t1\\t0\\t0\\noriginalstix\\thuge tennis racket or mini federer\\t1451981052.0\\t\\ttrue\\tcymkq8f\\thttp://i.imgur.com/kwnxbnz.jpg\\t3zfune\\t\\t1\\tpsbattle_artwork\\thuge tennis racket or mini federer?\\t\\t0\\t2\\t4\\nmangobutter6179\\tthese cigs in mexico have a photo of a dead body on it also picked it up at a pharmacy who was selling it secretly lol\\t1568731999.0\\ti.redd.it\\ttrue\\td5i3v2\\thttps://preview.redd.it/jy5rsoi446n31.jpg?width=320&crop=smart&auto=webp&s=30c4d1ab9ff12513839b3492606c02d4dad3fedf\\t\\t7.0\\t8\\tmildlyinteresting\\tthese cigs in mexico have a photo of a dead body on it, also picked it up at a pharmacy who was selling it secretly lol\\t0.75\\t1\\t0\\t0\\n9elefanttwoothpaste7\\tfat man bomb dropped on nagasaki\\t1501655233.0\\ti.imgur.com\\ttrue\\t6r2cz7\\thttps://external-preview.redd.it/pk13js7e_zb5abguku7q7vjkzsol8sorommy2bqsocu.jpg?width=320&crop=smart&auto=webp&s=1846378b13372ae5a072f7c7494bc15b9243288d\\t\\t0.0\\t4\\tmisleadingthumbnails\\tfat man bomb dropped on nagasaki, 1945 (colorized)\\t0.57\\t0\\t2\\t2\\nviperdream\\tdeath is close\\t1364940402.0\\t\\ttrue\\tc978mws\\thttp://i.imgur.com/vw3hyor.jpg\\t1biplz\\t\\t1\\tpsbattle_artwork\\tdeath is close...\\t\\t0\\t2\\t4\\nmohhh777\\tbritish soldiers during a last stand in the battle of el alamein\\t1520350464.0\\ti.redd.it\\ttrue\\t82fx19\\thttps://preview.redd.it/q0pxntkzw5k01.jpg?width=320&crop=smart&auto=webp&s=f5e3a60c7d11e99167a41d139f7aafadfd572eab\\t\\t1.0\\t6\\tfakehistoryporn\\tbritish soldiers during a last stand in the battle of el alamein (1942,colorized)\\t0.87\\t0\\t2\\t2\\nwafflesmoof\\ta year old doingthis\\t1466958003.0\\ti.imgur.com\\ttrue\\t4pyfx6\\thttps://external-preview.redd.it/e5eduxcbuishmnaljenwxfdygee8fd8wnpkva04grgk.jpg?width=320&crop=smart&auto=webp&s=a55dceaa0d3d8be7b860c503b3ebbe881b2c4de9\\t\\t8.0\\t5\\tphotoshopbattles\\tpsbattle: a 4-year old doing...this\\t0.86\\t1\\t0\\t0\\nj_wlms\\tboov\\t1480133670.0\\t\\ttrue\\tdafx4a6\\thttp://i64.tinypic.com/2iqi36.jpg\\t5etd1l\\t\\t3\\tpsbattle_artwork\\tboov\\t\\t0\\t2\\t4\\nlordmetrognome\\tthese puppies\\t1560574409.0\\ti.redd.it\\ttrue\\tc0tmcc\\thttps://preview.redd.it/cfv54djfbg431.jpg?width=320&crop=smart&auto=webp&s=4e3def0be13bf80708e56b7d1d787da9dc992953\\t\\t6.0\\t35\\tphotoshopbattles\\tpsbattle: these 3 puppies\\t0.85\\t1\\t0\\t0\\nswigsweg8897\\twe raced another plane on my flight back from europe the other day\\t1536676609.0\\timgur.com\\ttrue\\t9ey3ng\\thttps://external-preview.redd.it/gg22kfjivjnarsyzpltpl34fs_o-ij-po07k_4jckba.jpg?width=320&crop=smart&auto=webp&s=21d02ead80ce93e5a3066d4285bd580a3d98d700\\t\\t5.0\\t13\\tmildlyinteresting\\twe raced another plane on my flight back from europe the other day\\t0.85\\t1\\t0\\t0\\nblackjack115\\ttexas woman uses her coupon clipping skills to help hurricane survivors\\t1505681867.0\\tabcnews.go.com\\ttrue\\t70q7na\\thttps://external-preview.redd.it/x34e8gwjznfyqi_wubhow-e6zi3caqvn8iq8zwx82cu.jpg?width=320&crop=smart&auto=webp&s=ba32edcc58727c1de53e72a37fd51aeae0ef9887\\t\\t615.0\\t29035\\tupliftingnews\\ttexas woman uses her coupon clipping skills to help hurricane survivors\\t0.87\\t1\\t0\\t0\\napicontraption\\tcutouts\\t1412348760.0\\t\\ttrue\\tckzeba8\\thttp://i.imgur.com/ush1cwe%2ejpg\\t2i6ymd\\t\\t2\\tpsbattle_artwork\\tcutouts\\t\\t0\\t2\\t4\\njargos\\tidk might be nsfw\\t1373170717.0\\t\\ttrue\\tcaxeexm\\thttp://i.imgur.com/b9od0ac.jpg\\t1hs7jh\\t\\t15\\tpsbattle_artwork\\tidk, might be nsfw\\t\\t0\\t2\\t4\\nene_due_rabe\\tdeep inside shes no different\\t1524409377.0\\t\\ttrue\\tdxs4e1p\\thttps://i.imgur.com/pqnffrs.jpg\\t8e2py4\\t\\t3\\tpsbattle_artwork\\tdeep inside she is no different\\t\\t0\\t2\\t4\\nrizilus\\tbig head\\t1524535418.0\\t\\ttrue\\tdxv3mcd\\thttps://i.imgur.com/kfo4au9.jpg\\t8ee4tt\\t\\t2\\tpsbattle_artwork\\tbig head\\t\\t0\\t2\\t4\\nchibucks\\teveryone looks so yummy\\t1445894162.0\\t\\ttrue\\tcwdtq0c\\thttp://i.imgur.com/fa7tni2.jpg\\t3q9z4g\\t\\t15\\tpsbattle_artwork\\teveryone looks so yummy\\t\\t0\\t2\\t4\\n\\tthis guy at the adult vr festival in tokyo this weekend\\t1465819487.0\\ti.kinja-img.com\\ttrue\\t4nvas9\\thttps://external-preview.redd.it/1xejzyusubxwjndja1lhpucw4nfz7j80ocfbd7xitay.jpg?width=320&crop=smart&auto=webp&s=e80adfcb9b709fb98556ce09261ee53de045800b\\t\\t349.0\\t9551\\tphotoshopbattles\\tpsbattle: this guy at the adult vr festival in tokyo this weekend\\t0.89\\t1\\t0\\t0\\ndizzyellie\\tobligitory\\t1476226457.0\\t\\ttrue\\td8o0chd\\thttp://i.imgur.com/z0pnfe0.jpg\\t56z02p\\t\\t2\\tpsbattle_artwork\\tobligitory.\\t\\t0\\t2\\t4\\nall-top-today_ss\\telephant seal pup says hello to a post from a few floors above\\t1559336297.0\\ti.redd.it\\ttrue\\tbvctt3\\thttps://preview.redd.it/g0c53pmrlf131.jpg?width=320&crop=smart&auto=webp&s=1de627c4a23e85b629d107d7e1ebc7b06b1d39ee\\t\\t18.0\\t101\\tsubredditsimulator\\telephant seal pup says hello to a post from a few floors above\\t0.96\\t0\\t2\\t3\\nshinji3\\twhat elon doesnt want you to see\\t1518287809.0\\t\\ttrue\\tdu1mjqa\\thttps://i.imgur.com/xrbpvxw.jpg\\t7wl1vo\\t\\t71\\tpsbattle_artwork\\twhat elon doesn\\'t want you to see\\t\\t0\\t2\\t4\\nthecreativenick\\tblue turtle with a dirty shell\\t1563833741.0\\ti.redd.it\\ttrue\\tcgjwhn\\thttps://preview.redd.it/9qdsw151jxb31.jpg?width=320&crop=smart&auto=webp&s=c4c5c2ade1810433a3e371e72a5a2d848464f7ae\\t\\t408.0\\t24511\\tphotoshopbattles\\tpsbattle: blue turtle with a dirty shell\\t0.96\\t1\\t0\\t0\\ncauseofb\\tjapanese depiction of an american warship\\t1476659895.0\\ti.imgur.com\\ttrue\\t57u8n9\\thttps://external-preview.redd.it/dazzggladbj-qszlj96sttafhrluqz6mbtn5ak3wsgw.jpg?width=320&crop=smart&auto=webp&s=d188c0f83b3d2e8072ad9c7bf585cbb682876baa\\t\\t67.0\\t1105\\tpropagandaposters\\tjapanese depiction of an american warship, 1854\\t0.97\\t0\\t1\\t5\\n\\tlittle girl in a white dress looking out a window\\t1436536622.0\\timgur.com\\ttrue\\t3csr8n\\thttps://external-preview.redd.it/pwetmokslv6yssn3kpk-uyrocldopcaeagqqo9xoo2k.jpg?width=320&crop=smart&auto=webp&s=87f9ff5781ff0b8153faba6f7387211fa953b0bf\\t\\t6.0\\t100\\tmisleadingthumbnails\\tlittle girl in a white dress looking out a window.\\t0.86\\t0\\t2\\t2\\ndrxtreme28\\tkeep your head above\\t1399860594.0\\t\\ttrue\\tchfm9uw\\thttp://i.imgur.com/j4qwfi4.jpg\\t25b9e2\\t\\t31\\tpsbattle_artwork\\tkeep your head above\\t\\t0\\t2\\t4\\nif_you_only_knew\\toh north koreas invading well let me just go and get my fucking clown shoes\\t1363142770.0\\t\\ttrue\\tc8umnyd\\thttp://i.imgur.com/hmpt52i.jpg\\t1a6upj\\t\\t27\\tpsbattle_artwork\\toh, north korea is invading? well, let me just go and get my fucking clown shoes.\\t\\t0\\t2\\t4\\ngetmotivated_ss\\tarticle one of the rest of us are wasting our lives\\t1448287091.0\\tbrainpickings.org\\ttrue\\t3txxj1\\thttps://external-preview.redd.it/r2qrgffhpgufwtcexdjcly6ew7ulc5yr2urszuhow74.jpg?width=320&crop=smart&auto=webp&s=381feada4235ba6e4686f149b41f78007bd7a02e\\t\\t20.0\\t9\\tsubredditsimulator\\t[article] one of the rest of us are wasting our lives\\t0.91\\t0\\t2\\t3\\nartunitinc\\tthis one\\t1468845225.0\\t\\ttrue\\td5gpz50\\thttp://i.imgur.com/jpjbsz0.jpg\\t4td1bc\\t\\t33\\tpsbattle_artwork\\tthis one?\\t\\t0\\t2\\t4\\nkoi666\\tbored christmas cat\\t1482768667.0\\ti.reddituploads.com\\ttrue\\t5kecl5\\thttps://external-preview.redd.it/_oeez21uiwyl9qyszhuhobihxfl8phd-q4thrcotuti.jpg?width=320&crop=smart&auto=webp&s=3f81abc8b3013db4e2121338709f2242c20abdcb\\t\\t1.0\\t5\\tphotoshopbattles\\tpsbattle: bored christmas cat\\t0.86\\t1\\t0\\t0\\nkluste\\twhere is the fucking backup\\t1476130417.0\\t\\ttrue\\td8mbzus\\thttp://i.imgur.com/4bkctlu.jpg\\t56tith\\t\\t2\\tpsbattle_artwork\\twhere is the fucking backup!?!?!\\t\\t0\\t2\\t4\\nal0c-ac0c\\tbeen staring at this one eared cyclops mouse on my train ride through scotland\\t1568824896.0\\timgur.com\\ttrue\\td60g9w\\thttps://external-preview.redd.it/y3wr32rxnpudybpwgafelgcf2rkiyrgsb9jmv8n0nca.jpg?width=320&crop=smart&auto=webp&s=f99b7f97505aadb40d816857877158668a3b85b5\\t\\t1.0\\t6\\tpareidolia\\tbeen staring at this one eared cyclops mouse on my train ride through scotland.\\t0.88\\t0\\t2\\t2\\nall-top-today_ss\\tmy first gaming pc just arrived in brazil i am sick of politicians giving the same thing as donald trumps star on the head\\t1485817095.0\\ti.imgur.com\\ttrue\\t5r48ow\\thttps://external-preview.redd.it/espm-ttuk3werlgfwg_wbsw_trusdnu4bi5s2jvragq.png?width=108&crop=smart&auto=webp&s=6bdf4d9c8ec6b3100f803c1cf0848f49a5aee344\\t\\t20.0\\t31\\tsubredditsimulator\\tmy first gaming pc just arrived in brazil, i am sick of politicians giving the same thing as donald trump is star on the head\\t0.88\\t0\\t2\\t3\\nalsobrante\\tmit engineer browsing incognito mode on early computer\\t1538338579.0\\ti.imgur.com\\ttrue\\t9k9lgj\\thttps://external-preview.redd.it/o20cyx0xei4nvxlklfephyl3jcqi3hm-pn7e2415_u8.png?width=320&crop=smart&auto=webp&s=d16e7d0d23250c36644e90b66e2e5c9fe559dd6d\\t\\t4.0\\t173\\tfakehistoryporn\\tmit engineer browsing incognito mode on early computer (1983)\\t1.0\\t0\\t2\\t2\\nalloutnow\\ttrump blocks release of democratic memo on russia probe\\t1518225144.0\\treuters.com\\ttrue\\t7wi82s\\thttps://external-preview.redd.it/u5y07ybiljhjvhqiiaawsr2jdiwno2fxd1c_d24xyw4.jpg?width=320&crop=smart&auto=webp&s=9edaf07bda93aa9a9d24ee418fa53470fbd32cc2\\t\\t1.0\\t23\\tusanews\\ttrump blocks release of democratic memo on russia probe | reuters\\t0.83\\t1\\t0\\t0\\nfoxprowl\\tthe city of los angeles at night seen from space\\t1502384619.0\\ti.redd.it\\ttrue\\t6sup0y\\thttps://preview.redd.it/w3y6f99jixez.jpg?width=320&crop=smart&auto=webp&s=69fa24f2862da454d01a71b6639a27ad491fcbc6\\t\\t0.0\\t10\\tmisleadingthumbnails\\tthe city of los angeles at night seen from space\\t0.71\\t0\\t2\\t2\\nblackbanhmi\\ta coffee shop in vietnam where you can soak your feet in anklelevel water with swimming fish\\t1537851239.0\\ti.redd.it\\ttrue\\t9ip9m3\\thttps://preview.redd.it/y1grvezrfbo11.jpg?width=320&crop=smart&auto=webp&s=85a8240a4042389f1d53d9046f983993ddabebd8\\t\\t24.0\\t87\\tmildlyinteresting\\ta coffee shop in vietnam, where you can soak your feet in ankle-level water with swimming fish\\t0.91\\t1\\t0\\t0\\nsimmo5150\\tthe strangers at the mountains of madness\\t1522416520.0\\ti.redd.it\\ttrue\\t88abtq\\thttps://preview.redd.it/f5vy9qi7kwo01.jpg?width=320&crop=smart&auto=webp&s=b819fa1c7096cf275cf65a26dca2e33b64e429aa\\t\\t2.0\\t49\\tfakealbumcovers\\tthe strangers - at the mountains of madness\\t0.98\\t0\\t2\\t1\\n\\tirafsky district tender compassions x\\t1422020514.0\\ti.imgur.com\\ttrue\\t2tehcz\\thttps://external-preview.redd.it/fzyyqnzreki997h31mdauxrkqf4hldirrd9ulxickoc.png?width=320&crop=smart&auto=webp&s=c71ff486b5d749cd93313a3cc14d86cbeae3e2e2\\t\\t1.0\\t7\\tfakealbumcovers\\tirafsky district - tender compassions {1040x1040}\\t1.0\\t0\\t2\\t1\\nroset_ta\\tthis world leader missing from his chair\\t1566852595.0\\ti.redd.it\\ttrue\\tcvtwtq\\thttps://preview.redd.it/poaq69oe7ti31.jpg?width=320&crop=smart&auto=webp&s=ad1bb72a6d731a440bcd33256c53b1504c1540a0\\t\\t14.0\\t30\\tphotoshopbattles\\tpsbattle: this world leader missing from his chair.\\t0.81\\t1\\t0\\t0\\noxtox\\tmy cat dreaming about his future as a basketballer\\t1374694335.0\\ti.imgur.com\\ttrue\\t1iz5p0\\thttps://external-preview.redd.it/kt6fwe0rz41rdzlhbrtzjl1nzl4sbntobquej7dhbyq.jpg?width=320&crop=smart&auto=webp&s=d69173783daa7e0dba2c9d2b3abfdadc650d5d69\\t\\t6.0\\t3\\tphotoshopbattles\\tmy cat dreaming about his future as a basketballer.\\t0.72\\t1\\t0\\t0\\nchesleafc\\ther period gone wild\\t1420259337.0\\ti.imgur.com\\ttrue\\t2r69ma\\thttps://external-preview.redd.it/pswsm7m7r_zuw7dmug_bbi4blmor_crxtezkrcfylww.jpg?width=320&crop=smart&auto=webp&s=fb315ebd5bdae391657e48b8fad4bdebe63b8af3\\t\\t5.0\\t63\\tmisleadingthumbnails\\ther period gone wild\\t0.68\\t0\\t2\\t2\\nmyemptybagofchips\\tthese snails crowded on a tree\\t1557935912.0\\ti.imgur.com\\ttrue\\tbozp05\\thttps://external-preview.redd.it/6o_jt6jvg3hw1_yieijuo1c621jdd2cjycqcb2jnkmo.jpg?width=320&crop=smart&auto=webp&s=c8acfe313a1737754086f16f07a30124da959b6a\\t\\t5.0\\t21\\tphotoshopbattles\\tpsbattle: these snails crowded on a tree\\t0.8\\t1\\t0\\t0\\nfried_egg_on_toast\\ti was driving and saw this house that had a sperm kite flying outside\\t1564947960.0\\ti.redd.it\\ttrue\\tcm0o0a\\thttps://preview.redd.it/krgpibi8khe31.jpg?width=320&crop=smart&auto=webp&s=18fb1c436e2a825af71a2380646a29297d51affc\\t\\t14.0\\t8\\tmildlyinteresting\\ti was driving and saw this house that had a sperm kite flying outside\\t0.79\\t1\\t0\\t0\\nramong941\\tdont skip leg day\\t1447339550.0\\ti.imgur.com\\ttrue\\t3sjdx0\\thttps://external-preview.redd.it/y-ua9ez9xibj7dw4ee44psznfbgrzydlp9mcd_ans6m.jpg?width=320&crop=smart&auto=webp&s=e2fbd201c861263735f76e0ad196907448736152\\t\\t3.0\\t366\\tconfusing_perspective\\tdon\\'t skip leg day\\t0.95\\t0\\t2\\t2\\napicontraption\\tcutouts\\t1407988458.0\\t\\ttrue\\tcjpqh64\\thttp://i.imgur.com/aqdk3cd%2ejpg\\t2di8gm\\t\\t1\\tpsbattle_artwork\\tcutouts\\t\\t0\\t2\\t4\\njohnjtaylor\\tstate has st elk sighting in more than centuries\\t1477570409.0\\tmsn.com\\ttrue\\t59nmlp\\thttps://external-preview.redd.it/gk9zzwdnsglijfa0uoz-6ri4pginibreyfsnbj_xzho.jpg?width=320&crop=smart&auto=webp&s=31042c360e26d9aea8294e62ff4ea3636b5ff12f\\t\\t3.0\\t18\\tupliftingnews\\tstate has 1st elk sighting in more than 2 centuries\\t0.89\\t1\\t0\\t0\\nwosben\\twish you were here\\t1468486664.0\\t\\ttrue\\td5bqhmr\\thttp://i.imgur.com/6dhjtdu.jpg\\t4srok6\\t\\t550\\tpsbattle_artwork\\t\"wish you were here\"\"\"'"
            ],
            "application/vnd.google.colaboratory.intrinsic+json": {
              "type": "string"
            }
          },
          "metadata": {},
          "execution_count": 35
        }
      ]
    },
    {
      "cell_type": "markdown",
      "source": [
        ""
      ],
      "metadata": {
        "id": "sd2n7hzx1Y4k"
      }
    },
    {
      "cell_type": "markdown",
      "source": [
        "###3 Remove punctuations"
      ],
      "metadata": {
        "id": "6soAWZCw37zJ"
      }
    },
    {
      "cell_type": "markdown",
      "source": [
        "One of the other text processing techniques is removing punctuations. there are total 32 main punctuations that need to be taken care of. we can directly use the string module with a regular expression to replace any punctuation in text with an empty string. 32 punctuations which string module provide us is listed below."
      ],
      "metadata": {
        "id": "apW5WefG4AmB"
      }
    },
    {
      "cell_type": "markdown",
      "source": [
        "'!\"#$%&'()*+,-./:;<=>?@[\\]^_`{|}~'"
      ],
      "metadata": {
        "id": "sQfpHaTvZtbE"
      }
    },
    {
      "cell_type": "code",
      "source": [
        "import string"
      ],
      "metadata": {
        "id": "e96H3VDe5qLi"
      },
      "execution_count": 36,
      "outputs": []
    },
    {
      "cell_type": "code",
      "source": [
        "#remove punctuation\n",
        "df_train['text'] = df_train['text'].apply(lambda x: re.sub('[%s]' % re.escape(string.punctuation), '' , x))"
      ],
      "metadata": {
        "id": "IfWbS-m94Gc7",
        "outputId": "f862709c-0348-4ccd-86fe-3ca9fe1e46da",
        "colab": {
          "base_uri": "https://localhost:8080/"
        }
      },
      "execution_count": 37,
      "outputs": [
        {
          "output_type": "stream",
          "name": "stderr",
          "text": [
            "/usr/local/lib/python3.7/dist-packages/ipykernel_launcher.py:2: SettingWithCopyWarning:\n",
            "\n",
            "\n",
            "A value is trying to be set on a copy of a slice from a DataFrame.\n",
            "Try using .loc[row_indexer,col_indexer] = value instead\n",
            "\n",
            "See the caveats in the documentation: https://pandas.pydata.org/pandas-docs/stable/user_guide/indexing.html#returning-a-view-versus-a-copy\n",
            "\n"
          ]
        }
      ]
    },
    {
      "cell_type": "code",
      "source": [
        "df_train['text'][0]"
      ],
      "metadata": {
        "id": "OgUJWT_c6adU",
        "outputId": "cc41d4b1-9f55-4667-b539-11e32ba9a195",
        "colab": {
          "base_uri": "https://localhost:8080/",
          "height": 174
        }
      },
      "execution_count": 38,
      "outputs": [
        {
          "output_type": "execute_result",
          "data": {
            "text/plain": [
              "'a group of friends began to volunteer at a homeless shelter after their neighbors protested seeing another person who鈥檚 also in need you should just naturally be like 鈥業 want to help that person鈥\\t084\\t1\\t0\\t0\\nneomegaryumkii\\tdenmark just trolled trump with a bus watch what happens when it moves\\t14899625420\\tarchiveis\\ttrue\\t60cu90\\thttpsexternalpreviewreddits8hqxowdwn2pt3eebjiqetmgxvvmbbxad93w08lgzrsjpgwidth320cropsmartautowebps46f0ad18132126cab9823da4f3a6d6ec3a281bb2\\t\\t50\\t36\\tsavedyouaclick\\tdenmark just trolled trump with a bus watch what happens when it moves  back wheels look like eyes that spin crazily as the bus moves saved a click  short video that goes into slow motion video mirror in comments since archive removed it\\t092\\t0\\t2\\t5\\natbthefirst\\tyoung man theres no need to feel down\\t14295630570\\t\\ttrue\\tcqiw655\\thttpiimgurcomrxtkm4ujpg\\t338ute\\t\\t6\\tpsbattleartwork\\tyoung man there is no need to feel down\\t\\t0\\t2\\t4\\nbeosronlto\\tmy onion ring chimp\\t14914838600\\timgurcom\\ttrue\\t63ss2x\\thttpsexternalpreviewreddit5muewxgrxj6ysiypjqibixpidxr7d7woyyln7e4xe4jpgwidth320cropsmartautowebps68f0308f16bf0aa9dab6a28260dd06c85ed67450\\t\\t00\\t2\\tpareidolia\\tmy onion ring chimp\\t063\\t0\\t2\\t2\\nfoodss\\tthis is what we eat in the images description\\t14434090990\\timgurcom\\ttrue\\t3mnjdi\\thttpsexternalpreviewredditllesgqetbjasylhffuw6ckmfbkdr00wzaldvdxpoogjpgwidth320cropsmartautowebps0cb7c577cf8f78d74b23db11f0069d3f32248d31\\t\\t200\\t20\\tsubredditsimulator\\tthis is what we eat in the images description\\t084\\t0\\t2\\t3\\ncardboardsoyuz\\tarizona man purchases home and discovers an underground hatch in backyard\\t15052150250\\twebarchiveorg\\ttrue\\t6zmas6\\thttpsexternalpreviewredditfbvxmnmhdntqadxsip9uenxq7caq5ktinsglbsvwijpgwidth320cropsmartautowebpscdf12b2b558aed4d0ad86199ea3d9592ff1f88c2\\t\\t70\\t613\\tsavedyouaclick\\tarizona man purchases home and discovers an underground hatch in backyard  it leads to an old fallout shelter in pretty good shape it had a couple of cans of supplies in it too 17 clicks\\t098\\t0\\t2\\t5\\nharrybutz\\tthe rpics awards spell out penis\\t15656057300\\tireddit\\ttrue\\tcpajkp\\thttpspreviewredditw948d5n4wzf31jpgwidth320cropsmartautowebpsa165988b2d70ef55257a8eeaeedf51b710f1a55b\\t\\t30\\t10\\tmildlyinteresting\\tthe rpics awards spell out penis\\t071\\t1\\t0\\t0\\nbillarastg\\ttime traveller assassin attemps to take down obama before he becomes president circa\\t15515978820\\tireddit\\ttrue\\tawrrxk\\thttpspreviewredditbehjedplvuj21jpgwidth320cropsmartautowebps42ad1a826403a3575fbb94e823d47999b34cfbbd\\t\\t60\\t28\\tfakehistoryporn\\ttime traveller assassin attemps to take down obama before he becomes president circa 1952\\t087\\t0\\t2\\t2\\nmissmaria86\\tew\\t14072621990\\t\\ttrue\\tcjhqf8a\\thttpiimgurcomybe2jmsjpg\\t2coipv\\t\\t95\\tpsbattleartwork\\tew\\t\\t0\\t2\\t4\\nsnlisha\\tislamic state fighters reenter ancient palmyra in syria\\t14813927820\\tbbccom\\ttrue\\t5hlch8\\thttpsexternalpreviewredditrofxjbxobs76fw5nptxg4tt9oxfhkkvh33bzqyao8jpgwidth320cropsmartautowebps02cc00050036279a3ae533ba8540830043fff74a\\t\\t00\\t5\\tneutralnews\\tislamic state fighters reenter ancient palmyra in syria\\t079\\t1\\t0\\t0\\nraidyrafy\\ttop golf red line warning sign how many people have gotten hurt\\t15686058490\\tireddit\\ttrue\\td4vcq7\\thttpspreviewredditxtjcu5f0pvm31jpgwidth320cropsmartautowebps9562ffe4127a0d6d34360e4df8a81e05de126519\\t\\t40\\t12\\tmildlyinteresting\\ttop golf red line warning sign how many people have gotten hurt\\t083\\t1\\t0\\t0\\nbudrickbundy\\tthe nfls ratings slide was mainly fueled by white viewers and younger viewers\\t15161176680\\tawfulannouncingcom\\ttrue\\t7qt5fc\\thttpsexternalpreviewredditvq1q3olqrn3tschnl2xjm349y4aganseyepo6lkyfyqjpgwidth320cropsmartautowebps38bc55460c5785dbfb3dc2932c1e0321a1fe626c\\t\\t170\\t5\\tusanews\\tthe nfl is 2017 ratings slide was mainly fueled by white viewers and younger viewers\\t069\\t1\\t0\\t0\\nbbizzess\\tmeryl streep marries\\t14751218880\\tarchiveis\\ttrue\\t550gen\\thttpsexternalpreviewredditqaioecfejw0fzn8se5woegkfu3rrho3fbykq4ae3b4jpgwidth320cropsmartautowebps8a4d0ebe34e0e8f3b3b4f163a8369c92e1fb2c14\\t\\t10\\t34\\tsavedyouaclick\\tmeryl streep marries  article says she is marrying robert redford she is not\\t094\\t0\\t2\\t5\\napicontraption\\tother discussions\\t13935505550\\t\\ttrue\\tcfqkht6\\thttpiimgurcomxzobvs42ejpg\\t1z5152\\t\\t1\\tpsbattleartwork\\tother discussions\\t\\t0\\t2\\t4\\naskesl\\tsquash dingres\\t14479498760\\t\\ttrue\\tcx5t9jt\\thttpiimgurcom4wrg3n6jpg\\t3tfgjo\\t\\t242\\tpsbattleartwork\\tsquash dingres\\t\\t0\\t2\\t4\\ngrahamsaysno\\tthis cactus man\\t14092621150\\timgurcom\\ttrue\\t2ev0r6\\thttpsexternalpreviewreddittod214dphe8fopewef9mjuvbrxdr2tr78uzmrzsa2ejpgwidth320cropsmartautowebpse6486a1ed49915388d5b756ae11b4f5e88bc64c4\\t\\t60\\t54\\tpareidolia\\tthis cactus man\\t091\\t0\\t2\\t2\\nishitpoopsalot\\troommates stab each other over debate between iphone and samsung\\t14292654090\\tktulcom\\ttrue\\t32wpnv\\thttpsexternalpreviewreddittypziewjmwacgv45tjxxcrhxytjucklmhyjzuzatymujpgwidth320cropsmartautowebps4cef96c45cc0f50e2d64f829daa184449136b89e\\t\\t1830\\t1175\\tnottheonion\\troommates stab each other over debate between iphone and samsung\\t093\\t1\\t0\\t0\\nslithek\\tgot rid of the ant\\t13659120440\\t\\ttrue\\tc9es9hx\\thttpiimgurcomhock1nejpg\\t1cairr\\t\\t99\\tpsbattleartwork\\tgot rid of the ant\\t\\t0\\t2\\t4\\njj935\\ttitanic\\t15573506630\\t\\ttrue\\temv7vw0\\thttpsiimgurcomwiyl8atjpg\\tbm9yhe\\t\\t3\\tpsbattleartwork\\ttitanic\\t\\t0\\t2\\t4\\nthigira\\tdeclaration of independence philadelphia\\t15533753300\\tireddit\\ttrue\\tb4o9wf\\thttpspreviewreddit9v1epg3voxn21jpgwidth320cropsmartautowebpseece10bb46d039890257c34ace5de65900928c13\\t\\t30\\t81\\tfakehistoryporn\\tdeclaration of independence philadelphia 1776 colorized\\t091\\t0\\t2\\t2\\nbobblee20\\tthis cloud formation against a sunrise looks like a fire tornado\\t15510252030\\tireddit\\ttrue\\tau9fsm\\thttpspreviewredditf6kfxc7qkji21jpgwidth320cropsmartautowebpsbd863086c477286b4c2cdb4ca3fa0b547494c118\\t\\t10\\t48\\tmildlyinteresting\\tthis cloud formation against a sunrise looks like a fire tornado\\t093\\t1\\t0\\t0\\nchispy\\tobligatory faceswap\\t14724159120\\t\\ttrue\\td70cdmk\\thttpiimgurcomkbrxblsjpg\\t4zzhjk\\t\\t60\\tpsbattleartwork\\tobligatory faceswap\\t\\t0\\t2\\t4\\nvt412\\texcited dog\\t13673213850\\tiimgurcom\\ttrue\\t1dekok\\thttpsexternalpreviewredditespmttuk3werlgfwgwbswtrusdnu4bi5s2jvragqpngwidth108cropsmartautowebps6bdf4d9c8ec6b3100f803c1cf0848f49a5aee344\\t\\t10\\t1\\tphotoshopbattles\\texcited dog\\t053\\t1\\t0\\t0\\nratchetraccoon\\tphotograph of first interracial family in pennsylvania after interracial marriage is legalized circa\\t15244498840\\tireddit\\ttrue\\t8e84ku\\thttpspreviewredditmydnsd5oikt01jpgwidth320cropsmartautowebpsdbcf91c9c5aacb9f49c2e2cdf5f9f8dcca3b7d8d\\t\\t40\\t103\\tfakehistoryporn\\tcolorized photograph of first interracial family in pennsylvania after interracial marriage is legalized circa 1780\\t097\\t0\\t2\\t2\\nmrtenpence\\tmy local bus has usb chargers in every seat\\t15378768870\\timgurcom\\ttrue\\t9iri2s\\thttpsexternalpreviewreddit8osu4teshci8i0qokoj4gnuieasl1us7y5yakojpgwidth320cropsmartautowebpsccbf8c98e0c00fb8f459a421a4a3d5f29dc05a18\\t\\t320\\t261\\tmildlyinteresting\\tmy local bus has usb chargers in every seat\\t092\\t1\\t0\\t0\\nlucastwaddle\\tthe fact that people keep buying this stuff at the ace harware i work at in texas\\t15618574840\\tireddit\\ttrue\\tc7790i\\thttpspreviewreddituj09xvsnae731jpgwidth320cropsmartautowebps9b174799db2c906c646b9a8999e76d4dedc97a09\\t\\t40\\t7\\tmildlyinteresting\\tthe fact that people keep buying this stuff at the ace harware i work at in texas\\t082\\t1\\t0\\t0\\noriginalstix\\thuge tennis racket or mini federer\\t14519810520\\t\\ttrue\\tcymkq8f\\thttpiimgurcomkwnxbnzjpg\\t3zfune\\t\\t1\\tpsbattleartwork\\thuge tennis racket or mini federer\\t\\t0\\t2\\t4\\nmangobutter6179\\tthese cigs in mexico have a photo of a dead body on it also picked it up at a pharmacy who was selling it secretly lol\\t15687319990\\tireddit\\ttrue\\td5i3v2\\thttpspreviewredditjy5rsoi446n31jpgwidth320cropsmartautowebps30c4d1ab9ff12513839b3492606c02d4dad3fedf\\t\\t70\\t8\\tmildlyinteresting\\tthese cigs in mexico have a photo of a dead body on it also picked it up at a pharmacy who was selling it secretly lol\\t075\\t1\\t0\\t0\\n9elefanttwoothpaste7\\tfat man bomb dropped on nagasaki\\t15016552330\\tiimgurcom\\ttrue\\t6r2cz7\\thttpsexternalpreviewredditpk13js7ezb5abguku7q7vjkzsol8sorommy2bqsocujpgwidth320cropsmartautowebps1846378b13372ae5a072f7c7494bc15b9243288d\\t\\t00\\t4\\tmisleadingthumbnails\\tfat man bomb dropped on nagasaki 1945 colorized\\t057\\t0\\t2\\t2\\nviperdream\\tdeath is close\\t13649404020\\t\\ttrue\\tc978mws\\thttpiimgurcomvw3hyorjpg\\t1biplz\\t\\t1\\tpsbattleartwork\\tdeath is close\\t\\t0\\t2\\t4\\nmohhh777\\tbritish soldiers during a last stand in the battle of el alamein\\t15203504640\\tireddit\\ttrue\\t82fx19\\thttpspreviewredditq0pxntkzw5k01jpgwidth320cropsmartautowebpsf5e3a60c7d11e99167a41d139f7aafadfd572eab\\t\\t10\\t6\\tfakehistoryporn\\tbritish soldiers during a last stand in the battle of el alamein 1942colorized\\t087\\t0\\t2\\t2\\nwafflesmoof\\ta year old doingthis\\t14669580030\\tiimgurcom\\ttrue\\t4pyfx6\\thttpsexternalpreviewreddite5eduxcbuishmnaljenwxfdygee8fd8wnpkva04grgkjpgwidth320cropsmartautowebpsa55dceaa0d3d8be7b860c503b3ebbe881b2c4de9\\t\\t80\\t5\\tphotoshopbattles\\tpsbattle a 4year old doingthis\\t086\\t1\\t0\\t0\\njwlms\\tboov\\t14801336700\\t\\ttrue\\tdafx4a6\\thttpi64tinypiccom2iqi36jpg\\t5etd1l\\t\\t3\\tpsbattleartwork\\tboov\\t\\t0\\t2\\t4\\nlordmetrognome\\tthese puppies\\t15605744090\\tireddit\\ttrue\\tc0tmcc\\thttpspreviewredditcfv54djfbg431jpgwidth320cropsmartautowebps4e3def0be13bf80708e56b7d1d787da9dc992953\\t\\t60\\t35\\tphotoshopbattles\\tpsbattle these 3 puppies\\t085\\t1\\t0\\t0\\nswigsweg8897\\twe raced another plane on my flight back from europe the other day\\t15366766090\\timgurcom\\ttrue\\t9ey3ng\\thttpsexternalpreviewredditgg22kfjivjnarsyzpltpl34fsoijpo07k4jckbajpgwidth320cropsmartautowebps21d02ead80ce93e5a3066d4285bd580a3d98d700\\t\\t50\\t13\\tmildlyinteresting\\twe raced another plane on my flight back from europe the other day\\t085\\t1\\t0\\t0\\nblackjack115\\ttexas woman uses her coupon clipping skills to help hurricane survivors\\t15056818670\\tabcnewsgocom\\ttrue\\t70q7na\\thttpsexternalpreviewredditx34e8gwjznfyqiwubhowe6zi3caqvn8iq8zwx82cujpgwidth320cropsmartautowebpsba32edcc58727c1de53e72a37fd51aeae0ef9887\\t\\t6150\\t29035\\tupliftingnews\\ttexas woman uses her coupon clipping skills to help hurricane survivors\\t087\\t1\\t0\\t0\\napicontraption\\tcutouts\\t14123487600\\t\\ttrue\\tckzeba8\\thttpiimgurcomush1cwe2ejpg\\t2i6ymd\\t\\t2\\tpsbattleartwork\\tcutouts\\t\\t0\\t2\\t4\\njargos\\tidk might be nsfw\\t13731707170\\t\\ttrue\\tcaxeexm\\thttpiimgurcomb9od0acjpg\\t1hs7jh\\t\\t15\\tpsbattleartwork\\tidk might be nsfw\\t\\t0\\t2\\t4\\neneduerabe\\tdeep inside shes no different\\t15244093770\\t\\ttrue\\tdxs4e1p\\thttpsiimgurcompqnffrsjpg\\t8e2py4\\t\\t3\\tpsbattleartwork\\tdeep inside she is no different\\t\\t0\\t2\\t4\\nrizilus\\tbig head\\t15245354180\\t\\ttrue\\tdxv3mcd\\thttpsiimgurcomkfo4au9jpg\\t8ee4tt\\t\\t2\\tpsbattleartwork\\tbig head\\t\\t0\\t2\\t4\\nchibucks\\teveryone looks so yummy\\t14458941620\\t\\ttrue\\tcwdtq0c\\thttpiimgurcomfa7tni2jpg\\t3q9z4g\\t\\t15\\tpsbattleartwork\\teveryone looks so yummy\\t\\t0\\t2\\t4\\n\\tthis guy at the adult vr festival in tokyo this weekend\\t14658194870\\tikinjaimgcom\\ttrue\\t4nvas9\\thttpsexternalpreviewreddit1xejzyusubxwjndja1lhpucw4nfz7j80ocfbd7xitayjpgwidth320cropsmartautowebpse80adfcb9b709fb98556ce09261ee53de045800b\\t\\t3490\\t9551\\tphotoshopbattles\\tpsbattle this guy at the adult vr festival in tokyo this weekend\\t089\\t1\\t0\\t0\\ndizzyellie\\tobligitory\\t14762264570\\t\\ttrue\\td8o0chd\\thttpiimgurcomz0pnfe0jpg\\t56z02p\\t\\t2\\tpsbattleartwork\\tobligitory\\t\\t0\\t2\\t4\\nalltoptodayss\\telephant seal pup says hello to a post from a few floors above\\t15593362970\\tireddit\\ttrue\\tbvctt3\\thttpspreviewredditg0c53pmrlf131jpgwidth320cropsmartautowebps1de627c4a23e85b629d107d7e1ebc7b06b1d39ee\\t\\t180\\t101\\tsubredditsimulator\\telephant seal pup says hello to a post from a few floors above\\t096\\t0\\t2\\t3\\nshinji3\\twhat elon doesnt want you to see\\t15182878090\\t\\ttrue\\tdu1mjqa\\thttpsiimgurcomxrbpvxwjpg\\t7wl1vo\\t\\t71\\tpsbattleartwork\\twhat elon doesnt want you to see\\t\\t0\\t2\\t4\\nthecreativenick\\tblue turtle with a dirty shell\\t15638337410\\tireddit\\ttrue\\tcgjwhn\\thttpspreviewreddit9qdsw151jxb31jpgwidth320cropsmartautowebpsc4c5c2ade1810433a3e371e72a5a2d848464f7ae\\t\\t4080\\t24511\\tphotoshopbattles\\tpsbattle blue turtle with a dirty shell\\t096\\t1\\t0\\t0\\ncauseofb\\tjapanese depiction of an american warship\\t14766598950\\tiimgurcom\\ttrue\\t57u8n9\\thttpsexternalpreviewredditdazzggladbjqszlj96sttafhrluqz6mbtn5ak3wsgwjpgwidth320cropsmartautowebpsd188c0f83b3d2e8072ad9c7bf585cbb682876baa\\t\\t670\\t1105\\tpropagandaposters\\tjapanese depiction of an american warship 1854\\t097\\t0\\t1\\t5\\n\\tlittle girl in a white dress looking out a window\\t14365366220\\timgurcom\\ttrue\\t3csr8n\\thttpsexternalpreviewredditpwetmokslv6yssn3kpkuyrocldopcaeagqqo9xoo2kjpgwidth320cropsmartautowebps87f9ff5781ff0b8153faba6f7387211fa953b0bf\\t\\t60\\t100\\tmisleadingthumbnails\\tlittle girl in a white dress looking out a window\\t086\\t0\\t2\\t2\\ndrxtreme28\\tkeep your head above\\t13998605940\\t\\ttrue\\tchfm9uw\\thttpiimgurcomj4qwfi4jpg\\t25b9e2\\t\\t31\\tpsbattleartwork\\tkeep your head above\\t\\t0\\t2\\t4\\nifyouonlyknew\\toh north koreas invading well let me just go and get my fucking clown shoes\\t13631427700\\t\\ttrue\\tc8umnyd\\thttpiimgurcomhmpt52ijpg\\t1a6upj\\t\\t27\\tpsbattleartwork\\toh north korea is invading well let me just go and get my fucking clown shoes\\t\\t0\\t2\\t4\\ngetmotivatedss\\tarticle one of the rest of us are wasting our lives\\t14482870910\\tbrainpickingsorg\\ttrue\\t3txxj1\\thttpsexternalpreviewredditr2qrgffhpgufwtcexdjcly6ew7ulc5yr2urszuhow74jpgwidth320cropsmartautowebps381feada4235ba6e4686f149b41f78007bd7a02e\\t\\t200\\t9\\tsubredditsimulator\\tarticle one of the rest of us are wasting our lives\\t091\\t0\\t2\\t3\\nartunitinc\\tthis one\\t14688452250\\t\\ttrue\\td5gpz50\\thttpiimgurcomjpjbsz0jpg\\t4td1bc\\t\\t33\\tpsbattleartwork\\tthis one\\t\\t0\\t2\\t4\\nkoi666\\tbored christmas cat\\t14827686670\\tireddituploadscom\\ttrue\\t5kecl5\\thttpsexternalpreviewredditoeez21uiwyl9qyszhuhobihxfl8phdq4thrcotutijpgwidth320cropsmartautowebps3f81abc8b3013db4e2121338709f2242c20abdcb\\t\\t10\\t5\\tphotoshopbattles\\tpsbattle bored christmas cat\\t086\\t1\\t0\\t0\\nkluste\\twhere is the fucking backup\\t14761304170\\t\\ttrue\\td8mbzus\\thttpiimgurcom4bkctlujpg\\t56tith\\t\\t2\\tpsbattleartwork\\twhere is the fucking backup\\t\\t0\\t2\\t4\\nal0cac0c\\tbeen staring at this one eared cyclops mouse on my train ride through scotland\\t15688248960\\timgurcom\\ttrue\\td60g9w\\thttpsexternalpreviewreddity3wr32rxnpudybpwgafelgcf2rkiyrgsb9jmv8n0ncajpgwidth320cropsmartautowebpsf99b7f97505aadb40d816857877158668a3b85b5\\t\\t10\\t6\\tpareidolia\\tbeen staring at this one eared cyclops mouse on my train ride through scotland\\t088\\t0\\t2\\t2\\nalltoptodayss\\tmy first gaming pc just arrived in brazil i am sick of politicians giving the same thing as donald trumps star on the head\\t14858170950\\tiimgurcom\\ttrue\\t5r48ow\\thttpsexternalpreviewredditespmttuk3werlgfwgwbswtrusdnu4bi5s2jvragqpngwidth108cropsmartautowebps6bdf4d9c8ec6b3100f803c1cf0848f49a5aee344\\t\\t200\\t31\\tsubredditsimulator\\tmy first gaming pc just arrived in brazil i am sick of politicians giving the same thing as donald trump is star on the head\\t088\\t0\\t2\\t3\\nalsobrante\\tmit engineer browsing incognito mode on early computer\\t15383385790\\tiimgurcom\\ttrue\\t9k9lgj\\thttpsexternalpreviewreddito20cyx0xei4nvxlklfephyl3jcqi3hmpn7e2415u8pngwidth320cropsmartautowebpsd16e7d0d23250c36644e90b66e2e5c9fe559dd6d\\t\\t40\\t173\\tfakehistoryporn\\tmit engineer browsing incognito mode on early computer 1983\\t10\\t0\\t2\\t2\\nalloutnow\\ttrump blocks release of democratic memo on russia probe\\t15182251440\\treuterscom\\ttrue\\t7wi82s\\thttpsexternalpreviewredditu5y07ybiljhjvhqiiaawsr2jdiwno2fxd1cd24xyw4jpgwidth320cropsmartautowebps9edaf07bda93aa9a9d24ee418fa53470fbd32cc2\\t\\t10\\t23\\tusanews\\ttrump blocks release of democratic memo on russia probe  reuters\\t083\\t1\\t0\\t0\\nfoxprowl\\tthe city of los angeles at night seen from space\\t15023846190\\tireddit\\ttrue\\t6sup0y\\thttpspreviewredditw3y6f99jixezjpgwidth320cropsmartautowebps69fa24f2862da454d01a71b6639a27ad491fcbc6\\t\\t00\\t10\\tmisleadingthumbnails\\tthe city of los angeles at night seen from space\\t071\\t0\\t2\\t2\\nblackbanhmi\\ta coffee shop in vietnam where you can soak your feet in anklelevel water with swimming fish\\t15378512390\\tireddit\\ttrue\\t9ip9m3\\thttpspreviewreddity1grvezrfbo11jpgwidth320cropsmartautowebps85a8240a4042389f1d53d9046f983993ddabebd8\\t\\t240\\t87\\tmildlyinteresting\\ta coffee shop in vietnam where you can soak your feet in anklelevel water with swimming fish\\t091\\t1\\t0\\t0\\nsimmo5150\\tthe strangers at the mountains of madness\\t15224165200\\tireddit\\ttrue\\t88abtq\\thttpspreviewredditf5vy9qi7kwo01jpgwidth320cropsmartautowebpsb819fa1c7096cf275cf65a26dca2e33b64e429aa\\t\\t20\\t49\\tfakealbumcovers\\tthe strangers  at the mountains of madness\\t098\\t0\\t2\\t1\\n\\tirafsky district tender compassions x\\t14220205140\\tiimgurcom\\ttrue\\t2tehcz\\thttpsexternalpreviewredditfzyyqnzreki997h31mdauxrkqf4hldirrd9ulxickocpngwidth320cropsmartautowebpsc71ff486b5d749cd93313a3cc14d86cbeae3e2e2\\t\\t10\\t7\\tfakealbumcovers\\tirafsky district  tender compassions 1040x1040\\t10\\t0\\t2\\t1\\nrosetta\\tthis world leader missing from his chair\\t15668525950\\tireddit\\ttrue\\tcvtwtq\\thttpspreviewredditpoaq69oe7ti31jpgwidth320cropsmartautowebpsad1bb72a6d731a440bcd33256c53b1504c1540a0\\t\\t140\\t30\\tphotoshopbattles\\tpsbattle this world leader missing from his chair\\t081\\t1\\t0\\t0\\noxtox\\tmy cat dreaming about his future as a basketballer\\t13746943350\\tiimgurcom\\ttrue\\t1iz5p0\\thttpsexternalpreviewredditkt6fwe0rz41rdzlhbrtzjl1nzl4sbntobquej7dhbyqjpgwidth320cropsmartautowebpsd69173783daa7e0dba2c9d2b3abfdadc650d5d69\\t\\t60\\t3\\tphotoshopbattles\\tmy cat dreaming about his future as a basketballer\\t072\\t1\\t0\\t0\\nchesleafc\\ther period gone wild\\t14202593370\\tiimgurcom\\ttrue\\t2r69ma\\thttpsexternalpreviewredditpswsm7m7rzuw7dmugbbi4blmorcrxtezkrcfylwwjpgwidth320cropsmartautowebpsfb315ebd5bdae391657e48b8fad4bdebe63b8af3\\t\\t50\\t63\\tmisleadingthumbnails\\ther period gone wild\\t068\\t0\\t2\\t2\\nmyemptybagofchips\\tthese snails crowded on a tree\\t15579359120\\tiimgurcom\\ttrue\\tbozp05\\thttpsexternalpreviewreddit6ojt6jvg3hw1yieijuo1c621jdd2cjycqcb2jnkmojpgwidth320cropsmartautowebpsc8acfe313a1737754086f16f07a30124da959b6a\\t\\t50\\t21\\tphotoshopbattles\\tpsbattle these snails crowded on a tree\\t08\\t1\\t0\\t0\\nfriedeggontoast\\ti was driving and saw this house that had a sperm kite flying outside\\t15649479600\\tireddit\\ttrue\\tcm0o0a\\thttpspreviewredditkrgpibi8khe31jpgwidth320cropsmartautowebps18fb1c436e2a825af71a2380646a29297d51affc\\t\\t140\\t8\\tmildlyinteresting\\ti was driving and saw this house that had a sperm kite flying outside\\t079\\t1\\t0\\t0\\nramong941\\tdont skip leg day\\t14473395500\\tiimgurcom\\ttrue\\t3sjdx0\\thttpsexternalpreviewreddityua9ez9xibj7dw4ee44psznfbgrzydlp9mcdans6mjpgwidth320cropsmartautowebpse2fbd201c861263735f76e0ad196907448736152\\t\\t30\\t366\\tconfusingperspective\\tdont skip leg day\\t095\\t0\\t2\\t2\\napicontraption\\tcutouts\\t14079884580\\t\\ttrue\\tcjpqh64\\thttpiimgurcomaqdk3cd2ejpg\\t2di8gm\\t\\t1\\tpsbattleartwork\\tcutouts\\t\\t0\\t2\\t4\\njohnjtaylor\\tstate has st elk sighting in more than centuries\\t14775704090\\tmsncom\\ttrue\\t59nmlp\\thttpsexternalpreviewredditgk9zzwdnsglijfa0uoz6ri4pginibreyfsnbjxzhojpgwidth320cropsmartautowebps31042c360e26d9aea8294e62ff4ea3636b5ff12f\\t\\t30\\t18\\tupliftingnews\\tstate has 1st elk sighting in more than 2 centuries\\t089\\t1\\t0\\t0\\nwosben\\twish you were here\\t14684866640\\t\\ttrue\\td5bqhmr\\thttpiimgurcom6dhjtdujpg\\t4srok6\\t\\t550\\tpsbattleartwork\\twish you were here'"
            ],
            "application/vnd.google.colaboratory.intrinsic+json": {
              "type": "string"
            }
          },
          "metadata": {},
          "execution_count": 38
        }
      ]
    },
    {
      "cell_type": "markdown",
      "source": [
        "###4 Remove words and digits containing digits"
      ],
      "metadata": {
        "id": "9uHZNin36w70"
      }
    },
    {
      "cell_type": "markdown",
      "source": [
        "Sometimes it happens that words and digits combine are written in the text which creates a problem for machines to understand. hence, We need to remove the words and digits which are combined like t60cu90. This type of word is difficult to process so better to remove them or replace them with an empty string. we use regular expressions for this."
      ],
      "metadata": {
        "id": "sckXiuIj6xdT"
      }
    },
    {
      "cell_type": "code",
      "source": [
        "#remove words that contains digets\n",
        "pattern = re.compile(r\"[\\d]\")\n",
        "df_train['text'] = df_train['text'].apply(lambda x: re.sub(pattern,'',x))"
      ],
      "metadata": {
        "id": "QGVtUhI79J42",
        "outputId": "159c1b9c-ef6c-4289-9e07-9aa5fcadac07",
        "colab": {
          "base_uri": "https://localhost:8080/"
        }
      },
      "execution_count": 39,
      "outputs": [
        {
          "output_type": "stream",
          "name": "stderr",
          "text": [
            "/usr/local/lib/python3.7/dist-packages/ipykernel_launcher.py:3: SettingWithCopyWarning:\n",
            "\n",
            "\n",
            "A value is trying to be set on a copy of a slice from a DataFrame.\n",
            "Try using .loc[row_indexer,col_indexer] = value instead\n",
            "\n",
            "See the caveats in the documentation: https://pandas.pydata.org/pandas-docs/stable/user_guide/indexing.html#returning-a-view-versus-a-copy\n",
            "\n"
          ]
        }
      ]
    },
    {
      "cell_type": "code",
      "source": [
        "df_train['text'][0]"
      ],
      "metadata": {
        "id": "L03lrx1H9PP1",
        "outputId": "1f87b2b6-4c8f-441f-9641-33f7837a8f86",
        "colab": {
          "base_uri": "https://localhost:8080/",
          "height": 174
        }
      },
      "execution_count": 40,
      "outputs": [
        {
          "output_type": "execute_result",
          "data": {
            "text/plain": [
              "'a group of friends began to volunteer at a homeless shelter after their neighbors protested seeing another person who鈥檚 also in need you should just naturally be like 鈥業 want to help that person鈥\\t\\t\\t\\t\\nneomegaryumkii\\tdenmark just trolled trump with a bus watch what happens when it moves\\t\\tarchiveis\\ttrue\\tcu\\thttpsexternalpreviewredditshqxowdwnpteebjiqetmgxvvmbbxadwlgzrsjpgwidthcropsmartautowebpsfadcabdafadecabb\\t\\t\\t\\tsavedyouaclick\\tdenmark just trolled trump with a bus watch what happens when it moves  back wheels look like eyes that spin crazily as the bus moves saved a click  short video that goes into slow motion video mirror in comments since archive removed it\\t\\t\\t\\t\\natbthefirst\\tyoung man theres no need to feel down\\t\\t\\ttrue\\tcqiw\\thttpiimgurcomrxtkmujpg\\tute\\t\\t\\tpsbattleartwork\\tyoung man there is no need to feel down\\t\\t\\t\\t\\nbeosronlto\\tmy onion ring chimp\\t\\timgurcom\\ttrue\\tssx\\thttpsexternalpreviewredditmuewxgrxjysiypjqibixpidxrdwoyylnexejpgwidthcropsmartautowebpsffbfaadabaddced\\t\\t\\t\\tpareidolia\\tmy onion ring chimp\\t\\t\\t\\t\\nfoodss\\tthis is what we eat in the images description\\t\\timgurcom\\ttrue\\tmnjdi\\thttpsexternalpreviewredditllesgqetbjasylhffuwckmfbkdrwzaldvdxpoogjpgwidthcropsmartautowebpscbccffdbdbfdfd\\t\\t\\t\\tsubredditsimulator\\tthis is what we eat in the images description\\t\\t\\t\\t\\ncardboardsoyuz\\tarizona man purchases home and discovers an underground hatch in backyard\\t\\twebarchiveorg\\ttrue\\tzmas\\thttpsexternalpreviewredditfbvxmnmhdntqadxsipuenxqcaqktinsglbsvwijpgwidthcropsmartautowebpscdfbbaeddadeadfffc\\t\\t\\t\\tsavedyouaclick\\tarizona man purchases home and discovers an underground hatch in backyard  it leads to an old fallout shelter in pretty good shape it had a couple of cans of supplies in it too  clicks\\t\\t\\t\\t\\nharrybutz\\tthe rpics awards spell out penis\\t\\tireddit\\ttrue\\tcpajkp\\thttpspreviewredditwdnwzfjpgwidthcropsmartautowebpsabdefaeeaeedfbfab\\t\\t\\t\\tmildlyinteresting\\tthe rpics awards spell out penis\\t\\t\\t\\t\\nbillarastg\\ttime traveller assassin attemps to take down obama before he becomes president circa\\t\\tireddit\\ttrue\\tawrrxk\\thttpspreviewredditbehjedplvujjpgwidthcropsmartautowebpsadaafbbedbcfbbd\\t\\t\\t\\tfakehistoryporn\\ttime traveller assassin attemps to take down obama before he becomes president circa \\t\\t\\t\\t\\nmissmaria\\tew\\t\\t\\ttrue\\tcjhqfa\\thttpiimgurcomybejmsjpg\\tcoipv\\t\\t\\tpsbattleartwork\\tew\\t\\t\\t\\t\\nsnlisha\\tislamic state fighters reenter ancient palmyra in syria\\t\\tbbccom\\ttrue\\thlch\\thttpsexternalpreviewredditrofxjbxobsfwnptxgttoxfhkkvhbzqyaojpgwidthcropsmartautowebpsccaaebafffa\\t\\t\\t\\tneutralnews\\tislamic state fighters reenter ancient palmyra in syria\\t\\t\\t\\t\\nraidyrafy\\ttop golf red line warning sign how many people have gotten hurt\\t\\tireddit\\ttrue\\tdvcq\\thttpspreviewredditxtjcufpvmjpgwidthcropsmartautowebpsffeaddedfaede\\t\\t\\t\\tmildlyinteresting\\ttop golf red line warning sign how many people have gotten hurt\\t\\t\\t\\t\\nbudrickbundy\\tthe nfls ratings slide was mainly fueled by white viewers and younger viewers\\t\\tawfulannouncingcom\\ttrue\\tqtfc\\thttpsexternalpreviewredditvqqolqrntschnlxjmyaganseyepolkyfyqjpgwidthcropsmartautowebpsbccdbfbdcceafec\\t\\t\\t\\tusanews\\tthe nfl is  ratings slide was mainly fueled by white viewers and younger viewers\\t\\t\\t\\t\\nbbizzess\\tmeryl streep marries\\t\\tarchiveis\\ttrue\\tgen\\thttpsexternalpreviewredditqaioecfejwfznsewoegkfurrhofbykqaebjpgwidthcropsmartautowebpsadebeeefbbfacefbc\\t\\t\\t\\tsavedyouaclick\\tmeryl streep marries  article says she is marrying robert redford she is not\\t\\t\\t\\t\\napicontraption\\tother discussions\\t\\t\\ttrue\\tcfqkht\\thttpiimgurcomxzobvsejpg\\tz\\t\\t\\tpsbattleartwork\\tother discussions\\t\\t\\t\\t\\naskesl\\tsquash dingres\\t\\t\\ttrue\\tcxtjt\\thttpiimgurcomwrgnjpg\\ttfgjo\\t\\t\\tpsbattleartwork\\tsquash dingres\\t\\t\\t\\t\\ngrahamsaysno\\tthis cactus man\\t\\timgurcom\\ttrue\\tevr\\thttpsexternalpreviewreddittoddphefopewefmjuvbrxdrtruzmrzsaejpgwidthcropsmartautowebpseaeddbaebfebcc\\t\\t\\t\\tpareidolia\\tthis cactus man\\t\\t\\t\\t\\nishitpoopsalot\\troommates stab each other over debate between iphone and samsung\\t\\tktulcom\\ttrue\\twpnv\\thttpsexternalpreviewreddittypziewjmwacgvtjxxcrhxytjucklmhyjzuzatymujpgwidthcropsmartautowebpscefcccfedfdaabe\\t\\t\\t\\tnottheonion\\troommates stab each other over debate between iphone and samsung\\t\\t\\t\\t\\nslithek\\tgot rid of the ant\\t\\t\\ttrue\\tceshx\\thttpiimgurcomhocknejpg\\tcairr\\t\\t\\tpsbattleartwork\\tgot rid of the ant\\t\\t\\t\\t\\njj\\ttitanic\\t\\t\\ttrue\\temvvw\\thttpsiimgurcomwiylatjpg\\tbmyhe\\t\\t\\tpsbattleartwork\\ttitanic\\t\\t\\t\\t\\nthigira\\tdeclaration of independence philadelphia\\t\\tireddit\\ttrue\\tbowf\\thttpspreviewredditvepgvoxnjpgwidthcropsmartautowebpseecebbdcacedec\\t\\t\\t\\tfakehistoryporn\\tdeclaration of independence philadelphia  colorized\\t\\t\\t\\t\\nbobblee\\tthis cloud formation against a sunrise looks like a fire tornado\\t\\tireddit\\ttrue\\taufsm\\thttpspreviewredditfkfxcqkjijpgwidthcropsmartautowebpsbdcbccdbcafabc\\t\\t\\t\\tmildlyinteresting\\tthis cloud formation against a sunrise looks like a fire tornado\\t\\t\\t\\t\\nchispy\\tobligatory faceswap\\t\\t\\ttrue\\tdcdmk\\thttpiimgurcomkbrxblsjpg\\tzzhjk\\t\\t\\tpsbattleartwork\\tobligatory faceswap\\t\\t\\t\\t\\nvt\\texcited dog\\t\\tiimgurcom\\ttrue\\tdekok\\thttpsexternalpreviewredditespmttukwerlgfwgwbswtrusdnubisjvragqpngwidthcropsmartautowebpsbdfdcecbfccffaaee\\t\\t\\t\\tphotoshopbattles\\texcited dog\\t\\t\\t\\t\\nratchetraccoon\\tphotograph of first interracial family in pennsylvania after interracial marriage is legalized circa\\t\\tireddit\\ttrue\\teku\\thttpspreviewredditmydnsdoiktjpgwidthcropsmartautowebpsdbcfccaacbfcecdfffdccabdd\\t\\t\\t\\tfakehistoryporn\\tcolorized photograph of first interracial family in pennsylvania after interracial marriage is legalized circa \\t\\t\\t\\t\\nmrtenpence\\tmy local bus has usb chargers in every seat\\t\\timgurcom\\ttrue\\tiris\\thttpsexternalpreviewredditosuteshciiqokojgnuieaslusyyakojpgwidthcropsmartautowebpsccbfcecfbfaaadfdca\\t\\t\\t\\tmildlyinteresting\\tmy local bus has usb chargers in every seat\\t\\t\\t\\t\\nlucastwaddle\\tthe fact that people keep buying this stuff at the ace harware i work at in texas\\t\\tireddit\\ttrue\\tci\\thttpspreviewredditujxvsnaejpgwidthcropsmartautowebpsbdbccbaeddedca\\t\\t\\t\\tmildlyinteresting\\tthe fact that people keep buying this stuff at the ace harware i work at in texas\\t\\t\\t\\t\\noriginalstix\\thuge tennis racket or mini federer\\t\\t\\ttrue\\tcymkqf\\thttpiimgurcomkwnxbnzjpg\\tzfune\\t\\t\\tpsbattleartwork\\thuge tennis racket or mini federer\\t\\t\\t\\t\\nmangobutter\\tthese cigs in mexico have a photo of a dead body on it also picked it up at a pharmacy who was selling it secretly lol\\t\\tireddit\\ttrue\\tdiv\\thttpspreviewredditjyrsoinjpgwidthcropsmartautowebpscdabffbcddadfedf\\t\\t\\t\\tmildlyinteresting\\tthese cigs in mexico have a photo of a dead body on it also picked it up at a pharmacy who was selling it secretly lol\\t\\t\\t\\t\\nelefanttwoothpaste\\tfat man bomb dropped on nagasaki\\t\\tiimgurcom\\ttrue\\trcz\\thttpsexternalpreviewredditpkjsezbabgukuqvjkzsolsorommybqsocujpgwidthcropsmartautowebpsbaeafcbcbd\\t\\t\\t\\tmisleadingthumbnails\\tfat man bomb dropped on nagasaki  colorized\\t\\t\\t\\t\\nviperdream\\tdeath is close\\t\\t\\ttrue\\tcmws\\thttpiimgurcomvwhyorjpg\\tbiplz\\t\\t\\tpsbattleartwork\\tdeath is close\\t\\t\\t\\t\\nmohhh\\tbritish soldiers during a last stand in the battle of el alamein\\t\\tireddit\\ttrue\\tfx\\thttpspreviewredditqpxntkzwkjpgwidthcropsmartautowebpsfeacdeadfaafadfdeab\\t\\t\\t\\tfakehistoryporn\\tbritish soldiers during a last stand in the battle of el alamein colorized\\t\\t\\t\\t\\nwafflesmoof\\ta year old doingthis\\t\\tiimgurcom\\ttrue\\tpyfx\\thttpsexternalpreviewredditeeduxcbuishmnaljenwxfdygeefdwnpkvagrgkjpgwidthcropsmartautowebpsadceaaddbebcbebbebcde\\t\\t\\t\\tphotoshopbattles\\tpsbattle a year old doingthis\\t\\t\\t\\t\\njwlms\\tboov\\t\\t\\ttrue\\tdafxa\\thttpitinypiccomiqijpg\\tetdl\\t\\t\\tpsbattleartwork\\tboov\\t\\t\\t\\t\\nlordmetrognome\\tthese puppies\\t\\tireddit\\ttrue\\tctmcc\\thttpspreviewredditcfvdjfbgjpgwidthcropsmartautowebpsedefbebfebdddadc\\t\\t\\t\\tphotoshopbattles\\tpsbattle these  puppies\\t\\t\\t\\t\\nswigsweg\\twe raced another plane on my flight back from europe the other day\\t\\timgurcom\\ttrue\\teyng\\thttpsexternalpreviewredditggkfjivjnarsyzpltplfsoijpokjckbajpgwidthcropsmartautowebpsdeadceeadbdadd\\t\\t\\t\\tmildlyinteresting\\twe raced another plane on my flight back from europe the other day\\t\\t\\t\\t\\nblackjack\\ttexas woman uses her coupon clipping skills to help hurricane survivors\\t\\tabcnewsgocom\\ttrue\\tqna\\thttpsexternalpreviewredditxegwjznfyqiwubhowezicaqvniqzwxcujpgwidthcropsmartautowebpsbaedcccdeeafdaeaeef\\t\\t\\t\\tupliftingnews\\ttexas woman uses her coupon clipping skills to help hurricane survivors\\t\\t\\t\\t\\napicontraption\\tcutouts\\t\\t\\ttrue\\tckzeba\\thttpiimgurcomushcweejpg\\tiymd\\t\\t\\tpsbattleartwork\\tcutouts\\t\\t\\t\\t\\njargos\\tidk might be nsfw\\t\\t\\ttrue\\tcaxeexm\\thttpiimgurcombodacjpg\\thsjh\\t\\t\\tpsbattleartwork\\tidk might be nsfw\\t\\t\\t\\t\\neneduerabe\\tdeep inside shes no different\\t\\t\\ttrue\\tdxsep\\thttpsiimgurcompqnffrsjpg\\tepy\\t\\t\\tpsbattleartwork\\tdeep inside she is no different\\t\\t\\t\\t\\nrizilus\\tbig head\\t\\t\\ttrue\\tdxvmcd\\thttpsiimgurcomkfoaujpg\\teett\\t\\t\\tpsbattleartwork\\tbig head\\t\\t\\t\\t\\nchibucks\\teveryone looks so yummy\\t\\t\\ttrue\\tcwdtqc\\thttpiimgurcomfatnijpg\\tqzg\\t\\t\\tpsbattleartwork\\teveryone looks so yummy\\t\\t\\t\\t\\n\\tthis guy at the adult vr festival in tokyo this weekend\\t\\tikinjaimgcom\\ttrue\\tnvas\\thttpsexternalpreviewredditxejzyusubxwjndjalhpucwnfzjocfbdxitayjpgwidthcropsmartautowebpseadfcbbfbceeedeb\\t\\t\\t\\tphotoshopbattles\\tpsbattle this guy at the adult vr festival in tokyo this weekend\\t\\t\\t\\t\\ndizzyellie\\tobligitory\\t\\t\\ttrue\\tdochd\\thttpiimgurcomzpnfejpg\\tzp\\t\\t\\tpsbattleartwork\\tobligitory\\t\\t\\t\\t\\nalltoptodayss\\telephant seal pup says hello to a post from a few floors above\\t\\tireddit\\ttrue\\tbvctt\\thttpspreviewredditgcpmrlfjpgwidthcropsmartautowebpsdecaebddeebcbbdee\\t\\t\\t\\tsubredditsimulator\\telephant seal pup says hello to a post from a few floors above\\t\\t\\t\\t\\nshinji\\twhat elon doesnt want you to see\\t\\t\\ttrue\\tdumjqa\\thttpsiimgurcomxrbpvxwjpg\\twlvo\\t\\t\\tpsbattleartwork\\twhat elon doesnt want you to see\\t\\t\\t\\t\\nthecreativenick\\tblue turtle with a dirty shell\\t\\tireddit\\ttrue\\tcgjwhn\\thttpspreviewredditqdswjxbjpgwidthcropsmartautowebpscccadeaeeaadfae\\t\\t\\t\\tphotoshopbattles\\tpsbattle blue turtle with a dirty shell\\t\\t\\t\\t\\ncauseofb\\tjapanese depiction of an american warship\\t\\tiimgurcom\\ttrue\\tun\\thttpsexternalpreviewredditdazzggladbjqszljsttafhrluqzmbtnakwsgwjpgwidthcropsmartautowebpsdcfbdeadcbfcbbbaa\\t\\t\\t\\tpropagandaposters\\tjapanese depiction of an american warship \\t\\t\\t\\t\\n\\tlittle girl in a white dress looking out a window\\t\\timgurcom\\ttrue\\tcsrn\\thttpsexternalpreviewredditpwetmokslvyssnkpkuyrocldopcaeagqqoxookjpgwidthcropsmartautowebpsfffffbfabaffabbf\\t\\t\\t\\tmisleadingthumbnails\\tlittle girl in a white dress looking out a window\\t\\t\\t\\t\\ndrxtreme\\tkeep your head above\\t\\t\\ttrue\\tchfmuw\\thttpiimgurcomjqwfijpg\\tbe\\t\\t\\tpsbattleartwork\\tkeep your head above\\t\\t\\t\\t\\nifyouonlyknew\\toh north koreas invading well let me just go and get my fucking clown shoes\\t\\t\\ttrue\\tcumnyd\\thttpiimgurcomhmptijpg\\taupj\\t\\t\\tpsbattleartwork\\toh north korea is invading well let me just go and get my fucking clown shoes\\t\\t\\t\\t\\ngetmotivatedss\\tarticle one of the rest of us are wasting our lives\\t\\tbrainpickingsorg\\ttrue\\ttxxj\\thttpsexternalpreviewredditrqrgffhpgufwtcexdjclyewulcyrurszuhowjpgwidthcropsmartautowebpsfeadabaefbfbdae\\t\\t\\t\\tsubredditsimulator\\tarticle one of the rest of us are wasting our lives\\t\\t\\t\\t\\nartunitinc\\tthis one\\t\\t\\ttrue\\tdgpz\\thttpiimgurcomjpjbszjpg\\ttdbc\\t\\t\\tpsbattleartwork\\tthis one\\t\\t\\t\\t\\nkoi\\tbored christmas cat\\t\\tireddituploadscom\\ttrue\\tkecl\\thttpsexternalpreviewredditoeezuiwylqyszhuhobihxflphdqthrcotutijpgwidthcropsmartautowebpsfabcbdbefcabdcb\\t\\t\\t\\tphotoshopbattles\\tpsbattle bored christmas cat\\t\\t\\t\\t\\nkluste\\twhere is the fucking backup\\t\\t\\ttrue\\tdmbzus\\thttpiimgurcombkctlujpg\\ttith\\t\\t\\tpsbattleartwork\\twhere is the fucking backup\\t\\t\\t\\t\\nalcacc\\tbeen staring at this one eared cyclops mouse on my train ride through scotland\\t\\timgurcom\\ttrue\\tdgw\\thttpsexternalpreviewredditywrrxnpudybpwgafelgcfrkiyrgsbjmvnncajpgwidthcropsmartautowebpsfbfaadbdabb\\t\\t\\t\\tpareidolia\\tbeen staring at this one eared cyclops mouse on my train ride through scotland\\t\\t\\t\\t\\nalltoptodayss\\tmy first gaming pc just arrived in brazil i am sick of politicians giving the same thing as donald trumps star on the head\\t\\tiimgurcom\\ttrue\\trow\\thttpsexternalpreviewredditespmttukwerlgfwgwbswtrusdnubisjvragqpngwidthcropsmartautowebpsbdfdcecbfccffaaee\\t\\t\\t\\tsubredditsimulator\\tmy first gaming pc just arrived in brazil i am sick of politicians giving the same thing as donald trump is star on the head\\t\\t\\t\\t\\nalsobrante\\tmit engineer browsing incognito mode on early computer\\t\\tiimgurcom\\ttrue\\tklgj\\thttpsexternalpreviewredditocyxxeinvxlklfephyljcqihmpneupngwidthcropsmartautowebpsdeddcebeecfeddd\\t\\t\\t\\tfakehistoryporn\\tmit engineer browsing incognito mode on early computer \\t\\t\\t\\t\\nalloutnow\\ttrump blocks release of democratic memo on russia probe\\t\\treuterscom\\ttrue\\twis\\thttpsexternalpreviewreddituyybiljhjvhqiiaawsrjdiwnofxdcdxywjpgwidthcropsmartautowebpsedafbdaaaadeefafbdcc\\t\\t\\t\\tusanews\\ttrump blocks release of democratic memo on russia probe  reuters\\t\\t\\t\\t\\nfoxprowl\\tthe city of los angeles at night seen from space\\t\\tireddit\\ttrue\\tsupy\\thttpspreviewredditwyfjixezjpgwidthcropsmartautowebpsfafdadabaadfcbc\\t\\t\\t\\tmisleadingthumbnails\\tthe city of los angeles at night seen from space\\t\\t\\t\\t\\nblackbanhmi\\ta coffee shop in vietnam where you can soak your feet in anklelevel water with swimming fish\\t\\tireddit\\ttrue\\tipm\\thttpspreviewredditygrvezrfbojpgwidthcropsmartautowebpsaafddfddabebd\\t\\t\\t\\tmildlyinteresting\\ta coffee shop in vietnam where you can soak your feet in anklelevel water with swimming fish\\t\\t\\t\\t\\nsimmo\\tthe strangers at the mountains of madness\\t\\tireddit\\ttrue\\tabtq\\thttpspreviewredditfvyqikwojpgwidthcropsmartautowebpsbfaccfcfadcaebeaa\\t\\t\\t\\tfakealbumcovers\\tthe strangers  at the mountains of madness\\t\\t\\t\\t\\n\\tirafsky district tender compassions x\\t\\tiimgurcom\\ttrue\\ttehcz\\thttpsexternalpreviewredditfzyyqnzrekihmdauxrkqfhldirrdulxickocpngwidthcropsmartautowebpscffbdcdaccdcbeaeee\\t\\t\\t\\tfakealbumcovers\\tirafsky district  tender compassions x\\t\\t\\t\\t\\nrosetta\\tthis world leader missing from his chair\\t\\tireddit\\ttrue\\tcvtwtq\\thttpspreviewredditpoaqoetijpgwidthcropsmartautowebpsadbbadabcdcbca\\t\\t\\t\\tphotoshopbattles\\tpsbattle this world leader missing from his chair\\t\\t\\t\\t\\noxtox\\tmy cat dreaming about his future as a basketballer\\t\\tiimgurcom\\ttrue\\tizp\\thttpsexternalpreviewredditktfwerzrdzlhbrtzjlnzlsbntobquejdhbyqjpgwidthcropsmartautowebpsddaaedbacdbabfdadcdd\\t\\t\\t\\tphotoshopbattles\\tmy cat dreaming about his future as a basketballer\\t\\t\\t\\t\\nchesleafc\\ther period gone wild\\t\\tiimgurcom\\ttrue\\trma\\thttpsexternalpreviewredditpswsmmrzuwdmugbbiblmorcrxtezkrcfylwwjpgwidthcropsmartautowebpsfbebdbdaeebfadbdebebaf\\t\\t\\t\\tmisleadingthumbnails\\ther period gone wild\\t\\t\\t\\t\\nmyemptybagofchips\\tthese snails crowded on a tree\\t\\tiimgurcom\\ttrue\\tbozp\\thttpsexternalpreviewredditojtjvghwyieijuocjddcjycqcbjnkmojpgwidthcropsmartautowebpscacfeaffadaba\\t\\t\\t\\tphotoshopbattles\\tpsbattle these snails crowded on a tree\\t\\t\\t\\t\\nfriedeggontoast\\ti was driving and saw this house that had a sperm kite flying outside\\t\\tireddit\\ttrue\\tcmoa\\thttpspreviewredditkrgpibikhejpgwidthcropsmartautowebpsfbceaafaadaffc\\t\\t\\t\\tmildlyinteresting\\ti was driving and saw this house that had a sperm kite flying outside\\t\\t\\t\\t\\nramong\\tdont skip leg day\\t\\tiimgurcom\\ttrue\\tsjdx\\thttpsexternalpreviewreddityuaezxibjdweepsznfbgrzydlpmcdansmjpgwidthcropsmartautowebpsefbdcfead\\t\\t\\t\\tconfusingperspective\\tdont skip leg day\\t\\t\\t\\t\\napicontraption\\tcutouts\\t\\t\\ttrue\\tcjpqh\\thttpiimgurcomaqdkcdejpg\\tdigm\\t\\t\\tpsbattleartwork\\tcutouts\\t\\t\\t\\t\\njohnjtaylor\\tstate has st elk sighting in more than centuries\\t\\tmsncom\\ttrue\\tnmlp\\thttpsexternalpreviewredditgkzzwdnsglijfauozripginibreyfsnbjxzhojpgwidthcropsmartautowebpscedaeaeffeabfff\\t\\t\\t\\tupliftingnews\\tstate has st elk sighting in more than  centuries\\t\\t\\t\\t\\nwosben\\twish you were here\\t\\t\\ttrue\\tdbqhmr\\thttpiimgurcomdhjtdujpg\\tsrok\\t\\t\\tpsbattleartwork\\twish you were here'"
            ],
            "application/vnd.google.colaboratory.intrinsic+json": {
              "type": "string"
            }
          },
          "metadata": {},
          "execution_count": 40
        }
      ]
    },
    {
      "cell_type": "code",
      "source": [
        ""
      ],
      "metadata": {
        "id": "9EZM4hsGCVVf"
      },
      "execution_count": 40,
      "outputs": []
    },
    {
      "cell_type": "markdown",
      "source": [
        "###5 Remove Stopwords"
      ],
      "metadata": {
        "id": "IhLpr81zBXTI"
      }
    },
    {
      "cell_type": "markdown",
      "source": [
        "Stopwords are the most commonly occurring words in a text which do not provide any valuable information. stopwords like they, there, this, where, etc are some of the stopwords. NLTK library is a common library that is used to remove stopwords and include approximately 180 stopwords which it removes. If we want to add any new word to a set of words then it is easy using the add method."
      ],
      "metadata": {
        "id": "DkMZhmjTBXxe"
      }
    },
    {
      "cell_type": "code",
      "source": [
        "# import nltk\n",
        "# nltk.download('stopwords')"
      ],
      "metadata": {
        "id": "pYuGUJPndwg-"
      },
      "execution_count": 41,
      "outputs": []
    },
    {
      "cell_type": "code",
      "source": [
        "# #remove stopwords\n",
        "# from nltk.corpus import stopwords\n",
        "# stop_words = set(stopwords.words('english'))\n",
        "# stop_words.add('subject')\n",
        "# stop_words.add('http')\n",
        "# def remove_stopwords(text):\n",
        "#     return \" \".join([word for word in str(text).split() if word not in stop_words])\n",
        "# df_train['text'] = df_train['text'].apply(lambda x: remove_stopwords(x))"
      ],
      "metadata": {
        "id": "df_z4bRWB8I7"
      },
      "execution_count": 42,
      "outputs": []
    },
    {
      "cell_type": "code",
      "source": [
        "df_train['text'][0]"
      ],
      "metadata": {
        "id": "mw7lD2IgCLN3",
        "outputId": "cfa85841-1e24-41e0-b684-a95be0a9b90d",
        "colab": {
          "base_uri": "https://localhost:8080/",
          "height": 174
        }
      },
      "execution_count": 43,
      "outputs": [
        {
          "output_type": "execute_result",
          "data": {
            "text/plain": [
              "'a group of friends began to volunteer at a homeless shelter after their neighbors protested seeing another person who鈥檚 also in need you should just naturally be like 鈥業 want to help that person鈥\\t\\t\\t\\t\\nneomegaryumkii\\tdenmark just trolled trump with a bus watch what happens when it moves\\t\\tarchiveis\\ttrue\\tcu\\thttpsexternalpreviewredditshqxowdwnpteebjiqetmgxvvmbbxadwlgzrsjpgwidthcropsmartautowebpsfadcabdafadecabb\\t\\t\\t\\tsavedyouaclick\\tdenmark just trolled trump with a bus watch what happens when it moves  back wheels look like eyes that spin crazily as the bus moves saved a click  short video that goes into slow motion video mirror in comments since archive removed it\\t\\t\\t\\t\\natbthefirst\\tyoung man theres no need to feel down\\t\\t\\ttrue\\tcqiw\\thttpiimgurcomrxtkmujpg\\tute\\t\\t\\tpsbattleartwork\\tyoung man there is no need to feel down\\t\\t\\t\\t\\nbeosronlto\\tmy onion ring chimp\\t\\timgurcom\\ttrue\\tssx\\thttpsexternalpreviewredditmuewxgrxjysiypjqibixpidxrdwoyylnexejpgwidthcropsmartautowebpsffbfaadabaddced\\t\\t\\t\\tpareidolia\\tmy onion ring chimp\\t\\t\\t\\t\\nfoodss\\tthis is what we eat in the images description\\t\\timgurcom\\ttrue\\tmnjdi\\thttpsexternalpreviewredditllesgqetbjasylhffuwckmfbkdrwzaldvdxpoogjpgwidthcropsmartautowebpscbccffdbdbfdfd\\t\\t\\t\\tsubredditsimulator\\tthis is what we eat in the images description\\t\\t\\t\\t\\ncardboardsoyuz\\tarizona man purchases home and discovers an underground hatch in backyard\\t\\twebarchiveorg\\ttrue\\tzmas\\thttpsexternalpreviewredditfbvxmnmhdntqadxsipuenxqcaqktinsglbsvwijpgwidthcropsmartautowebpscdfbbaeddadeadfffc\\t\\t\\t\\tsavedyouaclick\\tarizona man purchases home and discovers an underground hatch in backyard  it leads to an old fallout shelter in pretty good shape it had a couple of cans of supplies in it too  clicks\\t\\t\\t\\t\\nharrybutz\\tthe rpics awards spell out penis\\t\\tireddit\\ttrue\\tcpajkp\\thttpspreviewredditwdnwzfjpgwidthcropsmartautowebpsabdefaeeaeedfbfab\\t\\t\\t\\tmildlyinteresting\\tthe rpics awards spell out penis\\t\\t\\t\\t\\nbillarastg\\ttime traveller assassin attemps to take down obama before he becomes president circa\\t\\tireddit\\ttrue\\tawrrxk\\thttpspreviewredditbehjedplvujjpgwidthcropsmartautowebpsadaafbbedbcfbbd\\t\\t\\t\\tfakehistoryporn\\ttime traveller assassin attemps to take down obama before he becomes president circa \\t\\t\\t\\t\\nmissmaria\\tew\\t\\t\\ttrue\\tcjhqfa\\thttpiimgurcomybejmsjpg\\tcoipv\\t\\t\\tpsbattleartwork\\tew\\t\\t\\t\\t\\nsnlisha\\tislamic state fighters reenter ancient palmyra in syria\\t\\tbbccom\\ttrue\\thlch\\thttpsexternalpreviewredditrofxjbxobsfwnptxgttoxfhkkvhbzqyaojpgwidthcropsmartautowebpsccaaebafffa\\t\\t\\t\\tneutralnews\\tislamic state fighters reenter ancient palmyra in syria\\t\\t\\t\\t\\nraidyrafy\\ttop golf red line warning sign how many people have gotten hurt\\t\\tireddit\\ttrue\\tdvcq\\thttpspreviewredditxtjcufpvmjpgwidthcropsmartautowebpsffeaddedfaede\\t\\t\\t\\tmildlyinteresting\\ttop golf red line warning sign how many people have gotten hurt\\t\\t\\t\\t\\nbudrickbundy\\tthe nfls ratings slide was mainly fueled by white viewers and younger viewers\\t\\tawfulannouncingcom\\ttrue\\tqtfc\\thttpsexternalpreviewredditvqqolqrntschnlxjmyaganseyepolkyfyqjpgwidthcropsmartautowebpsbccdbfbdcceafec\\t\\t\\t\\tusanews\\tthe nfl is  ratings slide was mainly fueled by white viewers and younger viewers\\t\\t\\t\\t\\nbbizzess\\tmeryl streep marries\\t\\tarchiveis\\ttrue\\tgen\\thttpsexternalpreviewredditqaioecfejwfznsewoegkfurrhofbykqaebjpgwidthcropsmartautowebpsadebeeefbbfacefbc\\t\\t\\t\\tsavedyouaclick\\tmeryl streep marries  article says she is marrying robert redford she is not\\t\\t\\t\\t\\napicontraption\\tother discussions\\t\\t\\ttrue\\tcfqkht\\thttpiimgurcomxzobvsejpg\\tz\\t\\t\\tpsbattleartwork\\tother discussions\\t\\t\\t\\t\\naskesl\\tsquash dingres\\t\\t\\ttrue\\tcxtjt\\thttpiimgurcomwrgnjpg\\ttfgjo\\t\\t\\tpsbattleartwork\\tsquash dingres\\t\\t\\t\\t\\ngrahamsaysno\\tthis cactus man\\t\\timgurcom\\ttrue\\tevr\\thttpsexternalpreviewreddittoddphefopewefmjuvbrxdrtruzmrzsaejpgwidthcropsmartautowebpseaeddbaebfebcc\\t\\t\\t\\tpareidolia\\tthis cactus man\\t\\t\\t\\t\\nishitpoopsalot\\troommates stab each other over debate between iphone and samsung\\t\\tktulcom\\ttrue\\twpnv\\thttpsexternalpreviewreddittypziewjmwacgvtjxxcrhxytjucklmhyjzuzatymujpgwidthcropsmartautowebpscefcccfedfdaabe\\t\\t\\t\\tnottheonion\\troommates stab each other over debate between iphone and samsung\\t\\t\\t\\t\\nslithek\\tgot rid of the ant\\t\\t\\ttrue\\tceshx\\thttpiimgurcomhocknejpg\\tcairr\\t\\t\\tpsbattleartwork\\tgot rid of the ant\\t\\t\\t\\t\\njj\\ttitanic\\t\\t\\ttrue\\temvvw\\thttpsiimgurcomwiylatjpg\\tbmyhe\\t\\t\\tpsbattleartwork\\ttitanic\\t\\t\\t\\t\\nthigira\\tdeclaration of independence philadelphia\\t\\tireddit\\ttrue\\tbowf\\thttpspreviewredditvepgvoxnjpgwidthcropsmartautowebpseecebbdcacedec\\t\\t\\t\\tfakehistoryporn\\tdeclaration of independence philadelphia  colorized\\t\\t\\t\\t\\nbobblee\\tthis cloud formation against a sunrise looks like a fire tornado\\t\\tireddit\\ttrue\\taufsm\\thttpspreviewredditfkfxcqkjijpgwidthcropsmartautowebpsbdcbccdbcafabc\\t\\t\\t\\tmildlyinteresting\\tthis cloud formation against a sunrise looks like a fire tornado\\t\\t\\t\\t\\nchispy\\tobligatory faceswap\\t\\t\\ttrue\\tdcdmk\\thttpiimgurcomkbrxblsjpg\\tzzhjk\\t\\t\\tpsbattleartwork\\tobligatory faceswap\\t\\t\\t\\t\\nvt\\texcited dog\\t\\tiimgurcom\\ttrue\\tdekok\\thttpsexternalpreviewredditespmttukwerlgfwgwbswtrusdnubisjvragqpngwidthcropsmartautowebpsbdfdcecbfccffaaee\\t\\t\\t\\tphotoshopbattles\\texcited dog\\t\\t\\t\\t\\nratchetraccoon\\tphotograph of first interracial family in pennsylvania after interracial marriage is legalized circa\\t\\tireddit\\ttrue\\teku\\thttpspreviewredditmydnsdoiktjpgwidthcropsmartautowebpsdbcfccaacbfcecdfffdccabdd\\t\\t\\t\\tfakehistoryporn\\tcolorized photograph of first interracial family in pennsylvania after interracial marriage is legalized circa \\t\\t\\t\\t\\nmrtenpence\\tmy local bus has usb chargers in every seat\\t\\timgurcom\\ttrue\\tiris\\thttpsexternalpreviewredditosuteshciiqokojgnuieaslusyyakojpgwidthcropsmartautowebpsccbfcecfbfaaadfdca\\t\\t\\t\\tmildlyinteresting\\tmy local bus has usb chargers in every seat\\t\\t\\t\\t\\nlucastwaddle\\tthe fact that people keep buying this stuff at the ace harware i work at in texas\\t\\tireddit\\ttrue\\tci\\thttpspreviewredditujxvsnaejpgwidthcropsmartautowebpsbdbccbaeddedca\\t\\t\\t\\tmildlyinteresting\\tthe fact that people keep buying this stuff at the ace harware i work at in texas\\t\\t\\t\\t\\noriginalstix\\thuge tennis racket or mini federer\\t\\t\\ttrue\\tcymkqf\\thttpiimgurcomkwnxbnzjpg\\tzfune\\t\\t\\tpsbattleartwork\\thuge tennis racket or mini federer\\t\\t\\t\\t\\nmangobutter\\tthese cigs in mexico have a photo of a dead body on it also picked it up at a pharmacy who was selling it secretly lol\\t\\tireddit\\ttrue\\tdiv\\thttpspreviewredditjyrsoinjpgwidthcropsmartautowebpscdabffbcddadfedf\\t\\t\\t\\tmildlyinteresting\\tthese cigs in mexico have a photo of a dead body on it also picked it up at a pharmacy who was selling it secretly lol\\t\\t\\t\\t\\nelefanttwoothpaste\\tfat man bomb dropped on nagasaki\\t\\tiimgurcom\\ttrue\\trcz\\thttpsexternalpreviewredditpkjsezbabgukuqvjkzsolsorommybqsocujpgwidthcropsmartautowebpsbaeafcbcbd\\t\\t\\t\\tmisleadingthumbnails\\tfat man bomb dropped on nagasaki  colorized\\t\\t\\t\\t\\nviperdream\\tdeath is close\\t\\t\\ttrue\\tcmws\\thttpiimgurcomvwhyorjpg\\tbiplz\\t\\t\\tpsbattleartwork\\tdeath is close\\t\\t\\t\\t\\nmohhh\\tbritish soldiers during a last stand in the battle of el alamein\\t\\tireddit\\ttrue\\tfx\\thttpspreviewredditqpxntkzwkjpgwidthcropsmartautowebpsfeacdeadfaafadfdeab\\t\\t\\t\\tfakehistoryporn\\tbritish soldiers during a last stand in the battle of el alamein colorized\\t\\t\\t\\t\\nwafflesmoof\\ta year old doingthis\\t\\tiimgurcom\\ttrue\\tpyfx\\thttpsexternalpreviewredditeeduxcbuishmnaljenwxfdygeefdwnpkvagrgkjpgwidthcropsmartautowebpsadceaaddbebcbebbebcde\\t\\t\\t\\tphotoshopbattles\\tpsbattle a year old doingthis\\t\\t\\t\\t\\njwlms\\tboov\\t\\t\\ttrue\\tdafxa\\thttpitinypiccomiqijpg\\tetdl\\t\\t\\tpsbattleartwork\\tboov\\t\\t\\t\\t\\nlordmetrognome\\tthese puppies\\t\\tireddit\\ttrue\\tctmcc\\thttpspreviewredditcfvdjfbgjpgwidthcropsmartautowebpsedefbebfebdddadc\\t\\t\\t\\tphotoshopbattles\\tpsbattle these  puppies\\t\\t\\t\\t\\nswigsweg\\twe raced another plane on my flight back from europe the other day\\t\\timgurcom\\ttrue\\teyng\\thttpsexternalpreviewredditggkfjivjnarsyzpltplfsoijpokjckbajpgwidthcropsmartautowebpsdeadceeadbdadd\\t\\t\\t\\tmildlyinteresting\\twe raced another plane on my flight back from europe the other day\\t\\t\\t\\t\\nblackjack\\ttexas woman uses her coupon clipping skills to help hurricane survivors\\t\\tabcnewsgocom\\ttrue\\tqna\\thttpsexternalpreviewredditxegwjznfyqiwubhowezicaqvniqzwxcujpgwidthcropsmartautowebpsbaedcccdeeafdaeaeef\\t\\t\\t\\tupliftingnews\\ttexas woman uses her coupon clipping skills to help hurricane survivors\\t\\t\\t\\t\\napicontraption\\tcutouts\\t\\t\\ttrue\\tckzeba\\thttpiimgurcomushcweejpg\\tiymd\\t\\t\\tpsbattleartwork\\tcutouts\\t\\t\\t\\t\\njargos\\tidk might be nsfw\\t\\t\\ttrue\\tcaxeexm\\thttpiimgurcombodacjpg\\thsjh\\t\\t\\tpsbattleartwork\\tidk might be nsfw\\t\\t\\t\\t\\neneduerabe\\tdeep inside shes no different\\t\\t\\ttrue\\tdxsep\\thttpsiimgurcompqnffrsjpg\\tepy\\t\\t\\tpsbattleartwork\\tdeep inside she is no different\\t\\t\\t\\t\\nrizilus\\tbig head\\t\\t\\ttrue\\tdxvmcd\\thttpsiimgurcomkfoaujpg\\teett\\t\\t\\tpsbattleartwork\\tbig head\\t\\t\\t\\t\\nchibucks\\teveryone looks so yummy\\t\\t\\ttrue\\tcwdtqc\\thttpiimgurcomfatnijpg\\tqzg\\t\\t\\tpsbattleartwork\\teveryone looks so yummy\\t\\t\\t\\t\\n\\tthis guy at the adult vr festival in tokyo this weekend\\t\\tikinjaimgcom\\ttrue\\tnvas\\thttpsexternalpreviewredditxejzyusubxwjndjalhpucwnfzjocfbdxitayjpgwidthcropsmartautowebpseadfcbbfbceeedeb\\t\\t\\t\\tphotoshopbattles\\tpsbattle this guy at the adult vr festival in tokyo this weekend\\t\\t\\t\\t\\ndizzyellie\\tobligitory\\t\\t\\ttrue\\tdochd\\thttpiimgurcomzpnfejpg\\tzp\\t\\t\\tpsbattleartwork\\tobligitory\\t\\t\\t\\t\\nalltoptodayss\\telephant seal pup says hello to a post from a few floors above\\t\\tireddit\\ttrue\\tbvctt\\thttpspreviewredditgcpmrlfjpgwidthcropsmartautowebpsdecaebddeebcbbdee\\t\\t\\t\\tsubredditsimulator\\telephant seal pup says hello to a post from a few floors above\\t\\t\\t\\t\\nshinji\\twhat elon doesnt want you to see\\t\\t\\ttrue\\tdumjqa\\thttpsiimgurcomxrbpvxwjpg\\twlvo\\t\\t\\tpsbattleartwork\\twhat elon doesnt want you to see\\t\\t\\t\\t\\nthecreativenick\\tblue turtle with a dirty shell\\t\\tireddit\\ttrue\\tcgjwhn\\thttpspreviewredditqdswjxbjpgwidthcropsmartautowebpscccadeaeeaadfae\\t\\t\\t\\tphotoshopbattles\\tpsbattle blue turtle with a dirty shell\\t\\t\\t\\t\\ncauseofb\\tjapanese depiction of an american warship\\t\\tiimgurcom\\ttrue\\tun\\thttpsexternalpreviewredditdazzggladbjqszljsttafhrluqzmbtnakwsgwjpgwidthcropsmartautowebpsdcfbdeadcbfcbbbaa\\t\\t\\t\\tpropagandaposters\\tjapanese depiction of an american warship \\t\\t\\t\\t\\n\\tlittle girl in a white dress looking out a window\\t\\timgurcom\\ttrue\\tcsrn\\thttpsexternalpreviewredditpwetmokslvyssnkpkuyrocldopcaeagqqoxookjpgwidthcropsmartautowebpsfffffbfabaffabbf\\t\\t\\t\\tmisleadingthumbnails\\tlittle girl in a white dress looking out a window\\t\\t\\t\\t\\ndrxtreme\\tkeep your head above\\t\\t\\ttrue\\tchfmuw\\thttpiimgurcomjqwfijpg\\tbe\\t\\t\\tpsbattleartwork\\tkeep your head above\\t\\t\\t\\t\\nifyouonlyknew\\toh north koreas invading well let me just go and get my fucking clown shoes\\t\\t\\ttrue\\tcumnyd\\thttpiimgurcomhmptijpg\\taupj\\t\\t\\tpsbattleartwork\\toh north korea is invading well let me just go and get my fucking clown shoes\\t\\t\\t\\t\\ngetmotivatedss\\tarticle one of the rest of us are wasting our lives\\t\\tbrainpickingsorg\\ttrue\\ttxxj\\thttpsexternalpreviewredditrqrgffhpgufwtcexdjclyewulcyrurszuhowjpgwidthcropsmartautowebpsfeadabaefbfbdae\\t\\t\\t\\tsubredditsimulator\\tarticle one of the rest of us are wasting our lives\\t\\t\\t\\t\\nartunitinc\\tthis one\\t\\t\\ttrue\\tdgpz\\thttpiimgurcomjpjbszjpg\\ttdbc\\t\\t\\tpsbattleartwork\\tthis one\\t\\t\\t\\t\\nkoi\\tbored christmas cat\\t\\tireddituploadscom\\ttrue\\tkecl\\thttpsexternalpreviewredditoeezuiwylqyszhuhobihxflphdqthrcotutijpgwidthcropsmartautowebpsfabcbdbefcabdcb\\t\\t\\t\\tphotoshopbattles\\tpsbattle bored christmas cat\\t\\t\\t\\t\\nkluste\\twhere is the fucking backup\\t\\t\\ttrue\\tdmbzus\\thttpiimgurcombkctlujpg\\ttith\\t\\t\\tpsbattleartwork\\twhere is the fucking backup\\t\\t\\t\\t\\nalcacc\\tbeen staring at this one eared cyclops mouse on my train ride through scotland\\t\\timgurcom\\ttrue\\tdgw\\thttpsexternalpreviewredditywrrxnpudybpwgafelgcfrkiyrgsbjmvnncajpgwidthcropsmartautowebpsfbfaadbdabb\\t\\t\\t\\tpareidolia\\tbeen staring at this one eared cyclops mouse on my train ride through scotland\\t\\t\\t\\t\\nalltoptodayss\\tmy first gaming pc just arrived in brazil i am sick of politicians giving the same thing as donald trumps star on the head\\t\\tiimgurcom\\ttrue\\trow\\thttpsexternalpreviewredditespmttukwerlgfwgwbswtrusdnubisjvragqpngwidthcropsmartautowebpsbdfdcecbfccffaaee\\t\\t\\t\\tsubredditsimulator\\tmy first gaming pc just arrived in brazil i am sick of politicians giving the same thing as donald trump is star on the head\\t\\t\\t\\t\\nalsobrante\\tmit engineer browsing incognito mode on early computer\\t\\tiimgurcom\\ttrue\\tklgj\\thttpsexternalpreviewredditocyxxeinvxlklfephyljcqihmpneupngwidthcropsmartautowebpsdeddcebeecfeddd\\t\\t\\t\\tfakehistoryporn\\tmit engineer browsing incognito mode on early computer \\t\\t\\t\\t\\nalloutnow\\ttrump blocks release of democratic memo on russia probe\\t\\treuterscom\\ttrue\\twis\\thttpsexternalpreviewreddituyybiljhjvhqiiaawsrjdiwnofxdcdxywjpgwidthcropsmartautowebpsedafbdaaaadeefafbdcc\\t\\t\\t\\tusanews\\ttrump blocks release of democratic memo on russia probe  reuters\\t\\t\\t\\t\\nfoxprowl\\tthe city of los angeles at night seen from space\\t\\tireddit\\ttrue\\tsupy\\thttpspreviewredditwyfjixezjpgwidthcropsmartautowebpsfafdadabaadfcbc\\t\\t\\t\\tmisleadingthumbnails\\tthe city of los angeles at night seen from space\\t\\t\\t\\t\\nblackbanhmi\\ta coffee shop in vietnam where you can soak your feet in anklelevel water with swimming fish\\t\\tireddit\\ttrue\\tipm\\thttpspreviewredditygrvezrfbojpgwidthcropsmartautowebpsaafddfddabebd\\t\\t\\t\\tmildlyinteresting\\ta coffee shop in vietnam where you can soak your feet in anklelevel water with swimming fish\\t\\t\\t\\t\\nsimmo\\tthe strangers at the mountains of madness\\t\\tireddit\\ttrue\\tabtq\\thttpspreviewredditfvyqikwojpgwidthcropsmartautowebpsbfaccfcfadcaebeaa\\t\\t\\t\\tfakealbumcovers\\tthe strangers  at the mountains of madness\\t\\t\\t\\t\\n\\tirafsky district tender compassions x\\t\\tiimgurcom\\ttrue\\ttehcz\\thttpsexternalpreviewredditfzyyqnzrekihmdauxrkqfhldirrdulxickocpngwidthcropsmartautowebpscffbdcdaccdcbeaeee\\t\\t\\t\\tfakealbumcovers\\tirafsky district  tender compassions x\\t\\t\\t\\t\\nrosetta\\tthis world leader missing from his chair\\t\\tireddit\\ttrue\\tcvtwtq\\thttpspreviewredditpoaqoetijpgwidthcropsmartautowebpsadbbadabcdcbca\\t\\t\\t\\tphotoshopbattles\\tpsbattle this world leader missing from his chair\\t\\t\\t\\t\\noxtox\\tmy cat dreaming about his future as a basketballer\\t\\tiimgurcom\\ttrue\\tizp\\thttpsexternalpreviewredditktfwerzrdzlhbrtzjlnzlsbntobquejdhbyqjpgwidthcropsmartautowebpsddaaedbacdbabfdadcdd\\t\\t\\t\\tphotoshopbattles\\tmy cat dreaming about his future as a basketballer\\t\\t\\t\\t\\nchesleafc\\ther period gone wild\\t\\tiimgurcom\\ttrue\\trma\\thttpsexternalpreviewredditpswsmmrzuwdmugbbiblmorcrxtezkrcfylwwjpgwidthcropsmartautowebpsfbebdbdaeebfadbdebebaf\\t\\t\\t\\tmisleadingthumbnails\\ther period gone wild\\t\\t\\t\\t\\nmyemptybagofchips\\tthese snails crowded on a tree\\t\\tiimgurcom\\ttrue\\tbozp\\thttpsexternalpreviewredditojtjvghwyieijuocjddcjycqcbjnkmojpgwidthcropsmartautowebpscacfeaffadaba\\t\\t\\t\\tphotoshopbattles\\tpsbattle these snails crowded on a tree\\t\\t\\t\\t\\nfriedeggontoast\\ti was driving and saw this house that had a sperm kite flying outside\\t\\tireddit\\ttrue\\tcmoa\\thttpspreviewredditkrgpibikhejpgwidthcropsmartautowebpsfbceaafaadaffc\\t\\t\\t\\tmildlyinteresting\\ti was driving and saw this house that had a sperm kite flying outside\\t\\t\\t\\t\\nramong\\tdont skip leg day\\t\\tiimgurcom\\ttrue\\tsjdx\\thttpsexternalpreviewreddityuaezxibjdweepsznfbgrzydlpmcdansmjpgwidthcropsmartautowebpsefbdcfead\\t\\t\\t\\tconfusingperspective\\tdont skip leg day\\t\\t\\t\\t\\napicontraption\\tcutouts\\t\\t\\ttrue\\tcjpqh\\thttpiimgurcomaqdkcdejpg\\tdigm\\t\\t\\tpsbattleartwork\\tcutouts\\t\\t\\t\\t\\njohnjtaylor\\tstate has st elk sighting in more than centuries\\t\\tmsncom\\ttrue\\tnmlp\\thttpsexternalpreviewredditgkzzwdnsglijfauozripginibreyfsnbjxzhojpgwidthcropsmartautowebpscedaeaeffeabfff\\t\\t\\t\\tupliftingnews\\tstate has st elk sighting in more than  centuries\\t\\t\\t\\t\\nwosben\\twish you were here\\t\\t\\ttrue\\tdbqhmr\\thttpiimgurcomdhjtdujpg\\tsrok\\t\\t\\tpsbattleartwork\\twish you were here'"
            ],
            "application/vnd.google.colaboratory.intrinsic+json": {
              "type": "string"
            }
          },
          "metadata": {},
          "execution_count": 43
        }
      ]
    },
    {
      "cell_type": "markdown",
      "source": [
        "###6 Stemming \n",
        "\n"
      ],
      "metadata": {
        "id": "Q6wmZzvfCg5o"
      }
    },
    {
      "cell_type": "markdown",
      "source": [
        "Stemming is a process to reduce the word to its root stem for example run, running, runs, runed derived from the same word as run. basically stemming do is remove the prefix or suffix from word like ing, s, es, etc. NLTK library is used to stem the words. The stemming technique is not used for production purposes because it is not so efficient technique and most of the time it stems the unwanted words. So, to solve the problem another technique came into the market as Lemmatization. there are various types of stemming algorithms like porter stemmer, snowball stemmer. Porter stemmer is widely used present in the NLTK library."
      ],
      "metadata": {
        "id": "o63N0ZkqChW2"
      }
    },
    {
      "cell_type": "code",
      "source": [
        "# #stemming\n",
        "# from nltk.stem import PorterStemmer\n",
        "# stemmer = PorterStemmer()\n",
        "# def stem_words(text):\n",
        "#     return \" \".join([stemmer.stem(word) for word in text.split()])\n",
        "# df_train[\"text\"] = df_train[\"text\"].apply(lambda x: stem_words(x))"
      ],
      "metadata": {
        "id": "RW662TjHBYNh"
      },
      "execution_count": 44,
      "outputs": []
    },
    {
      "cell_type": "markdown",
      "source": [
        "### 7 Lemmatization"
      ],
      "metadata": {
        "id": "N7GGm22pGVfb"
      }
    },
    {
      "cell_type": "markdown",
      "source": [
        "Lemmatization is similar to stemming, used to stem the words into root word but differs in working. Actually, Lemmatization is a systematic way to reduce the words into their lemma by matching them with a language dictionary."
      ],
      "metadata": {
        "id": "faG66yeRE_RU"
      }
    },
    {
      "cell_type": "code",
      "source": [
        "# import nltk\n",
        "# nltk.download('wordnet')"
      ],
      "metadata": {
        "id": "KTWiLURLFtyq"
      },
      "execution_count": 45,
      "outputs": []
    },
    {
      "cell_type": "code",
      "source": [
        "# # Lemmatization\n",
        "# from nltk.stem import WordNetLemmatizer\n",
        "# lemmatizer = WordNetLemmatizer()\n",
        "# def lemmatize_words(text):\n",
        "#     return \" \".join([lemmatizer.lemmatize(word) for word in text.split()])\n",
        "# df_train[\"text\"] = df_train[\"text\"].apply(lambda text: lemmatize_words(text))\n"
      ],
      "metadata": {
        "id": "IPqolc5sE-L7"
      },
      "execution_count": 46,
      "outputs": []
    },
    {
      "cell_type": "markdown",
      "source": [
        "###8 Remove Extra Spaces"
      ],
      "metadata": {
        "id": "AcER1B2hEznH"
      }
    },
    {
      "cell_type": "markdown",
      "source": [
        "Most of the time text data contain extra spaces or while performing the above preprocessing techniques more than one space is left between the text so we need to control this problem. regular expression library performs well to solve this problem."
      ],
      "metadata": {
        "id": "Oy02TftzE0hN"
      }
    },
    {
      "cell_type": "code",
      "source": [
        "# df_train.strip()"
      ],
      "metadata": {
        "id": "sD16ITT9Jmxz"
      },
      "execution_count": 47,
      "outputs": []
    },
    {
      "cell_type": "code",
      "source": [
        "# df_train[\"text\"] = df_train[\"text\"].apply(lambda text: re.sub(' +', ' ', text))"
      ],
      "metadata": {
        "id": "hXR2iZFwE1ID"
      },
      "execution_count": 48,
      "outputs": []
    },
    {
      "cell_type": "markdown",
      "source": [
        "###final way"
      ],
      "metadata": {
        "id": "a5Dw78WfEF9f"
      }
    },
    {
      "cell_type": "code",
      "execution_count": 49,
      "metadata": {
        "id": "YWrWpOQVfGPD",
        "colab": {
          "base_uri": "https://localhost:8080/"
        },
        "outputId": "0e955f18-72ed-4983-a084-85db52302ff2"
      },
      "outputs": [
        {
          "output_type": "stream",
          "name": "stdout",
          "text": [
            "[nltk_data] Downloading package punkt to /root/nltk_data...\n",
            "[nltk_data]   Package punkt is already up-to-date!\n",
            "[nltk_data] Downloading package stopwords to /root/nltk_data...\n",
            "[nltk_data]   Package stopwords is already up-to-date!\n"
          ]
        }
      ],
      "source": [
        "nltk.download('punkt')\n",
        "nltk.download('stopwords')\n",
        "\n",
        "stemmer = SnowballStemmer(\"english\")\n",
        "stop_words = set(stopwords.words(\"english\"))\n",
        "\n",
        "\n",
        "def clean_text(text, for_embedding=False):\n",
        "    \"\"\" steps:\n",
        "        - remove any html tags (< /br> often found)\n",
        "        - Keep only ASCII + European Chars and whitespace, no digits\n",
        "        - remove single letter chars\n",
        "        - convert all whitespaces (tabs etc.) to single wspace\n",
        "        if not for embedding (but e.g. tdf-idf):\n",
        "        - all lowercase\n",
        "        - remove stopwords, punctuation and stemm\n",
        "    \"\"\"\n",
        "    RE_WSPACE = re.compile(r\"\\s+\", re.IGNORECASE)\n",
        "    RE_TAGS = re.compile(r\"<[^>]+>\")\n",
        "    RE_ASCII = re.compile(r\"[^A-Za-zÀ-ž ]\", re.IGNORECASE)\n",
        "    RE_SINGLECHAR = re.compile(r\"\\b[A-Za-zÀ-ž]\\b\", re.IGNORECASE)\n",
        "    if for_embedding:\n",
        "        # Keep punctuation\n",
        "        RE_ASCII = re.compile(r\"[^A-Za-zÀ-ž,.!? ]\", re.IGNORECASE)\n",
        "        RE_SINGLECHAR = re.compile(r\"\\b[A-Za-zÀ-ž,.!?]\\b\", re.IGNORECASE)\n",
        "\n",
        "    text = re.sub(RE_TAGS, \" \", text)\n",
        "    text = re.sub(RE_ASCII, \" \", text)\n",
        "    text = re.sub(RE_SINGLECHAR, \" \", text)\n",
        "    text = re.sub(RE_WSPACE, \" \", text)\n",
        "\n",
        "    word_tokens = word_tokenize(text)\n",
        "    words_tokens_lower = [word.lower() for word in word_tokens]\n",
        "\n",
        "    if for_embedding:\n",
        "        # no stemming, lowering and punctuation / stop words removal\n",
        "        words_filtered = word_tokens\n",
        "    else:\n",
        "        words_filtered = [\n",
        "            stemmer.stem(word) for word in words_tokens_lower if word not in stop_words\n",
        "        ]\n",
        "\n",
        "    text_clean = \" \".join(words_filtered)\n",
        "    return text_clean"
      ]
    },
    {
      "cell_type": "markdown",
      "metadata": {
        "id": "DHARry80fGPE"
      },
      "source": [
        "The `clean_text` function takes a string input and applies a bunch of manipulations to it (described in the code)."
      ]
    },
    {
      "cell_type": "code",
      "execution_count": 50,
      "metadata": {
        "id": "snGopKTNfGPE",
        "colab": {
          "base_uri": "https://localhost:8080/",
          "height": 35
        },
        "outputId": "c3297abd-e7ae-4716-a5f9-8917024243df"
      },
      "outputs": [
        {
          "output_type": "execute_result",
          "data": {
            "text/plain": [
              "'cat bridg lead tree roof hous walk'"
            ],
            "application/vnd.google.colaboratory.intrinsic+json": {
              "type": "string"
            }
          },
          "metadata": {},
          "execution_count": 50
        }
      ],
      "source": [
        "clean_text(\"Our 'cat' bridge leading from the tree to the roof of my house, from where she can walk up to he.\")"
      ]
    },
    {
      "cell_type": "markdown",
      "metadata": {
        "id": "IN5qf3fTfGPF"
      },
      "source": [
        "This transformation has a few benefits. Removing characters and words that don't hold much meaning reduces the size of our data. Moreover, it can improve prediction performance when modeling by lowering the noise in the data. This is because e.g. stop words like prepositions or punctuation won't allow our model to extract additional information / meaning (at least when using simple models). By stemming and lower casing words we make sure that similar words are treated identically. Thus, we can improve model performance again by increasing the number of relevant data points.  \n",
        "Let's apply this to our data:"
      ]
    },
    {
      "cell_type": "code",
      "execution_count": 51,
      "metadata": {
        "id": "reNh5TLbfGPF",
        "colab": {
          "base_uri": "https://localhost:8080/"
        },
        "outputId": "86c1db6d-7528-4f2c-900c-6343f64f7a4d"
      },
      "outputs": [
        {
          "output_type": "stream",
          "name": "stderr",
          "text": [
            "/usr/local/lib/python3.7/dist-packages/ipykernel_launcher.py:2: SettingWithCopyWarning:\n",
            "\n",
            "\n",
            "A value is trying to be set on a copy of a slice from a DataFrame.\n",
            "Try using .loc[row_indexer,col_indexer] = value instead\n",
            "\n",
            "See the caveats in the documentation: https://pandas.pydata.org/pandas-docs/stable/user_guide/indexing.html#returning-a-view-versus-a-copy\n",
            "\n"
          ]
        },
        {
          "output_type": "stream",
          "name": "stdout",
          "text": [
            "CPU times: user 38.1 s, sys: 137 ms, total: 38.2 s\n",
            "Wall time: 48.3 s\n"
          ]
        },
        {
          "output_type": "stream",
          "name": "stderr",
          "text": [
            "/usr/local/lib/python3.7/dist-packages/ipykernel_launcher.py:4: SettingWithCopyWarning:\n",
            "\n",
            "\n",
            "A value is trying to be set on a copy of a slice from a DataFrame.\n",
            "Try using .loc[row_indexer,col_indexer] = value instead\n",
            "\n",
            "See the caveats in the documentation: https://pandas.pydata.org/pandas-docs/stable/user_guide/indexing.html#returning-a-view-versus-a-copy\n",
            "\n"
          ]
        }
      ],
      "source": [
        "%%time\n",
        "# Clean text\n",
        "df_train[\"text_result\"] = df_train.loc[df_train[\"text\"].str.len() > 20, \"text\"]\n",
        "df_train[\"text_result\"] = df_train[\"text_result\"].map(\n",
        "    lambda x: clean_text(x, for_embedding=False) if isinstance(x, str) else x\n",
        ")"
      ]
    },
    {
      "cell_type": "code",
      "source": [
        "%%time\n",
        "# Clean text\n",
        "df_test[\"text_result\"] = df_test.loc[df_test[\"text\"].str.len() > 0, \"text\"]\n",
        "df_test[\"text_result\"] = df_test[\"text_result\"].map(\n",
        "    lambda x: clean_text(x, for_embedding=False) if isinstance(x, str) else x\n",
        ")"
      ],
      "metadata": {
        "colab": {
          "base_uri": "https://localhost:8080/"
        },
        "id": "jXiDqpenyjoI",
        "outputId": "cc78fb4f-d7a2-46f8-ec08-d93b8ca301dd"
      },
      "execution_count": 52,
      "outputs": [
        {
          "output_type": "stream",
          "name": "stdout",
          "text": [
            "CPU times: user 12.9 s, sys: 55.6 ms, total: 12.9 s\n",
            "Wall time: 13 s\n"
          ]
        }
      ]
    },
    {
      "cell_type": "code",
      "source": [
        "df_test[\"text_result\"]"
      ],
      "metadata": {
        "colab": {
          "base_uri": "https://localhost:8080/"
        },
        "id": "XSKCkyN1yteJ",
        "outputId": "1b7802cb-0531-4b9c-befc-cc27385138ea"
      },
      "execution_count": 53,
      "outputs": [
        {
          "output_type": "execute_result",
          "data": {
            "text/plain": [
              "0                                                stargaz\n",
              "1                                                   yeah\n",
              "2         pd phoenix car thief get instruct youtub video\n",
              "3                   trump accus iran one problem credibl\n",
              "4                                       believ hezbollah\n",
              "                              ...                       \n",
              "59146                       bicycl taxi driver new delhi\n",
              "59147               trump blow gop formula win hous race\n",
              "59148    napoleon return exil island elba march colouris\n",
              "59149                      deep alway want ballet dancer\n",
              "59150         toddler miracul surviv stori fall land car\n",
              "Name: text_result, Length: 59151, dtype: object"
            ]
          },
          "metadata": {},
          "execution_count": 53
        }
      ]
    },
    {
      "cell_type": "code",
      "execution_count": 54,
      "metadata": {
        "id": "nAt8E7GChuTa",
        "colab": {
          "base_uri": "https://localhost:8080/",
          "height": 641
        },
        "outputId": "b3f343ee-9024-4051-f9ed-5a52f5c1eed0"
      },
      "outputs": [
        {
          "output_type": "execute_result",
          "data": {
            "text/plain": [
              "           id  \\\n",
              "0      265723   \n",
              "1      284269   \n",
              "2      207715   \n",
              "3      551106   \n",
              "4        8584   \n",
              "...       ...   \n",
              "59995   70046   \n",
              "59996  189377   \n",
              "59997   93486   \n",
              "59998  140950   \n",
              "59999   34509   \n",
              "\n",
              "                                                                                                      text  \\\n",
              "0      a group of friends began to volunteer at a homeless shelter after their neighbors protested seei...   \n",
              "1      british prime minister theresamay on nerve attack on former russian spy the government has concl...   \n",
              "2      in  goodyear released a kit that allows pss to be brought to heel httpsmyoutubecomwatchvalxulktc...   \n",
              "3      happy birthday bob barker the price is right host on how hed like to be remembered  as the man w...   \n",
              "4      obama to nation 聙innocent cops and unarmed young black men should not be dying before magic john...   \n",
              "...                                                                                                    ...   \n",
              "59995                       finish sniper simo h盲yh盲 during the invasion of finland by the ussr  colorized   \n",
              "59996                       nigerian prince scam took k from kansas man  years later he is getting it back   \n",
              "59997                  is it safe to smoke marijuana during pregnancy you鈥檇 be surprised of the answer  no   \n",
              "59998                    julius caesar upon realizing that everyone in the room has a knife except him  bc   \n",
              "59999                  jeff bridges releasing 鈥楽leeping tapes鈥a new album designed to help you fall asleep   \n",
              "\n",
              "       label  \\\n",
              "0          0   \n",
              "1          0   \n",
              "2          0   \n",
              "3          0   \n",
              "4          0   \n",
              "...      ...   \n",
              "59995      0   \n",
              "59996      1   \n",
              "59997      0   \n",
              "59998      0   \n",
              "59999      1   \n",
              "\n",
              "                                                                                               text_result  \n",
              "0      group friend began volunt homeless shelter neighbor protest see anoth person also need natur lik...  \n",
              "1      british prime minist theresamay nerv attack former russian spi govern conclud high like russia r...  \n",
              "2      goodyear releas kit allow pss brought heel httpsmyoutubecomwatchvalxulktcg zwillc fish midatlant...  \n",
              "3      happi birthday bob barker price right host hed like rememb man said ave pet spay neuter fuckinco...  \n",
              "4      obama nation innoc cop unarm young black men die magic johnson jimbobshawobodob olymp athlet sho...  \n",
              "...                                                                                                    ...  \n",
              "59995                                                       finish sniper simo yh invas finland ussr color  \n",
              "59996                                               nigerian princ scam took kansa man year later get back  \n",
              "59997                                                         safe smoke marijuana pregnanc surpris answer  \n",
              "59998                                               julius caesar upon realiz everyon room knife except bc  \n",
              "59999                                        jeff bridg releas leep tape new album design help fall asleep  \n",
              "\n",
              "[59768 rows x 4 columns]"
            ],
            "text/html": [
              "\n",
              "  <div id=\"df-71d439f9-75ea-4da0-ada4-b4f72535a0c8\">\n",
              "    <div class=\"colab-df-container\">\n",
              "      <div>\n",
              "<style scoped>\n",
              "    .dataframe tbody tr th:only-of-type {\n",
              "        vertical-align: middle;\n",
              "    }\n",
              "\n",
              "    .dataframe tbody tr th {\n",
              "        vertical-align: top;\n",
              "    }\n",
              "\n",
              "    .dataframe thead th {\n",
              "        text-align: right;\n",
              "    }\n",
              "</style>\n",
              "<table border=\"1\" class=\"dataframe\">\n",
              "  <thead>\n",
              "    <tr style=\"text-align: right;\">\n",
              "      <th></th>\n",
              "      <th>id</th>\n",
              "      <th>text</th>\n",
              "      <th>label</th>\n",
              "      <th>text_result</th>\n",
              "    </tr>\n",
              "  </thead>\n",
              "  <tbody>\n",
              "    <tr>\n",
              "      <th>0</th>\n",
              "      <td>265723</td>\n",
              "      <td>a group of friends began to volunteer at a homeless shelter after their neighbors protested seei...</td>\n",
              "      <td>0</td>\n",
              "      <td>group friend began volunt homeless shelter neighbor protest see anoth person also need natur lik...</td>\n",
              "    </tr>\n",
              "    <tr>\n",
              "      <th>1</th>\n",
              "      <td>284269</td>\n",
              "      <td>british prime minister theresamay on nerve attack on former russian spy the government has concl...</td>\n",
              "      <td>0</td>\n",
              "      <td>british prime minist theresamay nerv attack former russian spi govern conclud high like russia r...</td>\n",
              "    </tr>\n",
              "    <tr>\n",
              "      <th>2</th>\n",
              "      <td>207715</td>\n",
              "      <td>in  goodyear released a kit that allows pss to be brought to heel httpsmyoutubecomwatchvalxulktc...</td>\n",
              "      <td>0</td>\n",
              "      <td>goodyear releas kit allow pss brought heel httpsmyoutubecomwatchvalxulktcg zwillc fish midatlant...</td>\n",
              "    </tr>\n",
              "    <tr>\n",
              "      <th>3</th>\n",
              "      <td>551106</td>\n",
              "      <td>happy birthday bob barker the price is right host on how hed like to be remembered  as the man w...</td>\n",
              "      <td>0</td>\n",
              "      <td>happi birthday bob barker price right host hed like rememb man said ave pet spay neuter fuckinco...</td>\n",
              "    </tr>\n",
              "    <tr>\n",
              "      <th>4</th>\n",
              "      <td>8584</td>\n",
              "      <td>obama to nation 聙innocent cops and unarmed young black men should not be dying before magic john...</td>\n",
              "      <td>0</td>\n",
              "      <td>obama nation innoc cop unarm young black men die magic johnson jimbobshawobodob olymp athlet sho...</td>\n",
              "    </tr>\n",
              "    <tr>\n",
              "      <th>...</th>\n",
              "      <td>...</td>\n",
              "      <td>...</td>\n",
              "      <td>...</td>\n",
              "      <td>...</td>\n",
              "    </tr>\n",
              "    <tr>\n",
              "      <th>59995</th>\n",
              "      <td>70046</td>\n",
              "      <td>finish sniper simo h盲yh盲 during the invasion of finland by the ussr  colorized</td>\n",
              "      <td>0</td>\n",
              "      <td>finish sniper simo yh invas finland ussr color</td>\n",
              "    </tr>\n",
              "    <tr>\n",
              "      <th>59996</th>\n",
              "      <td>189377</td>\n",
              "      <td>nigerian prince scam took k from kansas man  years later he is getting it back</td>\n",
              "      <td>1</td>\n",
              "      <td>nigerian princ scam took kansa man year later get back</td>\n",
              "    </tr>\n",
              "    <tr>\n",
              "      <th>59997</th>\n",
              "      <td>93486</td>\n",
              "      <td>is it safe to smoke marijuana during pregnancy you鈥檇 be surprised of the answer  no</td>\n",
              "      <td>0</td>\n",
              "      <td>safe smoke marijuana pregnanc surpris answer</td>\n",
              "    </tr>\n",
              "    <tr>\n",
              "      <th>59998</th>\n",
              "      <td>140950</td>\n",
              "      <td>julius caesar upon realizing that everyone in the room has a knife except him  bc</td>\n",
              "      <td>0</td>\n",
              "      <td>julius caesar upon realiz everyon room knife except bc</td>\n",
              "    </tr>\n",
              "    <tr>\n",
              "      <th>59999</th>\n",
              "      <td>34509</td>\n",
              "      <td>jeff bridges releasing 鈥楽leeping tapes鈥a new album designed to help you fall asleep</td>\n",
              "      <td>1</td>\n",
              "      <td>jeff bridg releas leep tape new album design help fall asleep</td>\n",
              "    </tr>\n",
              "  </tbody>\n",
              "</table>\n",
              "<p>59768 rows × 4 columns</p>\n",
              "</div>\n",
              "      <button class=\"colab-df-convert\" onclick=\"convertToInteractive('df-71d439f9-75ea-4da0-ada4-b4f72535a0c8')\"\n",
              "              title=\"Convert this dataframe to an interactive table.\"\n",
              "              style=\"display:none;\">\n",
              "        \n",
              "  <svg xmlns=\"http://www.w3.org/2000/svg\" height=\"24px\"viewBox=\"0 0 24 24\"\n",
              "       width=\"24px\">\n",
              "    <path d=\"M0 0h24v24H0V0z\" fill=\"none\"/>\n",
              "    <path d=\"M18.56 5.44l.94 2.06.94-2.06 2.06-.94-2.06-.94-.94-2.06-.94 2.06-2.06.94zm-11 1L8.5 8.5l.94-2.06 2.06-.94-2.06-.94L8.5 2.5l-.94 2.06-2.06.94zm10 10l.94 2.06.94-2.06 2.06-.94-2.06-.94-.94-2.06-.94 2.06-2.06.94z\"/><path d=\"M17.41 7.96l-1.37-1.37c-.4-.4-.92-.59-1.43-.59-.52 0-1.04.2-1.43.59L10.3 9.45l-7.72 7.72c-.78.78-.78 2.05 0 2.83L4 21.41c.39.39.9.59 1.41.59.51 0 1.02-.2 1.41-.59l7.78-7.78 2.81-2.81c.8-.78.8-2.07 0-2.86zM5.41 20L4 18.59l7.72-7.72 1.47 1.35L5.41 20z\"/>\n",
              "  </svg>\n",
              "      </button>\n",
              "      \n",
              "  <style>\n",
              "    .colab-df-container {\n",
              "      display:flex;\n",
              "      flex-wrap:wrap;\n",
              "      gap: 12px;\n",
              "    }\n",
              "\n",
              "    .colab-df-convert {\n",
              "      background-color: #E8F0FE;\n",
              "      border: none;\n",
              "      border-radius: 50%;\n",
              "      cursor: pointer;\n",
              "      display: none;\n",
              "      fill: #1967D2;\n",
              "      height: 32px;\n",
              "      padding: 0 0 0 0;\n",
              "      width: 32px;\n",
              "    }\n",
              "\n",
              "    .colab-df-convert:hover {\n",
              "      background-color: #E2EBFA;\n",
              "      box-shadow: 0px 1px 2px rgba(60, 64, 67, 0.3), 0px 1px 3px 1px rgba(60, 64, 67, 0.15);\n",
              "      fill: #174EA6;\n",
              "    }\n",
              "\n",
              "    [theme=dark] .colab-df-convert {\n",
              "      background-color: #3B4455;\n",
              "      fill: #D2E3FC;\n",
              "    }\n",
              "\n",
              "    [theme=dark] .colab-df-convert:hover {\n",
              "      background-color: #434B5C;\n",
              "      box-shadow: 0px 1px 3px 1px rgba(0, 0, 0, 0.15);\n",
              "      filter: drop-shadow(0px 1px 2px rgba(0, 0, 0, 0.3));\n",
              "      fill: #FFFFFF;\n",
              "    }\n",
              "  </style>\n",
              "\n",
              "      <script>\n",
              "        const buttonEl =\n",
              "          document.querySelector('#df-71d439f9-75ea-4da0-ada4-b4f72535a0c8 button.colab-df-convert');\n",
              "        buttonEl.style.display =\n",
              "          google.colab.kernel.accessAllowed ? 'block' : 'none';\n",
              "\n",
              "        async function convertToInteractive(key) {\n",
              "          const element = document.querySelector('#df-71d439f9-75ea-4da0-ada4-b4f72535a0c8');\n",
              "          const dataTable =\n",
              "            await google.colab.kernel.invokeFunction('convertToInteractive',\n",
              "                                                     [key], {});\n",
              "          if (!dataTable) return;\n",
              "\n",
              "          const docLinkHtml = 'Like what you see? Visit the ' +\n",
              "            '<a target=\"_blank\" href=https://colab.research.google.com/notebooks/data_table.ipynb>data table notebook</a>'\n",
              "            + ' to learn more about interactive tables.';\n",
              "          element.innerHTML = '';\n",
              "          dataTable['output_type'] = 'display_data';\n",
              "          await google.colab.output.renderOutput(dataTable, element);\n",
              "          const docLink = document.createElement('div');\n",
              "          docLink.innerHTML = docLinkHtml;\n",
              "          element.appendChild(docLink);\n",
              "        }\n",
              "      </script>\n",
              "    </div>\n",
              "  </div>\n",
              "  "
            ]
          },
          "metadata": {},
          "execution_count": 54
        }
      ],
      "source": [
        "df_train"
      ]
    },
    {
      "cell_type": "markdown",
      "metadata": {
        "id": "IgciFDYrfGPG"
      },
      "source": [
        "These steps conclude the cleaning and pre processing. In result, we get this:"
      ]
    },
    {
      "cell_type": "markdown",
      "metadata": {
        "id": "LbFunnkEfGPH"
      },
      "source": [
        "### Descriptive analysis\n",
        "\n",
        "Even though we deal with texts, we should still use some descriptive analysis to get a better understanding of the data:"
      ]
    },
    {
      "cell_type": "code",
      "execution_count": 55,
      "metadata": {
        "id": "dUX3iDmRfGPH"
      },
      "outputs": [],
      "source": [
        "# from bokeh.models import NumeralTickFormatter\n",
        "# # Word Frequency of most common words\n",
        "# word_freq = pd.Series(\" \".join(df_train[\"text_result\"]).split()).value_counts()\n",
        "# word_freq[1:40]"
      ]
    },
    {
      "cell_type": "code",
      "execution_count": 56,
      "metadata": {
        "id": "h7cShLlOtud9"
      },
      "outputs": [],
      "source": [
        "data_clean = df_train.copy()"
      ]
    },
    {
      "cell_type": "code",
      "execution_count": 57,
      "metadata": {
        "colab": {
          "base_uri": "https://localhost:8080/"
        },
        "id": "4lN96L5zt-D9",
        "outputId": "91d526eb-baa2-4c0c-8e25-686fcae0d5ec"
      },
      "outputs": [
        {
          "output_type": "execute_result",
          "data": {
            "text/plain": [
              "one         3198\n",
              "like        3083\n",
              "new         2982\n",
              "look        2830\n",
              "color       2710\n",
              "man         2654\n",
              "get         2598\n",
              "trump       2517\n",
              "say         2343\n",
              "peopl       2309\n",
              "use         2285\n",
              "first       2199\n",
              "make        2186\n",
              "us          2172\n",
              "found       1996\n",
              "time        1968\n",
              "poster      1945\n",
              "day         1835\n",
              "war         1795\n",
              "world       1544\n",
              "work        1509\n",
              "show        1507\n",
              "take        1479\n",
              "help        1437\n",
              "life        1396\n",
              "american    1392\n",
              "state       1386\n",
              "go          1384\n",
              "old         1374\n",
              "back        1335\n",
              "school      1321\n",
              "see         1320\n",
              "photo       1314\n",
              "two         1303\n",
              "save        1288\n",
              "made        1283\n",
              "hous        1245\n",
              "circa       1232\n",
              "right       1227\n",
              "dtype: int64"
            ]
          },
          "metadata": {},
          "execution_count": 57
        }
      ],
      "source": [
        "from bokeh.models import NumeralTickFormatter\n",
        "# Word Frequency of most common words\n",
        "word_freq = pd.Series(\" \".join(data_clean[\"text_result\"]).split()).value_counts()\n",
        "word_freq[1:40]"
      ]
    },
    {
      "cell_type": "code",
      "execution_count": 58,
      "metadata": {
        "id": "1I3PiezJfGPI",
        "colab": {
          "base_uri": "https://localhost:8080/",
          "height": 363
        },
        "outputId": "7385ba00-1050-4b7c-8d10-08e20606a580"
      },
      "outputs": [
        {
          "output_type": "execute_result",
          "data": {
            "text/plain": [
              "         index  freq\n",
              "0        immer     1\n",
              "1        ourth     1\n",
              "2    danifesto     1\n",
              "3  witchdoctor     1\n",
              "4         worf     1\n",
              "5         zuma     1\n",
              "6      heathen     1\n",
              "7      merkley     1\n",
              "8     nonpolic     1\n",
              "9         wahr     1"
            ],
            "text/html": [
              "\n",
              "  <div id=\"df-4d4f3b93-796d-4f74-91bd-762815846e7b\">\n",
              "    <div class=\"colab-df-container\">\n",
              "      <div>\n",
              "<style scoped>\n",
              "    .dataframe tbody tr th:only-of-type {\n",
              "        vertical-align: middle;\n",
              "    }\n",
              "\n",
              "    .dataframe tbody tr th {\n",
              "        vertical-align: top;\n",
              "    }\n",
              "\n",
              "    .dataframe thead th {\n",
              "        text-align: right;\n",
              "    }\n",
              "</style>\n",
              "<table border=\"1\" class=\"dataframe\">\n",
              "  <thead>\n",
              "    <tr style=\"text-align: right;\">\n",
              "      <th></th>\n",
              "      <th>index</th>\n",
              "      <th>freq</th>\n",
              "    </tr>\n",
              "  </thead>\n",
              "  <tbody>\n",
              "    <tr>\n",
              "      <th>0</th>\n",
              "      <td>immer</td>\n",
              "      <td>1</td>\n",
              "    </tr>\n",
              "    <tr>\n",
              "      <th>1</th>\n",
              "      <td>ourth</td>\n",
              "      <td>1</td>\n",
              "    </tr>\n",
              "    <tr>\n",
              "      <th>2</th>\n",
              "      <td>danifesto</td>\n",
              "      <td>1</td>\n",
              "    </tr>\n",
              "    <tr>\n",
              "      <th>3</th>\n",
              "      <td>witchdoctor</td>\n",
              "      <td>1</td>\n",
              "    </tr>\n",
              "    <tr>\n",
              "      <th>4</th>\n",
              "      <td>worf</td>\n",
              "      <td>1</td>\n",
              "    </tr>\n",
              "    <tr>\n",
              "      <th>5</th>\n",
              "      <td>zuma</td>\n",
              "      <td>1</td>\n",
              "    </tr>\n",
              "    <tr>\n",
              "      <th>6</th>\n",
              "      <td>heathen</td>\n",
              "      <td>1</td>\n",
              "    </tr>\n",
              "    <tr>\n",
              "      <th>7</th>\n",
              "      <td>merkley</td>\n",
              "      <td>1</td>\n",
              "    </tr>\n",
              "    <tr>\n",
              "      <th>8</th>\n",
              "      <td>nonpolic</td>\n",
              "      <td>1</td>\n",
              "    </tr>\n",
              "    <tr>\n",
              "      <th>9</th>\n",
              "      <td>wahr</td>\n",
              "      <td>1</td>\n",
              "    </tr>\n",
              "  </tbody>\n",
              "</table>\n",
              "</div>\n",
              "      <button class=\"colab-df-convert\" onclick=\"convertToInteractive('df-4d4f3b93-796d-4f74-91bd-762815846e7b')\"\n",
              "              title=\"Convert this dataframe to an interactive table.\"\n",
              "              style=\"display:none;\">\n",
              "        \n",
              "  <svg xmlns=\"http://www.w3.org/2000/svg\" height=\"24px\"viewBox=\"0 0 24 24\"\n",
              "       width=\"24px\">\n",
              "    <path d=\"M0 0h24v24H0V0z\" fill=\"none\"/>\n",
              "    <path d=\"M18.56 5.44l.94 2.06.94-2.06 2.06-.94-2.06-.94-.94-2.06-.94 2.06-2.06.94zm-11 1L8.5 8.5l.94-2.06 2.06-.94-2.06-.94L8.5 2.5l-.94 2.06-2.06.94zm10 10l.94 2.06.94-2.06 2.06-.94-2.06-.94-.94-2.06-.94 2.06-2.06.94z\"/><path d=\"M17.41 7.96l-1.37-1.37c-.4-.4-.92-.59-1.43-.59-.52 0-1.04.2-1.43.59L10.3 9.45l-7.72 7.72c-.78.78-.78 2.05 0 2.83L4 21.41c.39.39.9.59 1.41.59.51 0 1.02-.2 1.41-.59l7.78-7.78 2.81-2.81c.8-.78.8-2.07 0-2.86zM5.41 20L4 18.59l7.72-7.72 1.47 1.35L5.41 20z\"/>\n",
              "  </svg>\n",
              "      </button>\n",
              "      \n",
              "  <style>\n",
              "    .colab-df-container {\n",
              "      display:flex;\n",
              "      flex-wrap:wrap;\n",
              "      gap: 12px;\n",
              "    }\n",
              "\n",
              "    .colab-df-convert {\n",
              "      background-color: #E8F0FE;\n",
              "      border: none;\n",
              "      border-radius: 50%;\n",
              "      cursor: pointer;\n",
              "      display: none;\n",
              "      fill: #1967D2;\n",
              "      height: 32px;\n",
              "      padding: 0 0 0 0;\n",
              "      width: 32px;\n",
              "    }\n",
              "\n",
              "    .colab-df-convert:hover {\n",
              "      background-color: #E2EBFA;\n",
              "      box-shadow: 0px 1px 2px rgba(60, 64, 67, 0.3), 0px 1px 3px 1px rgba(60, 64, 67, 0.15);\n",
              "      fill: #174EA6;\n",
              "    }\n",
              "\n",
              "    [theme=dark] .colab-df-convert {\n",
              "      background-color: #3B4455;\n",
              "      fill: #D2E3FC;\n",
              "    }\n",
              "\n",
              "    [theme=dark] .colab-df-convert:hover {\n",
              "      background-color: #434B5C;\n",
              "      box-shadow: 0px 1px 3px 1px rgba(0, 0, 0, 0.15);\n",
              "      filter: drop-shadow(0px 1px 2px rgba(0, 0, 0, 0.3));\n",
              "      fill: #FFFFFF;\n",
              "    }\n",
              "  </style>\n",
              "\n",
              "      <script>\n",
              "        const buttonEl =\n",
              "          document.querySelector('#df-4d4f3b93-796d-4f74-91bd-762815846e7b button.colab-df-convert');\n",
              "        buttonEl.style.display =\n",
              "          google.colab.kernel.accessAllowed ? 'block' : 'none';\n",
              "\n",
              "        async function convertToInteractive(key) {\n",
              "          const element = document.querySelector('#df-4d4f3b93-796d-4f74-91bd-762815846e7b');\n",
              "          const dataTable =\n",
              "            await google.colab.kernel.invokeFunction('convertToInteractive',\n",
              "                                                     [key], {});\n",
              "          if (!dataTable) return;\n",
              "\n",
              "          const docLinkHtml = 'Like what you see? Visit the ' +\n",
              "            '<a target=\"_blank\" href=https://colab.research.google.com/notebooks/data_table.ipynb>data table notebook</a>'\n",
              "            + ' to learn more about interactive tables.';\n",
              "          element.innerHTML = '';\n",
              "          dataTable['output_type'] = 'display_data';\n",
              "          await google.colab.output.renderOutput(dataTable, element);\n",
              "          const docLink = document.createElement('div');\n",
              "          docLink.innerHTML = docLinkHtml;\n",
              "          element.appendChild(docLink);\n",
              "        }\n",
              "      </script>\n",
              "    </div>\n",
              "  </div>\n",
              "  "
            ]
          },
          "metadata": {},
          "execution_count": 58
        }
      ],
      "source": [
        "# list most uncommon words\n",
        "word_freq[-10:].reset_index(name=\"freq\")"
      ]
    },
    {
      "cell_type": "markdown",
      "metadata": {
        "id": "mYczHdjwfGPI"
      },
      "source": [
        "Using the most frequent words, we can identify additional candidates for our stop word list in the pre-processing step. For example \"doctor\" (arzt) and \"miss\" (frau) are very common but probably won't help our algorithm to differentiate between sentiments. In contrast, words like \"good\" (gut) and \"competent\" (kompetent) are not only frequent but also carry a strong sentiment. They will be crucial for the performance of our model. We also observe many uncommon words that are hardly used. Often, these will be misspellings or very uncommon words. Such sparse data will not be useful for our model, as it won't have enough observations to learn any associations. We'll come back to this in the modeling phase making use of our models ability to deal with such issues.  \n",
        "Finally, we should not omit a look at the distribution of our target variable, i.e. the ratings. Highly skewed distributions are common. In some more extreme cases, that might even require adapting the modeling approach."
      ]
    },
    {
      "cell_type": "code",
      "execution_count": 59,
      "metadata": {
        "id": "E90GAIlXfGPI",
        "colab": {
          "base_uri": "https://localhost:8080/"
        },
        "outputId": "3b8f5d46-3f24-4347-cddd-e0d58fc6cbe0"
      },
      "outputs": [
        {
          "output_type": "execute_result",
          "data": {
            "text/plain": [
              "0    0.538281\n",
              "1    0.461719\n",
              "Name: label, dtype: float64"
            ]
          },
          "metadata": {},
          "execution_count": 59
        }
      ],
      "source": [
        "# Distribution of ratings\n",
        "df_train[\"label\"].value_counts(normalize=True)"
      ]
    },
    {
      "cell_type": "markdown",
      "metadata": {
        "id": "uLEZpBPkfGPJ"
      },
      "source": [
        "### Feature creation with TF-IDF\n",
        "\n",
        "Because classification models cannot deal with text data directly, we need to convert our comments to a numeric representation. As mentioned before, there are several ways to achieve this. [This article](https://medium.com/@paritosh_30025/natural-language-processing-text-data-vectorization-af2520529cf7) provides a concise overview. All methods have in common that they assign each unique word in a document a unique number. A vector of numbers is created in which each element represents a word. Logically, the length of the vector will equal the number of unique words. In the simplest form (bag of words), a sentence can be represented by such a vector by indicating the presence of a word using a 1 in the appropriate index representing the word. All elements standing for words not included in the sentence will be 0.   \n",
        "Frequency methods improve on this very basic approach. For many applications, `TF-IDF` (term frequency, inverse document frequency) is a good choice. In our case, the `TF` part summarizes how often a word appears in a comment in relation to all words. As was mentioned earlier, that is not always a sufficient indicator for a useful word as it might be overly general or be used inflationary in many comments. This is where the `IDF` part comes into play. It downscales words that are prevalent in many other comments. Consequently, words that are frequent in a comment and also specific to it (i.e. they are uncommon in other comments) will get a high weight. Unspecific words or those with a low overall frequency will get a low weight.    \n",
        "This is how we apply `TF-IDF` to our comments using `scikit-learn`: "
      ]
    },
    {
      "cell_type": "code",
      "execution_count": 60,
      "metadata": {
        "id": "dxH0AastfGPJ",
        "colab": {
          "base_uri": "https://localhost:8080/"
        },
        "outputId": "56c33dc6-d277-48d6-ebe5-f03a768f0a10"
      },
      "outputs": [
        {
          "output_type": "execute_result",
          "data": {
            "text/plain": [
              "TfidfVectorizer(max_df=0.3, min_df=10, ngram_range=(1, 2))"
            ]
          },
          "metadata": {},
          "execution_count": 60
        }
      ],
      "source": [
        "\"\"\"\n",
        "Compute unique word vector with frequencies\n",
        "exclude very uncommon (<10 obsv.) and common (>=30%) words\n",
        "use pairs of two words (ngram)\n",
        "\"\"\"\n",
        "vectorizer = TfidfVectorizer(\n",
        "    analyzer=\"word\", max_df=0.3, min_df=10, ngram_range=(1, 2), norm=\"l2\"\n",
        ")\n",
        "vectorizer.fit(df_train[\"text_result\"])"
      ]
    },
    {
      "cell_type": "markdown",
      "metadata": {
        "id": "mxEMfcOyfGPJ"
      },
      "source": [
        "An important parameter that needs explanation is the `ngram_range`. An `ngram` of one means that you look at each word separately. An `ngram` of two (or `bigram`) means that you take the preceding and following word into account as well. Thus, some context is added. This is helpful because then a model can learn that \"good\" and \"not good\" are different. In our case, in addition to using each word by itself we also add `bigrams` to make use of context.  Let's see some of the created `ngrams` and their indices:"
      ]
    },
    {
      "cell_type": "code",
      "execution_count": 61,
      "metadata": {
        "id": "jpNpIstufGPJ",
        "colab": {
          "base_uri": "https://localhost:8080/"
        },
        "outputId": "03ad546b-48c7-4d15-ea8c-3d66cb9d25be"
      },
      "outputs": [
        {
          "output_type": "stream",
          "name": "stdout",
          "text": [
            "Unique word (ngram) vector extract:\n",
            "\n",
            " deploy            2201\n",
            "thrift shop       8743\n",
            "intellig agenc    4277\n",
            "startup           8228\n",
            "blade              883\n",
            "dtype: int64\n"
          ]
        }
      ],
      "source": [
        "# Vector representation of vocabulary\n",
        "word_vector = pd.Series(vectorizer.vocabulary_).sample(5, random_state=1)\n",
        "print(f\"Unique word (ngram) vector extract:\\n\\n {word_vector}\")"
      ]
    },
    {
      "cell_type": "markdown",
      "metadata": {
        "id": "92q85UzzfGPK"
      },
      "source": [
        "### Modeling\n",
        "\n",
        "To test the classification performance of our model, we will perform a cross validation. For that, we split our data into a training and a testing set. The former is used to train the model and the latter to evaluate its predictions:"
      ]
    },
    {
      "cell_type": "code",
      "execution_count": 62,
      "metadata": {
        "id": "_E-uTCOsfGPK",
        "colab": {
          "base_uri": "https://localhost:8080/"
        },
        "outputId": "047f8258-dfdd-42fc-8754-4b0489436d4e"
      },
      "outputs": [
        {
          "output_type": "stream",
          "name": "stdout",
          "text": [
            "(53791,)\n",
            "(5977,)\n"
          ]
        }
      ],
      "source": [
        "# Sample data - 25% of data to test set\n",
        "train, test = train_test_split(df_train, random_state=1, test_size=0.10, shuffle=True)\n",
        "\n",
        "X_train = train[\"text\"]\n",
        "Y_train = train[\"label\"]\n",
        "X_test = test[\"text\"]\n",
        "Y_test = test[\"label\"]\n",
        "print(X_train.shape)\n",
        "print(X_test.shape)"
      ]
    },
    {
      "cell_type": "code",
      "source": [
        "# X_train2, X_val, y_train2, y_val = train_test_split(\n",
        "#     xtr, ytr, train_size = 0.9, stratify = ytr, random_state = 3)"
      ],
      "metadata": {
        "id": "ewrQ35O-p9OY"
      },
      "execution_count": 63,
      "outputs": []
    },
    {
      "cell_type": "markdown",
      "metadata": {
        "id": "a1LtnS0PfGPK"
      },
      "source": [
        "The training set consists of more than 253k rows and the testing will be performed on more than 84k observations. Now, that we have split our data we can transform the text data into its `TF-IDF` representation:"
      ]
    },
    {
      "cell_type": "code",
      "execution_count": 64,
      "metadata": {
        "id": "sGL5yHTGfGPL",
        "colab": {
          "base_uri": "https://localhost:8080/"
        },
        "outputId": "22af50d9-14d7-4b11-fab1-204f69e4ea27"
      },
      "outputs": [
        {
          "output_type": "execute_result",
          "data": {
            "text/plain": [
              "(53791, 9874)"
            ]
          },
          "metadata": {},
          "execution_count": 64
        }
      ],
      "source": [
        "# transform each sentence to numeric vector with tf-idf value as elements\n",
        "X_train_vec = vectorizer.transform(X_train)\n",
        "X_test_vec = vectorizer.transform(X_test)\n",
        "X_train_vec.get_shape()"
      ]
    },
    {
      "cell_type": "markdown",
      "metadata": {
        "id": "UfloKP95fGPL"
      },
      "source": [
        "We can see that each of our sentences is now represented by a vector of length 4107. It might be interesting to compare text and numeric representation:"
      ]
    },
    {
      "cell_type": "code",
      "execution_count": 65,
      "metadata": {
        "id": "Mxv5V6o3fGPL",
        "colab": {
          "base_uri": "https://localhost:8080/"
        },
        "outputId": "e2578e00-17b5-4c2b-80f9-bd15f417feb2"
      },
      "outputs": [
        {
          "output_type": "stream",
          "name": "stdout",
          "text": [
            "Original sentence:\n",
            "['boardroom battles the m schoolboard race  despite the spending most voters continue to ignore them']\n",
            "\n",
            "Vector representation of sentence:\n",
            "        most      race\n",
            "0  0.766923  0.641739\n"
          ]
        },
        {
          "output_type": "stream",
          "name": "stderr",
          "text": [
            "/usr/local/lib/python3.7/dist-packages/sklearn/utils/deprecation.py:87: FutureWarning:\n",
            "\n",
            "Function get_feature_names is deprecated; get_feature_names is deprecated in 1.0 and will be removed in 1.2. Please use get_feature_names_out instead.\n",
            "\n"
          ]
        }
      ],
      "source": [
        "# Compare original comment text with its numeric vector representation\n",
        "print(f\"Original sentence:\\n{X_train[3:4].values}\\n\")\n",
        "# Feature Matrix\n",
        "features = pd.DataFrame(\n",
        "    X_train_vec[3:4].toarray(), columns=vectorizer.get_feature_names()\n",
        ")\n",
        "nonempty_feat = features.loc[:, (features != 0).any(axis=0)]\n",
        "print(f\"Vector representation of sentence:\\n {nonempty_feat}\")"
      ]
    },
    {
      "cell_type": "markdown",
      "metadata": {
        "id": "yyOyXy1ufGPL"
      },
      "source": [
        "For this five word sentence, the vector of length 4107 contains mostly zeros. However, the indices representing the used words / ngrams are non empty. They include the value that `TF-IDF` assigned to them. In this particular case, \"arzt empfehl\" (recommend doctor) has the largest weight meaning that it is relatively frequent in our sentence while not being very common in other sentences of our dataset."
      ]
    },
    {
      "cell_type": "markdown",
      "metadata": {
        "id": "A6RlcKebfGPL"
      },
      "source": [
        "Now, that we have prepared our features, we can start to train and evaluate models. For a binary classification task there are many options to [chose from in `scikit-learn`](https://scikit-learn.org/stable/supervised_learning.html). We will focus on the ones that are most promising. In my experience they are: Logistic Regression, Support Vector Classification (SVC), Ensemble Methods (Boosting, Random Forest) and Neural Networks (i.e. Multi Layer Perceptron or MLP in sklearn). We will compare these models and chose the most promising one:"
      ]
    },
    {
      "cell_type": "markdown",
      "source": [
        ""
      ],
      "metadata": {
        "id": "SPaF-D2q5_go"
      }
    },
    {
      "cell_type": "markdown",
      "metadata": {
        "id": "w6OQEmMUfGPO"
      },
      "source": [
        "### Parameter tuning\n",
        "\n",
        "We've learned that linear SVC is a solid model choice and delivers great results out of the box. Still, we might be able to improve upon those by taking a more guided approach to choosing parameters. To do so, we will compare different parameters for feature creation as well as modeling. We can achieve this by making use of the pipeline and grid search functionality in sci-kit learn.  \n",
        "The `Pipeline` object encapsulates several processing steps into one. The last step in a pipeline must have a `fit()` functionality. The previous steps a `transform()` and `fit()` functionality. The `Pipeline` object itself has the same `fit()`, `transform()` and `predict()` methods as any other model in scikit-learn. Thus, we can streamline the whole process of feature creation, model fitting and prediction into one step.  \n",
        "With `GridSearchCV` we can define parameter spaces for our functions. All parameter combinations will be evaluated against one another in a cross validation using a defined score metric. Next, we combine our pipeline with grid search. In result, we can jointly test combinations of parameters in feature creation and model training:"
      ]
    },
    {
      "cell_type": "markdown",
      "source": [
        "##trail 1"
      ],
      "metadata": {
        "id": "xmwwmuy2vstJ"
      }
    },
    {
      "cell_type": "markdown",
      "source": [
        ""
      ],
      "metadata": {
        "id": "rdVDSEAXJh3S"
      }
    },
    {
      "cell_type": "code",
      "execution_count": 66,
      "metadata": {
        "id": "q3FYQmX3fGPM",
        "colab": {
          "base_uri": "https://localhost:8080/"
        },
        "outputId": "55ef3b56-0c23-40d7-e2c2-408a6630aee1"
      },
      "outputs": [
        {
          "output_type": "stream",
          "name": "stdout",
          "text": [
            "Classifiers to test: ['LogisticRegression', 'LinearSVC', 'RandomForestClassifier', 'XGBClassifier', 'MLPClassifier']\n"
          ]
        }
      ],
      "source": [
        "# models to test\n",
        "classifiers = [\n",
        "    LogisticRegression(solver=\"sag\", random_state=1),\n",
        "    LinearSVC(random_state=1),\n",
        "    RandomForestClassifier(random_state=1),\n",
        "    XGBClassifier(random_state=1),\n",
        "    MLPClassifier(\n",
        "        random_state=1,\n",
        "        solver=\"adam\",\n",
        "        hidden_layer_sizes=(12, 12, 12),\n",
        "        activation=\"relu\",\n",
        "        early_stopping=True,\n",
        "        n_iter_no_change=1,\n",
        "    ),\n",
        "]\n",
        "# get names of the objects in list (too lazy for c&p...)\n",
        "names = [re.match(r\"[^\\(]+\", name.__str__())[0] for name in classifiers]\n",
        "print(f\"Classifiers to test: {names}\")"
      ]
    },
    {
      "cell_type": "code",
      "execution_count": 67,
      "metadata": {
        "id": "QG37QoHkfGPM",
        "colab": {
          "base_uri": "https://localhost:8080/"
        },
        "outputId": "ad9213e7-803e-44ee-9241-2bf7e18128bf"
      },
      "outputs": [
        {
          "output_type": "stream",
          "name": "stdout",
          "text": [
            "Training classifier: LogisticRegression\n",
            "Training classifier: LinearSVC\n",
            "Training classifier: RandomForestClassifier\n",
            "Training classifier: XGBClassifier\n",
            "Training classifier: MLPClassifier\n"
          ]
        }
      ],
      "source": [
        "\n",
        "# test all classifiers and save pred. results on test data\n",
        "results = {}\n",
        "for name, clf in zip(names, classifiers):\n",
        "    print(f\"Training classifier: {name}\")\n",
        "    clf.fit(X_train_vec, Y_train)\n",
        "    prediction = clf.predict(X_test_vec)\n",
        "    report = sklearn.metrics.classification_report(Y_test, prediction)\n",
        "    results[name] = report"
      ]
    },
    {
      "cell_type": "markdown",
      "metadata": {
        "id": "bY9vWM50fGPM"
      },
      "source": [
        "Training LogisticRegression and LinearSVC was very fast while the remaining classifiers were significantly slower. This has to do with their higher model complexity but can also greatly vary depending on the parameters used.  \n",
        "After having trained all our models on the train data and applying their prediction on the test data, we can judge their performance:"
      ]
    },
    {
      "cell_type": "code",
      "execution_count": 68,
      "metadata": {
        "id": "fDMuuA01fGPM",
        "colab": {
          "base_uri": "https://localhost:8080/"
        },
        "outputId": "461786d1-290e-461f-c7ec-31c37a1395ed"
      },
      "outputs": [
        {
          "output_type": "stream",
          "name": "stdout",
          "text": [
            "Results for LogisticRegression:\n",
            "              precision    recall  f1-score   support\n",
            "\n",
            "           0       0.77      0.77      0.77      3225\n",
            "           1       0.73      0.73      0.73      2752\n",
            "\n",
            "    accuracy                           0.75      5977\n",
            "   macro avg       0.75      0.75      0.75      5977\n",
            "weighted avg       0.75      0.75      0.75      5977\n",
            "\n",
            "\n",
            "Results for LinearSVC:\n",
            "              precision    recall  f1-score   support\n",
            "\n",
            "           0       0.77      0.76      0.76      3225\n",
            "           1       0.72      0.73      0.72      2752\n",
            "\n",
            "    accuracy                           0.75      5977\n",
            "   macro avg       0.74      0.74      0.74      5977\n",
            "weighted avg       0.75      0.75      0.75      5977\n",
            "\n",
            "\n",
            "Results for RandomForestClassifier:\n",
            "              precision    recall  f1-score   support\n",
            "\n",
            "           0       0.74      0.77      0.75      3225\n",
            "           1       0.72      0.69      0.70      2752\n",
            "\n",
            "    accuracy                           0.73      5977\n",
            "   macro avg       0.73      0.73      0.73      5977\n",
            "weighted avg       0.73      0.73      0.73      5977\n",
            "\n",
            "\n",
            "Results for XGBClassifier:\n",
            "              precision    recall  f1-score   support\n",
            "\n",
            "           0       0.78      0.51      0.62      3225\n",
            "           1       0.59      0.83      0.69      2752\n",
            "\n",
            "    accuracy                           0.66      5977\n",
            "   macro avg       0.68      0.67      0.65      5977\n",
            "weighted avg       0.69      0.66      0.65      5977\n",
            "\n",
            "\n",
            "Results for MLPClassifier:\n",
            "              precision    recall  f1-score   support\n",
            "\n",
            "           0       0.77      0.76      0.76      3225\n",
            "           1       0.72      0.73      0.72      2752\n",
            "\n",
            "    accuracy                           0.75      5977\n",
            "   macro avg       0.74      0.74      0.74      5977\n",
            "weighted avg       0.75      0.75      0.75      5977\n",
            "\n",
            "\n"
          ]
        }
      ],
      "source": [
        "# Prediction results\n",
        "for k, v in results.items():\n",
        "    print(f\"Results for {k}:\")\n",
        "    print(f\"{v}\\n\")"
      ]
    },
    {
      "cell_type": "markdown",
      "source": [
        "##trail 2"
      ],
      "metadata": {
        "id": "eDsXxDS0aDxB"
      }
    },
    {
      "cell_type": "markdown",
      "source": [
        "in the socend trail i run the code without any running of the preprossing code above i took the data as it is and i expected the result to be very bad we will se at the end of this trail \n",
        "\n",
        "using LinearSVC model\n",
        "\n",
        "\"tfidf__min_df\": np.arange(5, 100),\n",
        "itis a little bit high range"
      ],
      "metadata": {
        "id": "NG7k_vGYJoGf"
      }
    },
    {
      "cell_type": "code",
      "execution_count": 69,
      "metadata": {
        "id": "iODF9SxmalNB"
      },
      "outputs": [],
      "source": [
        "# feature creation and modelling in a single function\n",
        "pipe = Pipeline([(\"tfidf\", TfidfVectorizer()), (\"svc\", LinearSVC())])\n",
        "\n",
        "# define parameter space to test # runtime 35min\n",
        "params = {\n",
        "    \"tfidf__ngram_range\": [(1, 2), (1, 3)],\n",
        "    \"tfidf__max_df\": np.arange(0.3, 0.8),\n",
        "    \"tfidf__min_df\": np.arange(5, 100),\n",
        "}\n",
        "# it is quite slow so we do 4 for now\n",
        "pipe_clf = RandomizedSearchCV(\n",
        "    pipe, params, n_jobs=-1, scoring=\"f1_macro\", n_iter=3)\n",
        "pipe_clf.fit(X_train, Y_train)\n",
        "pickle.dump(pipe_clf, open(\"./clf_pipe.pck\", \"wb\"))"
      ]
    },
    {
      "cell_type": "code",
      "source": [
        ""
      ],
      "metadata": {
        "id": "ME5bnOQ5tkWZ"
      },
      "execution_count": 69,
      "outputs": []
    },
    {
      "cell_type": "markdown",
      "metadata": {
        "id": "OsQKXxe9alNH"
      },
      "source": [
        "To limit the testing hyper-parameters, we first optimize the feature creation step. We test for different values for `ngram`. Moreover, `max_df` and `min_df` set an upper and lower limit for word frequencies. We want to exclude infrequent words because the model won't be able to learn (meaningful) associations with very few observations. The same is true for very frequent words which won't allow the model to differentiate between classes. For each parameter we check the values which returned the best model fit:"
      ]
    },
    {
      "cell_type": "code",
      "execution_count": 70,
      "metadata": {
        "colab": {
          "base_uri": "https://localhost:8080/"
        },
        "id": "EuOPv8JJalNI",
        "outputId": "5ebf4078-5503-4e58-aaa1-59905504f362"
      },
      "outputs": [
        {
          "output_type": "stream",
          "name": "stdout",
          "text": [
            "{'tfidf__ngram_range': (1, 3), 'tfidf__min_df': 35, 'tfidf__max_df': 0.3}\n"
          ]
        }
      ],
      "source": [
        "print(pipe_clf.best_params_)"
      ]
    },
    {
      "cell_type": "markdown",
      "metadata": {
        "id": "ASkPHMUualNJ"
      },
      "source": [
        "Now, using this best parameters for `TF-IDF` we can search for optimal parameters for the `LinearSVC` classifier:"
      ]
    },
    {
      "cell_type": "code",
      "execution_count": 71,
      "metadata": {
        "colab": {
          "base_uri": "https://localhost:8080/"
        },
        "id": "2sWLjIW9alNK",
        "outputId": "e3750419-a8e7-475f-a331-e03e5e079234"
      },
      "outputs": [
        {
          "output_type": "stream",
          "name": "stdout",
          "text": [
            "CPU times: user 8.08 s, sys: 384 ms, total: 8.47 s\n",
            "Wall time: 1min 13s\n"
          ]
        }
      ],
      "source": [
        "%%time\n",
        "# feature creation and modelling in a single function\n",
        "pipe = Pipeline([(\"tfidf\", TfidfVectorizer()), (\"svc\", LinearSVC())])\n",
        "\n",
        "# define parameter space to test # runtime 19min\n",
        "params = {\n",
        "    \"tfidf__ngram_range\": [(1, 3)],\n",
        "    \"tfidf__max_df\": [0.5],\n",
        "    \"tfidf__min_df\": [5],\n",
        "    \"svc__C\": np.arange(0.2, 1, 0.15),\n",
        "}\n",
        "pipe_svc_clf = RandomizedSearchCV(pipe, params, n_jobs=-1, scoring=\"f1_macro\",  n_iter=3)\n",
        "pipe_svc_clf.fit(X_train, Y_train)\n",
        "pickle.dump(pipe_svc_clf, open(\"./pipe_svc_clf.pck\", \"wb\"))"
      ]
    },
    {
      "cell_type": "code",
      "execution_count": 72,
      "metadata": {
        "colab": {
          "base_uri": "https://localhost:8080/"
        },
        "id": "HfoGX0T3alNL",
        "outputId": "facc4cb7-9a9f-4fe8-ce8a-7c52f03ee591"
      },
      "outputs": [
        {
          "output_type": "stream",
          "name": "stdout",
          "text": [
            "{'tfidf__ngram_range': (1, 3), 'tfidf__min_df': 5, 'tfidf__max_df': 0.5, 'svc__C': 0.35}\n"
          ]
        }
      ],
      "source": [
        "best_params = pipe_svc_clf.best_params_\n",
        "print(best_params)"
      ]
    },
    {
      "cell_type": "markdown",
      "metadata": {
        "id": "PW7n5wP9alNL"
      },
      "source": [
        "We focus on the `C` parameter which is basically a regularization parameter and essential in the performance of the SVC classifier. High values of `C` mean the margin of the hyperplane chosen by SVC to separate the data will be smaller. Thus, while classification on training data will be better this can also lead to overfitting. Consequently, `C` controls a trade off between a low training and testing error."
      ]
    },
    {
      "cell_type": "markdown",
      "metadata": {
        "id": "MmFszmkEalNM"
      },
      "source": [
        "Finally, we combine these best parameters and test the prediction of our model using the pipe:"
      ]
    },
    {
      "cell_type": "code",
      "execution_count": 73,
      "metadata": {
        "colab": {
          "base_uri": "https://localhost:8080/"
        },
        "id": "HTzffzh9alNN",
        "outputId": "5d5b3e59-0c8c-43ec-aab2-0d76c9c37868"
      },
      "outputs": [
        {
          "output_type": "stream",
          "name": "stdout",
          "text": [
            "              precision    recall  f1-score   support\n",
            "\n",
            "           0       0.84      0.84      0.84      3225\n",
            "           1       0.81      0.81      0.81      2752\n",
            "\n",
            "    accuracy                           0.83      5977\n",
            "   macro avg       0.83      0.83      0.83      5977\n",
            "weighted avg       0.83      0.83      0.83      5977\n",
            "\n"
          ]
        }
      ],
      "source": [
        "# run pipe with optimized parameters\n",
        "pipe.set_params(**best_params).fit(X_train, Y_train)\n",
        "pipe_pred = pipe.predict(X_test)\n",
        "report = sklearn.metrics.classification_report(Y_test, pipe_pred)\n",
        "print(report)"
      ]
    },
    {
      "cell_type": "code",
      "source": [
        "submission = pd.DataFrame()\n",
        "\n",
        "submission['id'] = df_test['id']\n",
        "submission['label'] = pipe.predict(df_test[\"text_result\"])\n",
        "\n",
        "# submission['label'] = pipe_clf.predict_proba(X_test)[:,1]\n",
        "\n",
        "submission.to_csv('LinearSVC.csv', index=False)"
      ],
      "metadata": {
        "id": "muNQgfO8alNN"
      },
      "execution_count": 74,
      "outputs": []
    },
    {
      "cell_type": "markdown",
      "source": [
        "##trail 3"
      ],
      "metadata": {
        "id": "dPpENGM7u7cZ"
      }
    },
    {
      "cell_type": "markdown",
      "source": [
        "in the thired trail i run the code using preprossing code above i took the cleand data and i expected the result to be better we will see at the end of this trail\n",
        "\n",
        "using LogisticRegression model\n",
        "\n",
        "\n",
        "I changed the hyperbrameters 'my_classifier__n_estimators': to be: [105,300], \n",
        "\n",
        "(class_weight='balanced')'\n",
        "\n",
        "i changed the rondome state to be 1\n",
        "\n",
        " using Grid Search with validation set"
      ],
      "metadata": {
        "id": "Fib2CeohKFft"
      }
    },
    {
      "cell_type": "markdown",
      "metadata": {
        "id": "0eFPg9aUEtYe"
      },
      "source": [
        "## Grid Search with validation set\n",
        "\n",
        "Cross-validation is expensive. We can supply our own validation set"
      ]
    },
    {
      "cell_type": "code",
      "source": [
        "param_grid = {\n",
        "    # 'preprocessor__num__imputer__strategy': ['mean',] \n",
        "    }"
      ],
      "metadata": {
        "id": "MH52a_oxw0UD"
      },
      "execution_count": 75,
      "outputs": []
    },
    {
      "cell_type": "code",
      "source": [
        "# combine the preprocessor with the model as a full tunable pipeline\n",
        "# we gave them a name so we can set their hyperparameters\n",
        "full_pipline = Pipeline(\n",
        "    steps=[\n",
        "        (\"tfidf\", TfidfVectorizer()),\n",
        "        ('my_classifier', \n",
        "           LogisticRegression(), # using LogisticRegression model\n",
        "        )\n",
        "    ]\n",
        ")\n",
        "full_pipline"
      ],
      "metadata": {
        "colab": {
          "base_uri": "https://localhost:8080/"
        },
        "id": "SWIQ58RuuJxr",
        "outputId": "fbb7f4ce-97d2-462f-c408-fc4cb12d33be"
      },
      "execution_count": 76,
      "outputs": [
        {
          "output_type": "execute_result",
          "data": {
            "text/plain": [
              "Pipeline(steps=[('tfidf', TfidfVectorizer()),\n",
              "                ('my_classifier', LogisticRegression())])"
            ]
          },
          "metadata": {},
          "execution_count": 76
        }
      ]
    },
    {
      "cell_type": "code",
      "source": [
        "X_train"
      ],
      "metadata": {
        "colab": {
          "base_uri": "https://localhost:8080/"
        },
        "id": "nf3IOfuNxads",
        "outputId": "b30753ad-e940-4816-c275-ce940d29c591"
      },
      "execution_count": 77,
      "outputs": [
        {
          "output_type": "execute_result",
          "data": {
            "text/plain": [
              "30809    someone brought a rake to a field and picks chamomile to give up your phony investigation鈥no col...\n",
              "41260            feminist writer receives letter from bank of america addressed to 鈥楲isa is a slut mcintire鈥\n",
              "5747     rare photograph of donald trump is dick taken by him while going out with stormy daniels and sub...\n",
              "30745     boardroom battles the m schoolboard race  despite the spending most voters continue to ignore them\n",
              "18664    here鈥檚 why you shouldn鈥檛 freak out about the 鈥楯 law cast as mulan鈥news鈥yet  because she hasnt be...\n",
              "                                                        ...                                                 \n",
              "50254              bloodied bruised john kerry emerges victorious at kickboxing tournament in bangkok prison\n",
              "32667    this sphere in national museum singapore is made up of the many reasons why i have  consecutive ...\n",
              "5227     why one exgoogle employee gave her two years notice before taking the job  she took the job to g...\n",
              "12258    thencandidate donald trump moments before being rushed off stage during a false assassination sc...\n",
              "33160                                              httpimgdeviantartneteicasupermariofanartbyderreikodlnnjpg\n",
              "Name: text, Length: 53791, dtype: object"
            ]
          },
          "metadata": {},
          "execution_count": 77
        }
      ]
    },
    {
      "cell_type": "code",
      "execution_count": 78,
      "metadata": {
        "colab": {
          "base_uri": "https://localhost:8080/"
        },
        "outputId": "2e8b3424-2f8e-435f-b264-059f8d9e2ec7",
        "id": "Mh5QPjZdEtYe"
      },
      "outputs": [
        {
          "output_type": "stream",
          "name": "stdout",
          "text": [
            "Fitting 1 folds for each of 1 candidates, totalling 1 fits\n",
            "best score 0.8869002616736689\n",
            "best score {}\n"
          ]
        }
      ],
      "source": [
        "from sklearn.model_selection import train_test_split, GridSearchCV\n",
        "from sklearn.model_selection import PredefinedSplit\n",
        "\n",
        "# Further split the original training set to a train and a validation set\n",
        "X_train2, X_val, y_train2, y_val = train_test_split(\n",
        "    X_train, Y_train, train_size = 0.9, stratify = Y_train, random_state = 1)\n",
        "\n",
        "# Create a list where train data indices are -1 and validation data indices are 0\n",
        "# X_train2 (new training set), X_train\n",
        "split_index = [-1 if x in X_train2.index else 0 for x in X_train.index]\n",
        "\n",
        "# Use the list to create PredefinedSplit\n",
        "pds = PredefinedSplit(test_fold = split_index)\n",
        "\n",
        "grid_search = GridSearchCV(\n",
        "    full_pipline, param_grid, cv=pds, verbose=1, n_jobs=2, \n",
        "    scoring='roc_auc')\n",
        "\n",
        "# here we still use X_train; but the grid search model\n",
        "# will use our predefined split internally to determine \n",
        "# which sample belongs to the validation set\n",
        "grid_search.fit(X_train, Y_train)\n",
        "\n",
        "print('best score {}'.format(grid_search.best_score_))\n",
        "print('best score {}'.format(grid_search.best_params_))"
      ]
    },
    {
      "cell_type": "code",
      "execution_count": 79,
      "metadata": {
        "colab": {
          "base_uri": "https://localhost:8080/"
        },
        "outputId": "4650054b-c7e4-4fd3-849c-5bbcfa0f3d8d",
        "id": "2Yjix6YbEtYf"
      },
      "outputs": [
        {
          "output_type": "execute_result",
          "data": {
            "text/plain": [
              "array([0, 0, 0])"
            ]
          },
          "metadata": {},
          "execution_count": 79
        }
      ],
      "source": [
        "grid_search.predict(df_test)"
      ]
    },
    {
      "cell_type": "code",
      "source": [
        "df_test[\"text_result\"]"
      ],
      "metadata": {
        "colab": {
          "base_uri": "https://localhost:8080/"
        },
        "id": "sQ6uNvIsy6lA",
        "outputId": "4d87d275-4454-479a-e6b9-ec66170eca38"
      },
      "execution_count": 80,
      "outputs": [
        {
          "output_type": "execute_result",
          "data": {
            "text/plain": [
              "0                                                stargaz\n",
              "1                                                   yeah\n",
              "2         pd phoenix car thief get instruct youtub video\n",
              "3                   trump accus iran one problem credibl\n",
              "4                                       believ hezbollah\n",
              "                              ...                       \n",
              "59146                       bicycl taxi driver new delhi\n",
              "59147               trump blow gop formula win hous race\n",
              "59148    napoleon return exil island elba march colouris\n",
              "59149                      deep alway want ballet dancer\n",
              "59150         toddler miracul surviv stori fall land car\n",
              "Name: text_result, Length: 59151, dtype: object"
            ]
          },
          "metadata": {},
          "execution_count": 80
        }
      ]
    },
    {
      "cell_type": "code",
      "execution_count": 81,
      "metadata": {
        "id": "v0U35U47EtYf"
      },
      "outputs": [],
      "source": [
        "submission = pd.DataFrame()\n",
        "\n",
        "submission['id'] = df_test['id']\n",
        "\n",
        "submission['label'] = grid_search.predict_proba(df_test[\"text_result\"])[:,1]\n",
        "\n",
        "submission.to_csv('Grid Search with validation set.csv', index=False)"
      ]
    },
    {
      "cell_type": "code",
      "source": [
        ""
      ],
      "metadata": {
        "id": "qyh0z21Mt3Mi"
      },
      "execution_count": 81,
      "outputs": []
    },
    {
      "cell_type": "markdown",
      "source": [
        "##trail 4"
      ],
      "metadata": {
        "id": "VJqfFfb4Tobj"
      }
    },
    {
      "cell_type": "code",
      "source": [
        "X_train"
      ],
      "metadata": {
        "colab": {
          "base_uri": "https://localhost:8080/"
        },
        "id": "l98G512eTtPm",
        "outputId": "276c1e93-3de2-4974-d93a-e402caefb08a"
      },
      "execution_count": 87,
      "outputs": [
        {
          "output_type": "execute_result",
          "data": {
            "text/plain": [
              "30809    someone brought a rake to a field and picks chamomile to give up your phony investigation鈥no col...\n",
              "41260            feminist writer receives letter from bank of america addressed to 鈥楲isa is a slut mcintire鈥\n",
              "5747     rare photograph of donald trump is dick taken by him while going out with stormy daniels and sub...\n",
              "30745     boardroom battles the m schoolboard race  despite the spending most voters continue to ignore them\n",
              "18664    here鈥檚 why you shouldn鈥檛 freak out about the 鈥楯 law cast as mulan鈥news鈥yet  because she hasnt be...\n",
              "                                                        ...                                                 \n",
              "50254              bloodied bruised john kerry emerges victorious at kickboxing tournament in bangkok prison\n",
              "32667    this sphere in national museum singapore is made up of the many reasons why i have  consecutive ...\n",
              "5227     why one exgoogle employee gave her two years notice before taking the job  she took the job to g...\n",
              "12258    thencandidate donald trump moments before being rushed off stage during a false assassination sc...\n",
              "33160                                              httpimgdeviantartneteicasupermariofanartbyderreikodlnnjpg\n",
              "Name: text, Length: 53791, dtype: object"
            ]
          },
          "metadata": {},
          "execution_count": 87
        }
      ]
    },
    {
      "cell_type": "code",
      "execution_count": 93,
      "metadata": {
        "colab": {
          "base_uri": "https://localhost:8080/"
        },
        "id": "lTLQKU7Lvmas",
        "outputId": "29d22eab-850f-444a-aa85-77f16d0c12d1"
      },
      "outputs": [
        {
          "output_type": "stream",
          "name": "stdout",
          "text": [
            "CPU times: user 6.01 s, sys: 318 ms, total: 6.33 s\n",
            "Wall time: 1min 1s\n"
          ]
        }
      ],
      "source": [
        "%%time\n",
        "# feature creation and modelling in a single function\n",
        "pipe = Pipeline([(\"tfidf\", TfidfVectorizer()), (\"logistic\",LogisticRegression())])\n",
        "\n",
        "# define parameter space to test # runtime 19min\n",
        "params = {\n",
        "    \"tfidf__ngram_range\": [(1, 2)],\n",
        "    \"tfidf__max_df\": [0.3],\n",
        "    \"tfidf__min_df\": [23],\n",
        "    \"logistic__C\": np.arange(0.2, 1, 0.15),\n",
        "}\n",
        "pipe_svc_clf = RandomizedSearchCV(pipe, params, n_jobs=-1, scoring=\"f1_macro\",  n_iter=3)\n",
        "pipe_svc_clf.fit(X_train, Y_train)\n",
        "pickle.dump(pipe_svc_clf, open(\"./pipe_svc_clf.pck\", \"wb\"))"
      ]
    },
    {
      "cell_type": "code",
      "execution_count": 94,
      "metadata": {
        "colab": {
          "base_uri": "https://localhost:8080/"
        },
        "id": "lvmwvo5-vo48",
        "outputId": "d8e7cf43-322d-430a-c86b-05035692448b"
      },
      "outputs": [
        {
          "output_type": "stream",
          "name": "stdout",
          "text": [
            "{'tfidf__ngram_range': (1, 2), 'tfidf__min_df': 23, 'tfidf__max_df': 0.3, 'logistic__C': 0.6499999999999999}\n"
          ]
        }
      ],
      "source": [
        "best_params = pipe_svc_clf.best_params_\n",
        "print(best_params)"
      ]
    },
    {
      "cell_type": "code",
      "execution_count": 95,
      "metadata": {
        "colab": {
          "base_uri": "https://localhost:8080/"
        },
        "id": "9B1x5YkbwHNs",
        "outputId": "0d757592-acd6-4cdf-add2-df171d5850c6"
      },
      "outputs": [
        {
          "output_type": "stream",
          "name": "stdout",
          "text": [
            "              precision    recall  f1-score   support\n",
            "\n",
            "           0       0.83      0.82      0.82      3225\n",
            "           1       0.79      0.80      0.79      2752\n",
            "\n",
            "    accuracy                           0.81      5977\n",
            "   macro avg       0.81      0.81      0.81      5977\n",
            "weighted avg       0.81      0.81      0.81      5977\n",
            "\n"
          ]
        }
      ],
      "source": [
        "# run pipe with optimized parameters\n",
        "pipe.set_params(**best_params).fit(X_train, Y_train)\n",
        "pipe_pred = pipe.predict(X_test)\n",
        "report = sklearn.metrics.classification_report(Y_test, pipe_pred)\n",
        "print(report)"
      ]
    },
    {
      "cell_type": "code",
      "execution_count": 96,
      "metadata": {
        "colab": {
          "base_uri": "https://localhost:8080/",
          "height": 424
        },
        "id": "OHC7PsyawKzc",
        "outputId": "26cce4ef-8f02-45b0-b6fb-2f5398041257"
      },
      "outputs": [
        {
          "output_type": "execute_result",
          "data": {
            "text/plain": [
              "          id  \\\n",
              "0          0   \n",
              "1          1   \n",
              "2          2   \n",
              "3          3   \n",
              "4          4   \n",
              "...      ...   \n",
              "59146  59146   \n",
              "59147  59147   \n",
              "59148  59148   \n",
              "59149  59149   \n",
              "59150  59150   \n",
              "\n",
              "                                                                                  text  \n",
              "0                                                                           stargazer   \n",
              "1                                                                                 yeah  \n",
              "2                           PD: Phoenix car thief gets instructions from YouTube video  \n",
              "3                       As Trump Accuses Iran, He Has One Problem: His Own Credibility  \n",
              "4                                                         \"Believers\" - Hezbollah 2011  \n",
              "...                                                                                ...  \n",
              "59146                                                Bicycle taxi drivers of New Delhi  \n",
              "59147                             Trump blows up GOP's formula for winning House races  \n",
              "59148  Napoleon returns from his exile on the island of Elba. (March 1815), Colourised  \n",
              "59149                                 Deep down he always wanted to be a ballet dancer  \n",
              "59150                        Toddler miraculously survives 6-story fall landing on car  \n",
              "\n",
              "[59151 rows x 2 columns]"
            ],
            "text/html": [
              "\n",
              "  <div id=\"df-66635a5c-ba32-4f3d-8b69-fe7b5e8abc0d\">\n",
              "    <div class=\"colab-df-container\">\n",
              "      <div>\n",
              "<style scoped>\n",
              "    .dataframe tbody tr th:only-of-type {\n",
              "        vertical-align: middle;\n",
              "    }\n",
              "\n",
              "    .dataframe tbody tr th {\n",
              "        vertical-align: top;\n",
              "    }\n",
              "\n",
              "    .dataframe thead th {\n",
              "        text-align: right;\n",
              "    }\n",
              "</style>\n",
              "<table border=\"1\" class=\"dataframe\">\n",
              "  <thead>\n",
              "    <tr style=\"text-align: right;\">\n",
              "      <th></th>\n",
              "      <th>id</th>\n",
              "      <th>text</th>\n",
              "    </tr>\n",
              "  </thead>\n",
              "  <tbody>\n",
              "    <tr>\n",
              "      <th>0</th>\n",
              "      <td>0</td>\n",
              "      <td>stargazer</td>\n",
              "    </tr>\n",
              "    <tr>\n",
              "      <th>1</th>\n",
              "      <td>1</td>\n",
              "      <td>yeah</td>\n",
              "    </tr>\n",
              "    <tr>\n",
              "      <th>2</th>\n",
              "      <td>2</td>\n",
              "      <td>PD: Phoenix car thief gets instructions from YouTube video</td>\n",
              "    </tr>\n",
              "    <tr>\n",
              "      <th>3</th>\n",
              "      <td>3</td>\n",
              "      <td>As Trump Accuses Iran, He Has One Problem: His Own Credibility</td>\n",
              "    </tr>\n",
              "    <tr>\n",
              "      <th>4</th>\n",
              "      <td>4</td>\n",
              "      <td>\"Believers\" - Hezbollah 2011</td>\n",
              "    </tr>\n",
              "    <tr>\n",
              "      <th>...</th>\n",
              "      <td>...</td>\n",
              "      <td>...</td>\n",
              "    </tr>\n",
              "    <tr>\n",
              "      <th>59146</th>\n",
              "      <td>59146</td>\n",
              "      <td>Bicycle taxi drivers of New Delhi</td>\n",
              "    </tr>\n",
              "    <tr>\n",
              "      <th>59147</th>\n",
              "      <td>59147</td>\n",
              "      <td>Trump blows up GOP's formula for winning House races</td>\n",
              "    </tr>\n",
              "    <tr>\n",
              "      <th>59148</th>\n",
              "      <td>59148</td>\n",
              "      <td>Napoleon returns from his exile on the island of Elba. (March 1815), Colourised</td>\n",
              "    </tr>\n",
              "    <tr>\n",
              "      <th>59149</th>\n",
              "      <td>59149</td>\n",
              "      <td>Deep down he always wanted to be a ballet dancer</td>\n",
              "    </tr>\n",
              "    <tr>\n",
              "      <th>59150</th>\n",
              "      <td>59150</td>\n",
              "      <td>Toddler miraculously survives 6-story fall landing on car</td>\n",
              "    </tr>\n",
              "  </tbody>\n",
              "</table>\n",
              "<p>59151 rows × 2 columns</p>\n",
              "</div>\n",
              "      <button class=\"colab-df-convert\" onclick=\"convertToInteractive('df-66635a5c-ba32-4f3d-8b69-fe7b5e8abc0d')\"\n",
              "              title=\"Convert this dataframe to an interactive table.\"\n",
              "              style=\"display:none;\">\n",
              "        \n",
              "  <svg xmlns=\"http://www.w3.org/2000/svg\" height=\"24px\"viewBox=\"0 0 24 24\"\n",
              "       width=\"24px\">\n",
              "    <path d=\"M0 0h24v24H0V0z\" fill=\"none\"/>\n",
              "    <path d=\"M18.56 5.44l.94 2.06.94-2.06 2.06-.94-2.06-.94-.94-2.06-.94 2.06-2.06.94zm-11 1L8.5 8.5l.94-2.06 2.06-.94-2.06-.94L8.5 2.5l-.94 2.06-2.06.94zm10 10l.94 2.06.94-2.06 2.06-.94-2.06-.94-.94-2.06-.94 2.06-2.06.94z\"/><path d=\"M17.41 7.96l-1.37-1.37c-.4-.4-.92-.59-1.43-.59-.52 0-1.04.2-1.43.59L10.3 9.45l-7.72 7.72c-.78.78-.78 2.05 0 2.83L4 21.41c.39.39.9.59 1.41.59.51 0 1.02-.2 1.41-.59l7.78-7.78 2.81-2.81c.8-.78.8-2.07 0-2.86zM5.41 20L4 18.59l7.72-7.72 1.47 1.35L5.41 20z\"/>\n",
              "  </svg>\n",
              "      </button>\n",
              "      \n",
              "  <style>\n",
              "    .colab-df-container {\n",
              "      display:flex;\n",
              "      flex-wrap:wrap;\n",
              "      gap: 12px;\n",
              "    }\n",
              "\n",
              "    .colab-df-convert {\n",
              "      background-color: #E8F0FE;\n",
              "      border: none;\n",
              "      border-radius: 50%;\n",
              "      cursor: pointer;\n",
              "      display: none;\n",
              "      fill: #1967D2;\n",
              "      height: 32px;\n",
              "      padding: 0 0 0 0;\n",
              "      width: 32px;\n",
              "    }\n",
              "\n",
              "    .colab-df-convert:hover {\n",
              "      background-color: #E2EBFA;\n",
              "      box-shadow: 0px 1px 2px rgba(60, 64, 67, 0.3), 0px 1px 3px 1px rgba(60, 64, 67, 0.15);\n",
              "      fill: #174EA6;\n",
              "    }\n",
              "\n",
              "    [theme=dark] .colab-df-convert {\n",
              "      background-color: #3B4455;\n",
              "      fill: #D2E3FC;\n",
              "    }\n",
              "\n",
              "    [theme=dark] .colab-df-convert:hover {\n",
              "      background-color: #434B5C;\n",
              "      box-shadow: 0px 1px 3px 1px rgba(0, 0, 0, 0.15);\n",
              "      filter: drop-shadow(0px 1px 2px rgba(0, 0, 0, 0.3));\n",
              "      fill: #FFFFFF;\n",
              "    }\n",
              "  </style>\n",
              "\n",
              "      <script>\n",
              "        const buttonEl =\n",
              "          document.querySelector('#df-66635a5c-ba32-4f3d-8b69-fe7b5e8abc0d button.colab-df-convert');\n",
              "        buttonEl.style.display =\n",
              "          google.colab.kernel.accessAllowed ? 'block' : 'none';\n",
              "\n",
              "        async function convertToInteractive(key) {\n",
              "          const element = document.querySelector('#df-66635a5c-ba32-4f3d-8b69-fe7b5e8abc0d');\n",
              "          const dataTable =\n",
              "            await google.colab.kernel.invokeFunction('convertToInteractive',\n",
              "                                                     [key], {});\n",
              "          if (!dataTable) return;\n",
              "\n",
              "          const docLinkHtml = 'Like what you see? Visit the ' +\n",
              "            '<a target=\"_blank\" href=https://colab.research.google.com/notebooks/data_table.ipynb>data table notebook</a>'\n",
              "            + ' to learn more about interactive tables.';\n",
              "          element.innerHTML = '';\n",
              "          dataTable['output_type'] = 'display_data';\n",
              "          await google.colab.output.renderOutput(dataTable, element);\n",
              "          const docLink = document.createElement('div');\n",
              "          docLink.innerHTML = docLinkHtml;\n",
              "          element.appendChild(docLink);\n",
              "        }\n",
              "      </script>\n",
              "    </div>\n",
              "  </div>\n",
              "  "
            ]
          },
          "metadata": {},
          "execution_count": 96
        }
      ],
      "source": [
        "#read the training data \n",
        "df_test=pd.read_csv(\"x_test.csv\")\n",
        "df_test"
      ]
    },
    {
      "cell_type": "code",
      "source": [
        "%%time\n",
        "# Clean text\n",
        "df_test[\"text_result\"] = df_test.loc[df_test[\"text\"].str.len() > 0, \"text\"]\n",
        "df_test[\"text_result\"] = df_test[\"text_result\"].map(\n",
        "    lambda x: clean_text(x, for_embedding=False) if isinstance(x, str) else x\n",
        ")"
      ],
      "metadata": {
        "colab": {
          "base_uri": "https://localhost:8080/"
        },
        "id": "IWWxbsS1crzz",
        "outputId": "cb391552-fd47-4bce-e33c-33f2d94006bf"
      },
      "execution_count": 101,
      "outputs": [
        {
          "output_type": "stream",
          "name": "stdout",
          "text": [
            "CPU times: user 16.3 s, sys: 49.3 ms, total: 16.4 s\n",
            "Wall time: 17.9 s\n"
          ]
        }
      ]
    },
    {
      "cell_type": "code",
      "execution_count": 102,
      "metadata": {
        "id": "ZYpFN-sfwa47"
      },
      "outputs": [],
      "source": [
        "submission = pd.DataFrame()\n",
        "\n",
        "submission['id'] = df_test['id']\n",
        "\n",
        "submission['label'] = pipe.predict_proba(df_test[\"text_result\"])[:,1]\n",
        "\n",
        "submission.to_csv('logistic.csv', index=False)"
      ]
    },
    {
      "cell_type": "markdown",
      "source": [
        "##trail 5"
      ],
      "metadata": {
        "id": "4NkSZUUAT3h4"
      }
    },
    {
      "cell_type": "markdown",
      "source": [
        "Trying Neural Network "
      ],
      "metadata": {
        "id": "fbVtw2HzUYzZ"
      }
    },
    {
      "cell_type": "code",
      "execution_count": 103,
      "metadata": {
        "id": "WgnoSIH_iN_Z"
      },
      "outputs": [],
      "source": [
        "xy_train_df =  pd.read_csv('xy_train.csv')\n",
        "x_test_df =  pd.read_csv('x_test.csv')"
      ]
    },
    {
      "cell_type": "code",
      "execution_count": 104,
      "metadata": {
        "id": "coSV4XFLiOXY"
      },
      "outputs": [],
      "source": [
        "#training x and y data\n",
        "x = xy_train_df.text   #the text data (titles)\n",
        "y = xy_train_df.label  #(the label data)\n"
      ]
    },
    {
      "cell_type": "code",
      "execution_count": 105,
      "metadata": {
        "id": "P2Usn4vjiiGl"
      },
      "outputs": [],
      "source": [
        "from __future__ import absolute_import, division, print_function, unicode_literals\n",
        "import collections      #specialized container datatypes for list, tuple, set alternative\n",
        "import matplotlib.pyplot as plt   #for plotting\n",
        "import numpy as np\n",
        "import tensorflow as tf\n",
        "from tensorflow import keras\n",
        "from tensorflow.compat.v1.keras.layers import CuDNNGRU #Fast GRU implementation backed by cuDNN\n",
        "\n",
        "import tensorflow as tf\n",
        "from tensorflow.keras.optimizers import Adam     #Optimizer\n",
        "from keras.layers import LSTM, GRU"
      ]
    },
    {
      "cell_type": "code",
      "execution_count": 106,
      "metadata": {
        "id": "FoINM4RvlVGE"
      },
      "outputs": [],
      "source": [
        "vocab_size = 40000    #defining the size of vocabulary words\n",
        "max_len = 60          #defining the maximum length of each title #final tuning"
      ]
    },
    {
      "cell_type": "code",
      "execution_count": 107,
      "metadata": {
        "id": "pfmObx2ki1Bz"
      },
      "outputs": [],
      "source": [
        "#Early stopping definition\n",
        "#The parameter to monitor is validation loss\n",
        "#Upto 5 epochs are checked to see the improvement\n",
        "callback = tf.keras.callbacks.EarlyStopping(monitor='val_auc', patience=3)"
      ]
    },
    {
      "cell_type": "code",
      "execution_count": 108,
      "metadata": {
        "id": "xbGOiGoSjGu2"
      },
      "outputs": [],
      "source": [
        "#splitting training data as train and validation data with the given ratio as test_size\n",
        "x_train, x_valid, y_train, y_valid = train_test_split(x, y, test_size=0.1)"
      ]
    },
    {
      "cell_type": "code",
      "execution_count": 109,
      "metadata": {
        "id": "Ci3twaLZkf-y"
      },
      "outputs": [],
      "source": [
        "# build vocabulary from training set\n",
        "#Each word is assigned a number \n",
        "#tokenizer build vocabulary\n",
        "tokenizer = Tokenizer (num_words= vocab_size)\n",
        "tokenizer.fit_on_texts(x_train) #vocab based on words in training data "
      ]
    },
    {
      "cell_type": "code",
      "execution_count": 110,
      "metadata": {
        "colab": {
          "base_uri": "https://localhost:8080/"
        },
        "id": "dSJi-a88kkB-",
        "outputId": "e749c798-4d19-4131-d145-e4bfc3516016"
      },
      "outputs": [
        {
          "output_type": "execute_result",
          "data": {
            "text/plain": [
              "{1: 'the',\n",
              " 2: 'a',\n",
              " 3: 'to',\n",
              " 4: 'of',\n",
              " 5: 'in',\n",
              " 6: 'and',\n",
              " 7: 'for',\n",
              " 8: 'on',\n",
              " 9: 'this',\n",
              " 10: 'is',\n",
              " 11: 'it',\n",
              " 12: 'i',\n",
              " 13: 'with',\n",
              " 14: 'from',\n",
              " 15: 'my',\n",
              " 16: 'that',\n",
              " 17: 'his',\n",
              " 18: 'at',\n",
              " 19: 'you',\n",
              " 20: 'was',\n",
              " 21: 'by',\n",
              " 22: 'after',\n",
              " 23: '0',\n",
              " 24: 'an',\n",
              " 25: 'he',\n",
              " 26: 'as',\n",
              " 27: 'has',\n",
              " 28: 'are',\n",
              " 29: 'be',\n",
              " 30: 'out',\n",
              " 31: 'they',\n",
              " 32: 'have',\n",
              " 33: 'one',\n",
              " 34: 'her',\n",
              " 35: 'new',\n",
              " 36: 'but',\n",
              " 37: 'like',\n",
              " 38: 'who',\n",
              " 39: 'their',\n",
              " 40: 'up',\n",
              " 41: 'not',\n",
              " 42: 'about',\n",
              " 43: 'just',\n",
              " 44: 'what',\n",
              " 45: 'man',\n",
              " 46: 'when',\n",
              " 47: 'colorized',\n",
              " 48: 'so',\n",
              " 49: 'will',\n",
              " 50: 'first',\n",
              " 51: 'all',\n",
              " 52: 'old',\n",
              " 53: 'trump',\n",
              " 54: 'your',\n",
              " 55: 'people',\n",
              " 56: 'year',\n",
              " 57: 'can',\n",
              " 58: 'into',\n",
              " 59: 'years',\n",
              " 60: '2',\n",
              " 61: 'found',\n",
              " 62: 'how',\n",
              " 63: 'over',\n",
              " 64: 'no',\n",
              " 65: 'she',\n",
              " 66: 'during',\n",
              " 67: 'if',\n",
              " 68: 'poster',\n",
              " 69: 'before',\n",
              " 70: '1',\n",
              " 71: 'war',\n",
              " 72: 'me',\n",
              " 73: 'more',\n",
              " 74: 'him',\n",
              " 75: 's',\n",
              " 76: 'them',\n",
              " 77: 'time',\n",
              " 78: 'we',\n",
              " 79: 'had',\n",
              " 80: '鈥',\n",
              " 81: 'now',\n",
              " 82: 'get',\n",
              " 83: \"it's\",\n",
              " 84: 'being',\n",
              " 85: 'us',\n",
              " 86: 'psbattle',\n",
              " 87: 'life',\n",
              " 88: 'or',\n",
              " 89: 'day',\n",
              " 90: 'been',\n",
              " 91: 'off',\n",
              " 92: 'while',\n",
              " 93: 'two',\n",
              " 94: 'some',\n",
              " 95: 'made',\n",
              " 96: 'says',\n",
              " 97: 'back',\n",
              " 98: 'why',\n",
              " 99: 'down',\n",
              " 100: 'post',\n",
              " 101: 'its',\n",
              " 102: 'looks',\n",
              " 103: 'circa',\n",
              " 104: 'only',\n",
              " 105: 'than',\n",
              " 106: 'were',\n",
              " 107: 'american',\n",
              " 108: 'world',\n",
              " 109: 'because',\n",
              " 110: 'do',\n",
              " 111: 'these',\n",
              " 112: 'r',\n",
              " 113: 'school',\n",
              " 114: 'make',\n",
              " 115: 'there',\n",
              " 116: 'got',\n",
              " 117: 'true',\n",
              " 118: 'president',\n",
              " 119: 'house',\n",
              " 120: 'photo',\n",
              " 121: 'would',\n",
              " 122: 'woman',\n",
              " 123: 'police',\n",
              " 124: 'know',\n",
              " 125: '000',\n",
              " 126: 'see',\n",
              " 127: 'news',\n",
              " 128: 'other',\n",
              " 129: 'right',\n",
              " 130: 'last',\n",
              " 131: '4',\n",
              " 132: 'way',\n",
              " 133: 'could',\n",
              " 134: '5',\n",
              " 135: 'u',\n",
              " 136: '3',\n",
              " 137: 'against',\n",
              " 138: 'our',\n",
              " 139: 'left',\n",
              " 140: 'help',\n",
              " 141: 'through',\n",
              " 142: 'look',\n",
              " 143: '2018',\n",
              " 144: 'never',\n",
              " 145: 'white',\n",
              " 146: 'which',\n",
              " 147: 'picture',\n",
              " 148: 'redd',\n",
              " 149: 'work',\n",
              " 150: 'home',\n",
              " 151: 'where',\n",
              " 152: 'little',\n",
              " 153: 'jpg',\n",
              " 154: 'most',\n",
              " 155: 'german',\n",
              " 156: 'water',\n",
              " 157: \"don't\",\n",
              " 158: 'still',\n",
              " 159: 'video',\n",
              " 160: 'say',\n",
              " 161: 'car',\n",
              " 162: 'x',\n",
              " 163: 'today',\n",
              " 164: 'donald',\n",
              " 165: 'dog',\n",
              " 166: 'used',\n",
              " 167: 'then',\n",
              " 168: '2017',\n",
              " 169: 'take',\n",
              " 170: 'family',\n",
              " 171: '10',\n",
              " 172: 'same',\n",
              " 173: 'state',\n",
              " 174: 'free',\n",
              " 175: 'com',\n",
              " 176: 'anti',\n",
              " 177: 'black',\n",
              " 178: 'around',\n",
              " 179: 'go',\n",
              " 180: 'party',\n",
              " 181: 'said',\n",
              " 182: 'https',\n",
              " 183: 'high',\n",
              " 184: 'good',\n",
              " 185: 'smart',\n",
              " 186: 'game',\n",
              " 187: 'every',\n",
              " 188: 'think',\n",
              " 189: 'propaganda',\n",
              " 190: 'took',\n",
              " 191: 'auto',\n",
              " 192: 'use',\n",
              " 193: 'going',\n",
              " 194: 'guy',\n",
              " 195: 'may',\n",
              " 196: 'crop',\n",
              " 197: 'united',\n",
              " 198: 'saved',\n",
              " 199: 'too',\n",
              " 200: 'local',\n",
              " 201: 'preview',\n",
              " 202: '6',\n",
              " 203: 'find',\n",
              " 204: 'width',\n",
              " 205: '2019',\n",
              " 206: 'british',\n",
              " 207: 'million',\n",
              " 208: 'c',\n",
              " 209: 'webp',\n",
              " 210: 'great',\n",
              " 211: 'even',\n",
              " 212: 'city',\n",
              " 213: 'children',\n",
              " 214: 'did',\n",
              " 215: \"i'm\",\n",
              " 216: '320',\n",
              " 217: 'it鈥檚',\n",
              " 218: 'front',\n",
              " 219: 'national',\n",
              " 220: 'girl',\n",
              " 221: 'something',\n",
              " 222: 'much',\n",
              " 223: 'long',\n",
              " 224: 'really',\n",
              " 225: 'show',\n",
              " 226: 'ever',\n",
              " 227: 'soviet',\n",
              " 228: 'food',\n",
              " 229: 'young',\n",
              " 230: 'here',\n",
              " 231: 'soldier',\n",
              " 232: 'top',\n",
              " 233: 'next',\n",
              " 234: 'want',\n",
              " 235: '1945',\n",
              " 236: 'death',\n",
              " 237: 'under',\n",
              " 238: 'states',\n",
              " 239: 'makes',\n",
              " 240: 'away',\n",
              " 241: 'put',\n",
              " 242: 'came',\n",
              " 243: 'gets',\n",
              " 244: 'women',\n",
              " 245: 'inside',\n",
              " 246: 'kids',\n",
              " 247: 'ago',\n",
              " 248: 'russian',\n",
              " 249: 'north',\n",
              " 250: 'own',\n",
              " 251: 'face',\n",
              " 252: 'thought',\n",
              " 253: '7',\n",
              " 254: 'using',\n",
              " 255: 'clicks',\n",
              " 256: 'actually',\n",
              " 257: 'stop',\n",
              " 258: 'getting',\n",
              " 259: 'money',\n",
              " 260: 'very',\n",
              " 261: 'japanese',\n",
              " 262: 'should',\n",
              " 263: 'saw',\n",
              " 264: 'boy',\n",
              " 265: 'friend',\n",
              " 266: 'place',\n",
              " 267: 'between',\n",
              " 268: 'three',\n",
              " 269: 'south',\n",
              " 270: 'america',\n",
              " 271: 'bill',\n",
              " 272: 'many',\n",
              " 273: 'imgur',\n",
              " 274: 'someone',\n",
              " 275: \"didn't\",\n",
              " 276: 'days',\n",
              " 277: 'nazi',\n",
              " 278: 'battle',\n",
              " 279: 'also',\n",
              " 280: 'fire',\n",
              " 281: '8',\n",
              " 282: 'government',\n",
              " 283: 'red',\n",
              " 284: 'making',\n",
              " 285: 'air',\n",
              " 286: 'trying',\n",
              " 287: 'instead',\n",
              " 288: '9',\n",
              " 289: 'give',\n",
              " 290: 'campaign',\n",
              " 291: 'army',\n",
              " 292: 'thing',\n",
              " 293: 'baby',\n",
              " 294: 'part',\n",
              " 295: 'change',\n",
              " 296: 'big',\n",
              " 297: 'night',\n",
              " 298: 'need',\n",
              " 299: 'side',\n",
              " 300: 'called',\n",
              " 301: 'does',\n",
              " 302: 'best',\n",
              " 303: 'another',\n",
              " 304: 'different',\n",
              " 305: 'space',\n",
              " 306: 'without',\n",
              " 307: 'went',\n",
              " 308: 'live',\n",
              " 309: 'end',\n",
              " 310: '20',\n",
              " 311: 'any',\n",
              " 312: '2016',\n",
              " 313: 'germany',\n",
              " 314: 'hand',\n",
              " 315: 'dad',\n",
              " 316: 'wall',\n",
              " 317: 'taken',\n",
              " 318: 'keep',\n",
              " 319: 'public',\n",
              " 320: 'son',\n",
              " 321: 'looking',\n",
              " 322: 'set',\n",
              " 323: 'rare',\n",
              " 324: 'sex',\n",
              " 325: 'cancer',\n",
              " 326: '1944',\n",
              " 327: 'things',\n",
              " 328: 'store',\n",
              " 329: 'finally',\n",
              " 330: 'love',\n",
              " 331: 'light',\n",
              " 332: 'john',\n",
              " 333: 'across',\n",
              " 334: 'head',\n",
              " 335: 'students',\n",
              " 336: 'tree',\n",
              " 337: 'shows',\n",
              " 338: 'each',\n",
              " 339: 'french',\n",
              " 340: 'sign',\n",
              " 341: 'behind',\n",
              " 342: '11',\n",
              " 343: \"he's\",\n",
              " 344: 'child',\n",
              " 345: 'name',\n",
              " 346: 'star',\n",
              " 347: 'later',\n",
              " 348: 'until',\n",
              " 349: 'seen',\n",
              " 350: 'small',\n",
              " 351: 'men',\n",
              " 352: 'room',\n",
              " 353: '100',\n",
              " 354: 'mom',\n",
              " 355: 'former',\n",
              " 356: 'book',\n",
              " 357: 'fight',\n",
              " 358: 'florida',\n",
              " 359: 'office',\n",
              " 360: 'cat',\n",
              " 361: 'full',\n",
              " 362: '1942',\n",
              " 363: 'doing',\n",
              " 364: 'company',\n",
              " 365: 'lost',\n",
              " 366: 'soldiers',\n",
              " 367: 'real',\n",
              " 368: \"doesn't\",\n",
              " 369: 'taking',\n",
              " 370: 'since',\n",
              " 371: 'well',\n",
              " 372: 'come',\n",
              " 373: 'better',\n",
              " 374: 'story',\n",
              " 375: 'door',\n",
              " 376: 'job',\n",
              " 377: 'support',\n",
              " 378: 'hitler',\n",
              " 379: \"here's\",\n",
              " 380: 'country',\n",
              " 381: '1943',\n",
              " 382: 'wife',\n",
              " 383: 'friends',\n",
              " 384: 'power',\n",
              " 385: 'report',\n",
              " 386: 'outside',\n",
              " 387: 'court',\n",
              " 388: 'times',\n",
              " 389: 'again',\n",
              " 390: 'group',\n",
              " 391: 'attack',\n",
              " 392: 'election',\n",
              " 393: 'week',\n",
              " 394: 'building',\n",
              " 395: 'park',\n",
              " 396: 'reason',\n",
              " 397: 'half',\n",
              " 398: 'external',\n",
              " 399: 'save',\n",
              " 400: 'cover',\n",
              " 401: 'china',\n",
              " 402: 'chinese',\n",
              " 403: 'shot',\n",
              " 404: '12',\n",
              " 405: 'having',\n",
              " 406: 'couple',\n",
              " 407: 'image',\n",
              " 408: 'article',\n",
              " 409: 'homeless',\n",
              " 410: 'dead',\n",
              " 411: 'killed',\n",
              " 412: 'comments',\n",
              " 413: 'student',\n",
              " 414: '15',\n",
              " 415: 'artwork',\n",
              " 416: 'york',\n",
              " 417: 'believe',\n",
              " 418: 'phone',\n",
              " 419: 'college',\n",
              " 420: 'obama',\n",
              " 421: 'military',\n",
              " 422: 'ice',\n",
              " 423: 'box',\n",
              " 424: 'together',\n",
              " 425: 'team',\n",
              " 426: \"can't\",\n",
              " 427: '30',\n",
              " 428: 'officer',\n",
              " 429: 'buy',\n",
              " 430: 'uk',\n",
              " 431: 'parents',\n",
              " 432: 'restaurant',\n",
              " 433: 'mother',\n",
              " 434: 'open',\n",
              " 435: 'might',\n",
              " 436: 'those',\n",
              " 437: 'law',\n",
              " 438: 'facebook',\n",
              " 439: 'told',\n",
              " 440: 'russia',\n",
              " 441: 'california',\n",
              " 442: 'himself',\n",
              " 443: 'bad',\n",
              " 444: 'let',\n",
              " 445: 'person',\n",
              " 446: 'due',\n",
              " 447: 'always',\n",
              " 448: 'call',\n",
              " 449: 'health',\n",
              " 450: 'pay',\n",
              " 451: 'months',\n",
              " 452: 'movie',\n",
              " 453: 'human',\n",
              " 454: 'few',\n",
              " 455: 'hours',\n",
              " 456: 'general',\n",
              " 457: 'town',\n",
              " 458: 'date',\n",
              " 459: 'ad',\n",
              " 460: 'order',\n",
              " 461: 'near',\n",
              " 462: 'secret',\n",
              " 463: 'france',\n",
              " 464: 'history',\n",
              " 465: 'working',\n",
              " 466: 'gave',\n",
              " 467: 'line',\n",
              " 468: 'watch',\n",
              " 469: 'reveals',\n",
              " 470: 'early',\n",
              " 471: 'finds',\n",
              " 472: 'wants',\n",
              " 473: 'sure',\n",
              " 474: 'almost',\n",
              " 475: 'middle',\n",
              " 476: 'takes',\n",
              " 477: 'tell',\n",
              " 478: 'gives',\n",
              " 479: 'happy',\n",
              " 480: 'university',\n",
              " 481: 'second',\n",
              " 482: 'vietnam',\n",
              " 483: \"they're\",\n",
              " 484: 'play',\n",
              " 485: 'hospital',\n",
              " 486: 'list',\n",
              " 487: 'paper',\n",
              " 488: 'wwii',\n",
              " 489: 'texas',\n",
              " 490: \"won't\",\n",
              " 491: 'colourised',\n",
              " 492: 'showing',\n",
              " 493: 'community',\n",
              " 494: 'father',\n",
              " 495: 'nothing',\n",
              " 496: 'hit',\n",
              " 497: 'cut',\n",
              " 498: 'service',\n",
              " 499: 'bought',\n",
              " 500: 'june',\n",
              " 501: 'shooting',\n",
              " 502: 'win',\n",
              " 503: 'case',\n",
              " 504: 'vote',\n",
              " 505: 'bathroom',\n",
              " 506: 'giving',\n",
              " 507: 'street',\n",
              " 508: 'plastic',\n",
              " 509: 'enough',\n",
              " 510: 'union',\n",
              " 511: 'george',\n",
              " 512: 'both',\n",
              " 513: 'body',\n",
              " 514: '1941',\n",
              " 515: 'goes',\n",
              " 516: '50',\n",
              " 517: 'everyone',\n",
              " 518: 'moments',\n",
              " 519: 'arrested',\n",
              " 520: 'art',\n",
              " 521: 'usa',\n",
              " 522: 'king',\n",
              " 523: 'daughter',\n",
              " 524: 'internet',\n",
              " 525: 'must',\n",
              " 526: 'died',\n",
              " 527: 'wanted',\n",
              " 528: 'scientists',\n",
              " 529: 'security',\n",
              " 530: 'april',\n",
              " 531: 'http',\n",
              " 532: 'become',\n",
              " 533: 'playing',\n",
              " 534: 'four',\n",
              " 535: 'plan',\n",
              " 536: 'washington',\n",
              " 537: 'care',\n",
              " 538: 'special',\n",
              " 539: 'march',\n",
              " 540: 'class',\n",
              " 541: 'christmas',\n",
              " 542: 'hands',\n",
              " 543: 'workers',\n",
              " 544: 'happened',\n",
              " 545: 'station',\n",
              " 546: 'am',\n",
              " 547: 'once',\n",
              " 548: 'lot',\n",
              " 549: 'lives',\n",
              " 550: 'hotel',\n",
              " 551: 'force',\n",
              " 552: \"'\",\n",
              " 553: 'center',\n",
              " 554: 'gay',\n",
              " 555: 'window',\n",
              " 556: 'wrong',\n",
              " 557: 'eat',\n",
              " 558: 'gun',\n",
              " 559: 'wearing',\n",
              " 560: 'morning',\n",
              " 561: 'started',\n",
              " 562: 'bottle',\n",
              " 563: 'minutes',\n",
              " 564: 'beach',\n",
              " 565: 'holding',\n",
              " 566: \"there's\",\n",
              " 567: 'kid',\n",
              " 568: 'civil',\n",
              " 569: 'unknown',\n",
              " 570: 'hope',\n",
              " 571: 'flight',\n",
              " 572: 'asked',\n",
              " 573: 'dogs',\n",
              " 574: 'july',\n",
              " 575: 'clinton',\n",
              " 576: 'uses',\n",
              " 577: 'forces',\n",
              " 578: '1940',\n",
              " 579: 'study',\n",
              " 580: 'single',\n",
              " 581: 'green',\n",
              " 582: 'owner',\n",
              " 583: 'birthday',\n",
              " 584: 'americans',\n",
              " 585: 'month',\n",
              " 586: 'prison',\n",
              " 587: 'calls',\n",
              " 588: 'coming',\n",
              " 589: 'anyone',\n",
              " 590: 'hard',\n",
              " 591: 'heart',\n",
              " 592: 'canadian',\n",
              " 593: 'run',\n",
              " 594: 'leave',\n",
              " 595: 'original',\n",
              " 596: 'nuclear',\n",
              " 597: 'turned',\n",
              " 598: 'korea',\n",
              " 599: 'federal',\n",
              " 600: 'media',\n",
              " 601: 'teacher',\n",
              " 602: 'super',\n",
              " 603: 'piece',\n",
              " 604: 'minister',\n",
              " 605: 'known',\n",
              " 606: 'korean',\n",
              " 607: 'earth',\n",
              " 608: 'social',\n",
              " 609: 'caught',\n",
              " 610: 'tiny',\n",
              " 611: 'number',\n",
              " 612: 'bottom',\n",
              " 613: 'late',\n",
              " 614: 'communist',\n",
              " 615: '18',\n",
              " 616: 'don鈥檛',\n",
              " 617: 'system',\n",
              " 618: 'train',\n",
              " 619: 'five',\n",
              " 620: 'tried',\n",
              " 621: 'plane',\n",
              " 622: 'less',\n",
              " 623: 'oil',\n",
              " 624: 'following',\n",
              " 625: 'music',\n",
              " 626: 'pretty',\n",
              " 627: \"trump's\",\n",
              " 628: '13',\n",
              " 629: 'd',\n",
              " 630: 'hot',\n",
              " 631: 'west',\n",
              " 632: 'kind',\n",
              " 633: 'rights',\n",
              " 634: 'living',\n",
              " 635: 'italian',\n",
              " 636: 'running',\n",
              " 637: 'far',\n",
              " 638: 'wedding',\n",
              " 639: 'michael',\n",
              " 640: 'player',\n",
              " 641: 'sun',\n",
              " 642: 'ca',\n",
              " 643: 'floor',\n",
              " 644: '2015',\n",
              " 645: 'artist',\n",
              " 646: 'perfect',\n",
              " 647: 'turn',\n",
              " 648: 'glass',\n",
              " 649: 'political',\n",
              " 650: \"that's\",\n",
              " 651: 'bag',\n",
              " 652: 'coffee',\n",
              " 653: 'border',\n",
              " 654: 'tells',\n",
              " 655: 'kill',\n",
              " 656: \"you're\",\n",
              " 657: 'accidentally',\n",
              " 658: 'idea',\n",
              " 659: 'reddit',\n",
              " 660: 'bring',\n",
              " 661: 'fan',\n",
              " 662: 'thousands',\n",
              " 663: 'area',\n",
              " 664: 'decided',\n",
              " 665: 'shop',\n",
              " 666: '14',\n",
              " 667: 'leader',\n",
              " 668: 'sent',\n",
              " 669: 'claims',\n",
              " 670: 'members',\n",
              " 671: 'final',\n",
              " 672: 'japan',\n",
              " 673: 'teen',\n",
              " 674: 'read',\n",
              " 675: 'camera',\n",
              " 676: 'film',\n",
              " 677: 'discovered',\n",
              " 678: 'probably',\n",
              " 679: 'cup',\n",
              " 680: 'troops',\n",
              " 681: 'everything',\n",
              " 682: 'meet',\n",
              " 683: 'control',\n",
              " 684: 'missing',\n",
              " 685: 'didn鈥檛',\n",
              " 686: 'given',\n",
              " 687: 'canada',\n",
              " 688: 'past',\n",
              " 689: 'start',\n",
              " 690: 'posters',\n",
              " 691: 'speech',\n",
              " 692: 'giant',\n",
              " 693: 'plant',\n",
              " 694: 'drive',\n",
              " 695: 'mark',\n",
              " 696: 'built',\n",
              " 697: 'church',\n",
              " 698: 'presidential',\n",
              " 699: 'business',\n",
              " 700: 'climate',\n",
              " 701: 'fans',\n",
              " 702: 'drug',\n",
              " 703: 'colourized',\n",
              " 704: 'gas',\n",
              " 705: 'tv',\n",
              " 706: 'released',\n",
              " 707: 'road',\n",
              " 708: 'august',\n",
              " 709: 'whole',\n",
              " 710: 'plans',\n",
              " 711: 'football',\n",
              " 712: 'entire',\n",
              " 713: 'guys',\n",
              " 714: 'nearly',\n",
              " 715: 'department',\n",
              " 716: 'truck',\n",
              " 717: 'india',\n",
              " 718: 'eating',\n",
              " 719: 'mildlyinteresting',\n",
              " 720: 'rock',\n",
              " 721: 'modern',\n",
              " 722: 'painting',\n",
              " 723: 'album',\n",
              " 724: 'machine',\n",
              " 725: 'future',\n",
              " 726: 'international',\n",
              " 727: 'raise',\n",
              " 728: 'turns',\n",
              " 729: 'feel',\n",
              " 730: 'eyes',\n",
              " 731: 'project',\n",
              " 732: 'hillary',\n",
              " 733: 'animal',\n",
              " 734: 'mrw',\n",
              " 735: 't',\n",
              " 736: 'blood',\n",
              " 737: 'republican',\n",
              " 738: 'apple',\n",
              " 739: 'pro',\n",
              " 740: 'comes',\n",
              " 741: 'response',\n",
              " 742: 'created',\n",
              " 743: 'island',\n",
              " 744: 'noticed',\n",
              " 745: 'pictures',\n",
              " 746: \"i've\",\n",
              " 747: 'stand',\n",
              " 748: 'games',\n",
              " 749: 'based',\n",
              " 750: 'australia',\n",
              " 751: 'major',\n",
              " 752: 'english',\n",
              " 753: 'i鈥檓',\n",
              " 754: 'australian',\n",
              " 755: 'congress',\n",
              " 756: 'judge',\n",
              " 757: 'b',\n",
              " 758: 'record',\n",
              " 759: 'fake',\n",
              " 760: '25',\n",
              " 761: 'google',\n",
              " 762: 'suicide',\n",
              " 763: 'photos',\n",
              " 764: 'word',\n",
              " 765: 'six',\n",
              " 766: 'watching',\n",
              " 767: 'meeting',\n",
              " 768: 'needs',\n",
              " 769: 'accused',\n",
              " 770: 'energy',\n",
              " 771: 'cool',\n",
              " 772: 'act',\n",
              " 773: 'huge',\n",
              " 774: 'airport',\n",
              " 775: 'try',\n",
              " 776: 'peace',\n",
              " 777: 'worth',\n",
              " 778: 'blue',\n",
              " 779: 'london',\n",
              " 780: 'victory',\n",
              " 781: 'sea',\n",
              " 782: 'beautiful',\n",
              " 783: 'posted',\n",
              " 784: 'victims',\n",
              " 785: '2014',\n",
              " 786: 'officials',\n",
              " 787: 'saying',\n",
              " 788: 'god',\n",
              " 789: 'happens',\n",
              " 790: 'paul',\n",
              " 791: 'hair',\n",
              " 792: 'yes',\n",
              " 793: 'ban',\n",
              " 794: 'online',\n",
              " 795: 'land',\n",
              " 796: 'james',\n",
              " 797: 'size',\n",
              " 798: 'female',\n",
              " 799: 'ex',\n",
              " 800: 'self',\n",
              " 801: 'already',\n",
              " 802: 'trees',\n",
              " 803: 'eye',\n",
              " 804: 'age',\n",
              " 805: 'recently',\n",
              " 806: 'official',\n",
              " 807: 'jewish',\n",
              " 808: 'walk',\n",
              " 809: 'museum',\n",
              " 810: 'driving',\n",
              " 811: 'footage',\n",
              " 812: 'f',\n",
              " 813: 'toilet',\n",
              " 814: 'hole',\n",
              " 815: 'de',\n",
              " 816: 'brother',\n",
              " 817: 'thanks',\n",
              " 818: 'card',\n",
              " 819: 'close',\n",
              " 820: 'born',\n",
              " 821: 'stuck',\n",
              " 822: '16',\n",
              " 823: 'nation',\n",
              " 824: 'beer',\n",
              " 825: 'november',\n",
              " 826: 'berlin',\n",
              " 827: \"world's\",\n",
              " 828: 'doctor',\n",
              " 829: 'color',\n",
              " 830: 'weeks',\n",
              " 831: '1939',\n",
              " 832: 'birth',\n",
              " 833: 'others',\n",
              " 834: 'test',\n",
              " 835: 'twitter',\n",
              " 836: 'yet',\n",
              " 837: 'j',\n",
              " 838: 'bus',\n",
              " 839: 'table',\n",
              " 840: 'done',\n",
              " 841: 'ii',\n",
              " 842: 'til',\n",
              " 843: 'move',\n",
              " 844: '17',\n",
              " 845: 'amazing',\n",
              " 846: 'growing',\n",
              " 847: 'fbi',\n",
              " 848: 'model',\n",
              " 849: 'tank',\n",
              " 850: 'anything',\n",
              " 851: 'share',\n",
              " 852: '40',\n",
              " 853: 'according',\n",
              " 854: 'cold',\n",
              " 855: 'officers',\n",
              " 856: 'famous',\n",
              " 857: 'program',\n",
              " 858: 'break',\n",
              " 859: 'september',\n",
              " 860: 'october',\n",
              " 861: 'african',\n",
              " 862: 'letter',\n",
              " 863: 'rescue',\n",
              " 864: 'husband',\n",
              " 865: 'race',\n",
              " 866: 'looked',\n",
              " 867: 'county',\n",
              " 868: 'trip',\n",
              " 869: 'release',\n",
              " 870: 'indian',\n",
              " 871: 'disney',\n",
              " 872: 'revolution',\n",
              " 873: 'moon',\n",
              " 874: 'dark',\n",
              " 875: 'attempt',\n",
              " 876: 'snow',\n",
              " 877: 'page',\n",
              " 878: 'words',\n",
              " 879: 'parking',\n",
              " 880: 'mexico',\n",
              " 881: 'hour',\n",
              " 882: 'fighting',\n",
              " 883: 'series',\n",
              " 884: 'iphone',\n",
              " 885: 'die',\n",
              " 886: 'wars',\n",
              " 887: 'driver',\n",
              " 888: \"she's\",\n",
              " 889: 'un',\n",
              " 890: 'offers',\n",
              " 891: 'leaves',\n",
              " 892: '2013',\n",
              " 893: 'killing',\n",
              " 894: '500',\n",
              " 895: 'information',\n",
              " 896: \"couldn't\",\n",
              " 897: 'walking',\n",
              " 898: 'guess',\n",
              " 899: 'member',\n",
              " 900: 'moment',\n",
              " 901: 'rest',\n",
              " 902: 'fish',\n",
              " 903: 'able',\n",
              " 904: 'interesting',\n",
              " 905: 'though',\n",
              " 906: 'named',\n",
              " 907: 'large',\n",
              " 908: 'san',\n",
              " 909: 'animals',\n",
              " 910: 'board',\n",
              " 911: 'build',\n",
              " 912: 'drink',\n",
              " 913: 'magazine',\n",
              " 914: 'oc',\n",
              " 915: 'camp',\n",
              " 916: 'cartoon',\n",
              " 917: 'ussr',\n",
              " 918: 'became',\n",
              " 919: 'signs',\n",
              " 920: 'low',\n",
              " 921: 'flag',\n",
              " 922: 'xpost',\n",
              " 923: 'adolf',\n",
              " 924: 'east',\n",
              " 925: 'forced',\n",
              " 926: 'surprise',\n",
              " 927: 'point',\n",
              " 928: 'spot',\n",
              " 929: 'join',\n",
              " 930: \"isn't\",\n",
              " 931: 'questions',\n",
              " 932: 'charity',\n",
              " 933: 'upon',\n",
              " 934: 'spanish',\n",
              " 935: 'standing',\n",
              " 936: 'clean',\n",
              " 937: 'warning',\n",
              " 938: 'murder',\n",
              " 939: 'prime',\n",
              " 940: 'research',\n",
              " 941: 'books',\n",
              " 942: 'onto',\n",
              " 943: 'can鈥檛',\n",
              " 944: 'paid',\n",
              " 945: 'co',\n",
              " 946: 'rescued',\n",
              " 947: 'bar',\n",
              " 948: 'protect',\n",
              " 949: 'employees',\n",
              " 950: 'longer',\n",
              " 951: 'bit',\n",
              " 952: 'robert',\n",
              " 953: 'marijuana',\n",
              " 954: 'freedom',\n",
              " 955: 'helped',\n",
              " 956: 'lead',\n",
              " 957: 'david',\n",
              " 958: 'song',\n",
              " 959: 'cause',\n",
              " 960: 'completely',\n",
              " 961: 'fell',\n",
              " 962: 'cars',\n",
              " 963: 'solar',\n",
              " 964: 'trade',\n",
              " 965: 'ground',\n",
              " 966: 'chicken',\n",
              " 967: 'navy',\n",
              " 968: 'kim',\n",
              " 969: 'girls',\n",
              " 970: 'ready',\n",
              " 971: 'above',\n",
              " 972: 'note',\n",
              " 973: 'billion',\n",
              " 974: 'return',\n",
              " 975: 'tax',\n",
              " 976: 'works',\n",
              " 977: 'spent',\n",
              " 978: 'safe',\n",
              " 979: 'brought',\n",
              " 980: 'jesus',\n",
              " 981: 'popular',\n",
              " 982: 'science',\n",
              " 983: 'europe',\n",
              " 984: 'screen',\n",
              " 985: 'deal',\n",
              " 986: 'pizza',\n",
              " 987: 'dropped',\n",
              " 988: 'event',\n",
              " 989: 'bear',\n",
              " 990: 'pic',\n",
              " 991: 'supreme',\n",
              " 992: 'such',\n",
              " 993: 'here鈥檚',\n",
              " 994: 'remember',\n",
              " 995: 'along',\n",
              " 996: 'sexual',\n",
              " 997: 'england',\n",
              " 998: 'apparently',\n",
              " 999: 'per',\n",
              " 1000: 'fall',\n",
              " ...}"
            ]
          },
          "metadata": {},
          "execution_count": 110
        }
      ],
      "source": [
        "tokenizer.index_word"
      ]
    },
    {
      "cell_type": "code",
      "execution_count": 111,
      "metadata": {
        "colab": {
          "base_uri": "https://localhost:8080/"
        },
        "id": "yBK5Mk7-lwth",
        "outputId": "03b14c79-f342-4f1f-9c4b-e497969ca1ff"
      },
      "outputs": [
        {
          "output_type": "execute_result",
          "data": {
            "text/plain": [
              "OrderedDict([('my', 6562),\n",
              "             ('little', 796),\n",
              "             ('succulent', 5),\n",
              "             ('office', 368),\n",
              "             ('plant', 200),\n",
              "             ('is', 9042),\n",
              "             ('either', 95),\n",
              "             ('getting', 484),\n",
              "             ('ready', 149),\n",
              "             ('to', 27583),\n",
              "             ('flower', 59),\n",
              "             ('or', 1302),\n",
              "             (\"it's\", 1358),\n",
              "             ('extremely', 54),\n",
              "             ('aroused', 6),\n",
              "             ('this', 9318),\n",
              "             ('cd', 19),\n",
              "             ('case', 274),\n",
              "             ('was', 4935),\n",
              "             ('put', 515),\n",
              "             ('above', 149),\n",
              "             ('glove', 18),\n",
              "             ('for', 11166),\n",
              "             ('several', 112),\n",
              "             ('weeks', 170),\n",
              "             ('in', 21222),\n",
              "             ('the', 49058),\n",
              "             ('car', 743),\n",
              "             ('result', 92),\n",
              "             ('truck', 195),\n",
              "             ('driver', 162),\n",
              "             ('stopped', 111),\n",
              "             ('ata', 1),\n",
              "             ('school', 1050),\n",
              "             ('parking', 164),\n",
              "             ('lot', 250),\n",
              "             ('and', 17823),\n",
              "             ('ordered', 105),\n",
              "             ('hungry', 48),\n",
              "             ('howies', 1),\n",
              "             ('drive', 200),\n",
              "             ('vietnamese', 87),\n",
              "             ('poster', 1586),\n",
              "             ('asking', 117),\n",
              "             ('peace', 182),\n",
              "             ('between', 468),\n",
              "             ('north', 497),\n",
              "             ('south', 464),\n",
              "             ('vietnam', 282),\n",
              "             ('end', 406),\n",
              "             ('of', 26262),\n",
              "             ('war', 1520),\n",
              "             ('double', 137),\n",
              "             ('reflection', 96),\n",
              "             ('these', 1073),\n",
              "             ('stairs', 49),\n",
              "             ('mirror', 105),\n",
              "             ('looks', 1154),\n",
              "             ('more', 1511),\n",
              "             ('like', 2617),\n",
              "             ('a', 29422),\n",
              "             ('painting', 193),\n",
              "             ('than', 1112),\n",
              "             ('real', 363),\n",
              "             ('life', 1305),\n",
              "             ('you', 5254),\n",
              "             ('protect', 152),\n",
              "             ('their', 2545),\n",
              "             ('childhood', 59),\n",
              "             ('yes', 179),\n",
              "             ('but', 2686),\n",
              "             ('future', 192),\n",
              "             ('needs', 183),\n",
              "             ('safeguarding', 1),\n",
              "             ('1931', 36),\n",
              "             ('british', 574),\n",
              "             ('conservative', 96),\n",
              "             ('party', 647),\n",
              "             ('way', 928),\n",
              "             ('washi', 1),\n",
              "             ('tape', 89),\n",
              "             ('ended', 119),\n",
              "             ('roll', 87),\n",
              "             ('at', 5725),\n",
              "             ('factory', 61),\n",
              "             ('saying', 180),\n",
              "             ('follow', 65),\n",
              "             ('your', 1939),\n",
              "             ('heart', 230),\n",
              "             ('trump', 1963),\n",
              "             ('hearing', 109),\n",
              "             ('about', 2339),\n",
              "             ('cohens', 1),\n",
              "             ('agreement', 39),\n",
              "             ('cooperate', 7),\n",
              "             ('wit', 3),\n",
              "             ('mueller', 130),\n",
              "             ('investigation', 143),\n",
              "             ('2018', 837),\n",
              "             ('eagles', 27),\n",
              "             ('de', 172),\n",
              "             ('michael', 214),\n",
              "             ('bennett', 7),\n",
              "             ('seen', 378),\n",
              "             ('pushing', 36),\n",
              "             ('his', 5750),\n",
              "             ('on', 10110),\n",
              "             ('stage', 101),\n",
              "             ('after', 4633),\n",
              "             ('brother', 172),\n",
              "             ('won', 129),\n",
              "             ('super', 226),\n",
              "             ('bowl', 110),\n",
              "             ('injuring', 4),\n",
              "             ('disabled', 88),\n",
              "             ('elderly', 99),\n",
              "             ('person', 305),\n",
              "             ('along', 146),\n",
              "             ('2017', 703),\n",
              "             ('inspiring', 70),\n",
              "             ('thousands', 208),\n",
              "             ('gamers', 20),\n",
              "             ('have', 3042),\n",
              "             ('pitched', 6),\n",
              "             ('rescue', 166),\n",
              "             ('consoles', 7),\n",
              "             ('abandoned', 134),\n",
              "             ('wake', 76),\n",
              "             ('hurricane', 142),\n",
              "             ('dorian', 17),\n",
              "             ('quadriplegic', 7),\n",
              "             ('bride', 44),\n",
              "             ('weds', 3),\n",
              "             ('high', 626),\n",
              "             ('sweetheart', 12),\n",
              "             ('wheelchair', 79),\n",
              "             ('drunk', 93),\n",
              "             ('hits', 61),\n",
              "             ('her', 2804),\n",
              "             ('鈥業鈥檓', 19),\n",
              "             ('finally', 391),\n",
              "             ('happy鈥', 3),\n",
              "             ('0', 4101),\n",
              "             ('96', 66),\n",
              "             ('joachim', 3),\n",
              "             ('von', 35),\n",
              "             ('ribbentrop', 8),\n",
              "             ('conforming', 3),\n",
              "             ('molotov', 12),\n",
              "             ('pact', 32),\n",
              "             ('with', 7659),\n",
              "             ('vyacheslav', 1),\n",
              "             ('1939', 170),\n",
              "             ('colorized', 2194),\n",
              "             ('german', 784),\n",
              "             ('invasion', 143),\n",
              "             ('poland', 89),\n",
              "             ('3d', 63),\n",
              "             ('80th', 7),\n",
              "             ('anniversary', 97),\n",
              "             ('ww2', 130),\n",
              "             ('from', 6712),\n",
              "             ('stereoscopic', 1),\n",
              "             ('propaganda', 622),\n",
              "             ('book', 369),\n",
              "             ('by', 4924),\n",
              "             ('raumbild', 1),\n",
              "             ('know', 976),\n",
              "             ('it', 8325),\n",
              "             ('really', 541),\n",
              "             ('doesn鈥檛', 117),\n",
              "             ('matter', 92),\n",
              "             ('what', 2306),\n",
              "             ('media', 227),\n",
              "             ('write', 74),\n",
              "             ('as', 3809),\n",
              "             ('long', 543),\n",
              "             ('you鈥檝e', 27),\n",
              "             ('got', 1014),\n",
              "             ('young', 537),\n",
              "             ('beautiful', 181),\n",
              "             ('piece', 226),\n",
              "             ('ass', 65),\n",
              "             ('saw', 475),\n",
              "             ('taipei', 5),\n",
              "             ('catch', 107),\n",
              "             ('box', 315),\n",
              "             (\"you'll\", 90),\n",
              "             ('find', 578),\n",
              "             ('line', 291),\n",
              "             ('id', 55),\n",
              "             ('girl', 545),\n",
              "             ('within', 107),\n",
              "             ('translate', 16),\n",
              "             ('strictly', 5),\n",
              "             ('making', 442),\n",
              "             ('friends', 348),\n",
              "             ('no', 1675),\n",
              "             ('sexual', 146),\n",
              "             ('favours', 1),\n",
              "             ('where', 803),\n",
              "             ('can', 1872),\n",
              "             ('chat', 15),\n",
              "             ('make', 1033),\n",
              "             ('heisman', 2),\n",
              "             ('winner', 65),\n",
              "             ('lamar', 7),\n",
              "             ('jackson', 61),\n",
              "             ('says', 1192),\n",
              "             ('johnny', 29),\n",
              "             ('manziel', 3),\n",
              "             ('offered', 75),\n",
              "             ('him', 1489),\n",
              "             ('advice', 75),\n",
              "             ('said', 647),\n",
              "             ('fun', 124),\n",
              "             ('college', 321),\n",
              "             ('beyonc茅', 19),\n",
              "             ('supported', 24),\n",
              "             ('serena', 10),\n",
              "             ('wimbledon', 5),\n",
              "             ('final', 206),\n",
              "             ('oh', 97),\n",
              "             ('god', 180),\n",
              "             ('nothing', 277),\n",
              "             ('happened', 252),\n",
              "             ('beyonce', 9),\n",
              "             ('existed', 107),\n",
              "             ('same', 686),\n",
              "             ('area', 208),\n",
              "             (\"that's\", 211),\n",
              "             ('all', 1995),\n",
              "             (\"philosophy's\", 1),\n",
              "             ('popularity', 9),\n",
              "             ('soars', 6),\n",
              "             ('devotees', 3),\n",
              "             (\"'an\", 5),\n",
              "             ('interesting', 159),\n",
              "             ('path', 75),\n",
              "             (\"poverty'\", 1),\n",
              "             (\"trump's\", 217),\n",
              "             ('wall', 400),\n",
              "             ('may', 593),\n",
              "             ('threaten', 17),\n",
              "             ('animal', 190),\n",
              "             ('species', 112),\n",
              "             ('u', 900),\n",
              "             ('s', 1448),\n",
              "             ('mexico', 164),\n",
              "             ('border', 210),\n",
              "             ('intelligent', 16),\n",
              "             ('people', 1900),\n",
              "             ('fewer', 8),\n",
              "             (\"here's\", 352),\n",
              "             ('why', 1181),\n",
              "             ('because', 1078),\n",
              "             ('they', 3047),\n",
              "             ('are', 3402),\n",
              "             ('introverted', 1),\n",
              "             ('there', 1017),\n",
              "             ('too', 586),\n",
              "             ('few', 302),\n",
              "             ('criticism', 22),\n",
              "             ('comments', 325),\n",
              "             ('longville', 1),\n",
              "             ('minn', 5),\n",
              "             ('retired', 56),\n",
              "             ('librarian', 8),\n",
              "             ('prepared', 47),\n",
              "             ('solo', 29),\n",
              "             (\"women's\", 82),\n",
              "             ('march', 254),\n",
              "             ('joined', 24),\n",
              "             ('65', 48),\n",
              "             ('income', 72),\n",
              "             ('inequality', 14),\n",
              "             ('america', 464),\n",
              "             ('highest', 71),\n",
              "             ('it鈥檚', 554),\n",
              "             ('been', 1259),\n",
              "             ('since', 360),\n",
              "             ('census', 13),\n",
              "             ('started', 245),\n",
              "             ('tracking', 24),\n",
              "             ('data', 134),\n",
              "             ('shows', 384),\n",
              "             ('1', 1531),\n",
              "             ('500', 161),\n",
              "             ('year', 1880),\n",
              "             ('old', 1979),\n",
              "             ('450', 10),\n",
              "             ('square', 101),\n",
              "             ('meter', 31),\n",
              "             ('mosaic', 11),\n",
              "             ('discovered', 204),\n",
              "             ('syrian', 66),\n",
              "             ('army', 429),\n",
              "             ('during', 1614),\n",
              "             ('demining', 1),\n",
              "             ('operations', 38),\n",
              "             ('uqayribat', 1),\n",
              "             ('hama', 1),\n",
              "             ('part', 425),\n",
              "             ('christian', 126),\n",
              "             ('church', 199),\n",
              "             ('knife', 72),\n",
              "             ('smuggled', 9),\n",
              "             ('onto', 153),\n",
              "             ('flight', 239),\n",
              "             ('normal', 119),\n",
              "             ('backpack', 21),\n",
              "             ('completely', 150),\n",
              "             ('missed', 56),\n",
              "             ('tsa', 19),\n",
              "             ('agents', 81),\n",
              "             ('face', 496),\n",
              "             ('things', 394),\n",
              "             ('can鈥檛', 153),\n",
              "             ('be', 3102),\n",
              "             ('going', 604),\n",
              "             ('well', 360),\n",
              "             ('if', 1605),\n",
              "             ('you鈥檙e', 81),\n",
              "             ('turning', 67),\n",
              "             ('list', 280),\n",
              "             ('who', 2555),\n",
              "             ('found', 1770),\n",
              "             ('success', 73),\n",
              "             ('later', 379),\n",
              "             ('comfort', 24),\n",
              "             ('indian', 165),\n",
              "             ('police', 986),\n",
              "             ('clears', 6),\n",
              "             ('32km', 1),\n",
              "             ('congested', 1),\n",
              "             ('roads', 37),\n",
              "             ('ensure', 29),\n",
              "             ('organ', 25),\n",
              "             ('transport', 31),\n",
              "             ('transplant', 58),\n",
              "             ('rare', 397),\n",
              "             ('photo', 1002),\n",
              "             ('taken', 399),\n",
              "             ('just', 2325),\n",
              "             ('moments', 265),\n",
              "             ('before', 1536),\n",
              "             ('an', 4093),\n",
              "             ('atomic', 59),\n",
              "             ('bomb', 137),\n",
              "             ('hit', 277),\n",
              "             ('city', 562),\n",
              "             ('hiroshima', 70),\n",
              "             ('1945', 525),\n",
              "             ('2003', 57),\n",
              "             ('tommy', 16),\n",
              "             ('wiseau', 4),\n",
              "             ('jackie', 18),\n",
              "             ('chan', 8),\n",
              "             ('arnold', 45),\n",
              "             ('schwarzenegger', 23),\n",
              "             ('right', 955),\n",
              "             ('becoming', 74),\n",
              "             ('governor', 107),\n",
              "             ('california', 307),\n",
              "             ('recorded', 40),\n",
              "             ('dub', 2),\n",
              "             ('dragon', 47),\n",
              "             ('ball', 137),\n",
              "             ('z', 35),\n",
              "             ('did', 557),\n",
              "             ('voices', 23),\n",
              "             ('themselves', 109),\n",
              "             ('were', 1109),\n",
              "             ('so', 2090),\n",
              "             ('embarrassed', 14),\n",
              "             ('low', 157),\n",
              "             ('quality', 90),\n",
              "             ('that', 6036),\n",
              "             ('burned', 74),\n",
              "             ('every', 624),\n",
              "             ('recording', 45),\n",
              "             ('could', 928),\n",
              "             ('except', 74),\n",
              "             ('one', 2810),\n",
              "             ('most', 785),\n",
              "             ('badass', 15),\n",
              "             ('pic', 147),\n",
              "             ('net', 83),\n",
              "             ('dinosaurs', 25),\n",
              "             (\"frickin'\", 1),\n",
              "             ('laser', 33),\n",
              "             ('beams', 11),\n",
              "             ('attached', 54),\n",
              "             ('heads', 61),\n",
              "             ('psbattle', 1329),\n",
              "             ('transonic', 4),\n",
              "             ('united', 590),\n",
              "             ('states', 522),\n",
              "             ('air', 442),\n",
              "             ('force', 249),\n",
              "             ('f', 174),\n",
              "             ('22a', 10),\n",
              "             ('raptor', 15),\n",
              "             ('stealth', 26),\n",
              "             ('fighter', 101),\n",
              "             ('over', 1690),\n",
              "             ('gulf', 32),\n",
              "             ('alaska', 56),\n",
              "             ('22', 144),\n",
              "             ('june', 275),\n",
              "             ('2009', 74),\n",
              "             ('impoverished', 9),\n",
              "             ('man', 2274),\n",
              "             ('devoted', 9),\n",
              "             ('raising', 64),\n",
              "             ('12', 331),\n",
              "             ('babies', 71),\n",
              "             ('birth', 170),\n",
              "             ('even', 566),\n",
              "             ('sending', 81),\n",
              "             ('four', 257),\n",
              "             ('chocolate', 99),\n",
              "             ('consumption', 19),\n",
              "             ('nobel', 37),\n",
              "             ('prizes', 9),\n",
              "             ('cognitive', 6),\n",
              "             ('function', 22),\n",
              "             ('laureates', 4),\n",
              "             ('new', 2705),\n",
              "             ('england', 146),\n",
              "             ('journal', 30),\n",
              "             ('medicine', 56),\n",
              "             ('i', 7790),\n",
              "             ('description', 23),\n",
              "             ('emotional', 60),\n",
              "             ('labor', 85),\n",
              "             ('women', 513),\n",
              "             ('politely', 5),\n",
              "             (\"men's\", 26),\n",
              "             ('ahead', 64),\n",
              "             ('own', 497),\n",
              "             ('brick', 21),\n",
              "             ('decorated', 18),\n",
              "             ('uncle', 86),\n",
              "             ('opened', 117),\n",
              "             ('he', 3932),\n",
              "             ('first', 2020),\n",
              "             ('ever', 539),\n",
              "             ('graduate', 43),\n",
              "             ('pennsylvania', 70),\n",
              "             ('families', 129),\n",
              "             ('threatened', 47),\n",
              "             ('district', 93),\n",
              "             ('losing', 86),\n",
              "             ('children', 561),\n",
              "             ('foster', 46),\n",
              "             ('care', 255),\n",
              "             ('unpaid', 5),\n",
              "             ('lunch', 97),\n",
              "             ('debts', 13),\n",
              "             ('paid', 153),\n",
              "             ('off', 1231),\n",
              "             ('now', 1389),\n",
              "             ('qualify', 8),\n",
              "             ('free', 680),\n",
              "             ('meals', 49),\n",
              "             ('identical', 41),\n",
              "             ('honda', 9),\n",
              "             ('element', 10),\n",
              "             ('work', 822),\n",
              "             ('down', 1178),\n",
              "             ('holding', 243),\n",
              "             ('up', 2538),\n",
              "             ('window', 247),\n",
              "             ('due', 305),\n",
              "             ('perpetually', 2),\n",
              "             ('defective', 1),\n",
              "             ('regulators', 6),\n",
              "             ('elon', 89),\n",
              "             ('musk', 81),\n",
              "             ('sleeping', 73),\n",
              "             ('tesla', 63),\n",
              "             ('floor', 213),\n",
              "             ('wants', 288),\n",
              "             ('suffer', 20),\n",
              "             ('employees', 152),\n",
              "             ('pat', 19),\n",
              "             ('robertson', 12),\n",
              "             ('tells', 210),\n",
              "             ('wife', 351),\n",
              "             ('cheating', 25),\n",
              "             ('husband', 166),\n",
              "             ('grateful', 20),\n",
              "             ('marriage', 138),\n",
              "             ('home', 820),\n",
              "             ('enticing', 2),\n",
              "             ('french', 383),\n",
              "             ('politicians', 43),\n",
              "             ('want', 526),\n",
              "             ('sue', 38),\n",
              "             ('sharing', 44),\n",
              "             ('photos', 184),\n",
              "             ('take', 693),\n",
              "             ('burkinis', 2),\n",
              "             ('scientist', 75),\n",
              "             ('combs', 3),\n",
              "             ('through', 852),\n",
              "             ('pentabytes', 1),\n",
              "             ('private', 115),\n",
              "             ('user', 63),\n",
              "             ('information', 161),\n",
              "             ('out', 3053),\n",
              "             ('crush', 34),\n",
              "             ('still', 766),\n",
              "             ('smokin鈥', 1),\n",
              "             ('hot', 216),\n",
              "             ('diplomat', 14),\n",
              "             ('discussing', 48),\n",
              "             (\"germany's\", 17),\n",
              "             ('reparations', 9),\n",
              "             ('overseas', 22),\n",
              "             ('holdings', 5),\n",
              "             ('writing', 84),\n",
              "             ('treaty', 44),\n",
              "             ('versailles', 22),\n",
              "             ('1918', 145),\n",
              "             ('tried', 220),\n",
              "             ('crews', 17),\n",
              "             ('lisa', 15),\n",
              "             ('accidentally', 209),\n",
              "             ('maybe', 128),\n",
              "             ('made', 1193),\n",
              "             ('something', 545),\n",
              "             ('sorta', 6),\n",
              "             ('racist', 103),\n",
              "             ('x', 743),\n",
              "             ('wait', 107),\n",
              "             ('passengers', 74),\n",
              "             ('spoiler', 20),\n",
              "             ('trailer', 70),\n",
              "             ('jennifer', 37),\n",
              "             ('lawrence', 22),\n",
              "             ('being', 1346),\n",
              "             ('woken', 4),\n",
              "             ('space', 415),\n",
              "             ('sleep', 109),\n",
              "             ('chris', 99),\n",
              "             ('pratt', 14),\n",
              "             ('90', 68),\n",
              "             ('years', 1799),\n",
              "             ('early', 289),\n",
              "             ('pictured', 51),\n",
              "             ('left', 874),\n",
              "             ('michele', 3),\n",
              "             ('bachmann', 3),\n",
              "             ('ted', 74),\n",
              "             ('cruz', 44),\n",
              "             ('ben', 58),\n",
              "             ('carson', 16),\n",
              "             ('presidential', 199),\n",
              "             ('primary', 44),\n",
              "             ('debate', 123),\n",
              "             ('2016', 402),\n",
              "             ('tomorrow', 37),\n",
              "             ('we', 1422),\n",
              "             ('live', 411),\n",
              "             ('1938', 94),\n",
              "             ('union', 270),\n",
              "             ('fascists', 16),\n",
              "             ('pamphlet', 41),\n",
              "             ('cover', 334),\n",
              "             ('programme', 8),\n",
              "             ('policy', 110),\n",
              "             ('23', 108),\n",
              "             ('prison', 232),\n",
              "             ('innocent', 53),\n",
              "             ('former', 371),\n",
              "             ('chicago', 128),\n",
              "             ('white', 828),\n",
              "             ('sox', 6),\n",
              "             ('groundskeeper', 1),\n",
              "             ('returns', 92),\n",
              "             ('job', 357),\n",
              "             ('rosie', 6),\n",
              "             ('maclennan', 1),\n",
              "             ('canadian', 230),\n",
              "             ('olympic', 91),\n",
              "             ('trampoline', 6),\n",
              "             ('champion', 40),\n",
              "             ('flag', 157),\n",
              "             ('nra', 38),\n",
              "             ('sets', 70),\n",
              "             ('000', 975),\n",
              "             ('killed', 326),\n",
              "             ('shooting', 275),\n",
              "             ('amount', 99),\n",
              "             ('would', 997),\n",
              "             ('them', 1448),\n",
              "             ('reconsider', 4),\n",
              "             ('much', 545),\n",
              "             ('anything', 168),\n",
              "             ('retail', 18),\n",
              "             ('employee', 112),\n",
              "             ('has', 3784),\n",
              "             ('daily', 88),\n",
              "             ('ritual', 11),\n",
              "             ('drinks', 49),\n",
              "             ('dr', 93),\n",
              "             ('pepper', 61),\n",
              "             ('quiet', 31),\n",
              "             ('corner', 75),\n",
              "             ('stock', 82),\n",
              "             ('room', 374),\n",
              "             ('kill', 210),\n",
              "             ('himself', 307),\n",
              "             ('alabama', 92),\n",
              "             ('teacher', 227),\n",
              "             ('arrested', 265),\n",
              "             ('sex', 396),\n",
              "             ('student', 325),\n",
              "             ('days', 456),\n",
              "             ('charge', 97),\n",
              "             ('ohio', 89),\n",
              "             ('supreme', 147),\n",
              "             ('court', 345),\n",
              "             ('rules', 127),\n",
              "             ('damages', 13),\n",
              "             ('cap', 48),\n",
              "             ('means', 134),\n",
              "             ('raped', 17),\n",
              "             ('minister', 226),\n",
              "             ('will', 2037),\n",
              "             ('get', 1360),\n",
              "             ('250', 33),\n",
              "             ('鈥', 1410),\n",
              "             ('not', 2427),\n",
              "             ('3', 879),\n",
              "             ('5', 926),\n",
              "             ('million', 574),\n",
              "             ('mother', 311),\n",
              "             ('do', 1074),\n",
              "             ('vote', 273),\n",
              "             ('yugoslavia', 18),\n",
              "             ('drafted', 10),\n",
              "             ('king', 263),\n",
              "             ('peter', 58),\n",
              "             ('carinthian', 2),\n",
              "             ('plebiscite', 6),\n",
              "             ('1920', 88),\n",
              "             ('clue', 20),\n",
              "             (\"'the\", 96),\n",
              "             (\"simpsons'\", 1),\n",
              "             ('actually', 488),\n",
              "             ('takes', 284),\n",
              "             ('place', 469),\n",
              "             ('basically', 47),\n",
              "             ('oregon', 81),\n",
              "             ('day', 1272),\n",
              "             ('protest', 133),\n",
              "             ('against', 878),\n",
              "             ('imperialist', 17),\n",
              "             ('infiltration', 4),\n",
              "             ('universities', 22),\n",
              "             ('latin', 22),\n",
              "             ('american', 1102),\n",
              "             ('continental', 18),\n",
              "             ('organization', 98),\n",
              "             ('1971', 141),\n",
              "             ('1739x2900', 1),\n",
              "             ('henry', 59),\n",
              "             ('viii', 23),\n",
              "             ('dying', 125),\n",
              "             ('scurvy', 1),\n",
              "             ('c', 574),\n",
              "             ('january', 142),\n",
              "             ('28', 84),\n",
              "             ('1547', 4),\n",
              "             ('until', 379),\n",
              "             ('1990', 73),\n",
              "             ('majority', 59),\n",
              "             ('soviet', 539),\n",
              "             ('citizens', 116),\n",
              "             ('discover', 64),\n",
              "             ('such', 147),\n",
              "             ('wonderful', 24),\n",
              "             ('flavours', 1),\n",
              "             ('basketball', 84),\n",
              "             ('player', 214),\n",
              "             ('anthony', 50),\n",
              "             ('davis', 30),\n",
              "             ('registers', 5),\n",
              "             ('uni', 5),\n",
              "             ('brow', 1),\n",
              "             ('patent', 19),\n",
              "             ('trademark', 4),\n",
              "             ('cat', 368),\n",
              "             ('scratching', 7),\n",
              "             ('bathroom', 273),\n",
              "             ('laminate', 2),\n",
              "             ('creative', 33),\n",
              "             ('annoy', 3),\n",
              "             ('me', 1517),\n",
              "             ('while', 1225),\n",
              "             ('morning', 246),\n",
              "             ('noticed', 187),\n",
              "             ('spot', 156),\n",
              "             (\"she's\", 162),\n",
              "             ('silhouette', 15),\n",
              "             ('childless', 2),\n",
              "             ('millennials', 32),\n",
              "             ('disney', 165),\n",
              "             ('world', 1096),\n",
              "             ('should', 476),\n",
              "             ('banned', 109),\n",
              "             ('tired', 49),\n",
              "             ('mom', 372),\n",
              "             ('rants', 5),\n",
              "             ('al', 136),\n",
              "             (\"capone's\", 3),\n",
              "             ('gang', 58),\n",
              "             ('member', 160),\n",
              "             ('checking', 27),\n",
              "             ('streets', 112),\n",
              "             ('side', 418),\n",
              "             ('illinois', 56),\n",
              "             ('turkish', 61),\n",
              "             ('government', 446),\n",
              "             ('issued', 60),\n",
              "             ('arrest', 95),\n",
              "             ('warrant', 22),\n",
              "             ('nba', 53),\n",
              "             ('enes', 1),\n",
              "             ('kanter', 2),\n",
              "             ('accused', 183),\n",
              "             ('terror', 95),\n",
              "             ('group', 344),\n",
              "             ('comes', 188),\n",
              "             ('week', 340),\n",
              "             ('called', 418),\n",
              "             ('turkey', 71),\n",
              "             ('president', 1005),\n",
              "             ('recep', 4),\n",
              "             ('tayyip', 4),\n",
              "             ('erdogan', 11),\n",
              "             ('hitler', 354),\n",
              "             ('our', 875),\n",
              "             ('century', 135),\n",
              "             ('style', 89),\n",
              "             ('enters', 24),\n",
              "             ('then', 706),\n",
              "             ('household', 19),\n",
              "             ('blooming', 8),\n",
              "             ('prosperity', 16),\n",
              "             ('1980s', 42),\n",
              "             ('mrw', 190),\n",
              "             ('tab', 23),\n",
              "             ('successful', 117),\n",
              "             ('relationships', 18),\n",
              "             ('some', 1198),\n",
              "             (\"jenna's\", 1),\n",
              "             ('older', 89),\n",
              "             ('videos', 64),\n",
              "             ('feel', 191),\n",
              "             ('nails', 28),\n",
              "             ('done', 169),\n",
              "             ('three', 467),\n",
              "             ('together', 315),\n",
              "             ('top', 528),\n",
              "             ('democrat', 32),\n",
              "             ('laughs', 14),\n",
              "             ('idea', 209),\n",
              "             ('blasio', 12),\n",
              "             ('2020', 74),\n",
              "             ('run', 229),\n",
              "             ('critics', 25),\n",
              "             ('blast', 25),\n",
              "             ('mayor', 95),\n",
              "             ('repeatedly', 25),\n",
              "             ('ignoring', 19),\n",
              "             ('nyc', 80),\n",
              "             ('issues', 93),\n",
              "             ('big', 421),\n",
              "             ('bird', 140),\n",
              "             ('teaching', 39),\n",
              "             ('fonz', 1),\n",
              "             ('winkler', 3),\n",
              "             ('1977', 48),\n",
              "             ('waited', 16),\n",
              "             ('windy', 6),\n",
              "             ('hour', 164),\n",
              "             ('atop', 23),\n",
              "             ('empire', 102),\n",
              "             ('state', 684),\n",
              "             ('building', 340),\n",
              "             ('near', 297),\n",
              "             ('freezing', 30),\n",
              "             ('temperatures', 23),\n",
              "             ('worth', 182),\n",
              "             ('donald', 717),\n",
              "             ('youngest', 32),\n",
              "             ('son', 398),\n",
              "             ('inauguration', 44),\n",
              "             ('20', 406),\n",
              "             ('historically', 6),\n",
              "             ('toughest', 7),\n",
              "             ('time', 1448),\n",
              "             ('blood', 189),\n",
              "             ('banks', 39),\n",
              "             ('attract', 16),\n",
              "             ('donors', 30),\n",
              "             ('change', 423),\n",
              "             ('thanks', 172),\n",
              "             ('stepped', 38),\n",
              "             ('say', 744),\n",
              "             ('help', 864),\n",
              "             ('save', 336),\n",
              "             ('update', 90),\n",
              "             ('woman鈥檚', 29),\n",
              "             ('detects', 8),\n",
              "             ('seizures', 7),\n",
              "             ('missing', 202),\n",
              "             ('virginia', 112),\n",
              "             ('beach', 244),\n",
              "             ('resist', 21),\n",
              "             ('repression', 5),\n",
              "             ('join', 156),\n",
              "             ('republican', 189),\n",
              "             ('clubs', 9),\n",
              "             ('irish', 113),\n",
              "             ('1970s', 37),\n",
              "             ('jim', 66),\n",
              "             ('fitzpatrick', 4),\n",
              "             ('better', 358),\n",
              "             ('nuclear', 228),\n",
              "             ('living', 215),\n",
              "             ('moscow', 77),\n",
              "             ('sees', 90),\n",
              "             ('mcdonalds', 36),\n",
              "             ('november', 171),\n",
              "             ('13th', 22),\n",
              "             ('plunders', 2),\n",
              "             ('others', 170),\n",
              "             ('always', 305),\n",
              "             ('lives', 250),\n",
              "             ('palestinian', 36),\n",
              "             ('proverb', 2),\n",
              "             ('circa', 1141),\n",
              "             ('1985', 63),\n",
              "             ('solidarity', 68),\n",
              "             ('asia', 44),\n",
              "             ('africa', 131),\n",
              "             ('ospaaal', 13),\n",
              "             ('pictures', 187),\n",
              "             (\"you've\", 51),\n",
              "             ('had', 1416),\n",
              "             ('penis', 75),\n",
              "             ('movie', 303),\n",
              "             ('screenshots', 7),\n",
              "             ('dumb', 33),\n",
              "             ('captions', 3),\n",
              "             ('when', 2261),\n",
              "             ('gag', 8),\n",
              "             ('reflex', 1),\n",
              "             ('ruins', 23),\n",
              "             ('orange', 100),\n",
              "             ('spider', 118),\n",
              "             ('constructed', 10),\n",
              "             ('perfect', 212),\n",
              "             ('web', 60),\n",
              "             ('overnight', 38),\n",
              "             ('zoom', 26),\n",
              "             ('country', 352),\n",
              "             (\"gandhi's\", 2),\n",
              "             ('quit', 42),\n",
              "             ('india', 195),\n",
              "             ('movement', 116),\n",
              "             ('showing', 278),\n",
              "             ('torn', 30),\n",
              "             ('sign', 383),\n",
              "             ('dogs', 237),\n",
              "             ('indians', 24),\n",
              "             ('allowed', 98),\n",
              "             ('which', 824),\n",
              "             ('posted', 181),\n",
              "             ('club', 116),\n",
              "             ('europeans', 12),\n",
              "             ('only', 1133),\n",
              "             ('date', 299),\n",
              "             ('unknown', 240),\n",
              "             ('鈥業s', 4),\n",
              "             ('jeb', 21),\n",
              "             ('bush', 139),\n",
              "             ('related', 68),\n",
              "             ('george', 269),\n",
              "             ('w', 145),\n",
              "             ('other', 967),\n",
              "             ('didn鈥檛', 202),\n",
              "             ('iowa', 50),\n",
              "             ('caucuses', 3),\n",
              "             ('here', 537),\n",
              "             ('42', 37),\n",
              "             ('planned', 65),\n",
              "             ('epa', 34),\n",
              "             ('budget', 63),\n",
              "             ('cuts', 71),\n",
              "             ('leaked', 84),\n",
              "             ('documents', 65),\n",
              "             ('chick', 54),\n",
              "             ('fil', 45),\n",
              "             ('announcement', 62),\n",
              "             ('how', 1701),\n",
              "             ('think', 623),\n",
              "             ('fast', 98),\n",
              "             ('food', 539),\n",
              "             (\"they're\", 281),\n",
              "             ('meal', 95),\n",
              "             ('kits', 4),\n",
              "             ('blue', 182),\n",
              "             ('apron', 8),\n",
              "             ('timothy', 6),\n",
              "             ('simons', 2),\n",
              "             ('names', 91),\n",
              "             ('鈥楥harmless鈥', 1),\n",
              "             ('gop', 128),\n",
              "             ('senator', 81),\n",
              "             ('inspired', 71),\n",
              "             ('鈥榁eep鈥', 1),\n",
              "             ('character', 126),\n",
              "             ('jonah', 4),\n",
              "             ('must', 262),\n",
              "             ('see', 973),\n",
              "             ('unfinished', 5),\n",
              "             ('business', 199),\n",
              "             ('john', 389),\n",
              "             ('ritter鈥檚', 1),\n",
              "             ('hand', 401),\n",
              "             ('shot', 332),\n",
              "             ('grave', 41),\n",
              "             ('note', 149),\n",
              "             ('containing', 25),\n",
              "             ('rule', 76),\n",
              "             ('dating', 59),\n",
              "             ('teenage', 49),\n",
              "             ('daughter', 263),\n",
              "             ('shishito', 1),\n",
              "             ('fancy', 22),\n",
              "             ('ramen', 17),\n",
              "             ('come', 359),\n",
              "             ('refugee', 56),\n",
              "             ('farmer', 54),\n",
              "             ('nashville', 22),\n",
              "             ('boyfriend', 93),\n",
              "             ('proposed', 43),\n",
              "             ('tell', 284),\n",
              "             ('never', 830),\n",
              "             ('give', 436),\n",
              "             ('lions', 30),\n",
              "             ('spaghetti', 21),\n",
              "             (\"o's\", 2),\n",
              "             ('irl', 32),\n",
              "             (\"hitler's\", 47),\n",
              "             ('armoured', 8),\n",
              "             ('black', 667),\n",
              "             ('mercedes', 9),\n",
              "             ('inside', 513),\n",
              "             ('military', 317),\n",
              "             ('museum', 175),\n",
              "             ('ottawa', 19),\n",
              "             ('places', 76),\n",
              "             ('millions', 142),\n",
              "             ('potential', 72),\n",
              "             ('cyclone', 5),\n",
              "             ('major', 186),\n",
              "             ('winter', 117),\n",
              "             ('storm', 126),\n",
              "             ('slam', 14),\n",
              "             ('central', 104),\n",
              "             ('discarded', 22),\n",
              "             ('contact', 42),\n",
              "             ('shrunk', 10),\n",
              "             ('size', 178),\n",
              "             ('grain', 16),\n",
              "             ('rice', 62),\n",
              "             ('there鈥檚', 117),\n",
              "             ('genetic', 29),\n",
              "             ('explanation', 30),\n",
              "             ('warmer', 4),\n",
              "             ('nests', 11),\n",
              "             ('turn', 212),\n",
              "             ('turtles', 31),\n",
              "             ('female', 178),\n",
              "             ('scientists', 260),\n",
              "             ('id鈥檇', 1),\n",
              "             ('temperature', 45),\n",
              "             ('sensitive', 25),\n",
              "             ('gene', 33),\n",
              "             ('controls', 14),\n",
              "             ('turtles鈥', 1),\n",
              "             ('fate', 31),\n",
              "             ('muji', 1),\n",
              "             ...])"
            ]
          },
          "metadata": {},
          "execution_count": 111
        }
      ],
      "source": [
        "tokenizer.word_counts"
      ]
    },
    {
      "cell_type": "code",
      "execution_count": 112,
      "metadata": {
        "id": "va_Tx7Wal1jG"
      },
      "outputs": [],
      "source": [
        "#Method which assigns integer value to each word in the sequence based on vocabulary \n",
        "#and then transforms into a matrix using pad_sequences\n",
        "\n",
        "#pad_sequences transforms a list of sequences \n",
        "#into a 2D Numpy array of shape (num_samples, num_timesteps).\n",
        "def _preprocess(list_of_text):  #private method\n",
        "    return pad_sequences(\n",
        "        tokenizer.texts_to_sequences(list_of_text),  #transforms each text in texts to sequence of integers\n",
        "        maxlen=max_len,    #maximum length of all sequences\n",
        "        padding='post',    #specifying padding after sequence\n",
        "    )"
      ]
    },
    {
      "cell_type": "code",
      "execution_count": 113,
      "metadata": {
        "colab": {
          "base_uri": "https://localhost:8080/"
        },
        "id": "4O0uxSwGmWXV",
        "outputId": "405894a5-e74e-454a-a748-cdf162c9f797"
      },
      "outputs": [
        {
          "output_type": "stream",
          "name": "stdout",
          "text": [
            "(54000, 60) (54000,)\n",
            "(6000, 60) (6000,)\n"
          ]
        }
      ],
      "source": [
        "# padding is done inside: \n",
        "x_train = _preprocess(x_train)\n",
        "x_valid = _preprocess(x_valid)\n",
        "\n",
        "print(x_train.shape, y_train.shape)\n",
        "print(x_valid.shape, y_valid.shape)"
      ]
    },
    {
      "cell_type": "code",
      "execution_count": 114,
      "metadata": {
        "colab": {
          "base_uri": "https://localhost:8080/"
        },
        "id": "PyK9H5LOmZ2A",
        "outputId": "5c086e22-8b7a-4490-95b4-7bb1d14b84b6"
      },
      "outputs": [
        {
          "output_type": "stream",
          "name": "stdout",
          "text": [
            "[\"my little succulent office plant is either getting ready to flower or it's \"\n",
            " 'extremely aroused',\n",
            " 'this cd case was put above this glove for several weeks in the car this was '\n",
            " 'the result',\n",
            " 'this truck driver stopped ata school parking lot and ordered hungry howies '\n",
            " 'for the drive',\n",
            " 'vietnamese poster asking for peace between north and south vietnam end of '\n",
            " 'vietnam war',\n",
            " 'the double reflection of these stairs in the mirror looks more like a '\n",
            " 'painting than real life']\n"
          ]
        }
      ],
      "source": [
        "#printing the sequence from the preproces sequence using sequences to texts\n",
        "pprint(tokenizer.sequences_to_texts(x_train[0:5]))"
      ]
    },
    {
      "cell_type": "code",
      "execution_count": 115,
      "metadata": {
        "id": "CKvbRraZmiwP"
      },
      "outputs": [],
      "source": [
        "seq_in = keras.Input(batch_shape=(None, max_len))  #Input Layer with shape: [None,40]\n",
        "\n",
        "#Embedding: Turns positive integers (indexes) into dense vectors of fixed size(100 here).\n",
        "#Each index is mapped to array of length 100\n",
        "embedded = keras.layers.Embedding(tokenizer.num_words, 100)(seq_in)   #Embedded Layer Output Shape: [None, 40,100]\n",
        "\n",
        "#Reduce mean: Computes the mean of elements across dimensions of a tensor\n",
        "averaged = tf.reduce_mean(embedded, axis=1)    #Output Shape: [None,100]\n",
        "\n",
        "#fully connected dense layer with sigmoid layer\n",
        "pred = keras.layers.Dense(1, activation='sigmoid')(averaged) #Output Shape [None, 1]\n",
        "\n",
        "#Building the model\n",
        "model = keras.Model(\n",
        "    inputs=seq_in,\n",
        "    outputs=pred,\n",
        ")"
      ]
    },
    {
      "cell_type": "code",
      "execution_count": 116,
      "metadata": {
        "colab": {
          "base_uri": "https://localhost:8080/"
        },
        "id": "I2RR3siXmvwG",
        "outputId": "dc19f2c3-217d-4919-e6ae-1b48efe7c75a"
      },
      "outputs": [
        {
          "output_type": "stream",
          "name": "stdout",
          "text": [
            "Model: \"model\"\n",
            "_________________________________________________________________\n",
            " Layer (type)                Output Shape              Param #   \n",
            "=================================================================\n",
            " input_1 (InputLayer)        [(None, 60)]              0         \n",
            "                                                                 \n",
            " embedding (Embedding)       (None, 60, 100)           4000000   \n",
            "                                                                 \n",
            " tf.math.reduce_mean (TFOpLa  (None, 100)              0         \n",
            " mbda)                                                           \n",
            "                                                                 \n",
            " dense (Dense)               (None, 1)                 101       \n",
            "                                                                 \n",
            "=================================================================\n",
            "Total params: 4,000,101\n",
            "Trainable params: 4,000,101\n",
            "Non-trainable params: 0\n",
            "_________________________________________________________________\n"
          ]
        }
      ],
      "source": [
        "#Summary of model\n",
        "model.summary()"
      ]
    },
    {
      "cell_type": "code",
      "execution_count": 117,
      "metadata": {
        "colab": {
          "base_uri": "https://localhost:8080/"
        },
        "id": "fIVoQlXynFlE",
        "outputId": "570c99ab-0051-458e-80af-4de5a0d8d0e6"
      },
      "outputs": [
        {
          "output_type": "stream",
          "name": "stdout",
          "text": [
            "Epoch 1/3\n",
            "1688/1688 [==============================] - 85s 50ms/step - loss: 0.5278 - accuracy: 0.7441 - auc: 0.8336 - val_loss: 0.4369 - val_accuracy: 0.8000 - val_auc: 0.8835\n",
            "Epoch 2/3\n",
            "1688/1688 [==============================] - 81s 48ms/step - loss: 0.3639 - accuracy: 0.8398 - auc: 0.9202 - val_loss: 0.4080 - val_accuracy: 0.8168 - val_auc: 0.8975\n",
            "Epoch 3/3\n",
            "1688/1688 [==============================] - 76s 45ms/step - loss: 0.3026 - accuracy: 0.8703 - auc: 0.9444 - val_loss: 0.4244 - val_accuracy: 0.8128 - val_auc: 0.8987\n"
          ]
        }
      ],
      "source": [
        "#Compiling the model\n",
        "model.compile(\n",
        "    optimizer=Adam(),    #optimizer\n",
        "    loss='binary_crossentropy',  #loss\n",
        "    metrics=['accuracy', 'AUC']  #evaluation metrics\n",
        ")\n",
        "\n",
        "\n",
        "#fitting model\n",
        "history = model.fit(x_train,\n",
        "                    y_train,\n",
        "                    epochs=3,\n",
        "                    batch_size=32,\n",
        "                    validation_data=(x_valid, y_valid),\n",
        "                    verbose=1)"
      ]
    },
    {
      "cell_type": "code",
      "execution_count": 118,
      "metadata": {
        "id": "OLcQkowFnUBB"
      },
      "outputs": [],
      "source": [
        "#Predicting for test data\n",
        "\n",
        "#Preprocessing\n",
        "x_test = _preprocess(x_test_df.text)\n",
        "\n",
        "#Prediting and converting to 1-D array\n",
        "y_predict = np.squeeze(model.predict(x_test))\n",
        "\n",
        "#Saving the data to csv\n",
        "pd.DataFrame(\n",
        "    {'id': x_test_df.index,\n",
        "     'label':y_predict}).to_csv('neural.csv', index=False)"
      ]
    },
    {
      "cell_type": "markdown",
      "metadata": {
        "id": "ihjXEsXG5wTJ"
      },
      "source": [
        "##trail 6"
      ]
    },
    {
      "cell_type": "markdown",
      "source": [
        "in the sixth trail i run the code using preprossing code above i took the cleand data and i expected the result to be better we will see at the end of this trail\n",
        "\n",
        "using XGBClassifier regression model\n",
        "\n",
        "(class_weight='balanced')\n",
        "\n",
        "i changed the rondome state to be 1\n",
        "\n",
        "\"f1_macro\",\n",
        "\n",
        "i think that model going to be amazing regarding the previous model\n",
        "\n"
      ],
      "metadata": {
        "id": "v_wmzo07V2uR"
      }
    },
    {
      "cell_type": "markdown",
      "source": [
        "XGB classifier "
      ],
      "metadata": {
        "id": "uUYGUry9UhZ4"
      }
    },
    {
      "cell_type": "code",
      "execution_count": 119,
      "metadata": {
        "colab": {
          "base_uri": "https://localhost:8080/"
        },
        "id": "mUMsn9YupAS5",
        "outputId": "ce1876fb-7137-4603-d467-51a9aa0730b5"
      },
      "outputs": [
        {
          "output_type": "stream",
          "name": "stdout",
          "text": [
            "Classifiers to test: ['LogisticRegression', 'LinearSVC', 'RandomForestClassifier', 'XGBClassifier', 'MLPClassifier']\n"
          ]
        }
      ],
      "source": [
        "# models to test\n",
        "classifiers = [\n",
        "    LogisticRegression(solver=\"saga\", random_state=1),\n",
        "    LinearSVC(random_state=1),\n",
        "    RandomForestClassifier(random_state=1),\n",
        "    XGBClassifier(random_state=1),\n",
        "    MLPClassifier(\n",
        "        random_state=1,\n",
        "        solver=\"sgd\",\n",
        "        hidden_layer_sizes=(12, 12, 12),\n",
        "        activation=\"tanh\",\n",
        "        early_stopping=True,\n",
        "        n_iter_no_change=1,\n",
        "    ),\n",
        "]\n",
        "# get names of the objects in list (too lazy for c&p...)\n",
        "names = [re.match(r\"[^\\(]+\", name.__str__())[0] for name in classifiers]\n",
        "print(f\"Classifiers to test: {names}\")\n"
      ]
    },
    {
      "cell_type": "code",
      "execution_count": 120,
      "metadata": {
        "colab": {
          "base_uri": "https://localhost:8080/"
        },
        "id": "bfv9v52q7ZrH",
        "outputId": "87b4bf3b-8651-47bc-bff6-bf9f91a5f4fa"
      },
      "outputs": [
        {
          "output_type": "stream",
          "name": "stdout",
          "text": [
            "Training classifier: LogisticRegression\n",
            "Training classifier: LinearSVC\n",
            "Training classifier: RandomForestClassifier\n",
            "Training classifier: XGBClassifier\n",
            "Training classifier: MLPClassifier\n",
            "CPU times: user 3min 5s, sys: 3.03 s, total: 3min 8s\n",
            "Wall time: 3min 4s\n"
          ]
        },
        {
          "output_type": "stream",
          "name": "stderr",
          "text": [
            "/usr/local/lib/python3.7/dist-packages/sklearn/metrics/_classification.py:1318: UndefinedMetricWarning:\n",
            "\n",
            "Precision and F-score are ill-defined and being set to 0.0 in labels with no predicted samples. Use `zero_division` parameter to control this behavior.\n",
            "\n",
            "/usr/local/lib/python3.7/dist-packages/sklearn/metrics/_classification.py:1318: UndefinedMetricWarning:\n",
            "\n",
            "Precision and F-score are ill-defined and being set to 0.0 in labels with no predicted samples. Use `zero_division` parameter to control this behavior.\n",
            "\n",
            "/usr/local/lib/python3.7/dist-packages/sklearn/metrics/_classification.py:1318: UndefinedMetricWarning:\n",
            "\n",
            "Precision and F-score are ill-defined and being set to 0.0 in labels with no predicted samples. Use `zero_division` parameter to control this behavior.\n",
            "\n"
          ]
        }
      ],
      "source": [
        "%%time\n",
        "# test all classifiers and save pred. results on test data\n",
        "results = {}\n",
        "for name, clf in zip(names, classifiers):\n",
        "    print(f\"Training classifier: {name}\")\n",
        "    clf.fit(X_train_vec, Y_train)\n",
        "    prediction = clf.predict(X_test_vec)\n",
        "    report = sklearn.metrics.classification_report(Y_test, prediction)\n",
        "    results[name] = report"
      ]
    },
    {
      "cell_type": "code",
      "execution_count": 121,
      "metadata": {
        "colab": {
          "base_uri": "https://localhost:8080/"
        },
        "id": "2PfWnTfu7mAd",
        "outputId": "50c22ded-ef8a-41e5-8d76-e120f55a7e6e"
      },
      "outputs": [
        {
          "output_type": "stream",
          "name": "stdout",
          "text": [
            "Results for LogisticRegression:\n",
            "              precision    recall  f1-score   support\n",
            "\n",
            "           0       0.77      0.77      0.77      3225\n",
            "           1       0.73      0.73      0.73      2752\n",
            "\n",
            "    accuracy                           0.75      5977\n",
            "   macro avg       0.75      0.75      0.75      5977\n",
            "weighted avg       0.75      0.75      0.75      5977\n",
            "\n",
            "\n",
            "Results for LinearSVC:\n",
            "              precision    recall  f1-score   support\n",
            "\n",
            "           0       0.77      0.76      0.76      3225\n",
            "           1       0.72      0.73      0.72      2752\n",
            "\n",
            "    accuracy                           0.75      5977\n",
            "   macro avg       0.74      0.74      0.74      5977\n",
            "weighted avg       0.75      0.75      0.75      5977\n",
            "\n",
            "\n",
            "Results for RandomForestClassifier:\n",
            "              precision    recall  f1-score   support\n",
            "\n",
            "           0       0.74      0.77      0.75      3225\n",
            "           1       0.72      0.69      0.70      2752\n",
            "\n",
            "    accuracy                           0.73      5977\n",
            "   macro avg       0.73      0.73      0.73      5977\n",
            "weighted avg       0.73      0.73      0.73      5977\n",
            "\n",
            "\n",
            "Results for XGBClassifier:\n",
            "              precision    recall  f1-score   support\n",
            "\n",
            "           0       0.78      0.51      0.62      3225\n",
            "           1       0.59      0.83      0.69      2752\n",
            "\n",
            "    accuracy                           0.66      5977\n",
            "   macro avg       0.68      0.67      0.65      5977\n",
            "weighted avg       0.69      0.66      0.65      5977\n",
            "\n",
            "\n",
            "Results for MLPClassifier:\n",
            "              precision    recall  f1-score   support\n",
            "\n",
            "           0       0.54      1.00      0.70      3225\n",
            "           1       0.00      0.00      0.00      2752\n",
            "\n",
            "    accuracy                           0.54      5977\n",
            "   macro avg       0.27      0.50      0.35      5977\n",
            "weighted avg       0.29      0.54      0.38      5977\n",
            "\n",
            "\n"
          ]
        }
      ],
      "source": [
        "# Prediction results\n",
        "for k, v in results.items():\n",
        "    print(f\"Results for {k}:\")\n",
        "    print(f\"{v}\\n\")"
      ]
    },
    {
      "cell_type": "code",
      "execution_count": 122,
      "metadata": {
        "id": "o9HezGqD7mHs"
      },
      "outputs": [],
      "source": [
        "# feature creation and modelling in a single function\n",
        "pipe = Pipeline([(\"tfidf\", TfidfVectorizer()), (\"svc\", XGBClassifier())])\n",
        "\n",
        "# define parameter space to test # runtime 19min\n",
        "params = {\n",
        "    \"tfidf__ngram_range\": [(1, 2)],\n",
        "    \"tfidf__max_df\": [0.3],\n",
        "    \"tfidf__min_df\": [23],\n",
        "    \"svc__C\": np.arange(0.2, 1, 0.15),\n",
        "}\n",
        "pipe_svc_clf = RandomizedSearchCV(pipe, params, n_jobs=-1, scoring=\"f1_macro\",  n_iter=3)\n",
        "pipe_svc_clf.fit(X_train, Y_train)\n",
        "pickle.dump(pipe_svc_clf, open(\"./pipe_svc_clf.pck\", \"wb\"))"
      ]
    },
    {
      "cell_type": "code",
      "execution_count": 123,
      "metadata": {
        "colab": {
          "base_uri": "https://localhost:8080/"
        },
        "id": "kjVDTlEg74SK",
        "outputId": "b530a32b-0c97-4caa-bd28-97595ea8e957"
      },
      "outputs": [
        {
          "output_type": "stream",
          "name": "stdout",
          "text": [
            "{'tfidf__ngram_range': (1, 2), 'tfidf__min_df': 23, 'tfidf__max_df': 0.3, 'svc__C': 0.7999999999999998}\n"
          ]
        }
      ],
      "source": [
        "best_params = pipe_svc_clf.best_params_\n",
        "print(best_params)"
      ]
    },
    {
      "cell_type": "code",
      "execution_count": 124,
      "metadata": {
        "colab": {
          "base_uri": "https://localhost:8080/"
        },
        "id": "8R4Lw-wV74bo",
        "outputId": "68eadd2f-ef4f-4651-8353-9b853d2c3a5f"
      },
      "outputs": [
        {
          "output_type": "stream",
          "name": "stdout",
          "text": [
            "              precision    recall  f1-score   support\n",
            "\n",
            "           0       0.78      0.66      0.72      3225\n",
            "           1       0.66      0.78      0.71      2752\n",
            "\n",
            "    accuracy                           0.71      5977\n",
            "   macro avg       0.72      0.72      0.71      5977\n",
            "weighted avg       0.72      0.71      0.71      5977\n",
            "\n"
          ]
        }
      ],
      "source": [
        "# run pipe with optimized parameters\n",
        "pipe.set_params(**best_params).fit(X_train, Y_train)\n",
        "pipe_pred = pipe.predict(X_test)\n",
        "report = sklearn.metrics.classification_report(Y_test, pipe_pred)\n",
        "print(report)"
      ]
    },
    {
      "cell_type": "code",
      "source": [
        "df_test[\"text_result\"]"
      ],
      "metadata": {
        "colab": {
          "base_uri": "https://localhost:8080/"
        },
        "id": "73uB8lgJ_5Mb",
        "outputId": "6d57330f-4123-47ce-ec1c-b8632245d7d7"
      },
      "execution_count": 125,
      "outputs": [
        {
          "output_type": "execute_result",
          "data": {
            "text/plain": [
              "0                                                stargaz\n",
              "1                                                   yeah\n",
              "2         pd phoenix car thief get instruct youtub video\n",
              "3                   trump accus iran one problem credibl\n",
              "4                                       believ hezbollah\n",
              "                              ...                       \n",
              "59146                       bicycl taxi driver new delhi\n",
              "59147               trump blow gop formula win hous race\n",
              "59148    napoleon return exil island elba march colouris\n",
              "59149                      deep alway want ballet dancer\n",
              "59150         toddler miracul surviv stori fall land car\n",
              "Name: text_result, Length: 59151, dtype: object"
            ]
          },
          "metadata": {},
          "execution_count": 125
        }
      ]
    },
    {
      "cell_type": "code",
      "source": [
        "%%time\n",
        "# Clean text\n",
        "df_test[\"text_result\"] = df_test.loc[df_test[\"text\"].str.len() > 0, \"text\"]\n",
        "df_test[\"text_result\"] = df_test[\"text_result\"].map(\n",
        "    lambda x: clean_text(x, for_embedding=False) if isinstance(x, str) else x\n",
        ")"
      ],
      "metadata": {
        "colab": {
          "base_uri": "https://localhost:8080/"
        },
        "id": "d2H_xOe_dSZO",
        "outputId": "857c18bb-ebc8-4e3c-ea31-70b7207cb484"
      },
      "execution_count": 126,
      "outputs": [
        {
          "output_type": "stream",
          "name": "stdout",
          "text": [
            "CPU times: user 12.5 s, sys: 30.6 ms, total: 12.6 s\n",
            "Wall time: 12.6 s\n"
          ]
        }
      ]
    },
    {
      "cell_type": "code",
      "execution_count": 127,
      "metadata": {
        "id": "HIyILROm8DIq"
      },
      "outputs": [],
      "source": [
        "submission = pd.DataFrame()\n",
        "\n",
        "submission['id'] = df_test['id']\n",
        "\n",
        "submission['label'] = pipe.predict_proba(df_test[\"text_result\"])[:,1]\n",
        "\n",
        "submission.to_csv('XGB.csv', index=False)"
      ]
    },
    {
      "cell_type": "markdown",
      "source": [
        "##trail 7"
      ],
      "metadata": {
        "id": "5tFHiBVdb7DN"
      }
    },
    {
      "cell_type": "code",
      "execution_count": 129,
      "metadata": {
        "id": "bWTm8pFmb7DO"
      },
      "outputs": [],
      "source": [
        "# feature creation and modelling in a single function\n",
        "# pipe = Pipeline([(\"tfidf\", TfidfVectorizer()), (\"svc\", LinearSVC())])\n",
        "pipe = Pipeline([(\"tfidf\", TfidfVectorizer()), (\"rendom\", RandomForestClassifier())])\n",
        "\n",
        "# define parameter space to test # runtime 35min\n",
        "params = {\n",
        "    \"tfidf__ngram_range\": [(1, 2), (1, 3)],\n",
        "    \"tfidf__max_df\": np.arange(0.3, 0.8),\n",
        "    \"tfidf__min_df\": np.arange(5, 10),\n",
        "}\n",
        "# it is quite slow so we do 4 for now\n",
        "pipe_clf = RandomizedSearchCV(\n",
        "    pipe, params, n_jobs=-1, scoring=\"f1_macro\", n_iter=3)\n",
        "pipe_clf.fit(X_train, Y_train)\n",
        "pickle.dump(pipe_clf, open(\"./clf_pipe.pck\", \"wb\"))"
      ]
    },
    {
      "cell_type": "markdown",
      "metadata": {
        "id": "Q-7Pt9D0b7DO"
      },
      "source": [
        "To limit the testing hyper-parameters, we first optimize the feature creation step. We test for different values for `ngram`. Moreover, `max_df` and `min_df` set an upper and lower limit for word frequencies. We want to exclude infrequent words because the model won't be able to learn (meaningful) associations with very few observations. The same is true for very frequent words which won't allow the model to differentiate between classes. For each parameter we check the values which returned the best model fit:"
      ]
    },
    {
      "cell_type": "code",
      "execution_count": 130,
      "metadata": {
        "id": "2QQTKgPNb7DP",
        "colab": {
          "base_uri": "https://localhost:8080/"
        },
        "outputId": "b3977498-d881-447e-e687-620d27fddbeb"
      },
      "outputs": [
        {
          "output_type": "stream",
          "name": "stdout",
          "text": [
            "{'tfidf__ngram_range': (1, 2), 'tfidf__min_df': 6, 'tfidf__max_df': 0.3}\n"
          ]
        }
      ],
      "source": [
        "print(pipe_clf.best_params_)"
      ]
    },
    {
      "cell_type": "code",
      "execution_count": 131,
      "metadata": {
        "id": "vWcqoHJJb7DP",
        "colab": {
          "base_uri": "https://localhost:8080/",
          "height": 130
        },
        "outputId": "df103fc0-f179-452f-cbd6-76f99210fdd8"
      },
      "outputs": [
        {
          "output_type": "error",
          "ename": "SyntaxError",
          "evalue": "ignored",
          "traceback": [
            "\u001b[0;36m  File \u001b[0;32m\"<unknown>\"\u001b[0;36m, line \u001b[0;32m11\u001b[0m\n\u001b[0;31m    pipe_svc_clf = RandomizedSearchCV(pipe, params, n_jobs=-1, scoring=\"f1_macro\",  n_iter=3)\u001b[0m\n\u001b[0m                 ^\u001b[0m\n\u001b[0;31mSyntaxError\u001b[0m\u001b[0;31m:\u001b[0m invalid syntax\n"
          ]
        }
      ],
      "source": [
        "%%time\n",
        "# feature creation and modelling in a single function\n",
        "pipe = Pipeline([(\"tfidf\", TfidfVectorizer()), (\"random\", RandomForestClassifier())])\n",
        "# pipe = Pipeline([(\"tfidf\", TfidfVectorizer()), (\"svc\", LinearSVC())])\n",
        "\n",
        "# define parameter space to test # runtime 19min\n",
        "params = {\n",
        "    \"tfidf__ngram_range\": [(1, 3)],\n",
        "    \"tfidf__max_df\": [0.5],\n",
        "    \"tfidf__min_df\": [3],\n",
        "  \n",
        "pipe_svc_clf = RandomizedSearchCV(pipe, params, n_jobs=-1, scoring=\"f1_macro\",  n_iter=3)\n",
        "pipe_svc_clf.fit(X_train, Y_train)\n",
        "pickle.dump(pipe_svc_clf, open(\"./pipe_svc_clf.pck\", \"wb\"))"
      ]
    },
    {
      "cell_type": "code",
      "execution_count": null,
      "metadata": {
        "id": "1KaxEArnb7DP"
      },
      "outputs": [],
      "source": [
        "best_params = pipe_svc_clf.best_params_\n",
        "print(best_params)"
      ]
    },
    {
      "cell_type": "markdown",
      "metadata": {
        "id": "_bpwjXvGb7DQ"
      },
      "source": [
        "We focus on the `C` parameter which is basically a regularization parameter and essential in the performance of the SVC classifier. High values of `C` mean the margin of the hyperplane chosen by SVC to separate the data will be smaller. Thus, while classification on training data will be better this can also lead to overfitting. Consequently, `C` controls a trade off between a low training and testing error."
      ]
    },
    {
      "cell_type": "markdown",
      "metadata": {
        "id": "TI6sFIvhb7DQ"
      },
      "source": [
        "Finally, we combine these best parameters and test the prediction of our model using the pipe:"
      ]
    },
    {
      "cell_type": "code",
      "execution_count": null,
      "metadata": {
        "id": "7D7zp-ysb7DR"
      },
      "outputs": [],
      "source": [
        "# run pipe with optimized parameters\n",
        "pipe.set_params(**best_params).fit(X_train, Y_train)\n",
        "pipe_pred = pipe.predict(X_test)\n",
        "report = sklearn.metrics.classification_report(Y_test, pipe_pred)\n",
        "print(report)"
      ]
    },
    {
      "cell_type": "code",
      "source": [
        "%%time\n",
        "# Clean text\n",
        "df_test[\"text_result\"] = df_test.loc[df_test[\"text\"].str.len() > 0, \"text\"]\n",
        "df_test[\"text_result\"] = df_test[\"text_result\"].map(\n",
        "    lambda x: clean_text(x, for_embedding=False) if isinstance(x, str) else x\n",
        ")"
      ],
      "metadata": {
        "id": "00isi1wldUji"
      },
      "execution_count": null,
      "outputs": []
    },
    {
      "cell_type": "code",
      "source": [
        "submission = pd.DataFrame()\n",
        "\n",
        "submission['id'] = df_test['id']\n",
        "submission['label'] = pipe.predict(df_test[\"text_result\"])\n",
        "\n",
        "\n",
        "submission.to_csv('RandomForestClassifier.csv', index=False)"
      ],
      "metadata": {
        "id": "GqxSrLO5b7DR"
      },
      "execution_count": null,
      "outputs": []
    },
    {
      "cell_type": "markdown",
      "metadata": {
        "id": "K460ygK9fGPQ"
      },
      "source": [
        "Using parameter tuning we have slightly improved on our already decent model by increasing the precision for class 1.0. However, we can see that the margin for improvement is little. On one hand, this is because our initial parameters were already very close to the optimum. On the other hand, it might be that given our data and the approach used we might already be close to a barrier."
      ]
    },
    {
      "cell_type": "markdown",
      "metadata": {
        "id": "tfIQR5qAfGPM"
      },
      "source": [
        "The output of sci-kit's `classification_report` provides us with several metrics. For unbalanced data sets `accuracy` is an inappropriate metric. Since it's value solely tells you how many cases have been properly classified, a high value can be achieved by always predicting the majority class. In contrast, the `f1-score` puts precision and recall of each class in relation to each other. As such, it is a more fine grained measure. We can use an aggregate version of it to have a single metric summarizing the performance of each model. For example, the `weighted f1-score` is an average of the `f1-scores` of both our classes taking the class distribution into account. On the other hand, the `macro f1-score` averages over class scores without weighing them. Consequently, we'll use that as we wish to give the same importance to both our classes. This is because even though bad grades are much more rare they also have a more severe impact.   \n",
        "All methods achieve impressive results predicting the good ratings class with `f1-scores` above 0.95. However, results for the bad ratings class are much lower and vary wildly.  \n",
        "Here, the ensemble methods, i.e. RandomForest and XGBoost, perform worst. However, with some more effort to tune their parameters they would probably fare significantly better.  \n",
        "As a general rule of thumb, logistic regressions deliver decent results in many different use cases. Moreover, they are simple to apply, robust and computationally efficient. Our results support this claim as the logistic regression achieves the third best result with an `macro f1-score` of 0.88. This result is only surpassed by the linear SVC and MLP that both score 0.9. In general, SVC is comparable in speed and simplicity to the logistic regression. In addition, it often performs very well in classification tasks as we can see here. In contrast, Neural Networks perform extremely well in all sorts of tasks but are also much more complex and slow all around. Because of this, we will stick to the LinearSVC classifier for now."
      ]
    },
    {
      "cell_type": "markdown",
      "metadata": {
        "id": "vd5a723HfGPK"
      },
      "source": [
        "This creates a numeric representation of the `ngrams` in our corpus. We see that the vectorizer also uses `bigrams` in addition to single words. The word \"abzusetz\" is represented by the number `925`, while the number `25838` stands for the `bigram` \"dr schier\" and so on.  \n",
        "This is only the first part of our text to numeric process. Before we can move on to transform each sentence to a vector of `TF-IDF` values, we need to prepare the data for the modeling part first."
      ]
    },
    {
      "cell_type": "markdown",
      "metadata": {
        "id": "wOu1q8PDfGPJ"
      },
      "source": [
        "We have pretty unbalanced classes. In some cases, this can have a negative effect on model results. It is obvious, that models will often have a harder time predicting the minority class. There are methods to deal with that, i.e. over- and under-sampling, weighing of classes and more. This won't be necessary in our case as even the minority class has lots of observations. We will see shortly, that our model performance will not be severely impacted by the imbalance.  "
      ]
    },
    {
      "cell_type": "markdown",
      "metadata": {
        "id": "vFiXxD9nfGPH"
      },
      "source": [
        "The cleaned comments are much more concise because their original sentence structure and their words have been altered severely. Although the meaning can still be grasped, humans will probably have a harder time understanding these sentences. In contrast, many classification approaches greatly benefit from this simplification. Some reasons for that have been mentioned above. Basically, it boils down to the fact that we try to keep only informative pieces of text that aid the **specific model** we intend to apply to the task. In this case, we will use simple models that benefit from less complexity. However, more advanced models are able to extract information from more complex features. Thus, they can perform better with less simplification of the input texts. We'll take a look at that in an upcoming post."
      ]
    },
    {
      "cell_type": "markdown",
      "source": [
        "#final results"
      ],
      "metadata": {
        "id": "xPxFmiz_5Lzi"
      }
    },
    {
      "cell_type": "markdown",
      "source": [
        "the svm decreseees the score as i expected but the bestscore was final result trail 6 \n",
        "\n",
        "it is the best till now for me the highest score on kaggle\n",
        "\n",
        "best score 0.8847965738758029\n",
        "best score {'my_classifier__max_depth': 7, 'my_classifier__n_estimators': 300, 'preprocessor__num__imputer__strategy': 'mean'}\n",
        "\n",
        " kaggle \n",
        "\n",
        "Score: 0.87330\n",
        "     \n",
        "Public score: 0.87518 "
      ],
      "metadata": {
        "id": "fp4E5msV499p"
      }
    },
    {
      "cell_type": "markdown",
      "source": [
        "in the sixth trail i run the code using preprossing code above i took the cleand data and i expected the result to be better we will see at the end of this trail\n",
        "\n",
        "using XGBClassifier regression model\n",
        " (class_weight='balanced')\n",
        "\n",
        "\"tfidf__ngram_range\": [(1, 2)],\n",
        "    \"tfidf__max_df\": [0.3],\n",
        "    \"tfidf__min_df\": [23],\n",
        "    \"svc__C\": np.arange(0.2, 1, 0.15),\n",
        "\n",
        "i changed the rondome state to be 1\n"
      ],
      "metadata": {
        "id": "P02pBKehVQM5"
      }
    },
    {
      "cell_type": "markdown",
      "source": [
        "# Questions"
      ],
      "metadata": {
        "id": "pumfML8JO9Zk"
      }
    },
    {
      "cell_type": "markdown",
      "source": [
        "🌈 What is the difference between Character n-gram and Word n-gram? Which one tends to suffer more from the OOV issue?\n",
        "\n",
        "🌈 What is the difference between stop word removal and stemming? Are these techniques language-dependent?\n",
        "\n",
        "🌈 Is tokenization techniques language dependent? Why?\n",
        "\n",
        "🌈 What is the difference between count vectorizer and tf-idf vectorizer? Would it be feasible to use all possible n-grams? If not, how should you select them?"
      ],
      "metadata": {
        "id": "mecyhEBIADIU"
      }
    },
    {
      "cell_type": "markdown",
      "source": [
        "## 1"
      ],
      "metadata": {
        "id": "bP2wsB_UU2q9"
      }
    },
    {
      "cell_type": "markdown",
      "source": [
        "🌈 What is the difference between Character n-gram and Word n-gram? Which one tends to suffer more from the OOV issue?"
      ],
      "metadata": {
        "id": "Ee1V7zcZEyIr"
      }
    },
    {
      "cell_type": "markdown",
      "source": [
        "\n",
        "1-\n",
        "\n",
        "Word n-gram tends to suffer more from OOV (Out-Of-Vocabulary) issue because of the new words that presented in the testing dataset and not appear in training dataset\n",
        "\n",
        "2 \n",
        "\n",
        "character N-grams split highlights some common properties that a word n-gram split does not\n",
        "\n",
        "character N-grams make languages more comparable revealing more repeated\n",
        "\n",
        "Character N-Grams it is split each words based on character but word N-Grams it is split whole text based on words\n",
        "\n",
        "For a given document in a language, there are more character N-grams repetitions than word n-gram repetitions\n",
        "\n",
        "\n",
        "\n",
        "\n"
      ],
      "metadata": {
        "id": "N6GNsfXfE05C"
      }
    },
    {
      "cell_type": "markdown",
      "source": [
        "## 2 "
      ],
      "metadata": {
        "id": "K8XXYV4eU86M"
      }
    },
    {
      "cell_type": "markdown",
      "source": [
        "🌈 What is the difference between stop word removal and stemming? Are these techniques language-dependent?"
      ],
      "metadata": {
        "id": "cU57_wXxHVzM"
      }
    },
    {
      "cell_type": "markdown",
      "source": [
        "\n",
        "1-\n",
        "\n",
        "Stemming is a technique used to extract the base form of the words by removing affixes from them. It is just like cutting down the branches of a tree to its stems. For example, the stem of the words eating, eats, eaten is eat.\n",
        "\n",
        "Stop word removal Some common words that are present in text but do not contribute in the meaning of a sentence. Such words are not at all important for the purpose of information retrieval or natural language processing. The most common stopwords are ‘the’ and ‘a’.\n",
        "\n",
        "Stop word removal and stemming are commonly used method in indexing the different between them are\n",
        "\n",
        "\n",
        "2.yes, these techniques are language-dependent"
      ],
      "metadata": {
        "id": "SzawmK7MaS6T"
      }
    },
    {
      "cell_type": "markdown",
      "source": [
        "## 3"
      ],
      "metadata": {
        "id": "sAEa3aUUYTyW"
      }
    },
    {
      "cell_type": "markdown",
      "source": [
        "🌈 Is tokenization techniques language dependent? Why?"
      ],
      "metadata": {
        "id": "bmtvs7XSK19O"
      }
    },
    {
      "cell_type": "markdown",
      "source": [
        "\n",
        "Tokenization is breaking the raw text into small chunks and helps in interpreting the meaning of the text by analyzing the sequence of the words so it is language dependent\n",
        "becouse it needs to know meaning of each word to split it depend on language for example: wasn't>> wasnt>>was n't>>wasn t >> these all possable of tokenization but some of these doesn't have meaning in the language\n"
      ],
      "metadata": {
        "id": "ShiucBhankjF"
      }
    },
    {
      "cell_type": "markdown",
      "source": [
        "\n",
        "It may look like grid search is the better option, compared to the random one, but bare in mind that when the dimensionality is high, the number of combinations you have to search is enormous. For example, to grid-search ten boolean (yes/no) parameters you will have to test 1024 different combinations. That is why random search, sometimes combined with clever heuristics, is often used."
      ],
      "metadata": {
        "id": "ylxuQRnMnnON"
      }
    },
    {
      "cell_type": "markdown",
      "source": [
        "## 4"
      ],
      "metadata": {
        "id": "Pd_DmIiVaK2W"
      }
    },
    {
      "cell_type": "markdown",
      "source": [
        "🌈 What is the difference between count vectorizer and tf-idf vectorizer? Would it be feasible to use all possible n-grams? If not, how should you select them?"
      ],
      "metadata": {
        "id": "FhFh-r1ItN3y"
      }
    },
    {
      "cell_type": "markdown",
      "source": [
        "1\n",
        "it isn't feasible to use all possible n-grams\n",
        "N-gram range sets if features to be used to characterize texts will be:Unigrams or words (n-gram size = 1)Bigrams or terms compounded by two words (n-gram size = 2)Trigrams or terms compounded by up to three words (n-gram size = 3)\n",
        "I should select between them depend on problem like :Sentiment Analysis, setting n-gram ranges that use bigrams or trigrams can dramatically improve the accuracy of classification,as they can capture more complex expressions formed by the composition of morethan one word. The rationale is that in Sentiment Analysis the outcome dependsnot only on the frequency of words but also on how they are combined:good has a different meaning alone than when preceded by a not as in not good.\n",
        "\n",
        "2\n",
        "\n",
        "TfidfVectorizer and CountVectorizer both are methods for converting text data into vectors as model can process only numerical data.\n",
        "\n",
        "In CountVectorizer we only count the number of times a word appears in the document which results in biasing in favour of most frequent words. this ends up in ignoring rare words which could have helped is in processing our data more efficiently.\n",
        "\n",
        "In TfidfVectorizer we consider overall document weightage of a word. It helps us in dealing with most frequent words. Using it we can penalize them. TfidfVectorizer weights the word counts by a measure of how often they appear in the documents.\n",
        "\n"
      ],
      "metadata": {
        "id": "vNZaS3oLfohU"
      }
    }
  ]
}