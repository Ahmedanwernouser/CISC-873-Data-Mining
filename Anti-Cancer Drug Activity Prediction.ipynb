{
  "nbformat": 4,
  "nbformat_minor": 0,
  "metadata": {
    "colab": {
      "name": "Comp 6.ipynb",
      "provenance": [],
      "collapsed_sections": [],
      "toc_visible": true
    },
    "kernelspec": {
      "name": "python3",
      "display_name": "Python 3"
    },
    "language_info": {
      "name": "python"
    },
    "widgets": {
      "application/vnd.jupyter.widget-state+json": {
        "83ff2813472948b58fbcd0c62a7c66d5": {
          "model_module": "@jupyter-widgets/controls",
          "model_name": "HBoxModel",
          "model_module_version": "1.5.0",
          "state": {
            "_dom_classes": [],
            "_model_module": "@jupyter-widgets/controls",
            "_model_module_version": "1.5.0",
            "_model_name": "HBoxModel",
            "_view_count": null,
            "_view_module": "@jupyter-widgets/controls",
            "_view_module_version": "1.5.0",
            "_view_name": "HBoxView",
            "box_style": "",
            "children": [
              "IPY_MODEL_7c9204e91ed346f3bca9eac3ae399524",
              "IPY_MODEL_1e639d34a359411899773382d4e25947",
              "IPY_MODEL_6a0f6bba16ae4f478a2a2646c399c9dc"
            ],
            "layout": "IPY_MODEL_b373fb85fc424284a3c4dbc6367a4b11"
          }
        },
        "7c9204e91ed346f3bca9eac3ae399524": {
          "model_module": "@jupyter-widgets/controls",
          "model_name": "HTMLModel",
          "model_module_version": "1.5.0",
          "state": {
            "_dom_classes": [],
            "_model_module": "@jupyter-widgets/controls",
            "_model_module_version": "1.5.0",
            "_model_name": "HTMLModel",
            "_view_count": null,
            "_view_module": "@jupyter-widgets/controls",
            "_view_module_version": "1.5.0",
            "_view_name": "HTMLView",
            "description": "",
            "description_tooltip": null,
            "layout": "IPY_MODEL_e0b765041c134cb5b53b65607cb40d72",
            "placeholder": "​",
            "style": "IPY_MODEL_c997e70278b04e38b108663324baccc4",
            "value": "100%"
          }
        },
        "1e639d34a359411899773382d4e25947": {
          "model_module": "@jupyter-widgets/controls",
          "model_name": "FloatProgressModel",
          "model_module_version": "1.5.0",
          "state": {
            "_dom_classes": [],
            "_model_module": "@jupyter-widgets/controls",
            "_model_module_version": "1.5.0",
            "_model_name": "FloatProgressModel",
            "_view_count": null,
            "_view_module": "@jupyter-widgets/controls",
            "_view_module_version": "1.5.0",
            "_view_name": "ProgressView",
            "bar_style": "success",
            "description": "",
            "description_tooltip": null,
            "layout": "IPY_MODEL_d3ea6edb778a4bd0a798b5ae09748d6e",
            "max": 25024,
            "min": 0,
            "orientation": "horizontal",
            "style": "IPY_MODEL_71030cfd916148aba3fecbc483af225e",
            "value": 25024
          }
        },
        "6a0f6bba16ae4f478a2a2646c399c9dc": {
          "model_module": "@jupyter-widgets/controls",
          "model_name": "HTMLModel",
          "model_module_version": "1.5.0",
          "state": {
            "_dom_classes": [],
            "_model_module": "@jupyter-widgets/controls",
            "_model_module_version": "1.5.0",
            "_model_name": "HTMLModel",
            "_view_count": null,
            "_view_module": "@jupyter-widgets/controls",
            "_view_module_version": "1.5.0",
            "_view_name": "HTMLView",
            "description": "",
            "description_tooltip": null,
            "layout": "IPY_MODEL_93598c38c4b8469d8583da2bf8cb3389",
            "placeholder": "​",
            "style": "IPY_MODEL_51a2a76a6da640d5961ff7e1f7bba964",
            "value": " 25024/25024 [00:03&lt;00:00, 8577.06it/s]"
          }
        },
        "b373fb85fc424284a3c4dbc6367a4b11": {
          "model_module": "@jupyter-widgets/base",
          "model_name": "LayoutModel",
          "model_module_version": "1.2.0",
          "state": {
            "_model_module": "@jupyter-widgets/base",
            "_model_module_version": "1.2.0",
            "_model_name": "LayoutModel",
            "_view_count": null,
            "_view_module": "@jupyter-widgets/base",
            "_view_module_version": "1.2.0",
            "_view_name": "LayoutView",
            "align_content": null,
            "align_items": null,
            "align_self": null,
            "border": null,
            "bottom": null,
            "display": null,
            "flex": null,
            "flex_flow": null,
            "grid_area": null,
            "grid_auto_columns": null,
            "grid_auto_flow": null,
            "grid_auto_rows": null,
            "grid_column": null,
            "grid_gap": null,
            "grid_row": null,
            "grid_template_areas": null,
            "grid_template_columns": null,
            "grid_template_rows": null,
            "height": null,
            "justify_content": null,
            "justify_items": null,
            "left": null,
            "margin": null,
            "max_height": null,
            "max_width": null,
            "min_height": null,
            "min_width": null,
            "object_fit": null,
            "object_position": null,
            "order": null,
            "overflow": null,
            "overflow_x": null,
            "overflow_y": null,
            "padding": null,
            "right": null,
            "top": null,
            "visibility": null,
            "width": null
          }
        },
        "e0b765041c134cb5b53b65607cb40d72": {
          "model_module": "@jupyter-widgets/base",
          "model_name": "LayoutModel",
          "model_module_version": "1.2.0",
          "state": {
            "_model_module": "@jupyter-widgets/base",
            "_model_module_version": "1.2.0",
            "_model_name": "LayoutModel",
            "_view_count": null,
            "_view_module": "@jupyter-widgets/base",
            "_view_module_version": "1.2.0",
            "_view_name": "LayoutView",
            "align_content": null,
            "align_items": null,
            "align_self": null,
            "border": null,
            "bottom": null,
            "display": null,
            "flex": null,
            "flex_flow": null,
            "grid_area": null,
            "grid_auto_columns": null,
            "grid_auto_flow": null,
            "grid_auto_rows": null,
            "grid_column": null,
            "grid_gap": null,
            "grid_row": null,
            "grid_template_areas": null,
            "grid_template_columns": null,
            "grid_template_rows": null,
            "height": null,
            "justify_content": null,
            "justify_items": null,
            "left": null,
            "margin": null,
            "max_height": null,
            "max_width": null,
            "min_height": null,
            "min_width": null,
            "object_fit": null,
            "object_position": null,
            "order": null,
            "overflow": null,
            "overflow_x": null,
            "overflow_y": null,
            "padding": null,
            "right": null,
            "top": null,
            "visibility": null,
            "width": null
          }
        },
        "c997e70278b04e38b108663324baccc4": {
          "model_module": "@jupyter-widgets/controls",
          "model_name": "DescriptionStyleModel",
          "model_module_version": "1.5.0",
          "state": {
            "_model_module": "@jupyter-widgets/controls",
            "_model_module_version": "1.5.0",
            "_model_name": "DescriptionStyleModel",
            "_view_count": null,
            "_view_module": "@jupyter-widgets/base",
            "_view_module_version": "1.2.0",
            "_view_name": "StyleView",
            "description_width": ""
          }
        },
        "d3ea6edb778a4bd0a798b5ae09748d6e": {
          "model_module": "@jupyter-widgets/base",
          "model_name": "LayoutModel",
          "model_module_version": "1.2.0",
          "state": {
            "_model_module": "@jupyter-widgets/base",
            "_model_module_version": "1.2.0",
            "_model_name": "LayoutModel",
            "_view_count": null,
            "_view_module": "@jupyter-widgets/base",
            "_view_module_version": "1.2.0",
            "_view_name": "LayoutView",
            "align_content": null,
            "align_items": null,
            "align_self": null,
            "border": null,
            "bottom": null,
            "display": null,
            "flex": null,
            "flex_flow": null,
            "grid_area": null,
            "grid_auto_columns": null,
            "grid_auto_flow": null,
            "grid_auto_rows": null,
            "grid_column": null,
            "grid_gap": null,
            "grid_row": null,
            "grid_template_areas": null,
            "grid_template_columns": null,
            "grid_template_rows": null,
            "height": null,
            "justify_content": null,
            "justify_items": null,
            "left": null,
            "margin": null,
            "max_height": null,
            "max_width": null,
            "min_height": null,
            "min_width": null,
            "object_fit": null,
            "object_position": null,
            "order": null,
            "overflow": null,
            "overflow_x": null,
            "overflow_y": null,
            "padding": null,
            "right": null,
            "top": null,
            "visibility": null,
            "width": null
          }
        },
        "71030cfd916148aba3fecbc483af225e": {
          "model_module": "@jupyter-widgets/controls",
          "model_name": "ProgressStyleModel",
          "model_module_version": "1.5.0",
          "state": {
            "_model_module": "@jupyter-widgets/controls",
            "_model_module_version": "1.5.0",
            "_model_name": "ProgressStyleModel",
            "_view_count": null,
            "_view_module": "@jupyter-widgets/base",
            "_view_module_version": "1.2.0",
            "_view_name": "StyleView",
            "bar_color": null,
            "description_width": ""
          }
        },
        "93598c38c4b8469d8583da2bf8cb3389": {
          "model_module": "@jupyter-widgets/base",
          "model_name": "LayoutModel",
          "model_module_version": "1.2.0",
          "state": {
            "_model_module": "@jupyter-widgets/base",
            "_model_module_version": "1.2.0",
            "_model_name": "LayoutModel",
            "_view_count": null,
            "_view_module": "@jupyter-widgets/base",
            "_view_module_version": "1.2.0",
            "_view_name": "LayoutView",
            "align_content": null,
            "align_items": null,
            "align_self": null,
            "border": null,
            "bottom": null,
            "display": null,
            "flex": null,
            "flex_flow": null,
            "grid_area": null,
            "grid_auto_columns": null,
            "grid_auto_flow": null,
            "grid_auto_rows": null,
            "grid_column": null,
            "grid_gap": null,
            "grid_row": null,
            "grid_template_areas": null,
            "grid_template_columns": null,
            "grid_template_rows": null,
            "height": null,
            "justify_content": null,
            "justify_items": null,
            "left": null,
            "margin": null,
            "max_height": null,
            "max_width": null,
            "min_height": null,
            "min_width": null,
            "object_fit": null,
            "object_position": null,
            "order": null,
            "overflow": null,
            "overflow_x": null,
            "overflow_y": null,
            "padding": null,
            "right": null,
            "top": null,
            "visibility": null,
            "width": null
          }
        },
        "51a2a76a6da640d5961ff7e1f7bba964": {
          "model_module": "@jupyter-widgets/controls",
          "model_name": "DescriptionStyleModel",
          "model_module_version": "1.5.0",
          "state": {
            "_model_module": "@jupyter-widgets/controls",
            "_model_module_version": "1.5.0",
            "_model_name": "DescriptionStyleModel",
            "_view_count": null,
            "_view_module": "@jupyter-widgets/base",
            "_view_module_version": "1.2.0",
            "_view_name": "StyleView",
            "description_width": ""
          }
        },
        "5617cbe9114e44ec96f7d648f443247f": {
          "model_module": "@jupyter-widgets/controls",
          "model_name": "HBoxModel",
          "model_module_version": "1.5.0",
          "state": {
            "_dom_classes": [],
            "_model_module": "@jupyter-widgets/controls",
            "_model_module_version": "1.5.0",
            "_model_name": "HBoxModel",
            "_view_count": null,
            "_view_module": "@jupyter-widgets/controls",
            "_view_module_version": "1.5.0",
            "_view_name": "HBoxView",
            "box_style": "",
            "children": [
              "IPY_MODEL_1aa91a27760648948e1905ddb20a501a",
              "IPY_MODEL_76eec844c64f44bbb3267d308e835c5b",
              "IPY_MODEL_5db8c2ea3bac4b80a9a81c97e8f574de"
            ],
            "layout": "IPY_MODEL_354a9f57e3d04d289047e9bb907d6be6"
          }
        },
        "1aa91a27760648948e1905ddb20a501a": {
          "model_module": "@jupyter-widgets/controls",
          "model_name": "HTMLModel",
          "model_module_version": "1.5.0",
          "state": {
            "_dom_classes": [],
            "_model_module": "@jupyter-widgets/controls",
            "_model_module_version": "1.5.0",
            "_model_name": "HTMLModel",
            "_view_count": null,
            "_view_module": "@jupyter-widgets/controls",
            "_view_module_version": "1.5.0",
            "_view_name": "HTMLView",
            "description": "",
            "description_tooltip": null,
            "layout": "IPY_MODEL_aa4c46c95fc84125abf54fa20d87881b",
            "placeholder": "​",
            "style": "IPY_MODEL_fd0aa23ff3f545f79859baed1d7ea376",
            "value": "100%"
          }
        },
        "76eec844c64f44bbb3267d308e835c5b": {
          "model_module": "@jupyter-widgets/controls",
          "model_name": "FloatProgressModel",
          "model_module_version": "1.5.0",
          "state": {
            "_dom_classes": [],
            "_model_module": "@jupyter-widgets/controls",
            "_model_module_version": "1.5.0",
            "_model_name": "FloatProgressModel",
            "_view_count": null,
            "_view_module": "@jupyter-widgets/controls",
            "_view_module_version": "1.5.0",
            "_view_name": "ProgressView",
            "bar_style": "success",
            "description": "",
            "description_tooltip": null,
            "layout": "IPY_MODEL_b312163a9a0e45a3ac2b886afee55845",
            "max": 12326,
            "min": 0,
            "orientation": "horizontal",
            "style": "IPY_MODEL_0545f4d272e04e83989a1d44fdc83205",
            "value": 12326
          }
        },
        "5db8c2ea3bac4b80a9a81c97e8f574de": {
          "model_module": "@jupyter-widgets/controls",
          "model_name": "HTMLModel",
          "model_module_version": "1.5.0",
          "state": {
            "_dom_classes": [],
            "_model_module": "@jupyter-widgets/controls",
            "_model_module_version": "1.5.0",
            "_model_name": "HTMLModel",
            "_view_count": null,
            "_view_module": "@jupyter-widgets/controls",
            "_view_module_version": "1.5.0",
            "_view_name": "HTMLView",
            "description": "",
            "description_tooltip": null,
            "layout": "IPY_MODEL_62db58d24b794eaabc9edc0566464813",
            "placeholder": "​",
            "style": "IPY_MODEL_cbce2e88c4ed4816b96a7cd61081dae3",
            "value": " 12326/12326 [00:01&lt;00:00, 8147.83it/s]"
          }
        },
        "354a9f57e3d04d289047e9bb907d6be6": {
          "model_module": "@jupyter-widgets/base",
          "model_name": "LayoutModel",
          "model_module_version": "1.2.0",
          "state": {
            "_model_module": "@jupyter-widgets/base",
            "_model_module_version": "1.2.0",
            "_model_name": "LayoutModel",
            "_view_count": null,
            "_view_module": "@jupyter-widgets/base",
            "_view_module_version": "1.2.0",
            "_view_name": "LayoutView",
            "align_content": null,
            "align_items": null,
            "align_self": null,
            "border": null,
            "bottom": null,
            "display": null,
            "flex": null,
            "flex_flow": null,
            "grid_area": null,
            "grid_auto_columns": null,
            "grid_auto_flow": null,
            "grid_auto_rows": null,
            "grid_column": null,
            "grid_gap": null,
            "grid_row": null,
            "grid_template_areas": null,
            "grid_template_columns": null,
            "grid_template_rows": null,
            "height": null,
            "justify_content": null,
            "justify_items": null,
            "left": null,
            "margin": null,
            "max_height": null,
            "max_width": null,
            "min_height": null,
            "min_width": null,
            "object_fit": null,
            "object_position": null,
            "order": null,
            "overflow": null,
            "overflow_x": null,
            "overflow_y": null,
            "padding": null,
            "right": null,
            "top": null,
            "visibility": null,
            "width": null
          }
        },
        "aa4c46c95fc84125abf54fa20d87881b": {
          "model_module": "@jupyter-widgets/base",
          "model_name": "LayoutModel",
          "model_module_version": "1.2.0",
          "state": {
            "_model_module": "@jupyter-widgets/base",
            "_model_module_version": "1.2.0",
            "_model_name": "LayoutModel",
            "_view_count": null,
            "_view_module": "@jupyter-widgets/base",
            "_view_module_version": "1.2.0",
            "_view_name": "LayoutView",
            "align_content": null,
            "align_items": null,
            "align_self": null,
            "border": null,
            "bottom": null,
            "display": null,
            "flex": null,
            "flex_flow": null,
            "grid_area": null,
            "grid_auto_columns": null,
            "grid_auto_flow": null,
            "grid_auto_rows": null,
            "grid_column": null,
            "grid_gap": null,
            "grid_row": null,
            "grid_template_areas": null,
            "grid_template_columns": null,
            "grid_template_rows": null,
            "height": null,
            "justify_content": null,
            "justify_items": null,
            "left": null,
            "margin": null,
            "max_height": null,
            "max_width": null,
            "min_height": null,
            "min_width": null,
            "object_fit": null,
            "object_position": null,
            "order": null,
            "overflow": null,
            "overflow_x": null,
            "overflow_y": null,
            "padding": null,
            "right": null,
            "top": null,
            "visibility": null,
            "width": null
          }
        },
        "fd0aa23ff3f545f79859baed1d7ea376": {
          "model_module": "@jupyter-widgets/controls",
          "model_name": "DescriptionStyleModel",
          "model_module_version": "1.5.0",
          "state": {
            "_model_module": "@jupyter-widgets/controls",
            "_model_module_version": "1.5.0",
            "_model_name": "DescriptionStyleModel",
            "_view_count": null,
            "_view_module": "@jupyter-widgets/base",
            "_view_module_version": "1.2.0",
            "_view_name": "StyleView",
            "description_width": ""
          }
        },
        "b312163a9a0e45a3ac2b886afee55845": {
          "model_module": "@jupyter-widgets/base",
          "model_name": "LayoutModel",
          "model_module_version": "1.2.0",
          "state": {
            "_model_module": "@jupyter-widgets/base",
            "_model_module_version": "1.2.0",
            "_model_name": "LayoutModel",
            "_view_count": null,
            "_view_module": "@jupyter-widgets/base",
            "_view_module_version": "1.2.0",
            "_view_name": "LayoutView",
            "align_content": null,
            "align_items": null,
            "align_self": null,
            "border": null,
            "bottom": null,
            "display": null,
            "flex": null,
            "flex_flow": null,
            "grid_area": null,
            "grid_auto_columns": null,
            "grid_auto_flow": null,
            "grid_auto_rows": null,
            "grid_column": null,
            "grid_gap": null,
            "grid_row": null,
            "grid_template_areas": null,
            "grid_template_columns": null,
            "grid_template_rows": null,
            "height": null,
            "justify_content": null,
            "justify_items": null,
            "left": null,
            "margin": null,
            "max_height": null,
            "max_width": null,
            "min_height": null,
            "min_width": null,
            "object_fit": null,
            "object_position": null,
            "order": null,
            "overflow": null,
            "overflow_x": null,
            "overflow_y": null,
            "padding": null,
            "right": null,
            "top": null,
            "visibility": null,
            "width": null
          }
        },
        "0545f4d272e04e83989a1d44fdc83205": {
          "model_module": "@jupyter-widgets/controls",
          "model_name": "ProgressStyleModel",
          "model_module_version": "1.5.0",
          "state": {
            "_model_module": "@jupyter-widgets/controls",
            "_model_module_version": "1.5.0",
            "_model_name": "ProgressStyleModel",
            "_view_count": null,
            "_view_module": "@jupyter-widgets/base",
            "_view_module_version": "1.2.0",
            "_view_name": "StyleView",
            "bar_color": null,
            "description_width": ""
          }
        },
        "62db58d24b794eaabc9edc0566464813": {
          "model_module": "@jupyter-widgets/base",
          "model_name": "LayoutModel",
          "model_module_version": "1.2.0",
          "state": {
            "_model_module": "@jupyter-widgets/base",
            "_model_module_version": "1.2.0",
            "_model_name": "LayoutModel",
            "_view_count": null,
            "_view_module": "@jupyter-widgets/base",
            "_view_module_version": "1.2.0",
            "_view_name": "LayoutView",
            "align_content": null,
            "align_items": null,
            "align_self": null,
            "border": null,
            "bottom": null,
            "display": null,
            "flex": null,
            "flex_flow": null,
            "grid_area": null,
            "grid_auto_columns": null,
            "grid_auto_flow": null,
            "grid_auto_rows": null,
            "grid_column": null,
            "grid_gap": null,
            "grid_row": null,
            "grid_template_areas": null,
            "grid_template_columns": null,
            "grid_template_rows": null,
            "height": null,
            "justify_content": null,
            "justify_items": null,
            "left": null,
            "margin": null,
            "max_height": null,
            "max_width": null,
            "min_height": null,
            "min_width": null,
            "object_fit": null,
            "object_position": null,
            "order": null,
            "overflow": null,
            "overflow_x": null,
            "overflow_y": null,
            "padding": null,
            "right": null,
            "top": null,
            "visibility": null,
            "width": null
          }
        },
        "cbce2e88c4ed4816b96a7cd61081dae3": {
          "model_module": "@jupyter-widgets/controls",
          "model_name": "DescriptionStyleModel",
          "model_module_version": "1.5.0",
          "state": {
            "_model_module": "@jupyter-widgets/controls",
            "_model_module_version": "1.5.0",
            "_model_name": "DescriptionStyleModel",
            "_view_count": null,
            "_view_module": "@jupyter-widgets/base",
            "_view_module_version": "1.2.0",
            "_view_name": "StyleView",
            "description_width": ""
          }
        }
      }
    }
  },
  "cells": [
    {
      "cell_type": "markdown",
      "source": [
        "# Problem Formulation"
      ],
      "metadata": {
        "id": "zyKTW6FNJSMI"
      }
    },
    {
      "cell_type": "markdown",
      "source": [
        "1 Define the problem  ?\n",
        "\n",
        "In this assignment, It is a binary classification problem based on the graph data. The task is to predict the anticancer activity of a chemical compound using the chemical structure of the compound. The chemical compound can be positive or negative against lung cancer cell and thus labelled as either 0 or 1."
      ],
      "metadata": {
        "id": "0fa1LZ6u0k2V"
      }
    },
    {
      "cell_type": "markdown",
      "source": [
        "2 What is the input ? \n",
        "\n",
        "The data is in the form of graph which represents the chemical structure of the compound. Each sample of data contains information about the atoms and the connections between atoms of the molecule. So in this problem the features are the atoms and connections."
      ],
      "metadata": {
        "id": "PCz-BkGw0oF-"
      }
    },
    {
      "cell_type": "markdown",
      "source": [
        "3 What is the output?\n",
        "\n",
        "we are going to predict if The chemical compound can be positive or negative against lung cancer cell and thus labelled as either 0 or 1.\n",
        "the probability of a chemical compound to be active for the cancer cell or not. The shape of pred is [batch_size,1]. Thus for each sample, the final output is a number which represents the probability associated with each chemical compound about its activity."
      ],
      "metadata": {
        "id": "nHwGfkgu0rXe"
      }
    },
    {
      "cell_type": "markdown",
      "source": [
        "4 What data mining function is required ?\n",
        "\n",
        "The model is classification model.\n",
        "  classification is the technique to categorize elements in a collection,basis their predefined functionalities and properties. In classification, the model can classify new instances whose classification is unknown.\n",
        "These particular instances that are used to create the model are called training data. Such a mechanism of classification uses methods like if-then,decision trees, neural networks, or even a set of classification rules These methods can be retrieved to identify future data."
      ],
      "metadata": {
        "id": "6sYq1OlC0vT2"
      }
    },
    {
      "cell_type": "markdown",
      "source": [
        "5 What could be the challenges ?\n",
        "\n",
        "The challenges that we have is to clean the data froma the noise in the dataset and preprocessing To convert the sdf data to the numeric form so that it can be trained on some model, t\n",
        "Ans: The input file is structure data file (SDF). It contains information about the chemical composition of a molecule. SDF file store information about position of individual atom in the chemical compound and also tells about the connections. Different molecules are delimited by '$$$$' expression.\n",
        "\n",
        "Each sample/molecule starts with header which tells about the name/title of the compound. Other sections includes information about Atom count, version number, connections etc. Atom block tells about the elements of the compound. Bond block block tells about the bonding structure of the compound. These both blocks are used in this assignment to get information about the compound and saving them in form of edges and nodes. Each node is the atom given in the chemical molecule"
      ],
      "metadata": {
        "id": "qqutNoyl0xyN"
      }
    },
    {
      "cell_type": "markdown",
      "source": [
        "6 What is the impact ?\n",
        "\n",
        "we are going to predict if The chemical compound can be positive or negative against lung cancer cell and thus labelled as either 0 or 1.\n",
        "It is a binary classification problem based on the graph data. The task is to predict the anticancer activity of a chemical compound using the chemical structure of the compound. The chemical compound can be positive or negative against lung cancer cell and thus labelled as either 0 or 1 \n",
        "\n",
        "the probability of a chemical compound to be active for the cancer cell or not. The shape of pred is [batch_size,1]. Thus for each sample, the final output is a number which represents the probability associated with each chemical compound about its activity."
      ],
      "metadata": {
        "id": "z5DRbxZZ00cl"
      }
    },
    {
      "cell_type": "markdown",
      "source": [
        "7 What is an ideal solution ?\n",
        "\n",
        "to my rate (aggreation method 2) after making appropriate preprocessing on the dataset to \n",
        "help the model to predict the right result after clean the data set and overcome our chalenges"
      ],
      "metadata": {
        "id": "ZAiDMq0-TSF1"
      }
    },
    {
      "cell_type": "markdown",
      "source": [
        "#Imports"
      ],
      "metadata": {
        "id": "DxzUJNMgiuOl"
      }
    },
    {
      "cell_type": "code",
      "execution_count": 1,
      "metadata": {
        "colab": {
          "base_uri": "https://localhost:8080/"
        },
        "id": "5__ehvsMS1Ic",
        "outputId": "2ffd9927-5767-43e8-ad39-3d87b781b1f8"
      },
      "outputs": [
        {
          "output_type": "stream",
          "name": "stdout",
          "text": [
            "Mounted at /content/drive\n"
          ]
        }
      ],
      "source": [
        "#Mounting google drive to import data\n",
        "from google.colab import drive\n",
        "drive.mount('/content/drive')"
      ]
    },
    {
      "cell_type": "code",
      "source": [
        "#importing libraries\n",
        "import numpy as np   \n",
        "from tqdm.notebook import tqdm"
      ],
      "metadata": {
        "id": "PHIG-iJtZUtJ"
      },
      "execution_count": 2,
      "outputs": []
    },
    {
      "cell_type": "code",
      "source": [
        "def read_sdf(file):\n",
        "    with open(file, 'r') as rf:   #opening the file in read mode\n",
        "        content = rf.read()       #reading the contents of the file\n",
        "    samples = content.split('$$$$') #splitting the read file by delimiter $$$$ thus splitting each molecule in an array\n",
        "    \n",
        "    #method to read each molecule configuration\n",
        "    #s represents one molecule\n",
        "    def parse_sample(s):\n",
        "        lines = s.splitlines()    #splitting the text data to lines\n",
        "        links = []                #empty array for links\n",
        "        nodes = []                #empty array for nodes\n",
        "        label = 0\n",
        "        for l in lines:           #loop over each line\n",
        "            if l.strip() == '1.0':   #\n",
        "                label = 1\n",
        "            if l.strip() == '-1.0':\n",
        "                label = 0\n",
        "            if l.startswith('    '):  #for Atom block  \n",
        "                feature = l.split()   #splitting line\n",
        "                node = feature[3]     #node feature (atom) as O,C etc.\n",
        "                nodes.append(node)    #appending nodes\n",
        "            elif l.startswith(' '):   #bond block tells about connections between atoms\n",
        "                lnk = l.split()       #splitting line\n",
        "                # edge: (from, to,) (1-based index)\n",
        "                if int(lnk[0]) - 1 < len(nodes):   #\n",
        "                    links.append((   #appending links\n",
        "                        int(lnk[0])-1,   #first atom\n",
        "                        int(lnk[1])-1, # zero-based index #second atom\n",
        "                        # int(lnk[2]) ignore edge weight\n",
        "                    ))\n",
        "        return nodes, np.array(links), label #returning nodes, links and label\n",
        "    \n",
        "    return [parse_sample(s) for s in tqdm(samples) if len(s[0]) > 0]  #parse_sample for each molecule"
      ],
      "metadata": {
        "id": "jjFarzEFZZTj"
      },
      "execution_count": 3,
      "outputs": []
    },
    {
      "cell_type": "markdown",
      "source": [
        "#import data"
      ],
      "metadata": {
        "id": "qwMd-1EbaXbI"
      }
    },
    {
      "cell_type": "code",
      "source": [
        "from sklearn.model_selection import train_test_split\n",
        "\n",
        "#reading train.sdf file\n",
        "training_set = read_sdf('/content/drive/MyDrive/train.sdf')\n",
        "\n",
        "#splitting the train data\n",
        "training_set, validation_set = train_test_split(training_set, test_size=0.15,)\n"
      ],
      "metadata": {
        "colab": {
          "base_uri": "https://localhost:8080/",
          "height": 49,
          "referenced_widgets": [
            "83ff2813472948b58fbcd0c62a7c66d5",
            "7c9204e91ed346f3bca9eac3ae399524",
            "1e639d34a359411899773382d4e25947",
            "6a0f6bba16ae4f478a2a2646c399c9dc",
            "b373fb85fc424284a3c4dbc6367a4b11",
            "e0b765041c134cb5b53b65607cb40d72",
            "c997e70278b04e38b108663324baccc4",
            "d3ea6edb778a4bd0a798b5ae09748d6e",
            "71030cfd916148aba3fecbc483af225e",
            "93598c38c4b8469d8583da2bf8cb3389",
            "51a2a76a6da640d5961ff7e1f7bba964"
          ]
        },
        "id": "bjVYh9WHZe_e",
        "outputId": "b26f78c7-24e3-41c5-a25e-aa3705f5ba4d"
      },
      "execution_count": 4,
      "outputs": [
        {
          "output_type": "display_data",
          "data": {
            "text/plain": [
              "  0%|          | 0/25024 [00:00<?, ?it/s]"
            ],
            "application/vnd.jupyter.widget-view+json": {
              "version_major": 2,
              "version_minor": 0,
              "model_id": "83ff2813472948b58fbcd0c62a7c66d5"
            }
          },
          "metadata": {}
        }
      ]
    },
    {
      "cell_type": "code",
      "source": [
        "testing_set  = read_sdf('/content/drive/MyDrive/test_x.sdf')"
      ],
      "metadata": {
        "colab": {
          "base_uri": "https://localhost:8080/",
          "height": 49,
          "referenced_widgets": [
            "5617cbe9114e44ec96f7d648f443247f",
            "1aa91a27760648948e1905ddb20a501a",
            "76eec844c64f44bbb3267d308e835c5b",
            "5db8c2ea3bac4b80a9a81c97e8f574de",
            "354a9f57e3d04d289047e9bb907d6be6",
            "aa4c46c95fc84125abf54fa20d87881b",
            "fd0aa23ff3f545f79859baed1d7ea376",
            "b312163a9a0e45a3ac2b886afee55845",
            "0545f4d272e04e83989a1d44fdc83205",
            "62db58d24b794eaabc9edc0566464813",
            "cbce2e88c4ed4816b96a7cd61081dae3"
          ]
        },
        "id": "dviRGDkUaWV3",
        "outputId": "5385fd66-c756-4a78-d21b-a470b56eacdf"
      },
      "execution_count": 5,
      "outputs": [
        {
          "output_type": "display_data",
          "data": {
            "text/plain": [
              "  0%|          | 0/12326 [00:00<?, ?it/s]"
            ],
            "application/vnd.jupyter.widget-view+json": {
              "version_major": 2,
              "version_minor": 0,
              "model_id": "5617cbe9114e44ec96f7d648f443247f"
            }
          },
          "metadata": {}
        }
      ]
    },
    {
      "cell_type": "code",
      "source": [
        "!pip install --quiet networkx\n",
        "import networkx as nx\n",
        "import matplotlib.pyplot as plt\n",
        "from matplotlib import cm\n",
        "colors = cm.rainbow(np.linspace(0, 1, 50))"
      ],
      "metadata": {
        "id": "W0HxqWe2bDQi"
      },
      "execution_count": 6,
      "outputs": []
    },
    {
      "cell_type": "markdown",
      "source": [
        "#data Visualizing"
      ],
      "metadata": {
        "id": "RMd0AlQ4baDQ"
      }
    },
    {
      "cell_type": "code",
      "source": [
        "#method to visualize the compound graph\n",
        "\n",
        "\n",
        "def visualize(sample):\n",
        "    G=nx.Graph() #initiating an instance of Graph\n",
        "    nodes = sample[0] #atoms as nodes\n",
        "    edges = sample[1] #connections as edges\n",
        "    \n",
        "    labeldict={} #empty dictionary for labels for the nodes\n",
        "    node_color=[] #empty array for each node color\n",
        "    for i,n in enumerate(nodes): #for each node in the sample\n",
        "        G.add_node(i)   #adding node to the graph each node as (0,1,2,3..)\n",
        "        labeldict[i]=n  #dictionary building with [key,value] as [0:'C']\n",
        "        #print(i)\n",
        "        #print(n)\n",
        "        node_color.append(colors[hash(n)%len(colors)]) #color coding\n",
        "\n",
        "    # a list of nodes:\n",
        "    for e in edges: #for each edge\n",
        "        G.add_edge(e[0], e[1]) #adding egde to the graph from one connection to other connection\n",
        "\n",
        "    #drawing the graph with labels for nodes as atoms and connections as edges    \n",
        "    nx.draw(G, labels=labeldict, with_labels = True, node_color = node_color)\n",
        "    plt.show()\n",
        "    #returns graph\n",
        "    return G"
      ],
      "metadata": {
        "id": "1IO2qc_rbINr"
      },
      "execution_count": 7,
      "outputs": []
    },
    {
      "cell_type": "code",
      "source": [
        "print(training_set[1])"
      ],
      "metadata": {
        "colab": {
          "base_uri": "https://localhost:8080/"
        },
        "id": "0FOe_N0MoGNt",
        "outputId": "1eed2fcd-b88c-4dfd-8072-00a32ca95e55"
      },
      "execution_count": 51,
      "outputs": [
        {
          "output_type": "stream",
          "name": "stdout",
          "text": [
            "(['Cl', 'O', 'O', 'O', 'N', 'N', 'N', 'N', 'N', 'C', 'C', 'C', 'C', 'C', 'C', 'C', 'C', 'C', 'C', 'C', 'C', 'C', 'C', 'C', 'C', 'C', 'C', 'C', 'C', 'C', 'C', 'C', 'C'], array([[ 0, 15],\n",
            "       [ 1, 10],\n",
            "       [ 1, 14],\n",
            "       [ 2, 12],\n",
            "       [ 2, 19],\n",
            "       [ 3, 18],\n",
            "       [ 3, 20],\n",
            "       [ 4,  9],\n",
            "       [ 4, 10],\n",
            "       [ 4, 13],\n",
            "       [ 5, 11],\n",
            "       [ 5, 13],\n",
            "       [ 6,  9],\n",
            "       [ 6, 17],\n",
            "       [ 7, 15],\n",
            "       [ 7, 17],\n",
            "       [ 8, 17],\n",
            "       [ 9, 11],\n",
            "       [10, 16],\n",
            "       [11, 15],\n",
            "       [12, 14],\n",
            "       [12, 16],\n",
            "       [14, 18],\n",
            "       [19, 21],\n",
            "       [19, 22],\n",
            "       [20, 26],\n",
            "       [20, 27],\n",
            "       [21, 23],\n",
            "       [22, 24],\n",
            "       [23, 25],\n",
            "       [24, 25],\n",
            "       [25, 31],\n",
            "       [26, 29],\n",
            "       [27, 30],\n",
            "       [28, 29],\n",
            "       [28, 30],\n",
            "       [28, 32]]), 0)\n"
          ]
        }
      ]
    },
    {
      "cell_type": "code",
      "source": [
        "plt.clf()\n",
        "visualize(training_set[15])"
      ],
      "metadata": {
        "colab": {
          "base_uri": "https://localhost:8080/",
          "height": 336
        },
        "id": "mOpIhfFMbOiq",
        "outputId": "74d72d88-ffd1-42c8-d85d-a05dc3935fa3"
      },
      "execution_count": 8,
      "outputs": [
        {
          "output_type": "display_data",
          "data": {
            "text/plain": [
              "<Figure size 432x288 with 1 Axes>"
            ],
            "image/png": "[encoded data removed]"
          },
          "metadata": {}
        },
        {
          "output_type": "execute_result",
          "data": {
            "text/plain": [
              "<networkx.classes.graph.Graph at 0x7f1dd67ed950>"
            ]
          },
          "metadata": {},
          "execution_count": 8
        }
      ]
    },
    {
      "cell_type": "code",
      "source": [
        "plt.clf()\n",
        "visualize(training_set[20])"
      ],
      "metadata": {
        "colab": {
          "base_uri": "https://localhost:8080/",
          "height": 336
        },
        "id": "vQDsw6Lq-NpJ",
        "outputId": "102f7113-9e9d-4070-a8cb-cce98216fb74"
      },
      "execution_count": 9,
      "outputs": [
        {
          "output_type": "display_data",
          "data": {
            "text/plain": [
              "<Figure size 432x288 with 1 Axes>"
            ],
            "image/png": "[encoded data removed]"
          },
          "metadata": {}
        },
        {
          "output_type": "execute_result",
          "data": {
            "text/plain": [
              "<networkx.classes.graph.Graph at 0x7f1dd378f790>"
            ]
          },
          "metadata": {},
          "execution_count": 9
        }
      ]
    },
    {
      "cell_type": "code",
      "source": [
        "plt.clf()\n",
        "visualize(training_set[30])"
      ],
      "metadata": {
        "colab": {
          "base_uri": "https://localhost:8080/",
          "height": 336
        },
        "id": "fYmG89Ri-PQA",
        "outputId": "36bec08c-eea7-4a3d-c209-5d4b328bd17d"
      },
      "execution_count": 10,
      "outputs": [
        {
          "output_type": "display_data",
          "data": {
            "text/plain": [
              "<Figure size 432x288 with 1 Axes>"
            ],
            "image/png": "[encoded data removed]"
          },
          "metadata": {}
        },
        {
          "output_type": "execute_result",
          "data": {
            "text/plain": [
              "<networkx.classes.graph.Graph at 0x7f1dd6e34c10>"
            ]
          },
          "metadata": {},
          "execution_count": 10
        }
      ]
    },
    {
      "cell_type": "code",
      "source": [
        ""
      ],
      "metadata": {
        "id": "e3chdB2jEiB7"
      },
      "execution_count": 10,
      "outputs": []
    },
    {
      "cell_type": "markdown",
      "source": [
        "#Data handeling"
      ],
      "metadata": {
        "id": "kRmYtEA6bc61"
      }
    },
    {
      "cell_type": "code",
      "source": [
        "#checking training set\n",
        "labelss = []\n",
        "for sam in training_set:\n",
        "  labelss.append(sam[2])\n",
        "np.unique(labelss,return_counts=True)  "
      ],
      "metadata": {
        "colab": {
          "base_uri": "https://localhost:8080/"
        },
        "id": "0v0jT-zDbQ4W",
        "outputId": "fa98aae4-0869-4c0f-ebf0-b31bcdbdddbe"
      },
      "execution_count": 14,
      "outputs": [
        {
          "output_type": "execute_result",
          "data": {
            "text/plain": [
              "(array([0, 1]), array([20232,  1038]))"
            ]
          },
          "metadata": {},
          "execution_count": 14
        }
      ]
    },
    {
      "cell_type": "code",
      "source": [
        "#checking testing set\n",
        "labelss = []\n",
        "for sam in testing_set:\n",
        "  labelss.append(sam[2])\n",
        "np.unique(labelss,return_counts=True)"
      ],
      "metadata": {
        "colab": {
          "base_uri": "https://localhost:8080/"
        },
        "id": "DMdrdsWYbkZi",
        "outputId": "d080af98-ca02-4d3c-8ede-8860fb68f1fb"
      },
      "execution_count": 15,
      "outputs": [
        {
          "output_type": "execute_result",
          "data": {
            "text/plain": [
              "(array([0]), array([12326]))"
            ]
          },
          "metadata": {},
          "execution_count": 15
        }
      ]
    },
    {
      "cell_type": "code",
      "source": [
        "#Import Tokenizer  \n",
        "from tensorflow.keras.preprocessing.text import Tokenizer\n",
        "\n",
        "#vocabulary size\n",
        "max_vocab = 500\n",
        "max_len = 100 # maximum length of the tokenized vector\n",
        "\n",
        "\n",
        "# build vocabulary from training set only for nodes characters\n",
        "all_nodes = [s[0] for s in training_set]\n",
        "\n",
        "#training tokenizer\n",
        "tokenizer = Tokenizer(num_words=max_vocab)\n",
        "tokenizer.fit_on_texts(all_nodes)"
      ],
      "metadata": {
        "id": "k82dtj-dbyy_"
      },
      "execution_count": 16,
      "outputs": []
    },
    {
      "cell_type": "code",
      "source": [
        "from tensorflow.keras.preprocessing.sequence import pad_sequences\n",
        "import random\n",
        "random.seed(0) #random seed\n",
        "\n",
        "\n",
        "\n",
        "def prepare_single_batch(samples):\n",
        "    sample_nodes = [s[0] for s in samples]                      #nodes characters array\n",
        "    sample_nodes = tokenizer.texts_to_sequences(sample_nodes)   #tokenizing the sample nodes\n",
        "    sample_nodes = pad_sequences(sample_nodes, padding='post')  #pad_sequences for each sample node with post padding\n",
        "    max_nodes_len = np.shape(sample_nodes)[1]                   #maximum length of nodes \n",
        "    edges = [s[1]+i*max_nodes_len for i,s in enumerate(samples)] #defining edges\n",
        "    edges = [e for e in edges if len(e) > 0]\n",
        "\n",
        "     \n",
        "    node_to_graph = [[i]*max_nodes_len for i in range(len(samples))]  #array definition for segmented_ids\n",
        "    \n",
        "    all_nodes = np.reshape(sample_nodes, -1)  #reshaping as 1 vector\n",
        "    all_edges = np.concatenate(edges)         #concatenating all the edges as size [total_edges ,2]\n",
        "\n",
        "    node_to_graph = np.reshape(node_to_graph, -1)\n",
        "    #returns a dictionary of features(data,edges,node2grah) and label\n",
        "    return {\n",
        "        'data': all_nodes,\n",
        "        'edges': all_edges,\n",
        "        'node2grah': node_to_graph,\n",
        "    }, np.array([s[2] for s in samples]) \n",
        "\n",
        "\n",
        "#generating batch with given btch_size\n",
        "def gen_batch(dataset, batch_size=16, repeat=False, shuffle=True):\n",
        "    while True:                 #infinity loop\n",
        "        dataset = list(dataset) #data in the array\n",
        "        if shuffle:             # if shuffle is True\n",
        "            random.shuffle(dataset) #randomly shuffling\n",
        "        l = len(dataset)  #length of dataset\n",
        "        for ndx in range(0, l, batch_size):  #loop for  creating batches from given dataset\n",
        "            batch_samples = dataset[ndx:min(ndx + batch_size, l)] #creating batch samples with given batch_size\n",
        "            yield prepare_single_batch(batch_samples)   #returning a generator with prepared batches\n",
        "        if not repeat:  #breaking loop if repeat is false\n",
        "            break"
      ],
      "metadata": {
        "id": "ZRtY9BiFcBVi"
      },
      "execution_count": 17,
      "outputs": []
    },
    {
      "cell_type": "code",
      "source": [
        "# showing one batch:\n",
        "for train_batch in gen_batch(training_set, batch_size=10):\n",
        "    for k,v in train_batch[0].items():\n",
        "        print(k)        \n",
        "        print(v)\n",
        "        print(\"Shape is \"+str(np.shape(v)))\n",
        "        pass\n",
        "    print('label', train_batch[1])\n",
        "    break"
      ],
      "metadata": {
        "colab": {
          "base_uri": "https://localhost:8080/"
        },
        "id": "OPqAP59WcHjB",
        "outputId": "6c789c8d-cb93-4c39-8248-75895b1ef41e"
      },
      "execution_count": 18,
      "outputs": [
        {
          "output_type": "stream",
          "name": "stdout",
          "text": [
            "data\n",
            "[4 2 2 2 2 3 1 1 1 1 1 1 1 1 1 1 1 1 0 0 0 0 0 0 0 0 0 0 0 0 0 0 5 2 3 3 1\n",
            " 1 1 1 1 1 1 1 1 1 1 1 1 1 1 0 0 0 0 0 0 0 0 0 0 0 0 0 3 3 3 3 3 3 1 1 1 1\n",
            " 1 1 1 1 0 0 0 0 0 0 0 0 0 0 0 0 0 0 0 0 0 0 2 2 2 2 3 3 3 3 3 1 1 1 1 1 1\n",
            " 1 1 1 1 1 1 1 1 1 1 0 0 0 0 0 0 0 2 2 3 3 3 3 3 1 1 1 1 1 1 1 1 1 0 0 0 0\n",
            " 0 0 0 0 0 0 0 0 0 0 0 0 4 2 3 3 1 1 1 1 1 1 1 1 1 1 1 1 1 1 1 1 0 0 0 0 0\n",
            " 0 0 0 0 0 0 0 4 2 2 2 2 2 3 3 3 3 1 1 1 1 1 1 1 1 1 1 1 1 1 1 0 0 0 0 0 0\n",
            " 0 0 2 2 2 3 1 1 1 1 1 1 1 1 1 1 1 1 1 1 0 0 0 0 0 0 0 0 0 0 0 0 0 0 5 2 2\n",
            " 2 2 3 3 3 3 1 1 1 1 1 1 1 1 1 1 1 1 1 1 1 1 1 1 1 1 1 1 1 6 6 6 2 2 2 2 3\n",
            " 1 1 1 1 1 1 1 1 1 1 1 1 1 1 1 1 1 1 0 0 0 0 0 0]\n",
            "Shape is (320,)\n",
            "edges\n",
            "[[  0   1]\n",
            " [  0   2]\n",
            " [  0   5]\n",
            " [  0   6]\n",
            " [  3  10]\n",
            " [  4  10]\n",
            " [  5   7]\n",
            " [  6   8]\n",
            " [  6   9]\n",
            " [  7  10]\n",
            " [  7  11]\n",
            " [  8  13]\n",
            " [  9  14]\n",
            " [ 11  15]\n",
            " [ 11  16]\n",
            " [ 12  13]\n",
            " [ 12  14]\n",
            " [ 12  17]\n",
            " [ 32  42]\n",
            " [ 33  38]\n",
            " [ 34  35]\n",
            " [ 34  38]\n",
            " [ 34  40]\n",
            " [ 35  36]\n",
            " [ 36  37]\n",
            " [ 36  43]\n",
            " [ 37  39]\n",
            " [ 37  44]\n",
            " [ 38  39]\n",
            " [ 40  41]\n",
            " [ 41  42]\n",
            " [ 41  45]\n",
            " [ 42  48]\n",
            " [ 43  46]\n",
            " [ 44  47]\n",
            " [ 45  49]\n",
            " [ 46  47]\n",
            " [ 48  50]\n",
            " [ 49  50]\n",
            " [ 64  66]\n",
            " [ 64  71]\n",
            " [ 64  74]\n",
            " [ 65  66]\n",
            " [ 65  70]\n",
            " [ 67  71]\n",
            " [ 67  73]\n",
            " [ 68  72]\n",
            " [ 68  73]\n",
            " [ 69  72]\n",
            " [ 69  75]\n",
            " [ 70  71]\n",
            " [ 70  72]\n",
            " [ 74  76]\n",
            " [ 75  77]\n",
            " [ 96 105]\n",
            " [ 97 114]\n",
            " [ 97 115]\n",
            " [ 98 111]\n",
            " [ 99 114]\n",
            " [100 105]\n",
            " [100 106]\n",
            " [100 108]\n",
            " [101 107]\n",
            " [101 114]\n",
            " [102 113]\n",
            " [102 117]\n",
            " [103 111]\n",
            " [104 116]\n",
            " [104 117]\n",
            " [105 107]\n",
            " [106 109]\n",
            " [106 111]\n",
            " [107 110]\n",
            " [108 112]\n",
            " [109 112]\n",
            " [110 113]\n",
            " [113 116]\n",
            " [115 118]\n",
            " [115 119]\n",
            " [115 120]\n",
            " [128 130]\n",
            " [129 142]\n",
            " [130 132]\n",
            " [130 135]\n",
            " [131 136]\n",
            " [131 139]\n",
            " [132 139]\n",
            " [133 138]\n",
            " [133 142]\n",
            " [134 139]\n",
            " [135 136]\n",
            " [135 137]\n",
            " [136 140]\n",
            " [137 138]\n",
            " [138 141]\n",
            " [140 141]\n",
            " [142 143]\n",
            " [160 166]\n",
            " [160 172]\n",
            " [161 164]\n",
            " [162 164]\n",
            " [162 166]\n",
            " [162 168]\n",
            " [163 165]\n",
            " [163 166]\n",
            " [164 165]\n",
            " [165 167]\n",
            " [167 169]\n",
            " [168 173]\n",
            " [169 170]\n",
            " [169 171]\n",
            " [170 174]\n",
            " [171 175]\n",
            " [172 177]\n",
            " [173 178]\n",
            " [174 176]\n",
            " [175 176]\n",
            " [177 179]\n",
            " [192 193]\n",
            " [192 194]\n",
            " [192 198]\n",
            " [192 202]\n",
            " [195 203]\n",
            " [196 212]\n",
            " [197 212]\n",
            " [198 203]\n",
            " [199 203]\n",
            " [204 199]\n",
            " [200 211]\n",
            " [200 214]\n",
            " [201 213]\n",
            " [201 214]\n",
            " [202 205]\n",
            " [202 206]\n",
            " [204 207]\n",
            " [204 212]\n",
            " [205 209]\n",
            " [206 210]\n",
            " [207 211]\n",
            " [208 209]\n",
            " [208 210]\n",
            " [208 215]\n",
            " [211 213]\n",
            " [224 229]\n",
            " [224 238]\n",
            " [225 232]\n",
            " [225 240]\n",
            " [226 235]\n",
            " [226 241]\n",
            " [227 230]\n",
            " [227 233]\n",
            " [228 229]\n",
            " [228 230]\n",
            " [228 234]\n",
            " [229 231]\n",
            " [230 232]\n",
            " [231 233]\n",
            " [231 237]\n",
            " [232 236]\n",
            " [233 239]\n",
            " [234 235]\n",
            " [235 236]\n",
            " [237 238]\n",
            " [256 279]\n",
            " [257 272]\n",
            " [257 281]\n",
            " [258 273]\n",
            " [258 281]\n",
            " [259 267]\n",
            " [260 269]\n",
            " [261 265]\n",
            " [261 268]\n",
            " [262 269]\n",
            " [262 271]\n",
            " [263 264]\n",
            " [263 266]\n",
            " [264 282]\n",
            " [265 266]\n",
            " [265 269]\n",
            " [266 267]\n",
            " [267 270]\n",
            " [268 271]\n",
            " [268 277]\n",
            " [270 274]\n",
            " [270 275]\n",
            " [271 276]\n",
            " [272 273]\n",
            " [272 274]\n",
            " [273 278]\n",
            " [275 278]\n",
            " [276 279]\n",
            " [277 280]\n",
            " [279 280]\n",
            " [282 283]\n",
            " [282 284]\n",
            " [283 285]\n",
            " [284 286]\n",
            " [285 287]\n",
            " [286 287]\n",
            " [288 299]\n",
            " [289 299]\n",
            " [290 299]\n",
            " [291 297]\n",
            " [291 302]\n",
            " [292 305]\n",
            " [292 312]\n",
            " [293 305]\n",
            " [294 295]\n",
            " [294 313]\n",
            " [295 301]\n",
            " [296 297]\n",
            " [296 299]\n",
            " [296 303]\n",
            " [297 304]\n",
            " [298 300]\n",
            " [298 301]\n",
            " [298 306]\n",
            " [300 302]\n",
            " [300 307]\n",
            " [301 305]\n",
            " [303 308]\n",
            " [304 309]\n",
            " [306 310]\n",
            " [307 311]\n",
            " [308 309]\n",
            " [310 311]]\n",
            "Shape is (226, 2)\n",
            "node2grah\n",
            "[0 0 0 0 0 0 0 0 0 0 0 0 0 0 0 0 0 0 0 0 0 0 0 0 0 0 0 0 0 0 0 0 1 1 1 1 1\n",
            " 1 1 1 1 1 1 1 1 1 1 1 1 1 1 1 1 1 1 1 1 1 1 1 1 1 1 1 2 2 2 2 2 2 2 2 2 2\n",
            " 2 2 2 2 2 2 2 2 2 2 2 2 2 2 2 2 2 2 2 2 2 2 3 3 3 3 3 3 3 3 3 3 3 3 3 3 3\n",
            " 3 3 3 3 3 3 3 3 3 3 3 3 3 3 3 3 3 4 4 4 4 4 4 4 4 4 4 4 4 4 4 4 4 4 4 4 4\n",
            " 4 4 4 4 4 4 4 4 4 4 4 4 5 5 5 5 5 5 5 5 5 5 5 5 5 5 5 5 5 5 5 5 5 5 5 5 5\n",
            " 5 5 5 5 5 5 5 6 6 6 6 6 6 6 6 6 6 6 6 6 6 6 6 6 6 6 6 6 6 6 6 6 6 6 6 6 6\n",
            " 6 6 7 7 7 7 7 7 7 7 7 7 7 7 7 7 7 7 7 7 7 7 7 7 7 7 7 7 7 7 7 7 7 7 8 8 8\n",
            " 8 8 8 8 8 8 8 8 8 8 8 8 8 8 8 8 8 8 8 8 8 8 8 8 8 8 8 8 8 9 9 9 9 9 9 9 9\n",
            " 9 9 9 9 9 9 9 9 9 9 9 9 9 9 9 9 9 9 9 9 9 9 9 9]\n",
            "Shape is (320,)\n",
            "label [0 0 0 0 0 0 0 0 0 0]\n"
          ]
        }
      ]
    },
    {
      "cell_type": "code",
      "source": [
        "!pip install --quiet tf2_gnn\n",
        "from tf2_gnn.layers.gnn import GNN, GNNInput\n"
      ],
      "metadata": {
        "id": "iQBqv40NcNDO",
        "colab": {
          "base_uri": "https://localhost:8080/"
        },
        "outputId": "6828dd3a-a0fb-4c72-ac4f-054d7dc3d097"
      },
      "execution_count": 19,
      "outputs": [
        {
          "output_type": "stream",
          "name": "stdout",
          "text": [
            "\u001b[K     |████████████████████████████████| 54 kB 2.0 MB/s \n",
            "\u001b[K     |████████████████████████████████| 73 kB 1.7 MB/s \n",
            "\u001b[K     |████████████████████████████████| 346 kB 47.1 MB/s \n",
            "\u001b[K     |████████████████████████████████| 1.2 MB 40.2 MB/s \n",
            "\u001b[K     |████████████████████████████████| 134 kB 50.5 MB/s \n",
            "\u001b[K     |████████████████████████████████| 462 kB 45.0 MB/s \n",
            "\u001b[K     |████████████████████████████████| 3.6 MB 42.8 MB/s \n",
            "\u001b[K     |████████████████████████████████| 178 kB 53.3 MB/s \n",
            "\u001b[K     |████████████████████████████████| 79 kB 7.5 MB/s \n",
            "\u001b[K     |████████████████████████████████| 85 kB 4.0 MB/s \n",
            "\u001b[K     |████████████████████████████████| 41 kB 596 kB/s \n",
            "\u001b[?25h  Building wheel for tf2-gnn (setup.py) ... \u001b[?25l\u001b[?25hdone\n",
            "\u001b[31mERROR: pip's dependency resolver does not currently take into account all the packages that are installed. This behaviour is the source of the following dependency conflicts.\n",
            "arviz 0.11.4 requires typing-extensions<4,>=3.7.4.3, but you have typing-extensions 4.1.1 which is incompatible.\u001b[0m\n"
          ]
        }
      ]
    },
    {
      "cell_type": "markdown",
      "source": [
        "#Aggregation 1\n"
      ],
      "metadata": {
        "id": "pNbLM1JPcZEd"
      }
    },
    {
      "cell_type": "code",
      "source": [
        "import tensorflow as tf\n",
        "from tensorflow.math import segment_mean #to calculate segmented mean\n",
        "from tensorflow import keras\n",
        "from tensorflow.keras import Input, Model #layers and model\n",
        "from tensorflow.keras.layers import Embedding, Dense #layers\n",
        "from tensorflow.keras.optimizers import Adam #optimizer"
      ],
      "metadata": {
        "id": "mrpYXJkqcbBu"
      },
      "execution_count": 20,
      "outputs": []
    },
    {
      "cell_type": "code",
      "source": [
        "data = keras.Input(batch_shape=(None,))  #Input layer for nodes (tokenized text data)            eg. [440]\n",
        "\n",
        "# the first dim is different to the previous one. it is the total number of edges in this batch\n",
        "edge = keras.Input(batch_shape=(None, 2), dtype=tf.int32)     #Input layer for edge data         eg. [257,2]\n",
        "node2graph = keras.Input(batch_shape=(None,), dtype=tf.int32) #Input layer for node2graph ids    eg. [440]\n",
        "\n",
        "embeded = Embedding(tokenizer.num_words, 100)(data)  #embedding layer over data with each token embedded as  size vector eg. [440,50]\n",
        "\n",
        "\n",
        "# number of graphs (number of samples)\n",
        "num_graph = tf.reduce_max(node2graph)+1  #calculating number of samples (or min(batch_size,no._of_samples))    eg. 10\n",
        "\n",
        "#gnn_input layer with inputs as defined above\n",
        "gnn_input = GNNInput(\n",
        "    node_features=embeded,\n",
        "    adjacency_lists=(edge,),\n",
        "    node_to_graph_map=node2graph, \n",
        "    num_graphs=num_graph,\n",
        ")\n"
      ],
      "metadata": {
        "id": "w4oipkkHcfHz"
      },
      "execution_count": 21,
      "outputs": []
    },
    {
      "cell_type": "code",
      "source": [
        "params = GNN.get_default_hyperparameters()\n",
        "params[\"hidden_dim\"] = 40  #defining hidden dimension of the gnn layer\n",
        "\n",
        "#gnn layer with defined hyperparameters\n",
        "gnn_layer = GNN(params)  \n",
        "\n",
        "#gnn output layer \n",
        "gnn_out = gnn_layer(gnn_input) #outpur shape: [data_dimension,hidden layers]   eg. [440,64]\n",
        "\n",
        "print('gnn_out', gnn_out)           \n",
        "\n",
        "\n",
        "#calculating segmented mean based on segment_ids\n",
        "avg = segment_mean(\n",
        "    data=gnn_out,\n",
        "    segment_ids=node2graph\n",
        "    )                                    #shape: [batch_size,64]  eg. [10,64]\n",
        "\n",
        "print('mean:', avg)\n",
        "\n",
        "#final dense layer with sigmoid\n",
        "pred = Dense(1, activation='sigmoid')(avg)   #output shape: [batch_size,1] eg. []\n",
        "print('pred:', pred)\n"
      ],
      "metadata": {
        "colab": {
          "base_uri": "https://localhost:8080/"
        },
        "id": "DDlXQQHbcjuH",
        "outputId": "6e78328a-a176-416d-bf7e-70538966a8e8"
      },
      "execution_count": 22,
      "outputs": [
        {
          "output_type": "stream",
          "name": "stdout",
          "text": [
            "gnn_out KerasTensor(type_spec=TensorSpec(shape=(None, 40), dtype=tf.float32, name=None), name='gnn/StatefulPartitionedCall:0', description=\"created by layer 'gnn'\")\n",
            "mean: KerasTensor(type_spec=TensorSpec(shape=(None, 40), dtype=tf.float32, name=None), name='tf.math.segment_mean/SegmentMean:0', description=\"created by layer 'tf.math.segment_mean'\")\n",
            "pred: KerasTensor(type_spec=TensorSpec(shape=(None, 1), dtype=tf.float32, name=None), name='dense/Sigmoid:0', description=\"created by layer 'dense'\")\n"
          ]
        }
      ]
    },
    {
      "cell_type": "code",
      "source": [
        "model = Model(\n",
        "    inputs={\n",
        "        'data': data, \n",
        "        'edges': edge,\n",
        "        'node2grah': node2graph,\n",
        "    },\n",
        "    outputs=pred\n",
        ")\n",
        "\n",
        "model.summary()"
      ],
      "metadata": {
        "colab": {
          "base_uri": "https://localhost:8080/"
        },
        "id": "JYu6uD3Ccr6a",
        "outputId": "737933d0-d583-4c5b-edcb-c3994bb876bd"
      },
      "execution_count": 23,
      "outputs": [
        {
          "output_type": "stream",
          "name": "stdout",
          "text": [
            "Model: \"model\"\n",
            "__________________________________________________________________________________________________\n",
            " Layer (type)                   Output Shape         Param #     Connected to                     \n",
            "==================================================================================================\n",
            " input_3 (InputLayer)           [(None,)]            0           []                               \n",
            "                                                                                                  \n",
            " input_1 (InputLayer)           [(None,)]            0           []                               \n",
            "                                                                                                  \n",
            " tf.math.reduce_max (TFOpLambda  ()                  0           ['input_3[0][0]']                \n",
            " )                                                                                                \n",
            "                                                                                                  \n",
            " embedding (Embedding)          (None, 100)          50000       ['input_1[0][0]']                \n",
            "                                                                                                  \n",
            " input_2 (InputLayer)           [(None, 2)]          0           []                               \n",
            "                                                                                                  \n",
            " tf.__operators__.add (TFOpLamb  ()                  0           ['tf.math.reduce_max[0][0]']     \n",
            " da)                                                                                              \n",
            "                                                                                                  \n",
            " gnn (GNN)                      (None, 40)           35440       ['embedding[0][0]',              \n",
            "                                                                  'input_2[0][0]',                \n",
            "                                                                  'input_3[0][0]',                \n",
            "                                                                  'tf.__operators__.add[0][0]']   \n",
            "                                                                                                  \n",
            " tf.math.segment_mean (TFOpLamb  (None, 40)          0           ['gnn[0][0]',                    \n",
            " da)                                                              'input_3[0][0]']                \n",
            "                                                                                                  \n",
            " dense (Dense)                  (None, 1)            41          ['tf.math.segment_mean[0][0]']   \n",
            "                                                                                                  \n",
            "==================================================================================================\n",
            "Total params: 85,481\n",
            "Trainable params: 85,481\n",
            "Non-trainable params: 0\n",
            "__________________________________________________________________________________________________\n"
          ]
        }
      ]
    },
    {
      "cell_type": "code",
      "source": [
        "model.compile(\n",
        "    loss='BinaryCrossentropy',\n",
        "    metrics=['AUC']\n",
        ")"
      ],
      "metadata": {
        "id": "8Trnchbscx3V"
      },
      "execution_count": 24,
      "outputs": []
    },
    {
      "cell_type": "markdown",
      "source": [
        "##trail 1"
      ],
      "metadata": {
        "id": "uvUgbuQite2-"
      }
    },
    {
      "cell_type": "code",
      "source": [
        "import math\n",
        "\n",
        "batch_size = 8\n",
        "num_batchs = math.ceil(len(training_set) / batch_size) #no. of batches for training data\n",
        "num_batchs_validation = math.ceil(len(validation_set) / batch_size) #no. of batches for validation data\n",
        "model.fit(\n",
        "    gen_batch(\n",
        "        training_set, batch_size=batch_size, repeat=True\n",
        "    ),\n",
        "    steps_per_epoch=num_batchs,\n",
        "    epochs=20,\n",
        "    validation_data=gen_batch(\n",
        "        validation_set, batch_size=16, repeat=True\n",
        "    ),\n",
        "    validation_steps=num_batchs_validation,\n",
        ")"
      ],
      "metadata": {
        "colab": {
          "base_uri": "https://localhost:8080/"
        },
        "id": "xl40uKQec25d",
        "outputId": "7bf69fb9-85d6-4cad-a8c9-4ce5397d4712"
      },
      "execution_count": null,
      "outputs": [
        {
          "output_type": "stream",
          "name": "stdout",
          "text": [
            "Epoch 1/20\n"
          ]
        },
        {
          "output_type": "stream",
          "name": "stderr",
          "text": [
            "/usr/local/lib/python3.7/dist-packages/tensorflow/python/framework/indexed_slices.py:446: UserWarning: Converting sparse IndexedSlices(IndexedSlices(indices=Tensor(\"gradients/cond_3_grad/Identity_1:0\", shape=(None,), dtype=int32), values=Tensor(\"gradients/cond_3_grad/Identity:0\", shape=(None, 40), dtype=float32), dense_shape=Tensor(\"gradients/cond_3_grad/Identity_2:0\", shape=(2,), dtype=int32))) to a dense Tensor of unknown shape. This may consume a large amount of memory.\n",
            "  \"shape. This may consume a large amount of memory.\" % value)\n",
            "/usr/local/lib/python3.7/dist-packages/tensorflow/python/framework/indexed_slices.py:446: UserWarning: Converting sparse IndexedSlices(IndexedSlices(indices=Tensor(\"gradients/GatherV2_1_grad/Reshape_1:0\", shape=(None,), dtype=int32), values=Tensor(\"gradients/GatherV2_1_grad/Reshape:0\", shape=(None,), dtype=float32), dense_shape=Tensor(\"gradients/GatherV2_1_grad/Cast:0\", shape=(1,), dtype=int32))) to a dense Tensor of unknown shape. This may consume a large amount of memory.\n",
            "  \"shape. This may consume a large amount of memory.\" % value)\n",
            "/usr/local/lib/python3.7/dist-packages/tensorflow/python/framework/indexed_slices.py:446: UserWarning: Converting sparse IndexedSlices(IndexedSlices(indices=Tensor(\"gradients/GatherV2_grad/Reshape_1:0\", shape=(None,), dtype=int32), values=Tensor(\"gradients/GatherV2_grad/Reshape:0\", shape=(None,), dtype=float32), dense_shape=Tensor(\"gradients/GatherV2_grad/Cast:0\", shape=(1,), dtype=int32))) to a dense Tensor of unknown shape. This may consume a large amount of memory.\n",
            "  \"shape. This may consume a large amount of memory.\" % value)\n",
            "/usr/local/lib/python3.7/dist-packages/tensorflow/python/framework/indexed_slices.py:446: UserWarning: Converting sparse IndexedSlices(IndexedSlices(indices=Tensor(\"gradients/rgcn_2/embedding_lookup_grad/Reshape_1:0\", shape=(None,), dtype=int32), values=Tensor(\"gradients/rgcn_2/embedding_lookup_grad/Reshape:0\", shape=(None, 40), dtype=float32), dense_shape=Tensor(\"gradients/rgcn_2/embedding_lookup_grad/Cast:0\", shape=(2,), dtype=int32))) to a dense Tensor of unknown shape. This may consume a large amount of memory.\n",
            "  \"shape. This may consume a large amount of memory.\" % value)\n",
            "/usr/local/lib/python3.7/dist-packages/tensorflow/python/framework/indexed_slices.py:446: UserWarning: Converting sparse IndexedSlices(IndexedSlices(indices=Tensor(\"gradients/cond_1_grad/Identity_1:0\", shape=(None,), dtype=int32), values=Tensor(\"gradients/cond_1_grad/Identity:0\", shape=(None, 40), dtype=float32), dense_shape=Tensor(\"gradients/cond_1_grad/Identity_2:0\", shape=(2,), dtype=int32))) to a dense Tensor of unknown shape. This may consume a large amount of memory.\n",
            "  \"shape. This may consume a large amount of memory.\" % value)\n",
            "/usr/local/lib/python3.7/dist-packages/tensorflow/python/framework/indexed_slices.py:446: UserWarning: Converting sparse IndexedSlices(IndexedSlices(indices=Tensor(\"gradients/rgcn/embedding_lookup_grad/Reshape_1:0\", shape=(None,), dtype=int32), values=Tensor(\"gradients/rgcn/embedding_lookup_grad/Reshape:0\", shape=(None, 40), dtype=float32), dense_shape=Tensor(\"gradients/rgcn/embedding_lookup_grad/Cast:0\", shape=(2,), dtype=int32))) to a dense Tensor of unknown shape. This may consume a large amount of memory.\n",
            "  \"shape. This may consume a large amount of memory.\" % value)\n"
          ]
        },
        {
          "output_type": "stream",
          "name": "stdout",
          "text": [
            "2659/2659 [==============================] - 41s 13ms/step - loss: 0.2188 - auc: 0.5376 - val_loss: 0.2135 - val_auc: 0.5440\n",
            "Epoch 2/20\n",
            "2659/2659 [==============================] - 30s 11ms/step - loss: 0.2070 - auc: 0.5901 - val_loss: 0.1966 - val_auc: 0.6323\n",
            "Epoch 3/20\n",
            "2659/2659 [==============================] - 36s 13ms/step - loss: 0.2046 - auc: 0.5859 - val_loss: 0.1972 - val_auc: 0.5997\n",
            "Epoch 4/20\n",
            "2659/2659 [==============================] - 33s 12ms/step - loss: 0.2029 - auc: 0.5955 - val_loss: 0.2221 - val_auc: 0.4675\n",
            "Epoch 5/20\n",
            "2659/2659 [==============================] - 36s 14ms/step - loss: 0.2064 - auc: 0.5575 - val_loss: 0.2056 - val_auc: 0.4865\n",
            "Epoch 6/20\n",
            "2659/2659 [==============================] - 29s 11ms/step - loss: 0.2011 - auc: 0.5737 - val_loss: 0.2106 - val_auc: 0.5269\n",
            "Epoch 7/20\n",
            "2659/2659 [==============================] - 29s 11ms/step - loss: 0.1991 - auc: 0.5717 - val_loss: 0.1954 - val_auc: 0.6346\n",
            "Epoch 8/20\n",
            "2659/2659 [==============================] - 30s 11ms/step - loss: 0.1960 - auc: 0.5862 - val_loss: 0.1902 - val_auc: 0.5721\n",
            "Epoch 9/20\n",
            "2659/2659 [==============================] - 29s 11ms/step - loss: 0.1946 - auc: 0.5781 - val_loss: 0.1948 - val_auc: 0.6004\n",
            "Epoch 10/20\n",
            "2659/2659 [==============================] - 29s 11ms/step - loss: 0.1927 - auc: 0.5860 - val_loss: 0.2077 - val_auc: 0.4788\n",
            "Epoch 11/20\n",
            "2659/2659 [==============================] - 29s 11ms/step - loss: 0.1895 - auc: 0.6056 - val_loss: 0.1918 - val_auc: 0.6059\n",
            "Epoch 12/20\n",
            "2659/2659 [==============================] - 29s 11ms/step - loss: 0.1881 - auc: 0.6306 - val_loss: 0.1832 - val_auc: 0.6715\n",
            "Epoch 13/20\n",
            "2659/2659 [==============================] - 29s 11ms/step - loss: 0.1850 - auc: 0.6597 - val_loss: 0.1818 - val_auc: 0.6793\n",
            "Epoch 14/20\n",
            "2659/2659 [==============================] - 29s 11ms/step - loss: 0.1852 - auc: 0.6623 - val_loss: 0.1867 - val_auc: 0.6536\n",
            "Epoch 15/20\n",
            "2659/2659 [==============================] - 37s 14ms/step - loss: 0.1853 - auc: 0.6623 - val_loss: 0.1839 - val_auc: 0.6652\n",
            "Epoch 16/20\n",
            "2659/2659 [==============================] - 31s 12ms/step - loss: 0.1848 - auc: 0.6593 - val_loss: 0.1805 - val_auc: 0.6583\n",
            "Epoch 17/20\n",
            "2659/2659 [==============================] - 29s 11ms/step - loss: 0.1844 - auc: 0.6608 - val_loss: 0.1815 - val_auc: 0.6717\n",
            "Epoch 18/20\n",
            "2659/2659 [==============================] - 31s 12ms/step - loss: 0.1899 - auc: 0.6215 - val_loss: 0.1913 - val_auc: 0.6103\n",
            "Epoch 19/20\n",
            "2659/2659 [==============================] - 29s 11ms/step - loss: 0.1903 - auc: 0.6263 - val_loss: 0.1834 - val_auc: 0.6973\n",
            "Epoch 20/20\n",
            "2659/2659 [==============================] - 29s 11ms/step - loss: 0.1859 - auc: 0.6522 - val_loss: 0.1848 - val_auc: 0.6266\n"
          ]
        },
        {
          "output_type": "execute_result",
          "data": {
            "text/plain": [
              "<keras.callbacks.History at 0x7f38f0389390>"
            ]
          },
          "metadata": {},
          "execution_count": 22
        }
      ]
    },
    {
      "cell_type": "code",
      "source": [
        "y_pred = model.predict(\n",
        "    gen_batch(testing_set, batch_size=16, shuffle=False)\n",
        ")\n",
        "y_pred = np.reshape(y_pred, -1)"
      ],
      "metadata": {
        "id": "Ol_FYkpDjekf"
      },
      "execution_count": null,
      "outputs": []
    },
    {
      "cell_type": "code",
      "source": [
        "len(y_pred)\n"
      ],
      "metadata": {
        "colab": {
          "base_uri": "https://localhost:8080/"
        },
        "id": "zeIPrcoUjjCy",
        "outputId": "7403592e-8d90-46d2-b265-15114dd9ea16"
      },
      "execution_count": null,
      "outputs": [
        {
          "output_type": "execute_result",
          "data": {
            "text/plain": [
              "12326"
            ]
          },
          "metadata": {},
          "execution_count": 24
        }
      ]
    },
    {
      "cell_type": "code",
      "source": [
        "import pandas as pd \n",
        "submission = pd.DataFrame({'label':y_pred})\n",
        "submission.index.name = 'id'\n",
        "submission.to_csv('st1.csv')"
      ],
      "metadata": {
        "id": "uIEqDIp_jrvv"
      },
      "execution_count": null,
      "outputs": []
    },
    {
      "cell_type": "markdown",
      "source": [
        "##trail 2"
      ],
      "metadata": {
        "id": "YCDbzXa0z8Ew"
      }
    },
    {
      "cell_type": "code",
      "source": [
        "import math\n",
        "\n",
        "batch_size = 128\n",
        "num_batchs = math.ceil(len(training_set) / batch_size) #no. of batches for training data\n",
        "num_batchs_validation = math.ceil(len(validation_set) / batch_size) #no. of batches for validation data\n",
        "model.fit(\n",
        "    gen_batch(\n",
        "        training_set, batch_size=batch_size, repeat=True\n",
        "    ),\n",
        "    steps_per_epoch=num_batchs,\n",
        "    epochs=30,\n",
        "    validation_data=gen_batch(\n",
        "        validation_set, batch_size=10, repeat=True\n",
        "    ),\n",
        "    validation_steps=num_batchs_validation,\n",
        ")"
      ],
      "metadata": {
        "colab": {
          "base_uri": "https://localhost:8080/"
        },
        "outputId": "f9f93458-4a6d-4bc5-93a5-d26cf05cf2db",
        "id": "11VKsQjRz8Ex"
      },
      "execution_count": null,
      "outputs": [
        {
          "output_type": "stream",
          "name": "stdout",
          "text": [
            "Epoch 1/30\n",
            "167/167 [==============================] - 36s 217ms/step - loss: 0.1840 - auc: 0.6628 - val_loss: 0.2100 - val_auc: 0.5954\n",
            "Epoch 2/30\n",
            "167/167 [==============================] - 23s 138ms/step - loss: 0.1787 - auc: 0.6940 - val_loss: 0.2395 - val_auc: 0.6752\n",
            "Epoch 3/30\n",
            "167/167 [==============================] - 22s 134ms/step - loss: 0.1767 - auc: 0.7063 - val_loss: 0.2160 - val_auc: 0.5876\n",
            "Epoch 4/30\n",
            "167/167 [==============================] - 24s 141ms/step - loss: 0.1765 - auc: 0.7079 - val_loss: 0.1756 - val_auc: 0.6811\n",
            "Epoch 5/30\n",
            "167/167 [==============================] - 24s 142ms/step - loss: 0.1758 - auc: 0.7163 - val_loss: 0.1783 - val_auc: 0.7964\n",
            "Epoch 6/30\n",
            "167/167 [==============================] - 23s 136ms/step - loss: 0.1754 - auc: 0.7141 - val_loss: 0.2032 - val_auc: 0.6918\n",
            "Epoch 7/30\n",
            "167/167 [==============================] - 22s 135ms/step - loss: 0.1743 - auc: 0.7236 - val_loss: 0.1636 - val_auc: 0.8085\n",
            "Epoch 8/30\n",
            "167/167 [==============================] - 26s 158ms/step - loss: 0.1746 - auc: 0.7196 - val_loss: 0.1580 - val_auc: 0.6714\n",
            "Epoch 9/30\n",
            "167/167 [==============================] - 25s 151ms/step - loss: 0.1745 - auc: 0.7205 - val_loss: 0.2141 - val_auc: 0.7475\n",
            "Epoch 10/30\n",
            "167/167 [==============================] - 25s 149ms/step - loss: 0.1734 - auc: 0.7209 - val_loss: 0.2161 - val_auc: 0.6885\n",
            "Epoch 11/30\n",
            "167/167 [==============================] - 24s 143ms/step - loss: 0.1732 - auc: 0.7226 - val_loss: 0.2138 - val_auc: 0.7558\n",
            "Epoch 12/30\n",
            "167/167 [==============================] - 24s 143ms/step - loss: 0.1726 - auc: 0.7284 - val_loss: 0.2157 - val_auc: 0.6878\n",
            "Epoch 13/30\n",
            "167/167 [==============================] - 27s 164ms/step - loss: 0.1737 - auc: 0.7188 - val_loss: 0.2001 - val_auc: 0.6889\n",
            "Epoch 14/30\n",
            "167/167 [==============================] - 31s 183ms/step - loss: 0.1723 - auc: 0.7283 - val_loss: 0.1467 - val_auc: 0.7846\n",
            "Epoch 15/30\n",
            "167/167 [==============================] - 28s 165ms/step - loss: 0.1715 - auc: 0.7254 - val_loss: 0.1659 - val_auc: 0.6969\n",
            "Epoch 16/30\n",
            "167/167 [==============================] - 26s 155ms/step - loss: 0.1722 - auc: 0.7266 - val_loss: 0.1035 - val_auc: 0.7565\n",
            "Epoch 17/30\n",
            "167/167 [==============================] - 24s 143ms/step - loss: 0.1704 - auc: 0.7400 - val_loss: 0.1770 - val_auc: 0.9126\n",
            "Epoch 18/30\n",
            "167/167 [==============================] - 26s 154ms/step - loss: 0.1737 - auc: 0.7329 - val_loss: 0.2103 - val_auc: 0.7214\n",
            "Epoch 19/30\n",
            "167/167 [==============================] - 25s 151ms/step - loss: 0.1721 - auc: 0.7373 - val_loss: 0.2271 - val_auc: 0.7161\n",
            "Epoch 20/30\n",
            "167/167 [==============================] - 24s 144ms/step - loss: 0.1735 - auc: 0.7342 - val_loss: 0.2820 - val_auc: 0.6779\n",
            "Epoch 21/30\n",
            "167/167 [==============================] - 26s 154ms/step - loss: 0.1721 - auc: 0.7367 - val_loss: 0.1793 - val_auc: 0.7808\n",
            "Epoch 22/30\n",
            "167/167 [==============================] - 25s 147ms/step - loss: 0.1717 - auc: 0.7387 - val_loss: 0.2019 - val_auc: 0.7468\n",
            "Epoch 23/30\n",
            "167/167 [==============================] - 25s 147ms/step - loss: 0.1715 - auc: 0.7372 - val_loss: 0.1373 - val_auc: 0.8198\n",
            "Epoch 24/30\n",
            "167/167 [==============================] - 25s 148ms/step - loss: 0.1716 - auc: 0.7427 - val_loss: 0.2062 - val_auc: 0.7525\n",
            "Epoch 25/30\n",
            "167/167 [==============================] - 25s 148ms/step - loss: 0.1707 - auc: 0.7399 - val_loss: 0.2179 - val_auc: 0.7069\n",
            "Epoch 26/30\n",
            "167/167 [==============================] - 24s 146ms/step - loss: 0.1707 - auc: 0.7402 - val_loss: 0.2482 - val_auc: 0.7966\n",
            "Epoch 27/30\n",
            "167/167 [==============================] - 25s 150ms/step - loss: 0.1710 - auc: 0.7349 - val_loss: 0.2497 - val_auc: 0.6558\n",
            "Epoch 28/30\n",
            "167/167 [==============================] - 25s 148ms/step - loss: 0.1700 - auc: 0.7467 - val_loss: 0.2176 - val_auc: 0.7162\n",
            "Epoch 29/30\n",
            "167/167 [==============================] - 25s 150ms/step - loss: 0.1705 - auc: 0.7383 - val_loss: 0.1341 - val_auc: 0.8280\n",
            "Epoch 30/30\n",
            "167/167 [==============================] - 24s 144ms/step - loss: 0.1702 - auc: 0.7429 - val_loss: 0.1892 - val_auc: 0.7705\n"
          ]
        },
        {
          "output_type": "execute_result",
          "data": {
            "text/plain": [
              "<keras.callbacks.History at 0x7f39660280d0>"
            ]
          },
          "metadata": {},
          "execution_count": 26
        }
      ]
    },
    {
      "cell_type": "code",
      "source": [
        "y_pred = model.predict(\n",
        "    gen_batch(testing_set, batch_size=16, shuffle=False)\n",
        ")\n",
        "y_pred = np.reshape(y_pred, -1)"
      ],
      "metadata": {
        "id": "cYB1ILsKz8Ex"
      },
      "execution_count": null,
      "outputs": []
    },
    {
      "cell_type": "code",
      "source": [
        "len(y_pred)\n"
      ],
      "metadata": {
        "id": "qOELy3vQz8Ex",
        "colab": {
          "base_uri": "https://localhost:8080/"
        },
        "outputId": "3bc1bc4b-d9a0-4e97-c472-058494366789"
      },
      "execution_count": null,
      "outputs": [
        {
          "output_type": "execute_result",
          "data": {
            "text/plain": [
              "12326"
            ]
          },
          "metadata": {},
          "execution_count": 28
        }
      ]
    },
    {
      "cell_type": "code",
      "source": [
        "import pandas as pd \n",
        "submission = pd.DataFrame({'label':y_pred})\n",
        "submission.index.name = 'id'\n",
        "submission.to_csv('st2.csv')"
      ],
      "metadata": {
        "id": "h-kAgxh3z8Ey"
      },
      "execution_count": null,
      "outputs": []
    },
    {
      "cell_type": "markdown",
      "source": [
        "##trail 3\n"
      ],
      "metadata": {
        "id": "ll0oz3UftlII"
      }
    },
    {
      "cell_type": "code",
      "source": [
        "import math\n",
        "\n",
        "batch_size = 8\n",
        "num_batchs = math.ceil(len(training_set) / batch_size) #no. of batches for training data\n",
        "num_batchs_validation = math.ceil(len(validation_set) / batch_size) #no. of batches for validation data\n",
        "model.fit(\n",
        "    gen_batch(\n",
        "        training_set, batch_size=batch_size, repeat=True\n",
        "    ),\n",
        "    steps_per_epoch=num_batchs,\n",
        "    epochs=8,\n",
        "    validation_data=gen_batch(\n",
        "        validation_set, batch_size=10, repeat=True\n",
        "    ),\n",
        "    validation_steps=num_batchs_validation,\n",
        ")"
      ],
      "metadata": {
        "id": "q5ERUqv4tlIJ",
        "colab": {
          "base_uri": "https://localhost:8080/"
        },
        "outputId": "86859497-0a0e-43ef-e979-c18da23265bd"
      },
      "execution_count": null,
      "outputs": [
        {
          "output_type": "stream",
          "name": "stdout",
          "text": [
            "Epoch 1/8\n",
            "2659/2659 [==============================] - 40s 15ms/step - loss: 0.1822 - auc: 0.6812 - val_loss: 0.1838 - val_auc: 0.6834\n",
            "Epoch 2/8\n",
            "2659/2659 [==============================] - 32s 12ms/step - loss: 0.1844 - auc: 0.6724 - val_loss: 0.1814 - val_auc: 0.6261\n",
            "Epoch 3/8\n",
            "2659/2659 [==============================] - 33s 12ms/step - loss: 0.1872 - auc: 0.6585 - val_loss: 0.1799 - val_auc: 0.6710\n",
            "Epoch 4/8\n",
            "2659/2659 [==============================] - 33s 13ms/step - loss: 0.1840 - auc: 0.6724 - val_loss: 0.1879 - val_auc: 0.6631\n",
            "Epoch 5/8\n",
            "2659/2659 [==============================] - 33s 13ms/step - loss: 0.1855 - auc: 0.6706 - val_loss: 0.1927 - val_auc: 0.6680\n",
            "Epoch 6/8\n",
            "2659/2659 [==============================] - 33s 13ms/step - loss: 0.1864 - auc: 0.6471 - val_loss: 0.1783 - val_auc: 0.6936\n",
            "Epoch 7/8\n",
            "2659/2659 [==============================] - 31s 12ms/step - loss: 0.1871 - auc: 0.6524 - val_loss: 0.1828 - val_auc: 0.6754\n",
            "Epoch 8/8\n",
            "2659/2659 [==============================] - 32s 12ms/step - loss: 0.1861 - auc: 0.6391 - val_loss: 0.1891 - val_auc: 0.5774\n"
          ]
        },
        {
          "output_type": "execute_result",
          "data": {
            "text/plain": [
              "<keras.callbacks.History at 0x7f38ee5dbfd0>"
            ]
          },
          "metadata": {},
          "execution_count": 31
        }
      ]
    },
    {
      "cell_type": "code",
      "source": [
        "y_pred = model.predict(\n",
        "    gen_batch(testing_set, batch_size=16, shuffle=False)\n",
        ")\n",
        "y_pred = np.reshape(y_pred, -1)"
      ],
      "metadata": {
        "id": "Zq6ome0GtlIJ"
      },
      "execution_count": null,
      "outputs": []
    },
    {
      "cell_type": "code",
      "source": [
        "len(y_pred)\n"
      ],
      "metadata": {
        "id": "8U7WoOr0tlIJ",
        "colab": {
          "base_uri": "https://localhost:8080/"
        },
        "outputId": "7906bdc1-48c5-47fa-aa7c-2da37cb7c844"
      },
      "execution_count": null,
      "outputs": [
        {
          "output_type": "execute_result",
          "data": {
            "text/plain": [
              "12326"
            ]
          },
          "metadata": {},
          "execution_count": 33
        }
      ]
    },
    {
      "cell_type": "code",
      "source": [
        "import pandas as pd \n",
        "submission = pd.DataFrame({'label':y_pred})\n",
        "submission.index.name = 'id'\n",
        "submission.to_csv('st3.csv')"
      ],
      "metadata": {
        "id": "L6WV5df8tlIK"
      },
      "execution_count": null,
      "outputs": []
    },
    {
      "cell_type": "code",
      "source": [
        ""
      ],
      "metadata": {
        "id": "fhZMWcNBz7m8"
      },
      "execution_count": null,
      "outputs": []
    },
    {
      "cell_type": "code",
      "source": [
        ""
      ],
      "metadata": {
        "id": "N2-851LV2Xmj"
      },
      "execution_count": null,
      "outputs": []
    },
    {
      "cell_type": "code",
      "source": [
        "import math\n",
        "\n",
        "batch_size = 8\n",
        "num_batchs = math.ceil(len(training_set) / batch_size) #no. of batches for training data\n",
        "num_batchs_validation = math.ceil(len(validation_set) / batch_size) #no. of batches for validation data\n",
        "model.fit(\n",
        "    gen_batch(\n",
        "        training_set, batch_size=batch_size, repeat=True\n",
        "    ),\n",
        "    steps_per_epoch=num_batchs,\n",
        "    epochs=8,\n",
        "    validation_data=gen_batch(\n",
        "        validation_set, batch_size=10, repeat=True\n",
        "    ),\n",
        "    validation_steps=num_batchs_validation,\n",
        ")"
      ],
      "metadata": {
        "colab": {
          "base_uri": "https://localhost:8080/"
        },
        "outputId": "e0c683dc-ccef-49bd-998b-5c07c68f5da0",
        "id": "lQ6MqKyc2ZRE"
      },
      "execution_count": null,
      "outputs": [
        {
          "output_type": "stream",
          "name": "stdout",
          "text": [
            "Epoch 1/8\n",
            "2659/2659 [==============================] - 35s 13ms/step - loss: 0.1847 - auc: 0.6777 - val_loss: 0.1822 - val_auc: 0.6795\n",
            "Epoch 2/8\n",
            "2659/2659 [==============================] - 32s 12ms/step - loss: 0.1837 - auc: 0.6752 - val_loss: 0.1961 - val_auc: 0.6756\n",
            "Epoch 3/8\n",
            "2659/2659 [==============================] - 32s 12ms/step - loss: 0.1865 - auc: 0.6616 - val_loss: 0.1857 - val_auc: 0.6827\n",
            "Epoch 4/8\n",
            "2659/2659 [==============================] - 31s 12ms/step - loss: 0.1847 - auc: 0.6620 - val_loss: 0.1743 - val_auc: 0.7188\n",
            "Epoch 5/8\n",
            "2659/2659 [==============================] - 33s 12ms/step - loss: 0.1859 - auc: 0.6593 - val_loss: 0.1922 - val_auc: 0.6339\n",
            "Epoch 6/8\n",
            "2659/2659 [==============================] - 33s 12ms/step - loss: 0.1853 - auc: 0.6598 - val_loss: 0.1826 - val_auc: 0.6263\n",
            "Epoch 7/8\n",
            "2659/2659 [==============================] - 33s 12ms/step - loss: 0.1851 - auc: 0.6688 - val_loss: 0.1842 - val_auc: 0.7248\n",
            "Epoch 8/8\n",
            "2659/2659 [==============================] - 31s 12ms/step - loss: 0.1836 - auc: 0.6769 - val_loss: 0.1812 - val_auc: 0.7178\n"
          ]
        },
        {
          "output_type": "execute_result",
          "data": {
            "text/plain": [
              "<keras.callbacks.History at 0x7f38ec3f7790>"
            ]
          },
          "metadata": {},
          "execution_count": 36
        }
      ]
    },
    {
      "cell_type": "code",
      "source": [
        "y_pred = model.predict(\n",
        "    gen_batch(testing_set, batch_size=16, shuffle=False)\n",
        ")\n",
        "y_pred = np.reshape(y_pred, -1)"
      ],
      "metadata": {
        "id": "7cdzDJqG2ZRF"
      },
      "execution_count": null,
      "outputs": []
    },
    {
      "cell_type": "code",
      "source": [
        "len(y_pred)\n"
      ],
      "metadata": {
        "id": "baxqvyxE2ZRF",
        "colab": {
          "base_uri": "https://localhost:8080/"
        },
        "outputId": "b1af035a-6692-4fe4-9cf4-509d65ec9a85"
      },
      "execution_count": null,
      "outputs": [
        {
          "output_type": "execute_result",
          "data": {
            "text/plain": [
              "12326"
            ]
          },
          "metadata": {},
          "execution_count": 38
        }
      ]
    },
    {
      "cell_type": "code",
      "source": [
        "import pandas as pd \n",
        "submission = pd.DataFrame({'label':y_pred})\n",
        "submission.index.name = 'id'\n",
        "submission.to_csv('st3.csv')"
      ],
      "metadata": {
        "id": "uDC8962o2ZRF"
      },
      "execution_count": null,
      "outputs": []
    },
    {
      "cell_type": "markdown",
      "source": [
        "##trail 4"
      ],
      "metadata": {
        "id": "0Wh6igrhznP1"
      }
    },
    {
      "cell_type": "code",
      "source": [
        "from google.colab import drive\n",
        "drive.mount('/content/drive')"
      ],
      "metadata": {
        "id": "cPm1SbrJKcCB",
        "outputId": "852af62e-ebad-47d1-a702-e3271906cd1d",
        "colab": {
          "base_uri": "https://localhost:8080/"
        }
      },
      "execution_count": null,
      "outputs": [
        {
          "output_type": "stream",
          "name": "stdout",
          "text": [
            "Mounted at /content/drive\n"
          ]
        }
      ]
    },
    {
      "cell_type": "code",
      "execution_count": null,
      "metadata": {
        "id": "q_CTSSWgJ3SI"
      },
      "outputs": [],
      "source": [
        "from tensorflow.keras.preprocessing.text import Tokenizer\n",
        "\n",
        "max_vocab = 500\n",
        "max_len = 100\n",
        "\n",
        "\n",
        "# build vocabulary from training set\n",
        "all_nodes = [s[0] for s in training_set]\n",
        "tokenizer = Tokenizer(num_words=max_vocab)\n",
        "tokenizer.fit_on_texts(all_nodes)"
      ]
    },
    {
      "cell_type": "code",
      "execution_count": null,
      "metadata": {
        "id": "IsdrXVZ4J3SI"
      },
      "outputs": [],
      "source": [
        "from tensorflow.keras.preprocessing.sequence import pad_sequences\n",
        "import random\n",
        "random.seed(0)\n",
        "\n",
        "def prepare_single_batch(samples):\n",
        "    sample_nodes = [s[0] for s in samples]\n",
        "    sample_nodes = tokenizer.texts_to_sequences(sample_nodes)\n",
        "    sample_nodes = pad_sequences(sample_nodes, padding='post')\n",
        "    max_nodes_len = np.shape(sample_nodes)[1]                           #shape: (num of samples, number of nodes)\n",
        "    edges = [s[1]+i*max_nodes_len for i,s in enumerate(samples)]        #s[1]: links, i*max_nodes_len: to start indexing from current node not from 0 again\n",
        "    edges = [e for e in edges if len(e) > 0]                          #make sure all elements are non-zero\n",
        "    node_to_graph = [[i]*max_nodes_len for i in range(len(samples))]\n",
        "    \n",
        "    all_nodes = np.reshape(sample_nodes, -1)      #concatenate nodes of all samples together\n",
        "    all_edges = np.concatenate(edges)             #concatenate edges of all samples together (because edge is tuple, doesnt hae reshape, output is 2D)\n",
        "\n",
        "    node_to_graph = np.reshape(node_to_graph, -1)\n",
        "    return {\n",
        "        'data': all_nodes,\n",
        "        'edges': all_edges,\n",
        "        'node2grah': node_to_graph,\n",
        "    }, np.array([s[2] for s in samples])\n",
        "\n",
        "\n",
        "\n",
        "def gen_batch(dataset, batch_size=16, repeat=False, shuffle=True):\n",
        "    while True:\n",
        "        dataset = list(dataset)\n",
        "        if shuffle:\n",
        "            random.shuffle(dataset)\n",
        "        l = len(dataset)\n",
        "        for ndx in range(0, l, batch_size):\n",
        "            batch_samples = dataset[ndx:min(ndx + batch_size, l)]\n",
        "            yield prepare_single_batch(batch_samples)\n",
        "        if not repeat:\n",
        "            break\n"
      ]
    },
    {
      "cell_type": "code",
      "execution_count": null,
      "metadata": {
        "colab": {
          "base_uri": "https://localhost:8080/"
        },
        "id": "rNEe_ml6J3SJ",
        "outputId": "89f4c87d-8208-4359-de7b-a729f17426d1"
      },
      "outputs": [
        {
          "output_type": "stream",
          "name": "stdout",
          "text": [
            "data\n",
            "[2 2 2 2 3 3 1 1 1 1 1 1 1 1 1 1 1 1 1 1 1 0 0 0 0 0 0 0 0 0 0 0 0 0 4 4 2\n",
            " 2 2 2 2 2 2 3 3 1 1 1 1 1 1 1 1 1 1 1 1 1 1 1 1 1 1 1 1 1 1 1 5 8 6 6 6 6\n",
            " 6 6 2 2 2 3 3 1 1 1 1 1 1 1 1 1 1 1 1 1 1 1 1 1 1 1 1 0 5 2 2 3 3 3 1 1 1\n",
            " 1 1 1 1 1 1 0 0 0 0 0 0 0 0 0 0 0 0 0 0 0 0 0 0 0]\n",
            "edges\n",
            "[[  0   6]\n",
            " [  1   7]\n",
            " [  2  13]\n",
            " [  2  20]\n",
            " [  3  13]\n",
            " [  4   5]\n",
            " [  4   6]\n",
            " [  4  10]\n",
            " [  5   7]\n",
            " [  5  11]\n",
            " [  6   8]\n",
            " [  7   9]\n",
            " [  8   9]\n",
            " [  8  15]\n",
            " [  9  16]\n",
            " [ 10  12]\n",
            " [ 10  13]\n",
            " [ 11  14]\n",
            " [ 11  19]\n",
            " [ 12  14]\n",
            " [ 15  17]\n",
            " [ 16  18]\n",
            " [ 17  18]\n",
            " [ 34  35]\n",
            " [ 34  46]\n",
            " [ 35  47]\n",
            " [ 36  62]\n",
            " [ 36  66]\n",
            " [ 37  59]\n",
            " [ 38  59]\n",
            " [ 39  65]\n",
            " [ 40  65]\n",
            " [ 41  67]\n",
            " [ 42  67]\n",
            " [ 43  45]\n",
            " [ 43  48]\n",
            " [ 43  53]\n",
            " [ 44  49]\n",
            " [ 44  50]\n",
            " [ 44  54]\n",
            " [ 45  49]\n",
            " [ 45  51]\n",
            " [ 46  48]\n",
            " [ 46  55]\n",
            " [ 46  56]\n",
            " [ 47  50]\n",
            " [ 47  60]\n",
            " [ 47  61]\n",
            " [ 51  52]\n",
            " [ 52  57]\n",
            " [ 52  58]\n",
            " [ 53  59]\n",
            " [ 54  65]\n",
            " [ 57  63]\n",
            " [ 58  64]\n",
            " [ 62  63]\n",
            " [ 62  64]\n",
            " [ 66  67]\n",
            " [ 68  91]\n",
            " [ 69  77]\n",
            " [ 69  84]\n",
            " [ 69  85]\n",
            " [ 69  86]\n",
            " [ 70  82]\n",
            " [ 71  82]\n",
            " [ 72  82]\n",
            " [ 73  83]\n",
            " [ 74  83]\n",
            " [ 75  83]\n",
            " [ 76  80]\n",
            " [ 76  81]\n",
            " [ 78  84]\n",
            " [ 79  81]\n",
            " [ 79  84]\n",
            " [ 80  91]\n",
            " [ 81  82]\n",
            " [ 81  83]\n",
            " [ 85  87]\n",
            " [ 85  89]\n",
            " [ 86  88]\n",
            " [ 86  90]\n",
            " [ 87  92]\n",
            " [ 88  93]\n",
            " [ 89  94]\n",
            " [ 90  95]\n",
            " [ 91  98]\n",
            " [ 92  96]\n",
            " [ 93  97]\n",
            " [ 94  96]\n",
            " [ 95  97]\n",
            " [ 98  99]\n",
            " [ 98 100]\n",
            " [102 114]\n",
            " [103 105]\n",
            " [104 109]\n",
            " [105 108]\n",
            " [105 109]\n",
            " [106 107]\n",
            " [106 108]\n",
            " [107 109]\n",
            " [108 110]\n",
            " [110 111]\n",
            " [111 112]\n",
            " [111 113]\n",
            " [112 115]\n",
            " [113 116]\n",
            " [114 115]\n",
            " [114 116]]\n",
            "node2grah\n",
            "[0 0 0 0 0 0 0 0 0 0 0 0 0 0 0 0 0 0 0 0 0 0 0 0 0 0 0 0 0 0 0 0 0 0 1 1 1\n",
            " 1 1 1 1 1 1 1 1 1 1 1 1 1 1 1 1 1 1 1 1 1 1 1 1 1 1 1 1 1 1 1 2 2 2 2 2 2\n",
            " 2 2 2 2 2 2 2 2 2 2 2 2 2 2 2 2 2 2 2 2 2 2 2 2 2 2 2 2 3 3 3 3 3 3 3 3 3\n",
            " 3 3 3 3 3 3 3 3 3 3 3 3 3 3 3 3 3 3 3 3 3 3 3 3 3]\n",
            "label [0 0 0 0]\n"
          ]
        }
      ],
      "source": [
        "# showing one batch:\n",
        "for train_batch in gen_batch(training_set, batch_size=4):\n",
        "    for k,v in train_batch[0].items():          #k: labels, v: values\n",
        "        print(k)\n",
        "        print(v)\n",
        "        #print(len(v))\n",
        "        pass\n",
        "    print('label', train_batch[1])\n",
        "    break\n",
        "\n"
      ]
    },
    {
      "cell_type": "code",
      "execution_count": null,
      "metadata": {
        "id": "pXVviBKqJ3SJ"
      },
      "outputs": [],
      "source": [
        "!pip install --quiet tf2_gnn\n",
        "\n",
        "# https://github.com/microsoft/tf2-gnn\n",
        "# https://github.com/microsoft/tf2-gnn/blob/master/tf2_gnn/layers/gnn.py\n",
        "\n",
        "from tf2_gnn.layers.gnn import GNN, GNNInput"
      ]
    },
    {
      "cell_type": "code",
      "execution_count": null,
      "metadata": {
        "colab": {
          "base_uri": "https://localhost:8080/"
        },
        "id": "_VkBsgkCJ3SK",
        "outputId": "d67ae501-6789-46f9-9fa4-7f56b501ffab"
      },
      "outputs": [
        {
          "output_type": "stream",
          "name": "stdout",
          "text": [
            "gnn_out KerasTensor(type_spec=TensorSpec(shape=(None, 32), dtype=tf.float32, name=None), name='gnn_1/StatefulPartitionedCall:0', description=\"created by layer 'gnn_1'\")\n",
            "mean: KerasTensor(type_spec=TensorSpec(shape=(None, 32), dtype=tf.float32, name=None), name='tf.math.segment_mean_1/SegmentMean:0', description=\"created by layer 'tf.math.segment_mean_1'\")\n",
            "pred: KerasTensor(type_spec=TensorSpec(shape=(None, 1), dtype=tf.float32, name=None), name='dense_1/Sigmoid:0', description=\"created by layer 'dense_1'\")\n",
            "Model: \"model_1\"\n",
            "__________________________________________________________________________________________________\n",
            " Layer (type)                   Output Shape         Param #     Connected to                     \n",
            "==================================================================================================\n",
            " input_6 (InputLayer)           [(None,)]            0           []                               \n",
            "                                                                                                  \n",
            " input_4 (InputLayer)           [(None,)]            0           []                               \n",
            "                                                                                                  \n",
            " tf.math.reduce_max_1 (TFOpLamb  ()                  0           ['input_6[0][0]']                \n",
            " da)                                                                                              \n",
            "                                                                                                  \n",
            " embedding_1 (Embedding)        (None, 20)           10000       ['input_4[0][0]']                \n",
            "                                                                                                  \n",
            " input_5 (InputLayer)           [(None, 2)]          0           []                               \n",
            "                                                                                                  \n",
            " tf.__operators__.add_1 (TFOpLa  ()                  0           ['tf.math.reduce_max_1[0][0]']   \n",
            " mbda)                                                                                            \n",
            "                                                                                                  \n",
            " gnn_1 (GNN)                    (None, 32)           22464       ['embedding_1[0][0]',            \n",
            "                                                                  'input_5[0][0]',                \n",
            "                                                                  'input_6[0][0]',                \n",
            "                                                                  'tf.__operators__.add_1[0][0]'] \n",
            "                                                                                                  \n",
            " tf.math.segment_mean_1 (TFOpLa  (None, 32)          0           ['gnn_1[0][0]',                  \n",
            " mbda)                                                            'input_6[0][0]']                \n",
            "                                                                                                  \n",
            " dense_1 (Dense)                (None, 1)            33          ['tf.math.segment_mean_1[0][0]'] \n",
            "                                                                                                  \n",
            "==================================================================================================\n",
            "Total params: 32,497\n",
            "Trainable params: 32,497\n",
            "Non-trainable params: 0\n",
            "__________________________________________________________________________________________________\n"
          ]
        }
      ],
      "source": [
        "import tensorflow as tf\n",
        "from tensorflow.math import segment_mean\n",
        "from tensorflow import keras\n",
        "from tensorflow.keras import Input, Model\n",
        "from tensorflow.keras.layers import Embedding, Dense\n",
        "from tensorflow.keras.optimizers import Adam\n",
        "\n",
        "data = keras.Input(batch_shape=(None,))\n",
        "\n",
        "# the first dim is different to the previous one. it is the total number of edges in this batch\n",
        "edge = keras.Input(batch_shape=(None, 2), dtype=tf.int32)     #edge is 2D\n",
        "node2graph = keras.Input(batch_shape=(None,), dtype=tf.int32)\n",
        "embeded = Embedding(tokenizer.num_words, 20)(data)\n",
        "\n",
        "# number of graphs (number of samples)\n",
        "num_graph = tf.reduce_max(node2graph)+1\n",
        "\n",
        "gnn_input = GNNInput(\n",
        "    node_features=embeded,\n",
        "    adjacency_lists=(edge,),\n",
        "    node_to_graph_map=node2graph, \n",
        "    num_graphs=num_graph,\n",
        ")\n",
        "\n",
        "# https://github.com/microsoft/tf2-gnn/blob/master/tf2_gnn/layers/gnn.py\n",
        "params = GNN.get_default_hyperparameters()\n",
        "params[\"hidden_dim\"] = 32\n",
        "#params['message_calculation_class']\n",
        "gnn_layer = GNN(params)\n",
        "gnn_out = gnn_layer(gnn_input)\n",
        "\n",
        "print('gnn_out', gnn_out)\n",
        "\n",
        "# https://www.tensorflow.org/api_docs/python/tf/math/segment_mean\n",
        "avg = segment_mean(\n",
        "    data=gnn_out,\n",
        "    segment_ids=node2graph\n",
        ")\n",
        "print('mean:', avg)\n",
        "\n",
        "pred = Dense(1, activation='sigmoid')(avg)        #binary classification: Dense(2), but here we only output 1 probability\n",
        "print('pred:', pred)\n",
        "\n",
        "model = Model(\n",
        "    inputs={\n",
        "        'data': data,\n",
        "        'edges': edge,\n",
        "        'node2grah': node2graph,\n",
        "    },\n",
        "    outputs=pred\n",
        ")\n",
        "model.summary()"
      ]
    },
    {
      "cell_type": "code",
      "execution_count": null,
      "metadata": {
        "id": "d_hUA1RJJ3SK"
      },
      "outputs": [],
      "source": [
        "model.compile(\n",
        "    loss='BinaryCrossentropy',\n",
        "    metrics=['AUC']\n",
        ")"
      ]
    },
    {
      "cell_type": "code",
      "execution_count": null,
      "metadata": {
        "colab": {
          "base_uri": "https://localhost:8080/"
        },
        "id": "tsihG8O7J3SL",
        "outputId": "fa76a4d7-58ca-490d-ee30-a82ecab35171"
      },
      "outputs": [
        {
          "output_type": "stream",
          "name": "stdout",
          "text": [
            "Epoch 1/5\n"
          ]
        },
        {
          "output_type": "stream",
          "name": "stderr",
          "text": [
            "/usr/local/lib/python3.7/dist-packages/tensorflow/python/framework/indexed_slices.py:446: UserWarning: Converting sparse IndexedSlices(IndexedSlices(indices=Tensor(\"gradients/cond_3_grad/Identity_1:0\", shape=(None,), dtype=int32), values=Tensor(\"gradients/cond_3_grad/Identity:0\", shape=(None, 32), dtype=float32), dense_shape=Tensor(\"gradients/cond_3_grad/Identity_2:0\", shape=(2,), dtype=int32))) to a dense Tensor of unknown shape. This may consume a large amount of memory.\n",
            "  \"shape. This may consume a large amount of memory.\" % value)\n",
            "/usr/local/lib/python3.7/dist-packages/tensorflow/python/framework/indexed_slices.py:446: UserWarning: Converting sparse IndexedSlices(IndexedSlices(indices=Tensor(\"gradients/rgcn_2/embedding_lookup_grad/Reshape_1:0\", shape=(None,), dtype=int32), values=Tensor(\"gradients/rgcn_2/embedding_lookup_grad/Reshape:0\", shape=(None, 32), dtype=float32), dense_shape=Tensor(\"gradients/rgcn_2/embedding_lookup_grad/Cast:0\", shape=(2,), dtype=int32))) to a dense Tensor of unknown shape. This may consume a large amount of memory.\n",
            "  \"shape. This may consume a large amount of memory.\" % value)\n",
            "/usr/local/lib/python3.7/dist-packages/tensorflow/python/framework/indexed_slices.py:446: UserWarning: Converting sparse IndexedSlices(IndexedSlices(indices=Tensor(\"gradients/cond_1_grad/Identity_1:0\", shape=(None,), dtype=int32), values=Tensor(\"gradients/cond_1_grad/Identity:0\", shape=(None, 32), dtype=float32), dense_shape=Tensor(\"gradients/cond_1_grad/Identity_2:0\", shape=(2,), dtype=int32))) to a dense Tensor of unknown shape. This may consume a large amount of memory.\n",
            "  \"shape. This may consume a large amount of memory.\" % value)\n",
            "/usr/local/lib/python3.7/dist-packages/tensorflow/python/framework/indexed_slices.py:446: UserWarning: Converting sparse IndexedSlices(IndexedSlices(indices=Tensor(\"gradients/rgcn/embedding_lookup_grad/Reshape_1:0\", shape=(None,), dtype=int32), values=Tensor(\"gradients/rgcn/embedding_lookup_grad/Reshape:0\", shape=(None, 32), dtype=float32), dense_shape=Tensor(\"gradients/rgcn/embedding_lookup_grad/Cast:0\", shape=(2,), dtype=int32))) to a dense Tensor of unknown shape. This may consume a large amount of memory.\n",
            "  \"shape. This may consume a large amount of memory.\" % value)\n"
          ]
        },
        {
          "output_type": "stream",
          "name": "stdout",
          "text": [
            "1330/1330 [==============================] - 47s 33ms/step - loss: 0.2247 - auc: 0.5057 - val_loss: 0.1925 - val_auc: 0.6601\n",
            "Epoch 2/5\n",
            "1330/1330 [==============================] - 24s 18ms/step - loss: 0.1930 - auc: 0.6290 - val_loss: 0.1879 - val_auc: 0.6606\n",
            "Epoch 3/5\n",
            "1330/1330 [==============================] - 24s 18ms/step - loss: 0.1887 - auc: 0.6556 - val_loss: 0.1896 - val_auc: 0.6423\n",
            "Epoch 4/5\n",
            "1330/1330 [==============================] - 23s 18ms/step - loss: 0.1891 - auc: 0.6620 - val_loss: 0.1828 - val_auc: 0.6899\n",
            "Epoch 5/5\n",
            "1330/1330 [==============================] - 25s 18ms/step - loss: 0.1861 - auc: 0.6790 - val_loss: 0.2127 - val_auc: 0.6536\n"
          ]
        },
        {
          "output_type": "execute_result",
          "data": {
            "text/plain": [
              "<keras.callbacks.History at 0x7f38ec49f850>"
            ]
          },
          "metadata": {},
          "execution_count": 47
        }
      ],
      "source": [
        "import math\n",
        "\n",
        "batch_size = 16\n",
        "num_batchs = math.ceil(len(training_set) / batch_size)\n",
        "num_batchs_validation = math.ceil(len(validation_set) / batch_size)\n",
        "\n",
        "model.fit(\n",
        "    gen_batch(\n",
        "        training_set, batch_size=batch_size, repeat=True\n",
        "    ),\n",
        "    steps_per_epoch=num_batchs,\n",
        "    epochs=5,\n",
        "    validation_data=gen_batch(\n",
        "        validation_set, batch_size=16, repeat=True\n",
        "    ),\n",
        "    validation_steps=num_batchs_validation,\n",
        ")"
      ]
    },
    {
      "cell_type": "code",
      "execution_count": null,
      "metadata": {
        "colab": {
          "base_uri": "https://localhost:8080/"
        },
        "id": "DScfYdROJ3SL",
        "outputId": "747cc5dd-f30c-4b24-a3ab-56843d0936d3"
      },
      "outputs": [
        {
          "output_type": "execute_result",
          "data": {
            "text/plain": [
              "(12326,)"
            ]
          },
          "metadata": {},
          "execution_count": 48
        }
      ],
      "source": [
        "y_pred = model.predict(\n",
        "    gen_batch(testing_set, batch_size=16, shuffle=False)\n",
        ")\n",
        "\n",
        "y_pred = np.reshape(y_pred, -1)\n",
        "y_pred.shape"
      ]
    },
    {
      "cell_type": "code",
      "source": [
        "y_pred"
      ],
      "metadata": {
        "colab": {
          "base_uri": "https://localhost:8080/"
        },
        "id": "P4oN6Xz9aW3U",
        "outputId": "4e6e64c2-84bd-4fe5-e638-a61687ebb87f"
      },
      "execution_count": null,
      "outputs": [
        {
          "output_type": "execute_result",
          "data": {
            "text/plain": [
              "array([0.01470688, 0.01020283, 0.00934735, ..., 0.00323755, 0.0423916 ,\n",
              "       0.00588229], dtype=float32)"
            ]
          },
          "metadata": {},
          "execution_count": 49
        }
      ]
    },
    {
      "cell_type": "code",
      "execution_count": null,
      "metadata": {
        "id": "M0INyZJ7J3SM"
      },
      "outputs": [],
      "source": [
        "import pandas as pd \n",
        "submission = pd.DataFrame({'label':y_pred})\n",
        "submission.index.name = 'id'\n",
        "submission.to_csv('sample_submission.csv')"
      ]
    },
    {
      "cell_type": "markdown",
      "source": [
        "##trail 5"
      ],
      "metadata": {
        "id": "arza3m265aMU"
      }
    },
    {
      "cell_type": "code",
      "execution_count": null,
      "metadata": {
        "colab": {
          "base_uri": "https://localhost:8080/"
        },
        "outputId": "3fc7281f-4ce7-4ee0-a9ff-850bab39cd81",
        "id": "A3Ze6G_z5fxE"
      },
      "outputs": [
        {
          "output_type": "stream",
          "name": "stdout",
          "text": [
            "Epoch 1/10\n",
            "333/333 [==============================] - 24s 71ms/step - loss: 0.1825 - auc: 0.6840 - val_loss: 0.1629 - val_auc: 0.7088\n",
            "Epoch 2/10\n",
            "333/333 [==============================] - 21s 63ms/step - loss: 0.1810 - auc: 0.6910 - val_loss: 0.1970 - val_auc: 0.7394\n",
            "Epoch 3/10\n",
            "333/333 [==============================] - 23s 69ms/step - loss: 0.1786 - auc: 0.7076 - val_loss: 0.2069 - val_auc: 0.7069\n",
            "Epoch 4/10\n",
            "333/333 [==============================] - 21s 63ms/step - loss: 0.1786 - auc: 0.7068 - val_loss: 0.1612 - val_auc: 0.7384\n",
            "Epoch 5/10\n",
            "333/333 [==============================] - 25s 75ms/step - loss: 0.1788 - auc: 0.7069 - val_loss: 0.1728 - val_auc: 0.6655\n",
            "Epoch 6/10\n",
            "333/333 [==============================] - 23s 69ms/step - loss: 0.1781 - auc: 0.7117 - val_loss: 0.1884 - val_auc: 0.7675\n",
            "Epoch 7/10\n",
            "333/333 [==============================] - 22s 65ms/step - loss: 0.1758 - auc: 0.7213 - val_loss: 0.2082 - val_auc: 0.6693\n",
            "Epoch 8/10\n",
            "333/333 [==============================] - 23s 70ms/step - loss: 0.1754 - auc: 0.7313 - val_loss: 0.1718 - val_auc: 0.7774\n",
            "Epoch 9/10\n",
            "333/333 [==============================] - 24s 71ms/step - loss: 0.1754 - auc: 0.7256 - val_loss: 0.1742 - val_auc: 0.7217\n",
            "Epoch 10/10\n",
            "333/333 [==============================] - 24s 72ms/step - loss: 0.1745 - auc: 0.7293 - val_loss: 0.1989 - val_auc: 0.7613\n"
          ]
        },
        {
          "output_type": "execute_result",
          "data": {
            "text/plain": [
              "<keras.callbacks.History at 0x7f38e2bf4e10>"
            ]
          },
          "metadata": {},
          "execution_count": 51
        }
      ],
      "source": [
        "import math\n",
        "\n",
        "batch_size = 64\n",
        "num_batchs = math.ceil(len(training_set) / batch_size)\n",
        "num_batchs_validation = math.ceil(len(validation_set) / batch_size)\n",
        "\n",
        "model.fit(\n",
        "    gen_batch(\n",
        "        training_set, batch_size=batch_size, repeat=True\n",
        "    ),\n",
        "    steps_per_epoch=num_batchs,\n",
        "    epochs=10,\n",
        "    validation_data=gen_batch(\n",
        "        validation_set, batch_size=16, repeat=True\n",
        "    ),\n",
        "    validation_steps=num_batchs_validation,\n",
        ")"
      ]
    },
    {
      "cell_type": "code",
      "execution_count": null,
      "metadata": {
        "colab": {
          "base_uri": "https://localhost:8080/"
        },
        "outputId": "3b9321f1-375a-4e84-b572-396fa8677623",
        "id": "jaPB2piM5fxF"
      },
      "outputs": [
        {
          "output_type": "execute_result",
          "data": {
            "text/plain": [
              "(12326,)"
            ]
          },
          "metadata": {},
          "execution_count": 52
        }
      ],
      "source": [
        "y_pred = model.predict(\n",
        "    gen_batch(testing_set, batch_size=16, shuffle=False)\n",
        ")\n",
        "\n",
        "y_pred = np.reshape(y_pred, -1)\n",
        "y_pred.shape"
      ]
    },
    {
      "cell_type": "code",
      "source": [
        "y_pred"
      ],
      "metadata": {
        "colab": {
          "base_uri": "https://localhost:8080/"
        },
        "outputId": "acfe98c9-c40f-4403-baaf-ee0d1d44f31d",
        "id": "4LGmP8vN5fxF"
      },
      "execution_count": null,
      "outputs": [
        {
          "output_type": "execute_result",
          "data": {
            "text/plain": [
              "array([0.39257607, 0.14778882, 0.11104897, ..., 0.02729055, 0.25621212,\n",
              "       0.04084799], dtype=float32)"
            ]
          },
          "metadata": {},
          "execution_count": 53
        }
      ]
    },
    {
      "cell_type": "code",
      "execution_count": null,
      "metadata": {
        "id": "tgu3b-Ri5fxF"
      },
      "outputs": [],
      "source": [
        "import pandas as pd \n",
        "submission = pd.DataFrame({'label':y_pred})\n",
        "submission.index.name = 'id'\n",
        "submission.to_csv('tr.csv')"
      ]
    },
    {
      "cell_type": "markdown",
      "source": [
        "#Aggregation 2\n"
      ],
      "metadata": {
        "id": "UkOGpGKOMyUQ"
      }
    },
    {
      "cell_type": "code",
      "source": [
        "from  tf2_gnn.layers.message_passing import rgat,rgin,rgcn,gnn_film,ggnn,gnn_edge_mlp\n",
        "import tensorflow as tf\n",
        "from tensorflow.math import segment_mean #to calculate segmented mean\n",
        "from tensorflow import keras\n",
        "from tensorflow.keras import Input, Model #layers and model\n",
        "from tensorflow.keras.layers import Embedding, Dense #layers\n",
        "from tensorflow.keras.optimizers import Adam #optimizer"
      ],
      "metadata": {
        "id": "SXiQqOaXM4ax"
      },
      "execution_count": 25,
      "outputs": []
    },
    {
      "cell_type": "code",
      "source": [
        "data = keras.Input(batch_shape=(None,))  #Input layer for nodes (tokenized text data)            eg. [440]\n",
        "\n",
        "# the first dim is different to the previous one. it is the total number of edges in this batch\n",
        "edge = keras.Input(batch_shape=(None, 2), dtype=tf.int32)     #Input layer for edge data         eg. [257,2]\n",
        "node2graph = keras.Input(batch_shape=(None,), dtype=tf.int32) #Input layer for node2graph ids    eg. [440]\n",
        "\n",
        "embeded = Embedding(tokenizer.num_words, 75)(data)  #embedding layer over data with each token embedded as  size vector eg. [440,75]\n",
        "\n",
        "\n",
        "# number of graphs (number of samples)\n",
        "num_graph = tf.reduce_max(node2graph)+1  #calculating number of samples (or min(batch_size,no._of_samples))    eg. 10\n",
        "\n",
        "#gnn_input layer with inputs as defined above\n",
        "gnn_input = GNNInput(\n",
        "    node_features=embeded,\n",
        "    adjacency_lists=(edge,),\n",
        "    node_to_graph_map=node2graph, \n",
        "    num_graphs=num_graph,\n",
        ")\n",
        "\n",
        "# https://github.com/microsoft/tf2-gnn/blob/master/tf2_gnn/layers/gnn.py\n",
        "#defining hyperparameters for GNN layer\n",
        "params = GNN.get_default_hyperparameters()\n",
        "params[\"hidden_dim\"] = 32 #defining hidden dimension of the gnn layer\n",
        "params[\"message_calculation_class\"] = 'GGNN'\n",
        "#params[\"num_edge_MLP_hidden_layers\"] = 16\n",
        "#gnn layer with defined hyperparameters\n",
        "gnn_layer = GNN(params)  \n",
        "\n",
        "#gnn output layer \n",
        "gnn_out = gnn_layer(gnn_input) #outpur shape: [data_dimension,hidden layers]   eg. [440,32]\n",
        "\n",
        "print('gnn_out', gnn_out)           \n",
        "\n",
        "# https://www.tensorflow.org/api_docs/python/tf/math/segment_mean\n",
        "\n",
        "#calculating segmented mean based on segment_ids\n",
        "avg = segment_mean(\n",
        "    data=gnn_out,\n",
        "    segment_ids=node2graph\n",
        "    )                                    #shape: [batch_size,64]  eg. [10,32]\n",
        "\n",
        "print('mean:', avg)\n",
        "\n",
        "#final dense layer with sigmoid\n",
        "fc1 = Dense(8,activation='relu')(avg) #Output [None,8]\n",
        "#fc2 = Dense(64,activation='relu')(fc1)\n",
        "pred = Dense(1, activation='sigmoid')(fc1)   #output shape: [batch_size,1] \n",
        "print('pred:', pred)\n",
        "\n",
        "#building model \n",
        "#inputs are data,edges and node2graph\n",
        "#input: dictionary\n",
        "#output: prediction value from dense layer\n",
        "model = Model(\n",
        "    inputs={\n",
        "        'data': data, \n",
        "        'edges': edge,\n",
        "        'node2grah': node2graph,\n",
        "    },\n",
        "    outputs=pred\n",
        ")\n",
        "\n",
        "model.summary()"
      ],
      "metadata": {
        "colab": {
          "base_uri": "https://localhost:8080/"
        },
        "id": "Dep7MonQM8BQ",
        "outputId": "5e2a9d48-90d8-4691-d0a3-12e47d878429"
      },
      "execution_count": 26,
      "outputs": [
        {
          "output_type": "stream",
          "name": "stdout",
          "text": [
            "gnn_out KerasTensor(type_spec=TensorSpec(shape=(None, 32), dtype=tf.float32, name=None), name='gnn_1/StatefulPartitionedCall:0', description=\"created by layer 'gnn_1'\")\n",
            "mean: KerasTensor(type_spec=TensorSpec(shape=(None, 32), dtype=tf.float32, name=None), name='tf.math.segment_mean_1/SegmentMean:0', description=\"created by layer 'tf.math.segment_mean_1'\")\n",
            "pred: KerasTensor(type_spec=TensorSpec(shape=(None, 1), dtype=tf.float32, name=None), name='dense_2/Sigmoid:0', description=\"created by layer 'dense_2'\")\n",
            "Model: \"model_1\"\n",
            "__________________________________________________________________________________________________\n",
            " Layer (type)                   Output Shape         Param #     Connected to                     \n",
            "==================================================================================================\n",
            " input_6 (InputLayer)           [(None,)]            0           []                               \n",
            "                                                                                                  \n",
            " input_4 (InputLayer)           [(None,)]            0           []                               \n",
            "                                                                                                  \n",
            " tf.math.reduce_max_1 (TFOpLamb  ()                  0           ['input_6[0][0]']                \n",
            " da)                                                                                              \n",
            "                                                                                                  \n",
            " embedding_1 (Embedding)        (None, 75)           37500       ['input_4[0][0]']                \n",
            "                                                                                                  \n",
            " input_5 (InputLayer)           [(None, 2)]          0           []                               \n",
            "                                                                                                  \n",
            " tf.__operators__.add_1 (TFOpLa  ()                  0           ['tf.math.reduce_max_1[0][0]']   \n",
            " mbda)                                                                                            \n",
            "                                                                                                  \n",
            " gnn_1 (GNN)                    (None, 32)           49568       ['embedding_1[0][0]',            \n",
            "                                                                  'input_5[0][0]',                \n",
            "                                                                  'input_6[0][0]',                \n",
            "                                                                  'tf.__operators__.add_1[0][0]'] \n",
            "                                                                                                  \n",
            " tf.math.segment_mean_1 (TFOpLa  (None, 32)          0           ['gnn_1[0][0]',                  \n",
            " mbda)                                                            'input_6[0][0]']                \n",
            "                                                                                                  \n",
            " dense_1 (Dense)                (None, 8)            264         ['tf.math.segment_mean_1[0][0]'] \n",
            "                                                                                                  \n",
            " dense_2 (Dense)                (None, 1)            9           ['dense_1[0][0]']                \n",
            "                                                                                                  \n",
            "==================================================================================================\n",
            "Total params: 87,341\n",
            "Trainable params: 87,341\n",
            "Non-trainable params: 0\n",
            "__________________________________________________________________________________________________\n"
          ]
        }
      ]
    },
    {
      "cell_type": "code",
      "source": [
        "model.compile(\n",
        "    loss='BinaryCrossentropy',\n",
        "    metrics=['AUC']\n",
        ")"
      ],
      "metadata": {
        "id": "neFPpVWhNGSa"
      },
      "execution_count": 27,
      "outputs": []
    },
    {
      "cell_type": "markdown",
      "source": [
        "##trail 6"
      ],
      "metadata": {
        "id": "VWRPPn1jOAUb"
      }
    },
    {
      "cell_type": "code",
      "source": [
        ""
      ],
      "metadata": {
        "id": "CeHfyFeCOABo"
      },
      "execution_count": null,
      "outputs": []
    },
    {
      "cell_type": "code",
      "source": [
        "import math\n",
        "\n",
        "batch_size = 64\n",
        "\n",
        "#math.ceil: returns the smallest integral value greater than the number\n",
        "num_batchs = math.ceil(len(training_set) / batch_size) #no. of batches for training data\n",
        "\n",
        "num_batchs_validation = math.ceil(len(validation_set) / batch_size) #no. of batches for validation data\n",
        "\n",
        "model.fit(\n",
        "    gen_batch(\n",
        "        training_set, batch_size=batch_size, repeat=True\n",
        "    ),\n",
        "    steps_per_epoch=num_batchs,\n",
        "    epochs=2,\n",
        "    validation_data=gen_batch(\n",
        "        validation_set, batch_size=16, repeat=True\n",
        "    ),\n",
        "    validation_steps=num_batchs_validation,\n",
        "   # callbacks=[\n",
        "    #    tf.keras.callbacks.EarlyStopping(monitor='auc', patience=5, restore_best_weights=True,mode='max')]\n",
        ")"
      ],
      "metadata": {
        "colab": {
          "base_uri": "https://localhost:8080/"
        },
        "id": "XCR5K-EGNJwD",
        "outputId": "3d774726-9968-4ae7-f154-e100d1a5ff15"
      },
      "execution_count": null,
      "outputs": [
        {
          "output_type": "stream",
          "name": "stdout",
          "text": [
            "Epoch 1/2\n"
          ]
        },
        {
          "output_type": "stream",
          "name": "stderr",
          "text": [
            "/usr/local/lib/python3.7/dist-packages/tensorflow/python/framework/indexed_slices.py:446: UserWarning: Converting sparse IndexedSlices(IndexedSlices(indices=Tensor(\"gradients/ggnn_3/embedding_lookup_grad/Reshape_1:0\", shape=(None,), dtype=int32), values=Tensor(\"gradients/ggnn_3/embedding_lookup_grad/Reshape:0\", shape=(None, 32), dtype=float32), dense_shape=Tensor(\"gradients/ggnn_3/embedding_lookup_grad/Cast:0\", shape=(2,), dtype=int32))) to a dense Tensor of unknown shape. This may consume a large amount of memory.\n",
            "  \"shape. This may consume a large amount of memory.\" % value)\n",
            "/usr/local/lib/python3.7/dist-packages/tensorflow/python/framework/indexed_slices.py:446: UserWarning: Converting sparse IndexedSlices(IndexedSlices(indices=Tensor(\"gradients/ggnn_2/embedding_lookup_grad/Reshape_1:0\", shape=(None,), dtype=int32), values=Tensor(\"gradients/ggnn_2/embedding_lookup_grad/Reshape:0\", shape=(None, 32), dtype=float32), dense_shape=Tensor(\"gradients/ggnn_2/embedding_lookup_grad/Cast:0\", shape=(2,), dtype=int32))) to a dense Tensor of unknown shape. This may consume a large amount of memory.\n",
            "  \"shape. This may consume a large amount of memory.\" % value)\n",
            "/usr/local/lib/python3.7/dist-packages/tensorflow/python/framework/indexed_slices.py:446: UserWarning: Converting sparse IndexedSlices(IndexedSlices(indices=Tensor(\"gradients/ggnn_1/embedding_lookup_grad/Reshape_1:0\", shape=(None,), dtype=int32), values=Tensor(\"gradients/ggnn_1/embedding_lookup_grad/Reshape:0\", shape=(None, 32), dtype=float32), dense_shape=Tensor(\"gradients/ggnn_1/embedding_lookup_grad/Cast:0\", shape=(2,), dtype=int32))) to a dense Tensor of unknown shape. This may consume a large amount of memory.\n",
            "  \"shape. This may consume a large amount of memory.\" % value)\n",
            "/usr/local/lib/python3.7/dist-packages/tensorflow/python/framework/indexed_slices.py:446: UserWarning: Converting sparse IndexedSlices(IndexedSlices(indices=Tensor(\"gradients/ggnn/embedding_lookup_grad/Reshape_1:0\", shape=(None,), dtype=int32), values=Tensor(\"gradients/ggnn/embedding_lookup_grad/Reshape:0\", shape=(None, 32), dtype=float32), dense_shape=Tensor(\"gradients/ggnn/embedding_lookup_grad/Cast:0\", shape=(2,), dtype=int32))) to a dense Tensor of unknown shape. This may consume a large amount of memory.\n",
            "  \"shape. This may consume a large amount of memory.\" % value)\n"
          ]
        },
        {
          "output_type": "stream",
          "name": "stdout",
          "text": [
            "333/333 [==============================] - 42s 108ms/step - loss: 0.2021 - auc: 0.5967 - val_loss: 0.1852 - val_auc: 0.6378\n",
            "Epoch 2/2\n",
            "333/333 [==============================] - 35s 106ms/step - loss: 0.1870 - auc: 0.6432 - val_loss: 0.1763 - val_auc: 0.7003\n"
          ]
        },
        {
          "output_type": "execute_result",
          "data": {
            "text/plain": [
              "<keras.callbacks.History at 0x7f38e23808d0>"
            ]
          },
          "metadata": {},
          "execution_count": 58
        }
      ]
    },
    {
      "cell_type": "code",
      "source": [
        "y_pred = model.predict(\n",
        "    gen_batch(testing_set, batch_size=16, shuffle=False)\n",
        ")\n",
        "y_pred = np.reshape(y_pred, -1)"
      ],
      "metadata": {
        "id": "F5TUwLv9NUDc"
      },
      "execution_count": null,
      "outputs": []
    },
    {
      "cell_type": "code",
      "source": [
        "len(y_pred)\n"
      ],
      "metadata": {
        "colab": {
          "base_uri": "https://localhost:8080/"
        },
        "id": "MCT5QNr0NqlT",
        "outputId": "5ca23fc7-a59a-474e-d08c-3fbe8f258751"
      },
      "execution_count": null,
      "outputs": [
        {
          "output_type": "execute_result",
          "data": {
            "text/plain": [
              "12326"
            ]
          },
          "metadata": {},
          "execution_count": 60
        }
      ]
    },
    {
      "cell_type": "code",
      "source": [
        "import pandas as pd \n",
        "submission = pd.DataFrame({'label':y_pred})\n",
        "submission.index.name = 'id'\n",
        "submission.to_csv('st6.csv')"
      ],
      "metadata": {
        "id": "00tSvoPsNW2W"
      },
      "execution_count": null,
      "outputs": []
    },
    {
      "cell_type": "markdown",
      "source": [
        "##trail 7"
      ],
      "metadata": {
        "id": "bnLqUiKbODJA"
      }
    },
    {
      "cell_type": "code",
      "source": [
        ""
      ],
      "metadata": {
        "id": "YD-NB-HuOEyb"
      },
      "execution_count": null,
      "outputs": []
    },
    {
      "cell_type": "code",
      "source": [
        "import math\n",
        "\n",
        "batch_size = 16\n",
        "\n",
        "#math.ceil: returns the smallest integral value greater than the number\n",
        "num_batchs = math.ceil(len(training_set) / batch_size) #no. of batches for training data\n",
        "\n",
        "num_batchs_validation = math.ceil(len(validation_set) / batch_size) #no. of batches for validation data\n",
        "\n",
        "model.fit(\n",
        "    gen_batch(\n",
        "        training_set, batch_size=batch_size, repeat=True\n",
        "    ),\n",
        "    steps_per_epoch=num_batchs,\n",
        "    epochs=5,\n",
        "    validation_data=gen_batch(\n",
        "        validation_set, batch_size=16, repeat=True\n",
        "    ),\n",
        "    validation_steps=num_batchs_validation,\n",
        "   # callbacks=[\n",
        "    #    tf.keras.callbacks.EarlyStopping(monitor='auc', patience=5, restore_best_weights=True,mode='max')]\n",
        ")"
      ],
      "metadata": {
        "colab": {
          "base_uri": "https://localhost:8080/"
        },
        "outputId": "31a44b60-82b4-4b84-d815-75d7db47ad5b",
        "id": "ES_lSvm1OFio"
      },
      "execution_count": null,
      "outputs": [
        {
          "output_type": "stream",
          "name": "stdout",
          "text": [
            "Epoch 1/5\n",
            "1330/1330 [==============================] - 36s 27ms/step - loss: 0.1851 - auc: 0.6508 - val_loss: 0.1821 - val_auc: 0.6779\n",
            "Epoch 2/5\n",
            "1330/1330 [==============================] - 35s 26ms/step - loss: 0.1790 - auc: 0.6998 - val_loss: 0.1848 - val_auc: 0.6896\n",
            "Epoch 3/5\n",
            "1330/1330 [==============================] - 35s 26ms/step - loss: 0.1778 - auc: 0.7032 - val_loss: 0.1854 - val_auc: 0.6792\n",
            "Epoch 4/5\n",
            "1330/1330 [==============================] - 36s 27ms/step - loss: 0.1748 - auc: 0.7215 - val_loss: 0.1775 - val_auc: 0.7011\n",
            "Epoch 5/5\n",
            "1330/1330 [==============================] - 36s 27ms/step - loss: 0.1745 - auc: 0.7266 - val_loss: 0.1805 - val_auc: 0.6870\n"
          ]
        },
        {
          "output_type": "execute_result",
          "data": {
            "text/plain": [
              "<keras.callbacks.History at 0x7f38ef9e9250>"
            ]
          },
          "metadata": {},
          "execution_count": 62
        }
      ]
    },
    {
      "cell_type": "code",
      "source": [
        "y_pred = model.predict(\n",
        "    gen_batch(testing_set, batch_size=16, shuffle=False)\n",
        ")\n",
        "y_pred = np.reshape(y_pred, -1)"
      ],
      "metadata": {
        "id": "x9t1Xs4_OFip"
      },
      "execution_count": null,
      "outputs": []
    },
    {
      "cell_type": "code",
      "source": [
        "len(y_pred)\n"
      ],
      "metadata": {
        "colab": {
          "base_uri": "https://localhost:8080/"
        },
        "outputId": "efcf24f1-b94b-45bf-b97a-5431d7ddea2d",
        "id": "6rlk5R2oOFip"
      },
      "execution_count": null,
      "outputs": [
        {
          "output_type": "execute_result",
          "data": {
            "text/plain": [
              "12326"
            ]
          },
          "metadata": {},
          "execution_count": 64
        }
      ]
    },
    {
      "cell_type": "code",
      "source": [
        "import pandas as pd \n",
        "submission = pd.DataFrame({'label':y_pred})\n",
        "submission.index.name = 'id'\n",
        "submission.to_csv('st7.csv')"
      ],
      "metadata": {
        "id": "8ZsZRPtXOFip"
      },
      "execution_count": null,
      "outputs": []
    },
    {
      "cell_type": "markdown",
      "source": [
        "##trail 8"
      ],
      "metadata": {
        "id": "t2zpK2YFR1NI"
      }
    },
    {
      "cell_type": "code",
      "source": [
        "import math\n",
        "\n",
        "batch_size = 64\n",
        "\n",
        "#math.ceil: returns the smallest integral value greater than the number\n",
        "num_batchs = math.ceil(len(training_set) / batch_size) #no. of batches for training data\n",
        "\n",
        "num_batchs_validation = math.ceil(len(validation_set) / batch_size) #no. of batches for validation data\n",
        "\n",
        "model.fit(\n",
        "    gen_batch(\n",
        "        training_set, batch_size=batch_size, repeat=True\n",
        "    ),\n",
        "    steps_per_epoch=num_batchs,\n",
        "    epochs=18,\n",
        "    validation_data=gen_batch(\n",
        "        validation_set, batch_size=64, repeat=True\n",
        "    ),\n",
        "    validation_steps=num_batchs_validation,\n",
        "   # callbacks=[\n",
        "    #    tf.keras.callbacks.EarlyStopping(monitor='auc', patience=5, restore_best_weights=True,mode='max')]\n",
        ")"
      ],
      "metadata": {
        "colab": {
          "base_uri": "https://localhost:8080/"
        },
        "outputId": "1168c8b4-ad28-4d0b-e88f-e772d315cc55",
        "id": "PHmh7S9JR1NQ"
      },
      "execution_count": null,
      "outputs": [
        {
          "output_type": "stream",
          "name": "stdout",
          "text": [
            "Epoch 1/18\n",
            "333/333 [==============================] - 37s 110ms/step - loss: 0.1704 - auc: 0.7405 - val_loss: 0.1719 - val_auc: 0.7281\n",
            "Epoch 2/18\n",
            "333/333 [==============================] - 36s 109ms/step - loss: 0.1686 - auc: 0.7584 - val_loss: 0.1760 - val_auc: 0.7210\n",
            "Epoch 3/18\n",
            "333/333 [==============================] - 36s 107ms/step - loss: 0.1660 - auc: 0.7707 - val_loss: 0.1669 - val_auc: 0.7316\n",
            "Epoch 4/18\n",
            "333/333 [==============================] - 38s 116ms/step - loss: 0.1657 - auc: 0.7734 - val_loss: 0.1761 - val_auc: 0.7410\n",
            "Epoch 5/18\n",
            "333/333 [==============================] - 35s 105ms/step - loss: 0.1652 - auc: 0.7735 - val_loss: 0.1662 - val_auc: 0.7408\n",
            "Epoch 6/18\n",
            "333/333 [==============================] - 37s 110ms/step - loss: 0.1626 - auc: 0.7836 - val_loss: 0.1605 - val_auc: 0.7625\n",
            "Epoch 7/18\n",
            "333/333 [==============================] - 37s 111ms/step - loss: 0.1611 - auc: 0.7886 - val_loss: 0.1672 - val_auc: 0.7522\n",
            "Epoch 8/18\n",
            "333/333 [==============================] - 38s 114ms/step - loss: 0.1610 - auc: 0.7897 - val_loss: 0.1597 - val_auc: 0.7642\n",
            "Epoch 9/18\n",
            "333/333 [==============================] - 37s 113ms/step - loss: 0.1602 - auc: 0.7914 - val_loss: 0.1627 - val_auc: 0.7788\n",
            "Epoch 10/18\n",
            "333/333 [==============================] - 34s 102ms/step - loss: 0.1593 - auc: 0.7948 - val_loss: 0.1672 - val_auc: 0.7705\n",
            "Epoch 11/18\n",
            "333/333 [==============================] - 37s 112ms/step - loss: 0.1566 - auc: 0.8009 - val_loss: 0.1620 - val_auc: 0.7704\n",
            "Epoch 12/18\n",
            "333/333 [==============================] - 36s 109ms/step - loss: 0.1564 - auc: 0.8013 - val_loss: 0.1530 - val_auc: 0.7867\n",
            "Epoch 13/18\n",
            "333/333 [==============================] - 36s 109ms/step - loss: 0.1553 - auc: 0.7995 - val_loss: 0.1659 - val_auc: 0.7570\n",
            "Epoch 14/18\n",
            "333/333 [==============================] - 36s 107ms/step - loss: 0.1547 - auc: 0.8032 - val_loss: 0.1634 - val_auc: 0.7906\n",
            "Epoch 15/18\n",
            "333/333 [==============================] - 35s 106ms/step - loss: 0.1528 - auc: 0.8027 - val_loss: 0.1529 - val_auc: 0.7816\n",
            "Epoch 16/18\n",
            "333/333 [==============================] - 37s 112ms/step - loss: 0.1523 - auc: 0.8117 - val_loss: 0.1584 - val_auc: 0.7720\n",
            "Epoch 17/18\n",
            "333/333 [==============================] - 36s 108ms/step - loss: 0.1518 - auc: 0.8137 - val_loss: 0.1568 - val_auc: 0.7983\n",
            "Epoch 18/18\n",
            "333/333 [==============================] - 37s 110ms/step - loss: 0.1496 - auc: 0.8195 - val_loss: 0.1635 - val_auc: 0.7663\n"
          ]
        },
        {
          "output_type": "execute_result",
          "data": {
            "text/plain": [
              "<keras.callbacks.History at 0x7f38ecfa2b50>"
            ]
          },
          "metadata": {},
          "execution_count": 66
        }
      ]
    },
    {
      "cell_type": "code",
      "source": [
        "y_pred = model.predict(\n",
        "    gen_batch(testing_set, batch_size=16, shuffle=False)\n",
        ")\n",
        "y_pred = np.reshape(y_pred, -1)"
      ],
      "metadata": {
        "id": "uYLbtT9rR1NR"
      },
      "execution_count": null,
      "outputs": []
    },
    {
      "cell_type": "code",
      "source": [
        "len(y_pred)\n"
      ],
      "metadata": {
        "colab": {
          "base_uri": "https://localhost:8080/"
        },
        "outputId": "aaefe1a7-353e-459a-e396-91f96601459f",
        "id": "CAkJYSASR1NR"
      },
      "execution_count": null,
      "outputs": [
        {
          "output_type": "execute_result",
          "data": {
            "text/plain": [
              "12326"
            ]
          },
          "metadata": {},
          "execution_count": 68
        }
      ]
    },
    {
      "cell_type": "code",
      "source": [
        "import pandas as pd \n",
        "submission = pd.DataFrame({'label':y_pred})\n",
        "submission.index.name = 'id'\n",
        "submission.to_csv('st8.csv')"
      ],
      "metadata": {
        "id": "psHjJ8IQR1NR"
      },
      "execution_count": null,
      "outputs": []
    },
    {
      "cell_type": "markdown",
      "source": [
        "##trail 9"
      ],
      "metadata": {
        "id": "zFIH1RIiUCw3"
      }
    },
    {
      "cell_type": "code",
      "source": [
        "import math\n",
        "\n",
        "batch_size = 32\n",
        "\n",
        "#math.ceil: returns the smallest integral value greater than the number\n",
        "num_batchs = math.ceil(len(training_set) / batch_size) #no. of batches for training data\n",
        "\n",
        "num_batchs_validation = math.ceil(len(validation_set) / batch_size) #no. of batches for validation data\n",
        "\n",
        "model.fit(\n",
        "    gen_batch(\n",
        "        training_set, batch_size=batch_size, repeat=True\n",
        "    ),\n",
        "    steps_per_epoch=num_batchs,\n",
        "    epochs=20,\n",
        "    validation_data=gen_batch(\n",
        "        validation_set, batch_size=16, repeat=True\n",
        "    ),\n",
        "    validation_steps=num_batchs_validation,\n",
        "   # callbacks=[\n",
        "    #    tf.keras.callbacks.EarlyStopping(monitor='auc', patience=5, restore_best_weights=True,mode='max')]\n",
        ")"
      ],
      "metadata": {
        "colab": {
          "base_uri": "https://localhost:8080/"
        },
        "outputId": "58d345a4-3753-4cc2-f873-2be36d3c34cb",
        "id": "Limtdd3bUCw_"
      },
      "execution_count": 28,
      "outputs": [
        {
          "output_type": "stream",
          "name": "stdout",
          "text": [
            "Epoch 1/20\n"
          ]
        },
        {
          "output_type": "stream",
          "name": "stderr",
          "text": [
            "/usr/local/lib/python3.7/dist-packages/tensorflow/python/framework/indexed_slices.py:446: UserWarning: Converting sparse IndexedSlices(IndexedSlices(indices=Tensor(\"gradients/ggnn_3/embedding_lookup_grad/Reshape_1:0\", shape=(None,), dtype=int32), values=Tensor(\"gradients/ggnn_3/embedding_lookup_grad/Reshape:0\", shape=(None, 32), dtype=float32), dense_shape=Tensor(\"gradients/ggnn_3/embedding_lookup_grad/Cast:0\", shape=(2,), dtype=int32))) to a dense Tensor of unknown shape. This may consume a large amount of memory.\n",
            "  \"shape. This may consume a large amount of memory.\" % value)\n",
            "/usr/local/lib/python3.7/dist-packages/tensorflow/python/framework/indexed_slices.py:446: UserWarning: Converting sparse IndexedSlices(IndexedSlices(indices=Tensor(\"gradients/GatherV2_1_grad/Reshape_1:0\", shape=(None,), dtype=int32), values=Tensor(\"gradients/GatherV2_1_grad/Reshape:0\", shape=(None,), dtype=float32), dense_shape=Tensor(\"gradients/GatherV2_1_grad/Cast:0\", shape=(1,), dtype=int32))) to a dense Tensor of unknown shape. This may consume a large amount of memory.\n",
            "  \"shape. This may consume a large amount of memory.\" % value)\n",
            "/usr/local/lib/python3.7/dist-packages/tensorflow/python/framework/indexed_slices.py:446: UserWarning: Converting sparse IndexedSlices(IndexedSlices(indices=Tensor(\"gradients/GatherV2_grad/Reshape_1:0\", shape=(None,), dtype=int32), values=Tensor(\"gradients/GatherV2_grad/Reshape:0\", shape=(None,), dtype=float32), dense_shape=Tensor(\"gradients/GatherV2_grad/Cast:0\", shape=(1,), dtype=int32))) to a dense Tensor of unknown shape. This may consume a large amount of memory.\n",
            "  \"shape. This may consume a large amount of memory.\" % value)\n",
            "/usr/local/lib/python3.7/dist-packages/tensorflow/python/framework/indexed_slices.py:446: UserWarning: Converting sparse IndexedSlices(IndexedSlices(indices=Tensor(\"gradients/ggnn_2/embedding_lookup_grad/Reshape_1:0\", shape=(None,), dtype=int32), values=Tensor(\"gradients/ggnn_2/embedding_lookup_grad/Reshape:0\", shape=(None, 32), dtype=float32), dense_shape=Tensor(\"gradients/ggnn_2/embedding_lookup_grad/Cast:0\", shape=(2,), dtype=int32))) to a dense Tensor of unknown shape. This may consume a large amount of memory.\n",
            "  \"shape. This may consume a large amount of memory.\" % value)\n",
            "/usr/local/lib/python3.7/dist-packages/tensorflow/python/framework/indexed_slices.py:446: UserWarning: Converting sparse IndexedSlices(IndexedSlices(indices=Tensor(\"gradients/ggnn_1/embedding_lookup_grad/Reshape_1:0\", shape=(None,), dtype=int32), values=Tensor(\"gradients/ggnn_1/embedding_lookup_grad/Reshape:0\", shape=(None, 32), dtype=float32), dense_shape=Tensor(\"gradients/ggnn_1/embedding_lookup_grad/Cast:0\", shape=(2,), dtype=int32))) to a dense Tensor of unknown shape. This may consume a large amount of memory.\n",
            "  \"shape. This may consume a large amount of memory.\" % value)\n",
            "/usr/local/lib/python3.7/dist-packages/tensorflow/python/framework/indexed_slices.py:446: UserWarning: Converting sparse IndexedSlices(IndexedSlices(indices=Tensor(\"gradients/ggnn/embedding_lookup_grad/Reshape_1:0\", shape=(None,), dtype=int32), values=Tensor(\"gradients/ggnn/embedding_lookup_grad/Reshape:0\", shape=(None, 32), dtype=float32), dense_shape=Tensor(\"gradients/ggnn/embedding_lookup_grad/Cast:0\", shape=(2,), dtype=int32))) to a dense Tensor of unknown shape. This may consume a large amount of memory.\n",
            "  \"shape. This may consume a large amount of memory.\" % value)\n"
          ]
        },
        {
          "output_type": "stream",
          "name": "stdout",
          "text": [
            "665/665 [==============================] - 36s 47ms/step - loss: 0.1977 - auc: 0.6030 - val_loss: 0.1850 - val_auc: 0.6584\n",
            "Epoch 2/20\n",
            "665/665 [==============================] - 31s 47ms/step - loss: 0.1869 - auc: 0.6457 - val_loss: 0.1916 - val_auc: 0.6994\n",
            "Epoch 3/20\n",
            "665/665 [==============================] - 31s 47ms/step - loss: 0.1868 - auc: 0.6504 - val_loss: 0.2020 - val_auc: 0.5915\n",
            "Epoch 4/20\n",
            "665/665 [==============================] - 43s 65ms/step - loss: 0.1850 - auc: 0.6579 - val_loss: 0.1852 - val_auc: 0.7039\n",
            "Epoch 5/20\n",
            "665/665 [==============================] - 31s 47ms/step - loss: 0.1825 - auc: 0.6741 - val_loss: 0.1893 - val_auc: 0.6808\n",
            "Epoch 6/20\n",
            "665/665 [==============================] - 31s 47ms/step - loss: 0.1798 - auc: 0.6935 - val_loss: 0.1509 - val_auc: 0.7233\n",
            "Epoch 7/20\n",
            "665/665 [==============================] - 32s 47ms/step - loss: 0.1777 - auc: 0.7028 - val_loss: 0.1990 - val_auc: 0.6689\n",
            "Epoch 8/20\n",
            "665/665 [==============================] - 31s 46ms/step - loss: 0.1747 - auc: 0.7247 - val_loss: 0.1608 - val_auc: 0.7551\n",
            "Epoch 9/20\n",
            "665/665 [==============================] - 31s 47ms/step - loss: 0.1731 - auc: 0.7433 - val_loss: 0.1647 - val_auc: 0.7521\n",
            "Epoch 10/20\n",
            "665/665 [==============================] - 31s 47ms/step - loss: 0.1709 - auc: 0.7516 - val_loss: 0.1865 - val_auc: 0.7098\n",
            "Epoch 11/20\n",
            "665/665 [==============================] - 37s 56ms/step - loss: 0.1685 - auc: 0.7690 - val_loss: 0.1589 - val_auc: 0.7534\n",
            "Epoch 12/20\n",
            "665/665 [==============================] - 31s 47ms/step - loss: 0.1688 - auc: 0.7665 - val_loss: 0.1812 - val_auc: 0.7419\n",
            "Epoch 13/20\n",
            "665/665 [==============================] - 35s 53ms/step - loss: 0.1677 - auc: 0.7755 - val_loss: 0.1853 - val_auc: 0.7170\n",
            "Epoch 14/20\n",
            "665/665 [==============================] - 31s 47ms/step - loss: 0.1663 - auc: 0.7715 - val_loss: 0.1499 - val_auc: 0.8271\n",
            "Epoch 15/20\n",
            "665/665 [==============================] - 31s 47ms/step - loss: 0.1655 - auc: 0.7766 - val_loss: 0.1600 - val_auc: 0.8039\n",
            "Epoch 16/20\n",
            "665/665 [==============================] - 31s 47ms/step - loss: 0.1627 - auc: 0.7846 - val_loss: 0.1873 - val_auc: 0.7024\n",
            "Epoch 17/20\n",
            "665/665 [==============================] - 31s 47ms/step - loss: 0.1721 - auc: 0.7540 - val_loss: 0.1927 - val_auc: 0.7270\n",
            "Epoch 18/20\n",
            "665/665 [==============================] - 31s 47ms/step - loss: 0.1707 - auc: 0.7588 - val_loss: 0.1695 - val_auc: 0.7319\n",
            "Epoch 19/20\n",
            "665/665 [==============================] - 31s 46ms/step - loss: 0.1652 - auc: 0.7807 - val_loss: 0.1853 - val_auc: 0.7633\n",
            "Epoch 20/20\n",
            "665/665 [==============================] - 31s 46ms/step - loss: 0.1699 - auc: 0.7655 - val_loss: 0.1603 - val_auc: 0.7518\n"
          ]
        },
        {
          "output_type": "execute_result",
          "data": {
            "text/plain": [
              "<keras.callbacks.History at 0x7f1d5dd966d0>"
            ]
          },
          "metadata": {},
          "execution_count": 28
        }
      ]
    },
    {
      "cell_type": "code",
      "source": [
        "y_pred = model.predict(\n",
        "    gen_batch(testing_set, batch_size=16, shuffle=False)\n",
        ")\n",
        "y_pred = np.reshape(y_pred, -1)"
      ],
      "metadata": {
        "id": "J4GaxoGNUCw_"
      },
      "execution_count": 29,
      "outputs": []
    },
    {
      "cell_type": "code",
      "source": [
        "len(y_pred)\n"
      ],
      "metadata": {
        "id": "7zM3agPcUCxA",
        "colab": {
          "base_uri": "https://localhost:8080/"
        },
        "outputId": "d6b99aab-537f-4575-9541-41389c7573ba"
      },
      "execution_count": 30,
      "outputs": [
        {
          "output_type": "execute_result",
          "data": {
            "text/plain": [
              "12326"
            ]
          },
          "metadata": {},
          "execution_count": 30
        }
      ]
    },
    {
      "cell_type": "code",
      "source": [
        "import pandas as pd \n",
        "submission = pd.DataFrame({'label':y_pred})\n",
        "submission.index.name = 'id'\n",
        "submission.to_csv('st9.csv')"
      ],
      "metadata": {
        "id": "_IN_M8S0UCxA"
      },
      "execution_count": 31,
      "outputs": []
    },
    {
      "cell_type": "markdown",
      "source": [
        "#Aggregation 3\n"
      ],
      "metadata": {
        "id": "03A2EhWJSxXq"
      }
    },
    {
      "cell_type": "code",
      "source": [
        "from  tf2_gnn.layers.message_passing import RGAT,  MessagePassing, MessagePassingInput\n",
        "import tensorflow as tf\n",
        "from tensorflow.math import segment_mean #to calculate segmented mean\n",
        "from tensorflow import keras\n",
        "from tensorflow.keras import Input, Model #layers and model\n",
        "from tensorflow.keras.layers import Embedding, Dense #layers\n",
        "from tensorflow.keras.optimizers import Adam #optimizer\n"
      ],
      "metadata": {
        "id": "Fr3Akji_TS8d"
      },
      "execution_count": 32,
      "outputs": []
    },
    {
      "cell_type": "code",
      "source": [
        "\n",
        "data = keras.Input(batch_shape=(None,))  #Input layer for nodes (tokenized text data)            eg. [440]\n",
        "\n",
        "# the first dim is different to the previous one. it is the total number of edges in this batch\n",
        "edge = keras.Input(batch_shape=(None, 2), dtype=tf.int32)     #Input layer for edge data         eg. [257,2]\n",
        "node2graph = keras.Input(batch_shape=(None,), dtype=tf.int32) #Input layer for node2graph ids    eg. [440]\n",
        "\n",
        "embeded = Embedding(tokenizer.num_words, 100)(data)  #embedding layer over data with each token embedded as  size vector eg. [440,100]\n",
        "\n",
        "\n",
        "# number of graphs (number of samples)\n",
        "num_graph = tf.reduce_max(node2graph)+1  #calculating number of samples (or min(batch_size,no._of_samples))    eg. 10\n",
        "\n",
        "#gnn_input layer with inputs as defined above\n",
        "gnn_input = GNNInput(\n",
        "    node_features=embeded,\n",
        "    adjacency_lists=(edge,),\n",
        "    node_to_graph_map=node2graph, \n",
        "    num_graphs=num_graph,\n",
        ")\n",
        "\n",
        "# https://github.com/microsoft/tf2-gnn/blob/master/tf2_gnn/layers/gnn.py\n",
        "#defining hyperparameters for GNN layer\n",
        "params = GNN.get_default_hyperparameters()\n",
        "params[\"hidden_dim\"] = 12 #defining hidden dimension of the gnn layer\n",
        "params[\"message_calculation_class\"] = 'rgat'\n",
        "#params[\"num_layers\"] = 4\n",
        "params[\"num_heads\"] = 3\n",
        "\n",
        "#params['num_aggr_MLP_hidden_layers'] = 12\n",
        "#gnn layer with defined hyperparameters\n",
        "gnn_layer = GNN(params)  \n",
        "\n",
        "#gnn output layer \n",
        "gnn_out = gnn_layer(gnn_input) #outpur shape: [data_dimension,hidden layers]   eg. [440,12]\n",
        "\n",
        "print('gnn_out', gnn_out)           \n",
        "\n",
        "# https://www.tensorflow.org/api_docs/python/tf/math/segment_mean\n",
        "\n",
        "#calculating segmented mean based on segment_ids\n",
        "avg = segment_mean(\n",
        "    data=gnn_out,\n",
        "    segment_ids=node2graph\n",
        "    )                                    #shape: [batch_size,64]  eg. [10,12]\n",
        "\n",
        "print('mean:', avg)\n",
        "\n",
        "#final dense layer with sigmoid\n",
        "pred = Dense(1, activation='sigmoid')(avg)   #output shape: [batch_size,1] \n",
        "print('pred:', pred)\n",
        "\n",
        "#building model \n",
        "#inputs are data,edges and node2graph\n",
        "#input: dictionary\n",
        "#output: prediction value from dense layer\n",
        "model = Model(\n",
        "    inputs={\n",
        "        'data': data, \n",
        "        'edges': edge,\n",
        "        'node2grah': node2graph,\n",
        "    },\n",
        "    outputs=pred\n",
        ")\n",
        "\n",
        "#printing summary of the model\n",
        "model.summary()"
      ],
      "metadata": {
        "id": "NTDE16T8TvPW",
        "colab": {
          "base_uri": "https://localhost:8080/"
        },
        "outputId": "630c1cff-096a-4fe6-ddf0-f9453b1e05ad"
      },
      "execution_count": 33,
      "outputs": [
        {
          "output_type": "stream",
          "name": "stdout",
          "text": [
            "gnn_out KerasTensor(type_spec=TensorSpec(shape=(None, 12), dtype=tf.float32, name=None), name='gnn_2/StatefulPartitionedCall:0', description=\"created by layer 'gnn_2'\")\n",
            "mean: KerasTensor(type_spec=TensorSpec(shape=(None, 12), dtype=tf.float32, name=None), name='tf.math.segment_mean_2/SegmentMean:0', description=\"created by layer 'tf.math.segment_mean_2'\")\n",
            "pred: KerasTensor(type_spec=TensorSpec(shape=(None, 1), dtype=tf.float32, name=None), name='dense_3/Sigmoid:0', description=\"created by layer 'dense_3'\")\n",
            "Model: \"model_2\"\n",
            "__________________________________________________________________________________________________\n",
            " Layer (type)                   Output Shape         Param #     Connected to                     \n",
            "==================================================================================================\n",
            " input_9 (InputLayer)           [(None,)]            0           []                               \n",
            "                                                                                                  \n",
            " input_7 (InputLayer)           [(None,)]            0           []                               \n",
            "                                                                                                  \n",
            " tf.math.reduce_max_2 (TFOpLamb  ()                  0           ['input_9[0][0]']                \n",
            " da)                                                                                              \n",
            "                                                                                                  \n",
            " embedding_2 (Embedding)        (None, 100)          50000       ['input_7[0][0]']                \n",
            "                                                                                                  \n",
            " input_8 (InputLayer)           [(None, 2)]          0           []                               \n",
            "                                                                                                  \n",
            " tf.__operators__.add_2 (TFOpLa  ()                  0           ['tf.math.reduce_max_2[0][0]']   \n",
            " mbda)                                                                                            \n",
            "                                                                                                  \n",
            " gnn_2 (GNN)                    (None, 12)           6360        ['embedding_2[0][0]',            \n",
            "                                                                  'input_8[0][0]',                \n",
            "                                                                  'input_9[0][0]',                \n",
            "                                                                  'tf.__operators__.add_2[0][0]'] \n",
            "                                                                                                  \n",
            " tf.math.segment_mean_2 (TFOpLa  (None, 12)          0           ['gnn_2[0][0]',                  \n",
            " mbda)                                                            'input_9[0][0]']                \n",
            "                                                                                                  \n",
            " dense_3 (Dense)                (None, 1)            13          ['tf.math.segment_mean_2[0][0]'] \n",
            "                                                                                                  \n",
            "==================================================================================================\n",
            "Total params: 56,373\n",
            "Trainable params: 56,373\n",
            "Non-trainable params: 0\n",
            "__________________________________________________________________________________________________\n"
          ]
        }
      ]
    },
    {
      "cell_type": "code",
      "source": [
        "model.compile(\n",
        "    loss='BinaryCrossentropy',\n",
        "    metrics=['AUC']\n",
        ")"
      ],
      "metadata": {
        "id": "go0cZc8rT1m6"
      },
      "execution_count": 34,
      "outputs": []
    },
    {
      "cell_type": "markdown",
      "source": [
        "##trail 10"
      ],
      "metadata": {
        "id": "7shV0PKKT_E2"
      }
    },
    {
      "cell_type": "code",
      "source": [
        "import math\n",
        "\n",
        "batch_size = 16\n",
        "\n",
        "#math.ceil: returns the smallest integral value greater than the number\n",
        "num_batchs = math.ceil(len(training_set) / batch_size) #no. of batches for training data\n",
        "\n",
        "num_batchs_validation = math.ceil(len(validation_set) / batch_size) #no. of batches for validation data\n",
        "\n",
        "model.fit(\n",
        "    gen_batch(\n",
        "        training_set, batch_size=batch_size, repeat=True\n",
        "    ),\n",
        "    steps_per_epoch=num_batchs,\n",
        "    epochs=30,\n",
        "    validation_data=gen_batch(\n",
        "        validation_set, batch_size=16, repeat=True\n",
        "    ),\n",
        "    validation_steps=num_batchs_validation,\n",
        ")"
      ],
      "metadata": {
        "id": "Nj6CZRmiT5Cz",
        "colab": {
          "base_uri": "https://localhost:8080/"
        },
        "outputId": "4b025de4-4559-4509-da7b-4006778b4e8a"
      },
      "execution_count": 35,
      "outputs": [
        {
          "output_type": "stream",
          "name": "stdout",
          "text": [
            "Epoch 1/30\n"
          ]
        },
        {
          "output_type": "stream",
          "name": "stderr",
          "text": [
            "/usr/local/lib/python3.7/dist-packages/tensorflow/python/framework/indexed_slices.py:446: UserWarning: Converting sparse IndexedSlices(IndexedSlices(indices=Tensor(\"gradients/GatherV2_1_grad/Reshape_1:0\", shape=(None,), dtype=int32), values=Tensor(\"gradients/GatherV2_1_grad/Reshape:0\", shape=(None,), dtype=float32), dense_shape=Tensor(\"gradients/GatherV2_1_grad/Cast:0\", shape=(1,), dtype=int32))) to a dense Tensor of unknown shape. This may consume a large amount of memory.\n",
            "  \"shape. This may consume a large amount of memory.\" % value)\n",
            "/usr/local/lib/python3.7/dist-packages/tensorflow/python/framework/indexed_slices.py:446: UserWarning: Converting sparse IndexedSlices(IndexedSlices(indices=Tensor(\"gradients/GatherV2_grad/Reshape_1:0\", shape=(None,), dtype=int32), values=Tensor(\"gradients/GatherV2_grad/Reshape:0\", shape=(None,), dtype=float32), dense_shape=Tensor(\"gradients/GatherV2_grad/Cast:0\", shape=(1,), dtype=int32))) to a dense Tensor of unknown shape. This may consume a large amount of memory.\n",
            "  \"shape. This may consume a large amount of memory.\" % value)\n",
            "/usr/local/lib/python3.7/dist-packages/tensorflow/python/framework/indexed_slices.py:446: UserWarning: Converting sparse IndexedSlices(IndexedSlices(indices=Tensor(\"gradients/cond_3_grad/Identity_1:0\", shape=(None,), dtype=int32), values=Tensor(\"gradients/cond_3_grad/Identity:0\", shape=(None, 12), dtype=float32), dense_shape=Tensor(\"gradients/cond_3_grad/Identity_2:0\", shape=(2,), dtype=int32))) to a dense Tensor of unknown shape. This may consume a large amount of memory.\n",
            "  \"shape. This may consume a large amount of memory.\" % value)\n",
            "/usr/local/lib/python3.7/dist-packages/tensorflow/python/framework/indexed_slices.py:446: UserWarning: Converting sparse IndexedSlices(IndexedSlices(indices=Tensor(\"gradients/concat_3:0\", shape=(None,), dtype=int32), values=Tensor(\"gradients/concat_2:0\", shape=(None, 12), dtype=float32), dense_shape=Tensor(\"gradients/rgat_2/embedding_lookup_grad/Cast:0\", shape=(2,), dtype=int32))) to a dense Tensor of unknown shape. This may consume a large amount of memory.\n",
            "  \"shape. This may consume a large amount of memory.\" % value)\n",
            "/usr/local/lib/python3.7/dist-packages/tensorflow/python/framework/indexed_slices.py:446: UserWarning: Converting sparse IndexedSlices(IndexedSlices(indices=Tensor(\"gradients/cond_1_grad/Identity_1:0\", shape=(None,), dtype=int32), values=Tensor(\"gradients/cond_1_grad/Identity:0\", shape=(None, 12), dtype=float32), dense_shape=Tensor(\"gradients/cond_1_grad/Identity_2:0\", shape=(2,), dtype=int32))) to a dense Tensor of unknown shape. This may consume a large amount of memory.\n",
            "  \"shape. This may consume a large amount of memory.\" % value)\n",
            "/usr/local/lib/python3.7/dist-packages/tensorflow/python/framework/indexed_slices.py:446: UserWarning: Converting sparse IndexedSlices(IndexedSlices(indices=Tensor(\"gradients/rgat/embedding_lookup_grad/Reshape_1:0\", shape=(None,), dtype=int32), values=Tensor(\"gradients/rgat/embedding_lookup_grad/Reshape:0\", shape=(None, 12), dtype=float32), dense_shape=Tensor(\"gradients/rgat/embedding_lookup_grad/Cast:0\", shape=(2,), dtype=int32))) to a dense Tensor of unknown shape. This may consume a large amount of memory.\n",
            "  \"shape. This may consume a large amount of memory.\" % value)\n",
            "/usr/local/lib/python3.7/dist-packages/tensorflow/python/framework/indexed_slices.py:446: UserWarning: Converting sparse IndexedSlices(IndexedSlices(indices=Tensor(\"gradients/rgat/embedding_lookup_1_grad/Reshape_1:0\", shape=(None,), dtype=int32), values=Tensor(\"gradients/rgat/embedding_lookup_1_grad/Reshape:0\", shape=(None, 12), dtype=float32), dense_shape=Tensor(\"gradients/rgat/embedding_lookup_1_grad/Cast:0\", shape=(2,), dtype=int32))) to a dense Tensor of unknown shape. This may consume a large amount of memory.\n",
            "  \"shape. This may consume a large amount of memory.\" % value)\n"
          ]
        },
        {
          "output_type": "stream",
          "name": "stdout",
          "text": [
            "1330/1330 [==============================] - 28s 17ms/step - loss: 0.2483 - auc: 0.4123 - val_loss: 0.2074 - val_auc: 0.5828\n",
            "Epoch 2/30\n",
            "1330/1330 [==============================] - 21s 16ms/step - loss: 0.1990 - auc: 0.5650 - val_loss: 0.1896 - val_auc: 0.6211\n",
            "Epoch 3/30\n",
            "1330/1330 [==============================] - 21s 16ms/step - loss: 0.1950 - auc: 0.6108 - val_loss: 0.1924 - val_auc: 0.6586\n",
            "Epoch 4/30\n",
            "1330/1330 [==============================] - 21s 16ms/step - loss: 0.1915 - auc: 0.6358 - val_loss: 0.1840 - val_auc: 0.6863\n",
            "Epoch 5/30\n",
            "1330/1330 [==============================] - 21s 16ms/step - loss: 0.1901 - auc: 0.6466 - val_loss: 0.1799 - val_auc: 0.6919\n",
            "Epoch 6/30\n",
            "1330/1330 [==============================] - 21s 16ms/step - loss: 0.1871 - auc: 0.6609 - val_loss: 0.1857 - val_auc: 0.6997\n",
            "Epoch 7/30\n",
            "1330/1330 [==============================] - 21s 15ms/step - loss: 0.1878 - auc: 0.6545 - val_loss: 0.1792 - val_auc: 0.6969\n",
            "Epoch 8/30\n",
            "1330/1330 [==============================] - 21s 16ms/step - loss: 0.1870 - auc: 0.6628 - val_loss: 0.1961 - val_auc: 0.6892\n",
            "Epoch 9/30\n",
            "1330/1330 [==============================] - 21s 16ms/step - loss: 0.1870 - auc: 0.6522 - val_loss: 0.1899 - val_auc: 0.6284\n",
            "Epoch 10/30\n",
            "1330/1330 [==============================] - 21s 16ms/step - loss: 0.1859 - auc: 0.6625 - val_loss: 0.1782 - val_auc: 0.7231\n",
            "Epoch 11/30\n",
            "1330/1330 [==============================] - 21s 16ms/step - loss: 0.1849 - auc: 0.6714 - val_loss: 0.1775 - val_auc: 0.7102\n",
            "Epoch 12/30\n",
            "1330/1330 [==============================] - 21s 16ms/step - loss: 0.1829 - auc: 0.6802 - val_loss: 0.1769 - val_auc: 0.7020\n",
            "Epoch 13/30\n",
            "1330/1330 [==============================] - 21s 16ms/step - loss: 0.1838 - auc: 0.6855 - val_loss: 0.1874 - val_auc: 0.6656\n",
            "Epoch 14/30\n",
            "1330/1330 [==============================] - 21s 16ms/step - loss: 0.1826 - auc: 0.6810 - val_loss: 0.1719 - val_auc: 0.7176\n",
            "Epoch 15/30\n",
            "1330/1330 [==============================] - 22s 16ms/step - loss: 0.1823 - auc: 0.6922 - val_loss: 0.1804 - val_auc: 0.6969\n",
            "Epoch 16/30\n",
            "1330/1330 [==============================] - 21s 16ms/step - loss: 0.1815 - auc: 0.6900 - val_loss: 0.1763 - val_auc: 0.6877\n",
            "Epoch 17/30\n",
            "1330/1330 [==============================] - 21s 16ms/step - loss: 0.1815 - auc: 0.6866 - val_loss: 0.1768 - val_auc: 0.7137\n",
            "Epoch 18/30\n",
            "1330/1330 [==============================] - 21s 16ms/step - loss: 0.1820 - auc: 0.6846 - val_loss: 0.1750 - val_auc: 0.6968\n",
            "Epoch 19/30\n",
            "1330/1330 [==============================] - 21s 15ms/step - loss: 0.1819 - auc: 0.6817 - val_loss: 0.1715 - val_auc: 0.7192\n",
            "Epoch 20/30\n",
            "1330/1330 [==============================] - 21s 15ms/step - loss: 0.1805 - auc: 0.6911 - val_loss: 0.1811 - val_auc: 0.7155\n",
            "Epoch 21/30\n",
            "1330/1330 [==============================] - 21s 16ms/step - loss: 0.1803 - auc: 0.6911 - val_loss: 0.1767 - val_auc: 0.7036\n",
            "Epoch 22/30\n",
            "1330/1330 [==============================] - 21s 16ms/step - loss: 0.1806 - auc: 0.6830 - val_loss: 0.1810 - val_auc: 0.7143\n",
            "Epoch 23/30\n",
            "1330/1330 [==============================] - 21s 16ms/step - loss: 0.1806 - auc: 0.6867 - val_loss: 0.1718 - val_auc: 0.7166\n",
            "Epoch 24/30\n",
            "1330/1330 [==============================] - 21s 16ms/step - loss: 0.1800 - auc: 0.6911 - val_loss: 0.1864 - val_auc: 0.6818\n",
            "Epoch 25/30\n",
            "1330/1330 [==============================] - 21s 16ms/step - loss: 0.1809 - auc: 0.6878 - val_loss: 0.1648 - val_auc: 0.7495\n",
            "Epoch 26/30\n",
            "1330/1330 [==============================] - 21s 16ms/step - loss: 0.1804 - auc: 0.6842 - val_loss: 0.1740 - val_auc: 0.7017\n",
            "Epoch 27/30\n",
            "1330/1330 [==============================] - 21s 16ms/step - loss: 0.1795 - auc: 0.6894 - val_loss: 0.1746 - val_auc: 0.6989\n",
            "Epoch 28/30\n",
            "1330/1330 [==============================] - 22s 16ms/step - loss: 0.1816 - auc: 0.6737 - val_loss: 0.1750 - val_auc: 0.7236\n",
            "Epoch 29/30\n",
            "1330/1330 [==============================] - 21s 16ms/step - loss: 0.1778 - auc: 0.6969 - val_loss: 0.1816 - val_auc: 0.7041\n",
            "Epoch 30/30\n",
            "1330/1330 [==============================] - 21s 16ms/step - loss: 0.1799 - auc: 0.6858 - val_loss: 0.1657 - val_auc: 0.7034\n"
          ]
        },
        {
          "output_type": "execute_result",
          "data": {
            "text/plain": [
              "<keras.callbacks.History at 0x7f1d59797710>"
            ]
          },
          "metadata": {},
          "execution_count": 35
        }
      ]
    },
    {
      "cell_type": "code",
      "source": [
        "y_pred = model.predict(\n",
        "    gen_batch(testing_set, batch_size=16, shuffle=False)\n",
        ")\n",
        "y_pred = np.reshape(y_pred, -1)"
      ],
      "metadata": {
        "id": "0cY2b4llUZDp"
      },
      "execution_count": 36,
      "outputs": []
    },
    {
      "cell_type": "code",
      "source": [
        "len(y_pred)\n"
      ],
      "metadata": {
        "id": "Kgjm99DOUaa1",
        "colab": {
          "base_uri": "https://localhost:8080/"
        },
        "outputId": "d5a6e39a-7967-48f8-f5ac-a55b24bbc6b0"
      },
      "execution_count": 37,
      "outputs": [
        {
          "output_type": "execute_result",
          "data": {
            "text/plain": [
              "12326"
            ]
          },
          "metadata": {},
          "execution_count": 37
        }
      ]
    },
    {
      "cell_type": "code",
      "source": [
        "import pandas as pd \n",
        "submission = pd.DataFrame({'label':y_pred})\n",
        "submission.index.name = 'id'\n",
        "submission.to_csv('ts10.csv')"
      ],
      "metadata": {
        "id": "vwMmKfWuUc09"
      },
      "execution_count": 38,
      "outputs": []
    },
    {
      "cell_type": "markdown",
      "source": [
        "##trail 11"
      ],
      "metadata": {
        "id": "gX-aqaoWXZ3v"
      }
    },
    {
      "cell_type": "code",
      "source": [
        "import math\n",
        "\n",
        "batch_size = 16\n",
        "\n",
        "#math.ceil: returns the smallest integral value greater than the number\n",
        "num_batchs = math.ceil(len(training_set) / batch_size) #no. of batches for training data\n",
        "\n",
        "num_batchs_validation = math.ceil(len(validation_set) / batch_size) #no. of batches for validation data\n",
        "\n",
        "model.fit(\n",
        "    gen_batch(\n",
        "        training_set, batch_size=batch_size, repeat=True\n",
        "    ),\n",
        "    steps_per_epoch=num_batchs,\n",
        "    epochs=20,\n",
        "    validation_data=gen_batch(\n",
        "        validation_set, batch_size=16, repeat=True\n",
        "    ),\n",
        "    validation_steps=num_batchs_validation,\n",
        ")"
      ],
      "metadata": {
        "id": "Qs45hTRHXZ35",
        "colab": {
          "base_uri": "https://localhost:8080/"
        },
        "outputId": "01c98ac3-415e-40ba-933e-393cae23d337"
      },
      "execution_count": 39,
      "outputs": [
        {
          "output_type": "stream",
          "name": "stdout",
          "text": [
            "Epoch 1/20\n",
            "1330/1330 [==============================] - 20s 15ms/step - loss: 0.1788 - auc: 0.6879 - val_loss: 0.1784 - val_auc: 0.6790\n",
            "Epoch 2/20\n",
            "1330/1330 [==============================] - 21s 16ms/step - loss: 0.1768 - auc: 0.6961 - val_loss: 0.1784 - val_auc: 0.7095\n",
            "Epoch 3/20\n",
            "1330/1330 [==============================] - 22s 16ms/step - loss: 0.1781 - auc: 0.6810 - val_loss: 0.1731 - val_auc: 0.6943\n",
            "Epoch 4/20\n",
            "1330/1330 [==============================] - 23s 17ms/step - loss: 0.1770 - auc: 0.6910 - val_loss: 0.1775 - val_auc: 0.6830\n",
            "Epoch 5/20\n",
            "1330/1330 [==============================] - 22s 17ms/step - loss: 0.1790 - auc: 0.6793 - val_loss: 0.1649 - val_auc: 0.7450\n",
            "Epoch 6/20\n",
            "1330/1330 [==============================] - 22s 16ms/step - loss: 0.1772 - auc: 0.6849 - val_loss: 0.1750 - val_auc: 0.7047\n",
            "Epoch 7/20\n",
            "1330/1330 [==============================] - 22s 16ms/step - loss: 0.1767 - auc: 0.6973 - val_loss: 0.1737 - val_auc: 0.6939\n",
            "Epoch 8/20\n",
            "1330/1330 [==============================] - 21s 16ms/step - loss: 0.1787 - auc: 0.6855 - val_loss: 0.1769 - val_auc: 0.7110\n",
            "Epoch 9/20\n",
            "1330/1330 [==============================] - 21s 16ms/step - loss: 0.1766 - auc: 0.6951 - val_loss: 0.1721 - val_auc: 0.6954\n",
            "Epoch 10/20\n",
            "1330/1330 [==============================] - 21s 16ms/step - loss: 0.1778 - auc: 0.6853 - val_loss: 0.1686 - val_auc: 0.7215\n",
            "Epoch 11/20\n",
            "1330/1330 [==============================] - 20s 15ms/step - loss: 0.1773 - auc: 0.6863 - val_loss: 0.1794 - val_auc: 0.6618\n",
            "Epoch 12/20\n",
            "1330/1330 [==============================] - 21s 15ms/step - loss: 0.1781 - auc: 0.6846 - val_loss: 0.1731 - val_auc: 0.7096\n",
            "Epoch 13/20\n",
            "1330/1330 [==============================] - 21s 16ms/step - loss: 0.1789 - auc: 0.6726 - val_loss: 0.1703 - val_auc: 0.6787\n",
            "Epoch 14/20\n",
            "1330/1330 [==============================] - 20s 15ms/step - loss: 0.1778 - auc: 0.6785 - val_loss: 0.1722 - val_auc: 0.7165\n",
            "Epoch 15/20\n",
            "1330/1330 [==============================] - 20s 15ms/step - loss: 0.1785 - auc: 0.6810 - val_loss: 0.1735 - val_auc: 0.7249\n",
            "Epoch 16/20\n",
            "1330/1330 [==============================] - 20s 15ms/step - loss: 0.1795 - auc: 0.6784 - val_loss: 0.1791 - val_auc: 0.6922\n",
            "Epoch 17/20\n",
            "1330/1330 [==============================] - 20s 15ms/step - loss: 0.1757 - auc: 0.6833 - val_loss: 0.1723 - val_auc: 0.6629\n",
            "Epoch 18/20\n",
            "1330/1330 [==============================] - 21s 16ms/step - loss: 0.1755 - auc: 0.6912 - val_loss: 0.1739 - val_auc: 0.6652\n",
            "Epoch 19/20\n",
            "1330/1330 [==============================] - 21s 16ms/step - loss: 0.1771 - auc: 0.6734 - val_loss: 0.1705 - val_auc: 0.6886\n",
            "Epoch 20/20\n",
            "1330/1330 [==============================] - 36s 27ms/step - loss: 0.1758 - auc: 0.6962 - val_loss: 0.1708 - val_auc: 0.6992\n"
          ]
        },
        {
          "output_type": "execute_result",
          "data": {
            "text/plain": [
              "<keras.callbacks.History at 0x7f1d57f42210>"
            ]
          },
          "metadata": {},
          "execution_count": 39
        }
      ]
    },
    {
      "cell_type": "code",
      "source": [
        "y_pred = model.predict(\n",
        "    gen_batch(testing_set, batch_size=16, shuffle=False)\n",
        ")\n",
        "y_pred = np.reshape(y_pred, -1)"
      ],
      "metadata": {
        "id": "pJ58MlmHXZ36"
      },
      "execution_count": 40,
      "outputs": []
    },
    {
      "cell_type": "code",
      "source": [
        "len(y_pred)\n"
      ],
      "metadata": {
        "id": "QRSzBmWiXZ36",
        "colab": {
          "base_uri": "https://localhost:8080/"
        },
        "outputId": "f3669317-a823-4ea4-8e1c-9fe464f3d2d7"
      },
      "execution_count": 41,
      "outputs": [
        {
          "output_type": "execute_result",
          "data": {
            "text/plain": [
              "12326"
            ]
          },
          "metadata": {},
          "execution_count": 41
        }
      ]
    },
    {
      "cell_type": "code",
      "source": [
        "import pandas as pd \n",
        "submission = pd.DataFrame({'label':y_pred})\n",
        "submission.index.name = 'id'\n",
        "submission.to_csv('ts11.csv')"
      ],
      "metadata": {
        "id": "ZoOavpk6XZ36"
      },
      "execution_count": 42,
      "outputs": []
    },
    {
      "cell_type": "markdown",
      "source": [
        "##trail 12"
      ],
      "metadata": {
        "id": "6UOyLAV2ZU0N"
      }
    },
    {
      "cell_type": "code",
      "source": [
        "import math\n",
        "\n",
        "batch_size = 16\n",
        "\n",
        "#math.ceil: returns the smallest integral value greater than the number\n",
        "num_batchs = math.ceil(len(training_set) / batch_size) #no. of batches for training data\n",
        "\n",
        "num_batchs_validation = math.ceil(len(validation_set) / batch_size) #no. of batches for validation data\n",
        "\n",
        "model.fit(\n",
        "    gen_batch(\n",
        "        training_set, batch_size=batch_size, repeat=True\n",
        "    ),\n",
        "    steps_per_epoch=num_batchs,\n",
        "    epochs=10,\n",
        "    validation_data=gen_batch(\n",
        "        validation_set, batch_size=16, repeat=True\n",
        "    ),\n",
        "    validation_steps=num_batchs_validation,\n",
        ")"
      ],
      "metadata": {
        "id": "ZRieD1tyZU0U",
        "colab": {
          "base_uri": "https://localhost:8080/"
        },
        "outputId": "cfb663b0-40d7-48e4-c209-c0888dd16642"
      },
      "execution_count": 43,
      "outputs": [
        {
          "output_type": "stream",
          "name": "stdout",
          "text": [
            "Epoch 1/10\n",
            "1330/1330 [==============================] - 21s 16ms/step - loss: 0.1751 - auc: 0.6899 - val_loss: 0.1755 - val_auc: 0.6948\n",
            "Epoch 2/10\n",
            "1330/1330 [==============================] - 21s 16ms/step - loss: 0.1767 - auc: 0.6891 - val_loss: 0.1723 - val_auc: 0.6919\n",
            "Epoch 3/10\n",
            "1330/1330 [==============================] - 22s 17ms/step - loss: 0.1773 - auc: 0.6948 - val_loss: 0.1730 - val_auc: 0.6827\n",
            "Epoch 4/10\n",
            "1330/1330 [==============================] - 22s 16ms/step - loss: 0.1755 - auc: 0.6993 - val_loss: 0.1690 - val_auc: 0.7013\n",
            "Epoch 5/10\n",
            "1330/1330 [==============================] - 23s 17ms/step - loss: 0.1763 - auc: 0.6919 - val_loss: 0.1747 - val_auc: 0.7016\n",
            "Epoch 6/10\n",
            "1330/1330 [==============================] - 22s 16ms/step - loss: 0.1761 - auc: 0.6969 - val_loss: 0.1763 - val_auc: 0.6672\n",
            "Epoch 7/10\n",
            "1330/1330 [==============================] - 22s 16ms/step - loss: 0.1778 - auc: 0.6953 - val_loss: 0.1745 - val_auc: 0.6652\n",
            "Epoch 8/10\n",
            "1330/1330 [==============================] - 21s 16ms/step - loss: 0.1767 - auc: 0.6925 - val_loss: 0.1780 - val_auc: 0.7061\n",
            "Epoch 9/10\n",
            "1330/1330 [==============================] - 21s 16ms/step - loss: 0.1771 - auc: 0.6954 - val_loss: 0.1701 - val_auc: 0.6889\n",
            "Epoch 10/10\n",
            "1330/1330 [==============================] - 21s 16ms/step - loss: 0.1779 - auc: 0.6881 - val_loss: 0.1809 - val_auc: 0.6587\n"
          ]
        },
        {
          "output_type": "execute_result",
          "data": {
            "text/plain": [
              "<keras.callbacks.History at 0x7f1d576c74d0>"
            ]
          },
          "metadata": {},
          "execution_count": 43
        }
      ]
    },
    {
      "cell_type": "code",
      "source": [
        "y_pred = model.predict(\n",
        "    gen_batch(testing_set, batch_size=16, shuffle=False)\n",
        ")\n",
        "y_pred = np.reshape(y_pred, -1)"
      ],
      "metadata": {
        "id": "jcuSxIaDZU0V"
      },
      "execution_count": 44,
      "outputs": []
    },
    {
      "cell_type": "code",
      "source": [
        "len(y_pred)\n"
      ],
      "metadata": {
        "id": "vttggb8yZU0V",
        "colab": {
          "base_uri": "https://localhost:8080/"
        },
        "outputId": "20914c83-d8c8-468b-d767-6f30f155e5d9"
      },
      "execution_count": 45,
      "outputs": [
        {
          "output_type": "execute_result",
          "data": {
            "text/plain": [
              "12326"
            ]
          },
          "metadata": {},
          "execution_count": 45
        }
      ]
    },
    {
      "cell_type": "code",
      "source": [
        "import pandas as pd \n",
        "submission = pd.DataFrame({'label':y_pred})\n",
        "submission.index.name = 'id'\n",
        "submission.to_csv('ts12.csv')"
      ],
      "metadata": {
        "id": "mgZZrEfmZU0V"
      },
      "execution_count": 46,
      "outputs": []
    },
    {
      "cell_type": "markdown",
      "source": [
        "##trail 13"
      ],
      "metadata": {
        "id": "SL4qEMwSa7xR"
      }
    },
    {
      "cell_type": "code",
      "source": [
        "import math\n",
        "\n",
        "batch_size = 8\n",
        "\n",
        "#math.ceil: returns the smallest integral value greater than the number\n",
        "num_batchs = math.ceil(len(training_set) / batch_size) #no. of batches for training data\n",
        "\n",
        "num_batchs_validation = math.ceil(len(validation_set) / batch_size) #no. of batches for validation data\n",
        "\n",
        "model.fit(\n",
        "    gen_batch(\n",
        "        training_set, batch_size=batch_size, repeat=True\n",
        "    ),\n",
        "    steps_per_epoch=num_batchs,\n",
        "    epochs=10,\n",
        "    validation_data=gen_batch(\n",
        "        validation_set, batch_size=8, repeat=True\n",
        "    ),\n",
        "    validation_steps=num_batchs_validation,\n",
        ")"
      ],
      "metadata": {
        "id": "FlC4MHZ_a7xY",
        "colab": {
          "base_uri": "https://localhost:8080/"
        },
        "outputId": "12546f20-00f8-4004-b7be-5d35d29d4bd2"
      },
      "execution_count": 47,
      "outputs": [
        {
          "output_type": "stream",
          "name": "stdout",
          "text": [
            "Epoch 1/10\n",
            "2659/2659 [==============================] - 38s 14ms/step - loss: 0.1782 - auc: 0.6839 - val_loss: 0.1882 - val_auc: 0.6327\n",
            "Epoch 2/10\n",
            "2659/2659 [==============================] - 31s 12ms/step - loss: 0.1814 - auc: 0.6690 - val_loss: 0.1809 - val_auc: 0.6830\n",
            "Epoch 3/10\n",
            "2659/2659 [==============================] - 32s 12ms/step - loss: 0.1797 - auc: 0.6838 - val_loss: 0.1723 - val_auc: 0.7260\n",
            "Epoch 4/10\n",
            "2659/2659 [==============================] - 31s 12ms/step - loss: 0.1787 - auc: 0.6893 - val_loss: 0.1753 - val_auc: 0.6916\n",
            "Epoch 5/10\n",
            "2659/2659 [==============================] - 29s 11ms/step - loss: 0.1806 - auc: 0.6812 - val_loss: 0.1783 - val_auc: 0.6869\n",
            "Epoch 6/10\n",
            "2659/2659 [==============================] - 28s 11ms/step - loss: 0.1812 - auc: 0.6747 - val_loss: 0.1714 - val_auc: 0.7079\n",
            "Epoch 7/10\n",
            "2659/2659 [==============================] - 31s 11ms/step - loss: 0.1824 - auc: 0.6634 - val_loss: 0.1831 - val_auc: 0.6518\n",
            "Epoch 8/10\n",
            "2659/2659 [==============================] - 30s 11ms/step - loss: 0.1842 - auc: 0.6462 - val_loss: 0.1806 - val_auc: 0.6622\n",
            "Epoch 9/10\n",
            "2659/2659 [==============================] - 30s 11ms/step - loss: 0.1833 - auc: 0.6409 - val_loss: 0.1773 - val_auc: 0.6653\n",
            "Epoch 10/10\n",
            "2659/2659 [==============================] - 30s 11ms/step - loss: 0.1846 - auc: 0.6351 - val_loss: 0.1789 - val_auc: 0.6415\n"
          ]
        },
        {
          "output_type": "execute_result",
          "data": {
            "text/plain": [
              "<keras.callbacks.History at 0x7f1d576bdd90>"
            ]
          },
          "metadata": {},
          "execution_count": 47
        }
      ]
    },
    {
      "cell_type": "code",
      "source": [
        "y_pred = model.predict(\n",
        "    gen_batch(testing_set, batch_size=16, shuffle=False)\n",
        ")\n",
        "y_pred = np.reshape(y_pred, -1)"
      ],
      "metadata": {
        "id": "OGQI8HDva7xY"
      },
      "execution_count": 48,
      "outputs": []
    },
    {
      "cell_type": "code",
      "source": [
        "len(y_pred)\n"
      ],
      "metadata": {
        "id": "ENf2SZq2a7xZ",
        "colab": {
          "base_uri": "https://localhost:8080/"
        },
        "outputId": "7b8395cf-4587-4e2a-d54b-d6dd67087ff8"
      },
      "execution_count": 49,
      "outputs": [
        {
          "output_type": "execute_result",
          "data": {
            "text/plain": [
              "12326"
            ]
          },
          "metadata": {},
          "execution_count": 49
        }
      ]
    },
    {
      "cell_type": "code",
      "source": [
        "import pandas as pd \n",
        "submission = pd.DataFrame({'label':y_pred})\n",
        "submission.index.name = 'id'\n",
        "submission.to_csv('ts13.csv')"
      ],
      "metadata": {
        "id": "jYH3_839a7xZ"
      },
      "execution_count": 50,
      "outputs": []
    },
    {
      "cell_type": "markdown",
      "source": [
        "# Questions"
      ],
      "metadata": {
        "id": "pumfML8JO9Zk"
      }
    },
    {
      "cell_type": "markdown",
      "source": [
        "🌈Based on the provided template, describe the format of the input file (sdf file).\n",
        "\n",
        "🌈What are the input tensors to the neural network model (their meaning, not just symbol)? What is each of their dims and their meaning (e.g. batch_size)?\n",
        "\n",
        "🌈For each dim of gnn_out, what does it symbolize? For each dim of avg, what does it symbolize?\n",
        "\n",
        "🌈What is the difference between segment_mean and tf.reduce_mean? For each dim of pred, what does it symbolize?\n",
        "\n",
        "🌈What is the motivation/theory/idea to use multiple gcn layers comparing to just one? How many layers were used in the template?"
      ],
      "metadata": {
        "id": "mecyhEBIADIU"
      }
    },
    {
      "cell_type": "markdown",
      "source": [
        "## 1"
      ],
      "metadata": {
        "id": "bP2wsB_UU2q9"
      }
    },
    {
      "cell_type": "markdown",
      "source": [
        "🌈Based on the provided template, describe the format of the input file (sdf file)."
      ],
      "metadata": {
        "id": "Ee1V7zcZEyIr"
      }
    },
    {
      "cell_type": "markdown",
      "source": [
        "\n",
        "1-\n",
        "\n",
        "The input file is a data structure file (SDF). It contains information about the chemical composition of a molecule. The positions of individual atoms in a chemical molecule, as well as the connections between them, are stored in SDF files. The term '$$$$' is used to distinguish between distinct compounds.\n",
        "\n",
        "2 \n",
        "\n",
        "The name/title of the substance is mentioned in the header of each sample/molecule. Details on the amount of Atoms, the version number, and connections, among other things, are included in other sections. The atom block describes the constituents of the chemical. The bond block describes the bonding structure of the chemical. In this assignment, both of these blocks are used to acquire information about the compound and record it as edges and nodes. In a chemical molecule, each node represents an atom.\n",
        "\n",
        "\n",
        "\n",
        "\n"
      ],
      "metadata": {
        "id": "N6GNsfXfE05C"
      }
    },
    {
      "cell_type": "markdown",
      "source": [
        "## 2 "
      ],
      "metadata": {
        "id": "K8XXYV4eU86M"
      }
    },
    {
      "cell_type": "markdown",
      "source": [
        "🌈What are the input tensors to the neural network model (their meaning, not just symbol)? What is each of their dims and their meaning (e.g. batch_size)?"
      ],
      "metadata": {
        "id": "cU57_wXxHVzM"
      }
    },
    {
      "cell_type": "markdown",
      "source": [
        "\n",
        "1-\n",
        "\n",
        "The input tensors in this network are:\n",
        "\n",
        "data: In tokenized form, the data contains the nodes of the chemical molecule. Each compound's nodes are retrieved, then tokenized with the tokenizer, and then padded with the pad sequence method. Each batch has the shape [batch size*max len nodes], with batch size equaling the number of samples in the batch and max len nodes equaling the length of tokenized nodes after padding.\n",
        "\n",
        "2\n",
        "edge: edge is the input tensor that contains information about atom connections. [sum of all edges,2] is the form of an edge. The batch size is represented by the sum(no. of edges of each sample) of the sum of all edges. For example, in a batch of three samples, sample 1 has 21, sample 2 has 20, and sample 3 has 40 edges. As a result, the size of the edge tensor is [81,2].\n",
        "\n",
        "3\n",
        "node2graph: It is the segmented mean input tensor, which contains information about segmented ids. Each batch has the shape [batch size*max len nodes], with batch size equaling the number of samples in the batch and max len nodes equaling the length of tokenized nodes after padding.\n",
        "\n"
      ],
      "metadata": {
        "id": "SzawmK7MaS6T"
      }
    },
    {
      "cell_type": "markdown",
      "source": [
        "## 3"
      ],
      "metadata": {
        "id": "sAEa3aUUYTyW"
      }
    },
    {
      "cell_type": "markdown",
      "source": [
        "🌈For each dim of gnn_out, what does it symbolize? For each dim of avg, what does it symbolize?\n"
      ],
      "metadata": {
        "id": "bmtvs7XSK19O"
      }
    },
    {
      "cell_type": "markdown",
      "source": [
        "gnn_out: [batch size node dimension,hidden layers] is the shape of the gnn out, where batch size node dimension is the input data (node) vector's dimension (dimension of tokenized vector for the complete batch). It represents the model's aggregation output for each hidden layer.\n",
        "\n",
        "Average : The segmented mean of the gnn out is calculated using the segmented ids. The output of gnn out is [tokenized vector dimension, hidden layers] for each sample in the batch size. A segment id is assigned to each sample. As a result, segment mean represents one sample with one number for each hidden layer by taking the mean of all the output data in the gnn out output. The average tensor's final output is of the shape [batch size, hidden layer]. It's a method of gathering information for each sample and presenting it as mean data.\n"
      ],
      "metadata": {
        "id": "ShiucBhankjF"
      }
    },
    {
      "cell_type": "markdown",
      "source": [
        "## 4"
      ],
      "metadata": {
        "id": "Pd_DmIiVaK2W"
      }
    },
    {
      "cell_type": "markdown",
      "source": [
        "🌈What is the difference between segment_mean and tf.reduce_mean? For each dim of pred, what does it symbolize?\n"
      ],
      "metadata": {
        "id": "FhFh-r1ItN3y"
      }
    },
    {
      "cell_type": "markdown",
      "source": [
        "segment_mean; The average of data with the same segmented ids is calculated with segment mean.\n",
        "\n",
        "reduce_mean: Computes the mean of elements across dimensions of a tensor given parameters.\n",
        "\n",
        "pred: The final output (pred) indicates whether or not a chemical compound is active against cancer cells. [batch size,1] is the shape of pred. As a result, the final output for each sample is a number that represents the likelihood associated with each chemical compound's activity."
      ],
      "metadata": {
        "id": "vNZaS3oLfohU"
      }
    },
    {
      "cell_type": "markdown",
      "source": [
        "##5"
      ],
      "metadata": {
        "id": "2_REudn7gphM"
      }
    },
    {
      "cell_type": "markdown",
      "source": [
        "🌈What is the motivation/theory/idea to use multiple gcn layers comparing to just one? How many layers were used in the template?"
      ],
      "metadata": {
        "id": "qfPL1OBOguOq"
      }
    },
    {
      "cell_type": "markdown",
      "source": [
        "The number of layers in the default template is set to the gcn network's default value. The default layer is 4, as mentioned in the documentation. rgcn is the default message transmission technique (Graph convolution layers). Using several gcns makes it easier to correctly incorporate all graph complexity, resulting in a more accurate model."
      ],
      "metadata": {
        "id": "Dz5vc-uQhxc9"
      }
    },
    {
      "cell_type": "code",
      "source": [
        ""
      ],
      "metadata": {
        "id": "EDtQQ2YNACaC"
      },
      "execution_count": null,
      "outputs": []
    }
  ]
}