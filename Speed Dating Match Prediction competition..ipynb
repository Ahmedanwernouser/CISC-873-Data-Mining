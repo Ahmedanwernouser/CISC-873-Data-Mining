{
  "cells": [
    {
      "cell_type": "markdown",
      "source": [
        "# Problem Formulation"
      ],
      "metadata": {
        "id": "zyKTW6FNJSMI"
      }
    },
    {
      "cell_type": "markdown",
      "source": [
        "1 Define the problem  ?\n",
        "\n",
        "The problem is to creat a model that are going to predict the outcome of a specific speed dating session based on the profile of two people"
      ],
      "metadata": {
        "id": "0fa1LZ6u0k2V"
      }
    },
    {
      "cell_type": "markdown",
      "source": [
        "2 What is the input ? \n",
        "\n",
        "the input is previous data in 5 rows × 192 columns (fetures) as train data set and 2469 rows × 191 columns (fetures) as test data set in tebular data form Speed Dating Match Prediction and we have the value of the label ''match'' is 1 if they are matched and 0 if the couble are not matched"
      ],
      "metadata": {
        "id": "PCz-BkGw0oF-"
      }
    },
    {
      "cell_type": "markdown",
      "source": [
        "3 What is the output?\n",
        "\n",
        "we are going to predict the probability (0-1, float) that the dating session will lead to a successful match "
      ],
      "metadata": {
        "id": "nHwGfkgu0rXe"
      }
    },
    {
      "cell_type": "markdown",
      "source": [
        "4 What data mining function is required ?\n",
        "\n",
        "The model is classification model.\n",
        "  classification is the technique to categorize elements in a collection,basis their predefined functionalities and properties. In classification, the model can classify new instances whose classification is unknown.\n",
        "These particular instances that are used to create the model are called training data. Such a mechanism of classification uses methods like if-then,decision trees, neural networks, or even a set of classification rules These methods can be retrieved to identify future data."
      ],
      "metadata": {
        "id": "6sYq1OlC0vT2"
      }
    },
    {
      "cell_type": "markdown",
      "source": [
        "5 What could be the challenges ?\n",
        "\n",
        "The challenges that we have is to clean the data froma the noise in the dataset and preprocessing and the train and tist data is not the same amount and the highly unbalanced (mostly unmatched) data."
      ],
      "metadata": {
        "id": "qqutNoyl0xyN"
      }
    },
    {
      "cell_type": "markdown",
      "source": [
        "6 What is the impact ?\n",
        "\n",
        "we are going to predict the probability (0-1, float) that the dating session will lead to a successful match  and classify the right predict Match that have the value of the label ''match'' is 1 if they are matched and 0 if the couble are not matched to help us to find the right couple that can be matched"
      ],
      "metadata": {
        "id": "z5DRbxZZ00cl"
      }
    },
    {
      "cell_type": "markdown",
      "source": [
        "7 What is an ideal solution ?\n",
        "\n",
        "to my rate (XGBClassifier) after making appropriate preprocessing on the dataset and take the columns that will \n",
        "help the model to predict the right rating after clean the data set and overcome our chalenges"
      ],
      "metadata": {
        "id": "ZAiDMq0-TSF1"
      }
    },
    {
      "cell_type": "markdown",
      "metadata": {
        "id": "daJDfC4sFJcO"
      },
      "source": [
        "#Imports"
      ]
    },
    {
      "cell_type": "code",
      "execution_count": 1,
      "metadata": {
        "id": "BrRCvZ4Qbwm3"
      },
      "outputs": [],
      "source": [
        "# normal imports\n",
        "import numpy as np\n",
        "import pandas as pd\n",
        "from matplotlib import pyplot as plt\n",
        "import seaborn as sns\n"
      ]
    },
    {
      "cell_type": "code",
      "execution_count": 2,
      "metadata": {
        "id": "sdXfa0H4q5Ix"
      },
      "outputs": [],
      "source": [
        "# sklearn imports\n",
        "from sklearn.svm import SVC\n",
        "import sklearn.metrics as metrics\n",
        "from sklearn.metrics import f1_score, confusion_matrix, roc_auc_score,\\\n",
        "                            accuracy_score,classification_report,\\\n",
        "                            plot_roc_curve,plot_confusion_matrix,precision_recall_fscore_support\n",
        "                            \n",
        "from sklearn.model_selection import train_test_split, cross_val_score, GridSearchCV, validation_curve\n",
        "from sklearn.naive_bayes import GaussianNB\n",
        "from sklearn.linear_model import LogisticRegression\n",
        "from sklearn.tree import DecisionTreeClassifier\n",
        "from sklearn import preprocessing\n",
        "from sklearn.neighbors import KNeighborsClassifier"
      ]
    },
    {
      "cell_type": "code",
      "execution_count": 3,
      "metadata": {
        "id": "tbpP_7spE6eS"
      },
      "outputs": [],
      "source": [
        "# disable warnings i hate them\n",
        "import warnings\n",
        "warnings.filterwarnings('ignore')"
      ]
    },
    {
      "cell_type": "markdown",
      "metadata": {
        "id": "5N1W8VUzCrJr"
      },
      "source": [
        "#first look on the data and loading it"
      ]
    },
    {
      "cell_type": "code",
      "execution_count": 4,
      "metadata": {
        "id": "xIjUVfmclVnw"
      },
      "outputs": [],
      "source": [
        "# # to show all the columns\n",
        "# pd.options.display.max_columns = 1000 "
      ]
    },
    {
      "cell_type": "code",
      "execution_count": 5,
      "metadata": {
        "id": "P8rzq-dHmSGL"
      },
      "outputs": [],
      "source": [
        "# # to show all the rows\n",
        "# pd.options.display.max_rows = 1000\n"
      ]
    },
    {
      "cell_type": "code",
      "execution_count": 4,
      "metadata": {
        "colab": {
          "base_uri": "https://localhost:8080/",
          "height": 300
        },
        "id": "c2hpdqtYlwD2",
        "outputId": "ef6794ad-ca13-40e9-f3a5-e8e2b7dcd5bb"
      },
      "outputs": [
        {
          "output_type": "execute_result",
          "data": {
            "text/html": [
              "\n",
              "  <div id=\"df-47be1e36-a0b6-4c89-8776-afbffea063f3\">\n",
              "    <div class=\"colab-df-container\">\n",
              "      <div>\n",
              "<style scoped>\n",
              "    .dataframe tbody tr th:only-of-type {\n",
              "        vertical-align: middle;\n",
              "    }\n",
              "\n",
              "    .dataframe tbody tr th {\n",
              "        vertical-align: top;\n",
              "    }\n",
              "\n",
              "    .dataframe thead th {\n",
              "        text-align: right;\n",
              "    }\n",
              "</style>\n",
              "<table border=\"1\" class=\"dataframe\">\n",
              "  <thead>\n",
              "    <tr style=\"text-align: right;\">\n",
              "      <th></th>\n",
              "      <th>gender</th>\n",
              "      <th>idg</th>\n",
              "      <th>condtn</th>\n",
              "      <th>wave</th>\n",
              "      <th>round</th>\n",
              "      <th>position</th>\n",
              "      <th>positin1</th>\n",
              "      <th>order</th>\n",
              "      <th>partner</th>\n",
              "      <th>pid</th>\n",
              "      <th>...</th>\n",
              "      <th>sinc3_3</th>\n",
              "      <th>intel3_3</th>\n",
              "      <th>fun3_3</th>\n",
              "      <th>amb3_3</th>\n",
              "      <th>attr5_3</th>\n",
              "      <th>sinc5_3</th>\n",
              "      <th>intel5_3</th>\n",
              "      <th>fun5_3</th>\n",
              "      <th>amb5_3</th>\n",
              "      <th>id</th>\n",
              "    </tr>\n",
              "  </thead>\n",
              "  <tbody>\n",
              "    <tr>\n",
              "      <th>0</th>\n",
              "      <td>0</td>\n",
              "      <td>3</td>\n",
              "      <td>2</td>\n",
              "      <td>14</td>\n",
              "      <td>18</td>\n",
              "      <td>2</td>\n",
              "      <td>2.0</td>\n",
              "      <td>14</td>\n",
              "      <td>12</td>\n",
              "      <td>372.0</td>\n",
              "      <td>...</td>\n",
              "      <td>NaN</td>\n",
              "      <td>NaN</td>\n",
              "      <td>NaN</td>\n",
              "      <td>NaN</td>\n",
              "      <td>NaN</td>\n",
              "      <td>NaN</td>\n",
              "      <td>NaN</td>\n",
              "      <td>NaN</td>\n",
              "      <td>NaN</td>\n",
              "      <td>2583</td>\n",
              "    </tr>\n",
              "    <tr>\n",
              "      <th>1</th>\n",
              "      <td>1</td>\n",
              "      <td>14</td>\n",
              "      <td>1</td>\n",
              "      <td>3</td>\n",
              "      <td>10</td>\n",
              "      <td>2</td>\n",
              "      <td>NaN</td>\n",
              "      <td>8</td>\n",
              "      <td>8</td>\n",
              "      <td>63.0</td>\n",
              "      <td>...</td>\n",
              "      <td>8.0</td>\n",
              "      <td>8.0</td>\n",
              "      <td>7.0</td>\n",
              "      <td>8.0</td>\n",
              "      <td>NaN</td>\n",
              "      <td>NaN</td>\n",
              "      <td>NaN</td>\n",
              "      <td>NaN</td>\n",
              "      <td>NaN</td>\n",
              "      <td>6830</td>\n",
              "    </tr>\n",
              "    <tr>\n",
              "      <th>2</th>\n",
              "      <td>1</td>\n",
              "      <td>14</td>\n",
              "      <td>1</td>\n",
              "      <td>13</td>\n",
              "      <td>10</td>\n",
              "      <td>8</td>\n",
              "      <td>8.0</td>\n",
              "      <td>10</td>\n",
              "      <td>10</td>\n",
              "      <td>331.0</td>\n",
              "      <td>...</td>\n",
              "      <td>NaN</td>\n",
              "      <td>NaN</td>\n",
              "      <td>NaN</td>\n",
              "      <td>NaN</td>\n",
              "      <td>NaN</td>\n",
              "      <td>NaN</td>\n",
              "      <td>NaN</td>\n",
              "      <td>NaN</td>\n",
              "      <td>NaN</td>\n",
              "      <td>4840</td>\n",
              "    </tr>\n",
              "    <tr>\n",
              "      <th>3</th>\n",
              "      <td>1</td>\n",
              "      <td>38</td>\n",
              "      <td>2</td>\n",
              "      <td>9</td>\n",
              "      <td>20</td>\n",
              "      <td>18</td>\n",
              "      <td>13.0</td>\n",
              "      <td>6</td>\n",
              "      <td>7</td>\n",
              "      <td>200.0</td>\n",
              "      <td>...</td>\n",
              "      <td>9.0</td>\n",
              "      <td>8.0</td>\n",
              "      <td>8.0</td>\n",
              "      <td>6.0</td>\n",
              "      <td>NaN</td>\n",
              "      <td>NaN</td>\n",
              "      <td>NaN</td>\n",
              "      <td>NaN</td>\n",
              "      <td>NaN</td>\n",
              "      <td>5508</td>\n",
              "    </tr>\n",
              "    <tr>\n",
              "      <th>4</th>\n",
              "      <td>1</td>\n",
              "      <td>24</td>\n",
              "      <td>2</td>\n",
              "      <td>14</td>\n",
              "      <td>20</td>\n",
              "      <td>6</td>\n",
              "      <td>6.0</td>\n",
              "      <td>20</td>\n",
              "      <td>17</td>\n",
              "      <td>357.0</td>\n",
              "      <td>...</td>\n",
              "      <td>NaN</td>\n",
              "      <td>NaN</td>\n",
              "      <td>NaN</td>\n",
              "      <td>NaN</td>\n",
              "      <td>NaN</td>\n",
              "      <td>NaN</td>\n",
              "      <td>NaN</td>\n",
              "      <td>NaN</td>\n",
              "      <td>NaN</td>\n",
              "      <td>4828</td>\n",
              "    </tr>\n",
              "  </tbody>\n",
              "</table>\n",
              "<p>5 rows × 192 columns</p>\n",
              "</div>\n",
              "      <button class=\"colab-df-convert\" onclick=\"convertToInteractive('df-47be1e36-a0b6-4c89-8776-afbffea063f3')\"\n",
              "              title=\"Convert this dataframe to an interactive table.\"\n",
              "              style=\"display:none;\">\n",
              "        \n",
              "  <svg xmlns=\"http://www.w3.org/2000/svg\" height=\"24px\"viewBox=\"0 0 24 24\"\n",
              "       width=\"24px\">\n",
              "    <path d=\"M0 0h24v24H0V0z\" fill=\"none\"/>\n",
              "    <path d=\"M18.56 5.44l.94 2.06.94-2.06 2.06-.94-2.06-.94-.94-2.06-.94 2.06-2.06.94zm-11 1L8.5 8.5l.94-2.06 2.06-.94-2.06-.94L8.5 2.5l-.94 2.06-2.06.94zm10 10l.94 2.06.94-2.06 2.06-.94-2.06-.94-.94-2.06-.94 2.06-2.06.94z\"/><path d=\"M17.41 7.96l-1.37-1.37c-.4-.4-.92-.59-1.43-.59-.52 0-1.04.2-1.43.59L10.3 9.45l-7.72 7.72c-.78.78-.78 2.05 0 2.83L4 21.41c.39.39.9.59 1.41.59.51 0 1.02-.2 1.41-.59l7.78-7.78 2.81-2.81c.8-.78.8-2.07 0-2.86zM5.41 20L4 18.59l7.72-7.72 1.47 1.35L5.41 20z\"/>\n",
              "  </svg>\n",
              "      </button>\n",
              "      \n",
              "  <style>\n",
              "    .colab-df-container {\n",
              "      display:flex;\n",
              "      flex-wrap:wrap;\n",
              "      gap: 12px;\n",
              "    }\n",
              "\n",
              "    .colab-df-convert {\n",
              "      background-color: #E8F0FE;\n",
              "      border: none;\n",
              "      border-radius: 50%;\n",
              "      cursor: pointer;\n",
              "      display: none;\n",
              "      fill: #1967D2;\n",
              "      height: 32px;\n",
              "      padding: 0 0 0 0;\n",
              "      width: 32px;\n",
              "    }\n",
              "\n",
              "    .colab-df-convert:hover {\n",
              "      background-color: #E2EBFA;\n",
              "      box-shadow: 0px 1px 2px rgba(60, 64, 67, 0.3), 0px 1px 3px 1px rgba(60, 64, 67, 0.15);\n",
              "      fill: #174EA6;\n",
              "    }\n",
              "\n",
              "    [theme=dark] .colab-df-convert {\n",
              "      background-color: #3B4455;\n",
              "      fill: #D2E3FC;\n",
              "    }\n",
              "\n",
              "    [theme=dark] .colab-df-convert:hover {\n",
              "      background-color: #434B5C;\n",
              "      box-shadow: 0px 1px 3px 1px rgba(0, 0, 0, 0.15);\n",
              "      filter: drop-shadow(0px 1px 2px rgba(0, 0, 0, 0.3));\n",
              "      fill: #FFFFFF;\n",
              "    }\n",
              "  </style>\n",
              "\n",
              "      <script>\n",
              "        const buttonEl =\n",
              "          document.querySelector('#df-47be1e36-a0b6-4c89-8776-afbffea063f3 button.colab-df-convert');\n",
              "        buttonEl.style.display =\n",
              "          google.colab.kernel.accessAllowed ? 'block' : 'none';\n",
              "\n",
              "        async function convertToInteractive(key) {\n",
              "          const element = document.querySelector('#df-47be1e36-a0b6-4c89-8776-afbffea063f3');\n",
              "          const dataTable =\n",
              "            await google.colab.kernel.invokeFunction('convertToInteractive',\n",
              "                                                     [key], {});\n",
              "          if (!dataTable) return;\n",
              "\n",
              "          const docLinkHtml = 'Like what you see? Visit the ' +\n",
              "            '<a target=\"_blank\" href=https://colab.research.google.com/notebooks/data_table.ipynb>data table notebook</a>'\n",
              "            + ' to learn more about interactive tables.';\n",
              "          element.innerHTML = '';\n",
              "          dataTable['output_type'] = 'display_data';\n",
              "          await google.colab.output.renderOutput(dataTable, element);\n",
              "          const docLink = document.createElement('div');\n",
              "          docLink.innerHTML = docLinkHtml;\n",
              "          element.appendChild(docLink);\n",
              "        }\n",
              "      </script>\n",
              "    </div>\n",
              "  </div>\n",
              "  "
            ],
            "text/plain": [
              "   gender  idg  condtn  wave  round  position  positin1  order  partner  \\\n",
              "0       0    3       2    14     18         2       2.0     14       12   \n",
              "1       1   14       1     3     10         2       NaN      8        8   \n",
              "2       1   14       1    13     10         8       8.0     10       10   \n",
              "3       1   38       2     9     20        18      13.0      6        7   \n",
              "4       1   24       2    14     20         6       6.0     20       17   \n",
              "\n",
              "     pid  ...  sinc3_3  intel3_3  fun3_3  amb3_3  attr5_3  sinc5_3  intel5_3  \\\n",
              "0  372.0  ...      NaN       NaN     NaN     NaN      NaN      NaN       NaN   \n",
              "1   63.0  ...      8.0       8.0     7.0     8.0      NaN      NaN       NaN   \n",
              "2  331.0  ...      NaN       NaN     NaN     NaN      NaN      NaN       NaN   \n",
              "3  200.0  ...      9.0       8.0     8.0     6.0      NaN      NaN       NaN   \n",
              "4  357.0  ...      NaN       NaN     NaN     NaN      NaN      NaN       NaN   \n",
              "\n",
              "   fun5_3  amb5_3    id  \n",
              "0     NaN     NaN  2583  \n",
              "1     NaN     NaN  6830  \n",
              "2     NaN     NaN  4840  \n",
              "3     NaN     NaN  5508  \n",
              "4     NaN     NaN  4828  \n",
              "\n",
              "[5 rows x 192 columns]"
            ]
          },
          "metadata": {},
          "execution_count": 4
        }
      ],
      "source": [
        "df_train= pd.read_csv(\"/content/train.csv\")   #reading train data       \n",
        "df_train.head()       \n"
      ]
    },
    {
      "cell_type": "code",
      "execution_count": 5,
      "metadata": {
        "id": "a9rtsUQIyKDW"
      },
      "outputs": [],
      "source": [
        "# dt=df_train= pd.read_csv(\"/content/train.csv\")   #reading train data  \n",
        "# y=dt['match']     \n"
      ]
    },
    {
      "cell_type": "code",
      "execution_count": 5,
      "metadata": {
        "colab": {
          "base_uri": "https://localhost:8080/"
        },
        "id": "Od6qD4vNNKAG",
        "outputId": "64acf756-9864-4355-ec31-562ddbcfa1a0"
      },
      "outputs": [
        {
          "output_type": "execute_result",
          "data": {
            "text/plain": [
              "(5909, 192)"
            ]
          },
          "metadata": {},
          "execution_count": 5
        }
      ],
      "source": [
        "df_train.shape     #explore the shape of the train data frame"
      ]
    },
    {
      "cell_type": "code",
      "execution_count": 6,
      "metadata": {
        "colab": {
          "base_uri": "https://localhost:8080/",
          "height": 488
        },
        "id": "EAELfD3kvctZ",
        "outputId": "32f5baac-3dfb-4d56-8b12-621cf4ebbe5f"
      },
      "outputs": [
        {
          "output_type": "execute_result",
          "data": {
            "text/html": [
              "\n",
              "  <div id=\"df-fe4695ef-65e9-46ab-b896-01f2625c4a05\">\n",
              "    <div class=\"colab-df-container\">\n",
              "      <div>\n",
              "<style scoped>\n",
              "    .dataframe tbody tr th:only-of-type {\n",
              "        vertical-align: middle;\n",
              "    }\n",
              "\n",
              "    .dataframe tbody tr th {\n",
              "        vertical-align: top;\n",
              "    }\n",
              "\n",
              "    .dataframe thead th {\n",
              "        text-align: right;\n",
              "    }\n",
              "</style>\n",
              "<table border=\"1\" class=\"dataframe\">\n",
              "  <thead>\n",
              "    <tr style=\"text-align: right;\">\n",
              "      <th></th>\n",
              "      <th>gender</th>\n",
              "      <th>idg</th>\n",
              "      <th>condtn</th>\n",
              "      <th>wave</th>\n",
              "      <th>round</th>\n",
              "      <th>position</th>\n",
              "      <th>positin1</th>\n",
              "      <th>order</th>\n",
              "      <th>partner</th>\n",
              "      <th>pid</th>\n",
              "      <th>...</th>\n",
              "      <th>sinc3_3</th>\n",
              "      <th>intel3_3</th>\n",
              "      <th>fun3_3</th>\n",
              "      <th>amb3_3</th>\n",
              "      <th>attr5_3</th>\n",
              "      <th>sinc5_3</th>\n",
              "      <th>intel5_3</th>\n",
              "      <th>fun5_3</th>\n",
              "      <th>amb5_3</th>\n",
              "      <th>id</th>\n",
              "    </tr>\n",
              "  </thead>\n",
              "  <tbody>\n",
              "    <tr>\n",
              "      <th>0</th>\n",
              "      <td>0</td>\n",
              "      <td>5</td>\n",
              "      <td>2</td>\n",
              "      <td>2</td>\n",
              "      <td>16</td>\n",
              "      <td>3</td>\n",
              "      <td>NaN</td>\n",
              "      <td>13</td>\n",
              "      <td>13</td>\n",
              "      <td>52.0</td>\n",
              "      <td>...</td>\n",
              "      <td>7.0</td>\n",
              "      <td>8.0</td>\n",
              "      <td>6.0</td>\n",
              "      <td>8.0</td>\n",
              "      <td>NaN</td>\n",
              "      <td>NaN</td>\n",
              "      <td>NaN</td>\n",
              "      <td>NaN</td>\n",
              "      <td>NaN</td>\n",
              "      <td>934</td>\n",
              "    </tr>\n",
              "    <tr>\n",
              "      <th>1</th>\n",
              "      <td>0</td>\n",
              "      <td>33</td>\n",
              "      <td>2</td>\n",
              "      <td>14</td>\n",
              "      <td>18</td>\n",
              "      <td>6</td>\n",
              "      <td>6.0</td>\n",
              "      <td>4</td>\n",
              "      <td>8</td>\n",
              "      <td>368.0</td>\n",
              "      <td>...</td>\n",
              "      <td>8.0</td>\n",
              "      <td>7.0</td>\n",
              "      <td>7.0</td>\n",
              "      <td>8.0</td>\n",
              "      <td>6.0</td>\n",
              "      <td>7.0</td>\n",
              "      <td>6.0</td>\n",
              "      <td>5.0</td>\n",
              "      <td>5.0</td>\n",
              "      <td>6539</td>\n",
              "    </tr>\n",
              "    <tr>\n",
              "      <th>2</th>\n",
              "      <td>1</td>\n",
              "      <td>6</td>\n",
              "      <td>2</td>\n",
              "      <td>9</td>\n",
              "      <td>20</td>\n",
              "      <td>10</td>\n",
              "      <td>16.0</td>\n",
              "      <td>15</td>\n",
              "      <td>19</td>\n",
              "      <td>212.0</td>\n",
              "      <td>...</td>\n",
              "      <td>NaN</td>\n",
              "      <td>NaN</td>\n",
              "      <td>NaN</td>\n",
              "      <td>NaN</td>\n",
              "      <td>NaN</td>\n",
              "      <td>NaN</td>\n",
              "      <td>NaN</td>\n",
              "      <td>NaN</td>\n",
              "      <td>NaN</td>\n",
              "      <td>6757</td>\n",
              "    </tr>\n",
              "    <tr>\n",
              "      <th>3</th>\n",
              "      <td>1</td>\n",
              "      <td>26</td>\n",
              "      <td>2</td>\n",
              "      <td>2</td>\n",
              "      <td>19</td>\n",
              "      <td>15</td>\n",
              "      <td>NaN</td>\n",
              "      <td>8</td>\n",
              "      <td>10</td>\n",
              "      <td>30.0</td>\n",
              "      <td>...</td>\n",
              "      <td>NaN</td>\n",
              "      <td>NaN</td>\n",
              "      <td>NaN</td>\n",
              "      <td>NaN</td>\n",
              "      <td>NaN</td>\n",
              "      <td>NaN</td>\n",
              "      <td>NaN</td>\n",
              "      <td>NaN</td>\n",
              "      <td>NaN</td>\n",
              "      <td>2275</td>\n",
              "    </tr>\n",
              "    <tr>\n",
              "      <th>4</th>\n",
              "      <td>0</td>\n",
              "      <td>29</td>\n",
              "      <td>2</td>\n",
              "      <td>7</td>\n",
              "      <td>16</td>\n",
              "      <td>7</td>\n",
              "      <td>7.0</td>\n",
              "      <td>10</td>\n",
              "      <td>5</td>\n",
              "      <td>162.0</td>\n",
              "      <td>...</td>\n",
              "      <td>NaN</td>\n",
              "      <td>NaN</td>\n",
              "      <td>NaN</td>\n",
              "      <td>NaN</td>\n",
              "      <td>NaN</td>\n",
              "      <td>NaN</td>\n",
              "      <td>NaN</td>\n",
              "      <td>NaN</td>\n",
              "      <td>NaN</td>\n",
              "      <td>1052</td>\n",
              "    </tr>\n",
              "    <tr>\n",
              "      <th>...</th>\n",
              "      <td>...</td>\n",
              "      <td>...</td>\n",
              "      <td>...</td>\n",
              "      <td>...</td>\n",
              "      <td>...</td>\n",
              "      <td>...</td>\n",
              "      <td>...</td>\n",
              "      <td>...</td>\n",
              "      <td>...</td>\n",
              "      <td>...</td>\n",
              "      <td>...</td>\n",
              "      <td>...</td>\n",
              "      <td>...</td>\n",
              "      <td>...</td>\n",
              "      <td>...</td>\n",
              "      <td>...</td>\n",
              "      <td>...</td>\n",
              "      <td>...</td>\n",
              "      <td>...</td>\n",
              "      <td>...</td>\n",
              "      <td>...</td>\n",
              "    </tr>\n",
              "    <tr>\n",
              "      <th>2464</th>\n",
              "      <td>0</td>\n",
              "      <td>23</td>\n",
              "      <td>2</td>\n",
              "      <td>15</td>\n",
              "      <td>19</td>\n",
              "      <td>18</td>\n",
              "      <td>18.0</td>\n",
              "      <td>14</td>\n",
              "      <td>11</td>\n",
              "      <td>407.0</td>\n",
              "      <td>...</td>\n",
              "      <td>NaN</td>\n",
              "      <td>NaN</td>\n",
              "      <td>NaN</td>\n",
              "      <td>NaN</td>\n",
              "      <td>NaN</td>\n",
              "      <td>NaN</td>\n",
              "      <td>NaN</td>\n",
              "      <td>NaN</td>\n",
              "      <td>NaN</td>\n",
              "      <td>7982</td>\n",
              "    </tr>\n",
              "    <tr>\n",
              "      <th>2465</th>\n",
              "      <td>0</td>\n",
              "      <td>5</td>\n",
              "      <td>1</td>\n",
              "      <td>13</td>\n",
              "      <td>9</td>\n",
              "      <td>4</td>\n",
              "      <td>4.0</td>\n",
              "      <td>4</td>\n",
              "      <td>8</td>\n",
              "      <td>339.0</td>\n",
              "      <td>...</td>\n",
              "      <td>NaN</td>\n",
              "      <td>NaN</td>\n",
              "      <td>NaN</td>\n",
              "      <td>NaN</td>\n",
              "      <td>NaN</td>\n",
              "      <td>NaN</td>\n",
              "      <td>NaN</td>\n",
              "      <td>NaN</td>\n",
              "      <td>NaN</td>\n",
              "      <td>7299</td>\n",
              "    </tr>\n",
              "    <tr>\n",
              "      <th>2466</th>\n",
              "      <td>1</td>\n",
              "      <td>26</td>\n",
              "      <td>2</td>\n",
              "      <td>2</td>\n",
              "      <td>19</td>\n",
              "      <td>3</td>\n",
              "      <td>NaN</td>\n",
              "      <td>15</td>\n",
              "      <td>3</td>\n",
              "      <td>23.0</td>\n",
              "      <td>...</td>\n",
              "      <td>NaN</td>\n",
              "      <td>NaN</td>\n",
              "      <td>NaN</td>\n",
              "      <td>NaN</td>\n",
              "      <td>NaN</td>\n",
              "      <td>NaN</td>\n",
              "      <td>NaN</td>\n",
              "      <td>NaN</td>\n",
              "      <td>NaN</td>\n",
              "      <td>1818</td>\n",
              "    </tr>\n",
              "    <tr>\n",
              "      <th>2467</th>\n",
              "      <td>0</td>\n",
              "      <td>19</td>\n",
              "      <td>2</td>\n",
              "      <td>9</td>\n",
              "      <td>20</td>\n",
              "      <td>11</td>\n",
              "      <td>11.0</td>\n",
              "      <td>9</td>\n",
              "      <td>2</td>\n",
              "      <td>215.0</td>\n",
              "      <td>...</td>\n",
              "      <td>7.0</td>\n",
              "      <td>12.0</td>\n",
              "      <td>12.0</td>\n",
              "      <td>9.0</td>\n",
              "      <td>NaN</td>\n",
              "      <td>NaN</td>\n",
              "      <td>NaN</td>\n",
              "      <td>NaN</td>\n",
              "      <td>NaN</td>\n",
              "      <td>937</td>\n",
              "    </tr>\n",
              "    <tr>\n",
              "      <th>2468</th>\n",
              "      <td>1</td>\n",
              "      <td>38</td>\n",
              "      <td>2</td>\n",
              "      <td>21</td>\n",
              "      <td>22</td>\n",
              "      <td>22</td>\n",
              "      <td>7.0</td>\n",
              "      <td>16</td>\n",
              "      <td>5</td>\n",
              "      <td>513.0</td>\n",
              "      <td>...</td>\n",
              "      <td>9.0</td>\n",
              "      <td>8.0</td>\n",
              "      <td>7.0</td>\n",
              "      <td>8.0</td>\n",
              "      <td>5.0</td>\n",
              "      <td>8.0</td>\n",
              "      <td>8.0</td>\n",
              "      <td>6.0</td>\n",
              "      <td>8.0</td>\n",
              "      <td>6691</td>\n",
              "    </tr>\n",
              "  </tbody>\n",
              "</table>\n",
              "<p>2469 rows × 191 columns</p>\n",
              "</div>\n",
              "      <button class=\"colab-df-convert\" onclick=\"convertToInteractive('df-fe4695ef-65e9-46ab-b896-01f2625c4a05')\"\n",
              "              title=\"Convert this dataframe to an interactive table.\"\n",
              "              style=\"display:none;\">\n",
              "        \n",
              "  <svg xmlns=\"http://www.w3.org/2000/svg\" height=\"24px\"viewBox=\"0 0 24 24\"\n",
              "       width=\"24px\">\n",
              "    <path d=\"M0 0h24v24H0V0z\" fill=\"none\"/>\n",
              "    <path d=\"M18.56 5.44l.94 2.06.94-2.06 2.06-.94-2.06-.94-.94-2.06-.94 2.06-2.06.94zm-11 1L8.5 8.5l.94-2.06 2.06-.94-2.06-.94L8.5 2.5l-.94 2.06-2.06.94zm10 10l.94 2.06.94-2.06 2.06-.94-2.06-.94-.94-2.06-.94 2.06-2.06.94z\"/><path d=\"M17.41 7.96l-1.37-1.37c-.4-.4-.92-.59-1.43-.59-.52 0-1.04.2-1.43.59L10.3 9.45l-7.72 7.72c-.78.78-.78 2.05 0 2.83L4 21.41c.39.39.9.59 1.41.59.51 0 1.02-.2 1.41-.59l7.78-7.78 2.81-2.81c.8-.78.8-2.07 0-2.86zM5.41 20L4 18.59l7.72-7.72 1.47 1.35L5.41 20z\"/>\n",
              "  </svg>\n",
              "      </button>\n",
              "      \n",
              "  <style>\n",
              "    .colab-df-container {\n",
              "      display:flex;\n",
              "      flex-wrap:wrap;\n",
              "      gap: 12px;\n",
              "    }\n",
              "\n",
              "    .colab-df-convert {\n",
              "      background-color: #E8F0FE;\n",
              "      border: none;\n",
              "      border-radius: 50%;\n",
              "      cursor: pointer;\n",
              "      display: none;\n",
              "      fill: #1967D2;\n",
              "      height: 32px;\n",
              "      padding: 0 0 0 0;\n",
              "      width: 32px;\n",
              "    }\n",
              "\n",
              "    .colab-df-convert:hover {\n",
              "      background-color: #E2EBFA;\n",
              "      box-shadow: 0px 1px 2px rgba(60, 64, 67, 0.3), 0px 1px 3px 1px rgba(60, 64, 67, 0.15);\n",
              "      fill: #174EA6;\n",
              "    }\n",
              "\n",
              "    [theme=dark] .colab-df-convert {\n",
              "      background-color: #3B4455;\n",
              "      fill: #D2E3FC;\n",
              "    }\n",
              "\n",
              "    [theme=dark] .colab-df-convert:hover {\n",
              "      background-color: #434B5C;\n",
              "      box-shadow: 0px 1px 3px 1px rgba(0, 0, 0, 0.15);\n",
              "      filter: drop-shadow(0px 1px 2px rgba(0, 0, 0, 0.3));\n",
              "      fill: #FFFFFF;\n",
              "    }\n",
              "  </style>\n",
              "\n",
              "      <script>\n",
              "        const buttonEl =\n",
              "          document.querySelector('#df-fe4695ef-65e9-46ab-b896-01f2625c4a05 button.colab-df-convert');\n",
              "        buttonEl.style.display =\n",
              "          google.colab.kernel.accessAllowed ? 'block' : 'none';\n",
              "\n",
              "        async function convertToInteractive(key) {\n",
              "          const element = document.querySelector('#df-fe4695ef-65e9-46ab-b896-01f2625c4a05');\n",
              "          const dataTable =\n",
              "            await google.colab.kernel.invokeFunction('convertToInteractive',\n",
              "                                                     [key], {});\n",
              "          if (!dataTable) return;\n",
              "\n",
              "          const docLinkHtml = 'Like what you see? Visit the ' +\n",
              "            '<a target=\"_blank\" href=https://colab.research.google.com/notebooks/data_table.ipynb>data table notebook</a>'\n",
              "            + ' to learn more about interactive tables.';\n",
              "          element.innerHTML = '';\n",
              "          dataTable['output_type'] = 'display_data';\n",
              "          await google.colab.output.renderOutput(dataTable, element);\n",
              "          const docLink = document.createElement('div');\n",
              "          docLink.innerHTML = docLinkHtml;\n",
              "          element.appendChild(docLink);\n",
              "        }\n",
              "      </script>\n",
              "    </div>\n",
              "  </div>\n",
              "  "
            ],
            "text/plain": [
              "      gender  idg  condtn  wave  round  position  positin1  order  partner  \\\n",
              "0          0    5       2     2     16         3       NaN     13       13   \n",
              "1          0   33       2    14     18         6       6.0      4        8   \n",
              "2          1    6       2     9     20        10      16.0     15       19   \n",
              "3          1   26       2     2     19        15       NaN      8       10   \n",
              "4          0   29       2     7     16         7       7.0     10        5   \n",
              "...      ...  ...     ...   ...    ...       ...       ...    ...      ...   \n",
              "2464       0   23       2    15     19        18      18.0     14       11   \n",
              "2465       0    5       1    13      9         4       4.0      4        8   \n",
              "2466       1   26       2     2     19         3       NaN     15        3   \n",
              "2467       0   19       2     9     20        11      11.0      9        2   \n",
              "2468       1   38       2    21     22        22       7.0     16        5   \n",
              "\n",
              "        pid  ...  sinc3_3  intel3_3  fun3_3  amb3_3  attr5_3  sinc5_3  \\\n",
              "0      52.0  ...      7.0       8.0     6.0     8.0      NaN      NaN   \n",
              "1     368.0  ...      8.0       7.0     7.0     8.0      6.0      7.0   \n",
              "2     212.0  ...      NaN       NaN     NaN     NaN      NaN      NaN   \n",
              "3      30.0  ...      NaN       NaN     NaN     NaN      NaN      NaN   \n",
              "4     162.0  ...      NaN       NaN     NaN     NaN      NaN      NaN   \n",
              "...     ...  ...      ...       ...     ...     ...      ...      ...   \n",
              "2464  407.0  ...      NaN       NaN     NaN     NaN      NaN      NaN   \n",
              "2465  339.0  ...      NaN       NaN     NaN     NaN      NaN      NaN   \n",
              "2466   23.0  ...      NaN       NaN     NaN     NaN      NaN      NaN   \n",
              "2467  215.0  ...      7.0      12.0    12.0     9.0      NaN      NaN   \n",
              "2468  513.0  ...      9.0       8.0     7.0     8.0      5.0      8.0   \n",
              "\n",
              "      intel5_3  fun5_3  amb5_3    id  \n",
              "0          NaN     NaN     NaN   934  \n",
              "1          6.0     5.0     5.0  6539  \n",
              "2          NaN     NaN     NaN  6757  \n",
              "3          NaN     NaN     NaN  2275  \n",
              "4          NaN     NaN     NaN  1052  \n",
              "...        ...     ...     ...   ...  \n",
              "2464       NaN     NaN     NaN  7982  \n",
              "2465       NaN     NaN     NaN  7299  \n",
              "2466       NaN     NaN     NaN  1818  \n",
              "2467       NaN     NaN     NaN   937  \n",
              "2468       8.0     6.0     8.0  6691  \n",
              "\n",
              "[2469 rows x 191 columns]"
            ]
          },
          "metadata": {},
          "execution_count": 6
        }
      ],
      "source": [
        "df_test= pd.read_csv(\"/content/test.csv\")   #reading test data\n",
        "df_test"
      ]
    },
    {
      "cell_type": "code",
      "execution_count": 7,
      "metadata": {
        "id": "HmaPzSNXvuB2",
        "colab": {
          "base_uri": "https://localhost:8080/"
        },
        "outputId": "89c7a215-8a02-46e3-80e2-66ad001c704f"
      },
      "outputs": [
        {
          "output_type": "execute_result",
          "data": {
            "text/plain": [
              "(2469, 191)"
            ]
          },
          "metadata": {},
          "execution_count": 7
        }
      ],
      "source": [
        "df_test.shape  #explore the shape of the test data frame"
      ]
    },
    {
      "cell_type": "code",
      "execution_count": 11,
      "metadata": {
        "id": "rH6pkv9gyFwR"
      },
      "outputs": [],
      "source": [
        ""
      ]
    },
    {
      "cell_type": "markdown",
      "metadata": {
        "id": "G2RwN0DxszKp"
      },
      "source": [
        "# Data concat"
      ]
    },
    {
      "cell_type": "code",
      "execution_count": 9,
      "metadata": {
        "colab": {
          "base_uri": "https://localhost:8080/",
          "height": 488
        },
        "id": "ZnT6_FjpMgZ0",
        "outputId": "89fa5b03-3585-4786-e949-f9b471c14d28"
      },
      "outputs": [
        {
          "output_type": "execute_result",
          "data": {
            "text/html": [
              "\n",
              "  <div id=\"df-76622ec1-0c1e-41b2-b211-0b0948b30f99\">\n",
              "    <div class=\"colab-df-container\">\n",
              "      <div>\n",
              "<style scoped>\n",
              "    .dataframe tbody tr th:only-of-type {\n",
              "        vertical-align: middle;\n",
              "    }\n",
              "\n",
              "    .dataframe tbody tr th {\n",
              "        vertical-align: top;\n",
              "    }\n",
              "\n",
              "    .dataframe thead th {\n",
              "        text-align: right;\n",
              "    }\n",
              "</style>\n",
              "<table border=\"1\" class=\"dataframe\">\n",
              "  <thead>\n",
              "    <tr style=\"text-align: right;\">\n",
              "      <th></th>\n",
              "      <th>gender</th>\n",
              "      <th>idg</th>\n",
              "      <th>condtn</th>\n",
              "      <th>wave</th>\n",
              "      <th>round</th>\n",
              "      <th>position</th>\n",
              "      <th>positin1</th>\n",
              "      <th>order</th>\n",
              "      <th>partner</th>\n",
              "      <th>pid</th>\n",
              "      <th>...</th>\n",
              "      <th>sinc3_3</th>\n",
              "      <th>intel3_3</th>\n",
              "      <th>fun3_3</th>\n",
              "      <th>amb3_3</th>\n",
              "      <th>attr5_3</th>\n",
              "      <th>sinc5_3</th>\n",
              "      <th>intel5_3</th>\n",
              "      <th>fun5_3</th>\n",
              "      <th>amb5_3</th>\n",
              "      <th>id</th>\n",
              "    </tr>\n",
              "  </thead>\n",
              "  <tbody>\n",
              "    <tr>\n",
              "      <th>0</th>\n",
              "      <td>0</td>\n",
              "      <td>3</td>\n",
              "      <td>2</td>\n",
              "      <td>14</td>\n",
              "      <td>18</td>\n",
              "      <td>2</td>\n",
              "      <td>2.0</td>\n",
              "      <td>14</td>\n",
              "      <td>12</td>\n",
              "      <td>372.0</td>\n",
              "      <td>...</td>\n",
              "      <td>NaN</td>\n",
              "      <td>NaN</td>\n",
              "      <td>NaN</td>\n",
              "      <td>NaN</td>\n",
              "      <td>NaN</td>\n",
              "      <td>NaN</td>\n",
              "      <td>NaN</td>\n",
              "      <td>NaN</td>\n",
              "      <td>NaN</td>\n",
              "      <td>2583</td>\n",
              "    </tr>\n",
              "    <tr>\n",
              "      <th>1</th>\n",
              "      <td>1</td>\n",
              "      <td>14</td>\n",
              "      <td>1</td>\n",
              "      <td>3</td>\n",
              "      <td>10</td>\n",
              "      <td>2</td>\n",
              "      <td>NaN</td>\n",
              "      <td>8</td>\n",
              "      <td>8</td>\n",
              "      <td>63.0</td>\n",
              "      <td>...</td>\n",
              "      <td>8.0</td>\n",
              "      <td>8.0</td>\n",
              "      <td>7.0</td>\n",
              "      <td>8.0</td>\n",
              "      <td>NaN</td>\n",
              "      <td>NaN</td>\n",
              "      <td>NaN</td>\n",
              "      <td>NaN</td>\n",
              "      <td>NaN</td>\n",
              "      <td>6830</td>\n",
              "    </tr>\n",
              "    <tr>\n",
              "      <th>2</th>\n",
              "      <td>1</td>\n",
              "      <td>14</td>\n",
              "      <td>1</td>\n",
              "      <td>13</td>\n",
              "      <td>10</td>\n",
              "      <td>8</td>\n",
              "      <td>8.0</td>\n",
              "      <td>10</td>\n",
              "      <td>10</td>\n",
              "      <td>331.0</td>\n",
              "      <td>...</td>\n",
              "      <td>NaN</td>\n",
              "      <td>NaN</td>\n",
              "      <td>NaN</td>\n",
              "      <td>NaN</td>\n",
              "      <td>NaN</td>\n",
              "      <td>NaN</td>\n",
              "      <td>NaN</td>\n",
              "      <td>NaN</td>\n",
              "      <td>NaN</td>\n",
              "      <td>4840</td>\n",
              "    </tr>\n",
              "    <tr>\n",
              "      <th>3</th>\n",
              "      <td>1</td>\n",
              "      <td>38</td>\n",
              "      <td>2</td>\n",
              "      <td>9</td>\n",
              "      <td>20</td>\n",
              "      <td>18</td>\n",
              "      <td>13.0</td>\n",
              "      <td>6</td>\n",
              "      <td>7</td>\n",
              "      <td>200.0</td>\n",
              "      <td>...</td>\n",
              "      <td>9.0</td>\n",
              "      <td>8.0</td>\n",
              "      <td>8.0</td>\n",
              "      <td>6.0</td>\n",
              "      <td>NaN</td>\n",
              "      <td>NaN</td>\n",
              "      <td>NaN</td>\n",
              "      <td>NaN</td>\n",
              "      <td>NaN</td>\n",
              "      <td>5508</td>\n",
              "    </tr>\n",
              "    <tr>\n",
              "      <th>4</th>\n",
              "      <td>1</td>\n",
              "      <td>24</td>\n",
              "      <td>2</td>\n",
              "      <td>14</td>\n",
              "      <td>20</td>\n",
              "      <td>6</td>\n",
              "      <td>6.0</td>\n",
              "      <td>20</td>\n",
              "      <td>17</td>\n",
              "      <td>357.0</td>\n",
              "      <td>...</td>\n",
              "      <td>NaN</td>\n",
              "      <td>NaN</td>\n",
              "      <td>NaN</td>\n",
              "      <td>NaN</td>\n",
              "      <td>NaN</td>\n",
              "      <td>NaN</td>\n",
              "      <td>NaN</td>\n",
              "      <td>NaN</td>\n",
              "      <td>NaN</td>\n",
              "      <td>4828</td>\n",
              "    </tr>\n",
              "    <tr>\n",
              "      <th>...</th>\n",
              "      <td>...</td>\n",
              "      <td>...</td>\n",
              "      <td>...</td>\n",
              "      <td>...</td>\n",
              "      <td>...</td>\n",
              "      <td>...</td>\n",
              "      <td>...</td>\n",
              "      <td>...</td>\n",
              "      <td>...</td>\n",
              "      <td>...</td>\n",
              "      <td>...</td>\n",
              "      <td>...</td>\n",
              "      <td>...</td>\n",
              "      <td>...</td>\n",
              "      <td>...</td>\n",
              "      <td>...</td>\n",
              "      <td>...</td>\n",
              "      <td>...</td>\n",
              "      <td>...</td>\n",
              "      <td>...</td>\n",
              "      <td>...</td>\n",
              "    </tr>\n",
              "    <tr>\n",
              "      <th>5904</th>\n",
              "      <td>0</td>\n",
              "      <td>1</td>\n",
              "      <td>2</td>\n",
              "      <td>9</td>\n",
              "      <td>20</td>\n",
              "      <td>2</td>\n",
              "      <td>2.0</td>\n",
              "      <td>18</td>\n",
              "      <td>1</td>\n",
              "      <td>214.0</td>\n",
              "      <td>...</td>\n",
              "      <td>12.0</td>\n",
              "      <td>12.0</td>\n",
              "      <td>9.0</td>\n",
              "      <td>12.0</td>\n",
              "      <td>NaN</td>\n",
              "      <td>NaN</td>\n",
              "      <td>NaN</td>\n",
              "      <td>NaN</td>\n",
              "      <td>NaN</td>\n",
              "      <td>3390</td>\n",
              "    </tr>\n",
              "    <tr>\n",
              "      <th>5905</th>\n",
              "      <td>1</td>\n",
              "      <td>24</td>\n",
              "      <td>2</td>\n",
              "      <td>9</td>\n",
              "      <td>20</td>\n",
              "      <td>19</td>\n",
              "      <td>15.0</td>\n",
              "      <td>5</td>\n",
              "      <td>6</td>\n",
              "      <td>199.0</td>\n",
              "      <td>...</td>\n",
              "      <td>NaN</td>\n",
              "      <td>NaN</td>\n",
              "      <td>NaN</td>\n",
              "      <td>NaN</td>\n",
              "      <td>NaN</td>\n",
              "      <td>NaN</td>\n",
              "      <td>NaN</td>\n",
              "      <td>NaN</td>\n",
              "      <td>NaN</td>\n",
              "      <td>4130</td>\n",
              "    </tr>\n",
              "    <tr>\n",
              "      <th>5906</th>\n",
              "      <td>0</td>\n",
              "      <td>13</td>\n",
              "      <td>2</td>\n",
              "      <td>11</td>\n",
              "      <td>21</td>\n",
              "      <td>5</td>\n",
              "      <td>5.0</td>\n",
              "      <td>3</td>\n",
              "      <td>18</td>\n",
              "      <td>290.0</td>\n",
              "      <td>...</td>\n",
              "      <td>NaN</td>\n",
              "      <td>NaN</td>\n",
              "      <td>NaN</td>\n",
              "      <td>NaN</td>\n",
              "      <td>NaN</td>\n",
              "      <td>NaN</td>\n",
              "      <td>NaN</td>\n",
              "      <td>NaN</td>\n",
              "      <td>NaN</td>\n",
              "      <td>1178</td>\n",
              "    </tr>\n",
              "    <tr>\n",
              "      <th>5907</th>\n",
              "      <td>1</td>\n",
              "      <td>10</td>\n",
              "      <td>2</td>\n",
              "      <td>7</td>\n",
              "      <td>16</td>\n",
              "      <td>6</td>\n",
              "      <td>14.0</td>\n",
              "      <td>9</td>\n",
              "      <td>10</td>\n",
              "      <td>151.0</td>\n",
              "      <td>...</td>\n",
              "      <td>NaN</td>\n",
              "      <td>NaN</td>\n",
              "      <td>NaN</td>\n",
              "      <td>NaN</td>\n",
              "      <td>NaN</td>\n",
              "      <td>NaN</td>\n",
              "      <td>NaN</td>\n",
              "      <td>NaN</td>\n",
              "      <td>NaN</td>\n",
              "      <td>5016</td>\n",
              "    </tr>\n",
              "    <tr>\n",
              "      <th>5908</th>\n",
              "      <td>0</td>\n",
              "      <td>7</td>\n",
              "      <td>2</td>\n",
              "      <td>21</td>\n",
              "      <td>22</td>\n",
              "      <td>7</td>\n",
              "      <td>7.0</td>\n",
              "      <td>2</td>\n",
              "      <td>12</td>\n",
              "      <td>542.0</td>\n",
              "      <td>...</td>\n",
              "      <td>NaN</td>\n",
              "      <td>NaN</td>\n",
              "      <td>NaN</td>\n",
              "      <td>NaN</td>\n",
              "      <td>NaN</td>\n",
              "      <td>NaN</td>\n",
              "      <td>NaN</td>\n",
              "      <td>NaN</td>\n",
              "      <td>NaN</td>\n",
              "      <td>8149</td>\n",
              "    </tr>\n",
              "  </tbody>\n",
              "</table>\n",
              "<p>5909 rows × 191 columns</p>\n",
              "</div>\n",
              "      <button class=\"colab-df-convert\" onclick=\"convertToInteractive('df-76622ec1-0c1e-41b2-b211-0b0948b30f99')\"\n",
              "              title=\"Convert this dataframe to an interactive table.\"\n",
              "              style=\"display:none;\">\n",
              "        \n",
              "  <svg xmlns=\"http://www.w3.org/2000/svg\" height=\"24px\"viewBox=\"0 0 24 24\"\n",
              "       width=\"24px\">\n",
              "    <path d=\"M0 0h24v24H0V0z\" fill=\"none\"/>\n",
              "    <path d=\"M18.56 5.44l.94 2.06.94-2.06 2.06-.94-2.06-.94-.94-2.06-.94 2.06-2.06.94zm-11 1L8.5 8.5l.94-2.06 2.06-.94-2.06-.94L8.5 2.5l-.94 2.06-2.06.94zm10 10l.94 2.06.94-2.06 2.06-.94-2.06-.94-.94-2.06-.94 2.06-2.06.94z\"/><path d=\"M17.41 7.96l-1.37-1.37c-.4-.4-.92-.59-1.43-.59-.52 0-1.04.2-1.43.59L10.3 9.45l-7.72 7.72c-.78.78-.78 2.05 0 2.83L4 21.41c.39.39.9.59 1.41.59.51 0 1.02-.2 1.41-.59l7.78-7.78 2.81-2.81c.8-.78.8-2.07 0-2.86zM5.41 20L4 18.59l7.72-7.72 1.47 1.35L5.41 20z\"/>\n",
              "  </svg>\n",
              "      </button>\n",
              "      \n",
              "  <style>\n",
              "    .colab-df-container {\n",
              "      display:flex;\n",
              "      flex-wrap:wrap;\n",
              "      gap: 12px;\n",
              "    }\n",
              "\n",
              "    .colab-df-convert {\n",
              "      background-color: #E8F0FE;\n",
              "      border: none;\n",
              "      border-radius: 50%;\n",
              "      cursor: pointer;\n",
              "      display: none;\n",
              "      fill: #1967D2;\n",
              "      height: 32px;\n",
              "      padding: 0 0 0 0;\n",
              "      width: 32px;\n",
              "    }\n",
              "\n",
              "    .colab-df-convert:hover {\n",
              "      background-color: #E2EBFA;\n",
              "      box-shadow: 0px 1px 2px rgba(60, 64, 67, 0.3), 0px 1px 3px 1px rgba(60, 64, 67, 0.15);\n",
              "      fill: #174EA6;\n",
              "    }\n",
              "\n",
              "    [theme=dark] .colab-df-convert {\n",
              "      background-color: #3B4455;\n",
              "      fill: #D2E3FC;\n",
              "    }\n",
              "\n",
              "    [theme=dark] .colab-df-convert:hover {\n",
              "      background-color: #434B5C;\n",
              "      box-shadow: 0px 1px 3px 1px rgba(0, 0, 0, 0.15);\n",
              "      filter: drop-shadow(0px 1px 2px rgba(0, 0, 0, 0.3));\n",
              "      fill: #FFFFFF;\n",
              "    }\n",
              "  </style>\n",
              "\n",
              "      <script>\n",
              "        const buttonEl =\n",
              "          document.querySelector('#df-76622ec1-0c1e-41b2-b211-0b0948b30f99 button.colab-df-convert');\n",
              "        buttonEl.style.display =\n",
              "          google.colab.kernel.accessAllowed ? 'block' : 'none';\n",
              "\n",
              "        async function convertToInteractive(key) {\n",
              "          const element = document.querySelector('#df-76622ec1-0c1e-41b2-b211-0b0948b30f99');\n",
              "          const dataTable =\n",
              "            await google.colab.kernel.invokeFunction('convertToInteractive',\n",
              "                                                     [key], {});\n",
              "          if (!dataTable) return;\n",
              "\n",
              "          const docLinkHtml = 'Like what you see? Visit the ' +\n",
              "            '<a target=\"_blank\" href=https://colab.research.google.com/notebooks/data_table.ipynb>data table notebook</a>'\n",
              "            + ' to learn more about interactive tables.';\n",
              "          element.innerHTML = '';\n",
              "          dataTable['output_type'] = 'display_data';\n",
              "          await google.colab.output.renderOutput(dataTable, element);\n",
              "          const docLink = document.createElement('div');\n",
              "          docLink.innerHTML = docLinkHtml;\n",
              "          element.appendChild(docLink);\n",
              "        }\n",
              "      </script>\n",
              "    </div>\n",
              "  </div>\n",
              "  "
            ],
            "text/plain": [
              "      gender  idg  condtn  wave  round  position  positin1  order  partner  \\\n",
              "0          0    3       2    14     18         2       2.0     14       12   \n",
              "1          1   14       1     3     10         2       NaN      8        8   \n",
              "2          1   14       1    13     10         8       8.0     10       10   \n",
              "3          1   38       2     9     20        18      13.0      6        7   \n",
              "4          1   24       2    14     20         6       6.0     20       17   \n",
              "...      ...  ...     ...   ...    ...       ...       ...    ...      ...   \n",
              "5904       0    1       2     9     20         2       2.0     18        1   \n",
              "5905       1   24       2     9     20        19      15.0      5        6   \n",
              "5906       0   13       2    11     21         5       5.0      3       18   \n",
              "5907       1   10       2     7     16         6      14.0      9       10   \n",
              "5908       0    7       2    21     22         7       7.0      2       12   \n",
              "\n",
              "        pid  ...  sinc3_3  intel3_3  fun3_3  amb3_3  attr5_3  sinc5_3  \\\n",
              "0     372.0  ...      NaN       NaN     NaN     NaN      NaN      NaN   \n",
              "1      63.0  ...      8.0       8.0     7.0     8.0      NaN      NaN   \n",
              "2     331.0  ...      NaN       NaN     NaN     NaN      NaN      NaN   \n",
              "3     200.0  ...      9.0       8.0     8.0     6.0      NaN      NaN   \n",
              "4     357.0  ...      NaN       NaN     NaN     NaN      NaN      NaN   \n",
              "...     ...  ...      ...       ...     ...     ...      ...      ...   \n",
              "5904  214.0  ...     12.0      12.0     9.0    12.0      NaN      NaN   \n",
              "5905  199.0  ...      NaN       NaN     NaN     NaN      NaN      NaN   \n",
              "5906  290.0  ...      NaN       NaN     NaN     NaN      NaN      NaN   \n",
              "5907  151.0  ...      NaN       NaN     NaN     NaN      NaN      NaN   \n",
              "5908  542.0  ...      NaN       NaN     NaN     NaN      NaN      NaN   \n",
              "\n",
              "      intel5_3  fun5_3  amb5_3    id  \n",
              "0          NaN     NaN     NaN  2583  \n",
              "1          NaN     NaN     NaN  6830  \n",
              "2          NaN     NaN     NaN  4840  \n",
              "3          NaN     NaN     NaN  5508  \n",
              "4          NaN     NaN     NaN  4828  \n",
              "...        ...     ...     ...   ...  \n",
              "5904       NaN     NaN     NaN  3390  \n",
              "5905       NaN     NaN     NaN  4130  \n",
              "5906       NaN     NaN     NaN  1178  \n",
              "5907       NaN     NaN     NaN  5016  \n",
              "5908       NaN     NaN     NaN  8149  \n",
              "\n",
              "[5909 rows x 191 columns]"
            ]
          },
          "metadata": {},
          "execution_count": 9
        }
      ],
      "source": [
        "# #to save the match match column \n",
        "\n",
        "# # y = df_train['match']  \n",
        "# data = df_train.drop('match', axis=1) \n",
        "# data\n"
      ]
    },
    {
      "cell_type": "code",
      "execution_count": 10,
      "metadata": {
        "colab": {
          "base_uri": "https://localhost:8080/"
        },
        "id": "xHHAWFgbv5kv",
        "outputId": "d40cbf29-328d-4a06-d020-cd895f8b0c0d"
      },
      "outputs": [
        {
          "output_type": "execute_result",
          "data": {
            "text/plain": [
              "(8378, 191)"
            ]
          },
          "metadata": {},
          "execution_count": 10
        }
      ],
      "source": [
        "# # df_test['match']=0      # ading the lable (match) to test data because it not excit in test data but it is in train data\n",
        "\n",
        "# df = pd.concat([data , df_test] , ignore_index=True , sort=False) \n",
        "# df.shape                 # concat the train and test data to work on both of them \n"
      ]
    },
    {
      "cell_type": "markdown",
      "metadata": {
        "id": "2ELnTCew_HvK"
      },
      "source": [
        "# work on data"
      ]
    },
    {
      "cell_type": "code",
      "execution_count": 14,
      "metadata": {
        "colab": {
          "base_uri": "https://localhost:8080/",
          "height": 300
        },
        "id": "8TyKhmZfwrRD",
        "outputId": "a740ee5a-fa69-4bd5-8826-d967784470ed"
      },
      "outputs": [
        {
          "output_type": "execute_result",
          "data": {
            "text/html": [
              "\n",
              "  <div id=\"df-779fc21f-5d2f-4e24-831d-241f29ae4fd6\">\n",
              "    <div class=\"colab-df-container\">\n",
              "      <div>\n",
              "<style scoped>\n",
              "    .dataframe tbody tr th:only-of-type {\n",
              "        vertical-align: middle;\n",
              "    }\n",
              "\n",
              "    .dataframe tbody tr th {\n",
              "        vertical-align: top;\n",
              "    }\n",
              "\n",
              "    .dataframe thead th {\n",
              "        text-align: right;\n",
              "    }\n",
              "</style>\n",
              "<table border=\"1\" class=\"dataframe\">\n",
              "  <thead>\n",
              "    <tr style=\"text-align: right;\">\n",
              "      <th></th>\n",
              "      <th>gender</th>\n",
              "      <th>idg</th>\n",
              "      <th>condtn</th>\n",
              "      <th>wave</th>\n",
              "      <th>round</th>\n",
              "      <th>position</th>\n",
              "      <th>positin1</th>\n",
              "      <th>order</th>\n",
              "      <th>partner</th>\n",
              "      <th>pid</th>\n",
              "      <th>...</th>\n",
              "      <th>sinc3_3</th>\n",
              "      <th>intel3_3</th>\n",
              "      <th>fun3_3</th>\n",
              "      <th>amb3_3</th>\n",
              "      <th>attr5_3</th>\n",
              "      <th>sinc5_3</th>\n",
              "      <th>intel5_3</th>\n",
              "      <th>fun5_3</th>\n",
              "      <th>amb5_3</th>\n",
              "      <th>id</th>\n",
              "    </tr>\n",
              "  </thead>\n",
              "  <tbody>\n",
              "    <tr>\n",
              "      <th>0</th>\n",
              "      <td>0</td>\n",
              "      <td>3</td>\n",
              "      <td>2</td>\n",
              "      <td>14</td>\n",
              "      <td>18</td>\n",
              "      <td>2</td>\n",
              "      <td>2.0</td>\n",
              "      <td>14</td>\n",
              "      <td>12</td>\n",
              "      <td>372.0</td>\n",
              "      <td>...</td>\n",
              "      <td>NaN</td>\n",
              "      <td>NaN</td>\n",
              "      <td>NaN</td>\n",
              "      <td>NaN</td>\n",
              "      <td>NaN</td>\n",
              "      <td>NaN</td>\n",
              "      <td>NaN</td>\n",
              "      <td>NaN</td>\n",
              "      <td>NaN</td>\n",
              "      <td>2583</td>\n",
              "    </tr>\n",
              "    <tr>\n",
              "      <th>1</th>\n",
              "      <td>1</td>\n",
              "      <td>14</td>\n",
              "      <td>1</td>\n",
              "      <td>3</td>\n",
              "      <td>10</td>\n",
              "      <td>2</td>\n",
              "      <td>NaN</td>\n",
              "      <td>8</td>\n",
              "      <td>8</td>\n",
              "      <td>63.0</td>\n",
              "      <td>...</td>\n",
              "      <td>8.0</td>\n",
              "      <td>8.0</td>\n",
              "      <td>7.0</td>\n",
              "      <td>8.0</td>\n",
              "      <td>NaN</td>\n",
              "      <td>NaN</td>\n",
              "      <td>NaN</td>\n",
              "      <td>NaN</td>\n",
              "      <td>NaN</td>\n",
              "      <td>6830</td>\n",
              "    </tr>\n",
              "    <tr>\n",
              "      <th>2</th>\n",
              "      <td>1</td>\n",
              "      <td>14</td>\n",
              "      <td>1</td>\n",
              "      <td>13</td>\n",
              "      <td>10</td>\n",
              "      <td>8</td>\n",
              "      <td>8.0</td>\n",
              "      <td>10</td>\n",
              "      <td>10</td>\n",
              "      <td>331.0</td>\n",
              "      <td>...</td>\n",
              "      <td>NaN</td>\n",
              "      <td>NaN</td>\n",
              "      <td>NaN</td>\n",
              "      <td>NaN</td>\n",
              "      <td>NaN</td>\n",
              "      <td>NaN</td>\n",
              "      <td>NaN</td>\n",
              "      <td>NaN</td>\n",
              "      <td>NaN</td>\n",
              "      <td>4840</td>\n",
              "    </tr>\n",
              "    <tr>\n",
              "      <th>3</th>\n",
              "      <td>1</td>\n",
              "      <td>38</td>\n",
              "      <td>2</td>\n",
              "      <td>9</td>\n",
              "      <td>20</td>\n",
              "      <td>18</td>\n",
              "      <td>13.0</td>\n",
              "      <td>6</td>\n",
              "      <td>7</td>\n",
              "      <td>200.0</td>\n",
              "      <td>...</td>\n",
              "      <td>9.0</td>\n",
              "      <td>8.0</td>\n",
              "      <td>8.0</td>\n",
              "      <td>6.0</td>\n",
              "      <td>NaN</td>\n",
              "      <td>NaN</td>\n",
              "      <td>NaN</td>\n",
              "      <td>NaN</td>\n",
              "      <td>NaN</td>\n",
              "      <td>5508</td>\n",
              "    </tr>\n",
              "    <tr>\n",
              "      <th>4</th>\n",
              "      <td>1</td>\n",
              "      <td>24</td>\n",
              "      <td>2</td>\n",
              "      <td>14</td>\n",
              "      <td>20</td>\n",
              "      <td>6</td>\n",
              "      <td>6.0</td>\n",
              "      <td>20</td>\n",
              "      <td>17</td>\n",
              "      <td>357.0</td>\n",
              "      <td>...</td>\n",
              "      <td>NaN</td>\n",
              "      <td>NaN</td>\n",
              "      <td>NaN</td>\n",
              "      <td>NaN</td>\n",
              "      <td>NaN</td>\n",
              "      <td>NaN</td>\n",
              "      <td>NaN</td>\n",
              "      <td>NaN</td>\n",
              "      <td>NaN</td>\n",
              "      <td>4828</td>\n",
              "    </tr>\n",
              "  </tbody>\n",
              "</table>\n",
              "<p>5 rows × 191 columns</p>\n",
              "</div>\n",
              "      <button class=\"colab-df-convert\" onclick=\"convertToInteractive('df-779fc21f-5d2f-4e24-831d-241f29ae4fd6')\"\n",
              "              title=\"Convert this dataframe to an interactive table.\"\n",
              "              style=\"display:none;\">\n",
              "        \n",
              "  <svg xmlns=\"http://www.w3.org/2000/svg\" height=\"24px\"viewBox=\"0 0 24 24\"\n",
              "       width=\"24px\">\n",
              "    <path d=\"M0 0h24v24H0V0z\" fill=\"none\"/>\n",
              "    <path d=\"M18.56 5.44l.94 2.06.94-2.06 2.06-.94-2.06-.94-.94-2.06-.94 2.06-2.06.94zm-11 1L8.5 8.5l.94-2.06 2.06-.94-2.06-.94L8.5 2.5l-.94 2.06-2.06.94zm10 10l.94 2.06.94-2.06 2.06-.94-2.06-.94-.94-2.06-.94 2.06-2.06.94z\"/><path d=\"M17.41 7.96l-1.37-1.37c-.4-.4-.92-.59-1.43-.59-.52 0-1.04.2-1.43.59L10.3 9.45l-7.72 7.72c-.78.78-.78 2.05 0 2.83L4 21.41c.39.39.9.59 1.41.59.51 0 1.02-.2 1.41-.59l7.78-7.78 2.81-2.81c.8-.78.8-2.07 0-2.86zM5.41 20L4 18.59l7.72-7.72 1.47 1.35L5.41 20z\"/>\n",
              "  </svg>\n",
              "      </button>\n",
              "      \n",
              "  <style>\n",
              "    .colab-df-container {\n",
              "      display:flex;\n",
              "      flex-wrap:wrap;\n",
              "      gap: 12px;\n",
              "    }\n",
              "\n",
              "    .colab-df-convert {\n",
              "      background-color: #E8F0FE;\n",
              "      border: none;\n",
              "      border-radius: 50%;\n",
              "      cursor: pointer;\n",
              "      display: none;\n",
              "      fill: #1967D2;\n",
              "      height: 32px;\n",
              "      padding: 0 0 0 0;\n",
              "      width: 32px;\n",
              "    }\n",
              "\n",
              "    .colab-df-convert:hover {\n",
              "      background-color: #E2EBFA;\n",
              "      box-shadow: 0px 1px 2px rgba(60, 64, 67, 0.3), 0px 1px 3px 1px rgba(60, 64, 67, 0.15);\n",
              "      fill: #174EA6;\n",
              "    }\n",
              "\n",
              "    [theme=dark] .colab-df-convert {\n",
              "      background-color: #3B4455;\n",
              "      fill: #D2E3FC;\n",
              "    }\n",
              "\n",
              "    [theme=dark] .colab-df-convert:hover {\n",
              "      background-color: #434B5C;\n",
              "      box-shadow: 0px 1px 3px 1px rgba(0, 0, 0, 0.15);\n",
              "      filter: drop-shadow(0px 1px 2px rgba(0, 0, 0, 0.3));\n",
              "      fill: #FFFFFF;\n",
              "    }\n",
              "  </style>\n",
              "\n",
              "      <script>\n",
              "        const buttonEl =\n",
              "          document.querySelector('#df-779fc21f-5d2f-4e24-831d-241f29ae4fd6 button.colab-df-convert');\n",
              "        buttonEl.style.display =\n",
              "          google.colab.kernel.accessAllowed ? 'block' : 'none';\n",
              "\n",
              "        async function convertToInteractive(key) {\n",
              "          const element = document.querySelector('#df-779fc21f-5d2f-4e24-831d-241f29ae4fd6');\n",
              "          const dataTable =\n",
              "            await google.colab.kernel.invokeFunction('convertToInteractive',\n",
              "                                                     [key], {});\n",
              "          if (!dataTable) return;\n",
              "\n",
              "          const docLinkHtml = 'Like what you see? Visit the ' +\n",
              "            '<a target=\"_blank\" href=https://colab.research.google.com/notebooks/data_table.ipynb>data table notebook</a>'\n",
              "            + ' to learn more about interactive tables.';\n",
              "          element.innerHTML = '';\n",
              "          dataTable['output_type'] = 'display_data';\n",
              "          await google.colab.output.renderOutput(dataTable, element);\n",
              "          const docLink = document.createElement('div');\n",
              "          docLink.innerHTML = docLinkHtml;\n",
              "          element.appendChild(docLink);\n",
              "        }\n",
              "      </script>\n",
              "    </div>\n",
              "  </div>\n",
              "  "
            ],
            "text/plain": [
              "   gender  idg  condtn  wave  round  position  positin1  order  partner  \\\n",
              "0       0    3       2    14     18         2       2.0     14       12   \n",
              "1       1   14       1     3     10         2       NaN      8        8   \n",
              "2       1   14       1    13     10         8       8.0     10       10   \n",
              "3       1   38       2     9     20        18      13.0      6        7   \n",
              "4       1   24       2    14     20         6       6.0     20       17   \n",
              "\n",
              "     pid  ...  sinc3_3  intel3_3  fun3_3  amb3_3  attr5_3  sinc5_3  intel5_3  \\\n",
              "0  372.0  ...      NaN       NaN     NaN     NaN      NaN      NaN       NaN   \n",
              "1   63.0  ...      8.0       8.0     7.0     8.0      NaN      NaN       NaN   \n",
              "2  331.0  ...      NaN       NaN     NaN     NaN      NaN      NaN       NaN   \n",
              "3  200.0  ...      9.0       8.0     8.0     6.0      NaN      NaN       NaN   \n",
              "4  357.0  ...      NaN       NaN     NaN     NaN      NaN      NaN       NaN   \n",
              "\n",
              "   fun5_3  amb5_3    id  \n",
              "0     NaN     NaN  2583  \n",
              "1     NaN     NaN  6830  \n",
              "2     NaN     NaN  4840  \n",
              "3     NaN     NaN  5508  \n",
              "4     NaN     NaN  4828  \n",
              "\n",
              "[5 rows x 191 columns]"
            ]
          },
          "metadata": {},
          "execution_count": 14
        }
      ],
      "source": [
        "# df.head()"
      ]
    },
    {
      "cell_type": "markdown",
      "metadata": {
        "id": "XUO2Km3jIgQP"
      },
      "source": [
        "##transform"
      ]
    },
    {
      "cell_type": "code",
      "execution_count": 8,
      "metadata": {
        "id": "4HHjDT0iIevR"
      },
      "outputs": [],
      "source": [
        "#convert all object columns to categorical column\n",
        "df_train[df_train.select_dtypes(['object']).columns] = df_train.select_dtypes(['object']).apply(lambda x: x.astype('category'))"
      ]
    },
    {
      "cell_type": "markdown",
      "metadata": {
        "id": "ehvjflQNAOXn"
      },
      "source": [
        "##droping"
      ]
    },
    {
      "cell_type": "code",
      "execution_count": 9,
      "metadata": {
        "id": "Y4iUylrfmpvR"
      },
      "outputs": [],
      "source": [
        "# First, lets drop duplicates (if any)\n",
        "df_train.drop_duplicates(inplace=True)"
      ]
    },
    {
      "cell_type": "code",
      "execution_count": 13,
      "metadata": {
        "id": "xPNH9d0Tmhc_"
      },
      "outputs": [],
      "source": [
        "# Remove all columns between column name 'B' to 'D'\n",
        "# df.drop(df.ix[:, 'B':'D'].columns, axis = 1)"
      ]
    },
    {
      "cell_type": "code",
      "execution_count": 9,
      "metadata": {
        "id": "uB3jzAERJ0iN"
      },
      "outputs": [],
      "source": [
        "df_train.drop(\"id\",axis = 1, inplace=True)  "
      ]
    },
    {
      "cell_type": "code",
      "execution_count": 10,
      "metadata": {
        "id": "SADlQmgaJ71C"
      },
      "outputs": [],
      "source": [
        "#df.drop(\"iid\",axis = 1, inplace=True) it is not exict "
      ]
    },
    {
      "cell_type": "code",
      "execution_count": 11,
      "metadata": {
        "id": "gB6Bjp3WJ8uZ"
      },
      "outputs": [],
      "source": [
        "df_train.drop(\"idg\",axis = 1, inplace=True)  "
      ]
    },
    {
      "cell_type": "code",
      "execution_count": 12,
      "metadata": {
        "colab": {
          "base_uri": "https://localhost:8080/"
        },
        "id": "pkM2PVGQCQbA",
        "outputId": "3431a2c9-32c8-48a0-db82-fa282f58ebc5"
      },
      "outputs": [
        {
          "output_type": "execute_result",
          "data": {
            "text/plain": [
              "304971"
            ]
          },
          "metadata": {},
          "execution_count": 12
        }
      ],
      "source": [
        "df_train.isnull().sum().sum() \n"
      ]
    },
    {
      "cell_type": "code",
      "execution_count": 14,
      "metadata": {
        "colab": {
          "base_uri": "https://localhost:8080/"
        },
        "id": "mjhMKnQftDi8",
        "outputId": "f57c01f0-7c55-4fb3-c0a1-891f229cc287"
      },
      "outputs": [
        {
          "output_type": "execute_result",
          "data": {
            "text/plain": [
              "127044"
            ]
          },
          "metadata": {},
          "execution_count": 14
        }
      ],
      "source": [
        "df_test.isnull().sum().sum() "
      ]
    },
    {
      "cell_type": "code",
      "execution_count": 24,
      "metadata": {
        "id": "HLRT27PPEeMe"
      },
      "outputs": [],
      "source": [
        "# #drop all the columns that contains null values more than 50 %\n",
        "# df_train=df_train.loc[:, pd.isnull(df_train).sum()>len(df_train)*.5] "
      ]
    },
    {
      "cell_type": "code",
      "execution_count": 15,
      "metadata": {
        "colab": {
          "base_uri": "https://localhost:8080/"
        },
        "id": "3wcHcPSLEmJk",
        "outputId": "88d2ae7c-3a22-4f6f-eecd-0c16c6e69209"
      },
      "outputs": [
        {
          "output_type": "execute_result",
          "data": {
            "text/plain": [
              "(5909, 190)"
            ]
          },
          "metadata": {},
          "execution_count": 15
        }
      ],
      "source": [
        "df_train.shape"
      ]
    },
    {
      "cell_type": "code",
      "execution_count": 26,
      "metadata": {
        "colab": {
          "base_uri": "https://localhost:8080/"
        },
        "id": "tPf2p72BCyAX",
        "outputId": "ecaf1910-4dfc-484c-eca2-1bbeef522900"
      },
      "outputs": [
        {
          "output_type": "execute_result",
          "data": {
            "text/plain": [
              "432015"
            ]
          },
          "metadata": {},
          "execution_count": 26
        }
      ],
      "source": [
        "df_train.isnull().sum().sum() "
      ]
    },
    {
      "cell_type": "code",
      "execution_count": 27,
      "metadata": {
        "id": "x9T1_7td9NjN"
      },
      "outputs": [],
      "source": [
        "## df_train = df_train.loc[:, df_train.isnull().mean() < .6]"
      ]
    },
    {
      "cell_type": "code",
      "execution_count": 28,
      "metadata": {
        "id": "SEh_IMV19RBP"
      },
      "outputs": [],
      "source": [
        "# #df_train = df_train.loc[:, df_train.isin([' ','NULL',0]).mean() < .6]"
      ]
    },
    {
      "cell_type": "code",
      "execution_count": 13,
      "metadata": {
        "colab": {
          "base_uri": "https://localhost:8080/"
        },
        "id": "TMr4xxDfKzeL",
        "outputId": "fbb8c092-cf3b-429c-fdbc-c2f345776845"
      },
      "outputs": [
        {
          "output_type": "stream",
          "name": "stdout",
          "text": [
            "num_in_3    92.22\n",
            "numdat_3    82.06\n",
            "expnum      78.30\n",
            "amb7_2      76.48\n",
            "sinc7_2     76.48\n",
            "            ...  \n",
            "order        0.00\n",
            "position     0.00\n",
            "round        0.00\n",
            "wave         0.00\n",
            "gender       0.00\n",
            "Length: 190, dtype: float64\n"
          ]
        }
      ],
      "source": [
        "# other way to drop all the columns that contains null values more than 50 % i will use it \n",
        "def missing(df_train):\n",
        "  print (round((df_train.isnull().sum() * 100/ len(df_train)),2).sort_values(ascending=False))\n",
        "\n",
        "missing(df_train)"
      ]
    },
    {
      "cell_type": "code",
      "execution_count": 14,
      "metadata": {
        "colab": {
          "base_uri": "https://localhost:8080/"
        },
        "id": "SDD4mSj4L2vB",
        "outputId": "3caec077-903e-4016-fb24-3c7b883ecd58"
      },
      "outputs": [
        {
          "output_type": "stream",
          "name": "stdout",
          "text": [
            "# Columns having more than 50 percent missing values:  59\n",
            "Columns:\n",
            " ['amb3_3', 'attr7_2', 'sinc5_3', 'intel7_2', 'sinc7_3', 'amb7_2', 'attr1_s', 'expnum', 'date_3', 'amb1_s', 'intel5_3', 'attr3_3', 'sinc2_3', 'intel3_s', 'fun7_2', 'shar1_s', 'fun3_3', 'amb1_3', 'sinc7_2', 'shar7_2', 'fun3_s', 'intel1_s', 'fun4_3', 'sinc1_3', 'tuition', 'you_call', 'sinc3_s', 'fun2_3', 'intel3_3', 'intel4_3', 'sinc1_s', 'fun5_3', 'amb3_s', 'intel1_3', 'amb4_3', 'attr2_3', 'mn_sat', 'amb5_3', 'amb2_3', 'sinc3_3', 'numdat_3', 'fun1_3', 'intel2_3', 'intel7_3', 'attr3_s', 'amb7_3', 'fun1_s', 'shar4_3', 'num_in_3', 'fun7_3', 'shar7_3', 'attr4_3', 'shar2_3', 'attr5_3', 'them_cal', 'sinc4_3', 'shar1_3', 'attr1_3', 'attr7_3']\n"
          ]
        }
      ],
      "source": [
        "def rmissingvaluecol(df_train, threshold):\n",
        "    l = []\n",
        "    l = list(df_train.drop(df_train.loc[:,list((100*(df_train.isnull().sum()/len(df_train.index)) >= threshold))].columns, 1).columns.values) \n",
        "    print(\"# Columns having more than %s percent missing values: \"%threshold, (df_train.shape[1] - len(l)))\n",
        "    print(\"Columns:\\n\", list(set(list((df_train.columns.values))) - set(l)))\n",
        "    return l\n",
        "\n",
        "existing_columns = rmissingvaluecol(df_train,50) # Here threshold is 50 % which means we are going to drop columns having more than 50% of missing values. "
      ]
    },
    {
      "cell_type": "code",
      "execution_count": 15,
      "metadata": {
        "colab": {
          "base_uri": "https://localhost:8080/"
        },
        "id": "2EHDRBJG6Zoy",
        "outputId": "0876a86b-d951-4eff-96ba-cd03e9b4983a"
      },
      "outputs": [
        {
          "output_type": "execute_result",
          "data": {
            "text/plain": [
              "Index(['gender', 'condtn', 'wave', 'round', 'position', 'positin1', 'order',\n",
              "       'partner', 'pid', 'match',\n",
              "       ...\n",
              "       'attr3_2', 'sinc3_2', 'intel3_2', 'fun3_2', 'amb3_2', 'attr5_2',\n",
              "       'sinc5_2', 'intel5_2', 'fun5_2', 'amb5_2'],\n",
              "      dtype='object', length=131)"
            ]
          },
          "metadata": {},
          "execution_count": 15
        }
      ],
      "source": [
        "df_train = df_train[existing_columns]\n",
        "df_train.columns.unique()"
      ]
    },
    {
      "cell_type": "markdown",
      "metadata": {
        "id": "WsC4WmsFDL6f"
      },
      "source": [
        "#spilte\n"
      ]
    },
    {
      "cell_type": "code",
      "execution_count": 23,
      "metadata": {
        "colab": {
          "base_uri": "https://localhost:8080/"
        },
        "id": "gimQramOnzyq",
        "outputId": "0031f840-eb4d-4462-b7cd-feba00a66c16"
      },
      "outputs": [
        {
          "output_type": "stream",
          "name": "stdout",
          "text": [
            "(5909, 130)\n",
            "(2469, 130)\n"
          ]
        }
      ],
      "source": [
        "# df_train_indx = df_train.shape[0]\n",
        "# df_train_clean = df.iloc[: df_train_indx]\n",
        "# df_train_clean_indx = df.shape[0]\n",
        "# print(df_train_clean.shape)\n",
        "# df_test_indx = df_test.shape[0]\n",
        "# df_test_clean = df.iloc[df_train_indx : ]\n",
        "# print(df_test_clean.shape) \n",
        "# # df_test_clean= df_test_clean.drop('match' , axis=1)"
      ]
    },
    {
      "cell_type": "code",
      "execution_count": 16,
      "metadata": {
        "colab": {
          "base_uri": "https://localhost:8080/"
        },
        "id": "xcxhRi6JDJ3A",
        "outputId": "a6bd3a6c-4888-4797-a3dc-5eae80fb33d4"
      },
      "outputs": [
        {
          "output_type": "stream",
          "name": "stdout",
          "text": [
            "original shape (5909, 130) (5909,)\n",
            "yts 3489    0\n",
            "4909    0\n",
            "1425    0\n",
            "4743    0\n",
            "439     0\n",
            "       ..\n",
            "4606    1\n",
            "3575    0\n",
            "1406    0\n",
            "1042    0\n",
            "705     0\n",
            "Name: match, Length: 296, dtype: int64\n"
          ]
        }
      ],
      "source": [
        "# now we can split the data\n",
        "import numpy as np\n",
        "from sklearn.model_selection import train_test_split\n",
        "\n",
        "y = df_train['match'] # lower case for vector\n",
        "X = df_train.drop('match', axis=1) # upper case for matrix\n",
        "# X=df_train\n",
        "\n",
        "print('original shape', X.shape, y.shape)\n",
        "\n",
        "xtr, xts, ytr, yts = train_test_split(\n",
        "    X, y, test_size=0.05, random_state=42) # i choosed the test size to be 0.05\n",
        "\n",
        "print('yts', yts)"
      ]
    },
    {
      "cell_type": "code",
      "execution_count": 50,
      "metadata": {
        "colab": {
          "base_uri": "https://localhost:8080/"
        },
        "id": "5mQQtWS8rFUC",
        "outputId": "f72685c3-0142-4cb5-98fe-f3989b8fbe6d"
      },
      "outputs": [
        {
          "output_type": "execute_result",
          "data": {
            "text/plain": [
              "0       0\n",
              "1       0\n",
              "2       0\n",
              "3       0\n",
              "4       0\n",
              "       ..\n",
              "5904    0\n",
              "5905    0\n",
              "5906    0\n",
              "5907    1\n",
              "5908    0\n",
              "Name: match, Length: 5909, dtype: int64"
            ]
          },
          "metadata": {},
          "execution_count": 50
        }
      ],
      "source": [
        "y"
      ]
    },
    {
      "cell_type": "markdown",
      "metadata": {
        "id": "wpvWcTcpMOOl"
      },
      "source": [
        "# Data exploration"
      ]
    },
    {
      "cell_type": "code",
      "execution_count": 43,
      "metadata": {
        "colab": {
          "base_uri": "https://localhost:8080/"
        },
        "id": "FkPg0ygYAEBS",
        "outputId": "5b2d1168-b32c-4796-b3e2-4267a97226fa"
      },
      "outputs": [
        {
          "output_type": "execute_result",
          "data": {
            "text/plain": [
              "income      2862\n",
              "amb5_2      2821\n",
              "fun5_2      2821\n",
              "intel5_2    2821\n",
              "sinc5_2     2821\n",
              "            ... \n",
              "condtn         0\n",
              "partner        0\n",
              "match          0\n",
              "samerace       0\n",
              "gender         0\n",
              "Length: 131, dtype: int64"
            ]
          },
          "metadata": {},
          "execution_count": 43
        }
      ],
      "source": [
        "# anything missing?\n",
        "df_train.isnull().sum().sort_values(ascending=False)"
      ]
    },
    {
      "cell_type": "code",
      "execution_count": 44,
      "metadata": {
        "colab": {
          "base_uri": "https://localhost:8080/",
          "height": 282
        },
        "id": "rXFEu7y9HY85",
        "outputId": "48e8215b-0a79-4fb0-8186-fa9acd5e85b6"
      },
      "outputs": [
        {
          "output_type": "execute_result",
          "data": {
            "text/plain": [
              "<matplotlib.axes._subplots.AxesSubplot at 0x7f1178d77210>"
            ]
          },
          "metadata": {},
          "execution_count": 44
        },
        {
          "output_type": "display_data",
          "data": {
            "image/png": "[encoded data removed]",
            "text/plain": [
              "<Figure size 432x288 with 1 Axes>"
            ]
          },
          "metadata": {
            "needs_background": "light"
          }
        }
      ],
      "source": [
        "df_train.isnull().sum().hist()"
      ]
    },
    {
      "cell_type": "code",
      "execution_count": 45,
      "metadata": {
        "colab": {
          "base_uri": "https://localhost:8080/",
          "height": 282
        },
        "id": "CfEJ3KWWHeUt",
        "outputId": "696b097a-7666-49f8-80a3-5731e8125a92"
      },
      "outputs": [
        {
          "output_type": "execute_result",
          "data": {
            "text/plain": [
              "<matplotlib.axes._subplots.AxesSubplot at 0x7f1178c55cd0>"
            ]
          },
          "metadata": {},
          "execution_count": 45
        },
        {
          "output_type": "display_data",
          "data": {
            "image/png": "[encoded data removed]",
            "text/plain": [
              "<Figure size 432x288 with 1 Axes>"
            ]
          },
          "metadata": {
            "needs_background": "light"
          }
        }
      ],
      "source": [
        "df_train.isnull().sum().hist()"
      ]
    },
    {
      "cell_type": "code",
      "execution_count": 46,
      "metadata": {
        "colab": {
          "base_uri": "https://localhost:8080/",
          "height": 321
        },
        "id": "2mEx6tdcH7fi",
        "outputId": "42907301-c7d4-4a0a-a294-017379f98f1e"
      },
      "outputs": [
        {
          "output_type": "execute_result",
          "data": {
            "text/plain": [
              "<matplotlib.axes._subplots.AxesSubplot at 0x7f11787b7250>"
            ]
          },
          "metadata": {},
          "execution_count": 46
        },
        {
          "output_type": "display_data",
          "data": {
            "image/png": "[encoded data removed]",
            "text/plain": [
              "<Figure size 432x288 with 1 Axes>"
            ]
          },
          "metadata": {
            "needs_background": "light"
          }
        }
      ],
      "source": [
        "# plot the amount of missing values in the train features.\n",
        "sns.heatmap(df_train.isnull(),yticklabels=False,cbar=False,cmap='viridis')"
      ]
    },
    {
      "cell_type": "code",
      "execution_count": 47,
      "metadata": {
        "colab": {
          "base_uri": "https://localhost:8080/",
          "height": 320
        },
        "id": "VkTC0GyouRGV",
        "outputId": "afdb2cbc-bb71-4f20-dbf1-f804ae6155b2"
      },
      "outputs": [
        {
          "output_type": "execute_result",
          "data": {
            "text/plain": [
              "<matplotlib.axes._subplots.AxesSubplot at 0x7f1175ec5d10>"
            ]
          },
          "metadata": {},
          "execution_count": 47
        },
        {
          "output_type": "display_data",
          "data": {
            "image/png": "[encoded data removed]",
            "text/plain": [
              "<Figure size 432x288 with 1 Axes>"
            ]
          },
          "metadata": {
            "needs_background": "light"
          }
        }
      ],
      "source": [
        "# plot the amount of missing values in the test features.\n",
        "sns.heatmap(df_test.isnull(),yticklabels=False,cbar=False,cmap='viridis')"
      ]
    },
    {
      "cell_type": "code",
      "execution_count": 48,
      "metadata": {
        "colab": {
          "base_uri": "https://localhost:8080/"
        },
        "id": "mYqV--msueA8",
        "outputId": "753c3323-3116-4a23-9995-ab5a1376b8f6"
      },
      "outputs": [
        {
          "output_type": "execute_result",
          "data": {
            "text/plain": [
              "83021"
            ]
          },
          "metadata": {},
          "execution_count": 48
        }
      ],
      "source": [
        "df_train.isnull().sum().sum() # sum of null values of train data before cleaning null"
      ]
    },
    {
      "cell_type": "code",
      "execution_count": 49,
      "metadata": {
        "id": "tOt6Z5oFoPwt"
      },
      "outputs": [],
      "source": [
        "# df_train_clean.isnull().sum().sum( )# sum of null values of train data after cleaning null"
      ]
    },
    {
      "cell_type": "code",
      "execution_count": 50,
      "metadata": {
        "colab": {
          "base_uri": "https://localhost:8080/"
        },
        "id": "x4hqPSsekxKu",
        "outputId": "0b357ed8-301b-4f57-d515-59edd156b874"
      },
      "outputs": [
        {
          "output_type": "execute_result",
          "data": {
            "text/plain": [
              "127044"
            ]
          },
          "metadata": {},
          "execution_count": 50
        }
      ],
      "source": [
        "df_test.isnull().sum().sum()# sum of null values of test data before cleaning null"
      ]
    },
    {
      "cell_type": "code",
      "execution_count": 51,
      "metadata": {
        "id": "rfE_NtQqoi2C"
      },
      "outputs": [],
      "source": [
        "# df_test_clean.isnull().sum().sum() # sum of null values of test data after cleaning null"
      ]
    },
    {
      "cell_type": "code",
      "execution_count": 52,
      "metadata": {
        "colab": {
          "base_uri": "https://localhost:8080/"
        },
        "id": "XlQDW541ofUk",
        "outputId": "c99f9ae6-5b7e-477e-f8b7-c7c7eca1cf5d"
      },
      "outputs": [
        {
          "output_type": "execute_result",
          "data": {
            "text/plain": [
              "income      2862\n",
              "amb5_2      2821\n",
              "fun5_2      2821\n",
              "intel5_2    2821\n",
              "sinc5_2     2821\n",
              "            ... \n",
              "condtn         0\n",
              "partner        0\n",
              "match          0\n",
              "samerace       0\n",
              "gender         0\n",
              "Length: 131, dtype: int64"
            ]
          },
          "metadata": {},
          "execution_count": 52
        }
      ],
      "source": [
        "#counts the null vaalues in each column from the highest to the lowest in train data\n",
        "total = df_train.isnull().sum().sort_values(ascending=False) \n",
        "total"
      ]
    },
    {
      "cell_type": "code",
      "execution_count": 53,
      "metadata": {
        "colab": {
          "base_uri": "https://localhost:8080/"
        },
        "id": "RQ_D3i9HvPQm",
        "outputId": "838af15f-e024-43c2-bfff-553c419820bd"
      },
      "outputs": [
        {
          "output_type": "execute_result",
          "data": {
            "text/plain": [
              "num_in_3    2261\n",
              "numdat_3    2033\n",
              "expnum      1951\n",
              "amb7_2      1904\n",
              "sinc7_2     1904\n",
              "            ... \n",
              "position       0\n",
              "round          0\n",
              "wave           0\n",
              "condtn         0\n",
              "id             0\n",
              "Length: 191, dtype: int64"
            ]
          },
          "metadata": {},
          "execution_count": 53
        }
      ],
      "source": [
        "#counts the null vaalues in each column from the highest to the lowest in test data\n",
        "total = df_test.isnull().sum().sort_values(ascending=False) \n",
        "total"
      ]
    },
    {
      "cell_type": "code",
      "execution_count": 54,
      "metadata": {
        "colab": {
          "base_uri": "https://localhost:8080/",
          "height": 386
        },
        "id": "_s9oIguNnHY5",
        "outputId": "c3a93cf7-d8fa-40aa-8bb3-08fbf8cc0b86"
      },
      "outputs": [
        {
          "output_type": "execute_result",
          "data": {
            "text/plain": [
              "<seaborn.axisgrid.FacetGrid at 0x7f11795d2250>"
            ]
          },
          "metadata": {},
          "execution_count": 54
        },
        {
          "output_type": "display_data",
          "data": {
            "image/png": "[encoded data removed]",
            "text/plain": [
              "<Figure size 360x360 with 1 Axes>"
            ]
          },
          "metadata": {
            "needs_background": "light"
          }
        }
      ],
      "source": [
        "sns.displot(df_train['age'].dropna(),kde=False,color='darkred',bins=30)"
      ]
    },
    {
      "cell_type": "code",
      "execution_count": 55,
      "metadata": {
        "colab": {
          "base_uri": "https://localhost:8080/"
        },
        "id": "jARdbDjHosOx",
        "outputId": "d9716c86-37e2-403a-c122-903062dc0a9c"
      },
      "outputs": [
        {
          "output_type": "execute_result",
          "data": {
            "text/plain": [
              "income      0.484346\n",
              "amb5_2      0.477407\n",
              "fun5_2      0.477407\n",
              "intel5_2    0.477407\n",
              "sinc5_2     0.477407\n",
              "              ...   \n",
              "condtn      0.000000\n",
              "partner     0.000000\n",
              "match       0.000000\n",
              "samerace    0.000000\n",
              "gender      0.000000\n",
              "Length: 131, dtype: float64"
            ]
          },
          "metadata": {},
          "execution_count": 55
        }
      ],
      "source": [
        "# # missing values percentage per-column\n",
        "percent = (df_train.isnull().sum()/df_train.isnull().count()).sort_values(ascending=False)\n",
        "percent"
      ]
    },
    {
      "cell_type": "code",
      "execution_count": 56,
      "metadata": {
        "colab": {
          "base_uri": "https://localhost:8080/",
          "height": 833
        },
        "id": "Tac_I1YxntcU",
        "outputId": "d5d90472-c4c5-4f73-d2ea-242edf8acecf"
      },
      "outputs": [
        {
          "output_type": "execute_result",
          "data": {
            "text/html": [
              "\n",
              "  <div id=\"df-88c74b84-e51a-417a-8bbb-d0906b2f327d\">\n",
              "    <div class=\"colab-df-container\">\n",
              "      <div>\n",
              "<style scoped>\n",
              "    .dataframe tbody tr th:only-of-type {\n",
              "        vertical-align: middle;\n",
              "    }\n",
              "\n",
              "    .dataframe tbody tr th {\n",
              "        vertical-align: top;\n",
              "    }\n",
              "\n",
              "    .dataframe thead th {\n",
              "        text-align: right;\n",
              "    }\n",
              "</style>\n",
              "<table border=\"1\" class=\"dataframe\">\n",
              "  <thead>\n",
              "    <tr style=\"text-align: right;\">\n",
              "      <th></th>\n",
              "      <th>Total</th>\n",
              "      <th>Percent</th>\n",
              "    </tr>\n",
              "  </thead>\n",
              "  <tbody>\n",
              "    <tr>\n",
              "      <th>num_in_3</th>\n",
              "      <td>2261.0</td>\n",
              "      <td>NaN</td>\n",
              "    </tr>\n",
              "    <tr>\n",
              "      <th>numdat_3</th>\n",
              "      <td>2033.0</td>\n",
              "      <td>NaN</td>\n",
              "    </tr>\n",
              "    <tr>\n",
              "      <th>expnum</th>\n",
              "      <td>1951.0</td>\n",
              "      <td>NaN</td>\n",
              "    </tr>\n",
              "    <tr>\n",
              "      <th>amb7_2</th>\n",
              "      <td>1904.0</td>\n",
              "      <td>NaN</td>\n",
              "    </tr>\n",
              "    <tr>\n",
              "      <th>sinc7_2</th>\n",
              "      <td>1904.0</td>\n",
              "      <td>NaN</td>\n",
              "    </tr>\n",
              "    <tr>\n",
              "      <th>...</th>\n",
              "      <td>...</td>\n",
              "      <td>...</td>\n",
              "    </tr>\n",
              "    <tr>\n",
              "      <th>round</th>\n",
              "      <td>0.0</td>\n",
              "      <td>0.0</td>\n",
              "    </tr>\n",
              "    <tr>\n",
              "      <th>wave</th>\n",
              "      <td>0.0</td>\n",
              "      <td>0.0</td>\n",
              "    </tr>\n",
              "    <tr>\n",
              "      <th>condtn</th>\n",
              "      <td>0.0</td>\n",
              "      <td>0.0</td>\n",
              "    </tr>\n",
              "    <tr>\n",
              "      <th>id</th>\n",
              "      <td>0.0</td>\n",
              "      <td>NaN</td>\n",
              "    </tr>\n",
              "    <tr>\n",
              "      <th>match</th>\n",
              "      <td>NaN</td>\n",
              "      <td>0.0</td>\n",
              "    </tr>\n",
              "  </tbody>\n",
              "</table>\n",
              "<p>192 rows × 2 columns</p>\n",
              "</div>\n",
              "      <button class=\"colab-df-convert\" onclick=\"convertToInteractive('df-88c74b84-e51a-417a-8bbb-d0906b2f327d')\"\n",
              "              title=\"Convert this dataframe to an interactive table.\"\n",
              "              style=\"display:none;\">\n",
              "        \n",
              "  <svg xmlns=\"http://www.w3.org/2000/svg\" height=\"24px\"viewBox=\"0 0 24 24\"\n",
              "       width=\"24px\">\n",
              "    <path d=\"M0 0h24v24H0V0z\" fill=\"none\"/>\n",
              "    <path d=\"M18.56 5.44l.94 2.06.94-2.06 2.06-.94-2.06-.94-.94-2.06-.94 2.06-2.06.94zm-11 1L8.5 8.5l.94-2.06 2.06-.94-2.06-.94L8.5 2.5l-.94 2.06-2.06.94zm10 10l.94 2.06.94-2.06 2.06-.94-2.06-.94-.94-2.06-.94 2.06-2.06.94z\"/><path d=\"M17.41 7.96l-1.37-1.37c-.4-.4-.92-.59-1.43-.59-.52 0-1.04.2-1.43.59L10.3 9.45l-7.72 7.72c-.78.78-.78 2.05 0 2.83L4 21.41c.39.39.9.59 1.41.59.51 0 1.02-.2 1.41-.59l7.78-7.78 2.81-2.81c.8-.78.8-2.07 0-2.86zM5.41 20L4 18.59l7.72-7.72 1.47 1.35L5.41 20z\"/>\n",
              "  </svg>\n",
              "      </button>\n",
              "      \n",
              "  <style>\n",
              "    .colab-df-container {\n",
              "      display:flex;\n",
              "      flex-wrap:wrap;\n",
              "      gap: 12px;\n",
              "    }\n",
              "\n",
              "    .colab-df-convert {\n",
              "      background-color: #E8F0FE;\n",
              "      border: none;\n",
              "      border-radius: 50%;\n",
              "      cursor: pointer;\n",
              "      display: none;\n",
              "      fill: #1967D2;\n",
              "      height: 32px;\n",
              "      padding: 0 0 0 0;\n",
              "      width: 32px;\n",
              "    }\n",
              "\n",
              "    .colab-df-convert:hover {\n",
              "      background-color: #E2EBFA;\n",
              "      box-shadow: 0px 1px 2px rgba(60, 64, 67, 0.3), 0px 1px 3px 1px rgba(60, 64, 67, 0.15);\n",
              "      fill: #174EA6;\n",
              "    }\n",
              "\n",
              "    [theme=dark] .colab-df-convert {\n",
              "      background-color: #3B4455;\n",
              "      fill: #D2E3FC;\n",
              "    }\n",
              "\n",
              "    [theme=dark] .colab-df-convert:hover {\n",
              "      background-color: #434B5C;\n",
              "      box-shadow: 0px 1px 3px 1px rgba(0, 0, 0, 0.15);\n",
              "      filter: drop-shadow(0px 1px 2px rgba(0, 0, 0, 0.3));\n",
              "      fill: #FFFFFF;\n",
              "    }\n",
              "  </style>\n",
              "\n",
              "      <script>\n",
              "        const buttonEl =\n",
              "          document.querySelector('#df-88c74b84-e51a-417a-8bbb-d0906b2f327d button.colab-df-convert');\n",
              "        buttonEl.style.display =\n",
              "          google.colab.kernel.accessAllowed ? 'block' : 'none';\n",
              "\n",
              "        async function convertToInteractive(key) {\n",
              "          const element = document.querySelector('#df-88c74b84-e51a-417a-8bbb-d0906b2f327d');\n",
              "          const dataTable =\n",
              "            await google.colab.kernel.invokeFunction('convertToInteractive',\n",
              "                                                     [key], {});\n",
              "          if (!dataTable) return;\n",
              "\n",
              "          const docLinkHtml = 'Like what you see? Visit the ' +\n",
              "            '<a target=\"_blank\" href=https://colab.research.google.com/notebooks/data_table.ipynb>data table notebook</a>'\n",
              "            + ' to learn more about interactive tables.';\n",
              "          element.innerHTML = '';\n",
              "          dataTable['output_type'] = 'display_data';\n",
              "          await google.colab.output.renderOutput(dataTable, element);\n",
              "          const docLink = document.createElement('div');\n",
              "          docLink.innerHTML = docLinkHtml;\n",
              "          element.appendChild(docLink);\n",
              "        }\n",
              "      </script>\n",
              "    </div>\n",
              "  </div>\n",
              "  "
            ],
            "text/plain": [
              "           Total  Percent\n",
              "num_in_3  2261.0      NaN\n",
              "numdat_3  2033.0      NaN\n",
              "expnum    1951.0      NaN\n",
              "amb7_2    1904.0      NaN\n",
              "sinc7_2   1904.0      NaN\n",
              "...          ...      ...\n",
              "round        0.0      0.0\n",
              "wave         0.0      0.0\n",
              "condtn       0.0      0.0\n",
              "id           0.0      NaN\n",
              "match        NaN      0.0\n",
              "\n",
              "[192 rows x 2 columns]"
            ]
          },
          "metadata": {},
          "execution_count": 56
        },
        {
          "output_type": "display_data",
          "data": {
            "image/png": "[encoded data removed]",
            "text/plain": [
              "<Figure size 4320x1728 with 1 Axes>"
            ]
          },
          "metadata": {
            "needs_background": "light"
          }
        }
      ],
      "source": [
        "# # plot the count of the null vaalues in each column from high to low and missing values percentage per-column togrther\n",
        "missing_data = pd.concat([total, percent], axis=1, keys=['Total', 'Percent'])\n",
        "f, ax = plt.subplots(figsize=(60, 24))\n",
        "plt.xticks(rotation='90')\n",
        "sns.barplot(x=missing_data.index, y=missing_data['Percent'])\n",
        "plt.xlabel('fetures', fontsize=60)\n",
        "plt.ylabel('Percent of missing values', fontsize=60)\n",
        "plt.title('Percent missing data by feature', fontsize=60)\n",
        "missing_data"
      ]
    },
    {
      "cell_type": "markdown",
      "metadata": {
        "id": "VwqtI8iD0NM-"
      },
      "source": [
        "### Visualizing numeric values"
      ]
    },
    {
      "cell_type": "code",
      "execution_count": 57,
      "metadata": {
        "colab": {
          "base_uri": "https://localhost:8080/"
        },
        "id": "X3cm3srz0hxm",
        "outputId": "ef231495-175a-45fc-8d03-71bc8ee7bef8"
      },
      "outputs": [
        {
          "output_type": "execute_result",
          "data": {
            "text/plain": [
              "Index(['gender', 'condtn', 'wave', 'round', 'position', 'positin1', 'order',\n",
              "       'partner', 'pid', 'match',\n",
              "       ...\n",
              "       'attr3_2', 'sinc3_2', 'intel3_2', 'fun3_2', 'amb3_2', 'attr5_2',\n",
              "       'sinc5_2', 'intel5_2', 'fun5_2', 'amb5_2'],\n",
              "      dtype='object', length=125)"
            ]
          },
          "metadata": {},
          "execution_count": 57
        }
      ],
      "source": [
        "df_numeric = df_train.select_dtypes(include=np.number)\n",
        "df_numeric.columns"
      ]
    },
    {
      "cell_type": "code",
      "execution_count": 58,
      "metadata": {
        "id": "JYp6SSYd1AsC",
        "colab": {
          "base_uri": "https://localhost:8080/",
          "height": 542
        },
        "outputId": "7d6b9f6c-c5a1-452b-bb62-86179fbdc1ec"
      },
      "outputs": [
        {
          "output_type": "display_data",
          "data": {
            "text/html": [
              "<html>\n",
              "<head><meta charset=\"utf-8\" /></head>\n",
              "<body>\n",
              "    <div>            <script src=\"https://cdnjs.cloudflare.com/ajax/libs/mathjax/2.7.5/MathJax.js?config=TeX-AMS-MML_SVG\"></script><script type=\"text/javascript\">if (window.MathJax) {MathJax.Hub.Config({SVG: {font: \"STIX-Web\"}});}</script>                <script type=\"text/javascript\">window.PlotlyConfig = {MathJaxConfig: 'local'};</script>\n",
              "        <script src=\"https://cdn.plot.ly/plotly-2.8.3.min.js\"></script>                <div id=\"fd05bd35-616c-458d-9443-77c5537d8ce0\" class=\"plotly-graph-div\" style=\"height:525px; width:100%;\"></div>            <script type=\"text/javascript\">                                    window.PLOTLYENV=window.PLOTLYENV || {};                                    if (document.getElementById(\"fd05bd35-616c-458d-9443-77c5537d8ce0\")) {                    Plotly.newPlot(                        \"fd05bd35-616c-458d-9443-77c5537d8ce0\",                        [{\"coloraxis\":\"coloraxis\",\"name\":\"0\",\"x\":[\"gender\",\"condtn\",\"wave\",\"round\",\"position\",\"positin1\",\"order\",\"partner\",\"pid\",\"match\",\"int_corr\",\"samerace\",\"age_o\",\"race_o\",\"pf_o_att\",\"pf_o_sin\",\"pf_o_int\",\"pf_o_fun\",\"pf_o_amb\",\"pf_o_sha\",\"attr_o\",\"sinc_o\",\"intel_o\",\"fun_o\",\"amb_o\",\"shar_o\",\"like_o\",\"prob_o\",\"met_o\",\"age\",\"field_cd\",\"race\",\"imprace\",\"imprelig\",\"goal\",\"date\",\"go_out\",\"career_c\",\"sports\",\"tvsports\",\"exercise\",\"dining\",\"museums\",\"art\",\"hiking\",\"gaming\",\"clubbing\",\"reading\",\"tv\",\"theater\",\"movies\",\"concerts\",\"music\",\"shopping\",\"yoga\",\"exphappy\",\"attr1_1\",\"sinc1_1\",\"intel1_1\",\"fun1_1\",\"amb1_1\",\"shar1_1\",\"attr4_1\",\"sinc4_1\",\"intel4_1\",\"fun4_1\",\"amb4_1\",\"shar4_1\",\"attr2_1\",\"sinc2_1\",\"intel2_1\",\"fun2_1\",\"amb2_1\",\"shar2_1\",\"attr3_1\",\"sinc3_1\",\"fun3_1\",\"intel3_1\",\"amb3_1\",\"attr5_1\",\"sinc5_1\",\"intel5_1\",\"fun5_1\",\"amb5_1\",\"attr\",\"sinc\",\"intel\",\"fun\",\"amb\",\"shar\",\"like\",\"prob\",\"met\",\"match_es\",\"satis_2\",\"length\",\"numdat_2\",\"attr1_2\",\"sinc1_2\",\"intel1_2\",\"fun1_2\",\"amb1_2\",\"shar1_2\",\"attr4_2\",\"sinc4_2\",\"intel4_2\",\"fun4_2\",\"amb4_2\",\"shar4_2\",\"attr2_2\",\"sinc2_2\",\"intel2_2\",\"fun2_2\",\"amb2_2\",\"shar2_2\",\"attr3_2\",\"sinc3_2\",\"intel3_2\",\"fun3_2\",\"amb3_2\",\"attr5_2\",\"sinc5_2\",\"intel5_2\",\"fun5_2\",\"amb5_2\"],\"y\":[\"gender\",\"condtn\",\"wave\",\"round\",\"position\",\"positin1\",\"order\",\"partner\",\"pid\",\"match\",\"int_corr\",\"samerace\",\"age_o\",\"race_o\",\"pf_o_att\",\"pf_o_sin\",\"pf_o_int\",\"pf_o_fun\",\"pf_o_amb\",\"pf_o_sha\",\"attr_o\",\"sinc_o\",\"intel_o\",\"fun_o\",\"amb_o\",\"shar_o\",\"like_o\",\"prob_o\",\"met_o\",\"age\",\"field_cd\",\"race\",\"imprace\",\"imprelig\",\"goal\",\"date\",\"go_out\",\"career_c\",\"sports\",\"tvsports\",\"exercise\",\"dining\",\"museums\",\"art\",\"hiking\",\"gaming\",\"clubbing\",\"reading\",\"tv\",\"theater\",\"movies\",\"concerts\",\"music\",\"shopping\",\"yoga\",\"exphappy\",\"attr1_1\",\"sinc1_1\",\"intel1_1\",\"fun1_1\",\"amb1_1\",\"shar1_1\",\"attr4_1\",\"sinc4_1\",\"intel4_1\",\"fun4_1\",\"amb4_1\",\"shar4_1\",\"attr2_1\",\"sinc2_1\",\"intel2_1\",\"fun2_1\",\"amb2_1\",\"shar2_1\",\"attr3_1\",\"sinc3_1\",\"fun3_1\",\"intel3_1\",\"amb3_1\",\"attr5_1\",\"sinc5_1\",\"intel5_1\",\"fun5_1\",\"amb5_1\",\"attr\",\"sinc\",\"intel\",\"fun\",\"amb\",\"shar\",\"like\",\"prob\",\"met\",\"match_es\",\"satis_2\",\"length\",\"numdat_2\",\"attr1_2\",\"sinc1_2\",\"intel1_2\",\"fun1_2\",\"amb1_2\",\"shar1_2\",\"attr4_2\",\"sinc4_2\",\"intel4_2\",\"fun4_2\",\"amb4_2\",\"shar4_2\",\"attr2_2\",\"sinc2_2\",\"intel2_2\",\"fun2_2\",\"amb2_2\",\"shar2_2\",\"attr3_2\",\"sinc3_2\",\"intel3_2\",\"fun3_2\",\"amb3_2\",\"attr5_2\",\"sinc5_2\",\"intel5_2\",\"fun5_2\",\"amb5_2\"],\"z\":[[1.0,-0.0008749934153380064,-0.004192046153245717,0.017755235540577414,-0.0040473292293913814,0.0004103502142672771,0.009849603002737862,0.010318291337627261,-0.056274888472099216,0.004293356450922657,0.011520029893555495,-0.01763566432316575,-0.08813759933818921,0.027244180254062056,-0.3586607212139989,0.13776745503466076,0.11949237847919154,-0.05447236819600998,0.3491161667003818,0.1313274233656512,-0.13169509188047993,-0.03565989133559144,0.0562052067344203,-0.058485771846106184,0.09449989947942423,-0.027495672960021957,-0.07204810538420514,0.004045148103139382,0.008274071268820196,0.06942716657688412,-0.06907061276031184,-0.011617393936657366,-0.11394828690088735,-0.2088523500271008,0.028396881034490846,-0.09973805578751116,0.02324079613265742,-0.007684320713661598,0.22875918214776444,0.1453242008405776,-0.07706081594611504,-0.20860769011235036,-0.20621472059520257,-0.21806084954965882,-0.06532431522450713,0.217356949253759,-0.0543335509130486,-0.10586260216363395,-0.16689990705249383,-0.3051930600744333,-0.16005896945809026,-0.13201461425883682,-0.07739906716308585,-0.3270056899690629,-0.22209440678290676,0.21259821925879238,0.35870760454069417,-0.12803576874873315,-0.11611060036883533,0.038879706521187926,-0.35372699702482996,-0.13814077026805424,0.10944638727423303,-0.05100258668807804,-0.08263134216622489,0.0815533873279936,-0.3062733838455635,-0.0304009568577192,-0.3210414816909433,0.272460829072073,0.2917670751364795,-0.04686523948321979,0.36065513248791053,-0.129110671966305,-0.09796435275756199,-0.11258459368013633,-0.12476598892010993,0.06697159366478286,-0.0279992517792684,-0.054282117482892966,-0.12005485571552516,0.0333991361145133,-0.04699666154004558,-0.06850508964875114,0.15059101599955865,0.052212790040121186,-0.056286428261956054,0.0677241529290732,-0.1008068778202179,0.045449729423887336,0.08799275380872636,-0.0028886606452062334,-0.008150185335135302,0.07242486340774752,0.23301814094109072,-0.11916944923467293,0.009901652348911567,0.2860762593351934,-0.11953900326414081,-0.1811028602245051,0.039953558476654105,-0.2534887301908957,-0.18037828341374126,0.13479741917781837,-0.134006122214914,-0.15954341992769622,0.07369440738864223,-0.2135609692019618,-0.06288176899681255,-0.24964064823229154,0.28204158419017683,0.2622819638050045,-0.12503824946095632,0.3639013898626692,-0.169446593153722,-0.0835990045836928,-0.140321066428737,0.09541722660768012,-0.11664972122174172,-0.007924216080841692,-0.0012871898024870842,-0.1781501474523532,0.05494507133386813,-0.009537238867445456,0.06446606464677389],[-0.0008749934153380064,1.0,0.21973528590244767,0.8208977245045287,0.33101269348313644,0.3067219796006266,0.33140241055096054,0.3224671986838436,0.21800866949943187,-0.0428882637467612,0.04346982525874321,0.06664471592140209,0.10336157265024565,-0.09191215593173982,-0.05971623612999903,0.056616900142449224,0.03957139887119846,-0.010274407893240519,-0.04007730041810735,0.012578129054195501,0.0004334774225613207,-0.0391437278641315,-0.019192578545026,-0.03147984594300738,-0.022294976370842785,-0.028479291459766767,-0.035614720711363436,-0.03746378145829919,0.020551084278775625,0.09126357533558305,0.11838250668438607,-0.10501097408167719,0.044369394015717385,0.08351486309794448,-0.06581053161633924,0.0592612509424206,0.0440496615374181,0.015837344508638676,0.036333616183076324,0.01338612924089224,-0.03748372161992057,0.007182635890777716,0.02903954237949133,0.03918994743838003,0.00891425060036579,0.005409134612215683,-0.05478851748761608,0.00653804295098314,-0.007639685819246711,0.026643982495858896,0.031230844992306443,-0.016694962786742172,-0.0262765997078004,0.029078937215302633,-0.0365357377341985,0.025066790441347866,-0.05840047546848306,0.07386088988309375,0.02259806220380568,-0.01134309613245971,-0.037924708199844184,0.02119297159182198,0.03269967074579287,-0.014103241268508369,0.04372321330495841,0.009761025970650261,0.010402087867070978,0.026313145024580153,1.2870422640309564e-05,0.006631402780255365,-0.014671924032626175,-0.06284357494642244,0.037462841086860744,0.025545649589107808,-0.021498876873396976,0.039220492274881724,0.0064326973459164286,0.03663223181118226,-0.026106449604591127,-0.001470732840025439,-0.024573222864822143,0.03705575507336203,0.07179082284847627,-0.0010892892905600535,0.0012572633988715172,-0.035045524434899146,-0.013139930364632435,-0.02916140561919075,-0.01916487337337598,-0.027447903534476726,-0.01705099067522143,-0.013727753993421908,-0.14918851604077793,0.16073362897565768,0.08959855958782337,-0.07448633929848324,0.12551277482858536,0.02517213663317121,0.0515937988501336,-0.03216830183406078,-0.009614730116326421,-0.038699791184764014,-0.004014209290001157,0.03740989883776074,0.03692301312918708,0.01567020413001846,0.03959147329267187,0.00013495264355617748,0.004392650433384878,0.021665560090688613,0.0016734832720508963,-0.023484272940714188,-0.01684846200135332,-0.03550407996037903,0.03271564103128496,0.011033313231445352,0.04311624519310938,0.049328326608420604,0.008403062968765897,0.040339275110645875,-0.00015985213439641095,-0.04238818852254966,-0.0012618730082667004,0.04833288694404644,0.017923849178137045],[-0.004192046153245717,0.21973528590244767,1.0,0.2289173366173341,0.0798200861095047,0.06116616706730742,0.0934781444483787,0.08790367174154524,0.9967142039476717,-0.025672537900956995,0.043206587127246864,-0.017883152230797922,0.10198217511092265,0.06712088281846286,0.06423387225993801,0.0006194596531579731,-0.05992128626831925,0.020695398494418295,-0.12185905224172024,-0.0036442694426534854,-0.027403330529268854,-0.049450638539126006,-0.042894470143388215,-0.008809028940466045,-0.03094294515439415,-0.05153091503947064,-0.046025340740727706,0.017731065918442278,0.049917735571363364,0.0902358318287841,0.12331283725900179,0.07766870672188325,-0.030351307867253156,-0.05426616351035284,-0.053324210660671396,-4.8909591772712774e-06,0.024166852367418206,0.14409690675874645,-0.0025089426453011733,-0.023254720651764534,-0.015931169434033707,0.10546007054303973,0.06433311071569973,0.11094595628370177,0.012605564374377787,0.0017315162432554676,-0.038468154502838185,-0.018368380260334754,0.01812375168093965,0.03289522186066792,-0.0094592348648851,0.051819610821330415,0.0491947511818848,0.07171665839357566,0.026498530669497505,0.05905405756060183,0.06615916259160841,-0.004444352001498325,-0.06837796716421794,0.018212191598903194,-0.10627825276527514,0.005778371995346258,0.49331361594436407,0.18981375255743058,0.2728175919154384,0.40231540540281757,0.14185171208667516,0.23571520022290582,0.11359580383306694,-0.07935247363154653,-0.14500425582601748,-0.022612369548295153,-0.030698458683117956,-0.00471023304928999,0.031454156640218306,0.08015893590975325,0.04132961563189849,-0.0200342258145627,0.06698236393048881,0.040484887381287395,0.05278389915116774,0.004592054678989532,0.10568055981122705,-0.06605477313723444,-0.02199642438115154,-0.04515175453484537,-0.042711898521825574,-0.0006915389140979675,-0.029313909728823105,-0.0477320668716051,-0.033304881865691194,0.0264643159960181,-0.534940160418845,0.0663071988572583,0.02566646314093519,-0.03139583779435547,0.05246429574335743,0.017276946137223238,0.00538399749708791,0.04472635177036384,-0.11761598561015837,0.005138383453803023,0.019402914528977758,0.5062763081960572,0.31791769611812287,0.3004146886961677,0.31760330199291115,0.0707346644517472,0.2293213062806054,0.36427727964069695,-0.1171611969716207,-0.2722868821274064,0.023925339056342323,-0.3106065617689681,-0.2313470861959261,0.008712368255845766,0.03024252018538169,-0.005592570574765078,0.07052675896064192,0.0912899812113772,-0.048536274379025565,-0.07213855182323023,-0.044116453300619494,0.005875446800569934,-0.0009920237056800809],[0.017755235540577414,0.8208977245045287,0.2289173366173341,1.0,0.38063244234787064,0.368351731999426,0.3979517211603606,0.3903199573266909,0.21890103564989846,-0.03131274805393639,0.0175173667091756,0.03569230754246453,0.01336569080018022,-0.06254912544743868,-0.02208176673453954,0.03441912882010641,0.033372267020125156,-0.01680257146168967,-0.059630666837177264,0.00524795384058316,-0.04843183676010301,-0.0871595097455229,-0.07346829831786163,-0.07364217223249002,-0.07419103842889091,-0.055836303476467834,-0.07260778669334844,-0.0730960950955303,0.02261737148182495,0.004126540529082159,0.07715348225978216,-0.08388164426319149,0.07895271930335483,0.06677557708396979,-0.07630611855571363,0.0701179445976275,0.07358433146727215,0.030779287050993368,0.02323430590152414,0.03380528374258387,-0.07105502212231518,-0.018756661302049834,0.017779249295827707,0.037573699276930154,-0.0036758682280389255,0.0756525092716703,-0.010795303679785343,0.03540464850010692,-0.013003581202207336,0.0008447275001331046,0.01265044966728635,-0.019012251100963558,-0.03394147578111369,0.000918861343942293,-0.07117311391737322,0.04976581826505079,-0.022033268090424454,0.05476853931471785,0.01898596768034468,-0.0029185418053640274,-0.08400743521702853,0.023090940252648098,0.03448714209572043,0.02654484672873676,0.008697935174139498,0.0025622937457097693,-0.0041206122473003625,0.01980547745881984,0.0006023288186398088,0.04731962660256628,-0.026563911901826446,-0.05625158022624323,0.019585268218943123,0.01053234897293905,-0.008914649888441598,0.0415600223281432,0.004072679240732477,0.05483692597549553,0.009212596638297831,0.015923433160206793,-0.029875394200159878,0.062049394956927933,0.026465035921767886,0.001292557099655617,-0.03013578177957862,-0.06554369735874958,-0.04973108531159817,-0.06271879412473622,-0.051643460736982005,-0.046708391460956775,-0.0531206022056099,-0.03437656798122588,-0.1657087451693217,0.176400988626645,0.03335152502730554,-0.0872970283633728,0.04660914849726545,0.030184206355177056,0.009784236061684921,-0.04645127216387598,-0.011172017408895962,-0.02246683747478721,0.024938992588288633,0.030875414247208684,0.07765875490849254,0.04222966286770791,0.021948002653763326,-0.05768872694004024,0.03580072954514826,0.08148699229874033,-0.0687039223356358,-0.07966189351121367,-0.004138726695295124,-0.07081293319106213,0.03567126047593117,0.036351573810843904,0.012533820225159868,0.057628390725268167,0.0039035308364388883,0.05494028631974754,0.017414141598947164,-0.0695660226643098,0.025494954818212092,0.023721972143546172,0.013474989247163427],[-0.0040473292293913814,0.33101269348313644,0.0798200861095047,0.38063244234787064,1.0,0.7256185532191257,0.15650966270253594,0.16408955170337855,0.07666559465287931,-0.010134832575601934,-0.014927862635542822,0.02659818371271171,-0.003580952629249343,-0.0928311929388452,0.021470492464806284,-0.04601361855747282,0.0751634815006841,-0.058369609750191155,-0.006481647526855963,-0.017177918909103234,-0.0111135150111723,-0.03350201873613072,-0.030417862416352276,-0.0034233104808510436,-0.010865473857618258,-0.02562691730782607,-0.02792045684028011,-0.04753318211990595,0.037015043077198495,0.0014422360025005466,0.010745434549421085,-0.08642225594864111,0.06665188584695578,0.023341593262630477,-0.030210130134317153,0.03710440424911171,0.05518174129766253,0.04813686195799423,-0.03694383291646973,-0.028955418905788215,-0.0026356090218248,-0.0060993627406880245,0.008001249492231159,-0.010808282341167517,-0.06849030594257767,0.0005355471139544816,0.02462690099890338,-0.020462359579361142,-0.019808881133378826,-0.003645485853111995,0.002443673031717936,-0.02355391962813746,-0.008580085552718343,0.019993844574972792,-0.06623900244209166,-0.01504990353942082,0.029496121618294808,-0.034389494148573285,0.06812165379007971,-0.05861316686056298,-0.010809324836560073,-0.027410660211225627,0.0720103277311418,-0.04248979883365221,0.016263132887619304,-0.03338497205731548,-0.03114349418286944,-0.04773138857575574,0.08040415563491399,-0.056114915634356874,-0.07722117865545079,-0.06278733070657247,0.029416294629799854,-0.0218530188118674,-0.0008431747781740158,-0.037171896746302974,-0.056843210486566355,0.027915637382616966,0.047542850974056375,0.0010342355900960715,-0.09000411150290843,-0.0153840259804415,-0.054398201147349744,-0.011484968170559707,-0.01745766700633505,-0.037132971786183806,-0.026029968802099342,-0.0077396596972381625,-0.01601310904991086,-0.02118637248944517,-0.02836424810473543,-0.03764775421160162,-0.06272253747104793,0.030624844874535134,-0.01554305799344846,-0.010582946123295613,0.029569622157067547,0.05476369466216691,-0.048538059192930035,-0.01335004284752547,-0.056443799766689735,0.002718230427541138,-0.0028423847597406123,0.059539762755535394,0.015476544910907185,0.05374697159970589,-0.049849686629557244,-0.05048968754316804,-0.012618811524968087,0.10948298192033247,-0.07920280691586085,-0.046209190543065076,-0.10518803848185856,0.009669929398022907,-0.03971171825534372,-0.0013415766307233023,-0.02821836279996397,0.057750287535613176,-0.050529594743995786,0.07723079193733041,-0.039660197360507486,-0.06369729044905502,0.01498548297465473,-0.05622070979154202,0.04411231194521965],[0.0004103502142672771,0.3067219796006266,0.06116616706730742,0.368351731999426,0.7256185532191257,1.0,0.1546969418075525,0.15282559148615507,0.05772636166695051,-0.012011711501574835,-0.03502735704483132,0.044748308784593176,-0.08078532679283058,-0.06915878517983802,0.028941498978070395,-0.07524644791877166,0.05162202230592657,0.012950069209935506,-0.026111395674544964,-0.018036192539537598,-0.027070048242189348,-0.02604889891741795,-0.048186997189564214,-0.0327154096990931,-0.026520947788842376,-0.04586063061524454,-0.060944377808071944,-0.032497294096761255,0.01808058145811466,-0.03413301271989272,-0.004895951736165763,-0.11148163826811425,0.130577370626606,0.05353414959670475,0.003221169424575845,0.0039447767991066625,0.07792069790372613,0.0802998398787349,-0.07819320018251116,-0.054732823504522285,-0.08949609988603589,-0.07387732335058408,-0.01721665345629666,-0.0474129174121762,-0.06545363724552306,-0.019060488300559567,0.047144319801943564,0.011973848022896166,-0.06713967149138672,-0.045003993141770955,-0.03421851737147611,-0.03622997176949051,-0.04675372651673133,-0.00918053523811568,-0.13387781807078664,-0.051196943511252556,0.039965652041445435,-0.1080368348628362,0.11390522961443737,-0.01577558205406026,-0.03443841792533958,-0.01862892393178061,0.06544714678507402,-0.06928605472146585,0.041592909267731695,0.02196957516960907,-0.032264293497099014,-0.05555817203632409,0.08792986037344278,-0.06651810807890744,-0.08656781532156593,0.005288171033586095,0.005615239201720909,-0.05763040384572174,-0.056831098798344776,-0.12476057827368138,-0.1259891888183196,-0.046547611439183546,-0.004873281170275486,-0.0005887419268523823,-0.11360433931600662,-0.044830598691681926,-0.08420650518401047,-0.05693552316872158,-0.041889768503399295,-0.08190371245256296,-0.0940418014048294,-0.05595528082205782,-0.07964904577135998,-0.0538040011936194,-0.06163661613970239,-0.0456060437793091,-0.04240456874245078,0.062016992486208795,-0.07325100751256716,-0.007105424786318874,0.08185517386738615,0.017207679603900693,-0.12135847540274924,0.07043261216845512,-0.025702714311960497,0.022552122408644196,0.03125788616350355,0.02256310954617131,0.049633466718944905,0.07341094886989774,-0.016466368100198813,-0.06237504297673454,0.05452270723785081,0.057990065999011034,-0.036794450137030685,-0.0573471574726797,-0.056648638023216846,0.03833397327625788,-0.017534795083796014,0.0020490861152989777,-0.1343892743314658,0.026341669066605157,-0.07678131300270223,-0.0017556074565168965,-0.03716798218733813,-0.13831506593421194,-0.0493971370074988,-0.06456216876454794,-0.05869718462958469],[0.009849603002737862,0.33140241055096054,0.0934781444483787,0.3979517211603606,0.15650966270253594,0.1546969418075525,1.0,0.1585076085693656,0.08912996647498106,-0.046686333962643475,0.015888896976046382,0.004304746159705951,-0.0015494231522897284,-0.017121665557039638,-0.0015886786844553382,0.008352425677528278,0.0018455508943977601,-0.003175824753848142,-0.020789943251483034,0.0020122654412629325,-0.02295684665451895,-0.12423668191262437,-0.09112265111095513,-0.05855883812405914,-0.0793415148904472,-0.001224192997184038,-0.06119425189091676,-0.09639514927904783,-0.0011502924841770854,0.0008813220332019192,0.03506319041046092,-0.04293356556622072,0.02714457410344503,0.01737543982736053,-0.023085459594391514,0.024128288508235018,0.024386902511038713,0.006179647884047321,0.008790268804215618,0.005201185563201166,-0.02258200290326099,-0.0073126844745131665,0.0027585797735460924,0.012456136109823213,-0.01284457672026798,0.020637605627029456,-0.00424517608233455,0.01493082206432235,-0.008447774952590336,0.003173051331082442,-0.0025350085305216796,-0.009630911679739354,-0.018522120216470827,0.0073404109147422346,-0.0359647629233627,0.006015389284189518,-0.0002056692003311797,0.008054635412912238,0.01069449110641473,0.008166038296222913,-0.04488297294997423,0.0029390285688006825,0.008602300110740209,0.008468658291151702,-0.00742796240759337,-0.00018486115649460767,0.0019533708886172096,0.008589231980602012,-0.0012842278940796911,0.012382423984240814,-0.02267190907032914,-0.01748120435437163,0.021710622663663443,0.004621331292857171,-0.0012844110381040384,0.0043168274943465364,-0.01274648857385531,0.024282799830424907,0.006092213618629508,0.003969166853476903,-0.012479255269923073,0.023664782263185198,-0.002722794813659141,-0.00795696726112438,-0.015683950210962524,-0.10904530624615723,-0.07099674094566719,-0.04984024393388221,-0.06228102191206333,0.004834262133282207,-0.045580585760928806,-0.07041819344648573,-0.06605222569624142,0.06541610767404304,0.004667696427462938,-0.02955966158185081,0.01575145466512996,0.021672410390105243,-0.010011645531247794,-0.017716911529971468,-0.00743702291215862,-0.014914198664037193,0.012868845630307744,0.014388387427891747,0.018435612343249384,0.011362164303750364,0.01663555773343902,-0.03925626046194391,0.012501868102621055,0.026638737842543832,-0.026156595757322817,-0.03440593682053643,-0.002939448360253712,-0.008177474425738665,0.009599275377004833,0.018473385037404033,-0.014251297515742905,0.020453242033581256,-0.02265108545394992,0.01642153891913676,0.01153680903527072,-0.043010165333581526,0.00073531270038664,-0.00830742591567826,-0.0035135971017679905],[0.010318291337627261,0.3224671986838436,0.08790367174154524,0.3903199573266909,0.16408955170337855,0.15282559148615507,0.1585076085693656,1.0,0.11277081943402621,0.009450691319150925,-0.018501386486935185,-0.010328753300158788,0.02538480872088499,-0.03958809965399205,0.051089758733625264,-0.06474241563029594,0.015007140894852174,-0.009921297097841609,-0.06764784536087735,0.008362352866945462,-0.043246184223930555,-0.03796192696551167,-0.04760322099905524,-0.050418586810315705,-0.05112389806954351,-0.02588378085546919,-0.04418767070877119,-0.004351657652443025,0.002497137415039873,8.447219040693363e-06,0.04182725620386339,-0.03209873290309315,0.02261433983202447,0.01905867479427324,-0.04048081243995218,0.028115767615345684,0.019725740407379493,0.0028952642502959084,0.00187756175286887,0.002480986327780689,-0.028421851319464914,-0.0068985442048386985,0.009894712595588603,0.020741182649720184,-0.0002743650098163011,0.0159072996728047,-0.0074675668665297465,-0.0016453191546142744,-0.010343140943375524,0.0025548624261188977,0.010052950220053971,-0.017752059317832008,-0.017026288937500637,-0.0027544444074446947,-0.037529381911590234,0.027450168353595126,-0.014164104571998183,0.035211662300152734,0.011788313770985777,0.0058187936462605295,-0.02927065556173973,-0.007603342815262827,0.007330571264421648,0.006681237876561122,-0.005573147402628502,-0.0007333842960980958,-0.013532595418766695,0.00340653473690147,-0.003942888779393574,0.01638571491224404,-0.012907186610178548,-0.0148477265682542,0.010996839696624959,0.008612700228259367,-0.006512845936633086,0.013981722538233697,-0.008545495312981776,0.021032625640039302,0.00143152891734115,0.005443009553527084,-0.015565977343042669,0.02485073770254877,0.013201122535649042,0.008483012261215894,0.04466933091290756,-0.011618816958194177,-0.030061121620851058,0.031848391060916144,-0.009791036589580995,-0.002429587619685305,0.009715600225448266,0.0034997707596951576,-0.06353163865411282,0.06644429250324507,0.025535992539937342,-0.032726833434884875,0.012016143448507736,0.013803685629359286,0.009305040169895681,-0.027963088358481533,0.002145546538705956,-0.013336983944627939,0.006547240187558948,0.0013879676113855894,0.01639410887731271,0.0035587303830928144,0.008282058385368656,-0.02974619547054967,0.003183148605762349,0.03312862420394161,-0.03283853277715241,-0.028890623699984175,0.009589510435673113,-0.028578569964241754,0.003964077779383923,0.008956447964885445,9.58555015496459e-05,0.023230324225993953,-0.0017060755162046715,0.018674822938134085,-0.005289648527627598,-0.030502415193122707,0.01336654426465516,0.006360047970124083,0.004762815697256004],[-0.056274888472099216,0.21800866949943187,0.9967142039476717,0.21890103564989846,0.07666559465287931,0.05772636166695051,0.08912996647498106,0.11277081943402621,1.0,-0.02416038740147448,0.040282367806925644,-0.013667779316896816,0.10867754729004803,0.060003277475594315,0.0938711970664874,-0.012649771823153473,-0.06429154548425986,0.02213202450237103,-0.1496144298350286,-0.016943557437130035,-0.019339499096494017,-0.0436893206966856,-0.04509295108463626,-0.004144609720326264,-0.03442927822309463,-0.04801682412664439,-0.04066826358030099,0.02017865975242194,0.050574192449409465,0.08502267924565461,0.12178490250629534,0.07519578227233377,-0.027254610882224254,-0.04087141372503353,-0.04988116930519092,0.003027914874478948,0.01921361686639967,0.14630306673388443,-0.014311557462346157,-0.030770341115793333,-0.01008487791754501,0.11779375639893953,0.07149412731376177,0.12046743327882008,0.01605218769696492,-0.012165945240724873,-0.040095411005387695,-0.01768831091652916,0.026783453169844724,0.047319164273086654,-0.0002658500345785625,0.059338978590838434,0.052336266400244275,0.08953113314647403,0.037607406144627514,0.047259052689934106,0.05851358567150944,-0.000547235992038534,-0.061843606338736395,0.0128443422482717,-0.09423660733027879,0.005116124999249197,0.4997653185544735,0.20163175118510207,0.2948253030275165,0.4086681727388876,0.1767039580241379,0.24736118483228295,0.14276838527161173,-0.10122341763563947,-0.16361117416123389,-0.023950307947241047,-0.05646859849262303,-0.006803570577037645,0.03340863162230127,0.08022413489260975,0.04720664104157714,-0.028808110469323304,0.06813654707000805,0.04389463917059375,0.058007914721736366,-0.0042557882119448965,0.11608795936714428,-0.05714359362359643,-0.02631233637907778,-0.04497923743767679,-0.03982165344214006,-0.0010952450179428895,-0.022138756722599875,-0.04759347579088745,-0.03548808695814849,0.028653704911449158,-0.5163134050620083,0.06366222526717015,0.018324403423307385,-0.025511679533963234,0.05474024792399406,0.01314890679689184,0.007889005026435034,0.05152030775807047,-0.11952841988563184,0.006845909771532583,0.022413461538995382,0.5095958805796276,0.33662846383182465,0.3254482474438843,0.3297611027858205,0.10447050788917715,0.24084890428687525,0.3905612926375869,-0.1442301311047155,-0.29404428822286355,0.03416297326655587,-0.34306290849902016,-0.2223597879384293,0.009011052794106977,0.03717806021444717,-0.01487937743388547,0.07771031667759429,0.09060850434342325,-0.052291800220524855,-0.0525263655476379,-0.05593585699852831,0.009757547004305814,-0.01243476142304983],[0.004293356450922657,-0.0428882637467612,-0.025672537900956995,-0.03131274805393639,-0.010134832575601934,-0.012011711501574835,-0.046686333962643475,0.009450691319150925,-0.02416038740147448,1.0,0.03280651500875931,0.004090322559584981,-0.025560760004547833,-0.007263607111645486,0.02098655166578316,-0.02820353074654136,0.0034212691510833305,0.03536373652207818,-0.0095839869148528,-0.033299897886719,0.26190075022411885,0.16214268374514074,0.17716603010795648,0.27284306489163584,0.14484231736585354,0.2630438426166579,0.309645558763764,0.24965536348362624,-0.09387944762250454,-0.03014211679884884,-0.03330431316521367,-0.018012750165942133,-0.0401004606484414,-0.01924951550527408,-0.0065102567006970445,-0.07151027891572435,-0.07189520573124544,-0.02562324675123785,0.017299526982965472,-0.005470623539809541,0.007446138231678802,0.03997347522302532,0.013899431874068148,0.02512004175001268,0.0351595296856506,0.004696377206780559,0.04393522858918222,0.038096761754539694,-0.021074123745752658,-0.006641848572224529,-0.027373917396320033,0.024729330998520937,0.022085457665697465,-0.006235218698343804,0.04047012927068211,0.027273609485377746,0.01697565636981278,-0.04046363403171899,0.03484567213892878,0.03743363526121133,-0.01631548852237378,-0.048632085804202786,0.029482722316936476,-0.07449857413952134,0.0069385111776540465,0.004210052787947079,-0.019179495178150322,-0.017937849550386156,0.0241080967651642,-0.021081649927483754,0.02366589370081564,-0.006489700925628128,-0.008596718497110212,-0.04076186000702276,0.03929528992394173,-0.004964631125247917,0.04622245887699456,0.000935287617438074,0.006362837285634267,0.007505401788083341,0.00449825822568108,-0.0017739646481371208,0.028767634771560503,0.013547618532621196,0.26958303381639215,0.1713291992840446,0.1746433806948475,0.27329375276878587,0.14438555277029566,0.26590726573573176,0.3031052976567545,0.2595631252312081,0.04064765556603809,0.13590500636390015,0.059950944628902506,0.03568317089752595,0.022118813081983074,-0.0025079287893502622,-0.02996492299237259,0.03083119635490289,0.05219936559601854,-0.02857360165529633,-0.023827491261445403,0.028289465680430486,-0.06167586324584517,-0.03406581115443544,0.037004671865761715,-0.038538656305896195,-0.03525337970301136,-0.0037275814197083317,-0.021762705310572637,0.04778347097877895,0.013000038360306278,0.014246160646701117,-0.04176298044527768,0.0170072811998818,-0.01608888793041759,0.007652435497603613,0.05714604535395142,0.0010694697180743998,0.004703833281629484,0.004434123893659178,-0.010216173262242369,0.033364922526734724,-0.005642877260981619],[0.011520029893555495,0.04346982525874321,0.043206587127246864,0.0175173667091756,-0.014927862635542822,-0.03502735704483132,0.015888896976046382,-0.018501386486935185,0.040282367806925644,0.03280651500875931,1.0,0.024980555143756807,0.09385374069904746,-0.032100382892119216,-0.09131111796457186,0.029937276671804725,0.09163283139171875,-0.01634431605982401,0.03187965661531058,0.03086804897744333,0.02749490779023186,0.014776004145154764,0.047994340361826385,0.017420551469212547,0.03710560649429818,0.06376846390237788,0.03879096294386328,0.023564900828068763,0.012212290688136214,0.08734285086507276,0.06180856099173054,-0.045996664737044356,-0.08207283183171257,-0.05041803089599201,0.01613580289696276,0.010676104666067622,-0.008386079623567933,-0.04169645544623687,-0.05158008071132661,-0.21867317809964448,-0.014082697962838446,0.08090531275075835,0.16309075098214795,0.16227251258971576,-0.0017401418093258559,-0.24687725032183028,-0.059933965476322154,0.17191745832867594,-0.15928435209322528,0.09657205646888645,0.11540973218995043,0.08106494832858845,0.10081344394767121,-0.06494782689332497,0.01443957146638568,-0.012172768704424857,-0.09407968278999254,0.03401633345465924,0.07987746394771646,0.006505002965176955,0.010743547019208629,0.03758448856402433,0.024253989988130414,-0.05477759595876306,-0.022032432347046032,0.025100799409731797,-0.02861453498141243,0.016653833898483274,-0.03312609482736438,-0.044959249296435765,0.01891248662217383,0.03543570215642564,0.016903866815950953,0.05046332723686346,-0.00791669994724046,0.036575032348445675,-0.030204271426998757,0.012301761808087997,-0.02510077172414956,-0.04793722285290123,0.005839186226935158,0.028923299686648914,-0.09112259825303594,-0.00781493854186409,0.01783046185241038,0.02528897721865162,0.05774993902467256,0.013506978617198835,0.024575081289902843,0.04115126298414225,0.03961294788803879,0.013782341232156587,-0.0546809155858506,0.034999564981732345,0.04933419046957154,0.0004969636420973238,0.020227707535849394,-0.07577458474401054,-0.007181216298434534,0.10650984069542613,0.009697864931238302,0.0039397085397120165,0.04245779837087223,0.02356943038719232,-0.06844357470166003,-0.04096262747472823,-0.012863147892024312,0.019595910769233636,0.035335002726642695,-0.010917829195145654,-0.0062592447499073955,0.025672613667219065,-0.01456103940239033,0.017733783874051244,0.0014275725710965795,-0.017564800199050785,0.013692332466185874,0.015045223864460954,-0.026555528856619447,-0.004032588251223552,-0.06426944634583127,-0.06970187350091325,0.010453683742769877,-0.10828932786075027,-0.03414159489489693],[-0.01763566432316575,0.06664471592140209,-0.017883152230797922,0.03569230754246453,0.02659818371271171,0.044748308784593176,0.004304746159705951,-0.010328753300158788,-0.013667779316896816,0.004090322559584981,0.024980555143756807,1.0,0.009324401891805409,-0.2580121505384909,0.032872849407716204,-0.04799282914263467,0.01387413843273567,0.024872130294190702,-0.03557060509105242,-0.01605389800012021,0.041244744281438,0.0011870355635160749,-0.008612706005986785,-0.004573852516856917,0.006903309658388035,0.05130576333870179,0.027703375418299342,0.07639444569523207,-0.012776076351308865,0.0010276210275687433,-0.02182173934716404,-0.25763203683052244,0.08313450249171242,0.07324595562933696,0.025122220778767385,-0.0368642720513095,-0.060903424989053594,-0.018218630973558574,0.02105995803633909,-0.03876700257718341,0.0405480007357518,-0.05039645929995374,0.005144788454029722,0.025672861936425907,0.015081910420357184,-0.07071624059813579,-0.07111396826543086,0.007149560078224558,-0.012043756868725572,-0.004087238148188952,-0.016530467215319547,-0.019516604944110713,-0.03585865370153738,-0.050661489466175845,-0.031136479349274784,-0.03755324834671443,0.016221949563592655,-0.04742586773406939,0.024191642766755016,0.03037515227426101,-0.030778038180806985,-0.005758442264395049,0.018692916496879382,-0.05986135561142486,-0.05678503455917047,-0.016991457515861227,0.003004915092182261,-0.022843137902126692,0.025107074772931604,-0.061863266250701036,-0.024941898599199444,0.04669575269593785,-0.016898989119917298,-0.013933719271666771,0.031179464896244978,-0.02251748000210467,-0.030473876529091982,0.027440308049072493,-0.038367079345226526,-0.04057194940558352,-0.02499787074669824,-0.01771599736852503,-0.030603110575916182,-0.020326914859704743,0.02681018371847411,0.011800026543587552,0.012968479602541954,0.002894619846388328,0.000540820151363436,0.05786446884081563,0.02841944012569493,0.07793054537007636,0.07949836054007978,-0.019955116278040166,0.010462909472073173,0.037519672887436115,0.04286943076722262,0.0035825855116612603,-0.03108102290011942,0.02390619118613519,0.027804174040465014,-0.039300628106038515,0.0003549083756519472,-0.03733560985830624,-0.001418247173790148,-0.015062725891939674,0.0010351262071352481,-0.0018035327530527953,-0.0411271022960408,0.0003294746313634991,-0.017593350999794474,-0.025418689629069176,0.040094774255260396,-0.006333814525413537,0.016558677703891828,0.024120847902201818,-0.010510463758354243,0.03699700840783271,-0.019873049212574486,-0.033449504833031385,-0.021297636750645787,-0.002701307122445301,0.01906865615592451,-0.05101684401446754,-0.05954356502310875],[-0.08813759933818921,0.10336157265024565,0.10198217511092265,0.01336569080018022,-0.003580952629249343,-0.08078532679283058,-0.0015494231522897284,0.02538480872088499,0.10867754729004803,-0.025560760004547833,0.09385374069904746,0.009324401891805409,1.0,-0.06919249155131497,0.02914543346432972,0.028029077449817162,0.03926273287564283,-0.0742334755917474,-0.08613367288029457,0.009658324277340062,0.043515557328306205,-0.0015629038360060537,0.004162482995166673,-0.0034452305018723667,-0.026777770464182435,0.025704558010188713,0.02090727028156339,-0.012454564267595005,0.040056739440727816,0.09776776635205434,0.07299185743857144,0.004291062255330118,0.0042107286586632545,0.0434439266281618,-0.0048798320270425815,-0.0009682328490814957,0.008359757842237804,0.004130249482969746,-0.006800605855920331,-0.012169880498605784,0.026825639110410516,0.02092350496809669,0.06449295122643234,0.06503043417276497,0.030896841498181022,-0.059314631229554396,-0.027290609069465278,0.017094947776063945,-0.0011297343457844092,0.05121575406241696,0.02659751056662947,0.00768979186955101,0.023863674818748525,0.021952820649162808,0.03332734018849657,-0.015006294130350248,-0.07529070275596383,0.03519556914672639,-0.003682550477195612,-0.031939562673765805,0.07836202140740649,0.04515501436553021,-0.033994832847617264,0.010994097974031643,0.028179117152461387,-0.017931570671002355,0.057813615554065556,0.017078521181847592,-0.0032077899594201978,-0.022815558400925307,-0.015512329894230618,-0.0027419710703383395,-0.0031237979006217857,0.048452431389204895,0.01490526070987983,0.02106163113731221,0.0026635977565964766,0.005677386863252397,0.0074123823398473225,0.0010176403720128986,0.011813890224571178,-0.010746187364364486,0.0026394937055241653,0.009526300366524859,-0.0570124947057867,-0.00658860966672505,0.023096948532840587,-0.05604157926931098,0.012744382811352734,0.0001846154744945705,-0.04820064828279945,-0.015763860546696276,-0.12053657567938979,0.012097686601477337,0.02271081851306004,-0.008945524738683115,0.025644386757632982,-0.08229280581322986,0.04982508440559903,0.04365266004721497,-0.0027606669076522257,0.0735124656901967,0.029910115973015895,-0.04017094651436275,0.015193414227089055,0.017194753347086002,0.0034117493165958766,0.08146121481799616,0.03251766500333521,-0.010721352330525246,-0.0016282369537536044,-0.005727386014954215,0.003208643022844522,-0.005384265175833548,0.03926762896733897,0.013427594838293113,0.03504056486275305,0.01034628740137827,0.021524880115579265,0.00640284084645058,-0.009209265994511419,0.029319737733551263,-0.014698540869193638,-0.008882509027905994,-0.016964515322161942],[0.027244180254062056,-0.09191215593173982,0.06712088281846286,-0.06254912544743868,-0.0928311929388452,-0.06915878517983802,-0.017121665557039638,-0.03958809965399205,0.060003277475594315,-0.007263607111645486,-0.032100382892119216,-0.2580121505384909,-0.06919249155131497,1.0,-0.06519109848650802,0.14473478882404675,-0.05079712939317661,-0.06750313701537773,-0.004976409809971945,0.09353466407697159,-0.011672250952195661,-0.04354772814693722,-0.05149287310316681,-0.01744086137305962,-0.06624626632322948,-0.008894875601477621,-0.019857318442647386,-0.04414269105751319,0.00971109981788773,-0.0013267863037870853,-0.008894768749694108,0.03091482583418004,0.0022944752311520353,-0.009538441262427703,-0.007123488566446069,-0.01395085485159611,0.003946747696735504,-0.0018952705508287694,0.0005598666648955647,0.01576117690823189,-0.010034300459733712,0.01453470948995521,-0.0005785963140436523,-0.0014175709096105225,-0.02201952994124527,0.012004711112966337,0.027404698350576472,-0.00157111016192794,-0.010382496397116813,-0.00901408852023094,-0.010926127397116446,0.02211329692993331,0.017900033369649616,0.0020807367374599713,0.009898677432995709,0.023383701178472296,0.01165954684145223,0.0005172347335757824,-0.009850471956520376,0.0026121520286032556,-0.010922333602819453,-0.006222134730168786,0.04213234943914625,0.044925475211223025,0.04099139949414588,0.06504507203608104,0.0002109670230720144,0.04344703384762935,-0.014123635749796951,0.013216466401958452,0.01138612767313704,0.012096115737328333,0.0006256408239209204,-0.0018523987656976066,-0.004392799021805384,0.01600470671861598,0.01761707105307246,-0.015240396250646873,0.01316282607633739,0.0066893489529193965,0.02175963713474018,-0.01761488858037751,0.009334717667852942,-0.007050075234872095,-0.08673202540798823,0.03231328060777451,0.028183864099310625,-0.04883193721996185,0.015510634062042394,-0.03374351740104752,-0.03441150158658342,-0.0063541224967834835,-0.12634313569640837,-0.01015878323811347,-0.014121180810964981,-0.0009932350787671827,-0.036852951386827384,0.010752979579753885,-0.017584092372240248,0.005624918096857309,0.00302338417766154,-0.021340167905249858,-0.0015583631266325533,0.04763023892054331,0.05154752094337171,0.054576666598836365,0.06345694643847025,0.002368861317195215,0.049505486018108925,0.016082980301681194,0.004793675924298152,-0.02180559049740373,0.004661125158094948,-0.004062672651909132,-0.03830208161198458,-0.0004785859872953189,-0.005456684860750815,-0.02381727315560951,0.013653966894483813,0.009797071347550196,0.004474354965454499,-0.012973245748753916,-0.005881914063416343,-0.002934227146369852,0.016275262692791406],[-0.3586607212139989,-0.05971623612999903,0.06423387225993801,-0.02208176673453954,0.021470492464806284,0.028941498978070395,-0.0015886786844553382,0.051089758733625264,0.0938711970664874,0.02098655166578316,-0.09131111796457186,0.032872849407716204,0.02914543346432972,-0.06519109848650802,1.0,-0.4525188117912255,-0.3581640781683015,-0.1887886752926529,-0.47272617292285857,-0.45963736934473104,0.03285647226838823,0.012188485068933249,-0.008159515300079996,0.03611047378677333,-0.01888628857225664,0.02214190801516181,0.035677499889045214,0.029644975655526908,-0.009324746637028853,-0.08075360125044397,-0.031230319349676485,0.01578275323530588,0.01213559764870496,0.0601765420912747,-0.019556258705082787,0.035056184234113205,-0.021651851002297128,0.01578420958315624,-0.12156657939981551,-0.05930814261603594,-0.021395254926792538,0.08194780477480466,0.04846746482789207,0.07062630601743339,0.0004270015917657783,-0.07415533527239616,0.02038628893771969,0.020333818079303234,0.08123759340656224,0.11355760087541587,0.06255693245176494,0.07626581142959604,0.03023462478370856,0.12542789268864543,0.060506521808406606,-0.07325824416081497,-0.06534101237575268,0.026733439178779364,0.06115943615315541,0.01664913284820453,0.03911964091901967,-0.01652136351990363,0.12826117750075783,0.1024186293306757,0.1425084038113853,0.11965653257436198,0.17596786046129612,0.1042269184135482,0.2131096846669828,-0.16785665761074264,-0.1430893102440862,0.04088806422488223,-0.19829758113938972,-0.036851973278552004,-0.0003809713953192999,0.006873669841808186,0.03774082511896889,-0.07123319990779643,-0.020660763357839288,0.027832944777763522,0.04398344046812246,-0.033367797021398596,0.027521605304775605,-0.008198334358066292,0.04908990215857081,-0.02877371686803784,-0.00805518259635534,0.027176562524361295,0.07605841758612386,0.008951542805443174,0.027352218403421603,0.0052075385538571245,0.01776261501424243,0.011290584251989826,-0.06834715529133861,0.04713553148068341,-0.03380600424335927,-0.0361702280401934,0.02875012939862979,0.03326751281132532,0.001522316939855738,-0.024473506828719717,0.04496339226259109,0.11224558590474709,0.17669047315719452,0.18408158335822827,0.13544220416799105,0.11895096416205093,0.10687613397891314,0.21732669067275728,-0.18071713096247186,-0.21085332101227966,0.077064949352331,-0.22605708565223448,0.002110897629606915,-0.02208319785511401,0.03563146565815485,-0.0946818090597837,0.037745386775773285,-0.035396572611616224,-0.0019254783475662048,0.06628042921404588,-0.0421324246806561,0.007020429310277552,-0.06140081681351301],[0.13776745503466076,0.056616900142449224,0.0006194596531579731,0.03441912882010641,-0.04601361855747282,-0.07524644791877166,0.008352425677528278,-0.06474241563029594,-0.012649771823153473,-0.02820353074654136,0.029937276671804725,-0.04799282914263467,0.028029077449817162,0.14473478882404675,-0.4525188117912255,1.0,-0.11337010787852077,-0.15688315388700166,0.028162129402980383,0.055193057796601414,0.018155405262583028,0.01333594151903043,0.04798496628268305,0.01635908316108377,0.03701619700965244,0.017871294502399365,0.030453859179623524,-0.023673513044311763,0.015934935079537117,0.024366982756589012,0.008503780222895736,0.0007251594837670124,-0.016899683871537844,-0.004960414570165248,-0.01268119844401383,-0.0036594705547996517,0.010897320412714073,0.004477649154807259,0.04980049476333219,0.006732899699759462,-0.004699109343189407,-0.036859805720915795,-0.0182620772367701,-0.02960170113281613,0.008703055402871914,0.03848378827408704,-0.02371570959586409,-0.0014088490439814784,-0.041729793079328344,-0.035040846167816234,-0.028324764203642643,-0.020094144654309264,0.0020319315312761306,-0.03656140322978159,-0.011412622322875408,0.03732477524414058,0.021263272831555113,-0.0008365245271164187,-0.011507003245414978,-0.01320340290971517,-0.016211957895329632,-0.008466232218028847,-0.014938740055032403,-0.005770674656393558,-0.007503294276196121,0.008793443053260436,-0.04550209726102784,-0.0034439424750032778,-0.0733309166155634,0.05778816724998056,0.05482510458101485,-0.02513544955831074,0.07666776653303273,0.005860132117294762,-0.008885746736771056,0.00367237681902817,-0.017399783943942874,0.011530856380061077,0.011969139524935913,-0.040205662565955085,-0.02389003293829444,0.015869661454100584,-0.02051892271938634,-0.00564164621564682,-0.09036316798752038,0.03483416178898796,0.0023034957707425137,-0.06538388021963012,-0.06646656570136406,-0.04472161585111141,-0.03816118190348757,-0.007986322871155827,-0.0695546816709493,-0.007822736139665103,0.012275092410421984,-0.048578299288639465,0.01527626902645675,0.01365479912683361,-0.018884749140496183,-0.010485296682221288,0.010321528928400934,-0.006886905024188307,-0.011758608757790978,-0.005532024221568728,-0.03551986932541457,-0.01029888812828208,0.00846519468204208,-0.019946176859575428,-0.0012594882164794518,-0.0823169471501961,0.06971241590857681,0.09817657353327221,-0.038511067756610555,0.08747244943609277,-0.015693192408263102,-0.007763141500201613,-0.022276217080557416,0.019405449377652827,-0.008975872756254484,0.0075841344065435854,-0.0025179976500691818,-0.025902425161945523,0.03721707539488198,0.0012627745669651518,0.028545518440383503],[0.11949237847919154,0.03957139887119846,-0.05992128626831925,0.033372267020125156,0.0751634815006841,0.05162202230592657,0.0018455508943977601,0.015007140894852174,-0.06429154548425986,0.0034212691510833305,0.09163283139171875,0.01387413843273567,0.03926273287564283,-0.05079712939317661,-0.3581640781683015,-0.11337010787852077,1.0,-0.1237586389124585,-0.039238608623734045,-0.07943094017827314,-0.03692567820352583,-0.06521889349412828,-0.05583241604559447,-0.0641099846211075,-0.04779399858436976,-0.059098227983888064,-0.0499559971386894,-0.05399970368719855,0.012286895512253612,0.0006930385471970996,-0.033227156346069375,-0.02744194535619004,-0.0160348979979502,-0.013312593654944298,0.015932800831678258,-0.004720839108546972,0.014704113513524976,-0.02107978184485073,0.0551740424597504,0.023567214123857063,-0.013357496297834481,-0.039123677958783305,-0.037693086207880366,-0.04027147493691614,-0.003186832504478923,0.03500978024157411,-0.008795488043492214,-0.017470896461620866,-0.03143808607923526,-0.04286625591839613,-0.007294852889537625,-0.016156420244451568,-0.02223883531107681,-0.06175169411309806,-0.026360638472881802,0.03907979826927639,0.07330743948471902,-0.002930809783467849,0.010171423423038747,-0.027349819845858183,-0.09252659440100501,-0.031157869391663318,0.06775480736335363,0.01861654304560646,0.03156782496588055,0.06368100980237333,-0.026555979664110756,0.037516889457360515,-0.026128946258050144,0.024056577387538844,0.03952230044264567,-0.013573016810564543,0.03724138120790847,-0.03328125119851492,-0.013652489453478184,-0.003513660527281873,-0.020828128111435945,0.01687344462441333,-0.020912112662170534,0.0009879358040361427,-0.0025228271779397264,0.047459291779991135,-0.014937145654338273,0.01059672302424918,-0.021874570172836977,-0.04982413179701389,-0.0031340417978595403,-0.03274673547425046,-0.04449867816045029,-0.02706086392827283,-0.02220693639370478,-0.03734630793104658,0.03743052592879105,-0.013507037371239795,-0.00010598372674064636,-0.013646729024415973,-0.013462125411422408,0.096544244509551,-0.03209782856306485,-0.04843467620586721,-0.007490516324263928,-0.09617041446201992,-0.04147061376769092,0.08326543951252006,0.00023975946919870688,0.017231713707081427,0.05770718038970164,-0.022212551674427896,0.02733405339681191,0.010248963959605463,0.002794843271261648,0.03437986903280565,-0.03424641914533208,0.023814470789142218,-0.04863909158420031,-0.014072445779149671,-0.03129191544662019,0.0007970492093674861,-0.02947398072454466,-0.005119005481002542,0.021350156262999378,-0.020162593071081293,0.04259069166667342,0.008183698764727307,0.02333092121762581],[-0.05447236819600998,-0.010274407893240519,0.020695398494418295,-0.01680257146168967,-0.058369609750191155,0.012950069209935506,-0.003175824753848142,-0.009921297097841609,0.02213202450237103,0.03536373652207818,-0.01634431605982401,0.024872130294190702,-0.0742334755917474,-0.06750313701537773,-0.1887886752926529,-0.15688315388700166,-0.1237586389124585,1.0,-0.07700473868891346,-0.19311031763193048,-0.0074254470818812075,0.002282827526757669,-0.015401072330778108,-0.025345206030751657,-0.05178918494519601,-0.05471912814722141,-0.01886905087090153,0.007190060735630533,-0.031043281804874243,-0.025904256160228407,0.01600893068943009,0.01613181687819067,0.003329330839652311,-0.009016056500719774,-0.01813496933737815,0.003286224232886317,0.0020685440600617874,0.0124049717682514,0.0003594495665990411,0.0017900077563055517,0.04528290719765403,0.02247352143493884,0.009428951150106146,0.010143858871854872,0.016538495199175877,0.0015837215270079249,0.006756855761941041,0.0003214147182464171,0.009754243942034,0.014169280253787874,0.00849386488984766,0.00801996514126236,0.005434236188150361,0.03051032299958661,0.03521525687188374,-0.020290339589868076,0.005872608681939206,-0.02489805815438979,-0.019808012747015817,-0.012851315755241705,0.025197379800434214,0.031075047686890196,-0.009122817194551373,-0.015880908081102933,-0.0338037574490971,-0.028570213612829277,-0.0006458027786378207,-0.02621057563411171,0.031399308813965826,-0.022775455171413578,-0.029476478863721046,-0.013136576513195108,-0.02054801913034113,0.019692163126008737,-0.004239239947314768,-0.008087765959434709,0.011311731716132443,-0.02561355118876483,0.007101458807571797,-0.01482427650232638,-0.009759995061188001,-0.03690848610279944,0.0081333990210003,0.0069516429618527295,0.05733621270226357,0.009218180086356562,-0.016982009498019788,0.07347026565000778,-0.011268532382304762,0.038776118770960676,0.04531356612119017,0.02904282772387999,0.003638307889863055,0.0015486705888658457,-0.0005690508476889626,0.009878217734801286,0.005179986688618801,-0.02868342371743306,-0.005927013954413735,0.0226908268673556,0.004420774120614806,0.04315896258081514,0.01105295567590088,-0.02055075243414553,-0.01088032665747083,-0.03380158166960057,-0.030511557340717168,0.0005632433395128415,-0.025646011246263062,0.01311585330505111,-0.02127059577629659,-0.027946356587963534,0.026184593858263723,-0.025587557380298276,0.01191058074504105,-0.00857449238158401,-0.0016192417365943727,-0.020345711476996833,0.001147989226486122,0.009780607548671555,-0.04690486442452557,-0.011992253805165418,-0.0386570019928424,-0.006400887072133625,-0.0040095479579602454],[0.3491161667003818,-0.04007730041810735,-0.12185905224172024,-0.059630666837177264,-0.006481647526855963,-0.026111395674544964,-0.020789943251483034,-0.06764784536087735,-0.1496144298350286,-0.0095839869148528,0.03187965661531058,-0.03557060509105242,-0.08613367288029457,-0.004976409809971945,-0.47272617292285857,0.028162129402980383,-0.039238608623734045,-0.07700473868891346,1.0,0.14860511824638775,-0.03136400668417181,0.051060581819212546,0.07571275681884429,0.018658940852234036,0.13550286956661892,0.03247626380594292,-0.02241788308597956,0.026178329921803963,0.011145729439076296,0.07705726947801855,0.03008087663545001,-0.011450254355488786,-0.005213482908447379,-0.06895362582593191,0.05262528041531852,-0.0489253340442597,0.012522277889429324,-0.027401023503870702,0.07505126788465313,0.06467632667027412,0.00484238725373567,-0.07952236986420351,-0.05940030848182285,-0.07067855254066974,-0.0188288112941063,0.0573885780972745,-0.011388358812409636,-0.01701582451885754,-0.06470449002158712,-0.12449873218632486,-0.08021926921049258,-0.0833683915497493,-0.028318666561388102,-0.12733350460805848,-0.07719680519789325,0.048431601104446755,0.044435289413924724,-0.02618779924441296,-0.08464545812219951,0.015253927078099848,-0.01483021198186548,0.029757984935727823,-0.20205263607032775,-0.14130411387397634,-0.19131710310675482,-0.19771678140948848,-0.1867854468861225,-0.13906947635674782,-0.2207684025669735,0.1730989482991116,0.14972274661121635,-0.03687168689464173,0.20008937240033625,0.03944543884323243,0.010581460586138097,-0.013344149716063696,-0.03725718442396915,0.094433043165455,0.019328818804123144,-0.0065585903246130495,-0.05443465723169645,0.013333925031888422,-0.03166855315880465,-0.002449102701782195,0.06222621851691881,0.04687923354602806,-0.006762520650283121,0.0463393116164649,-0.020302391233939333,0.03323932938072833,0.03216131190281522,0.032349009068182784,0.029347991191034466,0.019580933061460002,0.08523419839558496,-0.01015693541372281,0.032852426859208604,0.011164880174333196,-0.00934709008929619,-0.03299978783686615,-0.009778165700691614,0.05602831129194196,-0.030354441071779155,-0.18395582275419978,-0.22926480330475277,-0.24597214221490493,-0.19289275434823436,-0.1422648902582809,-0.14490589266159845,-0.2553984126618098,0.1982610501390792,0.2087273015571544,-0.07888797722773697,0.26144747343429964,0.04474447435710309,0.04828960213029314,-0.006412976758620344,0.11665226549646726,-0.043048073995800656,0.0341005442961998,0.02637465508313075,-0.037774953184261016,0.029420636925305076,-0.014211071975678342,0.028959696580976545],[0.1313274233656512,0.012578129054195501,-0.0036442694426534854,0.00524795384058316,-0.017177918909103234,-0.018036192539537598,0.0020122654412629325,0.008362352866945462,-0.016943557437130035,-0.033299897886719,0.03086804897744333,-0.01605389800012021,0.009658324277340062,0.09353466407697159,-0.45963736934473104,0.055193057796601414,-0.07943094017827314,-0.19311031763193048,0.14860511824638775,1.0,-0.018599469609003258,-0.03609171227539326,-0.05121641501620854,-0.022850146253673872,-0.049664264055592974,0.01111600835912316,-0.013311316653323751,-0.005245331575615726,0.010907541291797001,0.060644939548393804,0.03901112207428006,-0.007001684170368296,0.023833614674725837,-0.016416912293652032,0.006288613329299007,-0.02559760604642582,-0.008283893933149985,0.0064431204040250045,0.04685509452522742,0.015713829349363554,0.01915848107839275,-0.017046062064778596,0.009866818026857389,-0.006678129816639436,-0.012756232513451636,0.01573440780541485,0.009546148777923714,0.004312287684954008,-0.024595546181743033,-0.027982419364929335,-0.014838929809536626,-0.036264824992089356,-0.008031371967040462,-0.03367630515679221,-0.032408554173905,0.026178002396916006,-0.018979997753691975,-0.013130622944919033,-0.013340536888741927,0.013027653851575354,0.03586542245281821,0.011105823586245555,-0.1089330741637934,-0.0776117266671178,-0.1034015673891638,-0.10339168446993702,-0.10233232059261989,-0.0904546345326629,-0.12006368772431966,0.08862450535030401,0.06039485255521422,0.006782977270130467,0.08638564587072575,0.0440162908597329,0.022719194186611075,0.01248713096797674,0.0030210653297384937,0.05079442506356914,0.03595589304118117,0.010899463479475895,-0.003302888236739965,0.026785769210473487,0.0010330832330343754,0.01072532646419059,-0.08739246542195954,0.027378905940143958,0.034765361941477044,-0.06442402628468996,-0.0013861989850489646,-0.014074999738370984,-0.05875102758537242,-0.014604015545979003,0.0002454812979754411,-0.022244028784719892,0.029798329198215106,-0.018253178147212043,0.02526182101140748,-0.026409565628887757,-0.00232635169450199,0.009173557531797829,-0.002591217409280157,0.065397156692732,-0.008898278640641057,-0.1082373125372453,-0.09644360077121052,-0.11732614171686477,-0.13023221891687095,-0.0648064370513768,-0.08333595329503642,-0.12497803847684628,0.11323892752792654,0.10951290526585301,-0.028217602705347882,0.10890667047706716,0.0083590108908683,0.032360345352397235,-0.01049299938672418,0.06587357725564238,0.013273757549666858,0.028110225474250773,0.009091248200503634,-0.04043916680378314,0.009260023071270397,-0.004798195624915303,0.045795931927893614],[-0.13169509188047993,0.0004334774225613207,-0.027403330529268854,-0.04843183676010301,-0.0111135150111723,-0.027070048242189348,-0.02295684665451895,-0.043246184223930555,-0.019339499096494017,0.26190075022411885,0.02749490779023186,0.041244744281438,0.043515557328306205,-0.011672250952195661,0.03285647226838823,0.018155405262583028,-0.03692567820352583,-0.0074254470818812075,-0.03136400668417181,-0.018599469609003258,1.0,0.4004137030232712,0.3998941269563581,0.5869093040990885,0.36187132121036353,0.46777097454869476,0.6641994904947537,0.25203276017941645,-0.09150740821088964,-0.04640957616435639,0.06637769840612702,-0.10649901353443597,-0.015850668920607863,-0.032197081506718565,-0.029470567859817547,-0.10500230012961351,-0.16923269704517221,0.039186141089653535,0.10191264882806818,-0.02558615934108699,0.16304267054696459,0.0796740021654692,0.006648241046322474,0.005510898594410547,0.031712334621661634,-0.09827937043238655,0.0785174041136751,-0.0018493082969448583,-0.06607746029076066,-0.02060708579092331,-0.027791056055482526,-0.009892294373091531,0.044187196613000586,0.05516684274982276,0.07447526418416524,-0.03459308132171641,0.05542317014996891,-0.10824490305216398,-0.002413026769455242,0.06130146965488438,0.058668992237978314,-0.11041833220321967,0.023268834057689283,-0.122854458715175,-0.006376835892080133,-0.03331832403746091,0.04420420557142723,-0.0670167662242472,0.07339410951019328,-0.10766964753991994,-0.022180044148332148,0.016803745503381304,-0.025568053925534285,-0.040853384263231984,0.1837778751385773,-0.010698533139914704,0.1291098801295248,-0.034621119756029856,0.05037092716084059,0.16850250446425186,-0.02166793256680616,-0.04429770882184105,0.11052136684878396,0.03287266884585354,-0.04686699483604568,0.09223580584713126,0.08816518441672182,0.0455299167944273,0.07415891474946396,0.0686211881303928,0.04224665565838705,0.15216875341877087,0.00568192263633603,0.02403631281032759,-0.09084084739372174,0.10242893574543442,0.015088795061194924,0.0707745435941844,-0.1131363473393267,0.023275603360191313,0.04640015867168157,-0.020499743868748806,-0.07513258470523607,0.02279665734515812,-0.10112695640617063,-0.034624363891170656,-0.0024055180806863644,-0.052493469957316304,-0.058578943565219484,0.03790169017416004,-0.051077772942573804,0.023660334477900877,-0.00744727611680084,-0.004722797242244208,-0.0386153981772586,0.15801652614129533,-0.015868880649723624,-0.009104409580768863,0.14563474019692796,0.04014672411625894,0.1757998175841231,-0.02724725499349205,-0.043684695730915275,0.09693165495664705,0.015647675183512913],[-0.03565989133559144,-0.0391437278641315,-0.049450638539126006,-0.0871595097455229,-0.03350201873613072,-0.02604889891741795,-0.12423668191262437,-0.03796192696551167,-0.0436893206966856,0.16214268374514074,0.014776004145154764,0.0011870355635160749,-0.0015629038360060537,-0.04354772814693722,0.012188485068933249,0.01333594151903043,-0.06521889349412828,0.002282827526757669,0.051060581819212546,-0.03609171227539326,0.4004137030232712,1.0,0.6656811851698812,0.49214076761272657,0.4623107699322811,0.3898552879128648,0.5164866919613791,0.3133759841747433,-0.030909565559677422,0.003203692671836275,0.010935311280629172,0.024400502817360344,-0.005370295376305496,-0.022306763479899253,0.010533636386966866,0.005680568997059556,-0.013406128647354965,0.005588228393994913,0.034143137929822286,0.013205446574625933,0.005308202094967615,0.008960504081043047,0.006531124583313014,0.018493846069645957,0.05941453884335515,-0.015126154204511742,0.030818858587144504,-0.03267364540423793,-0.022175761536300794,-0.0008832624636492283,-0.00023538798368065653,0.005741048112312259,0.028359285125705624,-0.010632845281314123,0.012907731227764715,0.014914412890912472,-0.020698991325712148,0.021571309736791607,-0.05242284376115589,0.004908506140445019,0.04127910866002762,0.02951200681935697,-0.07082638106274114,-0.011384175927214552,0.033801994373416924,-0.05168986538450966,0.028193363913904985,-0.004888656269838936,-0.003243558651085155,0.022129761114583216,-0.0029496233711986354,-0.020052595842096864,-0.019018437142849405,0.025696676292662965,-0.020332137053616754,0.00200084282187156,0.01970621893310745,-0.03437796162948465,-0.010612350306530575,-0.020993523376410805,0.020513243480719482,-0.04605718696008148,0.020983339116474792,-0.01474221255522818,0.08535476794598638,0.07558560950916987,0.06637802359135685,0.11751150664644236,0.08638124141183896,0.10799058096577048,0.10950269796158255,0.07322354843090617,0.046912321920048336,-0.008806870972531047,0.03321031657090701,0.014484254151719101,-0.01562522956923246,-0.04381045507872404,0.04147038848273519,0.015530656713836542,0.04046303816722119,0.007866287774035178,-0.006734515298911472,-0.06784824772449408,-0.010196553082736747,0.0026912790162866816,-0.02016648830057347,0.03307183906449718,-0.04154302747215652,-0.027077792753465828,0.020158702211218148,0.015572645405434585,0.03770955631003107,-0.012427117753692679,0.007304708388299008,-0.03665766129897505,0.019041400883872937,-0.018099155832574338,0.028718511977472185,-0.01570094116347601,-0.03422961631774023,0.04271396342640856,-0.04099766812627308,0.007379403803230726,-0.04088573874957201],[0.0562052067344203,-0.019192578545026,-0.042894470143388215,-0.07346829831786163,-0.030417862416352276,-0.048186997189564214,-0.09112265111095513,-0.04760322099905524,-0.04509295108463626,0.17716603010795648,0.047994340361826385,-0.008612706005986785,0.004162482995166673,-0.05149287310316681,-0.008159515300079996,0.04798496628268305,-0.05583241604559447,-0.015401072330778108,0.07571275681884429,-0.05121641501620854,0.3998941269563581,0.6656811851698812,1.0,0.4965439234123122,0.624568971494702,0.40991246335982306,0.5182563006728169,0.25770334037574477,-0.07228211520131583,0.015485094570440998,-0.022271769296772104,0.018131814626105653,-0.016138837447965126,-0.03283864075996311,0.021750739839005166,0.002157291074129992,-0.029553479943911918,-0.042838439115511585,0.04556073387895453,-0.006307237681987143,-0.008050306889107935,0.002718608541726854,-0.012686543653760707,-0.005092565570490637,0.04003959687728675,-0.016636703224572436,-0.0037122034178590025,-0.012820521925316321,-0.05987857434948409,-0.04971668250030635,-0.029736282682611706,-0.021373461825132157,-0.014055490018841108,-0.06251294504527409,-0.003529544888543918,-0.02077552542932978,-0.004709070632144681,-0.00979617516425861,-0.007336102356725839,-0.016087906204134885,-0.0016870117077257187,0.034305041187986704,-0.06554681265739504,-0.03405643597249856,0.01008686240123039,-0.05033179568522545,-0.003048123404912553,-0.009501066857278827,-0.029530073611615644,0.021919456211538558,0.03303222135898265,-0.02737098389005276,0.009323313676689864,0.022545200047248165,-0.022202449851910496,-0.016244461052730957,-0.020918904094094914,0.021101872813313705,-0.024559828912004915,-0.028904668932477246,-0.012419664191845065,0.003830120899438006,-0.028990055239070396,-0.014967561890974694,0.0857360782284974,0.07773205121354762,0.0551026058711343,0.11218529306469033,0.045544738605264166,0.09883624985129456,0.11926512389793151,0.064700182739588,0.024200318198330923,0.02095425504750658,0.04210725171147384,0.0200633765635346,-0.027079916525813628,-0.029737266735134386,0.020380629908132376,0.04722462358036939,0.028510511666694625,-0.01820061990545129,-0.01396641369021417,-0.05642957173643607,-0.051026579761300664,-0.03735857170918436,-0.012034076473006618,0.0005809693902318283,-0.049070110703134204,-0.06746632792702144,0.034370706727221347,0.06958472690811052,0.04385445859081653,0.02413509223501154,-0.00225236335764523,-0.04522526085458885,-0.015117353989635799,0.023159406668624566,-0.018309512242727276,-0.02905185399914434,-0.015791895227871718,0.01076558642846424,0.03804068655637985,-0.031019680049870817,-0.00516304651231724],[-0.058485771846106184,-0.03147984594300738,-0.008809028940466045,-0.07364217223249002,-0.0034233104808510436,-0.0327154096990931,-0.05855883812405914,-0.050418586810315705,-0.004144609720326264,0.27284306489163584,0.017420551469212547,-0.004573852516856917,-0.0034452305018723667,-0.01744086137305962,0.03611047378677333,0.01635908316108377,-0.0641099846211075,-0.025345206030751657,0.018658940852234036,-0.022850146253673872,0.5869093040990885,0.49214076761272657,0.4965439234123122,1.0,0.49630965501955837,0.6112277950949985,0.6901844756513889,0.3795141671058146,-0.08718289741591127,-0.04002191215348978,0.020188820565381186,-0.05725353321964335,-0.004454458229895204,-0.023786719852836657,-0.028871997596516905,-0.0671063803017704,-0.14294243455946926,0.0359524946356934,0.06993449923524947,0.006876386098976595,0.08823114498429344,0.07147873433106221,0.0042327927704791015,0.014711021128259125,0.011892433947569753,-0.04503594692735489,0.08618755595992537,-0.0039225008928293935,-0.03331702391596414,-0.009262082899644588,-0.025215605512660066,-0.02657134514805196,0.029325212195108846,0.040853064571434054,0.051690407858517466,-0.0251316174885063,0.03241937687189474,-0.07934735698785249,-0.011218275698364795,0.061069584781664625,0.04489215039976357,-0.07537194376360981,0.021882565260834118,-0.09897506432343589,0.01007942135306459,-0.02611681911141704,0.031639468948702815,-0.04670102412010455,0.06774254157763164,-0.08367054520835115,-0.021382986491259307,0.00361137633884979,-0.019101378910340968,-0.05104225108859707,0.07993552374342981,-0.04513240717183815,0.15037997697795996,-0.02771073888282821,0.03625543227541836,0.056597454207718674,-0.009870701863719196,-0.03481762428379634,0.14722233221445832,0.04552412096858188,0.04423618641679347,0.12210911814732801,0.10639430000591454,0.1465000740812461,0.09323384193617992,0.1287571256339725,0.1042892703105472,0.15207898336855535,0.029136903600685538,0.029856314227007946,-0.022644168963489517,0.0847296462104854,0.022172064025100788,0.03203327009075414,-0.07128469871135085,0.0454929802706762,0.07257103454071111,-0.015793693921138243,-0.09632383665449858,0.03446791209564054,-0.05121923173202448,-0.027856605518680157,-0.011081106822194754,-0.03929517727318887,-0.0712523563189549,0.03788319947063794,-0.012068641631193464,-0.008480404904333591,0.0029085216691622138,-0.030345384784981097,-0.04790265100936626,0.08600550958020016,-0.030245600155951083,-0.006962645032386808,0.18694422883542236,0.027595351240795433,0.10041172555460637,0.001427151274606645,-0.019924900453135358,0.1536389532981769,0.0371117212792285],[0.09449989947942423,-0.022294976370842785,-0.03094294515439415,-0.07419103842889091,-0.010865473857618258,-0.026520947788842376,-0.0793415148904472,-0.05112389806954351,-0.03442927822309463,0.14484231736585354,0.03710560649429818,0.006903309658388035,-0.026777770464182435,-0.06624626632322948,-0.01888628857225664,0.03701619700965244,-0.04779399858436976,-0.05178918494519601,0.13550286956661892,-0.049664264055592974,0.36187132121036353,0.4623107699322811,0.624568971494702,0.49630965501955837,1.0,0.43871854595793947,0.44593452478172785,0.26911254535762064,-0.06639698998830366,0.015017098002472671,-0.020735529040992757,-0.00470504790854252,0.0014088722050378877,-0.03569550946392555,0.008588108006238677,-0.04281679693545554,-0.05862515577914658,-0.003053675439724577,0.07028989987457654,0.010584560773832416,0.04088226322989074,0.02327112853984172,-0.023012850564486778,-0.02454541338422377,0.016405273882918937,-0.01030296849847993,0.031423676851482035,-0.015497003102067078,-0.0357938073070666,-0.049100870520643554,-0.04184112107250876,-0.04455929783801577,0.00016710854106031337,-0.028948020677187665,0.0018482307456359672,-0.007612734298838688,0.06189492436423315,-0.04613517247369864,-0.04363342980848652,-0.00023197615707194337,-0.02578120624131476,-0.010730544744798898,-0.014677353369233044,-0.06828852783519912,-0.02514954546347835,-0.030463535810217816,-0.061101407370646774,-0.051697715118109805,-0.0049648947337076746,0.0003173872746223525,0.015278920748767221,-0.008517008301197167,0.011333511684510925,-0.017690907782880894,0.028492170388844815,-0.031089968185847326,0.02634963914941159,0.027890961115692538,0.04815846825696162,0.012078402478770406,-0.02625786707679537,-0.01932460809181534,0.017269291617030696,0.04132897826350739,0.06254203451195879,0.08619855371943935,0.041711472321397526,0.09315127254021097,0.0018778541436845146,0.09388497587803464,0.09077697343414297,0.08304745900087515,0.06748715306537598,0.03309810752136494,0.012686956976487357,0.03611901422735202,-0.005488929427130812,0.04054075044569248,-0.025580262426160596,0.01634057938419081,0.020230592531678783,-0.020255645780850564,-0.07987523294708675,0.003306337925343624,-0.09206600093460794,-0.0793418153482785,-0.018131940857489443,-0.054837344108104875,-0.09457469471399675,-0.02438833829900742,0.02825509236798053,0.04801510779612205,0.013746387977927788,0.01933004017105798,-0.04812882044825281,0.02194464010074371,-0.03831165979786323,0.05062445816327738,0.03616295756725475,0.049583181876634026,0.020824393611439118,-0.036897078228691274,0.020861444783083657,0.008287134395999096,0.04744678257540685],[-0.027495672960021957,-0.028479291459766767,-0.05153091503947064,-0.055836303476467834,-0.02562691730782607,-0.04586063061524454,-0.001224192997184038,-0.02588378085546919,-0.04801682412664439,0.2630438426166579,0.06376846390237788,0.05130576333870179,0.025704558010188713,-0.008894875601477621,0.02214190801516181,0.017871294502399365,-0.059098227983888064,-0.05471912814722141,0.03247626380594292,0.01111600835912316,0.46777097454869476,0.3898552879128648,0.40991246335982306,0.6112277950949985,0.43871854595793947,1.0,0.6544188121684759,0.4644503140192414,-0.09168336573831402,0.013407192576897615,0.018745503480327125,-0.05633112470277912,-0.0012935256052125483,-0.01271906775294819,-0.004301770447777361,-0.04667163024166238,-0.10778852510339011,-0.005138372349484273,0.05901369746285397,0.0062995245606359525,0.07584829310869765,0.051278267103660034,0.022263928959175328,0.018958348028903938,0.013541382111367772,-0.05122378671361405,0.02568180587598997,0.021835393114675108,-0.042119966140319216,-0.029253396057803433,-0.021412244529538993,0.006801210655075076,0.02653080598199459,-0.003974706323092019,0.02430668578213475,-0.01751860990651333,0.006005743878116501,-0.049856662676027924,-0.015011900690691162,0.03347209111868404,0.043485845680969325,-0.028527580410138146,-0.03439679893251053,-0.08571572963451349,-0.01903578416226242,-0.04333489712822667,0.021913947923400973,-0.023128153501926076,0.0017383658891585141,-0.02029072718296133,6.49911418625041e-05,0.005704683740858174,0.015140660963167482,-0.01508430393732316,0.08287525580474746,-0.021807746235453073,0.07743350799094385,0.006886954201638198,0.018267564970358842,0.05605536018344874,0.0030016199626080684,0.0013809380349986554,0.08128888320587764,0.05391712589873498,0.0732699240046668,0.1142635262765846,0.10179893349031663,0.13365273139920716,0.09748030898592708,0.2074878241942802,0.1241290274157597,0.1473949433151939,0.04384923285740087,0.028502163479282958,-0.005219800212087055,0.0706671128445139,0.022217270902921197,0.007153241107926698,-0.049051593723526826,0.04433218614895168,0.04029420397397595,-0.010035858452077858,-0.03234868457770859,-0.015124884473662543,-0.06720147111161481,-0.04182412465488802,-0.032854741673241795,-0.010317777947204773,-0.043783716930748194,-0.0001727064493038065,-0.0108869746511304,0.005736629642879936,-0.020288412128798894,0.026333237876708052,-0.0038101794379603966,0.07114772962264326,-0.022703120873734075,0.013099410606852123,0.08062879023327235,0.002079547103462142,0.08146910229912024,-0.0031788697888850493,0.0189685683827939,0.06448271518051207,0.04629088328603591],[-0.07204810538420514,-0.035614720711363436,-0.046025340740727706,-0.07260778669334844,-0.02792045684028011,-0.060944377808071944,-0.06119425189091676,-0.04418767070877119,-0.04066826358030099,0.309645558763764,0.03879096294386328,0.027703375418299342,0.02090727028156339,-0.019857318442647386,0.035677499889045214,0.030453859179623524,-0.0499559971386894,-0.01886905087090153,-0.02241788308597956,-0.013311316653323751,0.6641994904947537,0.5164866919613791,0.5182563006728169,0.6901844756513889,0.44593452478172785,0.6544188121684759,1.0,0.46331972073850797,-0.10407350866518647,-0.035013016168270704,0.024396585808897583,-0.06050486772770523,-0.012752458016923372,-0.019366990853172304,-0.029379521051785738,-0.06650579819782074,-0.1350866270441814,0.009813480144410486,0.08195347050788364,0.00048740050526593074,0.07935096180986574,0.05311277919272,0.004671101392549586,0.00786961811273884,0.03453105113354217,-0.0615978360696193,0.05447734090485141,-0.0013360953301823878,-0.05047525478086714,-0.020888759592260955,-0.014171384536595758,-0.0058887631836641325,0.028810616036386447,0.01033728217025632,0.03796964314978132,-0.03184577362655005,0.02636590963882273,-0.057425234719067166,-0.004757239529160873,0.04188732088333645,0.04232793046023155,-0.06697170804610081,0.0034169148146481233,-0.07687698512267666,0.01722375988506716,-0.032348680168652444,0.04027755079136325,-0.036738103562821464,0.053558914879910303,-0.06323509170547001,-0.011159256628432626,0.002940794573787704,-0.023675599679221098,-0.04093261360683892,0.08053463569790316,-0.016329486997327048,0.09222576703423785,-0.0281955716717964,0.01611860920648164,0.05381370151413776,-0.0022198811407902514,-0.036077891458085286,0.07539799025310541,0.028038777480279498,0.04738951171700888,0.12670108120336943,0.12327907805696543,0.11949036421435867,0.11030314334411255,0.12796763682038717,0.10841690900060208,0.1490672237132703,0.02507475928952535,0.01710518644276204,-0.02078160430487452,0.07914604085609593,0.0013107549140542966,0.0210503744802011,-0.039563862044515105,0.03539721431433311,0.04664294784940435,-0.0243610790132356,-0.06140450699880308,0.0053422832994674185,-0.04908221140677157,-0.012061774257602378,-0.003742637315065838,-0.011181028614109098,-0.04827878809741161,0.02571281327634532,-0.03566327225203668,0.014709653666523433,0.0069650338219639975,-0.006484462568264248,-0.041315838027906705,0.06539381397650575,-0.01833201343152524,-0.018054539530258557,0.11556169804594092,0.007628985462918372,0.07885110767171635,-0.01346485493344742,-0.028446571263955757,0.07657531489634861,0.010531865169439967],[0.004045148103139382,-0.03746378145829919,0.017731065918442278,-0.0730960950955303,-0.04753318211990595,-0.032497294096761255,-0.09639514927904783,-0.004351657652443025,0.02017865975242194,0.24965536348362624,0.023564900828068763,0.07639444569523207,-0.012454564267595005,-0.04414269105751319,0.029644975655526908,-0.023673513044311763,-0.05399970368719855,0.007190060735630533,0.026178329921803963,-0.005245331575615726,0.25203276017941645,0.3133759841747433,0.25770334037574477,0.3795141671058146,0.26911254535762064,0.4644503140192414,0.46331972073850797,1.0,-0.03778959411362701,-0.005758569391424802,0.006485168370096253,-0.011130700879616292,0.00552963820998736,-0.020441924071932897,-0.002250820614986539,-0.03861389745892072,-0.05370117133293586,-0.005996509289828563,0.03456747902853447,-0.0023812787895394795,0.024915693547856294,0.026263675220883905,0.003139193459466201,0.014211292787092145,0.02468047990094915,-0.015174233942189044,0.026390193959938486,0.019119595749419772,-0.025624480824765608,-0.002837927762751514,-0.007001429913582318,0.0016825938844701948,0.025429608318025446,-0.012235000482115094,0.024775198980372583,0.004786843744769863,-0.002095865258771228,-0.023266740797797652,-0.017404241746308384,0.027261471095275186,0.03204832571626617,-0.010922736349451727,-0.028249869021145745,-0.0723682549938728,-0.008537952046316459,-0.020585402268671917,-0.013132009314757017,-0.026595116003896677,-0.01459813176426525,-0.00957206701806843,0.004993682019300614,0.02917497892217664,0.007556932655789563,0.0003908626534333518,0.012426365296486015,-0.01902773644255032,0.039183233727030226,-0.01655108590498283,0.021188812454473172,-0.00030477844510514866,-0.001672413520729035,-0.03555512045660769,0.0330194430128168,0.013821271922435374,0.16041867764032364,0.08125704217408844,0.06185052054442356,0.1617348474889632,0.07733839703263728,0.15352840904945025,0.15997647755977767,0.17057511617628288,0.04099164566526089,0.02193119746542187,0.029573030615443852,0.022899563304448606,0.015231680362318664,-0.02073191737990339,-0.010694024095407966,0.059414003334373446,0.01722028037689375,0.006650054291100997,-0.03186717276461383,-0.02740759059429205,-0.045581599009388594,-0.02948326577132326,-0.013611867304322194,-0.018412444444947672,-0.06050301924149558,-0.02936464696261954,0.011542954917462506,0.05128685955206087,0.021461440810929534,0.01033335486211029,-0.021624158726124196,0.012096620715720489,-0.01741304105703812,0.014822935961821269,0.06002546414828996,0.019054037649488993,-0.010583624915750782,0.002023144200725469,-0.02930129075938927,0.018297461423673785,-0.006015472667692395],[0.008274071268820196,0.020551084278775625,0.049917735571363364,0.02261737148182495,0.037015043077198495,0.01808058145811466,-0.0011502924841770854,0.002497137415039873,0.050574192449409465,-0.09387944762250454,0.012212290688136214,-0.012776076351308865,0.040056739440727816,0.00971109981788773,-0.009324746637028853,0.015934935079537117,0.012286895512253612,-0.031043281804874243,0.011145729439076296,0.010907541291797001,-0.09150740821088964,-0.030909565559677422,-0.07228211520131583,-0.08718289741591127,-0.06639698998830366,-0.09168336573831402,-0.10407350866518647,-0.03778959411362701,1.0,0.061757176220548334,0.03881875627636279,0.0006894165367379551,-0.006769917821030037,0.013038440560955426,0.03830966143111021,0.005292411548955621,0.026278694832539924,0.049940068102803645,-0.010378040915648609,-0.018762476290257527,0.0038996406411506536,-0.02448655106782784,0.002202080844572071,0.011977491957848103,0.026564623998360536,-0.01325761613393346,-0.008831075319479634,0.01886328031465735,-0.011108023125044216,0.0011233100043553758,-0.006536077604012391,-0.013882895370166735,-0.019223509830275664,-0.0222587885319072,0.005667615538580915,0.025382101936982083,0.00322269316775916,0.022713226019996393,-0.0037064959799566408,-0.01940260897546841,-0.009468203522192607,0.005502056576248262,0.026768615612748077,0.014051777964344422,0.02479603096133607,0.028105474137513315,-0.0019262282328059268,0.020335215204492767,0.007338426434740952,0.009173643276763644,-0.011332193943827847,-0.01092652880122043,0.004311215292152019,-0.011866219956182547,-0.0025022068624980464,0.002599648747095382,-0.033721626355040536,-0.022685130495078903,-0.011822820964896863,0.04117644063952328,0.031388254134137226,0.007156443201671785,-0.013534400104709271,0.0011709926343150452,-0.08340582846053374,-0.04302137504749721,-0.07601563725658149,-0.09866604032445321,-0.06455342027078216,-0.08847984611290127,-0.1100348991751745,-0.047966315098394205,-0.003327448644112007,-0.006058848013184338,0.01368142123780575,-0.009640808772265726,0.03482526407653515,0.004511402346010339,0.014177223035145646,-0.01106988327036772,0.010152082733307222,-0.00898800200320218,-0.013489553311127596,0.018346303826120347,0.0262670614020885,0.02724250348485913,0.03569896921166425,0.003050325388996836,0.01580434297969391,0.014523886784130236,-0.02166204945674993,0.0008342351792188728,0.0034853588562042768,-0.013088234554129741,0.0010396298808879303,-0.013332366971783497,-0.003893621118542733,-0.023119124112372644,-0.0049956939249341985,0.001877250800345634,0.007253782275360607,0.038601409195960244,-0.011930435107153038,-0.008544418933802119,0.00625414166791064],[0.06942716657688412,0.09126357533558305,0.0902358318287841,0.004126540529082159,0.0014422360025005466,-0.03413301271989272,0.0008813220332019192,8.447219040693363e-06,0.08502267924565461,-0.03014211679884884,0.08734285086507276,0.0010276210275687433,0.09776776635205434,-0.0013267863037870853,-0.08075360125044397,0.024366982756589012,0.0006930385471970996,-0.025904256160228407,0.07705726947801855,0.060644939548393804,-0.04640957616435639,0.003203692671836275,0.015485094570440998,-0.04002191215348978,0.015017098002472671,0.013407192576897615,-0.035013016168270704,-0.005758569391424802,0.061757176220548334,1.0,0.14337233448192208,-0.06535901376527976,-0.14468006956187504,-0.05662387955624153,0.09948109874118212,0.014053126889075679,0.0936297994943093,0.01398878779466519,-0.08398969708101935,-0.12447887853422719,-0.0392120084961045,0.01619999849870485,0.11485894329303095,0.09531717078708861,0.057246571118265074,-0.17338552168239454,-0.09706982117332091,0.10898874942891866,-0.16959889438614062,0.023573410215986506,-0.008159713563044525,-0.08650382128567453,-0.05346465920059611,-0.15412094977269553,0.035929228571970395,0.03890766423262639,0.03552590123897813,0.03331926473016656,0.04593219450026004,-0.08757910004076568,-0.09038164035129105,-0.0011220956147561375,-0.021143289607906828,0.04779317752066153,0.03305341864392477,-0.023055189987366997,0.05045017675059531,-0.04015063457619336,0.027175808974906374,0.015608125306467177,-0.013236249363849052,-0.041968079472331124,0.004014748274856053,-0.05856618391200229,0.060620345964933736,-0.027027845808757917,-0.06959905378377425,-0.015483240760962625,-0.05943710557540193,0.03186093750941477,0.054914330198600696,0.02933760594636445,-0.09180196643140374,-0.016404578594612616,0.0585401661370464,0.01986914217734655,0.022178283368639598,0.007427185307196699,-0.030981675124221973,0.02535466346908328,0.03860951166002659,-0.019298693998908153,-0.11427180551515628,-0.04306247153439183,0.08347904366611433,-0.02476367442935276,0.04819194823085595,0.0647029737984877,-0.05194779972205448,0.030224226417494383,-0.026641485923167025,-0.04046333627597465,-0.06935703492301468,0.0707166750244996,-0.04215394085761843,-0.025114254575768068,-0.050415495594828934,-0.02370801504617983,-0.04150049206954755,0.06340260963726085,0.04363591826523447,-0.009517513928793584,-0.05904237866475833,-0.014784481147555515,-0.11224924045331,0.018896133913634428,-0.04074910004965221,0.0430987371883367,-0.06510278711273826,-0.06880782817986127,-0.0031497538826587065,-0.051860214440511865,0.048483364332110236,-0.12939133528766605,-0.031462898284143156],[-0.06907061276031184,0.11838250668438607,0.12331283725900179,0.07715348225978216,0.010745434549421085,-0.004895951736165763,0.03506319041046092,0.04182725620386339,0.12178490250629534,-0.03330431316521367,0.06180856099173054,-0.02182173934716404,0.07299185743857144,-0.008894768749694108,-0.031230319349676485,0.008503780222895736,-0.033227156346069375,0.01600893068943009,0.03008087663545001,0.03901112207428006,0.06637769840612702,0.010935311280629172,-0.022271769296772104,0.020188820565381186,-0.020735529040992757,0.018745503480327125,0.024396585808897583,0.006485168370096253,0.03881875627636279,0.14337233448192208,1.0,0.012522125620046287,-0.03247947521655415,-0.07085356172640465,-0.07935668446901324,-0.06458648939444131,-0.026493499687567115,0.3604752273558217,-0.049512788660925074,-0.07850777285856106,0.0581272584257213,0.09218419847749997,0.09318875766905854,0.09103291277794025,0.07751972268127176,-0.05748890750327067,0.010237284621261576,-0.004981706409407601,-0.03102415022203296,0.06079533068270541,0.06891622336649852,0.06786008812316077,0.1056256941237045,0.008671835640993024,0.10580901910825151,0.0025359226751576745,-0.05152234244511598,0.037399957224446195,-0.06704121971986667,-0.024502231085374523,0.10055931766885248,0.06184492267864819,0.0031930179529616213,-0.095475444222988,-0.08581230168405815,-0.07786636145185262,0.00864231792989091,-0.01983293164471432,-0.036958880085260805,0.004028176298167431,0.048548124835878254,-0.05864430566381641,0.03796672667620326,0.05449797009199075,0.04777903814147711,0.015383214069371683,-0.012085289378166797,-0.08322578451608278,0.02288703573699629,0.007361529574961632,0.012432735721180404,-0.07171126446399913,-0.039929855357573436,0.038383679486275545,-0.030646672000607684,-0.03241452996465334,-0.02323164274687084,-0.045292515395283936,-0.007730831907133961,-0.03653526503596654,-0.0684826707030809,-0.0011986579921301752,-0.09519277835668102,-0.047589959797717504,0.0006165315966803861,-3.742189165599647e-05,-0.0576974181852266,-0.086835140754619,0.0466675804483545,0.04191286424665085,0.02093390441590291,0.08498407526337162,0.04931284420166928,-0.031218678542368206,-0.09066248404512117,-0.06435463036247029,-0.1294768539821494,-0.011093490046882879,-0.02314840450792612,-0.006159516320495943,-0.006183129753887252,0.027196958793694527,-0.09484642947574524,0.06141457431400597,0.0393153363411955,0.06668295906694359,0.009612329775651334,-0.06824905283062806,-0.003064811163808225,0.01555306030811173,0.02140358739345859,-0.09295910088050358,-0.18199076332412661,0.0018918436576920061,-0.12766258122150126],[-0.011617393936657366,-0.10501097408167719,0.07766870672188325,-0.08388164426319149,-0.08642225594864111,-0.11148163826811425,-0.04293356556622072,-0.03209873290309315,0.07519578227233377,-0.018012750165942133,-0.045996664737044356,-0.25763203683052244,0.004291062255330118,0.03091482583418004,0.01578275323530588,0.0007251594837670124,-0.02744194535619004,0.01613181687819067,-0.011450254355488786,-0.007001684170368296,-0.10649901353443597,0.024400502817360344,0.018131814626105653,-0.05725353321964335,-0.00470504790854252,-0.05633112470277912,-0.06050486772770523,-0.011130700879616292,0.0006894165367379551,-0.06535901376527976,0.012522125620046287,1.0,-0.11444865840983412,-0.08719069216334978,-0.07200649182766825,0.019677861413327766,0.1103345483270129,-0.0030663661142030373,-0.027930522032622355,0.08581511820424026,-0.0645731317778079,0.10224859175653556,0.0367796470910568,0.02442360075576032,0.056132970216617555,0.15983636618524022,-0.014260403127560963,-0.01976058601924923,0.14117794609450215,0.04522018914282868,0.0180611700356911,0.02696417021684205,-0.0134540483769139,0.12745982401601602,0.0396186436759348,0.0910654052788804,-0.05406342008142018,0.14046526935438694,-0.06620858234908851,-0.06062123219083827,-0.008847929184810237,0.08508244737216725,-0.012913774818857537,0.1476331625511028,0.15303018571902086,0.032982879104164635,-0.061379543343300834,0.06654151595403805,-0.05665799148661366,0.14651641369886892,0.07013919795766596,-0.05007613348636225,-0.08872621611578303,0.08698822250259497,-0.12244947443599966,0.08099605804441987,-0.030746434616763185,-0.0582693492469022,-0.02747072610767779,-0.07833794599230193,0.11329658962358057,-0.08194633634861596,-0.03446347737288428,-0.009523991263595745,-0.01066261335127,-0.0594140220291459,-0.07167825168267468,-0.011591983630466674,-0.08195242856299641,0.004392184988019334,-0.019471299584404016,-0.043105484146929225,-0.11738944865190484,0.006518152372191838,-0.0071872971420864655,-0.030123758383415945,-0.12619694658564265,-0.11466969365699167,0.14791602617859442,-0.010536550792536747,-0.0004065093542891409,0.07693611752153644,0.05695875657413981,0.01420549345671167,0.08469318458032804,0.11403416919322804,0.03223349936969798,0.022968961462906782,0.02366303884995237,-0.013877205500242401,0.04868117029622488,0.03772063626787308,0.024761630973376622,-0.075841152392373,0.018108754561963612,-0.1408361372953835,0.04359048397709921,-0.08884306881905496,-0.01837176793353596,-0.0034689378784113455,-0.1357593911504391,0.09028647349098216,-0.025927170741690805,-0.05296081675655186,0.001121084584022737],[-0.11394828690088735,0.044369394015717385,-0.030351307867253156,0.07895271930335483,0.06665188584695578,0.130577370626606,0.02714457410344503,0.02261433983202447,-0.027254610882224254,-0.0401004606484414,-0.08207283183171257,0.08313450249171242,0.0042107286586632545,0.0022944752311520353,0.01213559764870496,-0.016899683871537844,-0.0160348979979502,0.003329330839652311,-0.005213482908447379,0.023833614674725837,-0.015850668920607863,-0.005370295376305496,-0.016138837447965126,-0.004454458229895204,0.0014088722050378877,-0.0012935256052125483,-0.012752458016923372,0.00552963820998736,-0.006769917821030037,-0.14468006956187504,-0.03247947521655415,-0.11444865840983412,1.0,0.43784444467581696,-0.0809633778289858,-0.04165823131275088,-0.025135333816497466,-0.008943195370128481,-0.004579003279678365,0.10133569552066543,0.09333147054553682,0.05445412782302105,0.06545118640438957,0.025537067312025208,-0.013436456621249584,0.0673964632226543,-0.054433186947397016,-0.0561889961443089,0.28162392921719487,0.1047147315158595,0.05975608815868206,0.019182387873793765,-0.016490825472716634,0.17125817466947313,-0.10253061944390422,-0.05065386825715195,-0.012050585681367037,-0.09128925582012329,0.022344701088279746,-0.016111953249346937,0.11742275066829713,0.004036654606406304,-0.023005752885631635,-0.08274118906918165,-0.06605981290050741,-0.05415787911278273,-0.08575200459368647,-0.06146837712766038,0.03995732497049895,-0.07980429160901459,-0.0003327407076896226,0.012950801680807063,-0.03598875400271896,0.00035777759922453776,0.040049863093150485,0.054794044257227906,0.026804595374907952,0.07682473875460895,0.1241179383618451,0.09092673257354386,0.02010389705024374,0.05363938222223547,0.15491259487465087,0.1448963200016671,-0.05191679454331361,0.03137817380083921,0.006381919925152103,-0.01916920405727807,-0.010919014081814195,-0.043273092365015885,-0.07373156204024056,-0.03098732010833942,0.08041361428146813,-0.11141521204012109,-0.12764621627713257,0.045931323543897194,0.046708299869790186,-0.02273067047026357,-0.01042457305941609,0.07466324732319746,-0.03892418216566565,0.057152984823845454,-0.026481068289398394,-0.06724261650960336,0.0009411393956552198,-0.07119958331049427,-0.057587200410811716,-0.1167179459150356,-0.09346426556798702,0.0019425378430659803,0.03793773993873769,-0.08602057704420916,0.009220644533365267,-0.007488086256803424,0.039073513481341124,0.12034917642660685,0.07818617240041825,0.08111699616473275,0.030850780366832004,0.10014746697369716,0.1112659672123867,0.034593968067748775,0.05905268164079743,0.1237613339217469,0.07276949387589049],[-0.2088523500271008,0.08351486309794448,-0.05426616351035284,0.06677557708396979,0.023341593262630477,0.05353414959670475,0.01737543982736053,0.01905867479427324,-0.04087141372503353,-0.01924951550527408,-0.05041803089599201,0.07324595562933696,0.0434439266281618,-0.009538441262427703,0.0601765420912747,-0.004960414570165248,-0.013312593654944298,-0.009016056500719774,-0.06895362582593191,-0.016416912293652032,-0.032197081506718565,-0.022306763479899253,-0.03283864075996311,-0.023786719852836657,-0.03569550946392555,-0.01271906775294819,-0.019366990853172304,-0.020441924071932897,0.013038440560955426,-0.05662387955624153,-0.07085356172640465,-0.08719069216334978,0.43784444467581696,1.0,-0.028082831632455185,-0.0466043546591969,-0.055849450325059696,0.006649938910068592,-0.04668181615366049,0.06142008097616841,0.052565450519191106,0.007683430629607077,-0.013026302639863303,-0.05089195460496189,0.016198631620611435,-0.030914655541351543,-0.0800446638717468,-0.016969994788632415,0.17134661244609622,0.06900899407691319,-0.04138365201567689,-0.03281772046430775,-0.07572002451571108,0.061310686282904495,0.026006569978403577,-0.07299496788673092,-0.1351384247312225,-0.02038930587389698,0.09743864359561377,-0.06962761760211036,0.1441199154791302,0.11093402088344799,-0.08946435028839357,0.028911809293053342,-0.010040991062123143,-0.038508775780220286,0.11179376899010218,0.09118959888062034,0.09308118217349544,-0.14022464484313737,-0.06216970976058219,-0.01345480593433118,-0.0744185514600199,0.060048159607564086,0.023945746608114157,0.11037121745371306,0.05941717445668949,0.08098008364210614,0.04123271026561443,-0.006677154565239214,0.116078566884096,0.1241982903577213,0.08893211571610543,0.11158752866019424,-0.05993593229310623,0.013307980943419354,0.031278608405327556,-0.04526017624285706,0.006864810419601982,-0.07171739018822557,-0.07777305685601314,-0.0534499890031772,0.061619215532961936,-0.0493762176494,-0.05199609025446165,0.09564740931477396,0.031185434646076336,-0.16493432236928568,0.04652956128769796,0.10896491293357265,-0.03839799451187537,0.12975288636744747,0.1092720380913861,-0.10143997470532537,0.059679078586550575,-0.03797873083503781,-0.020519684325925436,0.14007106207017336,0.0356610199186267,-0.04337790810590779,0.04704766304037714,-0.034813542063744395,0.03630221991123052,-0.04994633178507412,0.1237623587353735,0.053464852513041186,0.13721050987625968,0.07543031694283069,0.08188529997007658,0.010103504584868582,0.03107024659251794,0.18448392105248013,0.12973628623098413,0.11210667962297347,0.06038980717870602],[0.028396881034490846,-0.06581053161633924,-0.053324210660671396,-0.07630611855571363,-0.030210130134317153,0.003221169424575845,-0.023085459594391514,-0.04048081243995218,-0.04988116930519092,-0.0065102567006970445,0.01613580289696276,0.025122220778767385,-0.0048798320270425815,-0.007123488566446069,-0.019556258705082787,-0.01268119844401383,0.015932800831678258,-0.01813496933737815,0.05262528041531852,0.006288613329299007,-0.029470567859817547,0.010533636386966866,0.021750739839005166,-0.028871997596516905,0.008588108006238677,-0.004301770447777361,-0.029379521051785738,-0.002250820614986539,0.03830966143111021,0.09948109874118212,-0.07935668446901324,-0.07200649182766825,-0.0809633778289858,-0.028082831632455185,1.0,0.03996534526519352,0.05429451094040735,0.024347470849297448,-0.02963794174960154,-0.0017132272556471312,-0.0026021031624944395,-0.07784309566915569,-0.07221362811640031,-0.08639453639319236,-0.060454655428989056,-0.15446406763315465,-0.1354967986749571,0.054398690082307515,0.0004580233384015768,-0.07731031013099128,-0.03665389413814186,-0.0882905089593797,-0.07302501950781091,-0.13618765975438393,-0.00181524113299994,-0.11069482168469796,0.050336366860978664,0.0540238076495252,0.025297211110255534,-0.024593173300233355,-0.0943461096222907,-0.0963744944794893,-0.03681036774015287,0.08173458606582107,0.03626616004146123,-0.008145386718679834,-0.0008857763320001259,-0.003103172290845967,0.035922585939484365,-0.025965163100156462,-0.007164709331448985,-0.058292037016797575,-0.03588019186326913,0.023550970711997743,-0.010569104155224569,0.05780668029710821,-0.04452694818986847,0.09756533295316905,-0.02323130848843065,0.05300424000550586,0.059797447676938745,0.13734350451916885,-0.03540551013553975,0.03063610834907487,0.03649754819043272,0.045935469921068735,0.060399715234893944,0.006082382808960145,0.0349502436490579,-0.007149438055162174,0.04007215058477171,-0.04255373178613427,0.059929952419445626,-0.07489228713599969,-0.0017163342976621847,-0.026434484364806485,0.01924775522971701,0.036859138939773335,0.051389916940787116,0.008341963067605748,0.05912902579975433,-0.09702055891593964,-0.11628025216941122,-0.020810583776070292,0.027872925449587926,0.0052681300690433615,0.07513909147867713,0.02027430614447038,0.006315074878785743,-0.034188519537768323,0.06110998697328296,-0.004856772614493347,0.04081212517156686,0.02596726255290392,-0.03544525045025964,-0.059707985948691936,0.019686805069180583,0.07824832076201022,-0.04960961216139342,-0.025259519827714013,0.045165948725672936,0.051155496961613166,0.13776697861542506,-0.10524852249349392,-0.021741224194952974],[-0.09973805578751116,0.0592612509424206,-4.8909591772712774e-06,0.0701179445976275,0.03710440424911171,0.0039447767991066625,0.024128288508235018,0.028115767615345684,0.003027914874478948,-0.07151027891572435,0.010676104666067622,-0.0368642720513095,-0.0009682328490814957,-0.01395085485159611,0.035056184234113205,-0.0036594705547996517,-0.004720839108546972,0.003286224232886317,-0.0489253340442597,-0.02559760604642582,-0.10500230012961351,0.005680568997059556,0.002157291074129992,-0.0671063803017704,-0.04281679693545554,-0.04667163024166238,-0.06650579819782074,-0.03861389745892072,0.005292411548955621,0.014053126889075679,-0.06458648939444131,0.019677861413327766,-0.04165823131275088,-0.0466043546591969,0.03996534526519352,1.0,0.33904571248649273,-0.06755730442559364,-0.12023284565472193,-0.012484480351806642,-0.10409081912975392,-0.12794433432176414,-0.017579726165179096,-0.02469912781983529,0.001559725673937599,-0.06146144249329979,-0.086619769025508,0.016866315621729605,0.046246733765532594,0.018859102505886894,0.06671854083745053,0.005439754927111607,-0.0068816499931652324,-0.08543276140286699,-0.06282836914560425,-0.07368256614700226,-0.18460005590285924,0.1898202444859408,0.0007625133762541342,0.009236830067697365,0.08124938637718652,0.07987107185322448,-0.0921939766160713,0.08249722112719861,0.015520378430967013,0.044854013299710074,0.04893600829686138,0.05051682587135321,0.021404540714157188,-0.0034682999737213668,-0.11967513779777386,0.027825972252421283,-0.04721871551928531,0.08105276894665157,-0.21569404367996842,0.10561047526303441,-0.1610215286452411,-0.156515045193896,-0.17245843581057432,-0.1576399344055752,0.04598683778291165,-0.09924128032270792,-0.11303951737179598,-0.10542649480751079,-0.007377752467285739,-0.03834984286424734,-0.029821088483419862,-0.019715847306605354,-0.024198317046135027,-0.05638091622142232,-0.03683157817942376,-0.13313048837479408,-0.02840214373747816,-0.10184953957960927,0.011197983884353375,-0.07339585218365058,-0.016095705345962653,-0.08710471427479301,0.13229601459697168,-0.014634312912833165,-0.01122736866510506,0.04407469078087289,0.030686633962007236,-0.09812097212332688,0.07413932929914507,0.0962935454606433,0.026283311325578627,0.11598871091555633,0.023260073867590852,0.016386765707789474,-0.07863231107076583,-0.08332331543436597,0.026429755254785286,0.05633050086369872,0.015515964731762168,-0.2234102079238454,0.06725476639004611,-0.1521147766052946,-0.1392608989853161,-0.20701096512023712,-0.16810672542999425,0.050353511801852796,-0.13178924764565464,-0.026745580430736347,-0.048901782101171784],[0.02324079613265742,0.0440496615374181,0.024166852367418206,0.07358433146727215,0.05518174129766253,0.07792069790372613,0.024386902511038713,0.019725740407379493,0.01921361686639967,-0.07189520573124544,-0.008386079623567933,-0.060903424989053594,0.008359757842237804,0.003946747696735504,-0.021651851002297128,0.010897320412714073,0.014704113513524976,0.0020685440600617874,0.012522277889429324,-0.008283893933149985,-0.16923269704517221,-0.013406128647354965,-0.029553479943911918,-0.14294243455946926,-0.05862515577914658,-0.10778852510339011,-0.1350866270441814,-0.05370117133293586,0.026278694832539924,0.0936297994943093,-0.026493499687567115,0.1103345483270129,-0.025135333816497466,-0.055849450325059696,0.05429451094040735,0.33904571248649273,1.0,-0.048776352703504486,-0.1221834730297881,-0.013221042223711748,-0.09102343264476763,-0.1332308499012437,0.056339063388052335,0.04894720360379088,0.04248076772909575,0.035680822156908,-0.04345087316601352,0.05477324619589915,0.05182112623321519,0.0523693159055112,0.08392994763647042,0.012402745372751408,-0.021589610443551604,-0.03326846183871094,-0.02618153320319393,0.0010340323490414054,-0.06566233109085468,0.21542111163818045,-0.01370053439658528,-0.11186780548038877,-0.035395150302297916,0.04898624423265421,-0.033028666985385806,0.07537424630053964,-0.08254650386375019,0.01620308090427302,-0.022519094326205906,0.05219598206547764,-0.0035396820282160963,0.04804865645921095,-0.02787535251693421,-0.03823029164900547,0.020455723800999588,-0.00180568724616453,-0.1901474865796755,0.04930258001685658,-0.26739831458887137,-0.08842819155119357,-0.15957104755506568,-0.17342663737637115,0.059392967250491764,-0.09509601696054787,-0.23280097266753408,-0.18834622466846498,0.03925222892161414,-0.012594539316136463,-0.0015021974589272962,0.026299557391579114,0.001072538673212387,-0.02164194423255946,0.0009793766572066419,-0.09363537188601051,-0.012751983246325148,-0.03465176973948569,0.01628116522664408,-0.09412383623519155,0.07889512145986037,-0.05865610162998868,0.14561198728378635,-0.04125012565880641,-0.06569556603143392,0.0066494725294033285,0.0468287509804786,-0.036989750718448594,0.05788325501222642,0.00619556766315998,-0.031787331569575736,0.02299534945649197,0.0340893631521346,0.015418344463311131,0.028623655022763272,-0.1222591359945253,-0.02120385119232858,0.076474994587215,-0.03481048098659356,-0.17429832819103946,0.041832896760503384,-0.05207288874201088,-0.23665920037741464,-0.1605375924170218,-0.1785057478818285,0.08752397639603461,0.012429165671717675,-0.1971318087909073,-0.08793247203096079],[-0.007684320713661598,0.015837344508638676,0.14409690675874645,0.030779287050993368,0.04813686195799423,0.0802998398787349,0.006179647884047321,0.0028952642502959084,0.14630306673388443,-0.02562324675123785,-0.04169645544623687,-0.018218630973558574,0.004130249482969746,-0.0018952705508287694,0.01578420958315624,0.004477649154807259,-0.02107978184485073,0.0124049717682514,-0.027401023503870702,0.0064431204040250045,0.039186141089653535,0.005588228393994913,-0.042838439115511585,0.0359524946356934,-0.003053675439724577,-0.005138372349484273,0.009813480144410486,-0.005996509289828563,0.049940068102803645,0.01398878779466519,0.3604752273558217,-0.0030663661142030373,-0.008943195370128481,0.006649938910068592,0.024347470849297448,-0.06755730442559364,-0.048776352703504486,1.0,0.06856629644416415,0.06592974276598426,0.07397989966786146,0.015560943869757378,-0.07713700839636123,-0.06482741491799118,0.026867326048560795,0.06516535159494806,0.0719152670581179,-0.08070960757997865,-0.012017620464904932,-0.06081650415539666,-0.005032556510819115,-0.03252169864307305,0.018130058620977364,-0.02070525585935833,0.10922292000509766,0.07287977493472728,0.08125537029207502,-0.09830875431487414,-0.09668396480949999,0.034761991501152854,0.034139407626572076,0.011384285379598203,0.12999917406721964,-0.07168596759926035,0.03589730786413212,-0.05846496039348142,0.03590325098362939,-0.02001090288610298,0.05933229924567446,-0.011824619733646697,0.03647411218154544,-0.07546147168646168,-0.08974798432459707,-0.001049529453690701,0.014777658881866119,-0.020852268860766285,0.049787316302816964,-0.1067266199433117,0.09885631994474905,0.049312816300325094,-0.07616232112760957,0.019882374174446094,0.022139347371361296,0.1027804115601569,-0.07462796504846686,-0.09636732152271983,-0.060779856857926334,-0.06144208406109135,-0.033925286592323696,-0.04770481208534912,-0.09315653406421817,-0.04065100380993757,0.01701179279744471,-0.08569354077841328,-0.0465461606527529,0.03449969331409682,-0.04638734212035274,0.03184975337429396,-0.05300556150345959,-0.039270782225436965,0.003960568760263386,0.017216924326440283,-0.0008192860351750304,0.13196317968991014,-0.0018929040410802915,0.04121154260667552,-0.031622025524003304,-0.0010869021281494338,-0.06815050710522041,0.15102683798639774,-0.01462427919605089,-0.043680540500417975,-0.11795382380959485,-0.1151829907164497,-0.04409169996401443,-0.014135357375115995,-0.040872411855946214,-0.07626440228040628,0.048397086914381805,0.08407367113983655,-0.016920996611776856,-0.13642877795651895,-0.10102086109063388,0.022549025735858468,0.04006022743862969],[0.22875918214776444,0.036333616183076324,-0.0025089426453011733,0.02323430590152414,-0.03694383291646973,-0.07819320018251116,0.008790268804215618,0.00187756175286887,-0.014311557462346157,0.017299526982965472,-0.05158008071132661,0.02105995803633909,-0.006800605855920331,0.0005598666648955647,-0.12156657939981551,0.04980049476333219,0.0551740424597504,0.0003594495665990411,0.07505126788465313,0.04685509452522742,0.10191264882806818,0.034143137929822286,0.04556073387895453,0.06993449923524947,0.07028989987457654,0.05901369746285397,0.08195347050788364,0.03456747902853447,-0.010378040915648609,-0.08398969708101935,-0.049512788660925074,-0.027930522032622355,-0.004579003279678365,-0.04668181615366049,-0.02963794174960154,-0.12023284565472193,-0.1221834730297881,0.06856629644416415,1.0,0.48697679144803196,0.3989779525193437,-0.07059579585991102,-0.1274747370086307,-0.13072377556553194,0.1814104414197155,0.14351680527549185,0.05736619632722562,-0.13861395004769134,-0.10132353813065756,-0.257713143818788,-0.16134609290078314,-0.026243091045960704,-0.003959467270435814,-0.11350681889382706,-0.030253599888450354,0.24681189908671414,0.20824203806942984,-0.054852092336163616,-0.19390955829432288,0.01984150800021362,-0.09831796505491582,-0.07097139411024479,0.057647729462764974,-0.0486766445583205,-0.02828469677825482,-0.06129873093163078,0.035383265973507314,-0.104596459161239,-0.10425378729914495,0.10856297743698162,0.09893655000674692,-0.058744622147196224,0.10439103191749526,-0.005631815738946868,0.1406038894212722,0.047347004729836384,0.16251841944320364,0.11400865124589019,0.14848181827871687,0.14025602425258152,0.10168859844666325,0.12450424154902559,0.22623618040418753,0.14518338670738998,0.02887310609093962,0.04801738843848058,0.04213215931406321,0.056788452015055065,0.02680387127222694,0.057076738288243264,0.057828620681106425,0.10133880721684284,0.004947136577244603,0.12584081022095878,0.06427097131473847,-0.030263546369373374,0.003948827846084248,0.15186606157160543,-0.02572489808396073,-0.1935269860378728,0.05781313190844821,-0.05250244538433035,-0.13688640958094114,0.0408752423440813,-0.016184522299678726,-0.03647885703466692,0.0032192996842184277,-0.021944539598803152,-0.1300415769793788,-0.004790210135068484,0.08239475534905319,0.08358696490985533,-0.08947236832965197,0.09675864537746982,-0.16247727033547027,0.11560875509516674,0.014209885096310371,0.10849919685130902,0.18295608627626317,0.1448294777692746,0.1412482490759833,0.08755369312284232,0.12974950583781983,0.22572207548224835,0.18977031129143032],[0.1453242008405776,0.01338612924089224,-0.023254720651764534,0.03380528374258387,-0.028955418905788215,-0.054732823504522285,0.005201185563201166,0.002480986327780689,-0.030770341115793333,-0.005470623539809541,-0.21867317809964448,-0.03876700257718341,-0.012169880498605784,0.01576117690823189,-0.05930814261603594,0.006732899699759462,0.023567214123857063,0.0017900077563055517,0.06467632667027412,0.015713829349363554,-0.02558615934108699,0.013205446574625933,-0.006307237681987143,0.006876386098976595,0.010584560773832416,0.0062995245606359525,0.00048740050526593074,-0.0023812787895394795,-0.018762476290257527,-0.12447887853422719,-0.07850777285856106,0.08581511820424026,0.10133569552066543,0.06142008097616841,-0.0017132272556471312,-0.012484480351806642,-0.013221042223711748,0.06592974276598426,0.48697679144803196,1.0,0.2340443739711952,-0.05110899987441103,-0.07933210946854938,-0.09640246054722498,-0.005568375303879822,0.26463970954572574,0.09496780127251007,-0.16132921921476673,0.25397106594203783,-0.09552346730375266,-0.017134055343182276,0.05337843948380626,0.06269150131042057,0.038754758916917514,-0.05815472280027054,0.13238150837053925,0.10556679378528364,-0.0063029566225690755,-0.17487441517587618,0.02369799533202553,-0.05209227406928468,-0.015009567286232723,0.03815564375656844,0.017449405863979046,0.007624034741852238,-0.05498451316066277,-0.03460601191942352,-0.09271873903539198,-0.057955437566041476,0.1734505257951443,0.06574395697866403,-0.17109023904817433,0.10322168860271169,-0.024772485090004497,0.07136227127516964,0.07094680626650919,0.17616723239834775,0.07065720599373641,0.08847055814169721,0.10692956684729206,0.1843782393091431,0.045057727493080284,0.2665479709516905,0.11437735856316696,0.021728613931227766,0.05061114358294918,0.038128684453282456,0.054563498553707075,0.027318117003402156,0.048078698681521516,0.036593195383387365,0.009045105076160851,0.014953670686187803,0.10258543995251045,0.0283281668762741,-0.037750480435078955,-0.07624920350029414,0.08039492941485205,0.07376502635630124,-0.17282109108686508,-0.02005780088345726,-0.025902565507811323,-0.06046261636816351,0.05212198530784215,-0.018368728688147016,-0.006393666242286097,-0.020293370050155617,-0.04536796795840777,-0.06439823939790422,0.030029613279926825,0.036336231443185325,0.004703913795951542,-0.11346410132992778,0.04149355364799156,-0.0294738744303919,0.015756665583783674,0.07879249424026372,0.06168593158931649,0.17390565795218602,0.05606337536009759,0.05258756559516208,0.2108877428466108,0.06639723594952768,0.21941206628361232,0.15717040650335773],[-0.07706081594611504,-0.03748372161992057,-0.015931169434033707,-0.07105502212231518,-0.0026356090218248,-0.08949609988603589,-0.02258200290326099,-0.028421851319464914,-0.01008487791754501,0.007446138231678802,-0.014082697962838446,0.0405480007357518,0.026825639110410516,-0.010034300459733712,-0.021395254926792538,-0.004699109343189407,-0.013357496297834481,0.04528290719765403,0.00484238725373567,0.01915848107839275,0.16304267054696459,0.005308202094967615,-0.008050306889107935,0.08823114498429344,0.04088226322989074,0.07584829310869765,0.07935096180986574,0.024915693547856294,0.0038996406411506536,-0.0392120084961045,0.0581272584257213,-0.0645731317778079,0.09333147054553682,0.052565450519191106,-0.0026021031624944395,-0.10409081912975392,-0.09102343264476763,0.07397989966786146,0.3989779525193437,0.2340443739711952,1.0,0.09997020075390171,-0.009799592056931887,-0.01916465459436828,0.07603347253723133,0.013709916154425055,0.02638243785568028,0.005838382655165603,0.015953858887345285,-0.017212532308038434,-0.06287474575569714,-0.050901649776591576,0.0010109229337948301,0.07867502136134819,0.10649438439355823,0.025377508604060833,0.12838077788917313,-0.11190632395139335,-0.10076937542257713,-0.007058581534455392,0.05833235002562587,-0.07514594893247228,-0.061879590788462065,-0.053143342343998416,-0.011140701956251215,-0.04097921769745333,0.0744793650334204,-0.11319616614502184,0.07027355200299112,-0.0694974938046559,-0.04220960506429222,0.013234296095483548,-0.03286242911940019,-0.03110916137652709,0.24036760571408983,0.04364198339537987,0.138147468080087,0.08308439645872112,0.15276859353458005,0.16808804950867676,0.1323692896800623,0.013424713796469225,0.1554058304098083,0.15631437038634974,-0.036367468658536545,0.039915555918116935,0.0652883176555346,0.011519471207642617,0.04796248343525524,0.05516442888853216,0.021223388337649012,0.09512755616418933,0.0264839248644424,0.027386342769297675,-0.04586870716919141,0.05158188402674639,-0.03998104534728287,0.07614858300474883,-0.08261572071106249,-0.0960891190183854,0.04543360380510993,0.05576436915674631,-0.06474722809369313,-0.054888620028819474,-0.05141678248865725,-0.06244291121531103,-0.002428689862034991,-0.048362161369751695,-0.09272451605317168,0.01598678248469274,0.028335519592355748,0.009155880810586877,-0.025466540098767778,0.030643518965358225,-0.07989765259986081,0.18337489778655977,0.0028638151621432325,0.067461307998354,0.09407552419065997,0.13035674620353715,0.1576141139202856,0.07251135198313309,-0.024514598280320803,0.12858603708192756,0.14508942751631715],[-0.20860769011235036,0.007182635890777716,0.10546007054303973,-0.018756661302049834,-0.0060993627406880245,-0.07387732335058408,-0.0073126844745131665,-0.0068985442048386985,0.11779375639893953,0.03997347522302532,0.08090531275075835,-0.05039645929995374,0.02092350496809669,0.01453470948995521,0.08194780477480466,-0.036859805720915795,-0.039123677958783305,0.02247352143493884,-0.07952236986420351,-0.017046062064778596,0.0796740021654692,0.008960504081043047,0.002718608541726854,0.07147873433106221,0.02327112853984172,0.051278267103660034,0.05311277919272,0.026263675220883905,-0.02448655106782784,0.01619999849870485,0.09218419847749997,0.10224859175653556,0.05445412782302105,0.007683430629607077,-0.07784309566915569,-0.12794433432176414,-0.1332308499012437,0.015560943869757378,-0.07059579585991102,-0.05110899987441103,0.09997020075390171,1.0,0.3792029011389649,0.3342547861424962,0.06068299382261781,0.061368517695407764,0.23595914836819026,0.10079776541882163,0.11840292756746251,0.30256048717893524,0.22191932479633478,0.21789993885726194,0.19850340108647505,0.4085258118395588,0.16869963441745722,0.10606337061316294,-0.071705720114968,-0.06846233673553107,0.049374778776258565,-0.03213318954926589,0.1583115950174211,0.017686580236039768,0.05426518511294094,-0.13623732112182307,0.03699390792727974,0.07220490517427564,0.013818301413850412,0.039815908130114055,0.0448515572823629,-0.0732380835783676,-0.0014049509645877717,0.06840657003754891,-0.1141834502996604,0.03678012156796693,0.17114826668428187,0.12230347809844286,0.26501070970810636,0.15906480833707473,0.19116577346107644,0.1655052796828975,0.17623581686380912,0.08195516252340734,0.225140594077052,0.15057459454534133,-0.009646182718042084,0.06365268964190104,0.07032387365452829,0.0511917144080586,0.07445954375414926,0.0840919411168762,0.043608420469919716,0.12844854676841602,-0.0030956789706099172,0.1175159164676325,0.017095765964658432,-0.03484326021899031,-0.016915910286407272,-0.027301907833155475,-0.005865873531051331,0.03462052390440159,-0.034590940815591935,0.07769030137777265,-0.010139324822559368,0.0860926757777106,-0.0159305453723701,0.03677099689126774,-0.000570087886508528,-0.02054888066889661,-0.061365550633107516,0.10684019776692473,-0.0423042914641259,-0.01353209488756634,0.0242172557253263,-0.19600324318696513,-0.02614098022301237,0.11904600032618974,0.08596559970206745,0.07588968185907993,0.15318398608429754,0.21892710336674362,0.07162687849124862,0.058079499825632326,0.08117988319784762,0.02225912986696813,0.11134048586204391],[-0.20621472059520257,0.02903954237949133,0.06433311071569973,0.017779249295827707,0.008001249492231159,-0.01721665345629666,0.0027585797735460924,0.009894712595588603,0.07149412731376177,0.013899431874068148,0.16309075098214795,0.005144788454029722,0.06449295122643234,-0.0005785963140436523,0.04846746482789207,-0.0182620772367701,-0.037693086207880366,0.009428951150106146,-0.05940030848182285,0.009866818026857389,0.006648241046322474,0.006531124583313014,-0.012686543653760707,0.0042327927704791015,-0.023012850564486778,0.022263928959175328,0.004671101392549586,0.003139193459466201,0.002202080844572071,0.11485894329303095,0.09318875766905854,0.0367796470910568,0.06545118640438957,-0.013026302639863303,-0.07221362811640031,-0.017579726165179096,0.056339063388052335,-0.07713700839636123,-0.1274747370086307,-0.07933210946854938,-0.009799592056931887,0.3792029011389649,1.0,0.8577495807304222,0.17198587250800162,-0.07953509101279414,0.10321821673679644,0.3249682947926059,0.029565228769534328,0.5484719048672677,0.3115470286385457,0.3727450047104059,0.2743514378572154,0.22436963400658355,0.24784831923227985,0.02224504904232542,-0.1925752859793168,0.029984309421515563,0.16525624787173623,-0.02523488435119958,0.10972740588313895,0.05969236317586044,0.008322827341962736,-0.08566494425807629,0.006243160765085309,-0.04035119253028509,0.0008330037248828741,0.05296881439202411,0.03784495897566083,-0.07404714980003721,-0.05345057082218366,0.04377931868596425,-0.07193837954538396,0.07955582867137402,0.07559163489014716,0.1212721099469487,0.08014400549165712,0.0587928353728341,0.04290157332596136,0.09972467013484683,0.20229119485384212,0.054684771126529245,0.10324347053204223,0.07698690113657919,0.00832914316243103,0.0671138170297276,0.09132241635685827,0.05830207646437085,0.07787983603603599,0.0774505587226639,0.05049871904276923,0.05395625008183057,-0.049792436439339054,0.0607527473334134,0.037329267182826927,0.012465500337373321,0.025872228056193356,-0.10374608779626258,0.029560310779510615,0.11999890911289389,-0.07057900778658441,0.07293923124884277,0.07428809083742657,0.03985181554602912,-0.062095348743664035,-0.045273983785504686,-0.1304744899735045,0.003914775143368095,0.0019443005798612958,0.10118464404774576,-0.07458540329777848,-0.08255385791824331,-0.011326310949672607,-0.09391731171814863,0.016230388821701646,0.07012901142943598,0.10800901692245657,0.02221923209751582,0.07911307945306978,0.06065643538961747,0.04008518288297625,0.1287684502071544,0.06963486412588783,0.06584943027645371,0.03380671288093104],[-0.21806084954965882,0.03918994743838003,0.11094595628370177,0.037573699276930154,-0.010808282341167517,-0.0474129174121762,0.012456136109823213,0.020741182649720184,0.12046743327882008,0.02512004175001268,0.16227251258971576,0.025672861936425907,0.06503043417276497,-0.0014175709096105225,0.07062630601743339,-0.02960170113281613,-0.04027147493691614,0.010143858871854872,-0.07067855254066974,-0.006678129816639436,0.005510898594410547,0.018493846069645957,-0.005092565570490637,0.014711021128259125,-0.02454541338422377,0.018958348028903938,0.00786961811273884,0.014211292787092145,0.011977491957848103,0.09531717078708861,0.09103291277794025,0.02442360075576032,0.025537067312025208,-0.05089195460496189,-0.08639453639319236,-0.02469912781983529,0.04894720360379088,-0.06482741491799118,-0.13072377556553194,-0.09640246054722498,-0.01916465459436828,0.3342547861424962,0.8577495807304222,1.0,0.18297642070999157,-0.06611715034796996,0.11630622276325592,0.23735099693994713,0.022721482203204132,0.5282258237287943,0.30884961936614114,0.4017291588217668,0.2967957392131416,0.21093210248346672,0.2967040186030291,0.03861504940099536,-0.14510593624737486,-0.003005922665490374,0.10016169714890805,-0.007798575996587467,0.10594823324450081,0.058577577119036564,0.05807402400337298,-0.06230747759764985,0.03467152665712009,-0.0486486590237328,-0.02349524902607044,0.06309940214611143,0.05404372356449166,-0.04753413412027951,-0.050559008649974965,0.009600441265042213,-0.10267747270509503,0.07962380137391323,0.08629794450366202,0.08571249306403987,0.1331834071775861,0.03018515014872635,0.07678661884473764,0.08817263426318862,0.13163267543673338,0.032290257545246795,0.15833621795941605,0.08551810419874378,0.014375606006564004,0.07628129101182332,0.08289886743318119,0.06046994637689087,0.07318726758434214,0.07376440470580686,0.03396268704663213,0.04857114107997433,-0.06243363889713984,0.10740830574284083,0.041758283695975416,-0.014912151912450041,0.016935813609627894,-0.08615523051696954,0.0012610278478262771,0.11239487064904398,-0.031810126960210065,0.048188668935814936,0.06460328511107344,0.0681505710662962,0.0022454486829933964,0.009121756048947285,-0.09231227729625514,-0.011005248160204763,-0.03154976894869437,0.12333193293638267,-0.06712000661376133,-0.09990387937249873,4.7879641181965486e-05,-0.13716564747574614,0.0059860163629249724,0.039583005347749736,0.06685389653605436,0.007418358363297398,0.10991226643891687,0.0985357767409704,0.0203765494531699,0.11636943114363006,0.08215308485032595,0.07196925681404027,0.0562665166488346],[-0.06532431522450713,0.00891425060036579,0.012605564374377787,-0.0036758682280389255,-0.06849030594257767,-0.06545363724552306,-0.01284457672026798,-0.0002743650098163011,0.01605218769696492,0.0351595296856506,-0.0017401418093258559,0.015081910420357184,0.030896841498181022,-0.02201952994124527,0.0004270015917657783,0.008703055402871914,-0.003186832504478923,0.016538495199175877,-0.0188288112941063,-0.012756232513451636,0.031712334621661634,0.05941453884335515,0.04003959687728675,0.011892433947569753,0.016405273882918937,0.013541382111367772,0.03453105113354217,0.02468047990094915,0.026564623998360536,0.057246571118265074,0.07751972268127176,0.056132970216617555,-0.013436456621249584,0.016198631620611435,-0.060454655428989056,0.001559725673937599,0.04248076772909575,0.026867326048560795,0.1814104414197155,-0.005568375303879822,0.07603347253723133,0.06068299382261781,0.17198587250800162,0.18297642070999157,1.0,0.15853876865732194,-0.0006922632546783743,0.03706979997813464,-0.15056498295852289,0.06989064021242988,0.004235916592147733,0.17822900417681192,0.04960120142020913,-0.12705687121568554,0.24317489831795053,0.11923919510019815,-0.036400407764106794,0.09494348316945603,-0.08831791289476083,0.05000320499651919,0.02151892361996269,0.022731635443528003,-0.04295282302247525,0.016973882125191585,0.017114350706898814,-0.030925771847270644,0.031202825880725562,0.02857694086932002,-0.06273722312824698,0.05858907265784755,-0.007807552805922977,0.03975101181555061,-0.002816446983026631,0.06444474159303361,0.04006257854096833,0.0992444234006374,-0.005577472276654891,-0.010979549100801046,0.02652774157270049,-0.016378261003086137,0.03552516574915925,-0.06172898011475245,-0.04054456542395375,0.02064076297170756,0.04504028851502062,-0.023019248352726455,0.016973866073892348,0.0022072405183060397,0.006368101437767792,0.024064521676146738,0.026611536830625122,0.015218836661153949,-0.0017989389881307829,0.05497978034291641,0.107450942745916,-0.07027747840127546,-0.01995618492906043,-0.04037086223910633,0.11068940661100497,-0.011497736273006137,-0.0268849221270976,-0.016793192520489778,0.010558770892299193,-0.01922621367483359,-0.011340096454532876,-0.0025378303447884955,-0.0384937598112885,0.020302012017463237,-0.08215812341923918,-0.05404881778381184,0.01961103659658599,0.06902181226894925,0.06976806686229459,-0.05417136798020378,0.050116940239660804,0.02539559074690427,0.07240601610574532,-0.029050312721983284,0.019643649654469714,-0.031363362750912886,0.02546133498815951,0.0787404280317541,0.041802091351119494,0.08535355983851725,-0.03887240762517154],[0.217356949253759,0.005409134612215683,0.0017315162432554676,0.0756525092716703,0.0005355471139544816,-0.019060488300559567,0.020637605627029456,0.0159072996728047,-0.012165945240724873,0.004696377206780559,-0.24687725032183028,-0.07071624059813579,-0.059314631229554396,0.012004711112966337,-0.07415533527239616,0.03848378827408704,0.03500978024157411,0.0015837215270079249,0.0573885780972745,0.01573440780541485,-0.09827937043238655,-0.015126154204511742,-0.016636703224572436,-0.04503594692735489,-0.01030296849847993,-0.05122378671361405,-0.0615978360696193,-0.015174233942189044,-0.01325761613393346,-0.17338552168239454,-0.05748890750327067,0.15983636618524022,0.0673964632226543,-0.030914655541351543,-0.15446406763315465,-0.06146144249329979,0.035680822156908,0.06516535159494806,0.14351680527549185,0.26463970954572574,0.013709916154425055,0.061368517695407764,-0.07953509101279414,-0.06611715034796996,0.15853876865732194,1.0,0.19410194125986188,-0.07733701970330671,0.20032811356502053,-0.03958011210962092,0.017139753686315633,0.09686084229184441,0.04446243820861644,0.09684831360601227,-0.009718671398299522,0.21490241689914408,0.08069522315149565,-0.031621576018782696,-0.10392362400102277,-0.032094713592418715,-0.005649189707650941,0.03322141136733419,-0.005539561459855246,0.04264393970053983,0.024099959326855203,0.0012395931631314363,-0.11910012060569217,0.042002204484044334,-0.15994841251566694,0.1826795203995659,0.13355303749489028,-0.026310612271488527,0.09220276003569096,0.0016036655504437535,-0.016128413678903008,0.012402960214530752,0.08185281821293781,0.05988161462578536,0.1211852228707835,-0.07176570522007882,-0.012183702097753265,-0.02351909489281917,0.039675843489112614,-0.043678372360968186,0.07360703780198712,0.0009610667986991375,-0.03587991384204606,0.06031316202774142,0.009135466566817884,0.06777743475689102,0.03329914444571488,0.044053583023053185,0.02404022614691687,0.04808536777669305,0.0737952456710109,-0.07035542646802531,0.0016317546124655616,0.02185295048378728,0.013605033697156087,-0.11779559366184669,0.012306793474121789,0.051067391661231636,-0.013433528764625271,0.004233432412770555,0.021840318670124075,0.013285333692246925,0.07374746821837531,-0.04733360933086984,-0.058273159290461236,-0.09227253783268731,0.10311648304091794,0.05383880121350983,-0.03027864225338465,0.08156321501368692,0.025676630780875443,0.015692392898607122,0.0485885536648767,0.053316098418056776,0.043525244145495384,0.10935978324905757,-0.01830391910798737,0.07154293679916615,0.00890805165583039,0.09353412930303923,0.1094212189136866],[-0.0543335509130486,-0.05478851748761608,-0.038468154502838185,-0.010795303679785343,0.02462690099890338,0.047144319801943564,-0.00424517608233455,-0.0074675668665297465,-0.040095411005387695,0.04393522858918222,-0.059933965476322154,-0.07111396826543086,-0.027290609069465278,0.027404698350576472,0.02038628893771969,-0.02371570959586409,-0.008795488043492214,0.006756855761941041,-0.011388358812409636,0.009546148777923714,0.0785174041136751,0.030818858587144504,-0.0037122034178590025,0.08618755595992537,0.031423676851482035,0.02568180587598997,0.05447734090485141,0.026390193959938486,-0.008831075319479634,-0.09706982117332091,0.010237284621261576,-0.014260403127560963,-0.054433186947397016,-0.0800446638717468,-0.1354967986749571,-0.086619769025508,-0.04345087316601352,0.0719152670581179,0.05736619632722562,0.09496780127251007,0.02638243785568028,0.23595914836819026,0.10321821673679644,0.11630622276325592,-0.0006922632546783743,0.19410194125986188,1.0,-0.09128407664256276,0.019568697785909972,0.10281929706930144,0.10710750214912422,0.11319845194712287,0.12727661694537293,0.19534079353044062,0.06340042812526601,0.09974757295087595,0.016756035989071046,-0.05475323302975198,-0.06124436523492683,0.05306709288892571,0.10589144136464052,-0.06093533343934427,-0.03042938443725252,-0.0980900166963071,-0.0257934434082067,-0.006292060453461816,-0.0026921859574179294,-0.06518639820444186,0.002006827064455564,0.049491663013877314,0.004016630804608559,0.0413048309804022,-0.02433178850321609,-0.06058928886573781,0.12917501986697386,-0.030539333800808626,0.20043486867301555,-0.0054109707461283685,0.13692946672187153,0.0716871509087992,-0.10000245062948178,-0.07170895360985179,0.07278512152761973,0.02716339840655971,-0.014421753309795877,-0.021712249496700337,0.024494175712177307,0.04895778195042614,0.04036538746392514,0.04776512795212658,0.0070329678088640905,0.10210288641404676,0.0618168886242662,0.11866659097769244,-0.020244909977060296,0.02301664136758141,0.04593106474001223,0.07098884354752817,-0.12736087914028033,-0.08935479126711177,0.07077200388843999,0.10040191198515466,-0.06652337716922774,-0.006229507999262937,-0.02888538799639144,-0.01545476241705964,-0.10643918374929905,0.009024575442187828,-0.06266122734984911,0.016182626695294747,0.017601638009119007,0.02362477197690133,0.003334428208631887,-0.039462012308357095,-0.04407572478643227,0.13895389267685598,-0.02304306144020115,-0.07659241821825688,0.14956805302587226,0.12363009718151988,0.08382920110618775,-0.10892375403435885,-0.13276110890860496,0.07494410597242032,0.06577034625912376],[-0.10586260216363395,0.00653804295098314,-0.018368380260334754,0.03540464850010692,-0.020462359579361142,0.011973848022896166,0.01493082206432235,-0.0016453191546142744,-0.01768831091652916,0.038096761754539694,0.17191745832867594,0.007149560078224558,0.017094947776063945,-0.00157111016192794,0.020333818079303234,-0.0014088490439814784,-0.017470896461620866,0.0003214147182464171,-0.01701582451885754,0.004312287684954008,-0.0018493082969448583,-0.03267364540423793,-0.012820521925316321,-0.0039225008928293935,-0.015497003102067078,0.021835393114675108,-0.0013360953301823878,0.019119595749419772,0.01886328031465735,0.10898874942891866,-0.004981706409407601,-0.01976058601924923,-0.0561889961443089,-0.016969994788632415,0.054398690082307515,0.016866315621729605,0.05477324619589915,-0.08070960757997865,-0.13861395004769134,-0.16132921921476673,0.005838382655165603,0.10079776541882163,0.3249682947926059,0.23735099693994713,0.03706979997813464,-0.07733701970330671,-0.09128407664256276,1.0,-0.007119745336779754,0.21398726159271902,0.10553999532202757,0.09667351587147903,0.08234271290147957,-0.021735172456972655,0.06373418064852421,-0.02694141831001214,-0.135639165103677,0.04057907338009692,0.17521763243522956,-0.04998954502265401,0.04172203820381584,0.036495904172913596,0.024973837777678726,-0.13378145713809572,-0.042422708108260994,0.014789166841247857,0.007930904907902053,-0.016408036865180706,0.007460553565526631,-0.09846437369695624,-0.006866655253978887,0.04810929198726175,-0.04246240893383131,0.07179847325174772,0.029683441433039245,0.15955688638721824,0.0014136421690465314,0.13706046968594504,0.05376789004536943,-0.006048670697906775,0.17195275398438412,0.09657098569697334,-0.0791926283158121,0.05621492535605002,0.04915587797942567,0.11592268498673404,0.15578198235082996,0.06615584504792019,0.12578524458662993,0.040935095486151894,0.05708395755296741,0.014840997334261087,-0.048751698965347055,0.048227963694338113,0.02203616090289034,0.02571235320629831,0.08247189368952977,-0.14905387236617734,0.030160477655512177,0.23942359387574697,-0.07237064345543799,0.0695421568738033,0.07195690908748086,0.006338812617372782,-0.11998551257072552,-0.15421134685156793,-0.0215114973698027,0.03795689711332399,0.08793073870741197,-0.018471979046750218,-0.07079860525192323,0.02182603302718628,-0.008227892515629316,0.019399084604320355,0.07947905657429134,0.03045988443418926,0.11999009012791644,0.15172696877513872,-0.011344898726621403,0.08394238240003128,-0.03654105903548296,0.07109133878838596,0.06827977510215591,-0.09879280685832088,0.013699298816574031],[-0.16689990705249383,-0.007639685819246711,0.01812375168093965,-0.013003581202207336,-0.019808881133378826,-0.06713967149138672,-0.008447774952590336,-0.010343140943375524,0.026783453169844724,-0.021074123745752658,-0.15928435209322528,-0.012043756868725572,-0.0011297343457844092,-0.010382496397116813,0.08123759340656224,-0.041729793079328344,-0.03143808607923526,0.009754243942034,-0.06470449002158712,-0.024595546181743033,-0.06607746029076066,-0.022175761536300794,-0.05987857434948409,-0.03331702391596414,-0.0357938073070666,-0.042119966140319216,-0.05047525478086714,-0.025624480824765608,-0.011108023125044216,-0.16959889438614062,-0.03102415022203296,0.14117794609450215,0.28162392921719487,0.17134661244609622,0.0004580233384015768,0.046246733765532594,0.05182112623321519,-0.012017620464904932,-0.10132353813065756,0.25397106594203783,0.015953858887345285,0.11840292756746251,0.029565228769534328,0.022721482203204132,-0.15056498295852289,0.20032811356502053,0.019568697785909972,-0.007119745336779754,1.0,0.22535436303694345,0.3431689912122686,0.08145437651004046,0.0916740166062895,0.451584021976684,0.027819536621737733,-0.0029346429766361048,-0.10825609792530444,0.07405858429789908,-0.06561261432057776,0.00502865351235287,0.10510527003684794,0.07146429740453102,-0.020189577028776926,0.002135239942995692,-0.009628893808203422,0.066424316190764,-0.02829174369364421,0.0327460953703489,0.0008034690669406769,0.04640106686516444,-0.03540023835663188,-0.005060527165535668,-0.037056660900034934,0.0519136376791883,0.0008924451122334445,0.11044331471663142,0.08077379480022893,-0.00845919113424645,0.08638171696136535,0.008456696728407515,0.1504980954333337,-0.014110893529434712,0.19118846917040477,0.08145062720758749,0.013902226282895837,0.1007625786227815,0.09693970121959908,0.06625609802087201,0.1062543403604114,0.04454972484053854,0.017819267999269296,-0.023593711146092496,0.040931865671949653,-0.027713237528996477,0.026888855995517005,0.04548408248935691,0.06666990846653321,-0.07426860333784456,0.14600322308149571,-0.10253473080957044,-0.023740919291744742,0.1005874078773186,0.052161845732177935,-0.04762012461202831,0.11891284491633766,0.06916933728551664,0.013030319866383706,0.002298689629737842,-0.011450690863684247,0.020057464553453586,0.007031440648625868,-0.07384306125010331,0.06958040102554396,-0.08588528026840687,0.050978580383722306,0.027607551550910575,0.1347505854314233,0.003423440306113418,0.13190938384315046,0.06886502019529399,0.014495658463023612,0.2422043353130335,0.07862141228778234,0.14400066994126132,0.10869891521282161],[-0.3051930600744333,0.026643982495858896,0.03289522186066792,0.0008447275001331046,-0.003645485853111995,-0.045003993141770955,0.003173051331082442,0.0025548624261188977,0.047319164273086654,-0.006641848572224529,0.09657205646888645,-0.004087238148188952,0.05121575406241696,-0.00901408852023094,0.11355760087541587,-0.035040846167816234,-0.04286625591839613,0.014169280253787874,-0.12449873218632486,-0.027982419364929335,-0.02060708579092331,-0.0008832624636492283,-0.04971668250030635,-0.009262082899644588,-0.049100870520643554,-0.029253396057803433,-0.020888759592260955,-0.002837927762751514,0.0011233100043553758,0.023573410215986506,0.06079533068270541,0.04522018914282868,0.1047147315158595,0.06900899407691319,-0.07731031013099128,0.018859102505886894,0.0523693159055112,-0.06081650415539666,-0.257713143818788,-0.09552346730375266,-0.017212532308038434,0.30256048717893524,0.5484719048672677,0.5282258237287943,0.06989064021242988,-0.03958011210962092,0.10281929706930144,0.21398726159271902,0.22535436303694345,1.0,0.5110013354683588,0.41449575776702335,0.26107110134222333,0.29242818077644134,0.2514617256771238,-0.007779974572162997,-0.2505662681150463,0.09949304943332454,0.11805978224485654,-0.046400861219043986,0.19451130856876697,0.07908992227530415,-0.04021548454871182,0.048227425300494044,0.07153533714006215,0.041727015509594526,0.010721463308917021,0.07288359254907646,0.051881286531566165,-0.08976625096569357,-0.050610151433854805,0.08657435115942788,-0.1777842575256584,0.13027452928842104,-0.0022876320776536556,0.17907318810796943,0.0636367798476271,-0.03485682264097972,0.09980101481303306,-0.04061392168878356,0.23810922408401639,0.016101842973206194,0.039694773322844865,0.09570054276465753,0.01083274272189988,0.08313950005318353,0.1208468949446123,0.048292901247211806,0.10041260529060939,0.06768544681511376,0.0462730624873115,0.032257690315912524,-0.020027294521169248,0.05440941919518874,0.04104415671678379,-0.02088953107187154,-0.02112707677989489,-0.21189159977698038,0.10964648021311992,0.12711624892572643,0.02285039420306498,0.13465400299728558,0.08968989424033902,-0.04186524697306066,0.0188180605316197,0.03492251319797146,0.006906485963651879,0.06722356868382719,0.11733013697833096,0.017855876468308808,-0.03013033416251784,-0.08944216925253097,0.05405605583856825,-0.09313120068412836,0.10787265944253596,0.018476298786129094,0.15936515587626826,-0.06647342205072837,0.08453190703800902,0.09314528407943695,-0.0634466105773026,0.23748294826316846,0.05061561760357916,0.03067065552378726,0.05935471241890988],[-0.16005896945809026,0.031230844992306443,-0.0094592348648851,0.01265044966728635,0.002443673031717936,-0.03421851737147611,-0.0025350085305216796,0.010052950220053971,-0.0002658500345785625,-0.027373917396320033,0.11540973218995043,-0.016530467215319547,0.02659751056662947,-0.010926127397116446,0.06255693245176494,-0.028324764203642643,-0.007294852889537625,0.00849386488984766,-0.08021926921049258,-0.014838929809536626,-0.027791056055482526,-0.00023538798368065653,-0.029736282682611706,-0.025215605512660066,-0.04184112107250876,-0.021412244529538993,-0.014171384536595758,-0.007001429913582318,-0.006536077604012391,-0.008159713563044525,0.06891622336649852,0.0180611700356911,0.05975608815868206,-0.04138365201567689,-0.03665389413814186,0.06671854083745053,0.08392994763647042,-0.005032556510819115,-0.16134609290078314,-0.017134055343182276,-0.06287474575569714,0.22191932479633478,0.3115470286385457,0.30884961936614114,0.004235916592147733,0.017139753686315633,0.10710750214912422,0.10553999532202757,0.3431689912122686,0.5110013354683588,1.0,0.3924979984004713,0.3433406252688623,0.2537398785092921,0.1247381676421983,0.014075721038581488,-0.22891257146710678,0.11602237210607445,0.11327404722912268,0.011204533429601494,0.09524388852877405,0.04987549457500073,-0.03011848166855541,0.06017121957907479,0.0553202765114158,0.0643654784294204,-0.05109757619849149,0.032686028428338294,-0.03082865846810923,0.0032408551695147655,0.004159395090579612,0.045617164356293684,-0.04093431712978272,0.08660465254767367,-0.030413131842841095,0.11739268896041455,0.04602622908634266,0.012557690441015953,0.06823117638605725,-0.04931730382303097,0.16061262703243737,0.0076761416089422595,-0.02805283139397367,0.023274507272590658,-0.02022626162091645,0.04632912391969398,0.059386486949213224,0.03499548201377853,0.08903045028801959,0.03803830255039926,0.015338114339263605,-0.006757150679064832,0.014457397236336527,0.007924005384194934,-0.018164055303679785,-0.0038500716198624513,0.026571276028493886,-0.1389917948102307,0.1353267497410852,0.020391107132947395,0.04472489155970425,0.03928220139334268,0.07437451741016168,-0.03955566811288914,0.06917292218622144,0.04988100640993985,0.04492099871296531,0.003851308542205248,0.007989770140814575,0.017987339378513094,0.00010444178960253319,-0.06944177301625773,0.06540443357350678,-0.06096958027400719,0.04094115836458328,-0.0020694934018452653,0.17855686889347872,0.011306310845019645,0.08442816391551376,0.07940295973548288,-0.06646282972859445,0.1398689846678607,0.1375688193457918,-0.05704079932245415,0.040455586153263785],[-0.13201461425883682,-0.016694962786742172,0.051819610821330415,-0.019012251100963558,-0.02355391962813746,-0.03622997176949051,-0.009630911679739354,-0.017752059317832008,0.059338978590838434,0.024729330998520937,0.08106494832858845,-0.019516604944110713,0.00768979186955101,0.02211329692993331,0.07626581142959604,-0.020094144654309264,-0.016156420244451568,0.00801996514126236,-0.0833683915497493,-0.036264824992089356,-0.009892294373091531,0.005741048112312259,-0.021373461825132157,-0.02657134514805196,-0.04455929783801577,0.006801210655075076,-0.0058887631836641325,0.0016825938844701948,-0.013882895370166735,-0.08650382128567453,0.06786008812316077,0.02696417021684205,0.019182387873793765,-0.03281772046430775,-0.0882905089593797,0.005439754927111607,0.012402745372751408,-0.03252169864307305,-0.026243091045960704,0.05337843948380626,-0.050901649776591576,0.21789993885726194,0.3727450047104059,0.4017291588217668,0.17822900417681192,0.09686084229184441,0.11319845194712287,0.09667351587147903,0.08145437651004046,0.41449575776702335,0.3924979984004713,1.0,0.6545622314046026,0.19689710960965534,0.25439328934089867,0.11039911298119567,-0.1209120470292612,0.07828197111492084,0.00504416994993947,-0.041390667937632526,0.033665444674132045,0.13080291616584402,0.10270488250834021,-0.010844748764339064,-0.0221243114686561,0.060095651369191656,-0.07668241529839062,0.0954240843922828,0.02273816403118726,-0.04099435042497158,0.008072870298502554,-0.014104164465980222,-0.07449479818813659,0.0846744589270619,-0.015919622985390194,0.13874304067066281,0.0984052206315767,-0.04212443363472552,0.05152547924724969,-0.016498496755105164,0.19372700303023807,0.0408082509145948,0.05134777248553572,0.025869646814730345,0.0009117451532951787,0.019088876449841075,0.05451659291591371,0.06985129818869112,0.09722790567355838,0.08508098558777263,0.04342830897592773,0.08525428896124404,-0.051553555941569996,0.09319479296862655,-0.030960266024399562,-0.07398546548332806,-0.024359838012179762,-0.06918480033280931,0.04303721966172784,0.011879567835187664,0.005944535801447744,-0.031742293519667675,0.09737307502679494,0.06304721530011995,-0.04361419706561363,-0.02181085520906115,0.06590091766711578,0.03171345764760338,0.07582812150062479,0.05217449004459089,-0.05632179703412073,-0.09218523105855356,-0.01169954090123322,-0.04274345403158036,0.06073947844966303,-0.013565920554073555,0.11106555761765824,-0.04252465545298631,0.0990024334374331,0.11737731132620975,-0.019862881057843215,0.122652666343645,0.053434141426324945,0.023872673766536154,0.006209363305028997],[-0.07739906716308585,-0.0262765997078004,0.0491947511818848,-0.03394147578111369,-0.008580085552718343,-0.04675372651673133,-0.018522120216470827,-0.017026288937500637,0.052336266400244275,0.022085457665697465,0.10081344394767121,-0.03585865370153738,0.023863674818748525,0.017900033369649616,0.03023462478370856,0.0020319315312761306,-0.02223883531107681,0.005434236188150361,-0.028318666561388102,-0.008031371967040462,0.044187196613000586,0.028359285125705624,-0.014055490018841108,0.029325212195108846,0.00016710854106031337,0.02653080598199459,0.028810616036386447,0.025429608318025446,-0.019223509830275664,-0.05346465920059611,0.1056256941237045,-0.0134540483769139,-0.016490825472716634,-0.07572002451571108,-0.07302501950781091,-0.0068816499931652324,-0.021589610443551604,0.018130058620977364,-0.003959467270435814,0.06269150131042057,0.0010109229337948301,0.19850340108647505,0.2743514378572154,0.2967957392131416,0.04960120142020913,0.04446243820861644,0.12727661694537293,0.08234271290147957,0.0916740166062895,0.26107110134222333,0.3433406252688623,0.6545622314046026,1.0,0.1990543188999882,0.1668623046688289,0.0898585955373927,-0.08440786557142559,0.06192631459631006,-0.06234285333612269,0.02722370915836854,0.03739264294446078,0.06915408913931491,0.06968593768966377,-0.09515231031354399,-0.02635620951479915,0.07725776518134762,-0.07176876047382204,-0.015827362643078515,-0.022232520095199132,-0.03794674264452436,0.020694515596583574,0.02303873598664588,-0.014860220983520628,0.09902155273975649,0.1132863960416005,0.12042981127803795,0.21050050220947605,0.029222457582760052,0.15028872886899558,0.07068768376523919,0.11439705707730094,0.009518672027462139,0.11624921699595833,0.06881643244966207,-0.000723274919028288,0.07237716256376509,0.09540101550675449,0.08328966247481705,0.10527260355701495,0.07139836441477222,0.04682909386125819,0.10068723593546261,-0.04891691070800741,0.07653379120490403,-0.03939756871920755,-0.029334507591418806,0.0320983902207945,-0.06515499971858645,0.05839481583711561,0.026186326050384245,0.022130288427910996,-0.03450224591608059,0.03897166078604958,0.05441034326891637,-0.09222056295067048,-0.02876635772556874,-0.0012096587403092644,0.0022851825878677737,-0.043708161089729386,0.058733562690137485,-0.0642197554763231,-0.05176481010036463,-0.02361869223973844,-0.059753702650237335,0.05386894268668565,0.12222186642376466,0.12717426189747597,0.07649304833382613,0.21435993195430725,0.17589475610967126,0.043532484351630436,0.0959599037970051,0.04045091930372478,0.09945480060184365,0.019374501486915496],[-0.3270056899690629,0.029078937215302633,0.07171665839357566,0.000918861343942293,0.019993844574972792,-0.00918053523811568,0.0073404109147422346,-0.0027544444074446947,0.08953113314647403,-0.006235218698343804,-0.06494782689332497,-0.050661489466175845,0.021952820649162808,0.0020807367374599713,0.12542789268864543,-0.03656140322978159,-0.06175169411309806,0.03051032299958661,-0.12733350460805848,-0.03367630515679221,0.05516684274982276,-0.010632845281314123,-0.06251294504527409,0.040853064571434054,-0.028948020677187665,-0.003974706323092019,0.01033728217025632,-0.012235000482115094,-0.0222587885319072,-0.15412094977269553,0.008671835640993024,0.12745982401601602,0.17125817466947313,0.061310686282904495,-0.13618765975438393,-0.08543276140286699,-0.03326846183871094,-0.02070525585935833,-0.11350681889382706,0.038754758916917514,0.07867502136134819,0.4085258118395588,0.22436963400658355,0.21093210248346672,-0.12705687121568554,0.09684831360601227,0.19534079353044062,-0.021735172456972655,0.451584021976684,0.29242818077644134,0.2537398785092921,0.19689710960965534,0.1990543188999882,1.0,0.1855817686519803,0.05737602057975576,-0.04526948222944094,-0.047877976978792494,-0.032333816799483835,0.02696757257384747,0.22368564193549634,-0.06230228251822113,0.02896119123230136,0.0036802724444984867,0.0496745657671299,0.04469930334515213,0.008855288218896756,0.01400162497032181,0.13415888828148875,-0.09863843532435913,-0.08450159108146871,0.042417493294555284,-0.12430241696159441,-0.031082957330729993,0.14911411517757037,-0.011034274516824191,0.24856560272067077,-0.010504212637337767,0.19231246302779473,0.1185417927022506,0.01622953809688316,-0.07829555131763896,0.23158283318574208,0.08661247845630568,-0.032293052646284605,0.038832111230040905,0.06012972172671838,0.06552400196125079,0.10846596670721544,0.0987517601069366,0.02636104976544612,0.09990138215315876,-0.01845696699019795,0.06561306754082413,-0.00744914589471809,0.024836502115205147,0.022866146508735818,0.005599259956366185,-0.04212167783207817,-0.06500496772626299,-0.01585110349623366,0.15721808963754774,-0.017850788283291442,0.01657578981504033,0.08217440063712207,0.058671974633112134,-0.04973209356466772,0.05725527061301365,0.0028895346188736086,0.14218365434185665,-0.07560866631129597,-0.1362399359574521,0.054481924085161546,-0.24900183885858754,0.04896219841992962,0.17524906533964066,-0.00793834058507735,-0.04144723543613884,0.24026613796390642,0.1788098781834414,0.14006929891097833,0.0783093581326165,-0.03211730129975628,0.12224740476593886,0.17048639087010417],[-0.22209440678290676,-0.0365357377341985,0.026498530669497505,-0.07117311391737322,-0.06623900244209166,-0.13387781807078664,-0.0359647629233627,-0.037529381911590234,0.037607406144627514,0.04047012927068211,0.01443957146638568,-0.031136479349274784,0.03332734018849657,0.009898677432995709,0.060506521808406606,-0.011412622322875408,-0.026360638472881802,0.03521525687188374,-0.07719680519789325,-0.032408554173905,0.07447526418416524,0.012907731227764715,-0.003529544888543918,0.051690407858517466,0.0018482307456359672,0.02430668578213475,0.03796964314978132,0.024775198980372583,0.005667615538580915,0.035929228571970395,0.10580901910825151,0.0396186436759348,-0.10253061944390422,0.026006569978403577,-0.00181524113299994,-0.06282836914560425,-0.02618153320319393,0.10922292000509766,-0.030253599888450354,-0.05815472280027054,0.10649438439355823,0.16869963441745722,0.24784831923227985,0.2967040186030291,0.24317489831795053,-0.009718671398299522,0.06340042812526601,0.06373418064852421,0.027819536621737733,0.2514617256771238,0.1247381676421983,0.25439328934089867,0.1668623046688289,0.1855817686519803,1.0,-0.008203583501202597,-0.10358390013946858,0.021054413541473832,-0.02282431998522629,0.01991705918364127,0.1103387923360287,0.076335707233201,-0.035986711555964564,-0.012251493280901539,0.012683652527279626,0.03615103060026286,0.06832938674049618,0.06541925531325624,0.022369480170539434,-0.037213757003429444,-0.01667631125505457,-0.009874168851153747,-0.07653414611455012,0.10204033184334485,0.1501326995544076,0.06827245414765576,0.11973548966715424,0.0030876202892980427,0.13214442472382767,0.08823481680870422,0.13030292752543182,0.0895317505246852,0.12348550603946756,0.19189480603525408,-0.007393514135878704,-0.006586106810818032,0.037927042036094386,0.0054388849337182335,0.05165847775100789,0.07912174972889664,0.01912549233599422,0.06540737174322127,-0.010189016816648237,0.09744655642284607,-0.0031594083637592005,0.02025816567982067,-0.038835278764787644,-0.08606362146824237,0.06094304938228919,0.002789676043046657,-0.022074594427653714,0.05164041023950144,0.08369866501970707,-0.01379814169169391,-0.02219833176707313,0.0029270373920585314,-0.013862922139615475,0.06954524597707902,-0.018866569035246705,-0.005823331113810956,-0.04246905665961512,-0.010482145088076007,0.07316623502441666,-0.10513823259951453,0.08206671012899582,0.0993840295431186,0.04019645599341522,-0.014967370070935463,0.14346402138225176,0.10348270525023848,0.07181967422700539,0.11149594104763644,0.0707353127735917,0.09064907186393852,0.06330293722066324],[0.21259821925879238,0.025066790441347866,0.05905405756060183,0.04976581826505079,-0.01504990353942082,-0.051196943511252556,0.006015389284189518,0.027450168353595126,0.047259052689934106,0.027273609485377746,-0.012172768704424857,-0.03755324834671443,-0.015006294130350248,0.023383701178472296,-0.07325824416081497,0.03732477524414058,0.03907979826927639,-0.020290339589868076,0.048431601104446755,0.026178002396916006,-0.03459308132171641,0.014914412890912472,-0.02077552542932978,-0.0251316174885063,-0.007612734298838688,-0.01751860990651333,-0.03184577362655005,0.004786843744769863,0.025382101936982083,0.03890766423262639,0.0025359226751576745,0.0910654052788804,-0.05065386825715195,-0.07299496788673092,-0.11069482168469796,-0.07368256614700226,0.0010340323490414054,0.07287977493472728,0.24681189908671414,0.13238150837053925,0.025377508604060833,0.10606337061316294,0.02224504904232542,0.03861504940099536,0.11923919510019815,0.21490241689914408,0.09974757295087595,-0.02694141831001214,-0.0029346429766361048,-0.007779974572162997,0.014075721038581488,0.11039911298119567,0.0898585955373927,0.05737602057975576,-0.008203583501202597,1.0,0.05913510156022864,-0.026100856138582998,-0.05806745703805016,0.09139354804177423,-0.07676866063793532,-0.03018775096793763,0.11860361385192521,0.0048250048081134225,0.05455945565294458,0.1135860174104084,-0.04912857767878117,-0.051722004066586454,-0.1683787197136554,0.17046057391401231,0.138545148489607,0.015662869140524432,0.07181020374000524,0.023356493255168264,0.10857456091742465,0.02183752580210253,0.1642559996905655,0.03308797948728052,0.08985824191189136,0.13666338857579416,0.03423095568500934,0.012480245892684965,0.1782873413237498,0.08742875149260124,0.09801736853631418,0.05266700899005334,0.06367518743025678,0.11186680694551335,0.06965204069806688,0.13645069691372316,0.10611907198070727,0.11343966125976727,-0.05814296250825084,0.19557825137570523,0.2622856514231317,-0.10509632530768037,-0.04331285985239836,0.0737996834043305,-0.06508571659069431,-0.10418719774892045,0.13361453672967102,-0.06659807203014001,-0.06959432509023711,0.16805524317836004,-0.009536905677084664,-0.02465007566397767,0.11176194613932945,-0.10614414897423133,-0.05740779042058635,-0.0012615705543367985,0.06737147899606497,0.04892188067376811,-0.05456041771155155,-0.006019016312339812,-0.05203301554224386,0.09662057101097786,0.01635537913692522,0.055912605175866756,0.18518154772828702,0.10881071331127465,0.13362186883615515,0.004827698533926461,0.11097672786731233,0.16323486640544516,0.1554562157933997],[0.35870760454069417,-0.05840047546848306,0.06615916259160841,-0.022033268090424454,0.029496121618294808,0.039965652041445435,-0.0002056692003311797,-0.014164104571998183,0.05851358567150944,0.01697565636981278,-0.09407968278999254,0.016221949563592655,-0.07529070275596383,0.01165954684145223,-0.06534101237575268,0.021263272831555113,0.07330743948471902,0.005872608681939206,0.044435289413924724,-0.018979997753691975,0.05542317014996891,-0.020698991325712148,-0.004709070632144681,0.03241937687189474,0.06189492436423315,0.006005743878116501,0.02636590963882273,-0.002095865258771228,0.00322269316775916,0.03552590123897813,-0.05152234244511598,-0.05406342008142018,-0.012050585681367037,-0.1351384247312225,0.050336366860978664,-0.18460005590285924,-0.06566233109085468,0.08125537029207502,0.20824203806942984,0.10556679378528364,0.12838077788917313,-0.071705720114968,-0.1925752859793168,-0.14510593624737486,-0.036400407764106794,0.08069522315149565,0.016756035989071046,-0.135639165103677,-0.10825609792530444,-0.2505662681150463,-0.22891257146710678,-0.1209120470292612,-0.08440786557142559,-0.04526948222944094,-0.10358390013946858,0.05913510156022864,1.0,-0.4456021482491049,-0.3582587385160065,-0.19433829892354704,-0.4816462436701116,-0.45497909076517845,0.4923389025183187,-0.06105695903436891,-0.016443159043645583,-0.006843411370451497,-0.14340509044859515,-0.021280986759480307,0.3735496653446563,-0.18685625620920115,-0.15266236775173933,-0.1968894605839204,-0.04408645416997753,-0.3390632681689033,0.17203397258320177,-0.17274356891372533,0.08259285574581422,0.004212009004660111,0.06757736381217257,0.215575626756819,-0.19098198351090706,0.008042844876801935,0.10719928561923012,0.04872493247632996,0.04635688695096328,0.016794492903861757,-0.0067134860225683225,0.04702284015246402,-0.02579357881935567,0.03551282725417643,0.043772499703922496,0.019788132178932428,0.005320739921690359,0.023727153591502948,0.038589336307371894,-0.019819374557216746,-0.036024686164377206,0.767514491483253,-0.4031078792929292,-0.37592889222993897,-0.1658192356074965,-0.42443563749005764,-0.37576784309487216,0.5395523239723448,-0.0644718795414059,-0.05271751862988666,0.03807126581950102,-0.22316131857697824,-0.09769582336509985,0.39129107597903606,-0.19106876913191315,-0.1729323520876978,-0.2036345493440409,-0.03933057418068181,-0.35901052844522746,0.10698469995573273,-0.2287252872454364,-0.003273133626928838,0.01760740571221993,0.04343353296217448,0.20744705093040147,-0.09342410165773421,0.013536639709748931,0.11383870051846627,0.05812093091615362],[-0.12803576874873315,0.07386088988309375,-0.004444352001498325,0.05476853931471785,-0.034389494148573285,-0.1080368348628362,0.008054635412912238,0.035211662300152734,-0.000547235992038534,-0.04046363403171899,0.03401633345465924,-0.04742586773406939,0.03519556914672639,0.0005172347335757824,0.026733439178779364,-0.0008365245271164187,-0.002930809783467849,-0.02489805815438979,-0.02618779924441296,-0.013130622944919033,-0.10824490305216398,0.021571309736791607,-0.00979617516425861,-0.07934735698785249,-0.04613517247369864,-0.049856662676027924,-0.057425234719067166,-0.023266740797797652,0.022713226019996393,0.03331926473016656,0.037399957224446195,0.14046526935438694,-0.09128925582012329,-0.02038930587389698,0.0540238076495252,0.1898202444859408,0.21542111163818045,-0.09830875431487414,-0.054852092336163616,-0.0063029566225690755,-0.11190632395139335,-0.06846233673553107,0.029984309421515563,-0.003005922665490374,0.09494348316945603,-0.031621576018782696,-0.05475323302975198,0.04057907338009692,0.07405858429789908,0.09949304943332454,0.11602237210607445,0.07828197111492084,0.06192631459631006,-0.047877976978792494,0.021054413541473832,-0.026100856138582998,-0.4456021482491049,1.0,-0.1073650263946728,-0.14921185224616818,0.0036154536348454846,0.03881583442055012,-0.21787904857585835,0.3033644404214206,0.03697245933486963,0.022135404972251714,0.056347914131484426,0.059065990856654316,-0.1830701253617139,0.24460455755297075,0.01132628616602087,0.0567138890745912,-0.01735025719911385,0.14909067135551618,-0.2060198471289607,0.3286726814496506,-0.14306265702286938,-0.1221672495820199,-0.20254254235452368,-0.20896199635921522,0.21841325213786966,-0.10865738109690008,-0.17960683520995518,-0.1281000733825651,0.00022481797469170998,-0.014823858049444855,0.02141013083992488,0.002159397675943189,0.023606010236647927,0.005114788305063767,0.013880113256826315,-0.03520832326663086,-0.06885339687878969,-0.020890603639135016,0.06747382417478673,-0.08659728650438081,-0.004365083732917096,-0.3648633621868244,0.6266906847496023,-0.04759094753618973,0.041588262962282574,0.04084030434774393,0.15901966909371373,-0.3314114758223337,0.24299588801462207,0.18523466940502833,0.023908417189671804,0.24577730813245338,0.1669061645667933,-0.11814642322634145,0.12853412425695965,-0.033862947936551355,0.14152340571385655,-0.06252992459356721,0.11230865152415147,-0.12820285636961937,0.30894443774362046,-0.06254020774696688,-0.0376234652336628,-0.17289290565919696,-0.14461443996899095,0.21311875479732606,-0.002910626967172464,-0.05305276249928646,-0.1286438455564613],[-0.11611060036883533,0.02259806220380568,-0.06837796716421794,0.01898596768034468,0.06812165379007971,0.11390522961443737,0.01069449110641473,0.011788313770985777,-0.061843606338736395,0.03484567213892878,0.07987746394771646,0.024191642766755016,-0.003682550477195612,-0.009850471956520376,0.06115943615315541,-0.011507003245414978,0.010171423423038747,-0.019808012747015817,-0.08464545812219951,-0.013340536888741927,-0.002413026769455242,-0.05242284376115589,-0.007336102356725839,-0.011218275698364795,-0.04363342980848652,-0.015011900690691162,-0.004757239529160873,-0.017404241746308384,-0.0037064959799566408,0.04593219450026004,-0.06704121971986667,-0.06620858234908851,0.022344701088279746,0.09743864359561377,0.025297211110255534,0.0007625133762541342,-0.01370053439658528,-0.09668396480949999,-0.19390955829432288,-0.17487441517587618,-0.10076937542257713,0.049374778776258565,0.16525624787173623,0.10016169714890805,-0.08831791289476083,-0.10392362400102277,-0.06124436523492683,0.17521763243522956,-0.06561261432057776,0.11805978224485654,0.11327404722912268,0.00504416994993947,-0.06234285333612269,-0.032333816799483835,-0.02282431998522629,-0.05806745703805016,-0.3582587385160065,-0.1073650263946728,1.0,-0.1287585141772501,-0.029320601643987056,-0.07433488184736721,-0.02147131080422254,-0.06279287439283367,0.20987210890608687,0.006643611101958583,0.09704734973895797,-0.01797757559443206,0.048619356538108435,-0.14637178275241403,0.1572010297612587,0.03940492835347279,-0.11296136549092572,-0.06319303766863026,-0.04506231899489408,-0.04772463595486512,-0.19472277294829027,0.1003355780022409,-0.07870525404622478,0.01780241725666318,0.10173620445873649,0.1560534954148628,-0.19416387110711295,-0.0017453787709367174,-0.05303598786197668,-0.06358478089282475,-0.05182044506125263,-0.08325353977423718,-0.0465266631040868,-0.06433315238079425,-0.054386661962287766,-0.04133861228704061,0.056496730799984955,-0.06622299638588883,-0.0487415073643434,0.06299250492287786,0.02716198736596888,-0.15161029281431765,-0.1078922480572279,0.5382692020590203,-0.01923904196391229,-0.05884713996651062,-0.037868549085640676,0.01509178360731629,-0.005098820530932743,0.0421256776034423,-0.03689681129439535,0.05568794704073335,0.02770431202333108,-0.02411512919383199,-0.015702816008506697,0.10965098634933902,0.06967460065998093,-0.11897790098083594,0.03791677838568598,-0.05297108723464701,-0.047841355902759945,0.06102974352864961,-0.15038259934789788,-0.06675713636005828,-0.02884117197747886,-0.0780365651514985,0.07003046455853347,-0.156412225941919,0.07310841814367061],[0.038879706521187926,-0.01134309613245971,0.018212191598903194,-0.0029185418053640274,-0.05861316686056298,-0.01577558205406026,0.008166038296222913,0.0058187936462605295,0.0128443422482717,0.03743363526121133,0.006505002965176955,0.03037515227426101,-0.031939562673765805,0.0026121520286032556,0.01664913284820453,-0.01320340290971517,-0.027349819845858183,-0.012851315755241705,0.015253927078099848,0.013027653851575354,0.06130146965488438,0.004908506140445019,-0.016087906204134885,0.061069584781664625,-0.00023197615707194337,0.03347209111868404,0.04188732088333645,0.027261471095275186,-0.01940260897546841,-0.08757910004076568,-0.024502231085374523,-0.06062123219083827,-0.016111953249346937,-0.06962761760211036,-0.024593173300233355,0.009236830067697365,-0.11186780548038877,0.034761991501152854,0.01984150800021362,0.02369799533202553,-0.007058581534455392,-0.03213318954926589,-0.02523488435119958,-0.007798575996587467,0.05000320499651919,-0.032094713592418715,0.05306709288892571,-0.04998954502265401,0.00502865351235287,-0.046400861219043986,0.011204533429601494,-0.041390667937632526,0.02722370915836854,0.02696757257384747,0.01991705918364127,0.09139354804177423,-0.19433829892354704,-0.14921185224616818,-0.1287585141772501,1.0,-0.06363352181781762,-0.1971393447178113,-0.03396906316493449,-0.1443435329259335,-0.015640179802465112,0.28261372657733436,-0.0558766211755489,-0.1311978889294227,-0.175149789608667,0.04228701246031461,0.08212485258663467,0.291674777212979,0.06549254686618072,-0.04705683864101207,-0.02408413238692376,-0.08352711234790228,0.21314979932280867,-0.06521974595609918,-0.07787036797155869,0.031242973043481413,-0.006623947055648461,-0.04271510541919815,0.26124550800504936,-0.02752236059192948,-0.004241260083464424,0.010229974762299246,-0.013310185725567313,-0.015628200952414118,-0.04782996878428083,-0.05199658344700205,-0.013459432641773928,0.014810438318227651,0.010682390685374058,0.034454777433669474,-0.05396011707338546,0.07569094609758066,0.05926081672284704,-0.054048450449365966,-0.03044467121830058,-0.05630815562933412,0.47944184975792814,-0.09766635989294059,-0.1585828169016439,0.03485856664792466,-0.08376594563980264,-0.055876571512747455,0.2330199241544064,-0.1815031759458638,-0.16384519420655005,-0.07967277494818191,0.04270298223507256,-0.003168936197768489,0.1259399096662632,0.10491702839813277,-0.09906962706072218,0.0072092643005280494,-0.07130751922066329,-0.040164856217940484,0.20007762670737833,-0.06388153801896787,0.021036392206497317,-0.04513537801721951,-0.038532073829457246,0.16996620762567197,-0.030932969860196308],[-0.35372699702482996,-0.037924708199844184,-0.10627825276527514,-0.08400743521702853,-0.010809324836560073,-0.03443841792533958,-0.04488297294997423,-0.02927065556173973,-0.09423660733027879,-0.01631548852237378,0.010743547019208629,-0.030778038180806985,0.07836202140740649,-0.010922333602819453,0.03911964091901967,-0.016211957895329632,-0.09252659440100501,0.025197379800434214,-0.01483021198186548,0.03586542245281821,0.058668992237978314,0.04127910866002762,-0.0016870117077257187,0.04489215039976357,-0.02578120624131476,0.043485845680969325,0.04232793046023155,0.03204832571626617,-0.009468203522192607,-0.09038164035129105,0.10055931766885248,-0.008847929184810237,0.11742275066829713,0.1441199154791302,-0.0943461096222907,0.08124938637718652,-0.035395150302297916,0.034139407626572076,-0.09831796505491582,-0.05209227406928468,0.05833235002562587,0.1583115950174211,0.10972740588313895,0.10594823324450081,0.02151892361996269,-0.005649189707650941,0.10589144136464052,0.04172203820381584,0.10510527003684794,0.19451130856876697,0.09524388852877405,0.033665444674132045,0.03739264294446078,0.22368564193549634,0.1103387923360287,-0.07676866063793532,-0.4816462436701116,0.0036154536348454846,-0.029320601643987056,-0.06363352181781762,1.0,0.1470045083750642,-0.43446254884680735,-0.04429979548287107,-0.02663344227856486,-0.20010701337445588,0.12985758247302182,-0.051212336456682196,-0.16898184996124968,0.030488219036602888,0.03964660711439504,0.097998521005761,0.07974098419112563,0.1696188238040733,0.09295491169643354,0.032345815474519146,0.10547835591996725,0.013362888053285858,0.32562283473644377,-0.016901001332435998,-0.06295365641061647,-0.0783883357410786,0.06641320228793204,0.16080341161981923,-0.038251052105000134,0.04809892282756431,0.0802020799720921,0.015116371292656961,0.13515175300212728,0.02477294104752702,-0.024561649809739645,0.035079107996116826,0.01679958429281281,-0.03950281638525071,-0.06833519670517477,0.022764202867551066,0.03479324283881546,-0.3893201625777948,0.06653110596266339,0.1559489307744351,-0.0830744433304685,0.6500138410307399,0.13668400086946605,-0.43373832778526655,-0.04189995177918213,-0.029318302297510677,-0.22411830225633406,0.1456985259325147,-0.027103052855178594,-0.27272233485832986,0.09717429755561256,0.1714840888978511,0.06771028521623153,0.09486380286598702,0.23618187925189418,0.11081261247656393,0.10665014119802341,-0.02566716442677615,0.06374983551388586,0.2730239541658943,-0.021357690670573998,0.007867553692602076,-0.12356172783838376,-0.04292245243579913,0.06546279030156373],[-0.13814077026805424,0.02119297159182198,0.005778371995346258,0.023090940252648098,-0.027410660211225627,-0.01862892393178061,0.0029390285688006825,-0.007603342815262827,0.005116124999249197,-0.048632085804202786,0.03758448856402433,-0.005758442264395049,0.04515501436553021,-0.006222134730168786,-0.01652136351990363,-0.008466232218028847,-0.031157869391663318,0.031075047686890196,0.029757984935727823,0.011105823586245555,-0.11041833220321967,0.02951200681935697,0.034305041187986704,-0.07537194376360981,-0.010730544744798898,-0.028527580410138146,-0.06697170804610081,-0.010922736349451727,0.005502056576248262,-0.0011220956147561375,0.06184492267864819,0.08508244737216725,0.004036654606406304,0.11093402088344799,-0.0963744944794893,0.07987107185322448,0.04898624423265421,0.011384285379598203,-0.07097139411024479,-0.015009567286232723,-0.07514594893247228,0.017686580236039768,0.05969236317586044,0.058577577119036564,0.022731635443528003,0.03322141136733419,-0.06093533343934427,0.036495904172913596,0.07146429740453102,0.07908992227530415,0.04987549457500073,0.13080291616584402,0.06915408913931491,-0.06230228251822113,0.076335707233201,-0.03018775096793763,-0.45497909076517845,0.03881583442055012,-0.07433488184736721,-0.1971393447178113,0.1470045083750642,1.0,-0.29758872059175584,0.04215578862429166,-0.15854008515883802,-0.1066662194994242,0.05892562855094145,0.1739454872575341,-0.24144124160716418,0.17866582705931,-0.003883317265136577,-0.08314828666219785,0.075264345195132,0.44973950642780636,-0.12671190536846916,0.05574177195200767,-0.10407086188462603,0.05012890222476223,-0.056695764303161984,-0.18691650390905226,0.04802745510683538,0.03213173798690358,-0.09967212842038845,-0.0497992032550783,-0.01787013318059434,-0.03390116030465198,-0.04540627116915084,-0.02665658848867577,-0.033351777470495454,-0.003064765999618184,-0.02239339100252504,-0.0066665981759862665,0.0034239182246777427,0.03781346295689938,0.02472317097515662,-0.03211011484340405,-0.04451807949977118,-0.42976253238558026,0.13127984745982313,0.11682126970554539,-0.11009872277166004,0.26488009467347934,0.5585293649117063,-0.31837134787619625,-0.020884432822228436,-0.033307488196458665,-0.10340385484643987,0.13322965897458344,0.1661302838062773,-0.2534347314685995,0.08158167779694844,0.09769781420331283,-0.008536302694401922,0.0623393199892732,0.405441696990195,-0.1308714666295993,0.1081498493073035,0.07515657355895036,-0.10735072589991056,-0.004891981499847791,-0.19860346086947786,0.04779839283734742,0.038055824142570964,-0.11120594994884363,-0.05421338912076853],[0.10944638727423303,0.03269967074579287,0.49331361594436407,0.03448714209572043,0.0720103277311418,0.06544714678507402,0.008602300110740209,0.007330571264421648,0.4997653185544735,0.029482722316936476,0.024253989988130414,0.018692916496879382,-0.033994832847617264,0.04213234943914625,0.12826117750075783,-0.014938740055032403,0.06775480736335363,-0.009122817194551373,-0.20205263607032775,-0.1089330741637934,0.023268834057689283,-0.07082638106274114,-0.06554681265739504,0.021882565260834118,-0.014677353369233044,-0.03439679893251053,0.0034169148146481233,-0.028249869021145745,0.026768615612748077,-0.021143289607906828,0.0031930179529616213,-0.012913774818857537,-0.023005752885631635,-0.08946435028839357,-0.03681036774015287,-0.0921939766160713,-0.033028666985385806,0.12999917406721964,0.057647729462764974,0.03815564375656844,-0.061879590788462065,0.05426518511294094,0.008322827341962736,0.05807402400337298,-0.04295282302247525,-0.005539561459855246,-0.03042938443725252,0.024973837777678726,-0.020189577028776926,-0.04021548454871182,-0.03011848166855541,0.10270488250834021,0.06968593768966377,0.02896119123230136,-0.035986711555964564,0.11860361385192521,0.4923389025183187,-0.21787904857585835,-0.02147131080422254,-0.03396906316493449,-0.43446254884680735,-0.29758872059175584,1.0,-0.25281524514486164,-0.07290355855515426,0.2641712788467204,-0.19971839217186407,-0.034348124445453515,0.49249723622482905,-0.3524052983870601,-0.20682844866811867,-0.13127323657398438,-0.16828331526967388,-0.3717231673212523,0.02066738511639051,-0.03371754955585724,0.05936249036573938,-0.078802421098857,0.016155210283499966,0.12462876764717237,-0.08061077115449408,0.03271782101861312,0.07403983375502762,0.049654864084463325,-0.044457387308076295,-0.06820592056067896,-0.06143253204639295,-0.02711076581761885,-0.07088069653492882,-0.04403393911870479,-0.03902416845298403,-0.0033268689782730986,-0.2196916673015048,-0.03300423549392946,0.012975526917932146,-0.0005527848310943776,-0.026213215371747457,0.5184796261942353,-0.24675231725415908,-0.13847858446002823,-0.09147495714164164,-0.43636628487377344,-0.24569762111940668,0.7873917455162204,0.0440938929571906,0.032161952883001256,0.2713448129193239,-0.11095588685026574,-0.02121177822639195,0.5294309261101592,-0.3082068567292274,-0.29586143673190785,-0.10669557456119481,-0.22909974251719478,-0.37101131823094385,-0.12157304572221536,-0.17170331075215836,-0.12080113733010345,0.0029612276233313838,0.0444717400530668,-0.012393225692956564,-0.14624100928673092,0.017104424068215072,-0.0757816808354821,0.05681908480191492],[-0.05100258668807804,-0.014103241268508369,0.18981375255743058,0.02654484672873676,-0.04248979883365221,-0.06928605472146585,0.008468658291151702,0.006681237876561122,0.20163175118510207,-0.07449857413952134,-0.05477759595876306,-0.05986135561142486,0.010994097974031643,0.044925475211223025,0.1024186293306757,-0.005770674656393558,0.01861654304560646,-0.015880908081102933,-0.14130411387397634,-0.0776117266671178,-0.122854458715175,-0.011384175927214552,-0.03405643597249856,-0.09897506432343589,-0.06828852783519912,-0.08571572963451349,-0.07687698512267666,-0.0723682549938728,0.014051777964344422,0.04779317752066153,-0.095475444222988,0.1476331625511028,-0.08274118906918165,0.028911809293053342,0.08173458606582107,0.08249722112719861,0.07537424630053964,-0.07168596759926035,-0.0486766445583205,0.017449405863979046,-0.053143342343998416,-0.13623732112182307,-0.08566494425807629,-0.06230747759764985,0.016973882125191585,0.04264393970053983,-0.0980900166963071,-0.13378145713809572,0.002135239942995692,0.048227425300494044,0.06017121957907479,-0.010844748764339064,-0.09515231031354399,0.0036802724444984867,-0.012251493280901539,0.0048250048081134225,-0.06105695903436891,0.3033644404214206,-0.06279287439283367,-0.1443435329259335,-0.04429979548287107,0.04215578862429166,-0.25281524514486164,1.0,0.38377778599650586,0.11447009666437016,0.21563591569001747,0.18529601691847858,-0.05231606065528654,0.2482647100227941,-0.047324374790340545,0.00943393824085912,-0.11299008787500125,0.03860008348950027,-0.12631219910734257,0.03163076936286371,-0.08047109635074234,-0.04383504149512357,-0.025404537212746738,-0.11422643157981903,0.05187414639872194,-0.02399472480955149,-0.06733070195114658,-0.0696689661916138,-0.026076425359564965,-0.039439363564243254,-0.049406621527050526,-0.02085281543993005,-0.02476930316033098,-0.020963701167004318,-0.03636848357690225,-0.0988020047229812,-0.19218967235222228,-0.03943725751682643,-0.03168667815778649,-0.07524468397963718,-0.0780620112107853,-0.11439826337870214,0.13709788303499099,-0.011159178742025539,0.016432830397497426,0.024709867159569528,0.08861999432835431,-0.11412043427354689,0.5253010363979131,0.4279650722511551,0.1770080514671978,0.2701913837006795,0.2916848319976796,0.005984684132258652,0.08710408828247003,-0.12553149527316537,0.12880608435584795,-0.15064583160513462,0.04332889207267952,-0.025345929665398757,0.10567880101518305,-0.04754345390535618,0.03356732074843311,-0.03391061107142411,0.02304380721588289,0.09404711932570685,0.04095603017358409,0.05056050675684435,-0.011266318895819576],[-0.08263134216622489,0.04372321330495841,0.2728175919154384,0.008697935174139498,0.016263132887619304,0.041592909267731695,-0.00742796240759337,-0.005573147402628502,0.2948253030275165,0.0069385111776540465,-0.022032432347046032,-0.05678503455917047,0.028179117152461387,0.04099139949414588,0.1425084038113853,-0.007503294276196121,0.03156782496588055,-0.0338037574490971,-0.19131710310675482,-0.1034015673891638,-0.006376835892080133,0.033801994373416924,0.01008686240123039,0.01007942135306459,-0.02514954546347835,-0.01903578416226242,0.01722375988506716,-0.008537952046316459,0.02479603096133607,0.03305341864392477,-0.08581230168405815,0.15303018571902086,-0.06605981290050741,-0.010040991062123143,0.03626616004146123,0.015520378430967013,-0.08254650386375019,0.03589730786413212,-0.02828469677825482,0.007624034741852238,-0.011140701956251215,0.03699390792727974,0.006243160765085309,0.03467152665712009,0.017114350706898814,0.024099959326855203,-0.0257934434082067,-0.042422708108260994,-0.009628893808203422,0.07153533714006215,0.0553202765114158,-0.0221243114686561,-0.02635620951479915,0.0496745657671299,0.012683652527279626,0.05455945565294458,-0.016443159043645583,0.03697245933486963,0.20987210890608687,-0.015640179802465112,-0.02663344227856486,-0.15854008515883802,-0.07290355855515426,0.38377778599650586,1.0,0.12239296456521272,0.303577678356212,0.15018519037865868,0.029339168517844263,-0.02248916433221472,0.18620373169932639,-0.08653651338257758,-0.07898082269378028,-0.04526792842985485,-0.030276564701106,-0.036801075095731266,0.020137550012917976,-0.050897885126882425,-0.006948531710870973,-0.019616323045108665,0.018971207944978787,-0.02975638551315557,-0.017849464245047443,0.013892853814030414,0.020761345353825792,-0.004638885983863032,0.014156271065281034,0.024010943104109575,0.02244968792349484,0.02462870255873101,0.04660649099833866,-0.024012654456459663,-0.23230750886334064,0.06446781397644454,0.03199811827830799,0.012150342697308861,-0.010300879538641795,0.04665942363933125,-0.011307356712311168,0.12111687097067436,-0.029519199886995025,-0.059659005602583914,-0.12596531364995328,0.11476533469240423,0.33510496333672235,0.5078578069549171,0.1441477489285609,0.3087061705481712,0.2453127662089716,0.08682313215493924,0.028292585753788478,0.10087555160576864,-0.09774172400411495,-0.1377825470488704,-0.06943208054265472,-0.0077040492872814635,-0.0002876141741423228,-0.08192126712161078,0.0644681850678225,0.026479277196111418,0.06195013047913155,0.047850633247185574,-0.022120355120703712,0.09940517135316569,0.04731689145009505],[0.0815533873279936,0.009761025970650261,0.40231540540281757,0.0025622937457097693,-0.03338497205731548,0.02196957516960907,-0.00018486115649460767,-0.0007333842960980958,0.4086681727388876,0.004210052787947079,0.025100799409731797,-0.016991457515861227,-0.017931570671002355,0.06504507203608104,0.11965653257436198,0.008793443053260436,0.06368100980237333,-0.028570213612829277,-0.19771678140948848,-0.10339168446993702,-0.03331832403746091,-0.05168986538450966,-0.05033179568522545,-0.02611681911141704,-0.030463535810217816,-0.04333489712822667,-0.032348680168652444,-0.020585402268671917,0.028105474137513315,-0.023055189987366997,-0.07786636145185262,0.032982879104164635,-0.05415787911278273,-0.038508775780220286,-0.008145386718679834,0.044854013299710074,0.01620308090427302,-0.05846496039348142,-0.06129873093163078,-0.05498451316066277,-0.04097921769745333,0.07220490517427564,-0.04035119253028509,-0.0486486590237328,-0.030925771847270644,0.0012395931631314363,-0.006292060453461816,0.014789166841247857,0.066424316190764,0.041727015509594526,0.0643654784294204,0.060095651369191656,0.07725776518134762,0.04469930334515213,0.03615103060026286,0.1135860174104084,-0.006843411370451497,0.022135404972251714,0.006643611101958583,0.28261372657733436,-0.20010701337445588,-0.1066662194994242,0.2641712788467204,0.11447009666437016,0.12239296456521272,1.0,-0.07727731645330961,0.22265455292002034,-0.030469696616120107,-0.050521720677835905,0.002224823184285967,0.34901122351153824,-0.05512240726090027,-0.1724113718550471,-0.1125696761394392,0.00624085231233459,0.007028473242923256,-0.10467858124113305,-0.019347398811435795,-0.015316287397488578,0.03103400540359723,-0.01997234076514123,0.017301261765314067,0.016759473053494234,-0.044671121978414274,-0.04463784293475407,-0.057569793808083095,-0.02695824170831787,-0.06183490304241641,-0.07642018704007245,-0.018255908484916122,-0.02793821583978909,-0.23793559052457716,0.02912892296213004,0.03873317934909946,-0.04133937840515811,0.032934454828770596,0.06536559440548668,-0.009486765282080558,-0.035685782887746355,0.24626237414415625,-0.24535337734642856,-0.07775715409148219,0.3127430519966624,0.19861791278710803,0.22015280111092583,0.6821463583430565,0.02178054690804643,0.2229203676065119,0.04631688264055194,-0.037116395301040314,-0.05199163137546474,0.21572326790464477,-0.11616451319887043,-0.15717610448943078,-0.1170974360720687,0.021220624060766177,-0.05414861541045351,0.05517786200159359,-0.0079081124279287,-0.01804352619621548,-0.019958474949748745,0.01788735796661646,0.060356670254775306,0.035770011112435406],[-0.3062733838455635,0.010402087867070978,0.14185171208667516,-0.0041206122473003625,-0.03114349418286944,-0.032264293497099014,0.0019533708886172096,-0.013532595418766695,0.1767039580241379,-0.019179495178150322,-0.02861453498141243,0.003004915092182261,0.057813615554065556,0.0002109670230720144,0.17596786046129612,-0.04550209726102784,-0.026555979664110756,-0.0006458027786378207,-0.1867854468861225,-0.10233232059261989,0.04420420557142723,0.028193363913904985,-0.003048123404912553,0.031639468948702815,-0.061101407370646774,0.021913947923400973,0.04027755079136325,-0.013132009314757017,-0.0019262282328059268,0.05045017675059531,0.00864231792989091,-0.061379543343300834,-0.08575200459368647,0.11179376899010218,-0.0008857763320001259,0.04893600829686138,-0.022519094326205906,0.03590325098362939,0.035383265973507314,-0.03460601191942352,0.0744793650334204,0.013818301413850412,0.0008330037248828741,-0.02349524902607044,0.031202825880725562,-0.11910012060569217,-0.0026921859574179294,0.007930904907902053,-0.02829174369364421,0.010721463308917021,-0.05109757619849149,-0.07668241529839062,-0.07176876047382204,0.008855288218896756,0.06832938674049618,-0.04912857767878117,-0.14340509044859515,0.056347914131484426,0.09704734973895797,-0.0558766211755489,0.12985758247302182,0.05892562855094145,-0.19971839217186407,0.21563591569001747,0.303577678356212,-0.07727731645330961,1.0,0.05135016258353423,0.14698161046513705,-0.12230520944529247,-0.11063718430921188,-0.04781651300269,-0.05222746745062321,-0.024006400940958728,-0.007696934227872064,0.05182714897376764,0.05214621553863605,-0.03340087858768496,-0.0525741474303326,-0.007086443946350562,0.0442787422551066,0.047419269094074665,0.0833768596505112,0.03786389695966706,0.010066502877796773,0.05021975286458491,0.06745791050468267,0.012344545229579234,0.09019820736117323,-0.0034802699921838093,0.029957964557641298,0.024047256129948912,-0.11540594833254231,-0.00908918527486971,0.00726164778181257,0.014019938754016895,-0.018684255692157807,-0.1143732740386895,0.1113889999417762,0.027670643508572505,-0.021304910944044207,0.02318053471554201,0.09413461980292105,-0.09788877887757969,0.23379698945052213,0.31331599890488654,0.04698661958321273,0.4916640435876793,0.19227092564170348,0.0790740910202727,-0.07559125123394657,-0.08235153791555934,0.02216584960122869,-0.06996202015623608,-0.006813939165180278,0.0638060299498158,0.21107008591486842,-0.08372005162851133,0.1101446502287351,-0.1055397287910679,0.07348123275551471,0.1703695787016287,-0.07984930487432801,0.12915844569373958,-0.1252516740848053],[-0.0304009568577192,0.026313145024580153,0.23571520022290582,0.01980547745881984,-0.04773138857575574,-0.05555817203632409,0.008589231980602012,0.00340653473690147,0.24736118483228295,-0.017937849550386156,0.016653833898483274,-0.022843137902126692,0.017078521181847592,0.04344703384762935,0.1042269184135482,-0.0034439424750032778,0.037516889457360515,-0.02621057563411171,-0.13906947635674782,-0.0904546345326629,-0.0670167662242472,-0.004888656269838936,-0.009501066857278827,-0.04670102412010455,-0.051697715118109805,-0.023128153501926076,-0.036738103562821464,-0.026595116003896677,0.020335215204492767,-0.04015063457619336,-0.01983293164471432,0.06654151595403805,-0.06146837712766038,0.09118959888062034,-0.003103172290845967,0.05051682587135321,0.05219598206547764,-0.02001090288610298,-0.104596459161239,-0.09271873903539198,-0.11319616614502184,0.039815908130114055,0.05296881439202411,0.06309940214611143,0.02857694086932002,0.042002204484044334,-0.06518639820444186,-0.016408036865180706,0.0327460953703489,0.07288359254907646,0.032686028428338294,0.0954240843922828,-0.015827362643078515,0.01400162497032181,0.06541925531325624,-0.051722004066586454,-0.021280986759480307,0.059065990856654316,-0.01797757559443206,-0.1311978889294227,-0.051212336456682196,0.1739454872575341,-0.034348124445453515,0.18529601691847858,0.15018519037865868,0.22265455292002034,0.05135016258353423,1.0,0.004923123282103138,-0.022959938180178337,-0.05379107905259099,-0.03596646844592912,-0.11246758037734622,0.2688934921604862,-0.14696081304840683,-0.018433380595495995,-0.13146209772110215,-0.09458775320043948,-0.09828749336329638,-0.10351399328437048,0.016360225612506704,-0.045768857214113945,-0.1528210512907331,-0.07824746085250049,0.025051101870694058,-0.0016514182344263982,-0.010257280269739676,-0.010554217799060558,-0.02476961837330202,0.03242166910027963,0.02218253037913033,-0.04236460059819797,-0.20785178109051491,0.06404920696316997,0.011224767014377749,-0.10700835669377422,-0.008318123524037104,-0.09373607657662557,0.05568565644628885,-0.031942887931129524,-0.0606312976211846,0.00563020931883496,0.217936076920406,0.0559578853651689,0.18099723035131385,0.2575341483965665,0.21854886848199553,0.24090594436310475,0.4938909750000412,-0.058500879107621306,-0.01851910757022684,-0.009031055676030166,0.001454883753702056,-0.06975939299491853,0.26758819449045884,-0.156109051569894,-0.01993462925203387,-0.14985835094750855,-0.12912281009194065,-0.07472501411371599,-0.11367612186888804,-0.0016365696357669302,0.018394785947979598,-0.14391502314377924,-0.04250758328024947],[-0.3210414816909433,1.2870422640309564e-05,0.11359580383306694,0.0006023288186398088,0.08040415563491399,0.08792986037344278,-0.0012842278940796911,-0.003942888779393574,0.14276838527161173,0.0241080967651642,-0.03312609482736438,0.025107074772931604,-0.0032077899594201978,-0.014123635749796951,0.2131096846669828,-0.0733309166155634,-0.026128946258050144,0.031399308813965826,-0.2207684025669735,-0.12006368772431966,0.07339410951019328,-0.003243558651085155,-0.029530073611615644,0.06774254157763164,-0.0049648947337076746,0.0017383658891585141,0.053558914879910303,-0.01459813176426525,0.007338426434740952,0.027175808974906374,-0.036958880085260805,-0.05665799148661366,0.03995732497049895,0.09308118217349544,0.035922585939484365,0.021404540714157188,-0.0035396820282160963,0.05933229924567446,-0.10425378729914495,-0.057955437566041476,0.07027355200299112,0.0448515572823629,0.03784495897566083,0.05404372356449166,-0.06273722312824698,-0.15994841251566694,0.002006827064455564,0.007460553565526631,0.0008034690669406769,0.051881286531566165,-0.03082865846810923,0.02273816403118726,-0.022232520095199132,0.13415888828148875,0.022369480170539434,-0.1683787197136554,0.3735496653446563,-0.1830701253617139,0.048619356538108435,-0.175149789608667,-0.16898184996124968,-0.24144124160716418,0.49249723622482905,-0.05231606065528654,0.029339168517844263,-0.030469696616120107,0.14698161046513705,0.004923123282103138,1.0,-0.6315464489525313,-0.5873975589389705,-0.24089501373739922,-0.5254474485427731,-0.47096880531718316,-0.035325958455139,-0.025846929397931317,0.04024589185981875,-0.10087896638973834,-0.016388970749387523,-0.017082700794058898,-0.006808001373684335,-0.07531947054527059,0.009575855768440545,0.018450331452429615,-0.059525589498457716,-0.0578169271775477,-0.0033158211746687947,-0.031342496141480596,-0.001448506126983504,-0.05211417826126473,-0.03543186258729046,-0.05123097759136832,-0.0025026142940518126,-0.06598581983668982,-0.08846872864647445,0.09990170023805542,-0.0542989024317875,0.3846551770852732,-0.24263585500607,-0.0596999092942564,-0.13757800911085305,-0.20225289537837535,-0.19893329876464313,0.469729834803158,0.06080740709685558,0.09239700595934744,-0.001632316074997665,0.01623362639518924,-0.001234862402146105,0.748292653780841,-0.5302878431529655,-0.5367472287623923,-0.05749500088779868,-0.42413584385033604,-0.31233219618610547,-0.06336321896134006,-0.0801867685477319,-0.15308438007754824,0.005518100664246521,-0.021431931107443136,-0.034138000375722254,-0.033669215211931426,-0.13775550573195747,-0.05026966447273612,-0.04399957918493109],[0.272460829072073,0.006631402780255365,-0.07935247363154653,0.04731962660256628,-0.056114915634356874,-0.06651810807890744,0.012382423984240814,0.01638571491224404,-0.10122341763563947,-0.021081649927483754,-0.044959249296435765,-0.061863266250701036,-0.022815558400925307,0.013216466401958452,-0.16785665761074264,0.05778816724998056,0.024056577387538844,-0.022775455171413578,0.1730989482991116,0.08862450535030401,-0.10766964753991994,0.022129761114583216,0.021919456211538558,-0.08367054520835115,0.0003173872746223525,-0.02029072718296133,-0.06323509170547001,-0.00957206701806843,0.009173643276763644,0.015608125306467177,0.004028176298167431,0.14651641369886892,-0.07980429160901459,-0.14022464484313737,-0.025965163100156462,-0.0034682999737213668,0.04804865645921095,-0.011824619733646697,0.10856297743698162,0.1734505257951443,-0.0694974938046559,-0.0732380835783676,-0.07404714980003721,-0.04753413412027951,0.05858907265784755,0.1826795203995659,0.049491663013877314,-0.09846437369695624,0.04640106686516444,-0.08976625096569357,0.0032408551695147655,-0.04099435042497158,-0.03794674264452436,-0.09863843532435913,-0.037213757003429444,0.17046057391401231,-0.18685625620920115,0.24460455755297075,-0.14637178275241403,0.04228701246031461,0.030488219036602888,0.17866582705931,-0.3524052983870601,0.2482647100227941,-0.02248916433221472,-0.050521720677835905,-0.12230520944529247,-0.022959938180178337,-0.6315464489525313,1.0,0.24052534791068447,-0.07494894010136582,0.17267579138318861,0.19065630678416123,0.0005961717331551713,0.014206606329454075,-0.019786462212229832,-0.002263427806064948,-0.014970616187925959,-0.0160036946958759,0.030924045091356548,-0.031655685362321405,0.055757132690823434,-0.03101090972191001,0.05606583786999698,0.004259684355480683,-0.0352028361031636,0.028720515495094252,-0.026233461471021347,0.03760834518875085,0.039612698871253835,0.0113706371565958,0.004889779822241145,0.05191134252683349,0.02864408000346062,-0.06387346133161496,0.004195547818064253,-0.16635533751170598,0.23495817622837697,-0.06994629470046136,0.0828622464365105,0.10050930657446654,0.02013478164343052,-0.3248822232011158,0.16906156502142863,0.04212574865875902,-0.056025917656860456,0.01087085807935672,-0.11055948964238882,-0.43442275108894296,0.48612054010948197,0.2717424953825196,0.04231941547172456,0.18730623052322937,0.09245141744568006,-0.0027242919422658628,0.01750479640372997,0.016055993693171705,-0.03338166050072184,-0.006074766719979334,-0.006626461221984406,0.04302131425999481,0.053394006364285,0.02798833843945044,0.07538428081620098],[0.2917670751364795,-0.014671924032626175,-0.14500425582601748,-0.026563911901826446,-0.07722117865545079,-0.08656781532156593,-0.02267190907032914,-0.012907186610178548,-0.16361117416123389,0.02366589370081564,0.01891248662217383,-0.024941898599199444,-0.015512329894230618,0.01138612767313704,-0.1430893102440862,0.05482510458101485,0.03952230044264567,-0.029476478863721046,0.14972274661121635,0.06039485255521422,-0.022180044148332148,-0.0029496233711986354,0.03303222135898265,-0.021382986491259307,0.015278920748767221,6.49911418625041e-05,-0.011159256628432626,0.004993682019300614,-0.011332193943827847,-0.013236249363849052,0.048548124835878254,0.07013919795766596,-0.0003327407076896226,-0.06216970976058219,-0.007164709331448985,-0.11967513779777386,-0.02787535251693421,0.03647411218154544,0.09893655000674692,0.06574395697866403,-0.04220960506429222,-0.0014049509645877717,-0.05345057082218366,-0.050559008649974965,-0.007807552805922977,0.13355303749489028,0.004016630804608559,-0.006866655253978887,-0.03540023835663188,-0.050610151433854805,0.004159395090579612,0.008072870298502554,0.020694515596583574,-0.08450159108146871,-0.01667631125505457,0.138545148489607,-0.15266236775173933,0.01132628616602087,0.1572010297612587,0.08212485258663467,0.03964660711439504,-0.003883317265136577,-0.20682844866811867,-0.047324374790340545,0.18620373169932639,0.002224823184285967,-0.11063718430921188,-0.05379107905259099,-0.5873975589389705,0.24052534791068447,1.0,-0.06274964609818529,0.2566828318297333,0.046800897672512,0.022316420398474292,-0.009720600280407648,0.028766714655946535,0.09302793189246078,0.04991403516783452,0.06185302676375793,0.03636550563356745,0.11443997135940115,0.05455853087359143,0.06520672572891573,0.054918291353731725,0.0492810135440162,0.029724389438262992,0.043227029661483486,-0.012661104989187514,0.07955350428899406,0.03527272121043149,0.07815951707734214,0.021752136267403504,0.05867000067993661,0.0721600958111237,-0.05534093932979241,0.010314382785642276,-0.19716372736213175,0.10732929283268448,0.15501833707807244,0.08030258001142386,0.06589254878708596,0.0021166386130120757,-0.17686939643014918,-0.05088568934974048,0.0591516189635064,-0.07023891089479778,0.02148617454804745,0.013445444009312713,-0.40565516332015944,0.3917002416406161,0.5789000816510538,-0.2033464684387891,0.1572009831220159,0.12652856655883085,0.046336720061049504,0.037658264053319894,0.11687093869130662,0.045047834488832594,0.0611921144045835,0.12191706990989364,0.04379733055698306,0.1529142736744436,0.10535809655867003,0.1261123165718987],[-0.04686523948321979,-0.06284357494642244,-0.022612369548295153,-0.05625158022624323,-0.06278733070657247,0.005288171033586095,-0.01748120435437163,-0.0148477265682542,-0.023950307947241047,-0.006489700925628128,0.03543570215642564,0.04669575269593785,-0.0027419710703383395,0.012096115737328333,0.04088806422488223,-0.02513544955831074,-0.013573016810564543,-0.013136576513195108,-0.03687168689464173,0.006782977270130467,0.016803745503381304,-0.020052595842096864,-0.02737098389005276,0.00361137633884979,-0.008517008301197167,0.005704683740858174,0.002940794573787704,0.02917497892217664,-0.01092652880122043,-0.041968079472331124,-0.05864430566381641,-0.05007613348636225,0.012950801680807063,-0.01345480593433118,-0.058292037016797575,0.027825972252421283,-0.03823029164900547,-0.07546147168646168,-0.058744622147196224,-0.17109023904817433,0.013234296095483548,0.06840657003754891,0.04377931868596425,0.009600441265042213,0.03975101181555061,-0.026310612271488527,0.0413048309804022,0.04810929198726175,-0.005060527165535668,0.08657435115942788,0.045617164356293684,-0.014104164465980222,0.02303873598664588,0.042417493294555284,-0.009874168851153747,0.015662869140524432,-0.1968894605839204,0.0567138890745912,0.03940492835347279,0.291674777212979,0.097998521005761,-0.08314828666219785,-0.13127323657398438,0.00943393824085912,-0.08653651338257758,0.34901122351153824,-0.04781651300269,-0.03596646844592912,-0.24089501373739922,-0.07494894010136582,-0.06274964609818529,1.0,-0.2061638866726408,-0.041641183776634144,-0.009955238324391569,0.009856913917202914,-0.10231603943880323,-0.039287218134168925,-0.0821868795717537,-0.03478135271451308,-0.002521392348021579,-0.05767701962134704,-0.10256800953489653,-0.07570086181200379,-0.03899182851557642,-0.007971920353639845,-0.02246172031908181,-0.02184770152693641,-0.014313657983441891,-0.021902337646740197,-0.017877369557778862,0.05983081312472547,0.012848309747973186,-0.0348453367645563,0.01650300728355649,-0.0150291942614771,0.06905388923100528,-0.07429053796624963,0.0276739245230681,0.016863766724213,0.2000612246069104,-0.0004552263177362397,-0.07924373684106581,-0.14840226519353755,0.061304502287497946,0.03304643740188303,0.2291193177161669,-0.04688762153865755,-0.008700849127784368,-0.1253799103686134,-0.04384031611602052,-0.0008768083609633246,0.5018583225596671,-0.14935776751274113,-0.013675123670248096,0.06845061360176746,0.00937374485633885,-0.008503477548059921,-0.03424033968907383,-0.04407680209180103,0.0057795853104648355,-0.04090307361304998,-0.029676793182727024,-0.028087760654318814,-0.0580518545124779],[0.36065513248791053,0.037462841086860744,-0.030698458683117956,0.019585268218943123,0.029416294629799854,0.005615239201720909,0.021710622663663443,0.010996839696624959,-0.05646859849262303,-0.008596718497110212,0.016903866815950953,-0.016898989119917298,-0.0031237979006217857,0.0006256408239209204,-0.19829758113938972,0.07666776653303273,0.03724138120790847,-0.02054801913034113,0.20008937240033625,0.08638564587072575,-0.025568053925534285,-0.019018437142849405,0.009323313676689864,-0.019101378910340968,0.011333511684510925,0.015140660963167482,-0.023675599679221098,0.007556932655789563,0.004311215292152019,0.004014748274856053,0.03796672667620326,-0.08872621611578303,-0.03598875400271896,-0.0744185514600199,-0.03588019186326913,-0.04721871551928531,0.020455723800999588,-0.08974798432459707,0.10439103191749526,0.10322168860271169,-0.03286242911940019,-0.1141834502996604,-0.07193837954538396,-0.10267747270509503,-0.002816446983026631,0.09220276003569096,-0.02433178850321609,-0.04246240893383131,-0.037056660900034934,-0.1777842575256584,-0.04093431712978272,-0.07449479818813659,-0.014860220983520628,-0.12430241696159441,-0.07653414611455012,0.07181020374000524,-0.04408645416997753,-0.01735025719911385,-0.11296136549092572,0.06549254686618072,0.07974098419112563,0.075264345195132,-0.16828331526967388,-0.11299008787500125,-0.07898082269378028,-0.05512240726090027,-0.05222746745062321,-0.11246758037734622,-0.5254474485427731,0.17267579138318861,0.2566828318297333,-0.2061638866726408,1.0,0.040813884516655546,0.007403014726387769,-0.055630292800400445,0.0417618540459283,0.12063757459534953,0.08453822743318656,-0.04073259390670659,-0.1413693327252993,0.06318807973573348,0.052378276952789966,-0.023241354551850776,0.05058885167914204,0.035244175298181135,-0.0021509020628161543,0.014824926436137996,0.006067771989800811,0.0048968553461743265,0.032413697900893455,-0.018434072237814198,-0.02734885187521848,0.04402311602935092,0.08294166618098969,-0.022874600423425307,0.048897894588877104,-0.07945605816943752,0.019135339118277025,-0.06702696884525695,-0.03167354559838814,0.0883236017577527,0.12154722940140693,-0.09967762603792357,-0.23602775240537832,-0.22602969627469752,-0.0015810036646346942,-0.05772172862601893,-0.004462991848874687,-0.3613253249726693,0.19270535346749404,0.25407643930263407,-0.24268406288913769,0.6481332533143493,0.024685026069528257,-0.02014082384175133,-0.01172519111409125,0.11641995481539703,0.0205959894246627,0.04334220340694563,-0.03985996259743443,-0.07618920581865578,0.023781254095000634,0.040385691139227915,-0.009403030675366148],[-0.129110671966305,0.025545649589107808,-0.00471023304928999,0.01053234897293905,-0.0218530188118674,-0.05763040384572174,0.004621331292857171,0.008612700228259367,-0.006803570577037645,-0.04076186000702276,0.05046332723686346,-0.013933719271666771,0.048452431389204895,-0.0018523987656976066,-0.036851973278552004,0.005860132117294762,-0.03328125119851492,0.019692163126008737,0.03944543884323243,0.0440162908597329,-0.040853384263231984,0.025696676292662965,0.022545200047248165,-0.05104225108859707,-0.017690907782880894,-0.01508430393732316,-0.04093261360683892,0.0003908626534333518,-0.011866219956182547,-0.05856618391200229,0.05449797009199075,0.08698822250259497,0.00035777759922453776,0.060048159607564086,0.023550970711997743,0.08105276894665157,-0.00180568724616453,-0.001049529453690701,-0.005631815738946868,-0.024772485090004497,-0.03110916137652709,0.03678012156796693,0.07955582867137402,0.07962380137391323,0.06444474159303361,0.0016036655504437535,-0.06058928886573781,0.07179847325174772,0.0519136376791883,0.13027452928842104,0.08660465254767367,0.0846744589270619,0.09902155273975649,-0.031082957330729993,0.10204033184334485,0.023356493255168264,-0.3390632681689033,0.14909067135551618,-0.06319303766863026,-0.04705683864101207,0.1696188238040733,0.44973950642780636,-0.3717231673212523,0.03860008348950027,-0.04526792842985485,-0.1724113718550471,-0.024006400940958728,0.2688934921604862,-0.47096880531718316,0.19065630678416123,0.046800897672512,-0.041641183776634144,0.040813884516655546,1.0,0.05654833792731482,0.09716836658808846,-0.050999290673594,0.054118580364586534,-0.0028379855731582877,0.08389604761239931,0.10929700085912575,0.10111142054239587,-0.07004607620621037,0.03561011261149463,0.012091074398044722,0.054422724865245686,0.040496382445772645,0.012963552244623215,0.0466179886802111,0.03622034666935184,-0.0013088519419863075,0.005023025755612985,-0.01831651775710451,0.0630079679805252,-0.005823570138138958,-0.09572179150737804,-0.026176312056482357,-0.39630690860224865,0.18670541060031748,0.10305241995830937,-0.015220440228491852,0.21923428722202298,0.43100779488248475,-0.3442762192574617,-0.061065118961621305,-0.07858018094223225,-0.12832127763642762,0.03647349540440271,0.14971099979230942,-0.388557187753337,0.15671523435638934,0.1366692458640441,0.042465195450876354,0.08132702506436174,0.5544091675973587,0.06025517612093678,0.15127775560194207,0.11013381304710883,-0.01260201283747793,0.00016708571492364289,0.00400973431382401,0.12119085165570574,0.1174527717861837,-0.01058280818341354,-0.0067622225912565255],[-0.09796435275756199,-0.021498876873396976,0.031454156640218306,-0.008914649888441598,-0.0008431747781740158,-0.056831098798344776,-0.0012844110381040384,-0.006512845936633086,0.03340863162230127,0.03929528992394173,-0.00791669994724046,0.031179464896244978,0.01490526070987983,-0.004392799021805384,-0.0003809713953192999,-0.008885746736771056,-0.013652489453478184,-0.004239239947314768,0.010581460586138097,0.022719194186611075,0.1837778751385773,-0.020332137053616754,-0.022202449851910496,0.07993552374342981,0.028492170388844815,0.08287525580474746,0.08053463569790316,0.012426365296486015,-0.0025022068624980464,0.060620345964933736,0.04777903814147711,-0.12244947443599966,0.040049863093150485,0.023945746608114157,-0.010569104155224569,-0.21569404367996842,-0.1901474865796755,0.014777658881866119,0.1406038894212722,0.07136227127516964,0.24036760571408983,0.17114826668428187,0.07559163489014716,0.08629794450366202,0.04006257854096833,-0.016128413678903008,0.12917501986697386,0.029683441433039245,0.0008924451122334445,-0.0022876320776536556,-0.030413131842841095,-0.015919622985390194,0.1132863960416005,0.14911411517757037,0.1501326995544076,0.10857456091742465,0.17203397258320177,-0.2060198471289607,-0.04506231899489408,-0.02408413238692376,0.09295491169643354,-0.12671190536846916,0.02066738511639051,-0.12631219910734257,-0.030276564701106,-0.1125696761394392,-0.007696934227872064,-0.14696081304840683,-0.035325958455139,0.0005961717331551713,0.022316420398474292,-0.009955238324391569,0.007403014726387769,0.05654833792731482,1.0,0.1580722419125941,0.43441860694320805,0.36916580963575113,0.30728964708620415,0.8522655047905355,0.15210097149781693,0.2634281828246638,0.3404946813144884,0.26419717063330517,-0.02180012619982006,0.09341758263157052,0.10617269158042564,0.032818252460016246,0.11347222397363615,0.05456693149798833,0.030731834311620333,0.27158681462582396,0.0018886043299683399,0.22357377640408355,-0.01610939266142701,0.06394016942938888,0.010115701858914458,0.13780224145629566,-0.15588781297115992,-0.03946765014289742,-0.051154014522107216,0.015588479590686617,-0.07173556200939049,-0.014904265398034074,-0.058932182006503235,-0.012519343213468712,-0.10790622477098552,-0.043464749715880394,-0.06936184029860709,0.06670370787655454,-0.02313005113519612,0.0324699892609297,-0.047764923632639934,-0.10182981154580577,-0.010261014127050189,0.7823227153992357,0.17378809764178546,0.33538998131415954,0.39764091903390614,0.2934796163245578,0.7251176544761866,0.23614992037682686,0.20490041218625257,0.3283352254699631,0.24309851810177058],[-0.11258459368013633,0.039220492274881724,0.08015893590975325,0.0415600223281432,-0.037171896746302974,-0.12476057827368138,0.0043168274943465364,0.013981722538233697,0.08022413489260975,-0.004964631125247917,0.036575032348445675,-0.02251748000210467,0.02106163113731221,0.01600470671861598,0.006873669841808186,0.00367237681902817,-0.003513660527281873,-0.008087765959434709,-0.013344149716063696,0.01248713096797674,-0.010698533139914704,0.00200084282187156,-0.016244461052730957,-0.04513240717183815,-0.031089968185847326,-0.021807746235453073,-0.016329486997327048,-0.01902773644255032,0.002599648747095382,-0.027027845808757917,0.015383214069371683,0.08099605804441987,0.054794044257227906,0.11037121745371306,0.05780668029710821,0.10561047526303441,0.04930258001685658,-0.020852268860766285,0.047347004729836384,0.07094680626650919,0.04364198339537987,0.12230347809844286,0.1212721099469487,0.08571249306403987,0.0992444234006374,0.012402960214530752,-0.030539333800808626,0.15955688638721824,0.11044331471663142,0.17907318810796943,0.11739268896041455,0.13874304067066281,0.12042981127803795,-0.011034274516824191,0.06827245414765576,0.02183752580210253,-0.17274356891372533,0.3286726814496506,-0.04772463595486512,-0.08352711234790228,0.032345815474519146,0.05574177195200767,-0.03371754955585724,0.03163076936286371,-0.036801075095731266,0.00624085231233459,0.05182714897376764,-0.018433380595495995,-0.025846929397931317,0.014206606329454075,-0.009720600280407648,0.009856913917202914,-0.055630292800400445,0.09716836658808846,0.1580722419125941,1.0,0.1891685298152795,0.23907700777083365,0.17493988255903867,0.14208719094145894,0.621794952181253,0.250319711570857,0.07381237872123762,0.2424001889472014,0.02459368964563143,0.12098083240622998,0.12646631541043687,0.0604691450932689,0.1252992903110135,0.03147069685205973,0.05540846143130972,0.08234882026197515,-0.05479968555569706,-0.05224230584155504,0.05216984563433779,0.031109120392928263,-0.020794053109205485,-0.17267253792434234,0.2625337345865382,0.011448024084345114,0.014199888115149604,0.03323241669296723,0.0645748365482404,-0.04416484736144851,0.04500446559536064,-0.05248838626439529,0.005196572971643576,0.04419503565996154,0.03371753591813639,0.015803797772666266,-0.00638385722497537,-0.020514120832478545,0.0801117489172419,-0.07958195441134268,-0.01693444613521005,0.08532426680171576,0.6347516963555399,0.20146606418635263,0.1904621346980404,0.17598148908827893,0.08771141915584092,0.4335256709660745,0.1107969216468405,0.07004309285800489,0.13691897606643544],[-0.12476598892010993,0.0064326973459164286,0.04132961563189849,0.004072679240732477,-0.056843210486566355,-0.1259891888183196,-0.01274648857385531,-0.008545495312981776,0.04720664104157714,0.04622245887699456,-0.030204271426998757,-0.030473876529091982,0.0026635977565964766,0.01761707105307246,0.03774082511896889,-0.017399783943942874,-0.020828128111435945,0.011311731716132443,-0.03725718442396915,0.0030210653297384937,0.1291098801295248,0.01970621893310745,-0.020918904094094914,0.15037997697795996,0.02634963914941159,0.07743350799094385,0.09222576703423785,0.039183233727030226,-0.033721626355040536,-0.06959905378377425,-0.012085289378166797,-0.030746434616763185,0.026804595374907952,0.05941717445668949,-0.04452694818986847,-0.1610215286452411,-0.26739831458887137,0.049787316302816964,0.16251841944320364,0.17616723239834775,0.138147468080087,0.26501070970810636,0.08014400549165712,0.1331834071775861,-0.005577472276654891,0.08185281821293781,0.20043486867301555,0.0014136421690465314,0.08077379480022893,0.0636367798476271,0.04602622908634266,0.0984052206315767,0.21050050220947605,0.24856560272067077,0.11973548966715424,0.1642559996905655,0.08259285574581422,-0.14306265702286938,-0.19472277294829027,0.21314979932280867,0.10547835591996725,-0.10407086188462603,0.05936249036573938,-0.08047109635074234,0.020137550012917976,0.007028473242923256,0.05214621553863605,-0.13146209772110215,0.04024589185981875,-0.019786462212229832,0.028766714655946535,-0.10231603943880323,0.0417618540459283,-0.050999290673594,0.43441860694320805,0.1891685298152795,1.0,0.2705972528617271,0.3460075640591671,0.38716674159684344,0.13648616256901178,0.19125318531126972,0.7894896912874251,0.3528724535084862,0.03537457899280235,0.13663511660363273,0.141500489639716,0.1159629796134028,0.16124739231013185,0.11316645853601086,0.08535017211331698,0.21768118174763762,-0.011264185934180354,0.1842761937969473,0.032404687508390324,0.04786646790080947,0.054984031095127485,0.024587549434479623,-0.0790695508922126,-0.0979195038155933,0.187386171143568,0.03372550563377811,-0.07727507261599366,0.08425459825782632,-0.018339684631834784,-0.04305620972028907,0.01401433468812786,-0.021542903109458385,-0.10410555186156711,0.040762873537222535,0.05542434422742154,0.009613293782123658,-0.11212091374605908,-0.0037159483088283654,-0.04955990068242966,0.3737599269994733,0.19079473578536643,0.21358382298381906,0.7620254070040577,0.3393336487607538,0.33466820041720247,0.21209160142537917,0.13770644697422169,0.6171184942814099,0.2960648345124796],[0.06697159366478286,0.03663223181118226,-0.0200342258145627,0.05483692597549553,0.027915637382616966,-0.046547611439183546,0.024282799830424907,0.021032625640039302,-0.028808110469323304,0.000935287617438074,0.012301761808087997,0.027440308049072493,0.005677386863252397,-0.015240396250646873,-0.07123319990779643,0.011530856380061077,0.01687344462441333,-0.02561355118876483,0.094433043165455,0.05079442506356914,-0.034621119756029856,-0.03437796162948465,0.021101872813313705,-0.02771073888282821,0.027890961115692538,0.006886954201638198,-0.0281955716717964,-0.01655108590498283,-0.022685130495078903,-0.015483240760962625,-0.08322578451608278,-0.0582693492469022,0.07682473875460895,0.08098008364210614,0.09756533295316905,-0.156515045193896,-0.08842819155119357,-0.1067266199433117,0.11400865124589019,0.07065720599373641,0.08308439645872112,0.15906480833707473,0.0587928353728341,0.03018515014872635,-0.010979549100801046,0.05988161462578536,-0.0054109707461283685,0.13706046968594504,-0.00845919113424645,-0.03485682264097972,0.012557690441015953,-0.04212443363472552,0.029222457582760052,-0.010504212637337767,0.0030876202892980427,0.03308797948728052,0.004212009004660111,-0.1221672495820199,0.1003355780022409,-0.06521974595609918,0.013362888053285858,0.05012890222476223,-0.078802421098857,-0.04383504149512357,-0.050897885126882425,-0.10467858124113305,-0.03340087858768496,-0.09458775320043948,-0.10087896638973834,-0.002263427806064948,0.09302793189246078,-0.039287218134168925,0.12063757459534953,0.054118580364586534,0.36916580963575113,0.23907700777083365,0.2705972528617271,1.0,0.3461851311092079,0.2677530642780337,0.27226806608224,0.6928791598385234,0.18064160022808984,0.31904374268849567,0.05366820332403692,0.10599459519281007,0.10955585866908972,0.049121196199854465,0.08005421058203914,0.04196493255476565,0.05869981613366274,0.09385178482480754,-0.008773927078195142,0.07006559108865261,0.04651165287798063,-0.025477473506798045,-0.021205485872814758,-0.046045810404229205,-0.05312233697779518,0.09162699764408025,-0.0840272018632877,0.03703092790715846,0.05634282365943965,-0.06973297856739084,-0.10758388377535728,-0.2219848555602657,-0.026705678646630197,-0.04029983850660818,-0.03914906595823115,-0.12459793827095726,0.0786150128636659,0.1967650613481683,-0.04664378078079774,0.10489167997767916,-0.014570375446799707,0.3050303846638099,0.22862985143012005,0.7012217273237034,0.16086989326783568,0.3165623325395109,0.1888784218573713,0.22201596511748933,0.4031779623256189,0.1242401419550685,0.24684040275323843],[-0.0279992517792684,-0.026106449604591127,0.06698236393048881,0.009212596638297831,0.047542850974056375,-0.004873281170275486,0.006092213618629508,0.00143152891734115,0.06813654707000805,0.006362837285634267,-0.02510077172414956,-0.038367079345226526,0.0074123823398473225,0.01316282607633739,-0.020660763357839288,0.011969139524935913,-0.020912112662170534,0.007101458807571797,0.019328818804123144,0.03595589304118117,0.05037092716084059,-0.010612350306530575,-0.024559828912004915,0.03625543227541836,0.04815846825696162,0.018267564970358842,0.01611860920648164,0.021188812454473172,-0.011822820964896863,-0.05943710557540193,0.02288703573699629,-0.02747072610767779,0.1241179383618451,0.04123271026561443,-0.02323130848843065,-0.17245843581057432,-0.15957104755506568,0.09885631994474905,0.14848181827871687,0.08847055814169721,0.15276859353458005,0.19116577346107644,0.04290157332596136,0.07678661884473764,0.02652774157270049,0.1211852228707835,0.13692946672187153,0.05376789004536943,0.08638171696136535,0.09980101481303306,0.06823117638605725,0.05152547924724969,0.15028872886899558,0.19231246302779473,0.13214442472382767,0.08985824191189136,0.06757736381217257,-0.20254254235452368,-0.07870525404622478,-0.07787036797155869,0.32562283473644377,-0.056695764303161984,0.016155210283499966,-0.025404537212746738,-0.006948531710870973,-0.019347398811435795,-0.0525741474303326,-0.09828749336329638,-0.016388970749387523,-0.014970616187925959,0.04991403516783452,-0.0821868795717537,0.08453822743318656,-0.0028379855731582877,0.30728964708620415,0.17493988255903867,0.3460075640591671,0.3461851311092079,1.0,0.2148474407451617,0.1398249288832809,0.32260056234956164,0.2184817721460094,0.6012313569714032,0.009975969588812113,0.0829127524616004,0.10185806741177565,0.05604238434843293,0.1153649157692367,0.06068610591291222,0.025610305497428106,0.08509007215895818,-0.021678819153778787,0.08227441517119585,-0.003140372252866667,-0.002182213815108818,0.0046357821251998685,0.022013905177712317,-0.16318652580910828,-0.03686283508606201,-0.058310213704345776,0.2553664571627282,-0.058107432830304354,0.07604420576198952,-0.12191015815261481,-0.07124663183161746,-0.011400118504533029,-0.08891921110599701,-0.05814525332937375,0.017454443845109226,-0.032678759138416495,0.1413803708116214,-0.079730251948666,0.0002492208196671835,-0.054231883665398876,0.2630667286426718,0.11073569056980537,0.26881048287995,0.24042400766489017,0.7819245195800497,0.14621122624249336,0.03678133669468465,0.11002140060417864,0.17055876697952715,0.4491263566926597],[-0.054282117482892966,-0.001470732840025439,0.040484887381287395,0.015923433160206793,0.0010342355900960715,-0.0005887419268523823,0.003969166853476903,0.005443009553527084,0.04389463917059375,0.007505401788083341,-0.04793722285290123,-0.04057194940558352,0.0010176403720128986,0.0066893489529193965,0.027832944777763522,-0.040205662565955085,0.0009879358040361427,-0.01482427650232638,-0.0065585903246130495,0.010899463479475895,0.16850250446425186,-0.020993523376410805,-0.028904668932477246,0.056597454207718674,0.012078402478770406,0.05605536018344874,0.05381370151413776,-0.00030477844510514866,0.04117644063952328,0.03186093750941477,0.007361529574961632,-0.07833794599230193,0.09092673257354386,-0.006677154565239214,0.05300424000550586,-0.1576399344055752,-0.17342663737637115,0.049312816300325094,0.14025602425258152,0.10692956684729206,0.16808804950867676,0.1655052796828975,0.09972467013484683,0.08817263426318862,-0.016378261003086137,-0.07176570522007882,0.0716871509087992,-0.006048670697906775,0.008456696728407515,-0.04061392168878356,-0.04931730382303097,-0.016498496755105164,0.07068768376523919,0.1185417927022506,0.08823481680870422,0.13666338857579416,0.215575626756819,-0.20896199635921522,0.01780241725666318,0.031242973043481413,-0.016901001332435998,-0.18691650390905226,0.12462876764717237,-0.11422643157981903,-0.019616323045108665,-0.015316287397488578,-0.007086443946350562,-0.10351399328437048,-0.017082700794058898,-0.0160036946958759,0.06185302676375793,-0.03478135271451308,-0.04073259390670659,0.08389604761239931,0.8522655047905355,0.14208719094145894,0.38716674159684344,0.2677530642780337,0.2148474407451617,1.0,0.15256716750088486,0.2916204902666667,0.3917676876084193,0.34408592625616097,-0.05828642889469069,0.06914624079947114,0.04348988105342708,-0.02309993097589027,0.05578695158810279,-0.014860286650661763,-0.01207472760704859,0.20362413768245738,-0.02369594838838892,0.12659330612398179,-0.05780767349919547,0.04979692648958484,0.011946168508032838,0.22219083755921995,-0.18835544260959214,0.01153896012097794,-0.03461956477767687,-0.12864930671576807,-0.14736069747786482,0.0956567921948479,-0.034855969631121565,-0.03841125297160214,-0.03471972378651561,-0.06485624405087108,-0.024702650709310416,0.11781155092055247,-0.062070855808422996,-0.015546984031106449,-0.014895128163032892,-0.1581990844720117,-0.0013990034773012632,0.7013412573471635,0.1985256546906355,0.30443466955577875,0.38500442739843627,0.204193469284174,0.7623149713607729,0.2057062753347907,0.2166832094296449,0.3490931861881576,0.2712158419010115],[-0.12005485571552516,-0.024573222864822143,0.05278389915116774,-0.029875394200159878,-0.09000411150290843,-0.11360433931600662,-0.012479255269923073,-0.015565977343042669,0.058007914721736366,0.00449825822568108,0.005839186226935158,-0.02499787074669824,0.011813890224571178,0.02175963713474018,0.04398344046812246,-0.02389003293829444,-0.0025228271779397264,-0.009759995061188001,-0.05443465723169645,-0.003302888236739965,-0.02166793256680616,0.020513243480719482,-0.012419664191845065,-0.009870701863719196,-0.02625786707679537,0.0030016199626080684,-0.0022198811407902514,-0.001672413520729035,0.031388254134137226,0.054914330198600696,0.012432735721180404,0.11329658962358057,0.02010389705024374,0.116078566884096,0.059797447676938745,0.04598683778291165,0.059392967250491764,-0.07616232112760957,0.10168859844666325,0.1843782393091431,0.1323692896800623,0.17623581686380912,0.20229119485384212,0.13163267543673338,0.03552516574915925,-0.012183702097753265,-0.10000245062948178,0.17195275398438412,0.1504980954333337,0.23810922408401639,0.16061262703243737,0.19372700303023807,0.11439705707730094,0.01622953809688316,0.13030292752543182,0.03423095568500934,-0.19098198351090706,0.21841325213786966,0.10173620445873649,-0.006623947055648461,-0.06295365641061647,0.04802745510683538,-0.08061077115449408,0.05187414639872194,0.018971207944978787,0.03103400540359723,0.0442787422551066,0.016360225612506704,-0.006808001373684335,0.030924045091356548,0.03636550563356745,-0.002521392348021579,-0.1413693327252993,0.10929700085912575,0.15210097149781693,0.621794952181253,0.13648616256901178,0.27226806608224,0.1398249288832809,0.15256716750088486,1.0,0.41089811077208244,0.18828709139434707,0.24804177325791607,0.012487528905936105,0.14162934870625618,0.15455643018435875,0.06563558440589155,0.1304478935909302,0.05381323743500775,0.07922626946313142,0.051260989891130225,-0.05884664642059235,-0.08102742764373541,-0.002121397432703517,0.018100679213527,-0.003700817824420541,-0.1532890702547164,0.22871498770213827,0.062364332840719544,-0.0015997829427376903,-0.07381603767328197,0.047844392167882555,-0.06374780201608822,0.03419018547069503,-0.06594661691616982,0.07359792325225975,0.0004462033708948054,0.05513698207246439,0.06936032353028428,0.00017340811978478447,-0.07102614823291983,0.03861919417255324,-0.12507439340875323,-0.02679998293571567,0.025766585632532278,0.47557951505982343,0.24008066260634503,0.17784985930476913,0.11681370202730632,0.08409653746622987,0.5765607104904129,0.26903332668992624,0.180650879878705,0.19582940438045776],[0.0333991361145133,0.03705575507336203,0.004592054678989532,0.062049394956927933,-0.0153840259804415,-0.044830598691681926,0.023664782263185198,0.02485073770254877,-0.0042557882119448965,-0.0017739646481371208,0.028923299686648914,-0.01771599736852503,-0.010746187364364486,-0.01761488858037751,-0.033367797021398596,0.015869661454100584,0.047459291779991135,-0.03690848610279944,0.013333925031888422,0.026785769210473487,-0.04429770882184105,-0.04605718696008148,0.003830120899438006,-0.03481762428379634,-0.01932460809181534,0.0013809380349986554,-0.036077891458085286,-0.03555512045660769,0.007156443201671785,0.02933760594636445,-0.07171126446399913,-0.08194633634861596,0.05363938222223547,0.1241982903577213,0.13734350451916885,-0.09924128032270792,-0.09509601696054787,0.019882374174446094,0.12450424154902559,0.045057727493080284,0.013424713796469225,0.08195516252340734,0.054684771126529245,0.032290257545246795,-0.06172898011475245,-0.02351909489281917,-0.07170895360985179,0.09657098569697334,-0.014110893529434712,0.016101842973206194,0.0076761416089422595,0.0408082509145948,0.009518672027462139,-0.07829555131763896,0.0895317505246852,0.012480245892684965,0.008042844876801935,-0.10865738109690008,0.1560534954148628,-0.04271510541919815,-0.0783883357410786,0.03213173798690358,0.03271782101861312,-0.02399472480955149,-0.02975638551315557,-0.01997234076514123,0.047419269094074665,-0.045768857214113945,-0.07531947054527059,-0.031655685362321405,0.11443997135940115,-0.05767701962134704,0.06318807973573348,0.10111142054239587,0.2634281828246638,0.250319711570857,0.19125318531126972,0.6928791598385234,0.32260056234956164,0.2916204902666667,0.41089811077208244,1.0,0.2219437464046372,0.4791935874258048,0.03784213648911228,0.11618361357105862,0.09637756120216351,0.028379195109352027,0.08324950416873693,0.029492908053373092,0.04740154103178332,0.0112716354874658,-0.047753776157604906,0.015496022950397672,-0.023650899810238483,-0.048282532326452444,0.004993726286388983,-0.014662555275417807,-0.039642441537364376,0.09640091048975077,-0.0773076708313383,-0.07457827775278748,0.021254240609744724,0.008101905820611582,-0.06158205697242757,-0.15371000808000052,0.08045089853024757,-0.008168705032678955,0.0831402850239815,0.01588610456330006,-0.008628930741683595,0.09728568427403986,-0.034974123997683196,-0.030095167244975518,-0.054652484112418104,0.187337545191576,0.27304146041501837,0.5712228611194147,0.18715916320691986,0.3279108426181192,0.20214765623961486,0.3569898535240308,0.48125787559685135,0.1856765376809808,0.2916286227946598],[-0.04699666154004558,0.07179082284847627,0.10568055981122705,0.026465035921767886,-0.054398201147349744,-0.08420650518401047,-0.002722794813659141,0.013201122535649042,0.11608795936714428,0.028767634771560503,-0.09112259825303594,-0.030603110575916182,0.0026394937055241653,0.009334717667852942,0.027521605304775605,-0.02051892271938634,-0.014937145654338273,0.0081333990210003,-0.03166855315880465,0.0010330832330343754,0.11052136684878396,0.020983339116474792,-0.028990055239070396,0.14722233221445832,0.017269291617030696,0.08128888320587764,0.07539799025310541,0.0330194430128168,-0.013534400104709271,-0.09180196643140374,-0.039929855357573436,-0.03446347737288428,0.15491259487465087,0.08893211571610543,-0.03540551013553975,-0.11303951737179598,-0.23280097266753408,0.022139347371361296,0.22623618040418753,0.2665479709516905,0.1554058304098083,0.225140594077052,0.10324347053204223,0.15833621795941605,-0.04054456542395375,0.039675843489112614,0.07278512152761973,-0.0791926283158121,0.19118846917040477,0.039694773322844865,-0.02805283139397367,0.05134777248553572,0.11624921699595833,0.23158283318574208,0.12348550603946756,0.1782873413237498,0.10719928561923012,-0.17960683520995518,-0.19416387110711295,0.26124550800504936,0.06641320228793204,-0.09967212842038845,0.07403983375502762,-0.06733070195114658,-0.017849464245047443,0.017301261765314067,0.0833768596505112,-0.1528210512907331,0.009575855768440545,0.055757132690823434,0.05455853087359143,-0.10256800953489653,0.052378276952789966,-0.07004607620621037,0.3404946813144884,0.07381237872123762,0.7894896912874251,0.18064160022808984,0.2184817721460094,0.3917676876084193,0.18828709139434707,0.2219437464046372,1.0,0.37115423516048984,0.008424135508869854,0.13095730658079777,0.11481932175039061,0.10928175434176182,0.1277930471527158,0.060736053513288105,0.031609065156976174,0.15771600039037234,0.0460977044727408,0.1537900315965485,0.0688196988036586,0.08445105136640489,0.08500134733411731,0.11649295534501036,-0.08191483145725749,-0.12032569096333953,0.17996247040527444,-0.07156906566977496,-0.13468981392698023,0.08296896647156637,0.05363771909706961,-0.05355469767855611,0.015642207311945107,-0.02125849721314776,-0.1881938856377242,0.08313633742452849,0.025009773547811726,-0.07143591719828342,-0.04774000805313984,0.0026372940366016034,-0.1194972902191417,0.28336556627423903,0.20158944106589868,0.19112979974738198,0.742719857136251,0.2131509382847461,0.34691793456763376,0.2868577209200679,0.16711475703478423,0.7154105083390724,0.2863955835128021],[-0.06850508964875114,-0.0010892892905600535,-0.06605477313723444,0.001292557099655617,-0.011484968170559707,-0.05693552316872158,-0.00795696726112438,0.008483012261215894,-0.05714359362359643,0.013547618532621196,-0.00781493854186409,-0.020326914859704743,0.009526300366524859,-0.007050075234872095,-0.008198334358066292,-0.00564164621564682,0.01059672302424918,0.0069516429618527295,-0.002449102701782195,0.01072532646419059,0.03287266884585354,-0.01474221255522818,-0.014967561890974694,0.04552412096858188,0.04132897826350739,0.05391712589873498,0.028038777480279498,0.013821271922435374,0.0011709926343150452,-0.016404578594612616,0.038383679486275545,-0.009523991263595745,0.1448963200016671,0.11158752866019424,0.03063610834907487,-0.10542649480751079,-0.18834622466846498,0.1027804115601569,0.14518338670738998,0.11437735856316696,0.15631437038634974,0.15057459454534133,0.07698690113657919,0.08551810419874378,0.02064076297170756,-0.043678372360968186,0.02716339840655971,0.05621492535605002,0.08145062720758749,0.09570054276465753,0.023274507272590658,0.025869646814730345,0.06881643244966207,0.08661247845630568,0.19189480603525408,0.08742875149260124,0.04872493247632996,-0.1281000733825651,-0.0017453787709367174,-0.02752236059192948,0.16080341161981923,-0.0497992032550783,0.049654864084463325,-0.0696689661916138,0.013892853814030414,0.016759473053494234,0.03786389695966706,-0.07824746085250049,0.018450331452429615,-0.03101090972191001,0.06520672572891573,-0.07570086181200379,-0.023241354551850776,0.03561011261149463,0.26419717063330517,0.2424001889472014,0.3528724535084862,0.31904374268849567,0.6012313569714032,0.34408592625616097,0.24804177325791607,0.4791935874258048,0.37115423516048984,1.0,0.008018752150861045,0.06849795052736585,0.08075903666827006,0.03293926542476625,0.1093706765114416,0.06432060193740789,-0.010210480416281231,0.06309814446733526,0.03609914642468381,0.0684532472261072,0.033709273172334485,0.05867821659484827,0.013449173685504037,0.0013465697911419921,-0.06428360950909444,0.07330337226184314,0.051536038325990505,0.08175887763096282,-0.132562200195768,0.10864813090756324,-0.13345940791297134,-0.11812357967208549,0.05504750544235429,-0.015955432359247672,-0.11183580118638188,0.06269997330095803,-0.0820692634281168,0.14205699397234595,-0.025867318243964873,-0.08081085535084917,-0.08765388479432093,0.198214851817927,0.1498117438956859,0.2513089152390893,0.32855123353237026,0.5514318357056265,0.23516220422479364,0.1891763819304457,0.1934160878662362,0.28402509129202747,0.4904214176128502],[0.15059101599955865,0.0012572633988715172,-0.02199642438115154,-0.03013578177957862,-0.01745766700633505,-0.041889768503399295,-0.015683950210962524,0.04466933091290756,-0.02631233637907778,0.26958303381639215,0.01783046185241038,0.02681018371847411,-0.0570124947057867,-0.08673202540798823,0.04908990215857081,-0.09036316798752038,-0.021874570172836977,0.05733621270226357,0.06222621851691881,-0.08739246542195954,-0.04686699483604568,0.08535476794598638,0.0857360782284974,0.04423618641679347,0.06254203451195879,0.0732699240046668,0.04738951171700888,0.16041867764032364,-0.08340582846053374,0.0585401661370464,-0.030646672000607684,-0.01066261335127,-0.05191679454331361,-0.05993593229310623,0.03649754819043272,-0.007377752467285739,0.03925222892161414,-0.07462796504846686,0.02887310609093962,0.021728613931227766,-0.036367468658536545,-0.009646182718042084,0.00832914316243103,0.014375606006564004,0.04504028851502062,0.07360703780198712,-0.014421753309795877,0.04915587797942567,0.013902226282895837,0.01083274272189988,-0.02022626162091645,0.0009117451532951787,-0.000723274919028288,-0.032293052646284605,-0.007393514135878704,0.09801736853631418,0.04635688695096328,0.00022481797469170998,-0.05303598786197668,-0.004241260083464424,-0.038251052105000134,-0.01787013318059434,-0.044457387308076295,-0.026076425359564965,0.020761345353825792,-0.044671121978414274,0.010066502877796773,0.025051101870694058,-0.059525589498457716,0.05606583786999698,0.054918291353731725,-0.03899182851557642,0.05058885167914204,0.012091074398044722,-0.02180012619982006,0.02459368964563143,0.03537457899280235,0.05366820332403692,0.009975969588812113,-0.05828642889469069,0.012487528905936105,0.03784213648911228,0.008424135508869854,0.008018752150861045,1.0,0.4010627293872103,0.3839617682702112,0.5880641615426297,0.3449748714560094,0.4754187698483837,0.6674246537071036,0.25780578294268175,0.005415168464000685,0.12764187837257499,0.28357039759373553,-0.030802966676851493,0.010880521633248286,-0.022419672013181943,0.023876668518158246,-0.00968107847504729,-0.01919200898063702,-0.011001693219384311,0.03768619978159797,-0.03660817217832613,0.00999582094978709,-0.06396470041710342,-0.03419460851552601,0.05266627510039692,-0.0011518649310392594,-0.10905806184580129,0.11492877489883924,0.08085636548333332,-0.043293250145609245,0.102216644152411,0.00938219555370564,-0.03286319820795179,0.03877300449420977,0.05825309879209853,0.011818593912420646,-0.0009816312595849962,-0.042122958988641566,0.06619006690577553,0.03722371798138922,0.02210870361877423,-0.003095941329555468],[0.052212790040121186,-0.035045524434899146,-0.04515175453484537,-0.06554369735874958,-0.037132971786183806,-0.08190371245256296,-0.10904530624615723,-0.011618816958194177,-0.04497923743767679,0.1713291992840446,0.02528897721865162,0.011800026543587552,-0.00658860966672505,0.03231328060777451,-0.02877371686803784,0.03483416178898796,-0.04982413179701389,0.009218180086356562,0.04687923354602806,0.027378905940143958,0.09223580584713126,0.07558560950916987,0.07773205121354762,0.12210911814732801,0.08619855371943935,0.1142635262765846,0.12670108120336943,0.08125704217408844,-0.04302137504749721,0.01986914217734655,-0.03241452996465334,-0.0594140220291459,0.03137817380083921,0.013307980943419354,0.045935469921068735,-0.03834984286424734,-0.012594539316136463,-0.09636732152271983,0.04801738843848058,0.05061114358294918,0.039915555918116935,0.06365268964190104,0.0671138170297276,0.07628129101182332,-0.023019248352726455,0.0009610667986991375,-0.021712249496700337,0.11592268498673404,0.1007625786227815,0.08313950005318353,0.04632912391969398,0.019088876449841075,0.07237716256376509,0.038832111230040905,-0.006586106810818032,0.05266700899005334,0.016794492903861757,-0.014823858049444855,-0.06358478089282475,0.010229974762299246,0.04809892282756431,-0.03390116030465198,-0.06820592056067896,-0.039439363564243254,-0.004638885983863032,-0.04463784293475407,0.05021975286458491,-0.0016514182344263982,-0.0578169271775477,0.004259684355480683,0.0492810135440162,-0.007971920353639845,0.035244175298181135,0.054422724865245686,0.09341758263157052,0.12098083240622998,0.13663511660363273,0.10599459519281007,0.0829127524616004,0.06914624079947114,0.14162934870625618,0.11618361357105862,0.13095730658079777,0.06849795052736585,0.4010627293872103,1.0,0.6627311789439394,0.4920487780550318,0.45898467112380364,0.3916099820835109,0.514959980017621,0.31165205902763105,0.05258667429503576,0.09843002488409948,0.19263268578999154,0.038486283004718125,0.06055749352619776,-0.039810786679806906,0.03385001237834807,0.006526772427635537,0.02483708188058358,0.0019013241002315783,0.003221584216459801,-0.08127609971650025,0.021087067354051896,-0.029461497631193635,-0.04247794963805328,0.0761411685394872,-0.0001837233228758069,-0.07167467866607186,0.09991694092841212,0.058581076318088,-0.04279733788125939,0.05596703058228057,-0.0015208355909013668,0.09173038510293266,0.15587685306165652,0.1535711269001914,0.17314740707786852,0.0762610417758596,0.08206967744313977,0.19756895615375122,0.10782437971777215,0.18621657974254116,0.034440131797379724],[-0.056286428261956054,-0.013139930364632435,-0.042711898521825574,-0.04973108531159817,-0.026029968802099342,-0.0940418014048294,-0.07099674094566719,-0.030061121620851058,-0.03982165344214006,0.1746433806948475,0.05774993902467256,0.012968479602541954,0.023096948532840587,0.028183864099310625,-0.00805518259635534,0.0023034957707425137,-0.0031340417978595403,-0.016982009498019788,-0.006762520650283121,0.034765361941477044,0.08816518441672182,0.06637802359135685,0.0551026058711343,0.10639430000591454,0.041711472321397526,0.10179893349031663,0.12327907805696543,0.06185052054442356,-0.07601563725658149,0.022178283368639598,-0.02323164274687084,-0.07167825168267468,0.006381919925152103,0.031278608405327556,0.060399715234893944,-0.029821088483419862,-0.0015021974589272962,-0.060779856857926334,0.04213215931406321,0.038128684453282456,0.0652883176555346,0.07032387365452829,0.09132241635685827,0.08289886743318119,0.016973866073892348,-0.03587991384204606,0.024494175712177307,0.15578198235082996,0.09693970121959908,0.1208468949446123,0.059386486949213224,0.05451659291591371,0.09540101550675449,0.06012972172671838,0.037927042036094386,0.06367518743025678,-0.0067134860225683225,0.02141013083992488,-0.05182044506125263,-0.013310185725567313,0.0802020799720921,-0.04540627116915084,-0.06143253204639295,-0.049406621527050526,0.014156271065281034,-0.057569793808083095,0.06745791050468267,-0.010257280269739676,-0.0033158211746687947,-0.0352028361031636,0.029724389438262992,-0.02246172031908181,-0.0021509020628161543,0.040496382445772645,0.10617269158042564,0.12646631541043687,0.141500489639716,0.10955585866908972,0.10185806741177565,0.04348988105342708,0.15455643018435875,0.09637756120216351,0.11481932175039061,0.08075903666827006,0.3839617682702112,0.6627311789439394,1.0,0.48820953293918745,0.6262828435205788,0.38605441188201234,0.5067204259214607,0.25594810193599,0.03709042216981565,0.0865305622208234,0.19558663934626996,0.037000986197649036,0.06535072713790174,-0.05913524633821818,0.06206510280751759,-0.002782454897821639,-0.016477197303198937,0.031065795135654696,0.036669451826822824,-0.06608153246704075,0.005308311375646483,-0.026774328289546196,-0.08152909982813235,0.09252637767962711,0.017845897305626423,-0.01937944217674038,0.05110022327443676,0.041693815187351525,-0.0702995466421622,-0.002066811842150822,0.023983811399743055,0.0980699219579369,0.14515259756987783,0.13906950158177914,0.15876259546702143,0.08560939130357699,0.05891433197618416,0.1932974078698806,0.08981859926768707,0.16648480115135886,0.056122007797316104],[0.0677241529290732,-0.02916140561919075,-0.0006915389140979675,-0.06271879412473622,-0.0077396596972381625,-0.05595528082205782,-0.04984024393388221,0.031848391060916144,-0.0010952450179428895,0.27329375276878587,0.013506978617198835,0.002894619846388328,-0.05604157926931098,-0.04883193721996185,0.027176562524361295,-0.06538388021963012,-0.03274673547425046,0.07347026565000778,0.0463393116164649,-0.06442402628468996,0.0455299167944273,0.11751150664644236,0.11218529306469033,0.1465000740812461,0.09315127254021097,0.13365273139920716,0.11949036421435867,0.1617348474889632,-0.09866604032445321,0.007427185307196699,-0.045292515395283936,-0.011591983630466674,-0.01916920405727807,-0.04526017624285706,0.006082382808960145,-0.019715847306605354,0.026299557391579114,-0.06144208406109135,0.056788452015055065,0.054563498553707075,0.011519471207642617,0.0511917144080586,0.05830207646437085,0.06046994637689087,0.0022072405183060397,0.06031316202774142,0.04895778195042614,0.06615584504792019,0.06625609802087201,0.048292901247211806,0.03499548201377853,0.06985129818869112,0.08328966247481705,0.06552400196125079,0.0054388849337182335,0.11186680694551335,0.04702284015246402,0.002159397675943189,-0.08325353977423718,-0.015628200952414118,0.015116371292656961,-0.02665658848867577,-0.02711076581761885,-0.02085281543993005,0.024010943104109575,-0.02695824170831787,0.012344545229579234,-0.010554217799060558,-0.031342496141480596,0.028720515495094252,0.043227029661483486,-0.02184770152693641,0.014824926436137996,0.012963552244623215,0.032818252460016246,0.0604691450932689,0.1159629796134028,0.049121196199854465,0.05604238434843293,-0.02309993097589027,0.06563558440589155,0.028379195109352027,0.10928175434176182,0.03293926542476625,0.5880641615426297,0.4920487780550318,0.48820953293918745,1.0,0.4885829380858079,0.6073080252703246,0.6907294723888161,0.3764747505934659,0.02530170065130399,0.11399868740983103,0.2023519698158558,0.014619106364719798,0.038226398374175886,-0.019769124440359876,0.014700293945213,-0.01331156170777222,0.0042910696218350225,0.02344261616131854,0.0016171841148477724,-0.040347785163087346,0.01616303717567427,0.004786896325553372,-0.02506275959685407,0.0631309731237437,-0.022222590328370557,-0.050724732842655565,0.08560309659979666,0.05198715618248966,-0.0319360691906073,0.054194934485397375,-0.045128927305228675,0.023535375299432643,0.06469861447949776,0.07852480772925516,0.12632399670284533,0.06875880392178917,0.0029335879493176363,0.1071129312783809,0.05829742854749123,0.10654543714940402,0.03421156311752727],[-0.1008068778202179,-0.01916487337337598,-0.029313909728823105,-0.051643460736982005,-0.01601310904991086,-0.07964904577135998,-0.06228102191206333,-0.009791036589580995,-0.022138756722599875,0.14438555277029566,0.024575081289902843,0.000540820151363436,0.012744382811352734,0.015510634062042394,0.07605841758612386,-0.06646656570136406,-0.04449867816045029,-0.011268532382304762,-0.020302391233939333,-0.0013861989850489646,0.07415891474946396,0.08638124141183896,0.045544738605264166,0.09323384193617992,0.0018778541436845146,0.09748030898592708,0.11030314334411255,0.07733839703263728,-0.06455342027078216,-0.030981675124221973,-0.007730831907133961,-0.08195242856299641,-0.010919014081814195,0.006864810419601982,0.0349502436490579,-0.024198317046135027,0.001072538673212387,-0.033925286592323696,0.02680387127222694,0.027318117003402156,0.04796248343525524,0.07445954375414926,0.07787983603603599,0.07318726758434214,0.006368101437767792,0.009135466566817884,0.04036538746392514,0.12578524458662993,0.1062543403604114,0.10041260529060939,0.08903045028801959,0.09722790567355838,0.10527260355701495,0.10846596670721544,0.05165847775100789,0.06965204069806688,-0.02579357881935567,0.023606010236647927,-0.0465266631040868,-0.04782996878428083,0.13515175300212728,-0.033351777470495454,-0.07088069653492882,-0.02476930316033098,0.02244968792349484,-0.06183490304241641,0.09019820736117323,-0.02476961837330202,-0.001448506126983504,-0.026233461471021347,-0.012661104989187514,-0.014313657983441891,0.006067771989800811,0.0466179886802111,0.11347222397363615,0.1252992903110135,0.16124739231013185,0.08005421058203914,0.1153649157692367,0.05578695158810279,0.1304478935909302,0.08324950416873693,0.1277930471527158,0.1093706765114416,0.3449748714560094,0.45898467112380364,0.6262828435205788,0.4885829380858079,1.0,0.42236532325248305,0.4440638030309965,0.27050828886202316,0.06361208912945371,0.06232632550072393,0.15654555279193869,0.04825363513946645,0.05493322527299564,-0.06025059201498807,0.061775298382802275,-0.0025093826668376837,-0.014925598602672084,0.08693568564284596,0.004427844371087315,-0.08205689070205374,0.028647403874228792,0.007120930943217696,-0.07562152795859867,0.1076755849258085,0.004005683762842598,-0.017780499479369848,0.031709479361039766,0.016302919575330067,-0.016408445510798075,0.008436854663421985,-0.004626376036829541,0.11385222773742965,0.13257975963040153,0.09481657528465053,0.17038200944069895,0.12211482948580647,0.07346014195443906,0.1488532320863507,0.045348731439971306,0.157709283897297,0.06882161057477276],[0.045449729423887336,-0.027447903534476726,-0.0477320668716051,-0.046708391460956775,-0.02118637248944517,-0.0538040011936194,0.004834262133282207,-0.002429587619685305,-0.04759347579088745,0.26590726573573176,0.04115126298414225,0.05786446884081563,0.0001846154744945705,-0.03374351740104752,0.008951542805443174,-0.04472161585111141,-0.02706086392827283,0.038776118770960676,0.03323932938072833,-0.014074999738370984,0.0686211881303928,0.10799058096577048,0.09883624985129456,0.1287571256339725,0.09388497587803464,0.2074878241942802,0.12796763682038717,0.15352840904945025,-0.08847984611290127,0.02535466346908328,-0.03653526503596654,0.004392184988019334,-0.043273092365015885,-0.07171739018822557,-0.007149438055162174,-0.05638091622142232,-0.02164194423255946,-0.04770481208534912,0.057076738288243264,0.048078698681521516,0.05516442888853216,0.0840919411168762,0.0774505587226639,0.07376440470580686,0.024064521676146738,0.06777743475689102,0.04776512795212658,0.040935095486151894,0.04454972484053854,0.06768544681511376,0.03803830255039926,0.08508098558777263,0.07139836441477222,0.0987517601069366,0.07912174972889664,0.13645069691372316,0.03551282725417643,0.005114788305063767,-0.06433315238079425,-0.05199658344700205,0.02477294104752702,-0.003064765999618184,-0.04403393911870479,-0.020963701167004318,0.02462870255873101,-0.07642018704007245,-0.0034802699921838093,0.03242166910027963,-0.05211417826126473,0.03760834518875085,0.07955350428899406,-0.021902337646740197,0.0048968553461743265,0.03622034666935184,0.05456693149798833,0.03147069685205973,0.11316645853601086,0.04196493255476565,0.06068610591291222,-0.014860286650661763,0.05381323743500775,0.029492908053373092,0.060736053513288105,0.06432060193740789,0.4754187698483837,0.3916099820835109,0.38605441188201234,0.6073080252703246,0.42236532325248305,1.0,0.6573297551331303,0.4638471925638414,0.03452467736588283,0.18215000520252594,0.21915483086036583,-0.004980916917499669,0.021470480919677248,-0.017049092808409105,-0.00271128187121006,-0.029723376043166296,-0.0023700584552428282,0.06750212708674802,0.0027180844593670847,-0.06193457447645867,-0.01642608428076585,-0.011167712311233492,-0.026039654169813384,0.04639786443630911,0.024672813277546692,-0.07852716385528566,0.050995723291222594,0.09065724646561663,-0.008846528396594323,0.04217975902966741,0.02435170419499897,0.064750806437601,0.04979626824704076,0.07966058025351407,0.1341982598146819,0.0947958794118638,0.02722034257229456,0.08366084706494462,0.061538105750511565,0.09185949335646518,0.0647172978100364],[0.08799275380872636,-0.01705099067522143,-0.033304881865691194,-0.0531206022056099,-0.02836424810473543,-0.06163661613970239,-0.045580585760928806,0.009715600225448266,-0.03548808695814849,0.3031052976567545,0.03961294788803879,0.02841944012569493,-0.04820064828279945,-0.03441150158658342,0.027352218403421603,-0.03816118190348757,-0.02220693639370478,0.04531356612119017,0.03216131190281522,-0.05875102758537242,0.04224665565838705,0.10950269796158255,0.11926512389793151,0.1042892703105472,0.09077697343414297,0.1241290274157597,0.10841690900060208,0.15997647755977767,-0.1100348991751745,0.03860951166002659,-0.0684826707030809,-0.019471299584404016,-0.07373156204024056,-0.07777305685601314,0.04007215058477171,-0.03683157817942376,0.0009793766572066419,-0.09315653406421817,0.057828620681106425,0.036593195383387365,0.021223388337649012,0.043608420469919716,0.05049871904276923,0.03396268704663213,0.026611536830625122,0.03329914444571488,0.0070329678088640905,0.05708395755296741,0.017819267999269296,0.0462730624873115,0.015338114339263605,0.04342830897592773,0.04682909386125819,0.02636104976544612,0.01912549233599422,0.10611907198070727,0.043772499703922496,0.013880113256826315,-0.054386661962287766,-0.013459432641773928,-0.024561649809739645,-0.02239339100252504,-0.03902416845298403,-0.03636848357690225,0.04660649099833866,-0.018255908484916122,0.029957964557641298,0.02218253037913033,-0.03543186258729046,0.039612698871253835,0.03527272121043149,-0.017877369557778862,0.032413697900893455,-0.0013088519419863075,0.030731834311620333,0.05540846143130972,0.08535017211331698,0.05869981613366274,0.025610305497428106,-0.01207472760704859,0.07922626946313142,0.04740154103178332,0.031609065156976174,-0.010210480416281231,0.6674246537071036,0.514959980017621,0.5067204259214607,0.6907294723888161,0.4440638030309965,0.6573297551331303,1.0,0.4564716537533255,0.01635626502412989,0.15767178367056126,0.28193278745739125,-0.02500137114106216,0.008952947076285998,0.0042705866283411316,0.012653579519779272,-0.06977931838719831,0.0024065264419228937,-0.018409703476476538,0.0273110070370017,-0.032155960400282714,-0.0265158564788994,-0.042379178581517546,0.006125497695879642,0.056511492398107446,0.02026558891492596,-0.0772735013608321,0.08006904556347588,0.09336387325468938,-0.025164147288881715,0.053315483955380535,-0.012309818899369352,0.02321931655422542,0.06578114059666529,0.06498218297811552,0.06908318589754535,0.03195872506174062,0.019159977394555393,0.09176846198296919,0.06933003939122821,0.06585505111574763,0.014833267431939303],[-0.0028886606452062334,-0.013727753993421908,0.0264643159960181,-0.03437656798122588,-0.03764775421160162,-0.0456060437793091,-0.07041819344648573,0.0034997707596951576,0.028653704911449158,0.2595631252312081,0.013782341232156587,0.07793054537007636,-0.015763860546696276,-0.0063541224967834835,0.0052075385538571245,-0.007986322871155827,-0.03734630793104658,0.02904282772387999,0.032349009068182784,-0.014604015545979003,0.15216875341877087,0.07322354843090617,0.064700182739588,0.15207898336855535,0.08304745900087515,0.1473949433151939,0.1490672237132703,0.17057511617628288,-0.047966315098394205,-0.019298693998908153,-0.0011986579921301752,-0.043105484146929225,-0.03098732010833942,-0.0534499890031772,-0.04255373178613427,-0.13313048837479408,-0.09363537188601051,-0.04065100380993757,0.10133880721684284,0.009045105076160851,0.09512755616418933,0.12844854676841602,0.05395625008183057,0.04857114107997433,0.015218836661153949,0.044053583023053185,0.10210288641404676,0.014840997334261087,-0.023593711146092496,0.032257690315912524,-0.006757150679064832,0.08525428896124404,0.10068723593546261,0.09990138215315876,0.06540737174322127,0.11343966125976727,0.019788132178932428,-0.03520832326663086,-0.04133861228704061,0.014810438318227651,0.035079107996116826,-0.0066665981759862665,-0.0033268689782730986,-0.0988020047229812,-0.024012654456459663,-0.02793821583978909,0.024047256129948912,-0.04236460059819797,-0.05123097759136832,0.0113706371565958,0.07815951707734214,0.05983081312472547,-0.018434072237814198,0.005023025755612985,0.27158681462582396,0.08234882026197515,0.21768118174763762,0.09385178482480754,0.08509007215895818,0.20362413768245738,0.051260989891130225,0.0112716354874658,0.15771600039037234,0.06309814446733526,0.25780578294268175,0.31165205902763105,0.25594810193599,0.3764747505934659,0.27050828886202316,0.4638471925638414,0.4564716537533255,1.0,0.01974549618186747,0.337819457542498,0.15235838750642305,0.03727027404695401,0.03244052138285302,0.0029057746225289037,-0.04147951362565009,-0.02791303834321229,0.06786731042808339,0.0365027694251436,-0.028351083818893983,-0.04336791613649643,-0.029921281481155016,-0.023369700662426503,0.00444893144109742,0.012412417347228187,-0.026164176999974444,-0.05433594552709238,0.04956035332325309,0.0868368646104748,0.0009659228804268864,-0.01270958986180774,0.010197976403750838,0.29781858222323415,0.12934254902679948,0.16700845776490783,0.24945731135748478,0.15194780895940727,0.26389588785828233,0.10952586018540482,0.05327408205930836,0.20161565176203577,0.04337527625026796],[-0.008150185335135302,-0.14918851604077793,-0.534940160418845,-0.1657087451693217,-0.06272253747104793,-0.04240456874245078,-0.06605222569624142,-0.06353163865411282,-0.5163134050620083,0.04064765556603809,-0.0546809155858506,0.07949836054007978,-0.12053657567938979,-0.12634313569640837,0.01776261501424243,-0.0695546816709493,0.03743052592879105,0.003638307889863055,0.029347991191034466,0.0002454812979754411,0.00568192263633603,0.046912321920048336,0.024200318198330923,0.029136903600685538,0.06748715306537598,0.04384923285740087,0.02507475928952535,0.04099164566526089,-0.003327448644112007,-0.11427180551515628,-0.09519277835668102,-0.11738944865190484,0.08041361428146813,0.061619215532961936,0.059929952419445626,-0.02840214373747816,-0.012751983246325148,0.01701179279744471,0.004947136577244603,0.014953670686187803,0.0264839248644424,-0.0030956789706099172,-0.049792436439339054,-0.06243363889713984,-0.0017989389881307829,0.02404022614691687,0.0618168886242662,-0.048751698965347055,0.040931865671949653,-0.020027294521169248,0.014457397236336527,-0.051553555941569996,-0.04891691070800741,-0.01845696699019795,-0.010189016816648237,-0.05814296250825084,0.005320739921690359,-0.06885339687878969,0.056496730799984955,0.010682390685374058,0.01679958429281281,0.0034239182246777427,-0.2196916673015048,-0.19218967235222228,-0.23230750886334064,-0.23793559052457716,-0.11540594833254231,-0.20785178109051491,-0.0025026142940518126,0.004889779822241145,0.021752136267403504,0.012848309747973186,-0.02734885187521848,-0.01831651775710451,0.0018886043299683399,-0.05479968555569706,-0.011264185934180354,-0.008773927078195142,-0.021678819153778787,-0.02369594838838892,-0.05884664642059235,-0.047753776157604906,0.0460977044727408,0.03609914642468381,0.005415168464000685,0.05258667429503576,0.03709042216981565,0.02530170065130399,0.06361208912945371,0.03452467736588283,0.01635626502412989,0.01974549618186747,1.0,-0.02225484913826824,-0.000720090790271362,0.04747549595922912,0.031128021524786834,0.030295203628589815,-0.026783824690231956,-0.029701397603531157,0.07814411083633535,-0.05140404806136771,-0.04776245607124091,-0.26679487424312426,-0.19962724166411872,-0.21664271267238394,-0.24720920988810954,-0.11223111496011211,-0.24832162408204872,-0.13777943845413593,0.06536081670887546,0.09634605447799419,0.04336493276253268,0.060788083235449764,0.08732543135407289,0.004361881754650939,-0.009198912185768581,0.004047943430734841,-0.02395557930453878,-0.029700960611009533,-0.02005504334418036,0.03812298323469624,-0.063414643437656,0.05248584755644968,-0.02900207050640591],[0.07242486340774752,0.16073362897565768,0.0663071988572583,0.176400988626645,0.030624844874535134,0.062016992486208795,0.06541610767404304,0.06644429250324507,0.06366222526717015,0.13590500636390015,0.034999564981732345,-0.019955116278040166,0.012097686601477337,-0.01015878323811347,0.011290584251989826,-0.007822736139665103,-0.013507037371239795,0.0015486705888658457,0.019580933061460002,-0.022244028784719892,0.02403631281032759,-0.008806870972531047,0.02095425504750658,0.029856314227007946,0.03309810752136494,0.028502163479282958,0.01710518644276204,0.02193119746542187,-0.006058848013184338,-0.04306247153439183,-0.047589959797717504,0.006518152372191838,-0.11141521204012109,-0.0493762176494,-0.07489228713599969,-0.10184953957960927,-0.03465176973948569,-0.08569354077841328,0.12584081022095878,0.10258543995251045,0.027386342769297675,0.1175159164676325,0.0607527473334134,0.10740830574284083,0.05497978034291641,0.04808536777669305,0.11866659097769244,0.048227963694338113,-0.027713237528996477,0.05440941919518874,0.007924005384194934,0.09319479296862655,0.07653379120490403,0.06561306754082413,0.09744655642284607,0.19557825137570523,0.023727153591502948,-0.020890603639135016,-0.06622299638588883,0.034454777433669474,-0.03950281638525071,0.03781346295689938,-0.03300423549392946,-0.03943725751682643,0.06446781397644454,0.02912892296213004,-0.00908918527486971,0.06404920696316997,-0.06598581983668982,0.05191134252683349,0.05867000067993661,-0.0348453367645563,0.04402311602935092,0.0630079679805252,0.22357377640408355,-0.05224230584155504,0.1842761937969473,0.07006559108865261,0.08227441517119585,0.12659330612398179,-0.08102742764373541,0.015496022950397672,0.1537900315965485,0.0684532472261072,0.12764187837257499,0.09843002488409948,0.0865305622208234,0.11399868740983103,0.06232632550072393,0.18215000520252594,0.15767178367056126,0.337819457542498,-0.02225484913826824,1.0,0.326996680765707,0.003248533963317532,-0.026297492041802237,-0.018345564537139654,-0.038275707313665426,-0.13111300216884886,0.16483468584083208,-0.008947981344024492,0.053975179001659775,-0.021551045433965278,-0.03826606119173059,-0.06366870351490385,0.11062970799962005,-0.04296724198904422,0.0754280484186849,-0.11560636114535117,0.057800966930307264,0.046360524062614136,0.027938022471511,0.06937161565696845,0.07098211371874572,0.2638837709524529,0.017922479189133107,0.11996229473054976,0.22151447650089373,0.13016590076689974,0.21188497000961257,0.07987771713606817,0.07343891714010281,0.2636682677101331,0.05027481373062279],[0.23301814094109072,0.08959855958782337,0.02566646314093519,0.03335152502730554,-0.01554305799344846,-0.07325100751256716,0.004667696427462938,0.025535992539937342,0.018324403423307385,0.059950944628902506,0.04933419046957154,0.010462909472073173,0.02271081851306004,-0.014121180810964981,-0.06834715529133861,0.012275092410421984,-0.00010598372674064636,-0.0005690508476889626,0.08523419839558496,0.029798329198215106,-0.09084084739372174,0.03321031657090701,0.04210725171147384,-0.022644168963489517,0.012686956976487357,-0.005219800212087055,-0.02078160430487452,0.029573030615443852,0.01368142123780575,0.08347904366611433,0.0006165315966803861,-0.0071872971420864655,-0.12764621627713257,-0.05199609025446165,-0.0017163342976621847,0.011197983884353375,0.01628116522664408,-0.0465461606527529,0.06427097131473847,0.0283281668762741,-0.04586870716919141,0.017095765964658432,0.037329267182826927,0.041758283695975416,0.107450942745916,0.0737952456710109,-0.020244909977060296,0.02203616090289034,0.026888855995517005,0.04104415671678379,-0.018164055303679785,-0.030960266024399562,-0.03939756871920755,-0.00744914589471809,-0.0031594083637592005,0.2622856514231317,0.038589336307371894,0.06747382417478673,-0.0487415073643434,-0.05396011707338546,-0.06833519670517477,0.02472317097515662,0.012975526917932146,-0.03168667815778649,0.03199811827830799,0.03873317934909946,0.00726164778181257,0.011224767014377749,-0.08846872864647445,0.02864408000346062,0.0721600958111237,0.01650300728355649,0.08294166618098969,-0.005823570138138958,-0.01610939266142701,0.05216984563433779,0.032404687508390324,0.04651165287798063,-0.003140372252866667,-0.05780767349919547,-0.002121397432703517,-0.023650899810238483,0.0688196988036586,0.033709273172334485,0.28357039759373553,0.19263268578999154,0.19558663934626996,0.2023519698158558,0.15654555279193869,0.21915483086036583,0.28193278745739125,0.15235838750642305,-0.000720090790271362,0.326996680765707,1.0,-0.08377503009894244,0.07980820887677471,-0.04579666950732496,0.0811230696179611,-0.09976804306956855,0.044876489344018396,0.02758316814886515,0.009588595760928983,-0.023556929506982034,-0.00981872194246661,-0.059472886833844905,0.037236734041002736,0.060622961937420936,0.07453152517362313,-0.12956233281183366,0.06637388587773742,0.10909241493489558,0.01714115259367548,0.07849408792397491,0.05985855440143258,-0.006745462719535777,0.07958693331582055,0.00557071722355045,0.03933085668424813,0.003204714856507988,0.03005165647609932,0.12703159044167617,0.037628077535728215,0.15735943217676193,0.0540761345045226],[-0.11916944923467293,-0.07448633929848324,-0.03139583779435547,-0.0872970283633728,-0.010582946123295613,-0.007105424786318874,-0.02955966158185081,-0.032726833434884875,-0.025511679533963234,0.03568317089752595,0.0004969636420973238,0.037519672887436115,-0.008945524738683115,-0.0009932350787671827,0.04713553148068341,-0.048578299288639465,-0.013646729024415973,0.009878217734801286,-0.01015693541372281,-0.018253178147212043,0.10242893574543442,0.014484254151719101,0.0200633765635346,0.0847296462104854,0.03611901422735202,0.0706671128445139,0.07914604085609593,0.022899563304448606,-0.009640808772265726,-0.02476367442935276,-3.742189165599647e-05,-0.030123758383415945,0.045931323543897194,0.09564740931477396,-0.026434484364806485,-0.07339585218365058,-0.09412383623519155,0.03449969331409682,-0.030263546369373374,-0.037750480435078955,0.05158188402674639,-0.03484326021899031,0.012465500337373321,-0.014912151912450041,-0.07027747840127546,-0.07035542646802531,0.02301664136758141,0.02571235320629831,0.04548408248935691,-0.02088953107187154,-0.0038500716198624513,-0.07398546548332806,-0.029334507591418806,0.024836502115205147,0.02025816567982067,-0.10509632530768037,-0.019819374557216746,-0.08659728650438081,0.06299250492287786,0.07569094609758066,0.022764202867551066,-0.03211011484340405,-0.0005527848310943776,-0.07524468397963718,0.012150342697308861,-0.04133937840515811,0.014019938754016895,-0.10700835669377422,0.09990170023805542,-0.06387346133161496,-0.05534093932979241,-0.0150291942614771,-0.022874600423425307,-0.09572179150737804,0.06394016942938888,0.031109120392928263,0.04786646790080947,-0.025477473506798045,-0.002182213815108818,0.04979692648958484,0.018100679213527,-0.048282532326452444,0.08445105136640489,0.05867821659484827,-0.030802966676851493,0.038486283004718125,0.037000986197649036,0.014619106364719798,0.04825363513946645,-0.004980916917499669,-0.02500137114106216,0.03727027404695401,0.04747549595922912,0.003248533963317532,-0.08377503009894244,1.0,0.15962636579134523,0.011139345970775542,-0.028638599348062926,0.06930114533370883,-0.011055127342401487,0.043164156842349095,-0.04775451492697706,0.034120390108266986,-0.07593479069151196,-0.07362804663260251,-0.05146518209936631,0.036988503644319985,-0.025427420374854386,0.04291380232199594,-0.031024280139525084,-0.010118585457966718,-0.05760483379585197,0.04634186265308591,-0.07526001494103192,0.06069191062094976,-0.016127097695700872,-0.010961161113819461,0.061043770552474626,0.004282636646897916,-0.007519789772664498,0.019556460686868664,-0.1423859089063357,0.04064540214536077,-0.04695599500959448],[0.009901652348911567,0.12551277482858536,0.05246429574335743,0.04660914849726545,0.029569622157067547,0.08185517386738615,0.01575145466512996,0.012016143448507736,0.05474024792399406,0.022118813081983074,0.020227707535849394,0.04286943076722262,0.025644386757632982,-0.036852951386827384,-0.03380600424335927,0.01527626902645675,-0.013462125411422408,0.005179986688618801,0.032852426859208604,0.02526182101140748,0.015088795061194924,-0.01562522956923246,-0.027079916525813628,0.022172064025100788,-0.005488929427130812,0.022217270902921197,0.0013107549140542966,0.015231680362318664,0.03482526407653515,0.04819194823085595,-0.0576974181852266,-0.12619694658564265,0.046708299869790186,0.031185434646076336,0.01924775522971701,-0.016095705345962653,0.07889512145986037,-0.04638734212035274,0.003948827846084248,-0.07624920350029414,-0.03998104534728287,-0.016915910286407272,0.025872228056193356,0.016935813609627894,-0.01995618492906043,0.0016317546124655616,0.04593106474001223,0.08247189368952977,0.06666990846653321,-0.02112707677989489,0.026571276028493886,-0.024359838012179762,0.0320983902207945,0.022866146508735818,-0.038835278764787644,-0.04331285985239836,-0.036024686164377206,-0.004365083732917096,0.02716198736596888,0.05926081672284704,0.03479324283881546,-0.04451807949977118,-0.026213215371747457,-0.0780620112107853,-0.010300879538641795,0.032934454828770596,-0.018684255692157807,-0.008318123524037104,-0.0542989024317875,0.004195547818064253,0.010314382785642276,0.06905388923100528,0.048897894588877104,-0.026176312056482357,0.010115701858914458,-0.020794053109205485,0.054984031095127485,-0.021205485872814758,0.0046357821251998685,0.011946168508032838,-0.003700817824420541,0.004993726286388983,0.08500134733411731,0.013449173685504037,0.010880521633248286,0.06055749352619776,0.06535072713790174,0.038226398374175886,0.05493322527299564,0.021470480919677248,0.008952947076285998,0.03244052138285302,0.031128021524786834,-0.026297492041802237,0.07980820887677471,0.15962636579134523,1.0,-0.04361156722945181,0.043965787685420976,0.043875906621466024,0.02060460750531324,0.04756837368745946,-0.030063578555453017,-0.05864862008461518,0.04358491260625325,0.07083111576941568,-0.060773169829370255,0.08092232591215524,-0.02795449761842557,-0.06459814620090479,0.029309490280555385,0.011488589263064874,0.013158701570970485,0.07667020059486591,0.0453401310987945,0.002703417558717445,0.026775899014607682,0.01798036575186885,0.056030981340204865,-0.017549801164709472,-0.026931802861107888,0.02070864748556698,0.025884264408350954,0.0017927826413824176,0.02981347086482374],[0.2860762593351934,0.02517213663317121,0.017276946137223238,0.030184206355177056,0.05476369466216691,0.017207679603900693,0.021672410390105243,0.013803685629359286,0.01314890679689184,-0.0025079287893502622,-0.07577458474401054,0.0035825855116612603,-0.08229280581322986,0.010752979579753885,-0.0361702280401934,0.01365479912683361,0.096544244509551,-0.02868342371743306,0.011164880174333196,-0.026409565628887757,0.0707745435941844,-0.04381045507872404,-0.029737266735134386,0.03203327009075414,0.04054075044569248,0.007153241107926698,0.0210503744802011,-0.02073191737990339,0.004511402346010339,0.0647029737984877,-0.086835140754619,-0.11466969365699167,-0.02273067047026357,-0.16493432236928568,0.036859138939773335,-0.08710471427479301,-0.05865610162998868,0.03184975337429396,0.15186606157160543,0.08039492941485205,0.07614858300474883,-0.027301907833155475,-0.10374608779626258,-0.08615523051696954,-0.04037086223910633,0.02185295048378728,0.07098884354752817,-0.14905387236617734,-0.07426860333784456,-0.21189159977698038,-0.1389917948102307,-0.06918480033280931,-0.06515499971858645,0.005599259956366185,-0.08606362146824237,0.0737996834043305,0.767514491483253,-0.3648633621868244,-0.15161029281431765,-0.054048450449365966,-0.3893201625777948,-0.42976253238558026,0.5184796261942353,-0.11439826337870214,0.04665942363933125,0.06536559440548668,-0.1143732740386895,-0.09373607657662557,0.3846551770852732,-0.16635533751170598,-0.19716372736213175,-0.07429053796624963,-0.07945605816943752,-0.39630690860224865,0.13780224145629566,-0.17267253792434234,0.024587549434479623,-0.046045810404229205,0.022013905177712317,0.22219083755921995,-0.1532890702547164,-0.014662555275417807,0.11649295534501036,0.0013465697911419921,-0.022419672013181943,-0.039810786679806906,-0.05913524633821818,-0.019769124440359876,-0.06025059201498807,-0.017049092808409105,0.0042705866283411316,0.0029057746225289037,0.030295203628589815,-0.018345564537139654,-0.04579666950732496,0.011139345970775542,-0.04361156722945181,1.0,-0.5392332830451089,-0.4637417356117149,-0.25638357255182936,-0.5104835896760953,-0.5161882556337187,0.6618052303404295,-0.07961868656184944,-0.1050320305610865,0.006914640203440108,-0.2548651665297524,-0.18242518228684088,0.5905271926379039,-0.30170293006143806,-0.3007959060498094,-0.2322833115608033,-0.13771981977081,-0.4879995524673725,0.07340987591230128,-0.2358865318400206,-0.03562970210601503,-0.0012391491660347213,0.029536711906259554,0.1646759915815185,-0.12191747882074276,-0.03158583619145048,0.0492996385664982,0.048367412607035525],[-0.11953900326414081,0.0515937988501336,0.00538399749708791,0.009784236061684921,-0.048538059192930035,-0.12135847540274924,-0.010011645531247794,0.009305040169895681,0.007889005026435034,-0.02996492299237259,-0.007181216298434534,-0.03108102290011942,0.04982508440559903,-0.017584092372240248,0.02875012939862979,-0.018884749140496183,-0.03209782856306485,-0.005927013954413735,-0.00934709008929619,-0.00232635169450199,-0.1131363473393267,0.04147038848273519,0.020380629908132376,-0.07128469871135085,-0.025580262426160596,-0.049051593723526826,-0.039563862044515105,-0.010694024095407966,0.014177223035145646,-0.05194779972205448,0.0466675804483545,0.14791602617859442,-0.01042457305941609,0.04652956128769796,0.051389916940787116,0.13229601459697168,0.14561198728378635,-0.05300556150345959,-0.02572489808396073,0.07376502635630124,-0.08261572071106249,-0.005865873531051331,0.029560310779510615,0.0012610278478262771,0.11068940661100497,0.013605033697156087,-0.12736087914028033,0.030160477655512177,0.14600322308149571,0.10964648021311992,0.1353267497410852,0.04303721966172784,0.05839481583711561,-0.04212167783207817,0.06094304938228919,-0.06508571659069431,-0.4031078792929292,0.6266906847496023,-0.1078922480572279,-0.03044467121830058,0.06653110596266339,0.13127984745982313,-0.24675231725415908,0.13709788303499099,-0.011307356712311168,-0.009486765282080558,0.1113889999417762,0.05568565644628885,-0.24263585500607,0.23495817622837697,0.10732929283268448,0.0276739245230681,0.019135339118277025,0.18670541060031748,-0.15588781297115992,0.2625337345865382,-0.0790695508922126,-0.05312233697779518,-0.16318652580910828,-0.18835544260959214,0.22871498770213827,-0.039642441537364376,-0.08191483145725749,-0.06428360950909444,0.023876668518158246,0.03385001237834807,0.06206510280751759,0.014700293945213,0.061775298382802275,-0.00271128187121006,0.012653579519779272,-0.04147951362565009,-0.026783824690231956,-0.038275707313665426,0.0811230696179611,-0.028638599348062926,0.043965787685420976,-0.5392332830451089,1.0,0.0005068281356425898,-0.002324899081538918,0.1001283851928297,0.11269318303741889,-0.3804509402451788,0.20001279766282717,0.1591314602948675,0.04784503696961153,0.18645300013312013,0.02714826899865065,-0.2707575787367848,0.2321459129073802,0.08647498266581416,0.21323802403947684,-0.012935231621192153,0.15294987696197193,-0.1335613099083716,0.34618642342409905,-0.03530952510541417,-0.0773739439823236,-0.13387944630221588,-0.14434247489648708,0.23525605283190604,0.05583729038757844,-0.02152535678776129,-0.036331037789377296],[-0.1811028602245051,-0.03216830183406078,0.04472635177036384,-0.04645127216387598,-0.01335004284752547,0.07043261216845512,-0.017716911529971468,-0.027963088358481533,0.05152030775807047,0.03083119635490289,0.10650984069542613,0.02390619118613519,0.04365266004721497,0.005624918096857309,0.03326751281132532,-0.010485296682221288,-0.04843467620586721,0.0226908268673556,-0.03299978783686615,0.009173557531797829,0.023275603360191313,0.015530656713836542,0.04722462358036939,0.0454929802706762,0.01634057938419081,0.04433218614895168,0.03539721431433311,0.059414003334373446,-0.01106988327036772,0.030224226417494383,0.04191286424665085,-0.010536550792536747,0.07466324732319746,0.10896491293357265,0.008341963067605748,-0.014634312912833165,-0.04125012565880641,-0.039270782225436965,-0.1935269860378728,-0.17282109108686508,-0.0960891190183854,0.03462052390440159,0.11999890911289389,0.11239487064904398,-0.011497736273006137,-0.11779559366184669,-0.08935479126711177,0.23942359387574697,-0.10253473080957044,0.12711624892572643,0.020391107132947395,0.011879567835187664,0.026186326050384245,-0.06500496772626299,0.002789676043046657,-0.10418719774892045,-0.37592889222993897,-0.04759094753618973,0.5382692020590203,-0.05630815562933412,0.1559489307744351,0.11682126970554539,-0.13847858446002823,-0.011159178742025539,0.12111687097067436,-0.035685782887746355,0.027670643508572505,-0.031942887931129524,-0.0596999092942564,-0.06994629470046136,0.15501833707807244,0.016863766724213,-0.06702696884525695,0.10305241995830937,-0.03946765014289742,0.011448024084345114,-0.0979195038155933,0.09162699764408025,-0.03686283508606201,0.01153896012097794,0.062364332840719544,0.09640091048975077,-0.12032569096333953,0.07330337226184314,-0.00968107847504729,0.006526772427635537,-0.002782454897821639,-0.01331156170777222,-0.0025093826668376837,-0.029723376043166296,-0.06977931838719831,-0.02791303834321229,-0.029701397603531157,-0.13111300216884886,-0.09976804306956855,0.06930114533370883,0.043875906621466024,-0.4637417356117149,0.0005068281356425898,1.0,-0.025702052162982422,0.11192234078005414,-0.013691434577985486,-0.15478309904271118,0.03337414838372197,0.11679404207601692,-0.04755452759599659,0.07346822645595573,-0.022785756293717787,-0.20420594219472896,0.11418581674644886,0.24591802536041626,0.13823915664241548,-0.09247106783848784,0.11816527595959285,-0.021545279881213904,0.022722829236793834,0.10919476438610473,-0.03370305227971301,0.010935880637216733,0.02510960576816297,0.0024534799749744043,0.12281634258191394,-0.0999413434566352,0.06897093376000833],[0.039953558476654105,-0.009614730116326421,-0.11761598561015837,-0.011172017408895962,-0.056443799766689735,-0.025702714311960497,-0.00743702291215862,0.002145546538705956,-0.11952841988563184,0.05219936559601854,0.009697864931238302,0.027804174040465014,-0.0027606669076522257,0.00302338417766154,0.001522316939855738,0.010321528928400934,-0.007490516324263928,0.004420774120614806,-0.009778165700691614,-0.002591217409280157,0.04640015867168157,0.04046303816722119,0.028510511666694625,0.07257103454071111,0.020230592531678783,0.04029420397397595,0.04664294784940435,0.01722028037689375,0.010152082733307222,-0.026641485923167025,0.02093390441590291,-0.0004065093542891409,-0.03892418216566565,-0.03839799451187537,0.05912902579975433,-0.01122736866510506,-0.06569556603143392,0.003960568760263386,0.05781313190844821,-0.02005780088345726,0.04543360380510993,-0.034590940815591935,-0.07057900778658441,-0.031810126960210065,-0.0268849221270976,0.012306793474121789,0.07077200388843999,-0.07237064345543799,-0.023740919291744742,0.02285039420306498,0.04472489155970425,0.005944535801447744,0.022130288427910996,-0.01585110349623366,-0.022074594427653714,0.13361453672967102,-0.1658192356074965,0.041588262962282574,-0.01923904196391229,0.47944184975792814,-0.0830744433304685,-0.11009872277166004,-0.09147495714164164,0.016432830397497426,-0.029519199886995025,0.24626237414415625,-0.021304910944044207,-0.0606312976211846,-0.13757800911085305,0.0828622464365105,0.08030258001142386,0.2000612246069104,-0.03167354559838814,-0.015220440228491852,-0.051154014522107216,0.014199888115149604,0.187386171143568,-0.0840272018632877,-0.058310213704345776,-0.03461956477767687,-0.0015997829427376903,-0.0773076708313383,0.17996247040527444,0.051536038325990505,-0.01919200898063702,0.02483708188058358,-0.016477197303198937,0.0042910696218350225,-0.014925598602672084,-0.0023700584552428282,0.0024065264419228937,0.06786731042808339,0.07814411083633535,0.16483468584083208,0.044876489344018396,-0.011055127342401487,0.02060460750531324,-0.25638357255182936,-0.002324899081538918,-0.025702052162982422,1.0,-0.17203973774392156,-0.1292485348064243,-0.13830003703741114,0.04961294396929381,0.013403974063322293,0.3547193387367562,-0.06800827351100569,-0.08743440107824128,-0.20731024783656973,0.10382919129956436,0.02028758584764858,0.3270678534387299,0.11098754204719359,-0.08821591432684901,0.024011727954996568,-0.02528272919991703,-0.02621525355428538,0.22515685886813247,-0.07514322887413878,0.021018680915166503,0.013173052190982236,-0.003616121641831432,0.20049163740719625,-0.01135259885481657],[-0.2534887301908957,-0.038699791184764014,0.005138383453803023,-0.02246683747478721,0.002718230427541138,0.022552122408644196,-0.014914198664037193,-0.013336983944627939,0.006845909771532583,-0.02857360165529633,0.0039397085397120165,-0.039300628106038515,0.0735124656901967,-0.021340167905249858,-0.024473506828719717,-0.006886905024188307,-0.09617041446201992,0.04315896258081514,0.05602831129194196,0.065397156692732,-0.020499743868748806,0.007866287774035178,-0.01820061990545129,-0.015793693921138243,-0.020255645780850564,-0.010035858452077858,-0.0243610790132356,0.006650054291100997,-0.00898800200320218,-0.04046333627597465,0.08498407526337162,0.07693611752153644,0.057152984823845454,0.12975288636744747,-0.09702055891593964,0.04407469078087289,0.0066494725294033285,0.017216924326440283,-0.05250244538433035,-0.025902565507811323,0.05576436915674631,0.07769030137777265,0.07293923124884277,0.048188668935814936,-0.016793192520489778,0.051067391661231636,0.10040191198515466,0.0695421568738033,0.1005874078773186,0.13465400299728558,0.03928220139334268,-0.031742293519667675,-0.03450224591608059,0.15721808963754774,0.05164041023950144,-0.06659807203014001,-0.42443563749005764,0.04084030434774393,-0.05884713996651062,-0.09766635989294059,0.6500138410307399,0.26488009467347934,-0.43636628487377344,0.024709867159569528,-0.059659005602583914,-0.24535337734642856,0.02318053471554201,0.00563020931883496,-0.20225289537837535,0.10050930657446654,0.06589254878708596,-0.0004552263177362397,0.0883236017577527,0.21923428722202298,0.015588479590686617,0.03323241669296723,0.03372550563377811,0.03703092790715846,0.2553664571627282,-0.12864930671576807,-0.07381603767328197,-0.07457827775278748,-0.07156906566977496,0.08175887763096282,-0.011001693219384311,0.0019013241002315783,0.031065795135654696,0.02344261616131854,0.08693568564284596,0.06750212708674802,-0.018409703476476538,0.0365027694251436,-0.05140404806136771,-0.008947981344024492,0.02758316814886515,0.043164156842349095,0.04756837368745946,-0.5104835896760953,0.1001283851928297,0.11192234078005414,-0.17203973774392156,1.0,0.2356520129973398,-0.5002899011057433,-0.042169615939744234,-0.029997420918805785,-0.329587869823376,0.26353631677139494,0.11834863805585208,-0.3396017505891958,0.11585648239070513,0.21224377218694784,-0.026694939675436173,0.1819115080550076,0.36955446240371836,0.07272444403417624,0.10339012291709541,-0.0465842783604156,-0.01717987310925337,0.2170988706130532,-0.11918332024186172,-0.02096945892790935,-0.17510566449965206,-0.08933080999110864,0.04755700927068945],[-0.18037828341374126,-0.004014209290001157,0.019402914528977758,0.024938992588288633,-0.0028423847597406123,0.03125788616350355,0.012868845630307744,0.006547240187558948,0.022413461538995382,-0.023827491261445403,0.04245779837087223,0.0003549083756519472,0.029910115973015895,-0.0015583631266325533,0.04496339226259109,-0.011758608757790978,-0.04147061376769092,0.01105295567590088,-0.030354441071779155,-0.008898278640641057,-0.07513258470523607,-0.006734515298911472,-0.01396641369021417,-0.09632383665449858,-0.07987523294708675,-0.03234868457770859,-0.06140450699880308,-0.03186717276461383,-0.013489553311127596,-0.06935703492301468,0.04931284420166928,0.05695875657413981,-0.026481068289398394,0.1092720380913861,-0.11628025216941122,0.030686633962007236,0.0468287509804786,-0.0008192860351750304,-0.13688640958094114,-0.06046261636816351,-0.06474722809369313,-0.010139324822559368,0.07428809083742657,0.06460328511107344,0.010558770892299193,-0.013433528764625271,-0.06652337716922774,0.07195690908748086,0.052161845732177935,0.08968989424033902,0.07437451741016168,0.09737307502679494,0.03897166078604958,-0.017850788283291442,0.08369866501970707,-0.06959432509023711,-0.37576784309487216,0.15901966909371373,-0.037868549085640676,-0.1585828169016439,0.13668400086946605,0.5585293649117063,-0.24569762111940668,0.08861999432835431,-0.12596531364995328,-0.07775715409148219,0.09413461980292105,0.217936076920406,-0.19893329876464313,0.02013478164343052,0.0021166386130120757,-0.07924373684106581,0.12154722940140693,0.43100779488248475,-0.07173556200939049,0.0645748365482404,-0.07727507261599366,0.05634282365943965,-0.058107432830304354,-0.14736069747786482,0.047844392167882555,0.021254240609744724,-0.13468981392698023,-0.132562200195768,0.03768619978159797,0.003221584216459801,0.036669451826822824,0.0016171841148477724,0.004427844371087315,0.0027180844593670847,0.0273110070370017,-0.028351083818893983,-0.04776245607124091,0.053975179001659775,0.009588595760928983,-0.04775451492697706,-0.030063578555453017,-0.5161882556337187,0.11269318303741889,-0.013691434577985486,-0.1292485348064243,0.2356520129973398,1.0,-0.3336294359234534,-0.01404461415847152,-0.009546545737224039,-0.029582966516143373,0.17411940635042975,0.3868085974721137,-0.3146990893206511,0.08571089849166492,0.0935465799679334,-0.08298850898159671,0.13340994755675545,0.5690041213356659,-0.0765005447489661,0.08218820973382186,0.035538783870569586,-0.0832145494656002,-0.09090935412768937,-0.1485310835432485,0.019543181585423303,-0.007437674186147024,-0.0651847339791042,-0.19940807860951215],[0.13479741917781837,0.03740989883776074,0.5062763081960572,0.030875414247208684,0.059539762755535394,0.02256310954617131,0.014388387427891747,0.0013879676113855894,0.5095958805796276,0.028289465680430486,0.02356943038719232,-0.03733560985830624,-0.04017094651436275,0.04763023892054331,0.11224558590474709,-0.005532024221568728,0.08326543951252006,-0.02055075243414553,-0.18395582275419978,-0.1082373125372453,0.02279665734515812,-0.06784824772449408,-0.05642957173643607,0.03446791209564054,0.003306337925343624,-0.015124884473662543,0.0053422832994674185,-0.02740759059429205,0.018346303826120347,0.0707166750244996,-0.031218678542368206,0.01420549345671167,-0.06724261650960336,-0.10143997470532537,-0.020810583776070292,-0.09812097212332688,-0.036989750718448594,0.13196317968991014,0.0408752423440813,0.05212198530784215,-0.054888620028819474,0.0860926757777106,0.03985181554602912,0.0681505710662962,-0.01922621367483359,0.004233432412770555,-0.006229507999262937,0.006338812617372782,-0.04762012461202831,-0.04186524697306066,-0.03955566811288914,0.06304721530011995,0.05441034326891637,0.01657578981504033,-0.01379814169169391,0.16805524317836004,0.5395523239723448,-0.3314114758223337,0.01509178360731629,0.03485856664792466,-0.43373832778526655,-0.31837134787619625,0.7873917455162204,-0.11412043427354689,0.11476533469240423,0.3127430519966624,-0.09788877887757969,0.0559578853651689,0.469729834803158,-0.3248822232011158,-0.17686939643014918,-0.14840226519353755,-0.09967762603792357,-0.3442762192574617,-0.014904265398034074,-0.04416484736144851,0.08425459825782632,-0.06973297856739084,0.07604420576198952,0.0956567921948479,-0.06374780201608822,0.008101905820611582,0.08296896647156637,0.10864813090756324,-0.03660817217832613,-0.08127609971650025,-0.06608153246704075,-0.040347785163087346,-0.08205689070205374,-0.06193457447645867,-0.032155960400282714,-0.04336791613649643,-0.26679487424312426,-0.021551045433965278,-0.023556929506982034,0.034120390108266986,-0.05864862008461518,0.6618052303404295,-0.3804509402451788,-0.15478309904271118,-0.13830003703741114,-0.5002899011057433,-0.3336294359234534,1.0,-0.11678471231927244,-0.09743197413511831,0.22499863904025738,-0.2395752637474838,-0.08640403096959877,0.644378754917535,-0.32666109015356426,-0.29567481660228256,-0.21509773291949202,-0.2560429972212205,-0.4980145562747923,-0.13789239917289725,-0.20678452671131695,-0.09154998235515034,0.04643305637502496,0.08034989168937398,0.0040870092460617395,-0.13887286271917287,0.022402447105567935,-0.041505842098438904,0.12908097410906033],[-0.134006122214914,0.03692301312918708,0.31791769611812287,0.07765875490849254,0.015476544910907185,0.049633466718944905,0.018435612343249384,0.01639410887731271,0.33662846383182465,-0.06167586324584517,-0.06844357470166003,-0.001418247173790148,0.015193414227089055,0.05154752094337171,0.17669047315719452,-0.03551986932541457,0.00023975946919870688,-0.01088032665747083,-0.22926480330475277,-0.09644360077121052,-0.10112695640617063,-0.010196553082736747,-0.051026579761300664,-0.05121923173202448,-0.09206600093460794,-0.06720147111161481,-0.04908221140677157,-0.045581599009388594,0.0262670614020885,-0.04215394085761843,-0.09066248404512117,0.08469318458032804,0.0009411393956552198,0.059679078586550575,0.027872925449587926,0.07413932929914507,0.05788325501222642,-0.0018929040410802915,-0.016184522299678726,-0.018368728688147016,-0.05141678248865725,-0.0159305453723701,-0.062095348743664035,0.0022454486829933964,-0.011340096454532876,0.021840318670124075,-0.02888538799639144,-0.11998551257072552,0.11891284491633766,0.0188180605316197,0.06917292218622144,-0.04361419706561363,-0.09222056295067048,0.08217440063712207,-0.02219833176707313,-0.009536905677084664,-0.0644718795414059,0.24299588801462207,-0.005098820530932743,-0.08376594563980264,-0.04189995177918213,-0.020884432822228436,0.0440938929571906,0.5253010363979131,0.33510496333672235,0.19861791278710803,0.23379698945052213,0.18099723035131385,0.06080740709685558,0.16906156502142863,-0.05088568934974048,0.061304502287497946,-0.23602775240537832,-0.061065118961621305,-0.058932182006503235,0.04500446559536064,-0.018339684631834784,-0.10758388377535728,-0.12191015815261481,-0.034855969631121565,0.03419018547069503,-0.06158205697242757,0.05363771909706961,-0.13345940791297134,0.00999582094978709,0.021087067354051896,0.005308311375646483,0.01616303717567427,0.028647403874228792,-0.01642608428076585,-0.0265158564788994,-0.029921281481155016,-0.19962724166411872,-0.03826606119173059,-0.00981872194246661,-0.07593479069151196,0.04358491260625325,-0.07961868656184944,0.20001279766282717,0.03337414838372197,0.04961294396929381,-0.042169615939744234,-0.01404461415847152,-0.11678471231927244,1.0,0.5255357240280324,0.14973111794323968,0.27801283054268927,0.10005648005200295,0.034059179141532545,0.23582569697169747,-0.21350007282320482,0.16847015933444612,-0.23296103584919403,-0.05114267211458031,-0.018614439069898403,0.09717934450279918,-0.09138151790757595,0.022111661307167296,-0.08267989279107928,0.03241624841260685,0.11008782560614165,0.03351804184048667,0.04466824722442157,-0.05343596955957487],[-0.15954341992769622,0.01567020413001846,0.3004146886961677,0.04222966286770791,0.05374697159970589,0.07341094886989774,0.011362164303750364,0.0035587303830928144,0.3254482474438843,-0.03406581115443544,-0.04096262747472823,-0.015062725891939674,0.017194753347086002,0.054576666598836365,0.18408158335822827,-0.01029888812828208,0.017231713707081427,-0.03380158166960057,-0.24597214221490493,-0.11732614171686477,-0.034624363891170656,0.0026912790162866816,-0.03735857170918436,-0.027856605518680157,-0.0793418153482785,-0.04182412465488802,-0.012061774257602378,-0.02948326577132326,0.02724250348485913,-0.025114254575768068,-0.06435463036247029,0.11403416919322804,-0.07119958331049427,-0.03797873083503781,0.0052681300690433615,0.0962935454606433,0.00619556766315998,0.04121154260667552,-0.03647885703466692,-0.006393666242286097,-0.06244291121531103,0.03677099689126774,-0.045273983785504686,0.009121756048947285,-0.0025378303447884955,0.013285333692246925,-0.01545476241705964,-0.15421134685156793,0.06916933728551664,0.03492251319797146,0.04988100640993985,-0.02181085520906115,-0.02876635772556874,0.058671974633112134,0.0029270373920585314,-0.02465007566397767,-0.05271751862988666,0.18523466940502833,0.0421256776034423,-0.055876571512747455,-0.029318302297510677,-0.033307488196458665,0.032161952883001256,0.4279650722511551,0.5078578069549171,0.22015280111092583,0.31331599890488654,0.2575341483965665,0.09239700595934744,0.04212574865875902,0.0591516189635064,0.03304643740188303,-0.22602969627469752,-0.07858018094223225,-0.012519343213468712,-0.05248838626439529,-0.04305620972028907,-0.2219848555602657,-0.07124663183161746,-0.03841125297160214,-0.06594661691616982,-0.15371000808000052,-0.05355469767855611,-0.11812357967208549,-0.06396470041710342,-0.029461497631193635,-0.026774328289546196,0.004786896325553372,0.007120930943217696,-0.011167712311233492,-0.042379178581517546,-0.023369700662426503,-0.21664271267238394,-0.06366870351490385,-0.059472886833844905,-0.07362804663260251,0.07083111576941568,-0.1050320305610865,0.1591314602948675,0.11679404207601692,0.013403974063322293,-0.029997420918805785,-0.009546545737224039,-0.09743197413511831,0.5255357240280324,1.0,0.16118258667719923,0.3712157300387412,0.19042248645979457,0.07655264206274859,-0.06969901962638735,0.04812310784171334,0.1312323217544291,-0.2590030886175743,-0.006097711659835712,-0.003234802439801337,0.025942049112198978,-0.18742228728922908,0.0059620814838007895,-0.0842411385171588,0.013490155530227046,0.00254327945949073,-0.03815060395914158,0.02021875118645267,-0.07208416897246481],[0.07369440738864223,0.03959147329267187,0.31760330199291115,0.021948002653763326,-0.049849686629557244,-0.016466368100198813,0.01663555773343902,0.008282058385368656,0.3297611027858205,0.037004671865761715,-0.012863147892024312,0.0010351262071352481,0.0034117493165958766,0.06345694643847025,0.13544220416799105,0.00846519468204208,0.05770718038970164,-0.030511557340717168,-0.19289275434823436,-0.13023221891687095,-0.0024055180806863644,-0.02016648830057347,-0.012034076473006618,-0.011081106822194754,-0.018131940857489443,-0.032854741673241795,-0.003742637315065838,-0.013611867304322194,0.03569896921166425,-0.050415495594828934,-0.1294768539821494,0.03223349936969798,-0.057587200410811716,-0.020519684325925436,0.07513909147867713,0.026283311325578627,-0.031787331569575736,-0.031622025524003304,0.0032192996842184277,-0.020293370050155617,-0.002428689862034991,-0.000570087886508528,-0.1304744899735045,-0.09231227729625514,-0.0384937598112885,0.07374746821837531,-0.10643918374929905,-0.0215114973698027,0.013030319866383706,0.006906485963651879,0.04492099871296531,0.06590091766711578,-0.0012096587403092644,-0.04973209356466772,-0.013862922139615475,0.11176194613932945,0.03807126581950102,0.023908417189671804,-0.03689681129439535,0.2330199241544064,-0.22411830225633406,-0.10340385484643987,0.2713448129193239,0.1770080514671978,0.1441477489285609,0.6821463583430565,0.04698661958321273,0.21854886848199553,-0.001632316074997665,-0.056025917656860456,-0.07023891089479778,0.2291193177161669,-0.0015810036646346942,-0.12832127763642762,-0.10790622477098552,0.005196572971643576,0.01401433468812786,-0.026705678646630197,-0.011400118504533029,-0.03471972378651561,0.07359792325225975,0.08045089853024757,0.015642207311945107,0.05504750544235429,-0.03419460851552601,-0.04247794963805328,-0.08152909982813235,-0.02506275959685407,-0.07562152795859867,-0.026039654169813384,0.006125497695879642,0.00444893144109742,-0.24720920988810954,0.11062970799962005,0.037236734041002736,-0.05146518209936631,-0.060773169829370255,0.006914640203440108,0.04784503696961153,-0.04755452759599659,0.3547193387367562,-0.329587869823376,-0.029582966516143373,0.22499863904025738,0.14973111794323968,0.16118258667719923,1.0,-0.05723380971315852,0.12604564382550779,-0.030334857246725796,-0.08419751111979712,-0.05498745629929728,0.35786872874761994,0.003609302241610702,-0.1921397522707836,-0.07922856085017921,0.07004116409567376,0.026406140814965097,0.0466178017460653,0.0614055079347699,0.03315331311817394,0.10647751311640781,0.13756724130168374,0.039296053047902076,0.031120400581264668],[-0.2135609692019618,0.00013495264355617748,0.0707346644517472,-0.05768872694004024,-0.05048968754316804,-0.06237504297673454,-0.03925626046194391,-0.02974619547054967,0.10447050788917715,-0.038538656305896195,0.019595910769233636,-0.0018035327530527953,0.08146121481799616,0.002368861317195215,0.11895096416205093,-0.019946176859575428,-0.022212551674427896,0.0005632433395128415,-0.1422648902582809,-0.0648064370513768,-0.052493469957316304,0.03307183906449718,0.0005809693902318283,-0.03929517727318887,-0.054837344108104875,-0.010317777947204773,-0.011181028614109098,-0.018412444444947672,0.003050325388996836,-0.02370801504617983,-0.011093490046882879,0.022968961462906782,-0.1167179459150356,0.14007106207017336,0.02027430614447038,0.11598871091555633,0.02299534945649197,-0.0010869021281494338,-0.021944539598803152,-0.04536796795840777,-0.048362161369751695,-0.02054888066889661,0.003914775143368095,-0.011005248160204763,0.020302012017463237,-0.04733360933086984,0.009024575442187828,0.03795689711332399,0.002298689629737842,0.06722356868382719,0.003851308542205248,0.03171345764760338,0.0022851825878677737,0.05725527061301365,0.06954524597707902,-0.10614414897423133,-0.22316131857697824,0.24577730813245338,0.05568794704073335,-0.1815031759458638,0.1456985259325147,0.13322965897458344,-0.11095588685026574,0.2701913837006795,0.3087061705481712,0.02178054690804643,0.4916640435876793,0.24090594436310475,0.01623362639518924,0.01087085807935672,0.02148617454804745,-0.04688762153865755,-0.05772172862601893,0.03647349540440271,-0.043464749715880394,0.04419503565996154,-0.021542903109458385,-0.04029983850660818,-0.08891921110599701,-0.06485624405087108,0.0004462033708948054,-0.008168705032678955,-0.02125849721314776,-0.015955432359247672,0.05266627510039692,0.0761411685394872,0.09252637767962711,0.0631309731237437,0.1076755849258085,0.04639786443630911,0.056511492398107446,0.012412417347228187,-0.11223111496011211,-0.04296724198904422,0.060622961937420936,0.036988503644319985,0.08092232591215524,-0.2548651665297524,0.18645300013312013,0.07346822645595573,-0.06800827351100569,0.26353631677139494,0.17411940635042975,-0.2395752637474838,0.27801283054268927,0.3712157300387412,-0.05723380971315852,1.0,0.34883399079043514,-0.08343742204664209,-0.007381591081675471,0.028986512435122114,-0.012350510428290738,-0.025025530534377474,0.25498535288157864,-0.023501246357768294,0.16546365088247714,-0.11586148105834704,-0.000783511103296076,-0.09508581964866404,-0.06052664526107599,0.0820541872755874,-0.09323525900532753,0.025902876482125567,-0.06857717404322383],[-0.06288176899681255,0.004392650433384878,0.2293213062806054,0.03580072954514826,-0.012618811524968087,0.05452270723785081,0.012501868102621055,0.003183148605762349,0.24084890428687525,-0.03525337970301136,0.035335002726642695,-0.0411271022960408,0.03251766500333521,0.049505486018108925,0.10687613397891314,-0.0012594882164794518,0.02733405339681191,-0.025646011246263062,-0.14490589266159845,-0.08333595329503642,-0.058578943565219484,-0.04154302747215652,-0.049070110703134204,-0.0712523563189549,-0.09457469471399675,-0.043783716930748194,-0.04827878809741161,-0.06050301924149558,0.01580434297969391,-0.04150049206954755,-0.02314840450792612,0.02366303884995237,-0.09346426556798702,0.0356610199186267,0.006315074878785743,0.023260073867590852,0.0340893631521346,-0.06815050710522041,-0.1300415769793788,-0.06439823939790422,-0.09272451605317168,-0.061365550633107516,0.0019443005798612958,-0.03154976894869437,-0.08215812341923918,-0.058273159290461236,-0.06266122734984911,0.08793073870741197,-0.011450690863684247,0.11733013697833096,0.007989770140814575,0.07582812150062479,-0.043708161089729386,0.0028895346188736086,-0.018866569035246705,-0.05740779042058635,-0.09769582336509985,0.1669061645667933,0.02770431202333108,-0.16384519420655005,-0.027103052855178594,0.1661302838062773,-0.02121177822639195,0.2916848319976796,0.2453127662089716,0.2229203676065119,0.19227092564170348,0.4938909750000412,-0.001234862402146105,-0.11055948964238882,0.013445444009312713,-0.008700849127784368,-0.004462991848874687,0.14971099979230942,-0.06936184029860709,0.03371753591813639,-0.10410555186156711,-0.03914906595823115,-0.05814525332937375,-0.024702650709310416,0.05513698207246439,0.0831402850239815,-0.1881938856377242,-0.11183580118638188,-0.0011518649310392594,-0.0001837233228758069,0.017845897305626423,-0.022222590328370557,0.004005683762842598,0.024672813277546692,0.02026558891492596,-0.026164176999974444,-0.24832162408204872,0.0754280484186849,0.07453152517362313,-0.025427420374854386,-0.02795449761842557,-0.18242518228684088,0.02714826899865065,-0.022785756293717787,-0.08743440107824128,0.11834863805585208,0.3868085974721137,-0.08640403096959877,0.10005648005200295,0.19042248645979457,0.12604564382550779,0.34883399079043514,1.0,-0.14250927887394713,-0.0028582784456387417,0.04940419263511882,-0.1369185537855291,0.03495536089852391,0.44738549804543154,-0.07582727966929738,0.061737713813091906,-0.11357573833628012,-0.07787638631844249,-0.1054079053567942,-0.052693738798317194,-0.009080120644729284,-0.0850816140868044,-0.031424402494838084,-0.16905873387003406],[-0.24964064823229154,0.021665560090688613,0.36427727964069695,0.08148699229874033,0.10948298192033247,0.057990065999011034,0.026638737842543832,0.03312862420394161,0.3905612926375869,-0.0037275814197083317,-0.010917829195145654,0.0003294746313634991,-0.010721352330525246,0.016082980301681194,0.21732669067275728,-0.0823169471501961,0.010248963959605463,0.01311585330505111,-0.2553984126618098,-0.12497803847684628,0.03790169017416004,-0.027077792753465828,-0.06746632792702144,0.03788319947063794,-0.02438833829900742,-0.0001727064493038065,0.02571281327634532,-0.02936464696261954,0.014523886784130236,0.06340260963726085,-0.006159516320495943,-0.013877205500242401,0.0019425378430659803,-0.04337790810590779,-0.034188519537768323,0.016386765707789474,0.015418344463311131,0.15102683798639774,-0.004790210135068484,0.030029613279926825,0.01598678248469274,0.10684019776692473,0.10118464404774576,0.12333193293638267,-0.05404881778381184,-0.09227253783268731,0.016182626695294747,-0.018471979046750218,0.020057464553453586,0.017855876468308808,0.017987339378513094,0.05217449004459089,0.058733562690137485,0.14218365434185665,-0.005823331113810956,-0.0012615705543367985,0.39129107597903606,-0.11814642322634145,-0.02411512919383199,-0.07967277494818191,-0.27272233485832986,-0.2534347314685995,0.5294309261101592,0.005984684132258652,0.08682313215493924,0.04631688264055194,0.0790740910202727,-0.058500879107621306,0.748292653780841,-0.43442275108894296,-0.40565516332015944,-0.1253799103686134,-0.3613253249726693,-0.388557187753337,0.06670370787655454,0.015803797772666266,0.040762873537222535,-0.12459793827095726,0.017454443845109226,0.11781155092055247,0.06936032353028428,0.01588610456330006,0.08313633742452849,0.06269997330095803,-0.10905806184580129,-0.07167467866607186,-0.01937944217674038,-0.050724732842655565,-0.017780499479369848,-0.07852716385528566,-0.0772735013608321,-0.05433594552709238,-0.13777943845413593,-0.11560636114535117,-0.12956233281183366,0.04291380232199594,-0.06459814620090479,0.5905271926379039,-0.2707575787367848,-0.20420594219472896,-0.20731024783656973,-0.3396017505891958,-0.3146990893206511,0.644378754917535,0.034059179141532545,0.07655264206274859,-0.030334857246725796,-0.08343742204664209,-0.14250927887394713,1.0,-0.6122163364798485,-0.637749722859384,-0.19475628282792998,-0.5345389783570297,-0.47711787181120047,-0.0379479939496125,-0.050160070803584346,-0.09120135052879852,0.0774116692497263,0.02626020515649274,0.001085628472225403,0.050865849763521334,-0.0127782578100516,0.0072750522574496265,0.06478899687052658],[0.28204158419017683,0.0016734832720508963,-0.1171611969716207,-0.0687039223356358,-0.07920280691586085,-0.036794450137030685,-0.026156595757322817,-0.03283853277715241,-0.1442301311047155,-0.021762705310572637,-0.0062592447499073955,-0.017593350999794474,-0.0016282369537536044,0.004793675924298152,-0.18071713096247186,0.06971241590857681,0.002794843271261648,-0.02127059577629659,0.1982610501390792,0.11323892752792654,-0.051077772942573804,0.020158702211218148,0.034370706727221347,-0.012068641631193464,0.02825509236798053,-0.0108869746511304,-0.03566327225203668,0.011542954917462506,-0.02166204945674993,0.04363591826523447,-0.006183129753887252,0.04868117029622488,0.03793773993873769,0.04704766304037714,0.06110998697328296,-0.07863231107076583,0.028623655022763272,-0.01462427919605089,0.08239475534905319,0.036336231443185325,0.028335519592355748,-0.0423042914641259,-0.07458540329777848,-0.06712000661376133,0.01961103659658599,0.10311648304091794,0.017601638009119007,-0.07079860525192323,0.007031440648625868,-0.03013033416251784,0.00010444178960253319,-0.05632179703412073,-0.0642197554763231,-0.07560866631129597,-0.04246905665961512,0.06737147899606497,-0.19106876913191315,0.12853412425695965,-0.015702816008506697,0.04270298223507256,0.09717429755561256,0.08158167779694844,-0.3082068567292274,0.08710408828247003,0.028292585753788478,-0.037116395301040314,-0.07559125123394657,-0.01851910757022684,-0.5302878431529655,0.48612054010948197,0.3917002416406161,-0.04384031611602052,0.19270535346749404,0.15671523435638934,-0.02313005113519612,-0.00638385722497537,0.05542434422742154,0.0786150128636659,-0.032678759138416495,-0.062070855808422996,0.00017340811978478447,-0.008628930741683595,0.025009773547811726,-0.0820692634281168,0.11492877489883924,0.09991694092841212,0.05110022327443676,0.08560309659979666,0.031709479361039766,0.050995723291222594,0.08006904556347588,0.04956035332325309,0.06536081670887546,0.057800966930307264,0.06637388587773742,-0.031024280139525084,0.029309490280555385,-0.30170293006143806,0.2321459129073802,0.11418581674644886,0.10382919129956436,0.11585648239070513,0.08571089849166492,-0.32666109015356426,0.23582569697169747,-0.06969901962638735,-0.08419751111979712,-0.007381591081675471,-0.0028582784456387417,-0.6122163364798485,1.0,0.33408150992137864,-0.1253889076069677,0.20120920356575714,0.08799723055094981,0.019005005708700656,0.015602094057277856,0.0614356707541624,0.007829221717838708,-0.05760926083670384,0.03324253737228443,-0.022611963929207574,-0.0040427336268284006,0.00020492216034163728,-0.06166023526894759],[0.2622819638050045,-0.023484272940714188,-0.2722868821274064,-0.07966189351121367,-0.046209190543065076,-0.0573471574726797,-0.03440593682053643,-0.028890623699984175,-0.29404428822286355,0.04778347097877895,0.025672613667219065,-0.025418689629069176,-0.005727386014954215,-0.02180559049740373,-0.21085332101227966,0.09817657353327221,0.03437986903280565,-0.027946356587963534,0.2087273015571544,0.10951290526585301,0.023660334477900877,0.015572645405434585,0.06958472690811052,-0.008480404904333591,0.04801510779612205,0.005736629642879936,0.014709653666523433,0.05128685955206087,0.0008342351792188728,-0.009517513928793584,0.027196958793694527,0.03772063626787308,-0.08602057704420916,-0.034813542063744395,-0.004856772614493347,-0.08332331543436597,-0.1222591359945253,-0.043680540500417975,0.08358696490985533,0.004703913795951542,0.009155880810586877,-0.01353209488756634,-0.08255385791824331,-0.09990387937249873,0.06902181226894925,0.05383880121350983,0.02362477197690133,0.02182603302718628,-0.07384306125010331,-0.08944216925253097,-0.06944177301625773,-0.09218523105855356,-0.05176481010036463,-0.1362399359574521,-0.010482145088076007,0.04892188067376811,-0.1729323520876978,-0.033862947936551355,0.10965098634933902,-0.003168936197768489,0.1714840888978511,0.09769781420331283,-0.29586143673190785,-0.12553149527316537,0.10087555160576864,-0.05199163137546474,-0.08235153791555934,-0.009031055676030166,-0.5367472287623923,0.2717424953825196,0.5789000816510538,-0.0008768083609633246,0.25407643930263407,0.1366692458640441,0.0324699892609297,-0.020514120832478545,0.009613293782123658,0.1967650613481683,0.1413803708116214,-0.015546984031106449,-0.07102614823291983,0.09728568427403986,-0.07143591719828342,0.14205699397234595,0.08085636548333332,0.058581076318088,0.041693815187351525,0.05198715618248966,0.016302919575330067,0.09065724646561663,0.09336387325468938,0.0868368646104748,0.09634605447799419,0.046360524062614136,0.10909241493489558,-0.010118585457966718,0.011488589263064874,-0.3007959060498094,0.08647498266581416,0.24591802536041626,0.02028758584764858,0.21224377218694784,0.0935465799679334,-0.29567481660228256,-0.21350007282320482,0.04812310784171334,-0.05498745629929728,0.028986512435122114,0.04940419263511882,-0.637749722859384,0.33408150992137864,1.0,-0.09779305677615913,0.26890552398895723,0.1457780407088124,0.019463668037600267,-0.05835262035336447,0.1650827188792438,-0.05487594305788635,0.10235370053532099,0.02098671548804389,-0.04805386234563275,0.07147075360325475,-0.009669222536491667,0.05351059340067261],[-0.12503824946095632,-0.01684846200135332,0.023925339056342323,-0.004138726695295124,-0.10518803848185856,-0.056648638023216846,-0.002939448360253712,0.009589510435673113,0.03416297326655587,0.013000038360306278,-0.01456103940239033,0.040094774255260396,0.003208643022844522,0.004661125158094948,0.077064949352331,-0.038511067756610555,-0.03424641914533208,0.026184593858263723,-0.07888797722773697,-0.028217602705347882,-0.00744727611680084,0.03770955631003107,0.04385445859081653,0.0029085216691622138,0.013746387977927788,-0.020288412128798894,0.0069650338219639975,0.021461440810929534,0.0034853588562042768,-0.05904237866475833,-0.09484642947574524,0.024761630973376622,0.009220644533365267,0.03630221991123052,0.04081212517156686,0.026429755254785286,-0.02120385119232858,-0.11795382380959485,-0.08947236832965197,-0.11346410132992778,-0.025466540098767778,0.0242172557253263,-0.011326310949672607,4.7879641181965486e-05,0.06976806686229459,-0.03027864225338465,0.003334428208631887,-0.008227892515629316,0.06958040102554396,0.05405605583856825,0.06540443357350678,-0.01169954090123322,-0.02361869223973844,0.054481924085161546,0.07316623502441666,-0.05456041771155155,-0.2036345493440409,0.14152340571385655,0.06967460065998093,0.1259399096662632,0.06771028521623153,-0.008536302694401922,-0.10669557456119481,0.12880608435584795,-0.09774172400411495,0.21572326790464477,0.02216584960122869,0.001454883753702056,-0.05749500088779868,0.04231941547172456,-0.2033464684387891,0.5018583225596671,-0.24268406288913769,0.042465195450876354,-0.047764923632639934,0.0801117489172419,-0.11212091374605908,-0.04664378078079774,-0.079730251948666,-0.014895128163032892,0.03861919417255324,-0.034974123997683196,-0.04774000805313984,-0.025867318243964873,-0.043293250145609245,-0.04279733788125939,-0.0702995466421622,-0.0319360691906073,-0.016408445510798075,-0.008846528396594323,-0.025164147288881715,0.0009659228804268864,0.04336493276253268,0.027938022471511,0.01714115259367548,-0.05760483379585197,0.013158701570970485,-0.2322833115608033,0.21323802403947684,0.13823915664241548,0.3270678534387299,-0.026694939675436173,-0.08298850898159671,-0.21509773291949202,0.16847015933444612,0.1312323217544291,0.35786872874761994,-0.012350510428290738,-0.1369185537855291,-0.19475628282792998,-0.1253889076069677,-0.09779305677615913,1.0,-0.2550187389819554,-0.06294378835189864,0.06448213294764493,0.08575682648963798,-0.019162920760738025,-0.00581477243109162,0.019877872533515348,0.054752181804485434,0.005405316027085524,0.040520767256610905,-0.024795437236021844,0.029600400257330812],[0.3639013898626692,-0.03550407996037903,-0.3106065617689681,-0.07081293319106213,0.009669929398022907,0.03833397327625788,-0.008177474425738665,-0.028578569964241754,-0.34306290849902016,0.014246160646701117,0.017733783874051244,-0.006333814525413537,-0.005384265175833548,-0.004062672651909132,-0.22605708565223448,0.08747244943609277,0.023814470789142218,-0.025587557380298276,0.26144747343429964,0.10890667047706716,-0.004722797242244208,-0.012427117753692679,0.02413509223501154,-0.030345384784981097,0.01933004017105798,0.026333237876708052,-0.006484462568264248,0.01033335486211029,-0.013088234554129741,-0.014784481147555515,0.06141457431400597,-0.075841152392373,-0.007488086256803424,-0.04994633178507412,0.02596726255290392,0.05633050086369872,0.076474994587215,-0.1151829907164497,0.09675864537746982,0.04149355364799156,0.030643518965358225,-0.19600324318696513,-0.09391731171814863,-0.13716564747574614,-0.05417136798020378,0.08156321501368692,-0.039462012308357095,0.019399084604320355,-0.08588528026840687,-0.09313120068412836,-0.06096958027400719,-0.04274345403158036,-0.059753702650237335,-0.24900183885858754,-0.10513823259951453,-0.006019016312339812,-0.03933057418068181,-0.06252992459356721,-0.11897790098083594,0.10491702839813277,0.09486380286598702,0.0623393199892732,-0.22909974251719478,-0.15064583160513462,-0.1377825470488704,-0.11616451319887043,-0.06996202015623608,-0.06975939299491853,-0.42413584385033604,0.18730623052322937,0.1572009831220159,-0.14935776751274113,0.6481332533143493,0.08132702506436174,-0.10182981154580577,-0.07958195441134268,-0.0037159483088283654,0.10489167997767916,0.0002492208196671835,-0.1581990844720117,-0.12507439340875323,-0.030095167244975518,0.0026372940366016034,-0.08081085535084917,0.102216644152411,0.05596703058228057,-0.002066811842150822,0.054194934485397375,0.008436854663421985,0.04217975902966741,0.053315483955380535,-0.01270958986180774,0.060788083235449764,0.06937161565696845,0.07849408792397491,0.04634186265308591,0.07667020059486591,-0.13771981977081,-0.012935231621192153,-0.09247106783848784,0.11098754204719359,0.1819115080550076,0.13340994755675545,-0.2560429972212205,-0.23296103584919403,-0.2590030886175743,0.003609302241610702,-0.025025530534377474,0.03495536089852391,-0.5345389783570297,0.20120920356575714,0.26890552398895723,-0.2550187389819554,1.0,0.0633364402908114,-0.05928385089337649,-0.032292058306715866,0.053052571986296086,-0.07489358849320206,-0.03933446676531409,-0.09966723832008001,-0.0941713534527633,-0.05307224030460273,-0.000506798834244611,-0.09266497610479313],[-0.169446593153722,0.03271564103128496,-0.2313470861959261,0.03567126047593117,-0.03971171825534372,-0.017534795083796014,0.009599275377004833,0.003964077779383923,-0.2223597879384293,-0.04176298044527768,0.0014275725710965795,0.016558677703891828,0.03926762896733897,-0.03830208161198458,0.002110897629606915,-0.015693192408263102,-0.04863909158420031,0.01191058074504105,0.04474447435710309,0.0083590108908683,-0.0386153981772586,0.007304708388299008,-0.00225236335764523,-0.04790265100936626,-0.04812882044825281,-0.0038101794379603966,-0.041315838027906705,-0.021624158726124196,0.0010396298808879303,-0.11224924045331,0.0393153363411955,0.018108754561963612,0.039073513481341124,0.1237623587353735,-0.03544525045025964,0.015515964731762168,-0.03481048098659356,-0.04409169996401443,-0.16247727033547027,-0.0294738744303919,-0.07989765259986081,-0.02614098022301237,0.016230388821701646,0.0059860163629249724,0.050116940239660804,0.025676630780875443,-0.04407572478643227,0.07947905657429134,0.050978580383722306,0.10787265944253596,0.04094115836458328,0.06073947844966303,0.05386894268668565,0.04896219841992962,0.08206671012899582,-0.05203301554224386,-0.35901052844522746,0.11230865152415147,0.03791677838568598,-0.09906962706072218,0.23618187925189418,0.405441696990195,-0.37101131823094385,0.04332889207267952,-0.06943208054265472,-0.15717610448943078,-0.006813939165180278,0.26758819449045884,-0.31233219618610547,0.09245141744568006,0.12652856655883085,-0.013675123670248096,0.024685026069528257,0.5544091675973587,-0.010261014127050189,-0.01693444613521005,-0.04955990068242966,-0.014570375446799707,-0.054231883665398876,-0.0013990034773012632,-0.02679998293571567,-0.054652484112418104,-0.1194972902191417,-0.08765388479432093,0.00938219555370564,-0.0015208355909013668,0.023983811399743055,-0.045128927305228675,-0.004626376036829541,0.02435170419499897,-0.012309818899369352,0.010197976403750838,0.08732543135407289,0.07098211371874572,0.05985855440143258,-0.07526001494103192,0.0453401310987945,-0.4879995524673725,0.15294987696197193,0.11816527595959285,-0.08821591432684901,0.36955446240371836,0.5690041213356659,-0.4980145562747923,-0.05114267211458031,-0.006097711659835712,-0.1921397522707836,0.25498535288157864,0.44738549804543154,-0.47711787181120047,0.08799723055094981,0.1457780407088124,-0.06294378835189864,0.0633364402908114,1.0,0.062218173507901355,0.12082541365283388,-0.029390000751738914,-0.07796345233587096,-0.07908948180025555,0.00251325374966321,0.024966121908506472,-0.012863239451158897,0.01725425730255488,-0.07119932822372356],[-0.0835990045836928,0.011033313231445352,0.008712368255845766,0.036351573810843904,-0.0013415766307233023,0.0020490861152989777,0.018473385037404033,0.008956447964885445,0.009011052794106977,0.0170072811998818,-0.017564800199050785,0.024120847902201818,0.013427594838293113,-0.0004785859872953189,-0.02208319785511401,-0.007763141500201613,-0.014072445779149671,-0.00857449238158401,0.04828960213029314,0.032360345352397235,0.15801652614129533,-0.03665766129897505,-0.04522526085458885,0.08600550958020016,0.02194464010074371,0.07114772962264326,0.06539381397650575,0.012096620715720489,-0.013332366971783497,0.018896133913634428,0.06668295906694359,-0.1408361372953835,0.12034917642660685,0.053464852513041186,-0.059707985948691936,-0.2234102079238454,-0.17429832819103946,-0.014135357375115995,0.11560875509516674,0.015756665583783674,0.18337489778655977,0.11904600032618974,0.07012901142943598,0.039583005347749736,0.02539559074690427,0.015692392898607122,0.13895389267685598,0.03045988443418926,0.027607551550910575,0.018476298786129094,-0.0020694934018452653,-0.013565920554073555,0.12222186642376466,0.17524906533964066,0.0993840295431186,0.09662057101097786,0.10698469995573273,-0.12820285636961937,-0.05297108723464701,0.0072092643005280494,0.11081261247656393,-0.1308714666295993,-0.12157304572221536,-0.025345929665398757,-0.0077040492872814635,-0.1170974360720687,0.0638060299498158,-0.156109051569894,-0.06336321896134006,-0.0027242919422658628,0.046336720061049504,0.06845061360176746,-0.02014082384175133,0.06025517612093678,0.7823227153992357,0.08532426680171576,0.3737599269994733,0.3050303846638099,0.2630667286426718,0.7013412573471635,0.025766585632532278,0.187337545191576,0.28336556627423903,0.198214851817927,-0.03286319820795179,0.09173038510293266,0.0980699219579369,0.023535375299432643,0.11385222773742965,0.064750806437601,0.02321931655422542,0.29781858222323415,0.004361881754650939,0.2638837709524529,-0.006745462719535777,0.06069191062094976,0.002703417558717445,0.07340987591230128,-0.1335613099083716,-0.021545279881213904,0.024011727954996568,0.07272444403417624,-0.0765005447489661,-0.13789239917289725,-0.018614439069898403,-0.003234802439801337,-0.07922856085017921,-0.023501246357768294,-0.07582727966929738,-0.0379479939496125,0.019005005708700656,0.019463668037600267,0.06448213294764493,-0.05928385089337649,0.062218173507901355,1.0,0.23688986319888486,0.3880151952857044,0.4479010547899682,0.33002753697315085,0.8492602259945576,0.22148544756727792,0.23522190076023158,0.40322829915488606,0.24510417315521557],[-0.140321066428737,0.04311624519310938,0.03024252018538169,0.012533820225159868,-0.02821836279996397,-0.1343892743314658,-0.014251297515742905,9.58555015496459e-05,0.03717806021444717,-0.01608888793041759,0.013692332466185874,-0.010510463758354243,0.03504056486275305,-0.005456684860750815,0.03563146565815485,-0.022276217080557416,-0.03129191544662019,-0.0016192417365943727,-0.006412976758620344,-0.01049299938672418,-0.015868880649723624,0.019041400883872937,-0.015117353989635799,-0.030245600155951083,-0.03831165979786323,-0.022703120873734075,-0.01833201343152524,-0.01741304105703812,-0.003893621118542733,-0.04074910004965221,0.009612329775651334,0.04359048397709921,0.07818617240041825,0.13721050987625968,0.019686805069180583,0.06725476639004611,0.041832896760503384,-0.040872411855946214,0.014209885096310371,0.07879249424026372,0.0028638151621432325,0.08596559970206745,0.10800901692245657,0.06685389653605436,0.07240601610574532,0.0485885536648767,-0.02304306144020115,0.11999009012791644,0.1347505854314233,0.15936515587626826,0.17855686889347872,0.11106555761765824,0.12717426189747597,-0.00793834058507735,0.04019645599341522,0.01635537913692522,-0.2287252872454364,0.30894443774362046,-0.047841355902759945,-0.07130751922066329,0.10665014119802341,0.1081498493073035,-0.17170331075215836,0.10567880101518305,-0.0002876141741423228,0.021220624060766177,0.21107008591486842,-0.01993462925203387,-0.0801867685477319,0.01750479640372997,0.037658264053319894,0.00937374485633885,-0.01172519111409125,0.15127775560194207,0.17378809764178546,0.6347516963555399,0.19079473578536643,0.22862985143012005,0.11073569056980537,0.1985256546906355,0.47557951505982343,0.27304146041501837,0.20158944106589868,0.1498117438956859,0.03877300449420977,0.15587685306165652,0.14515259756987783,0.06469861447949776,0.13257975963040153,0.04979626824704076,0.06578114059666529,0.12934254902679948,-0.009198912185768581,0.017922479189133107,0.07958693331582055,-0.016127097695700872,0.026775899014607682,-0.2358865318400206,0.34618642342409905,0.022722829236793834,-0.02528272919991703,0.10339012291709541,0.08218820973382186,-0.20678452671131695,0.09717934450279918,0.025942049112198978,0.07004116409567376,0.16546365088247714,0.061737713813091906,-0.050160070803584346,0.015602094057277856,-0.05835262035336447,0.08575682648963798,-0.032292058306715866,0.12082541365283388,0.23688986319888486,1.0,0.387328229580733,0.2863650972285081,0.22078637170563462,0.2135888439578321,0.6471208368141734,0.26877885009463454,0.2802729131247096,0.1672483954864302],[0.09541722660768012,0.049328326608420604,-0.005592570574765078,0.057628390725268167,0.057750287535613176,0.026341669066605157,0.020453242033581256,0.023230324225993953,-0.01487937743388547,0.007652435497603613,0.015045223864460954,0.03699700840783271,0.01034628740137827,-0.02381727315560951,-0.0946818090597837,0.019405449377652827,0.0007970492093674861,-0.020345711476996833,0.11665226549646726,0.06587357725564238,-0.009104409580768863,-0.018099155832574338,0.023159406668624566,-0.006962645032386808,0.05062445816327738,0.013099410606852123,-0.018054539530258557,0.014822935961821269,-0.023119124112372644,0.0430987371883367,-0.06824905283062806,-0.08884306881905496,0.08111699616473275,0.07543031694283069,0.07824832076201022,-0.1521147766052946,-0.05207288874201088,-0.07626440228040628,0.10849919685130902,0.06168593158931649,0.067461307998354,0.07588968185907993,0.02221923209751582,0.007418358363297398,-0.029050312721983284,0.053316098418056776,-0.07659241821825688,0.15172696877513872,0.003423440306113418,-0.06647342205072837,0.011306310845019645,-0.04252465545298631,0.07649304833382613,-0.04144723543613884,-0.014967370070935463,0.055912605175866756,-0.003273133626928838,-0.06254020774696688,0.06102974352864961,-0.040164856217940484,-0.02566716442677615,0.07515657355895036,-0.12080113733010345,-0.04754345390535618,-0.08192126712161078,-0.05414861541045351,-0.08372005162851133,-0.14985835094750855,-0.15308438007754824,0.016055993693171705,0.11687093869130662,-0.008503477548059921,0.11641995481539703,0.11013381304710883,0.33538998131415954,0.20146606418635263,0.21358382298381906,0.7012217273237034,0.26881048287995,0.30443466955577875,0.24008066260634503,0.5712228611194147,0.19112979974738198,0.2513089152390893,0.05825309879209853,0.1535711269001914,0.13906950158177914,0.07852480772925516,0.09481657528465053,0.07966058025351407,0.06498218297811552,0.16700845776490783,0.004047943430734841,0.11996229473054976,0.00557071722355045,-0.010961161113819461,0.01798036575186885,-0.03562970210601503,-0.03530952510541417,0.10919476438610473,-0.02621525355428538,-0.0465842783604156,0.035538783870569586,-0.09154998235515034,-0.09138151790757595,-0.18742228728922908,0.026406140814965097,-0.11586148105834704,-0.11357573833628012,-0.09120135052879852,0.0614356707541624,0.1650827188792438,-0.019162920760738025,0.053052571986296086,-0.029390000751738914,0.3880151952857044,0.387328229580733,1.0,0.32819989408096023,0.3938035779891892,0.3006257911547343,0.37810047923097767,0.5980812768886826,0.2620240644262704,0.3479029148783605],[-0.11664972122174172,0.008403062968765897,0.07052675896064192,0.0039035308364388883,-0.050529594743995786,-0.07678131300270223,-0.02265108545394992,-0.0017060755162046715,0.07771031667759429,0.05714604535395142,-0.026555528856619447,-0.019873049212574486,0.021524880115579265,0.013653966894483813,0.037745386775773285,-0.008975872756254484,-0.02947398072454466,0.001147989226486122,-0.043048073995800656,0.013273757549666858,0.14563474019692796,0.028718511977472185,-0.018309512242727276,0.18694422883542236,0.03616295756725475,0.08062879023327235,0.11556169804594092,0.06002546414828996,-0.0049956939249341985,-0.06510278711273826,-0.003064811163808225,-0.01837176793353596,0.030850780366832004,0.08188529997007658,-0.04960961216139342,-0.1392608989853161,-0.23665920037741464,0.048397086914381805,0.18295608627626317,0.17390565795218602,0.09407552419065997,0.15318398608429754,0.07911307945306978,0.10991226643891687,0.019643649654469714,0.043525244145495384,0.14956805302587226,-0.011344898726621403,0.13190938384315046,0.08453190703800902,0.08442816391551376,0.0990024334374331,0.21435993195430725,0.24026613796390642,0.14346402138225176,0.18518154772828702,0.01760740571221993,-0.0376234652336628,-0.15038259934789788,0.20007762670737833,0.06374983551388586,-0.10735072589991056,0.0029612276233313838,0.03356732074843311,0.0644681850678225,0.05517786200159359,0.1101446502287351,-0.12912281009194065,0.005518100664246521,-0.03338166050072184,0.045047834488832594,-0.03424033968907383,0.0205959894246627,-0.01260201283747793,0.39764091903390614,0.1904621346980404,0.7620254070040577,0.16086989326783568,0.24042400766489017,0.38500442739843627,0.17784985930476913,0.18715916320691986,0.742719857136251,0.32855123353237026,0.011818593912420646,0.17314740707786852,0.15876259546702143,0.12632399670284533,0.17038200944069895,0.1341982598146819,0.06908318589754535,0.24945731135748478,-0.02395557930453878,0.22151447650089373,0.03933085668424813,0.061043770552474626,0.056030981340204865,-0.0012391491660347213,-0.0773739439823236,-0.03370305227971301,0.22515685886813247,-0.01717987310925337,-0.0832145494656002,0.04643305637502496,0.022111661307167296,0.0059620814838007895,0.0466178017460653,-0.000783511103296076,-0.07787638631844249,0.0774116692497263,0.007829221717838708,-0.05487594305788635,-0.00581477243109162,-0.07489358849320206,-0.07796345233587096,0.4479010547899682,0.2863650972285081,0.32819989408096023,1.0,0.3543534766059133,0.4175002268396916,0.3573902958427999,0.2395092286201377,0.7817690103823094,0.3244934008880226],[-0.007924216080841692,0.040339275110645875,0.0912899812113772,0.05494028631974754,0.07723079193733041,-0.0017556074565168965,0.01642153891913676,0.018674822938134085,0.09060850434342325,0.0010694697180743998,-0.004032588251223552,-0.033449504833031385,0.00640284084645058,0.009797071347550196,-0.035396572611616224,0.0075841344065435854,-0.005119005481002542,0.009780607548671555,0.0341005442961998,0.028110225474250773,0.04014672411625894,-0.01570094116347601,-0.02905185399914434,0.027595351240795433,0.049583181876634026,0.002079547103462142,0.007628985462918372,0.019054037649488993,0.001877250800345634,-0.06880782817986127,0.01555306030811173,-0.0034689378784113455,0.10014746697369716,0.010103504584868582,-0.025259519827714013,-0.20701096512023712,-0.1605375924170218,0.08407367113983655,0.1448294777692746,0.05606337536009759,0.13035674620353715,0.21892710336674362,0.06065643538961747,0.0985357767409704,-0.031363362750912886,0.10935978324905757,0.12363009718151988,0.08394238240003128,0.06886502019529399,0.09314528407943695,0.07940295973548288,0.11737731132620975,0.17589475610967126,0.1788098781834414,0.10348270525023848,0.10881071331127465,0.04343353296217448,-0.17289290565919696,-0.06675713636005828,-0.06388153801896787,0.2730239541658943,-0.004891981499847791,0.0444717400530668,-0.03391061107142411,0.026479277196111418,-0.0079081124279287,-0.1055397287910679,-0.07472501411371599,-0.021431931107443136,-0.006074766719979334,0.0611921144045835,-0.04407680209180103,0.04334220340694563,0.00016708571492364289,0.2934796163245578,0.17598148908827893,0.3393336487607538,0.3165623325395109,0.7819245195800497,0.204193469284174,0.11681370202730632,0.3279108426181192,0.2131509382847461,0.5514318357056265,-0.0009816312595849962,0.0762610417758596,0.08560939130357699,0.06875880392178917,0.12211482948580647,0.0947958794118638,0.03195872506174062,0.15194780895940727,-0.029700960611009533,0.13016590076689974,0.003204714856507988,0.004282636646897916,-0.017549801164709472,0.029536711906259554,-0.13387944630221588,0.010935880637216733,-0.07514322887413878,0.2170988706130532,-0.09090935412768937,0.08034989168937398,-0.08267989279107928,-0.0842411385171588,0.0614055079347699,-0.09508581964866404,-0.1054079053567942,0.02626020515649274,-0.05760926083670384,0.10235370053532099,0.019877872533515348,-0.03933446676531409,-0.07908948180025555,0.33002753697315085,0.22078637170563462,0.3938035779891892,0.3543534766059133,1.0,0.1958200974376308,0.17396777389608786,0.2797400966409814,0.20765810262194337,0.6075419277939367],[-0.0012871898024870842,-0.00015985213439641095,-0.048536274379025565,0.017414141598947164,-0.039660197360507486,-0.03716798218733813,0.01153680903527072,-0.005289648527627598,-0.052291800220524855,0.004703833281629484,-0.06426944634583127,-0.021297636750645787,-0.009209265994511419,0.004474354965454499,-0.0019254783475662048,-0.0025179976500691818,0.021350156262999378,-0.04690486442452557,0.02637465508313075,0.009091248200503634,0.1757998175841231,-0.03422961631774023,-0.015791895227871718,0.10041172555460637,0.020824393611439118,0.08146910229912024,0.07885110767171635,-0.010583624915750782,0.007253782275360607,-0.0031497538826587065,0.02140358739345859,-0.1357593911504391,0.1112659672123867,0.03107024659251794,0.045165948725672936,-0.16810672542999425,-0.1785057478818285,-0.016920996611776856,0.1412482490759833,0.05258756559516208,0.1576141139202856,0.07162687849124862,0.04008518288297625,0.0203765494531699,0.02546133498815951,-0.01830391910798737,0.08382920110618775,-0.03654105903548296,0.014495658463023612,-0.0634466105773026,-0.06646282972859445,-0.019862881057843215,0.043532484351630436,0.14006929891097833,0.07181967422700539,0.13362186883615515,0.20744705093040147,-0.14461443996899095,-0.02884117197747886,0.021036392206497317,-0.021357690670573998,-0.19860346086947786,-0.012393225692956564,0.02304380721588289,0.06195013047913155,-0.01804352619621548,0.07348123275551471,-0.11367612186888804,-0.034138000375722254,-0.006626461221984406,0.12191706990989364,0.0057795853104648355,-0.03985996259743443,0.00400973431382401,0.7251176544761866,0.08771141915584092,0.33466820041720247,0.1888784218573713,0.14621122624249336,0.7623149713607729,0.08409653746622987,0.20214765623961486,0.34691793456763376,0.23516220422479364,-0.042122958988641566,0.08206967744313977,0.05891433197618416,0.0029335879493176363,0.07346014195443906,0.02722034257229456,0.019159977394555393,0.26389588785828233,-0.02005504334418036,0.21188497000961257,0.03005165647609932,-0.007519789772664498,-0.026931802861107888,0.1646759915815185,-0.14434247489648708,0.02510960576816297,0.021018680915166503,-0.11918332024186172,-0.1485310835432485,0.0040870092460617395,0.03241624841260685,0.013490155530227046,0.03315331311817394,-0.06052664526107599,-0.052693738798317194,0.001085628472225403,0.03324253737228443,0.02098671548804389,0.054752181804485434,-0.09966723832008001,0.00251325374966321,0.8492602259945576,0.2135888439578321,0.3006257911547343,0.4175002268396916,0.1958200974376308,1.0,0.26656282853614055,0.32840746671445104,0.47831019667162256,0.31505390810155476],[-0.1781501474523532,-0.04238818852254966,-0.07213855182323023,-0.0695660226643098,-0.06369729044905502,-0.13831506593421194,-0.043010165333581526,-0.030502415193122707,-0.0525263655476379,0.004434123893659178,-0.06970187350091325,-0.002701307122445301,0.029319737733551263,-0.012973245748753916,0.06628042921404588,-0.025902425161945523,-0.020162593071081293,-0.011992253805165418,-0.037774953184261016,-0.04043916680378314,-0.02724725499349205,0.04271396342640856,0.01076558642846424,0.001427151274606645,-0.036897078228691274,-0.0031788697888850493,-0.01346485493344742,0.002023144200725469,0.038601409195960244,-0.051860214440511865,-0.09295910088050358,0.09028647349098216,0.034593968067748775,0.18448392105248013,0.051155496961613166,0.050353511801852796,0.08752397639603461,-0.13642877795651895,0.08755369312284232,0.2108877428466108,0.07251135198313309,0.058079499825632326,0.1287684502071544,0.11636943114363006,0.0787404280317541,0.07154293679916615,-0.10892375403435885,0.07109133878838596,0.2422043353130335,0.23748294826316846,0.1398689846678607,0.122652666343645,0.0959599037970051,0.0783093581326165,0.11149594104763644,0.004827698533926461,-0.09342410165773421,0.21311875479732606,-0.0780365651514985,-0.04513537801721951,0.007867553692602076,0.04779839283734742,-0.14624100928673092,0.09404711932570685,0.047850633247185574,-0.019958474949748745,0.1703695787016287,-0.0016365696357669302,-0.033669215211931426,0.04302131425999481,0.04379733055698306,-0.04090307361304998,-0.07618920581865578,0.12119085165570574,0.23614992037682686,0.4335256709660745,0.21209160142537917,0.22201596511748933,0.03678133669468465,0.2057062753347907,0.5765607104904129,0.3569898535240308,0.2868577209200679,0.1891763819304457,0.06619006690577553,0.19756895615375122,0.1932974078698806,0.1071129312783809,0.1488532320863507,0.08366084706494462,0.09176846198296919,0.10952586018540482,0.03812298323469624,0.07987771713606817,0.12703159044167617,0.019556460686868664,0.02070864748556698,-0.12191747882074276,0.23525605283190604,0.0024534799749744043,0.013173052190982236,-0.02096945892790935,0.019543181585423303,-0.13887286271917287,0.11008782560614165,0.00254327945949073,0.10647751311640781,0.0820541872755874,-0.009080120644729284,0.050865849763521334,-0.022611963929207574,-0.04805386234563275,0.005405316027085524,-0.0941713534527633,0.024966121908506472,0.22148544756727792,0.6471208368141734,0.37810047923097767,0.3573902958427999,0.17396777389608786,0.26656282853614055,1.0,0.45508068920136546,0.36623583978741064,0.31451991660605844],[0.05494507133386813,-0.0012618730082667004,-0.044116453300619494,0.025494954818212092,0.01498548297465473,-0.0493971370074988,0.00073531270038664,0.01336654426465516,-0.05593585699852831,-0.010216173262242369,0.010453683742769877,0.01906865615592451,-0.014698540869193638,-0.005881914063416343,-0.0421324246806561,0.03721707539488198,0.04259069166667342,-0.0386570019928424,0.029420636925305076,0.009260023071270397,-0.043684695730915275,-0.04099766812627308,0.03804068655637985,-0.019924900453135358,0.020861444783083657,0.0189685683827939,-0.028446571263955757,-0.02930129075938927,-0.011930435107153038,0.048483364332110236,-0.18199076332412661,-0.025927170741690805,0.05905268164079743,0.12973628623098413,0.13776697861542506,-0.13178924764565464,0.012429165671717675,-0.10102086109063388,0.12974950583781983,0.06639723594952768,-0.024514598280320803,0.08117988319784762,0.06963486412588783,0.08215308485032595,0.041802091351119494,0.00890805165583039,-0.13276110890860496,0.06827977510215591,0.07862141228778234,0.05061561760357916,0.1375688193457918,0.053434141426324945,0.04045091930372478,-0.03211730129975628,0.0707353127735917,0.11097672786731233,0.013536639709748931,-0.002910626967172464,0.07003046455853347,-0.038532073829457246,-0.12356172783838376,0.038055824142570964,0.017104424068215072,0.04095603017358409,-0.022120355120703712,0.01788735796661646,-0.07984930487432801,0.018394785947979598,-0.13775550573195747,0.053394006364285,0.1529142736744436,-0.029676793182727024,0.023781254095000634,0.1174527717861837,0.20490041218625257,0.1107969216468405,0.13770644697422169,0.4031779623256189,0.11002140060417864,0.2166832094296449,0.26903332668992624,0.48125787559685135,0.16711475703478423,0.1934160878662362,0.03722371798138922,0.10782437971777215,0.08981859926768707,0.05829742854749123,0.045348731439971306,0.061538105750511565,0.06933003939122821,0.05327408205930836,-0.063414643437656,0.07343891714010281,0.037628077535728215,-0.1423859089063357,0.025884264408350954,-0.03158583619145048,0.05583729038757844,0.12281634258191394,-0.003616121641831432,-0.17510566449965206,-0.007437674186147024,0.022402447105567935,0.03351804184048667,-0.03815060395914158,0.13756724130168374,-0.09323525900532753,-0.0850816140868044,-0.0127782578100516,-0.0040427336268284006,0.07147075360325475,0.040520767256610905,-0.05307224030460273,-0.012863239451158897,0.23522190076023158,0.26877885009463454,0.5980812768886826,0.2395092286201377,0.2797400966409814,0.32840746671445104,0.45508068920136546,1.0,0.24687796457103944,0.5468761825461815],[-0.009537238867445456,0.04833288694404644,0.005875446800569934,0.023721972143546172,-0.05622070979154202,-0.06456216876454794,-0.00830742591567826,0.006360047970124083,0.009757547004305814,0.033364922526734724,-0.10828932786075027,-0.05101684401446754,-0.008882509027905994,-0.002934227146369852,0.007020429310277552,0.0012627745669651518,0.008183698764727307,-0.006400887072133625,-0.014211071975678342,-0.004798195624915303,0.09693165495664705,0.007379403803230726,-0.031019680049870817,0.1536389532981769,0.008287134395999096,0.06448271518051207,0.07657531489634861,0.018297461423673785,-0.008544418933802119,-0.12939133528766605,0.0018918436576920061,-0.05296081675655186,0.1237613339217469,0.11210667962297347,-0.10524852249349392,-0.026745580430736347,-0.1971318087909073,0.022549025735858468,0.22572207548224835,0.21941206628361232,0.12858603708192756,0.02225912986696813,0.06584943027645371,0.07196925681404027,0.08535355983851725,0.09353412930303923,0.07494410597242032,-0.09879280685832088,0.14400066994126132,0.03067065552378726,-0.05704079932245415,0.023872673766536154,0.09945480060184365,0.12224740476593886,0.09064907186393852,0.16323486640544516,0.11383870051846627,-0.05305276249928646,-0.156412225941919,0.16996620762567197,-0.04292245243579913,-0.11120594994884363,-0.0757816808354821,0.05056050675684435,0.09940517135316569,0.060356670254775306,0.12915844569373958,-0.14391502314377924,-0.05026966447273612,0.02798833843945044,0.10535809655867003,-0.028087760654318814,0.040385691139227915,-0.01058280818341354,0.3283352254699631,0.07004309285800489,0.6171184942814099,0.1242401419550685,0.17055876697952715,0.3490931861881576,0.180650879878705,0.1856765376809808,0.7154105083390724,0.28402509129202747,0.02210870361877423,0.18621657974254116,0.16648480115135886,0.10654543714940402,0.157709283897297,0.09185949335646518,0.06585505111574763,0.20161565176203577,0.05248584755644968,0.2636682677101331,0.15735943217676193,0.04064540214536077,0.0017927826413824176,0.0492996385664982,-0.02152535678776129,-0.0999413434566352,0.20049163740719625,-0.08933080999110864,-0.0651847339791042,-0.041505842098438904,0.04466824722442157,0.02021875118645267,0.039296053047902076,0.025902876482125567,-0.031424402494838084,0.0072750522574496265,0.00020492216034163728,-0.009669222536491667,-0.024795437236021844,-0.000506798834244611,0.01725425730255488,0.40322829915488606,0.2802729131247096,0.2620240644262704,0.7817690103823094,0.20765810262194337,0.47831019667162256,0.36623583978741064,0.24687796457103944,1.0,0.3450249516940075],[0.06446606464677389,0.017923849178137045,-0.0009920237056800809,0.013474989247163427,0.04411231194521965,-0.05869718462958469,-0.0035135971017679905,0.004762815697256004,-0.01243476142304983,-0.005642877260981619,-0.03414159489489693,-0.05954356502310875,-0.016964515322161942,0.016275262692791406,-0.06140081681351301,0.028545518440383503,0.02333092121762581,-0.0040095479579602454,0.028959696580976545,0.045795931927893614,0.015647675183512913,-0.04088573874957201,-0.00516304651231724,0.0371117212792285,0.04744678257540685,0.04629088328603591,0.010531865169439967,-0.006015472667692395,0.00625414166791064,-0.031462898284143156,-0.12766258122150126,0.001121084584022737,0.07276949387589049,0.06038980717870602,-0.021741224194952974,-0.048901782101171784,-0.08793247203096079,0.04006022743862969,0.18977031129143032,0.15717040650335773,0.14508942751631715,0.11134048586204391,0.03380671288093104,0.0562665166488346,-0.03887240762517154,0.1094212189136866,0.06577034625912376,0.013699298816574031,0.10869891521282161,0.05935471241890988,0.040455586153263785,0.006209363305028997,0.019374501486915496,0.17048639087010417,0.06330293722066324,0.1554562157933997,0.05812093091615362,-0.1286438455564613,0.07310841814367061,-0.030932969860196308,0.06546279030156373,-0.05421338912076853,0.05681908480191492,-0.011266318895819576,0.04731689145009505,0.035770011112435406,-0.1252516740848053,-0.04250758328024947,-0.04399957918493109,0.07538428081620098,0.1261123165718987,-0.0580518545124779,-0.009403030675366148,-0.0067622225912565255,0.24309851810177058,0.13691897606643544,0.2960648345124796,0.24684040275323843,0.4491263566926597,0.2712158419010115,0.19582940438045776,0.2916286227946598,0.2863955835128021,0.4904214176128502,-0.003095941329555468,0.034440131797379724,0.056122007797316104,0.03421156311752727,0.06882161057477276,0.0647172978100364,0.014833267431939303,0.04337527625026796,-0.02900207050640591,0.05027481373062279,0.0540761345045226,-0.04695599500959448,0.02981347086482374,0.048367412607035525,-0.036331037789377296,0.06897093376000833,-0.01135259885481657,0.04755700927068945,-0.19940807860951215,0.12908097410906033,-0.05343596955957487,-0.07208416897246481,0.031120400581264668,-0.06857717404322383,-0.16905873387003406,0.06478899687052658,-0.06166023526894759,0.05351059340067261,0.029600400257330812,-0.09266497610479313,-0.07119932822372356,0.24510417315521557,0.1672483954864302,0.3479029148783605,0.3244934008880226,0.6075419277939367,0.31505390810155476,0.31451991660605844,0.5468761825461815,0.3450249516940075,1.0]],\"type\":\"heatmap\",\"xaxis\":\"x\",\"yaxis\":\"y\",\"hovertemplate\":\"x: %{x}<br>y: %{y}<br>color: %{z}<extra></extra>\"}],                        {\"template\":{\"data\":{\"bar\":[{\"error_x\":{\"color\":\"#2a3f5f\"},\"error_y\":{\"color\":\"#2a3f5f\"},\"marker\":{\"line\":{\"color\":\"#E5ECF6\",\"width\":0.5},\"pattern\":{\"fillmode\":\"overlay\",\"size\":10,\"solidity\":0.2}},\"type\":\"bar\"}],\"barpolar\":[{\"marker\":{\"line\":{\"color\":\"#E5ECF6\",\"width\":0.5},\"pattern\":{\"fillmode\":\"overlay\",\"size\":10,\"solidity\":0.2}},\"type\":\"barpolar\"}],\"carpet\":[{\"aaxis\":{\"endlinecolor\":\"#2a3f5f\",\"gridcolor\":\"white\",\"linecolor\":\"white\",\"minorgridcolor\":\"white\",\"startlinecolor\":\"#2a3f5f\"},\"baxis\":{\"endlinecolor\":\"#2a3f5f\",\"gridcolor\":\"white\",\"linecolor\":\"white\",\"minorgridcolor\":\"white\",\"startlinecolor\":\"#2a3f5f\"},\"type\":\"carpet\"}],\"choropleth\":[{\"colorbar\":{\"outlinewidth\":0,\"ticks\":\"\"},\"type\":\"choropleth\"}],\"contour\":[{\"colorbar\":{\"outlinewidth\":0,\"ticks\":\"\"},\"colorscale\":[[0.0,\"#0d0887\"],[0.1111111111111111,\"#46039f\"],[0.2222222222222222,\"#7201a8\"],[0.3333333333333333,\"#9c179e\"],[0.4444444444444444,\"#bd3786\"],[0.5555555555555556,\"#d8576b\"],[0.6666666666666666,\"#ed7953\"],[0.7777777777777778,\"#fb9f3a\"],[0.8888888888888888,\"#fdca26\"],[1.0,\"#f0f921\"]],\"type\":\"contour\"}],\"contourcarpet\":[{\"colorbar\":{\"outlinewidth\":0,\"ticks\":\"\"},\"type\":\"contourcarpet\"}],\"heatmap\":[{\"colorbar\":{\"outlinewidth\":0,\"ticks\":\"\"},\"colorscale\":[[0.0,\"#0d0887\"],[0.1111111111111111,\"#46039f\"],[0.2222222222222222,\"#7201a8\"],[0.3333333333333333,\"#9c179e\"],[0.4444444444444444,\"#bd3786\"],[0.5555555555555556,\"#d8576b\"],[0.6666666666666666,\"#ed7953\"],[0.7777777777777778,\"#fb9f3a\"],[0.8888888888888888,\"#fdca26\"],[1.0,\"#f0f921\"]],\"type\":\"heatmap\"}],\"heatmapgl\":[{\"colorbar\":{\"outlinewidth\":0,\"ticks\":\"\"},\"colorscale\":[[0.0,\"#0d0887\"],[0.1111111111111111,\"#46039f\"],[0.2222222222222222,\"#7201a8\"],[0.3333333333333333,\"#9c179e\"],[0.4444444444444444,\"#bd3786\"],[0.5555555555555556,\"#d8576b\"],[0.6666666666666666,\"#ed7953\"],[0.7777777777777778,\"#fb9f3a\"],[0.8888888888888888,\"#fdca26\"],[1.0,\"#f0f921\"]],\"type\":\"heatmapgl\"}],\"histogram\":[{\"marker\":{\"pattern\":{\"fillmode\":\"overlay\",\"size\":10,\"solidity\":0.2}},\"type\":\"histogram\"}],\"histogram2d\":[{\"colorbar\":{\"outlinewidth\":0,\"ticks\":\"\"},\"colorscale\":[[0.0,\"#0d0887\"],[0.1111111111111111,\"#46039f\"],[0.2222222222222222,\"#7201a8\"],[0.3333333333333333,\"#9c179e\"],[0.4444444444444444,\"#bd3786\"],[0.5555555555555556,\"#d8576b\"],[0.6666666666666666,\"#ed7953\"],[0.7777777777777778,\"#fb9f3a\"],[0.8888888888888888,\"#fdca26\"],[1.0,\"#f0f921\"]],\"type\":\"histogram2d\"}],\"histogram2dcontour\":[{\"colorbar\":{\"outlinewidth\":0,\"ticks\":\"\"},\"colorscale\":[[0.0,\"#0d0887\"],[0.1111111111111111,\"#46039f\"],[0.2222222222222222,\"#7201a8\"],[0.3333333333333333,\"#9c179e\"],[0.4444444444444444,\"#bd3786\"],[0.5555555555555556,\"#d8576b\"],[0.6666666666666666,\"#ed7953\"],[0.7777777777777778,\"#fb9f3a\"],[0.8888888888888888,\"#fdca26\"],[1.0,\"#f0f921\"]],\"type\":\"histogram2dcontour\"}],\"mesh3d\":[{\"colorbar\":{\"outlinewidth\":0,\"ticks\":\"\"},\"type\":\"mesh3d\"}],\"parcoords\":[{\"line\":{\"colorbar\":{\"outlinewidth\":0,\"ticks\":\"\"}},\"type\":\"parcoords\"}],\"pie\":[{\"automargin\":true,\"type\":\"pie\"}],\"scatter\":[{\"marker\":{\"colorbar\":{\"outlinewidth\":0,\"ticks\":\"\"}},\"type\":\"scatter\"}],\"scatter3d\":[{\"line\":{\"colorbar\":{\"outlinewidth\":0,\"ticks\":\"\"}},\"marker\":{\"colorbar\":{\"outlinewidth\":0,\"ticks\":\"\"}},\"type\":\"scatter3d\"}],\"scattercarpet\":[{\"marker\":{\"colorbar\":{\"outlinewidth\":0,\"ticks\":\"\"}},\"type\":\"scattercarpet\"}],\"scattergeo\":[{\"marker\":{\"colorbar\":{\"outlinewidth\":0,\"ticks\":\"\"}},\"type\":\"scattergeo\"}],\"scattergl\":[{\"marker\":{\"colorbar\":{\"outlinewidth\":0,\"ticks\":\"\"}},\"type\":\"scattergl\"}],\"scattermapbox\":[{\"marker\":{\"colorbar\":{\"outlinewidth\":0,\"ticks\":\"\"}},\"type\":\"scattermapbox\"}],\"scatterpolar\":[{\"marker\":{\"colorbar\":{\"outlinewidth\":0,\"ticks\":\"\"}},\"type\":\"scatterpolar\"}],\"scatterpolargl\":[{\"marker\":{\"colorbar\":{\"outlinewidth\":0,\"ticks\":\"\"}},\"type\":\"scatterpolargl\"}],\"scatterternary\":[{\"marker\":{\"colorbar\":{\"outlinewidth\":0,\"ticks\":\"\"}},\"type\":\"scatterternary\"}],\"surface\":[{\"colorbar\":{\"outlinewidth\":0,\"ticks\":\"\"},\"colorscale\":[[0.0,\"#0d0887\"],[0.1111111111111111,\"#46039f\"],[0.2222222222222222,\"#7201a8\"],[0.3333333333333333,\"#9c179e\"],[0.4444444444444444,\"#bd3786\"],[0.5555555555555556,\"#d8576b\"],[0.6666666666666666,\"#ed7953\"],[0.7777777777777778,\"#fb9f3a\"],[0.8888888888888888,\"#fdca26\"],[1.0,\"#f0f921\"]],\"type\":\"surface\"}],\"table\":[{\"cells\":{\"fill\":{\"color\":\"#EBF0F8\"},\"line\":{\"color\":\"white\"}},\"header\":{\"fill\":{\"color\":\"#C8D4E3\"},\"line\":{\"color\":\"white\"}},\"type\":\"table\"}]},\"layout\":{\"annotationdefaults\":{\"arrowcolor\":\"#2a3f5f\",\"arrowhead\":0,\"arrowwidth\":1},\"autotypenumbers\":\"strict\",\"coloraxis\":{\"colorbar\":{\"outlinewidth\":0,\"ticks\":\"\"}},\"colorscale\":{\"diverging\":[[0,\"#8e0152\"],[0.1,\"#c51b7d\"],[0.2,\"#de77ae\"],[0.3,\"#f1b6da\"],[0.4,\"#fde0ef\"],[0.5,\"#f7f7f7\"],[0.6,\"#e6f5d0\"],[0.7,\"#b8e186\"],[0.8,\"#7fbc41\"],[0.9,\"#4d9221\"],[1,\"#276419\"]],\"sequential\":[[0.0,\"#0d0887\"],[0.1111111111111111,\"#46039f\"],[0.2222222222222222,\"#7201a8\"],[0.3333333333333333,\"#9c179e\"],[0.4444444444444444,\"#bd3786\"],[0.5555555555555556,\"#d8576b\"],[0.6666666666666666,\"#ed7953\"],[0.7777777777777778,\"#fb9f3a\"],[0.8888888888888888,\"#fdca26\"],[1.0,\"#f0f921\"]],\"sequentialminus\":[[0.0,\"#0d0887\"],[0.1111111111111111,\"#46039f\"],[0.2222222222222222,\"#7201a8\"],[0.3333333333333333,\"#9c179e\"],[0.4444444444444444,\"#bd3786\"],[0.5555555555555556,\"#d8576b\"],[0.6666666666666666,\"#ed7953\"],[0.7777777777777778,\"#fb9f3a\"],[0.8888888888888888,\"#fdca26\"],[1.0,\"#f0f921\"]]},\"colorway\":[\"#636efa\",\"#EF553B\",\"#00cc96\",\"#ab63fa\",\"#FFA15A\",\"#19d3f3\",\"#FF6692\",\"#B6E880\",\"#FF97FF\",\"#FECB52\"],\"font\":{\"color\":\"#2a3f5f\"},\"geo\":{\"bgcolor\":\"white\",\"lakecolor\":\"white\",\"landcolor\":\"#E5ECF6\",\"showlakes\":true,\"showland\":true,\"subunitcolor\":\"white\"},\"hoverlabel\":{\"align\":\"left\"},\"hovermode\":\"closest\",\"mapbox\":{\"style\":\"light\"},\"paper_bgcolor\":\"white\",\"plot_bgcolor\":\"#E5ECF6\",\"polar\":{\"angularaxis\":{\"gridcolor\":\"white\",\"linecolor\":\"white\",\"ticks\":\"\"},\"bgcolor\":\"#E5ECF6\",\"radialaxis\":{\"gridcolor\":\"white\",\"linecolor\":\"white\",\"ticks\":\"\"}},\"scene\":{\"xaxis\":{\"backgroundcolor\":\"#E5ECF6\",\"gridcolor\":\"white\",\"gridwidth\":2,\"linecolor\":\"white\",\"showbackground\":true,\"ticks\":\"\",\"zerolinecolor\":\"white\"},\"yaxis\":{\"backgroundcolor\":\"#E5ECF6\",\"gridcolor\":\"white\",\"gridwidth\":2,\"linecolor\":\"white\",\"showbackground\":true,\"ticks\":\"\",\"zerolinecolor\":\"white\"},\"zaxis\":{\"backgroundcolor\":\"#E5ECF6\",\"gridcolor\":\"white\",\"gridwidth\":2,\"linecolor\":\"white\",\"showbackground\":true,\"ticks\":\"\",\"zerolinecolor\":\"white\"}},\"shapedefaults\":{\"line\":{\"color\":\"#2a3f5f\"}},\"ternary\":{\"aaxis\":{\"gridcolor\":\"white\",\"linecolor\":\"white\",\"ticks\":\"\"},\"baxis\":{\"gridcolor\":\"white\",\"linecolor\":\"white\",\"ticks\":\"\"},\"bgcolor\":\"#E5ECF6\",\"caxis\":{\"gridcolor\":\"white\",\"linecolor\":\"white\",\"ticks\":\"\"}},\"title\":{\"x\":0.05},\"xaxis\":{\"automargin\":true,\"gridcolor\":\"white\",\"linecolor\":\"white\",\"ticks\":\"\",\"title\":{\"standoff\":15},\"zerolinecolor\":\"white\",\"zerolinewidth\":2},\"yaxis\":{\"automargin\":true,\"gridcolor\":\"white\",\"linecolor\":\"white\",\"ticks\":\"\",\"title\":{\"standoff\":15},\"zerolinecolor\":\"white\",\"zerolinewidth\":2}}},\"xaxis\":{\"anchor\":\"y\",\"domain\":[0.0,1.0],\"scaleanchor\":\"y\",\"constrain\":\"domain\"},\"yaxis\":{\"anchor\":\"x\",\"domain\":[0.0,1.0],\"autorange\":\"reversed\",\"constrain\":\"domain\"},\"coloraxis\":{\"colorscale\":[[0.0,\"#0d0887\"],[0.1111111111111111,\"#46039f\"],[0.2222222222222222,\"#7201a8\"],[0.3333333333333333,\"#9c179e\"],[0.4444444444444444,\"#bd3786\"],[0.5555555555555556,\"#d8576b\"],[0.6666666666666666,\"#ed7953\"],[0.7777777777777778,\"#fb9f3a\"],[0.8888888888888888,\"#fdca26\"],[1.0,\"#f0f921\"]]},\"margin\":{\"t\":60}},                        {\"responsive\": true}                    ).then(function(){\n",
              "                            \n",
              "var gd = document.getElementById('fd05bd35-616c-458d-9443-77c5537d8ce0');\n",
              "var x = new MutationObserver(function (mutations, observer) {{\n",
              "        var display = window.getComputedStyle(gd).display;\n",
              "        if (!display || display === 'none') {{\n",
              "            console.log([gd, 'removed!']);\n",
              "            Plotly.purge(gd);\n",
              "            observer.disconnect();\n",
              "        }}\n",
              "}});\n",
              "\n",
              "// Listen for the removal of the full notebook cells\n",
              "var notebookContainer = gd.closest('#notebook-container');\n",
              "if (notebookContainer) {{\n",
              "    x.observe(notebookContainer, {childList: true});\n",
              "}}\n",
              "\n",
              "// Listen for the clearing of the current output cell\n",
              "var outputEl = gd.closest('.output');\n",
              "if (outputEl) {{\n",
              "    x.observe(outputEl, {childList: true});\n",
              "}}\n",
              "\n",
              "                        })                };                            </script>        </div>\n",
              "</body>\n",
              "</html>"
            ]
          },
          "metadata": {}
        }
      ],
      "source": [
        "# # co-relation\n",
        "import plotly.express as px\n",
        "fig1 = px.imshow(df_numeric.corr())\n",
        "fig1.show()"
      ]
    },
    {
      "cell_type": "markdown",
      "metadata": {
        "id": "MEpTgjzC0S21"
      },
      "source": [
        "### Visualizing categorical columns"
      ]
    },
    {
      "cell_type": "code",
      "execution_count": 59,
      "metadata": {
        "id": "irj7akWm0iJ0",
        "colab": {
          "base_uri": "https://localhost:8080/"
        },
        "outputId": "ded1add0-4add-4389-c173-424b4d972f7a"
      },
      "outputs": [
        {
          "output_type": "execute_result",
          "data": {
            "text/plain": [
              "Index([], dtype='object')"
            ]
          },
          "metadata": {},
          "execution_count": 59
        }
      ],
      "source": [
        "df_categorical = df_train.select_dtypes(include =['object'])\n",
        "df_categorical.columns"
      ]
    },
    {
      "cell_type": "markdown",
      "metadata": {
        "id": "3qLeDb2h2t4Z"
      },
      "source": [
        "##Investigating data"
      ]
    },
    {
      "cell_type": "code",
      "execution_count": 60,
      "metadata": {
        "id": "6L77eGU5xaZI",
        "colab": {
          "base_uri": "https://localhost:8080/"
        },
        "outputId": "bc64c1bd-e82e-4a4e-9794-a62ab2b622da"
      },
      "outputs": [
        {
          "output_type": "stream",
          "name": "stdout",
          "text": [
            "<class 'pandas.core.frame.DataFrame'>\n",
            "RangeIndex: 5909 entries, 0 to 5908\n",
            "Data columns (total 131 columns):\n",
            " #    Column    Non-Null Count  Dtype   \n",
            "---   ------    --------------  -----   \n",
            " 0    gender    5909 non-null   int64   \n",
            " 1    condtn    5909 non-null   int64   \n",
            " 2    wave      5909 non-null   int64   \n",
            " 3    round     5909 non-null   int64   \n",
            " 4    position  5909 non-null   int64   \n",
            " 5    positin1  4591 non-null   float64 \n",
            " 6    order     5909 non-null   int64   \n",
            " 7    partner   5909 non-null   int64   \n",
            " 8    pid       5901 non-null   float64 \n",
            " 9    match     5909 non-null   int64   \n",
            " 10   int_corr  5800 non-null   float64 \n",
            " 11   samerace  5909 non-null   int64   \n",
            " 12   age_o     5844 non-null   float64 \n",
            " 13   race_o    5861 non-null   float64 \n",
            " 14   pf_o_att  5850 non-null   float64 \n",
            " 15   pf_o_sin  5850 non-null   float64 \n",
            " 16   pf_o_int  5850 non-null   float64 \n",
            " 17   pf_o_fun  5843 non-null   float64 \n",
            " 18   pf_o_amb  5836 non-null   float64 \n",
            " 19   pf_o_sha  5826 non-null   float64 \n",
            " 20   attr_o    5756 non-null   float64 \n",
            " 21   sinc_o    5700 non-null   float64 \n",
            " 22   intel_o   5689 non-null   float64 \n",
            " 23   fun_o     5644 non-null   float64 \n",
            " 24   amb_o     5397 non-null   float64 \n",
            " 25   shar_o    5122 non-null   float64 \n",
            " 26   like_o    5726 non-null   float64 \n",
            " 27   prob_o    5674 non-null   float64 \n",
            " 28   met_o     5634 non-null   float64 \n",
            " 29   age       5846 non-null   float64 \n",
            " 30   field     5864 non-null   category\n",
            " 31   field_cd  5850 non-null   float64 \n",
            " 32   undergra  3467 non-null   category\n",
            " 33   race      5864 non-null   float64 \n",
            " 34   imprace   5851 non-null   float64 \n",
            " 35   imprelig  5851 non-null   float64 \n",
            " 36   from      5851 non-null   category\n",
            " 37   zipcode   5189 non-null   category\n",
            " 38   income    3047 non-null   category\n",
            " 39   goal      5851 non-null   float64 \n",
            " 40   date      5837 non-null   float64 \n",
            " 41   go_out    5851 non-null   float64 \n",
            " 42   career    5845 non-null   category\n",
            " 43   career_c  5809 non-null   float64 \n",
            " 44   sports    5851 non-null   float64 \n",
            " 45   tvsports  5851 non-null   float64 \n",
            " 46   exercise  5851 non-null   float64 \n",
            " 47   dining    5851 non-null   float64 \n",
            " 48   museums   5851 non-null   float64 \n",
            " 49   art       5851 non-null   float64 \n",
            " 50   hiking    5851 non-null   float64 \n",
            " 51   gaming    5851 non-null   float64 \n",
            " 52   clubbing  5851 non-null   float64 \n",
            " 53   reading   5851 non-null   float64 \n",
            " 54   tv        5851 non-null   float64 \n",
            " 55   theater   5851 non-null   float64 \n",
            " 56   movies    5851 non-null   float64 \n",
            " 57   concerts  5851 non-null   float64 \n",
            " 58   music     5851 non-null   float64 \n",
            " 59   shopping  5851 non-null   float64 \n",
            " 60   yoga      5851 non-null   float64 \n",
            " 61   exphappy  5839 non-null   float64 \n",
            " 62   attr1_1   5851 non-null   float64 \n",
            " 63   sinc1_1   5851 non-null   float64 \n",
            " 64   intel1_1  5851 non-null   float64 \n",
            " 65   fun1_1    5844 non-null   float64 \n",
            " 66   amb1_1    5838 non-null   float64 \n",
            " 67   shar1_1   5821 non-null   float64 \n",
            " 68   attr4_1   4563 non-null   float64 \n",
            " 69   sinc4_1   4563 non-null   float64 \n",
            " 70   intel4_1  4563 non-null   float64 \n",
            " 71   fun4_1    4563 non-null   float64 \n",
            " 72   amb4_1    4563 non-null   float64 \n",
            " 73   shar4_1   4546 non-null   float64 \n",
            " 74   attr2_1   5851 non-null   float64 \n",
            " 75   sinc2_1   5851 non-null   float64 \n",
            " 76   intel2_1  5851 non-null   float64 \n",
            " 77   fun2_1    5851 non-null   float64 \n",
            " 78   amb2_1    5844 non-null   float64 \n",
            " 79   shar2_1   5844 non-null   float64 \n",
            " 80   attr3_1   5828 non-null   float64 \n",
            " 81   sinc3_1   5828 non-null   float64 \n",
            " 82   fun3_1    5828 non-null   float64 \n",
            " 83   intel3_1  5828 non-null   float64 \n",
            " 84   amb3_1    5828 non-null   float64 \n",
            " 85   attr5_1   3457 non-null   float64 \n",
            " 86   sinc5_1   3457 non-null   float64 \n",
            " 87   intel5_1  3457 non-null   float64 \n",
            " 88   fun5_1    3457 non-null   float64 \n",
            " 89   amb5_1    3457 non-null   float64 \n",
            " 90   attr      5766 non-null   float64 \n",
            " 91   sinc      5709 non-null   float64 \n",
            " 92   intel     5704 non-null   float64 \n",
            " 93   fun       5653 non-null   float64 \n",
            " 94   amb       5405 non-null   float64 \n",
            " 95   shar      5147 non-null   float64 \n",
            " 96   like      5734 non-null   float64 \n",
            " 97   prob      5682 non-null   float64 \n",
            " 98   met       5657 non-null   float64 \n",
            " 99   match_es  5083 non-null   float64 \n",
            " 100  satis_2   5262 non-null   float64 \n",
            " 101  length    5262 non-null   float64 \n",
            " 102  numdat_2  5239 non-null   float64 \n",
            " 103  attr1_2   5251 non-null   float64 \n",
            " 104  sinc1_2   5262 non-null   float64 \n",
            " 105  intel1_2  5262 non-null   float64 \n",
            " 106  fun1_2    5262 non-null   float64 \n",
            " 107  amb1_2    5262 non-null   float64 \n",
            " 108  shar1_2   5262 non-null   float64 \n",
            " 109  attr4_2   4063 non-null   float64 \n",
            " 110  sinc4_2   4063 non-null   float64 \n",
            " 111  intel4_2  4063 non-null   float64 \n",
            " 112  fun4_2    4063 non-null   float64 \n",
            " 113  amb4_2    4063 non-null   float64 \n",
            " 114  shar4_2   4063 non-null   float64 \n",
            " 115  attr2_2   4063 non-null   float64 \n",
            " 116  sinc2_2   4063 non-null   float64 \n",
            " 117  intel2_2  4063 non-null   float64 \n",
            " 118  fun2_2    4063 non-null   float64 \n",
            " 119  amb2_2    4063 non-null   float64 \n",
            " 120  shar2_2   4063 non-null   float64 \n",
            " 121  attr3_2   5262 non-null   float64 \n",
            " 122  sinc3_2   5262 non-null   float64 \n",
            " 123  intel3_2  5262 non-null   float64 \n",
            " 124  fun3_2    5262 non-null   float64 \n",
            " 125  amb3_2    5262 non-null   float64 \n",
            " 126  attr5_2   3088 non-null   float64 \n",
            " 127  sinc5_2   3088 non-null   float64 \n",
            " 128  intel5_2  3088 non-null   float64 \n",
            " 129  fun5_2    3088 non-null   float64 \n",
            " 130  amb5_2    3088 non-null   float64 \n",
            "dtypes: category(6), float64(116), int64(9)\n",
            "memory usage: 5.8 MB\n",
            "<class 'pandas.core.frame.DataFrame'>\n",
            "RangeIndex: 5909 entries, 0 to 5908\n",
            "Columns: 131 entries, gender to amb5_2\n",
            "dtypes: category(6), float64(116), int64(9)\n",
            "memory usage: 5.8 MB\n"
          ]
        }
      ],
      "source": [
        "# dataframe.info(verbose,buf=buffer,max_cols,memory_usage,show_counts,null_counts)\n",
        "df_train.info(verbose=True,max_cols=34,memory_usage=True,show_counts=True)  #Investigating data\n",
        "df_train.info()  #another way without using parameters of df.info function"
      ]
    },
    {
      "cell_type": "code",
      "execution_count": 61,
      "metadata": {
        "id": "7LGbldUf13bB",
        "colab": {
          "base_uri": "https://localhost:8080/",
          "height": 322
        },
        "outputId": "6e6a7ae4-7c64-4a76-c882-b82495bfc472"
      },
      "outputs": [
        {
          "output_type": "execute_result",
          "data": {
            "text/plain": [
              "<matplotlib.axes._subplots.AxesSubplot at 0x7f117561c690>"
            ]
          },
          "metadata": {},
          "execution_count": 61
        },
        {
          "output_type": "display_data",
          "data": {
            "image/png": "[encoded data removed]",
            "text/plain": [
              "<Figure size 432x288 with 2 Axes>"
            ]
          },
          "metadata": {
            "needs_background": "light"
          }
        }
      ],
      "source": [
        "# Looking for highly co-related data and then deleting the rows respectively.\n",
        "import seaborn as sns\n",
        "sns.heatmap(data=df_train[['gender', 'position', 'match', 'age', 'goal', 'sinc4_1', 'amb5_1', 'sports', 'art', 'tv', 'amb', 'shopping']].corr(), annot=True)"
      ]
    },
    {
      "cell_type": "code",
      "execution_count": 62,
      "metadata": {
        "id": "UeFZ_rRX3Qen",
        "colab": {
          "base_uri": "https://localhost:8080/",
          "height": 488
        },
        "outputId": "8bf437c3-271e-448b-b459-0048fdb5cb23"
      },
      "outputs": [
        {
          "output_type": "execute_result",
          "data": {
            "text/html": [
              "\n",
              "  <div id=\"df-c9fec175-46e9-40a9-8ac7-c264f92783df\">\n",
              "    <div class=\"colab-df-container\">\n",
              "      <div>\n",
              "<style scoped>\n",
              "    .dataframe tbody tr th:only-of-type {\n",
              "        vertical-align: middle;\n",
              "    }\n",
              "\n",
              "    .dataframe tbody tr th {\n",
              "        vertical-align: top;\n",
              "    }\n",
              "\n",
              "    .dataframe thead th {\n",
              "        text-align: right;\n",
              "    }\n",
              "</style>\n",
              "<table border=\"1\" class=\"dataframe\">\n",
              "  <thead>\n",
              "    <tr style=\"text-align: right;\">\n",
              "      <th></th>\n",
              "      <th>gender</th>\n",
              "      <th>condtn</th>\n",
              "      <th>wave</th>\n",
              "      <th>round</th>\n",
              "      <th>position</th>\n",
              "      <th>positin1</th>\n",
              "      <th>order</th>\n",
              "      <th>partner</th>\n",
              "      <th>pid</th>\n",
              "      <th>match</th>\n",
              "      <th>...</th>\n",
              "      <th>attr3_2</th>\n",
              "      <th>sinc3_2</th>\n",
              "      <th>intel3_2</th>\n",
              "      <th>fun3_2</th>\n",
              "      <th>amb3_2</th>\n",
              "      <th>attr5_2</th>\n",
              "      <th>sinc5_2</th>\n",
              "      <th>intel5_2</th>\n",
              "      <th>fun5_2</th>\n",
              "      <th>amb5_2</th>\n",
              "    </tr>\n",
              "  </thead>\n",
              "  <tbody>\n",
              "    <tr>\n",
              "      <th>0</th>\n",
              "      <td>0</td>\n",
              "      <td>2</td>\n",
              "      <td>14</td>\n",
              "      <td>18</td>\n",
              "      <td>2</td>\n",
              "      <td>2.0</td>\n",
              "      <td>14</td>\n",
              "      <td>12</td>\n",
              "      <td>372.0</td>\n",
              "      <td>0</td>\n",
              "      <td>...</td>\n",
              "      <td>10.0</td>\n",
              "      <td>10.0</td>\n",
              "      <td>10.0</td>\n",
              "      <td>9.0</td>\n",
              "      <td>10.0</td>\n",
              "      <td>10.0</td>\n",
              "      <td>9.0</td>\n",
              "      <td>10.0</td>\n",
              "      <td>9.0</td>\n",
              "      <td>10.0</td>\n",
              "    </tr>\n",
              "    <tr>\n",
              "      <th>1</th>\n",
              "      <td>1</td>\n",
              "      <td>1</td>\n",
              "      <td>3</td>\n",
              "      <td>10</td>\n",
              "      <td>2</td>\n",
              "      <td>NaN</td>\n",
              "      <td>8</td>\n",
              "      <td>8</td>\n",
              "      <td>63.0</td>\n",
              "      <td>0</td>\n",
              "      <td>...</td>\n",
              "      <td>6.0</td>\n",
              "      <td>7.0</td>\n",
              "      <td>7.0</td>\n",
              "      <td>7.0</td>\n",
              "      <td>8.0</td>\n",
              "      <td>NaN</td>\n",
              "      <td>NaN</td>\n",
              "      <td>NaN</td>\n",
              "      <td>NaN</td>\n",
              "      <td>NaN</td>\n",
              "    </tr>\n",
              "    <tr>\n",
              "      <th>2</th>\n",
              "      <td>1</td>\n",
              "      <td>1</td>\n",
              "      <td>13</td>\n",
              "      <td>10</td>\n",
              "      <td>8</td>\n",
              "      <td>8.0</td>\n",
              "      <td>10</td>\n",
              "      <td>10</td>\n",
              "      <td>331.0</td>\n",
              "      <td>0</td>\n",
              "      <td>...</td>\n",
              "      <td>7.0</td>\n",
              "      <td>9.0</td>\n",
              "      <td>9.0</td>\n",
              "      <td>8.0</td>\n",
              "      <td>10.0</td>\n",
              "      <td>7.0</td>\n",
              "      <td>9.0</td>\n",
              "      <td>8.0</td>\n",
              "      <td>7.0</td>\n",
              "      <td>9.0</td>\n",
              "    </tr>\n",
              "    <tr>\n",
              "      <th>3</th>\n",
              "      <td>1</td>\n",
              "      <td>2</td>\n",
              "      <td>9</td>\n",
              "      <td>20</td>\n",
              "      <td>18</td>\n",
              "      <td>13.0</td>\n",
              "      <td>6</td>\n",
              "      <td>7</td>\n",
              "      <td>200.0</td>\n",
              "      <td>0</td>\n",
              "      <td>...</td>\n",
              "      <td>8.0</td>\n",
              "      <td>9.0</td>\n",
              "      <td>8.0</td>\n",
              "      <td>8.0</td>\n",
              "      <td>7.0</td>\n",
              "      <td>NaN</td>\n",
              "      <td>NaN</td>\n",
              "      <td>NaN</td>\n",
              "      <td>NaN</td>\n",
              "      <td>NaN</td>\n",
              "    </tr>\n",
              "    <tr>\n",
              "      <th>4</th>\n",
              "      <td>1</td>\n",
              "      <td>2</td>\n",
              "      <td>14</td>\n",
              "      <td>20</td>\n",
              "      <td>6</td>\n",
              "      <td>6.0</td>\n",
              "      <td>20</td>\n",
              "      <td>17</td>\n",
              "      <td>357.0</td>\n",
              "      <td>0</td>\n",
              "      <td>...</td>\n",
              "      <td>7.0</td>\n",
              "      <td>8.0</td>\n",
              "      <td>9.0</td>\n",
              "      <td>9.0</td>\n",
              "      <td>8.0</td>\n",
              "      <td>7.0</td>\n",
              "      <td>7.0</td>\n",
              "      <td>8.0</td>\n",
              "      <td>8.0</td>\n",
              "      <td>8.0</td>\n",
              "    </tr>\n",
              "    <tr>\n",
              "      <th>...</th>\n",
              "      <td>...</td>\n",
              "      <td>...</td>\n",
              "      <td>...</td>\n",
              "      <td>...</td>\n",
              "      <td>...</td>\n",
              "      <td>...</td>\n",
              "      <td>...</td>\n",
              "      <td>...</td>\n",
              "      <td>...</td>\n",
              "      <td>...</td>\n",
              "      <td>...</td>\n",
              "      <td>...</td>\n",
              "      <td>...</td>\n",
              "      <td>...</td>\n",
              "      <td>...</td>\n",
              "      <td>...</td>\n",
              "      <td>...</td>\n",
              "      <td>...</td>\n",
              "      <td>...</td>\n",
              "      <td>...</td>\n",
              "      <td>...</td>\n",
              "    </tr>\n",
              "    <tr>\n",
              "      <th>5904</th>\n",
              "      <td>0</td>\n",
              "      <td>2</td>\n",
              "      <td>9</td>\n",
              "      <td>20</td>\n",
              "      <td>2</td>\n",
              "      <td>2.0</td>\n",
              "      <td>18</td>\n",
              "      <td>1</td>\n",
              "      <td>214.0</td>\n",
              "      <td>0</td>\n",
              "      <td>...</td>\n",
              "      <td>10.0</td>\n",
              "      <td>10.0</td>\n",
              "      <td>10.0</td>\n",
              "      <td>8.0</td>\n",
              "      <td>10.0</td>\n",
              "      <td>NaN</td>\n",
              "      <td>NaN</td>\n",
              "      <td>NaN</td>\n",
              "      <td>NaN</td>\n",
              "      <td>NaN</td>\n",
              "    </tr>\n",
              "    <tr>\n",
              "      <th>5905</th>\n",
              "      <td>1</td>\n",
              "      <td>2</td>\n",
              "      <td>9</td>\n",
              "      <td>20</td>\n",
              "      <td>19</td>\n",
              "      <td>15.0</td>\n",
              "      <td>5</td>\n",
              "      <td>6</td>\n",
              "      <td>199.0</td>\n",
              "      <td>0</td>\n",
              "      <td>...</td>\n",
              "      <td>6.0</td>\n",
              "      <td>9.0</td>\n",
              "      <td>8.0</td>\n",
              "      <td>8.0</td>\n",
              "      <td>7.0</td>\n",
              "      <td>NaN</td>\n",
              "      <td>NaN</td>\n",
              "      <td>NaN</td>\n",
              "      <td>NaN</td>\n",
              "      <td>NaN</td>\n",
              "    </tr>\n",
              "    <tr>\n",
              "      <th>5906</th>\n",
              "      <td>0</td>\n",
              "      <td>2</td>\n",
              "      <td>11</td>\n",
              "      <td>21</td>\n",
              "      <td>5</td>\n",
              "      <td>5.0</td>\n",
              "      <td>3</td>\n",
              "      <td>18</td>\n",
              "      <td>290.0</td>\n",
              "      <td>0</td>\n",
              "      <td>...</td>\n",
              "      <td>7.0</td>\n",
              "      <td>10.0</td>\n",
              "      <td>9.0</td>\n",
              "      <td>8.0</td>\n",
              "      <td>4.0</td>\n",
              "      <td>6.0</td>\n",
              "      <td>10.0</td>\n",
              "      <td>8.0</td>\n",
              "      <td>9.0</td>\n",
              "      <td>7.0</td>\n",
              "    </tr>\n",
              "    <tr>\n",
              "      <th>5907</th>\n",
              "      <td>1</td>\n",
              "      <td>2</td>\n",
              "      <td>7</td>\n",
              "      <td>16</td>\n",
              "      <td>6</td>\n",
              "      <td>14.0</td>\n",
              "      <td>9</td>\n",
              "      <td>10</td>\n",
              "      <td>151.0</td>\n",
              "      <td>1</td>\n",
              "      <td>...</td>\n",
              "      <td>7.0</td>\n",
              "      <td>7.0</td>\n",
              "      <td>9.0</td>\n",
              "      <td>7.0</td>\n",
              "      <td>8.0</td>\n",
              "      <td>NaN</td>\n",
              "      <td>NaN</td>\n",
              "      <td>NaN</td>\n",
              "      <td>NaN</td>\n",
              "      <td>NaN</td>\n",
              "    </tr>\n",
              "    <tr>\n",
              "      <th>5908</th>\n",
              "      <td>0</td>\n",
              "      <td>2</td>\n",
              "      <td>21</td>\n",
              "      <td>22</td>\n",
              "      <td>7</td>\n",
              "      <td>7.0</td>\n",
              "      <td>2</td>\n",
              "      <td>12</td>\n",
              "      <td>542.0</td>\n",
              "      <td>0</td>\n",
              "      <td>...</td>\n",
              "      <td>7.0</td>\n",
              "      <td>7.0</td>\n",
              "      <td>7.0</td>\n",
              "      <td>9.0</td>\n",
              "      <td>6.0</td>\n",
              "      <td>7.0</td>\n",
              "      <td>6.0</td>\n",
              "      <td>7.0</td>\n",
              "      <td>7.0</td>\n",
              "      <td>6.0</td>\n",
              "    </tr>\n",
              "  </tbody>\n",
              "</table>\n",
              "<p>5909 rows × 130 columns</p>\n",
              "</div>\n",
              "      <button class=\"colab-df-convert\" onclick=\"convertToInteractive('df-c9fec175-46e9-40a9-8ac7-c264f92783df')\"\n",
              "              title=\"Convert this dataframe to an interactive table.\"\n",
              "              style=\"display:none;\">\n",
              "        \n",
              "  <svg xmlns=\"http://www.w3.org/2000/svg\" height=\"24px\"viewBox=\"0 0 24 24\"\n",
              "       width=\"24px\">\n",
              "    <path d=\"M0 0h24v24H0V0z\" fill=\"none\"/>\n",
              "    <path d=\"M18.56 5.44l.94 2.06.94-2.06 2.06-.94-2.06-.94-.94-2.06-.94 2.06-2.06.94zm-11 1L8.5 8.5l.94-2.06 2.06-.94-2.06-.94L8.5 2.5l-.94 2.06-2.06.94zm10 10l.94 2.06.94-2.06 2.06-.94-2.06-.94-.94-2.06-.94 2.06-2.06.94z\"/><path d=\"M17.41 7.96l-1.37-1.37c-.4-.4-.92-.59-1.43-.59-.52 0-1.04.2-1.43.59L10.3 9.45l-7.72 7.72c-.78.78-.78 2.05 0 2.83L4 21.41c.39.39.9.59 1.41.59.51 0 1.02-.2 1.41-.59l7.78-7.78 2.81-2.81c.8-.78.8-2.07 0-2.86zM5.41 20L4 18.59l7.72-7.72 1.47 1.35L5.41 20z\"/>\n",
              "  </svg>\n",
              "      </button>\n",
              "      \n",
              "  <style>\n",
              "    .colab-df-container {\n",
              "      display:flex;\n",
              "      flex-wrap:wrap;\n",
              "      gap: 12px;\n",
              "    }\n",
              "\n",
              "    .colab-df-convert {\n",
              "      background-color: #E8F0FE;\n",
              "      border: none;\n",
              "      border-radius: 50%;\n",
              "      cursor: pointer;\n",
              "      display: none;\n",
              "      fill: #1967D2;\n",
              "      height: 32px;\n",
              "      padding: 0 0 0 0;\n",
              "      width: 32px;\n",
              "    }\n",
              "\n",
              "    .colab-df-convert:hover {\n",
              "      background-color: #E2EBFA;\n",
              "      box-shadow: 0px 1px 2px rgba(60, 64, 67, 0.3), 0px 1px 3px 1px rgba(60, 64, 67, 0.15);\n",
              "      fill: #174EA6;\n",
              "    }\n",
              "\n",
              "    [theme=dark] .colab-df-convert {\n",
              "      background-color: #3B4455;\n",
              "      fill: #D2E3FC;\n",
              "    }\n",
              "\n",
              "    [theme=dark] .colab-df-convert:hover {\n",
              "      background-color: #434B5C;\n",
              "      box-shadow: 0px 1px 3px 1px rgba(0, 0, 0, 0.15);\n",
              "      filter: drop-shadow(0px 1px 2px rgba(0, 0, 0, 0.3));\n",
              "      fill: #FFFFFF;\n",
              "    }\n",
              "  </style>\n",
              "\n",
              "      <script>\n",
              "        const buttonEl =\n",
              "          document.querySelector('#df-c9fec175-46e9-40a9-8ac7-c264f92783df button.colab-df-convert');\n",
              "        buttonEl.style.display =\n",
              "          google.colab.kernel.accessAllowed ? 'block' : 'none';\n",
              "\n",
              "        async function convertToInteractive(key) {\n",
              "          const element = document.querySelector('#df-c9fec175-46e9-40a9-8ac7-c264f92783df');\n",
              "          const dataTable =\n",
              "            await google.colab.kernel.invokeFunction('convertToInteractive',\n",
              "                                                     [key], {});\n",
              "          if (!dataTable) return;\n",
              "\n",
              "          const docLinkHtml = 'Like what you see? Visit the ' +\n",
              "            '<a target=\"_blank\" href=https://colab.research.google.com/notebooks/data_table.ipynb>data table notebook</a>'\n",
              "            + ' to learn more about interactive tables.';\n",
              "          element.innerHTML = '';\n",
              "          dataTable['output_type'] = 'display_data';\n",
              "          await google.colab.output.renderOutput(dataTable, element);\n",
              "          const docLink = document.createElement('div');\n",
              "          docLink.innerHTML = docLinkHtml;\n",
              "          element.appendChild(docLink);\n",
              "        }\n",
              "      </script>\n",
              "    </div>\n",
              "  </div>\n",
              "  "
            ],
            "text/plain": [
              "      gender  condtn  wave  round  position  positin1  order  partner    pid  \\\n",
              "0          0       2    14     18         2       2.0     14       12  372.0   \n",
              "1          1       1     3     10         2       NaN      8        8   63.0   \n",
              "2          1       1    13     10         8       8.0     10       10  331.0   \n",
              "3          1       2     9     20        18      13.0      6        7  200.0   \n",
              "4          1       2    14     20         6       6.0     20       17  357.0   \n",
              "...      ...     ...   ...    ...       ...       ...    ...      ...    ...   \n",
              "5904       0       2     9     20         2       2.0     18        1  214.0   \n",
              "5905       1       2     9     20        19      15.0      5        6  199.0   \n",
              "5906       0       2    11     21         5       5.0      3       18  290.0   \n",
              "5907       1       2     7     16         6      14.0      9       10  151.0   \n",
              "5908       0       2    21     22         7       7.0      2       12  542.0   \n",
              "\n",
              "      match  ...  attr3_2  sinc3_2  intel3_2  fun3_2  amb3_2  attr5_2  \\\n",
              "0         0  ...     10.0     10.0      10.0     9.0    10.0     10.0   \n",
              "1         0  ...      6.0      7.0       7.0     7.0     8.0      NaN   \n",
              "2         0  ...      7.0      9.0       9.0     8.0    10.0      7.0   \n",
              "3         0  ...      8.0      9.0       8.0     8.0     7.0      NaN   \n",
              "4         0  ...      7.0      8.0       9.0     9.0     8.0      7.0   \n",
              "...     ...  ...      ...      ...       ...     ...     ...      ...   \n",
              "5904      0  ...     10.0     10.0      10.0     8.0    10.0      NaN   \n",
              "5905      0  ...      6.0      9.0       8.0     8.0     7.0      NaN   \n",
              "5906      0  ...      7.0     10.0       9.0     8.0     4.0      6.0   \n",
              "5907      1  ...      7.0      7.0       9.0     7.0     8.0      NaN   \n",
              "5908      0  ...      7.0      7.0       7.0     9.0     6.0      7.0   \n",
              "\n",
              "      sinc5_2  intel5_2  fun5_2  amb5_2  \n",
              "0         9.0      10.0     9.0    10.0  \n",
              "1         NaN       NaN     NaN     NaN  \n",
              "2         9.0       8.0     7.0     9.0  \n",
              "3         NaN       NaN     NaN     NaN  \n",
              "4         7.0       8.0     8.0     8.0  \n",
              "...       ...       ...     ...     ...  \n",
              "5904      NaN       NaN     NaN     NaN  \n",
              "5905      NaN       NaN     NaN     NaN  \n",
              "5906     10.0       8.0     9.0     7.0  \n",
              "5907      NaN       NaN     NaN     NaN  \n",
              "5908      6.0       7.0     7.0     6.0  \n",
              "\n",
              "[5909 rows x 130 columns]"
            ]
          },
          "metadata": {},
          "execution_count": 62
        }
      ],
      "source": [
        "df_train.drop(['shopping'], axis=1) "
      ]
    },
    {
      "cell_type": "code",
      "execution_count": 63,
      "metadata": {
        "id": "L3Mv8hTIQBi9",
        "colab": {
          "base_uri": "https://localhost:8080/",
          "height": 296
        },
        "outputId": "4dff8b6c-b36e-4bbe-d0a3-f650154e7a1f"
      },
      "outputs": [
        {
          "output_type": "execute_result",
          "data": {
            "text/plain": [
              "<matplotlib.axes._subplots.AxesSubplot at 0x7f117170f210>"
            ]
          },
          "metadata": {},
          "execution_count": 63
        },
        {
          "output_type": "display_data",
          "data": {
            "image/png": "[encoded data removed]",
            "text/plain": [
              "<Figure size 432x288 with 1 Axes>"
            ]
          },
          "metadata": {}
        }
      ],
      "source": [
        "# the count of the matched vs not matched\n",
        "sns.set_style('whitegrid')\n",
        "sns.countplot(x='match', data=df_train,palette='RdBu_r')"
      ]
    },
    {
      "cell_type": "code",
      "execution_count": 64,
      "metadata": {
        "id": "Vql1IYnhcPjg",
        "colab": {
          "base_uri": "https://localhost:8080/",
          "height": 488
        },
        "outputId": "a4d0e702-32ce-475f-a787-2bd08afeddbb"
      },
      "outputs": [
        {
          "output_type": "execute_result",
          "data": {
            "text/html": [
              "\n",
              "  <div id=\"df-ed8d44df-235d-4918-9781-411eb40a30bf\">\n",
              "    <div class=\"colab-df-container\">\n",
              "      <div>\n",
              "<style scoped>\n",
              "    .dataframe tbody tr th:only-of-type {\n",
              "        vertical-align: middle;\n",
              "    }\n",
              "\n",
              "    .dataframe tbody tr th {\n",
              "        vertical-align: top;\n",
              "    }\n",
              "\n",
              "    .dataframe thead th {\n",
              "        text-align: right;\n",
              "    }\n",
              "</style>\n",
              "<table border=\"1\" class=\"dataframe\">\n",
              "  <thead>\n",
              "    <tr style=\"text-align: right;\">\n",
              "      <th></th>\n",
              "      <th>gender</th>\n",
              "      <th>condtn</th>\n",
              "      <th>wave</th>\n",
              "      <th>round</th>\n",
              "      <th>position</th>\n",
              "      <th>positin1</th>\n",
              "      <th>order</th>\n",
              "      <th>partner</th>\n",
              "      <th>pid</th>\n",
              "      <th>match</th>\n",
              "      <th>...</th>\n",
              "      <th>attr3_2</th>\n",
              "      <th>sinc3_2</th>\n",
              "      <th>intel3_2</th>\n",
              "      <th>fun3_2</th>\n",
              "      <th>amb3_2</th>\n",
              "      <th>attr5_2</th>\n",
              "      <th>sinc5_2</th>\n",
              "      <th>intel5_2</th>\n",
              "      <th>fun5_2</th>\n",
              "      <th>amb5_2</th>\n",
              "    </tr>\n",
              "  </thead>\n",
              "  <tbody>\n",
              "    <tr>\n",
              "      <th>0</th>\n",
              "      <td>False</td>\n",
              "      <td>False</td>\n",
              "      <td>False</td>\n",
              "      <td>False</td>\n",
              "      <td>False</td>\n",
              "      <td>False</td>\n",
              "      <td>False</td>\n",
              "      <td>False</td>\n",
              "      <td>False</td>\n",
              "      <td>False</td>\n",
              "      <td>...</td>\n",
              "      <td>False</td>\n",
              "      <td>False</td>\n",
              "      <td>False</td>\n",
              "      <td>False</td>\n",
              "      <td>False</td>\n",
              "      <td>False</td>\n",
              "      <td>False</td>\n",
              "      <td>False</td>\n",
              "      <td>False</td>\n",
              "      <td>False</td>\n",
              "    </tr>\n",
              "    <tr>\n",
              "      <th>1</th>\n",
              "      <td>False</td>\n",
              "      <td>False</td>\n",
              "      <td>False</td>\n",
              "      <td>False</td>\n",
              "      <td>False</td>\n",
              "      <td>True</td>\n",
              "      <td>False</td>\n",
              "      <td>False</td>\n",
              "      <td>False</td>\n",
              "      <td>False</td>\n",
              "      <td>...</td>\n",
              "      <td>False</td>\n",
              "      <td>False</td>\n",
              "      <td>False</td>\n",
              "      <td>False</td>\n",
              "      <td>False</td>\n",
              "      <td>True</td>\n",
              "      <td>True</td>\n",
              "      <td>True</td>\n",
              "      <td>True</td>\n",
              "      <td>True</td>\n",
              "    </tr>\n",
              "    <tr>\n",
              "      <th>2</th>\n",
              "      <td>False</td>\n",
              "      <td>False</td>\n",
              "      <td>False</td>\n",
              "      <td>False</td>\n",
              "      <td>False</td>\n",
              "      <td>False</td>\n",
              "      <td>False</td>\n",
              "      <td>False</td>\n",
              "      <td>False</td>\n",
              "      <td>False</td>\n",
              "      <td>...</td>\n",
              "      <td>False</td>\n",
              "      <td>False</td>\n",
              "      <td>False</td>\n",
              "      <td>False</td>\n",
              "      <td>False</td>\n",
              "      <td>False</td>\n",
              "      <td>False</td>\n",
              "      <td>False</td>\n",
              "      <td>False</td>\n",
              "      <td>False</td>\n",
              "    </tr>\n",
              "    <tr>\n",
              "      <th>3</th>\n",
              "      <td>False</td>\n",
              "      <td>False</td>\n",
              "      <td>False</td>\n",
              "      <td>False</td>\n",
              "      <td>False</td>\n",
              "      <td>False</td>\n",
              "      <td>False</td>\n",
              "      <td>False</td>\n",
              "      <td>False</td>\n",
              "      <td>False</td>\n",
              "      <td>...</td>\n",
              "      <td>False</td>\n",
              "      <td>False</td>\n",
              "      <td>False</td>\n",
              "      <td>False</td>\n",
              "      <td>False</td>\n",
              "      <td>True</td>\n",
              "      <td>True</td>\n",
              "      <td>True</td>\n",
              "      <td>True</td>\n",
              "      <td>True</td>\n",
              "    </tr>\n",
              "    <tr>\n",
              "      <th>4</th>\n",
              "      <td>False</td>\n",
              "      <td>False</td>\n",
              "      <td>False</td>\n",
              "      <td>False</td>\n",
              "      <td>False</td>\n",
              "      <td>False</td>\n",
              "      <td>False</td>\n",
              "      <td>False</td>\n",
              "      <td>False</td>\n",
              "      <td>False</td>\n",
              "      <td>...</td>\n",
              "      <td>False</td>\n",
              "      <td>False</td>\n",
              "      <td>False</td>\n",
              "      <td>False</td>\n",
              "      <td>False</td>\n",
              "      <td>False</td>\n",
              "      <td>False</td>\n",
              "      <td>False</td>\n",
              "      <td>False</td>\n",
              "      <td>False</td>\n",
              "    </tr>\n",
              "    <tr>\n",
              "      <th>...</th>\n",
              "      <td>...</td>\n",
              "      <td>...</td>\n",
              "      <td>...</td>\n",
              "      <td>...</td>\n",
              "      <td>...</td>\n",
              "      <td>...</td>\n",
              "      <td>...</td>\n",
              "      <td>...</td>\n",
              "      <td>...</td>\n",
              "      <td>...</td>\n",
              "      <td>...</td>\n",
              "      <td>...</td>\n",
              "      <td>...</td>\n",
              "      <td>...</td>\n",
              "      <td>...</td>\n",
              "      <td>...</td>\n",
              "      <td>...</td>\n",
              "      <td>...</td>\n",
              "      <td>...</td>\n",
              "      <td>...</td>\n",
              "      <td>...</td>\n",
              "    </tr>\n",
              "    <tr>\n",
              "      <th>5904</th>\n",
              "      <td>False</td>\n",
              "      <td>False</td>\n",
              "      <td>False</td>\n",
              "      <td>False</td>\n",
              "      <td>False</td>\n",
              "      <td>False</td>\n",
              "      <td>False</td>\n",
              "      <td>False</td>\n",
              "      <td>False</td>\n",
              "      <td>False</td>\n",
              "      <td>...</td>\n",
              "      <td>False</td>\n",
              "      <td>False</td>\n",
              "      <td>False</td>\n",
              "      <td>False</td>\n",
              "      <td>False</td>\n",
              "      <td>True</td>\n",
              "      <td>True</td>\n",
              "      <td>True</td>\n",
              "      <td>True</td>\n",
              "      <td>True</td>\n",
              "    </tr>\n",
              "    <tr>\n",
              "      <th>5905</th>\n",
              "      <td>False</td>\n",
              "      <td>False</td>\n",
              "      <td>False</td>\n",
              "      <td>False</td>\n",
              "      <td>False</td>\n",
              "      <td>False</td>\n",
              "      <td>False</td>\n",
              "      <td>False</td>\n",
              "      <td>False</td>\n",
              "      <td>False</td>\n",
              "      <td>...</td>\n",
              "      <td>False</td>\n",
              "      <td>False</td>\n",
              "      <td>False</td>\n",
              "      <td>False</td>\n",
              "      <td>False</td>\n",
              "      <td>True</td>\n",
              "      <td>True</td>\n",
              "      <td>True</td>\n",
              "      <td>True</td>\n",
              "      <td>True</td>\n",
              "    </tr>\n",
              "    <tr>\n",
              "      <th>5906</th>\n",
              "      <td>False</td>\n",
              "      <td>False</td>\n",
              "      <td>False</td>\n",
              "      <td>False</td>\n",
              "      <td>False</td>\n",
              "      <td>False</td>\n",
              "      <td>False</td>\n",
              "      <td>False</td>\n",
              "      <td>False</td>\n",
              "      <td>False</td>\n",
              "      <td>...</td>\n",
              "      <td>False</td>\n",
              "      <td>False</td>\n",
              "      <td>False</td>\n",
              "      <td>False</td>\n",
              "      <td>False</td>\n",
              "      <td>False</td>\n",
              "      <td>False</td>\n",
              "      <td>False</td>\n",
              "      <td>False</td>\n",
              "      <td>False</td>\n",
              "    </tr>\n",
              "    <tr>\n",
              "      <th>5907</th>\n",
              "      <td>False</td>\n",
              "      <td>False</td>\n",
              "      <td>False</td>\n",
              "      <td>False</td>\n",
              "      <td>False</td>\n",
              "      <td>False</td>\n",
              "      <td>False</td>\n",
              "      <td>False</td>\n",
              "      <td>False</td>\n",
              "      <td>False</td>\n",
              "      <td>...</td>\n",
              "      <td>False</td>\n",
              "      <td>False</td>\n",
              "      <td>False</td>\n",
              "      <td>False</td>\n",
              "      <td>False</td>\n",
              "      <td>True</td>\n",
              "      <td>True</td>\n",
              "      <td>True</td>\n",
              "      <td>True</td>\n",
              "      <td>True</td>\n",
              "    </tr>\n",
              "    <tr>\n",
              "      <th>5908</th>\n",
              "      <td>False</td>\n",
              "      <td>False</td>\n",
              "      <td>False</td>\n",
              "      <td>False</td>\n",
              "      <td>False</td>\n",
              "      <td>False</td>\n",
              "      <td>False</td>\n",
              "      <td>False</td>\n",
              "      <td>False</td>\n",
              "      <td>False</td>\n",
              "      <td>...</td>\n",
              "      <td>False</td>\n",
              "      <td>False</td>\n",
              "      <td>False</td>\n",
              "      <td>False</td>\n",
              "      <td>False</td>\n",
              "      <td>False</td>\n",
              "      <td>False</td>\n",
              "      <td>False</td>\n",
              "      <td>False</td>\n",
              "      <td>False</td>\n",
              "    </tr>\n",
              "  </tbody>\n",
              "</table>\n",
              "<p>5909 rows × 131 columns</p>\n",
              "</div>\n",
              "      <button class=\"colab-df-convert\" onclick=\"convertToInteractive('df-ed8d44df-235d-4918-9781-411eb40a30bf')\"\n",
              "              title=\"Convert this dataframe to an interactive table.\"\n",
              "              style=\"display:none;\">\n",
              "        \n",
              "  <svg xmlns=\"http://www.w3.org/2000/svg\" height=\"24px\"viewBox=\"0 0 24 24\"\n",
              "       width=\"24px\">\n",
              "    <path d=\"M0 0h24v24H0V0z\" fill=\"none\"/>\n",
              "    <path d=\"M18.56 5.44l.94 2.06.94-2.06 2.06-.94-2.06-.94-.94-2.06-.94 2.06-2.06.94zm-11 1L8.5 8.5l.94-2.06 2.06-.94-2.06-.94L8.5 2.5l-.94 2.06-2.06.94zm10 10l.94 2.06.94-2.06 2.06-.94-2.06-.94-.94-2.06-.94 2.06-2.06.94z\"/><path d=\"M17.41 7.96l-1.37-1.37c-.4-.4-.92-.59-1.43-.59-.52 0-1.04.2-1.43.59L10.3 9.45l-7.72 7.72c-.78.78-.78 2.05 0 2.83L4 21.41c.39.39.9.59 1.41.59.51 0 1.02-.2 1.41-.59l7.78-7.78 2.81-2.81c.8-.78.8-2.07 0-2.86zM5.41 20L4 18.59l7.72-7.72 1.47 1.35L5.41 20z\"/>\n",
              "  </svg>\n",
              "      </button>\n",
              "      \n",
              "  <style>\n",
              "    .colab-df-container {\n",
              "      display:flex;\n",
              "      flex-wrap:wrap;\n",
              "      gap: 12px;\n",
              "    }\n",
              "\n",
              "    .colab-df-convert {\n",
              "      background-color: #E8F0FE;\n",
              "      border: none;\n",
              "      border-radius: 50%;\n",
              "      cursor: pointer;\n",
              "      display: none;\n",
              "      fill: #1967D2;\n",
              "      height: 32px;\n",
              "      padding: 0 0 0 0;\n",
              "      width: 32px;\n",
              "    }\n",
              "\n",
              "    .colab-df-convert:hover {\n",
              "      background-color: #E2EBFA;\n",
              "      box-shadow: 0px 1px 2px rgba(60, 64, 67, 0.3), 0px 1px 3px 1px rgba(60, 64, 67, 0.15);\n",
              "      fill: #174EA6;\n",
              "    }\n",
              "\n",
              "    [theme=dark] .colab-df-convert {\n",
              "      background-color: #3B4455;\n",
              "      fill: #D2E3FC;\n",
              "    }\n",
              "\n",
              "    [theme=dark] .colab-df-convert:hover {\n",
              "      background-color: #434B5C;\n",
              "      box-shadow: 0px 1px 3px 1px rgba(0, 0, 0, 0.15);\n",
              "      filter: drop-shadow(0px 1px 2px rgba(0, 0, 0, 0.3));\n",
              "      fill: #FFFFFF;\n",
              "    }\n",
              "  </style>\n",
              "\n",
              "      <script>\n",
              "        const buttonEl =\n",
              "          document.querySelector('#df-ed8d44df-235d-4918-9781-411eb40a30bf button.colab-df-convert');\n",
              "        buttonEl.style.display =\n",
              "          google.colab.kernel.accessAllowed ? 'block' : 'none';\n",
              "\n",
              "        async function convertToInteractive(key) {\n",
              "          const element = document.querySelector('#df-ed8d44df-235d-4918-9781-411eb40a30bf');\n",
              "          const dataTable =\n",
              "            await google.colab.kernel.invokeFunction('convertToInteractive',\n",
              "                                                     [key], {});\n",
              "          if (!dataTable) return;\n",
              "\n",
              "          const docLinkHtml = 'Like what you see? Visit the ' +\n",
              "            '<a target=\"_blank\" href=https://colab.research.google.com/notebooks/data_table.ipynb>data table notebook</a>'\n",
              "            + ' to learn more about interactive tables.';\n",
              "          element.innerHTML = '';\n",
              "          dataTable['output_type'] = 'display_data';\n",
              "          await google.colab.output.renderOutput(dataTable, element);\n",
              "          const docLink = document.createElement('div');\n",
              "          docLink.innerHTML = docLinkHtml;\n",
              "          element.appendChild(docLink);\n",
              "        }\n",
              "      </script>\n",
              "    </div>\n",
              "  </div>\n",
              "  "
            ],
            "text/plain": [
              "      gender  condtn   wave  round  position  positin1  order  partner    pid  \\\n",
              "0      False   False  False  False     False     False  False    False  False   \n",
              "1      False   False  False  False     False      True  False    False  False   \n",
              "2      False   False  False  False     False     False  False    False  False   \n",
              "3      False   False  False  False     False     False  False    False  False   \n",
              "4      False   False  False  False     False     False  False    False  False   \n",
              "...      ...     ...    ...    ...       ...       ...    ...      ...    ...   \n",
              "5904   False   False  False  False     False     False  False    False  False   \n",
              "5905   False   False  False  False     False     False  False    False  False   \n",
              "5906   False   False  False  False     False     False  False    False  False   \n",
              "5907   False   False  False  False     False     False  False    False  False   \n",
              "5908   False   False  False  False     False     False  False    False  False   \n",
              "\n",
              "      match  ...  attr3_2  sinc3_2  intel3_2  fun3_2  amb3_2  attr5_2  \\\n",
              "0     False  ...    False    False     False   False   False    False   \n",
              "1     False  ...    False    False     False   False   False     True   \n",
              "2     False  ...    False    False     False   False   False    False   \n",
              "3     False  ...    False    False     False   False   False     True   \n",
              "4     False  ...    False    False     False   False   False    False   \n",
              "...     ...  ...      ...      ...       ...     ...     ...      ...   \n",
              "5904  False  ...    False    False     False   False   False     True   \n",
              "5905  False  ...    False    False     False   False   False     True   \n",
              "5906  False  ...    False    False     False   False   False    False   \n",
              "5907  False  ...    False    False     False   False   False     True   \n",
              "5908  False  ...    False    False     False   False   False    False   \n",
              "\n",
              "      sinc5_2  intel5_2  fun5_2  amb5_2  \n",
              "0       False     False   False   False  \n",
              "1        True      True    True    True  \n",
              "2       False     False   False   False  \n",
              "3        True      True    True    True  \n",
              "4       False     False   False   False  \n",
              "...       ...       ...     ...     ...  \n",
              "5904     True      True    True    True  \n",
              "5905     True      True    True    True  \n",
              "5906    False     False   False   False  \n",
              "5907     True      True    True    True  \n",
              "5908    False     False   False   False  \n",
              "\n",
              "[5909 rows x 131 columns]"
            ]
          },
          "metadata": {},
          "execution_count": 64
        }
      ],
      "source": [
        "df_train.isnull() #diffrent way to insure if there is null values to delete "
      ]
    },
    {
      "cell_type": "code",
      "source": [
        ""
      ],
      "metadata": {
        "id": "YYLwyLoY6lry"
      },
      "execution_count": null,
      "outputs": []
    },
    {
      "cell_type": "code",
      "source": [
        "import seaborn as sns\n",
        "import matplotlib.pyplot as plt\n",
        "sns.set_theme(style=\"ticks\", color_codes=True)\n",
        "\n",
        "sns.catplot(x=\"order\", y=\"pid\", data=df_train)"
      ],
      "metadata": {
        "colab": {
          "base_uri": "https://localhost:8080/",
          "height": 382
        },
        "id": "JoMLpiytJ1-p",
        "outputId": "40e1a518-8e58-45d5-c5a4-de77ddba4c22"
      },
      "execution_count": 73,
      "outputs": [
        {
          "output_type": "execute_result",
          "data": {
            "text/plain": [
              "<seaborn.axisgrid.FacetGrid at 0x7f1170fb3650>"
            ]
          },
          "metadata": {},
          "execution_count": 73
        },
        {
          "output_type": "display_data",
          "data": {
            "image/png": "[encoded data removed]",
            "text/plain": [
              "<Figure size 360x360 with 1 Axes>"
            ]
          },
          "metadata": {}
        }
      ]
    },
    {
      "cell_type": "code",
      "source": [
        "# partner distribution w.r.t age with  kind=\"box\"\n",
        "sns.catplot(x=\"partner\", y=\"age\", kind=\"box\",  data=df_train)"
      ],
      "metadata": {
        "colab": {
          "base_uri": "https://localhost:8080/",
          "height": 382
        },
        "id": "PWlVz4FZKw5l",
        "outputId": "9b1da460-6ee6-4e8a-9e42-f2d7c7120ade"
      },
      "execution_count": 71,
      "outputs": [
        {
          "output_type": "execute_result",
          "data": {
            "text/plain": [
              "<seaborn.axisgrid.FacetGrid at 0x7f117108ec90>"
            ]
          },
          "metadata": {},
          "execution_count": 71
        },
        {
          "output_type": "display_data",
          "data": {
            "image/png": "[encoded data removed]",
            "text/plain": [
              "<Figure size 360x360 with 1 Axes>"
            ]
          },
          "metadata": {}
        }
      ]
    },
    {
      "cell_type": "code",
      "execution_count": 65,
      "metadata": {
        "id": "2sJw-ibBhWbe",
        "colab": {
          "base_uri": "https://localhost:8080/",
          "height": 394
        },
        "outputId": "775c9811-d158-4156-a252-1ad7a5a811f8"
      },
      "outputs": [
        {
          "output_type": "execute_result",
          "data": {
            "text/html": [
              "\n",
              "  <div id=\"df-2de2fa1b-e6fe-4f5f-bf07-3d5eb46bd28c\">\n",
              "    <div class=\"colab-df-container\">\n",
              "      <div>\n",
              "<style scoped>\n",
              "    .dataframe tbody tr th:only-of-type {\n",
              "        vertical-align: middle;\n",
              "    }\n",
              "\n",
              "    .dataframe tbody tr th {\n",
              "        vertical-align: top;\n",
              "    }\n",
              "\n",
              "    .dataframe thead th {\n",
              "        text-align: right;\n",
              "    }\n",
              "</style>\n",
              "<table border=\"1\" class=\"dataframe\">\n",
              "  <thead>\n",
              "    <tr style=\"text-align: right;\">\n",
              "      <th></th>\n",
              "      <th>gender</th>\n",
              "      <th>condtn</th>\n",
              "      <th>wave</th>\n",
              "      <th>round</th>\n",
              "      <th>position</th>\n",
              "      <th>positin1</th>\n",
              "      <th>order</th>\n",
              "      <th>partner</th>\n",
              "      <th>pid</th>\n",
              "      <th>match</th>\n",
              "      <th>...</th>\n",
              "      <th>attr3_2</th>\n",
              "      <th>sinc3_2</th>\n",
              "      <th>intel3_2</th>\n",
              "      <th>fun3_2</th>\n",
              "      <th>amb3_2</th>\n",
              "      <th>attr5_2</th>\n",
              "      <th>sinc5_2</th>\n",
              "      <th>intel5_2</th>\n",
              "      <th>fun5_2</th>\n",
              "      <th>amb5_2</th>\n",
              "    </tr>\n",
              "  </thead>\n",
              "  <tbody>\n",
              "    <tr>\n",
              "      <th>count</th>\n",
              "      <td>5909.000000</td>\n",
              "      <td>5909.000000</td>\n",
              "      <td>5909.000000</td>\n",
              "      <td>5909.000000</td>\n",
              "      <td>5909.000000</td>\n",
              "      <td>4591.000000</td>\n",
              "      <td>5909.00000</td>\n",
              "      <td>5909.000000</td>\n",
              "      <td>5901.000000</td>\n",
              "      <td>5909.000000</td>\n",
              "      <td>...</td>\n",
              "      <td>5262.000000</td>\n",
              "      <td>5262.000000</td>\n",
              "      <td>5262.000000</td>\n",
              "      <td>5262.000000</td>\n",
              "      <td>5262.000000</td>\n",
              "      <td>3088.000000</td>\n",
              "      <td>3088.000000</td>\n",
              "      <td>3088.000000</td>\n",
              "      <td>3088.000000</td>\n",
              "      <td>3088.000000</td>\n",
              "    </tr>\n",
              "    <tr>\n",
              "      <th>mean</th>\n",
              "      <td>0.505331</td>\n",
              "      <td>1.824843</td>\n",
              "      <td>11.347436</td>\n",
              "      <td>16.850228</td>\n",
              "      <td>9.001523</td>\n",
              "      <td>9.254846</td>\n",
              "      <td>8.91166</td>\n",
              "      <td>8.962938</td>\n",
              "      <td>283.733266</td>\n",
              "      <td>0.167203</td>\n",
              "      <td>...</td>\n",
              "      <td>7.131889</td>\n",
              "      <td>7.955340</td>\n",
              "      <td>8.241543</td>\n",
              "      <td>7.591790</td>\n",
              "      <td>7.498670</td>\n",
              "      <td>6.839054</td>\n",
              "      <td>7.433290</td>\n",
              "      <td>7.859780</td>\n",
              "      <td>7.284326</td>\n",
              "      <td>7.356865</td>\n",
              "    </tr>\n",
              "    <tr>\n",
              "      <th>std</th>\n",
              "      <td>0.500014</td>\n",
              "      <td>0.380133</td>\n",
              "      <td>6.011495</td>\n",
              "      <td>4.389246</td>\n",
              "      <td>5.482368</td>\n",
              "      <td>5.611803</td>\n",
              "      <td>5.45710</td>\n",
              "      <td>5.500706</td>\n",
              "      <td>158.993002</td>\n",
              "      <td>0.373188</td>\n",
              "      <td>...</td>\n",
              "      <td>1.385184</td>\n",
              "      <td>1.486971</td>\n",
              "      <td>1.177790</td>\n",
              "      <td>1.540505</td>\n",
              "      <td>1.746286</td>\n",
              "      <td>1.425735</td>\n",
              "      <td>1.569496</td>\n",
              "      <td>1.268374</td>\n",
              "      <td>1.647053</td>\n",
              "      <td>1.524100</td>\n",
              "    </tr>\n",
              "    <tr>\n",
              "      <th>min</th>\n",
              "      <td>0.000000</td>\n",
              "      <td>1.000000</td>\n",
              "      <td>1.000000</td>\n",
              "      <td>5.000000</td>\n",
              "      <td>1.000000</td>\n",
              "      <td>1.000000</td>\n",
              "      <td>1.00000</td>\n",
              "      <td>1.000000</td>\n",
              "      <td>1.000000</td>\n",
              "      <td>0.000000</td>\n",
              "      <td>...</td>\n",
              "      <td>2.000000</td>\n",
              "      <td>2.000000</td>\n",
              "      <td>4.000000</td>\n",
              "      <td>1.000000</td>\n",
              "      <td>2.000000</td>\n",
              "      <td>2.000000</td>\n",
              "      <td>2.000000</td>\n",
              "      <td>2.000000</td>\n",
              "      <td>2.000000</td>\n",
              "      <td>2.000000</td>\n",
              "    </tr>\n",
              "    <tr>\n",
              "      <th>25%</th>\n",
              "      <td>0.000000</td>\n",
              "      <td>2.000000</td>\n",
              "      <td>7.000000</td>\n",
              "      <td>14.000000</td>\n",
              "      <td>4.000000</td>\n",
              "      <td>4.000000</td>\n",
              "      <td>4.00000</td>\n",
              "      <td>4.000000</td>\n",
              "      <td>153.000000</td>\n",
              "      <td>0.000000</td>\n",
              "      <td>...</td>\n",
              "      <td>7.000000</td>\n",
              "      <td>7.000000</td>\n",
              "      <td>8.000000</td>\n",
              "      <td>7.000000</td>\n",
              "      <td>7.000000</td>\n",
              "      <td>6.000000</td>\n",
              "      <td>7.000000</td>\n",
              "      <td>7.000000</td>\n",
              "      <td>6.000000</td>\n",
              "      <td>6.000000</td>\n",
              "    </tr>\n",
              "    <tr>\n",
              "      <th>50%</th>\n",
              "      <td>1.000000</td>\n",
              "      <td>2.000000</td>\n",
              "      <td>11.000000</td>\n",
              "      <td>18.000000</td>\n",
              "      <td>8.000000</td>\n",
              "      <td>9.000000</td>\n",
              "      <td>8.00000</td>\n",
              "      <td>8.000000</td>\n",
              "      <td>280.000000</td>\n",
              "      <td>0.000000</td>\n",
              "      <td>...</td>\n",
              "      <td>7.000000</td>\n",
              "      <td>8.000000</td>\n",
              "      <td>8.000000</td>\n",
              "      <td>8.000000</td>\n",
              "      <td>8.000000</td>\n",
              "      <td>7.000000</td>\n",
              "      <td>8.000000</td>\n",
              "      <td>8.000000</td>\n",
              "      <td>7.000000</td>\n",
              "      <td>7.000000</td>\n",
              "    </tr>\n",
              "    <tr>\n",
              "      <th>75%</th>\n",
              "      <td>1.000000</td>\n",
              "      <td>2.000000</td>\n",
              "      <td>15.000000</td>\n",
              "      <td>20.000000</td>\n",
              "      <td>13.000000</td>\n",
              "      <td>14.000000</td>\n",
              "      <td>13.00000</td>\n",
              "      <td>13.000000</td>\n",
              "      <td>409.000000</td>\n",
              "      <td>0.000000</td>\n",
              "      <td>...</td>\n",
              "      <td>8.000000</td>\n",
              "      <td>9.000000</td>\n",
              "      <td>9.000000</td>\n",
              "      <td>9.000000</td>\n",
              "      <td>9.000000</td>\n",
              "      <td>8.000000</td>\n",
              "      <td>8.000000</td>\n",
              "      <td>9.000000</td>\n",
              "      <td>8.000000</td>\n",
              "      <td>8.000000</td>\n",
              "    </tr>\n",
              "    <tr>\n",
              "      <th>max</th>\n",
              "      <td>1.000000</td>\n",
              "      <td>2.000000</td>\n",
              "      <td>21.000000</td>\n",
              "      <td>22.000000</td>\n",
              "      <td>22.000000</td>\n",
              "      <td>22.000000</td>\n",
              "      <td>22.00000</td>\n",
              "      <td>22.000000</td>\n",
              "      <td>552.000000</td>\n",
              "      <td>1.000000</td>\n",
              "      <td>...</td>\n",
              "      <td>10.000000</td>\n",
              "      <td>10.000000</td>\n",
              "      <td>10.000000</td>\n",
              "      <td>10.000000</td>\n",
              "      <td>10.000000</td>\n",
              "      <td>10.000000</td>\n",
              "      <td>10.000000</td>\n",
              "      <td>10.000000</td>\n",
              "      <td>10.000000</td>\n",
              "      <td>10.000000</td>\n",
              "    </tr>\n",
              "  </tbody>\n",
              "</table>\n",
              "<p>8 rows × 125 columns</p>\n",
              "</div>\n",
              "      <button class=\"colab-df-convert\" onclick=\"convertToInteractive('df-2de2fa1b-e6fe-4f5f-bf07-3d5eb46bd28c')\"\n",
              "              title=\"Convert this dataframe to an interactive table.\"\n",
              "              style=\"display:none;\">\n",
              "        \n",
              "  <svg xmlns=\"http://www.w3.org/2000/svg\" height=\"24px\"viewBox=\"0 0 24 24\"\n",
              "       width=\"24px\">\n",
              "    <path d=\"M0 0h24v24H0V0z\" fill=\"none\"/>\n",
              "    <path d=\"M18.56 5.44l.94 2.06.94-2.06 2.06-.94-2.06-.94-.94-2.06-.94 2.06-2.06.94zm-11 1L8.5 8.5l.94-2.06 2.06-.94-2.06-.94L8.5 2.5l-.94 2.06-2.06.94zm10 10l.94 2.06.94-2.06 2.06-.94-2.06-.94-.94-2.06-.94 2.06-2.06.94z\"/><path d=\"M17.41 7.96l-1.37-1.37c-.4-.4-.92-.59-1.43-.59-.52 0-1.04.2-1.43.59L10.3 9.45l-7.72 7.72c-.78.78-.78 2.05 0 2.83L4 21.41c.39.39.9.59 1.41.59.51 0 1.02-.2 1.41-.59l7.78-7.78 2.81-2.81c.8-.78.8-2.07 0-2.86zM5.41 20L4 18.59l7.72-7.72 1.47 1.35L5.41 20z\"/>\n",
              "  </svg>\n",
              "      </button>\n",
              "      \n",
              "  <style>\n",
              "    .colab-df-container {\n",
              "      display:flex;\n",
              "      flex-wrap:wrap;\n",
              "      gap: 12px;\n",
              "    }\n",
              "\n",
              "    .colab-df-convert {\n",
              "      background-color: #E8F0FE;\n",
              "      border: none;\n",
              "      border-radius: 50%;\n",
              "      cursor: pointer;\n",
              "      display: none;\n",
              "      fill: #1967D2;\n",
              "      height: 32px;\n",
              "      padding: 0 0 0 0;\n",
              "      width: 32px;\n",
              "    }\n",
              "\n",
              "    .colab-df-convert:hover {\n",
              "      background-color: #E2EBFA;\n",
              "      box-shadow: 0px 1px 2px rgba(60, 64, 67, 0.3), 0px 1px 3px 1px rgba(60, 64, 67, 0.15);\n",
              "      fill: #174EA6;\n",
              "    }\n",
              "\n",
              "    [theme=dark] .colab-df-convert {\n",
              "      background-color: #3B4455;\n",
              "      fill: #D2E3FC;\n",
              "    }\n",
              "\n",
              "    [theme=dark] .colab-df-convert:hover {\n",
              "      background-color: #434B5C;\n",
              "      box-shadow: 0px 1px 3px 1px rgba(0, 0, 0, 0.15);\n",
              "      filter: drop-shadow(0px 1px 2px rgba(0, 0, 0, 0.3));\n",
              "      fill: #FFFFFF;\n",
              "    }\n",
              "  </style>\n",
              "\n",
              "      <script>\n",
              "        const buttonEl =\n",
              "          document.querySelector('#df-2de2fa1b-e6fe-4f5f-bf07-3d5eb46bd28c button.colab-df-convert');\n",
              "        buttonEl.style.display =\n",
              "          google.colab.kernel.accessAllowed ? 'block' : 'none';\n",
              "\n",
              "        async function convertToInteractive(key) {\n",
              "          const element = document.querySelector('#df-2de2fa1b-e6fe-4f5f-bf07-3d5eb46bd28c');\n",
              "          const dataTable =\n",
              "            await google.colab.kernel.invokeFunction('convertToInteractive',\n",
              "                                                     [key], {});\n",
              "          if (!dataTable) return;\n",
              "\n",
              "          const docLinkHtml = 'Like what you see? Visit the ' +\n",
              "            '<a target=\"_blank\" href=https://colab.research.google.com/notebooks/data_table.ipynb>data table notebook</a>'\n",
              "            + ' to learn more about interactive tables.';\n",
              "          element.innerHTML = '';\n",
              "          dataTable['output_type'] = 'display_data';\n",
              "          await google.colab.output.renderOutput(dataTable, element);\n",
              "          const docLink = document.createElement('div');\n",
              "          docLink.innerHTML = docLinkHtml;\n",
              "          element.appendChild(docLink);\n",
              "        }\n",
              "      </script>\n",
              "    </div>\n",
              "  </div>\n",
              "  "
            ],
            "text/plain": [
              "            gender       condtn         wave        round     position  \\\n",
              "count  5909.000000  5909.000000  5909.000000  5909.000000  5909.000000   \n",
              "mean      0.505331     1.824843    11.347436    16.850228     9.001523   \n",
              "std       0.500014     0.380133     6.011495     4.389246     5.482368   \n",
              "min       0.000000     1.000000     1.000000     5.000000     1.000000   \n",
              "25%       0.000000     2.000000     7.000000    14.000000     4.000000   \n",
              "50%       1.000000     2.000000    11.000000    18.000000     8.000000   \n",
              "75%       1.000000     2.000000    15.000000    20.000000    13.000000   \n",
              "max       1.000000     2.000000    21.000000    22.000000    22.000000   \n",
              "\n",
              "          positin1       order      partner          pid        match  ...  \\\n",
              "count  4591.000000  5909.00000  5909.000000  5901.000000  5909.000000  ...   \n",
              "mean      9.254846     8.91166     8.962938   283.733266     0.167203  ...   \n",
              "std       5.611803     5.45710     5.500706   158.993002     0.373188  ...   \n",
              "min       1.000000     1.00000     1.000000     1.000000     0.000000  ...   \n",
              "25%       4.000000     4.00000     4.000000   153.000000     0.000000  ...   \n",
              "50%       9.000000     8.00000     8.000000   280.000000     0.000000  ...   \n",
              "75%      14.000000    13.00000    13.000000   409.000000     0.000000  ...   \n",
              "max      22.000000    22.00000    22.000000   552.000000     1.000000  ...   \n",
              "\n",
              "           attr3_2      sinc3_2     intel3_2       fun3_2       amb3_2  \\\n",
              "count  5262.000000  5262.000000  5262.000000  5262.000000  5262.000000   \n",
              "mean      7.131889     7.955340     8.241543     7.591790     7.498670   \n",
              "std       1.385184     1.486971     1.177790     1.540505     1.746286   \n",
              "min       2.000000     2.000000     4.000000     1.000000     2.000000   \n",
              "25%       7.000000     7.000000     8.000000     7.000000     7.000000   \n",
              "50%       7.000000     8.000000     8.000000     8.000000     8.000000   \n",
              "75%       8.000000     9.000000     9.000000     9.000000     9.000000   \n",
              "max      10.000000    10.000000    10.000000    10.000000    10.000000   \n",
              "\n",
              "           attr5_2      sinc5_2     intel5_2       fun5_2       amb5_2  \n",
              "count  3088.000000  3088.000000  3088.000000  3088.000000  3088.000000  \n",
              "mean      6.839054     7.433290     7.859780     7.284326     7.356865  \n",
              "std       1.425735     1.569496     1.268374     1.647053     1.524100  \n",
              "min       2.000000     2.000000     2.000000     2.000000     2.000000  \n",
              "25%       6.000000     7.000000     7.000000     6.000000     6.000000  \n",
              "50%       7.000000     8.000000     8.000000     7.000000     7.000000  \n",
              "75%       8.000000     8.000000     9.000000     8.000000     8.000000  \n",
              "max      10.000000    10.000000    10.000000    10.000000    10.000000  \n",
              "\n",
              "[8 rows x 125 columns]"
            ]
          },
          "metadata": {},
          "execution_count": 65
        }
      ],
      "source": [
        "df_train.describe()"
      ]
    },
    {
      "cell_type": "code",
      "execution_count": 66,
      "metadata": {
        "id": "-NlAxN4TQldH",
        "colab": {
          "base_uri": "https://localhost:8080/",
          "height": 296
        },
        "outputId": "0806feb1-d2cd-4702-c4e4-c56cadbf81dd"
      },
      "outputs": [
        {
          "output_type": "execute_result",
          "data": {
            "text/plain": [
              "<matplotlib.axes._subplots.AxesSubplot at 0x7f1171474050>"
            ]
          },
          "metadata": {},
          "execution_count": 66
        },
        {
          "output_type": "display_data",
          "data": {
            "image/png": "[encoded data removed]",
            "text/plain": [
              "<Figure size 432x288 with 1 Axes>"
            ]
          },
          "metadata": {}
        }
      ],
      "source": [
        "# is the number of males and females have a same match or there is a difference between the match details of the males and females.\n",
        "sns.set_style('whitegrid')\n",
        "sns.countplot(x='match', hue='gender', data=df_train,palette='RdBu_r')"
      ]
    },
    {
      "cell_type": "code",
      "execution_count": 67,
      "metadata": {
        "id": "Oq67Z1wRTVwW",
        "colab": {
          "base_uri": "https://localhost:8080/",
          "height": 296
        },
        "outputId": "e0a2de5e-b4a5-40a5-b44b-dae098e2ec30"
      },
      "outputs": [
        {
          "output_type": "execute_result",
          "data": {
            "text/plain": [
              "<matplotlib.axes._subplots.AxesSubplot at 0x7f11714e4750>"
            ]
          },
          "metadata": {},
          "execution_count": 67
        },
        {
          "output_type": "display_data",
          "data": {
            "image/png": "[encoded data removed]",
            "text/plain": [
              "<Figure size 432x288 with 1 Axes>"
            ]
          },
          "metadata": {}
        }
      ],
      "source": [
        "# Trying to understand if race has an impact on the match\n",
        "sns.set_style('whitegrid')\n",
        "sns.countplot(x='match', hue='race', data=df_train,palette='rainbow')"
      ]
    },
    {
      "cell_type": "markdown",
      "metadata": {
        "id": "eZoFBdxt7fQE"
      },
      "source": [
        "##Multivariate feature imputation"
      ]
    },
    {
      "cell_type": "code",
      "execution_count": 17,
      "metadata": {
        "id": "LoMTZFdQ65VY"
      },
      "outputs": [],
      "source": [
        "## first, we have to convert all categorical to numeric:\n",
        "\n",
        "# make a copy\n",
        "df_train=df_converted = df_train.copy()\n",
        "\n",
        "for col_name in df_converted.columns:\n",
        "    if(df_converted[col_name].dtype == 'object'):\n",
        "        df_converted[col_name] = df_converted[col_name].astype('category')\n",
        "        df_converted[col_name] = df_converted[col_name].cat.codes\n",
        "        "
      ]
    },
    {
      "cell_type": "code",
      "execution_count": 77,
      "metadata": {
        "id": "133KaUq5DSY2"
      },
      "outputs": [],
      "source": [
        "# df_train_clean=df_train_clean.fillna(df_train.mean())\n"
      ]
    },
    {
      "cell_type": "markdown",
      "source": [
        "#trail 1"
      ],
      "metadata": {
        "id": "neQQXVUeEQ27"
      }
    },
    {
      "cell_type": "markdown",
      "source": [
        "in the first trail i run the code without any running of the preprossing code above i took the data as it is and i expected the result to be very bad we will se at the end of this trail \n",
        "\n",
        "using logistic regression model\n",
        "\n",
        "using mean strategy to filll the nan \n",
        "\n",
        "using Grid Search with Cross-validation\n",
        "\n",
        "\n",
        "\n",
        "\n"
      ],
      "metadata": {
        "id": "Oxbq3N30MK9G"
      }
    },
    {
      "cell_type": "markdown",
      "metadata": {
        "id": "ryjT57xrGF5J"
      },
      "source": [
        "##pipline"
      ]
    },
    {
      "cell_type": "markdown",
      "metadata": {
        "id": "8-MsStli3yBa"
      },
      "source": [
        "##extrat numeric features and cat features names"
      ]
    },
    {
      "cell_type": "code",
      "execution_count": 19,
      "metadata": {
        "id": "V1rFoM9IemJ7",
        "colab": {
          "base_uri": "https://localhost:8080/"
        },
        "outputId": "2bf46698-325a-4506-e703-d391d4c275ce"
      },
      "outputs": [
        {
          "output_type": "stream",
          "name": "stdout",
          "text": [
            "numeric features: ['gender', 'condtn', 'wave', 'round', 'position', 'positin1', 'order', 'partner', 'pid', 'int_corr', 'samerace', 'age_o', 'race_o', 'pf_o_att', 'pf_o_sin', 'pf_o_int', 'pf_o_fun', 'pf_o_amb', 'pf_o_sha', 'attr_o', 'sinc_o', 'intel_o', 'fun_o', 'amb_o', 'shar_o', 'like_o', 'prob_o', 'met_o', 'age', 'field_cd', 'race', 'imprace', 'imprelig', 'goal', 'date', 'go_out', 'career_c', 'sports', 'tvsports', 'exercise', 'dining', 'museums', 'art', 'hiking', 'gaming', 'clubbing', 'reading', 'tv', 'theater', 'movies', 'concerts', 'music', 'shopping', 'yoga', 'exphappy', 'attr1_1', 'sinc1_1', 'intel1_1', 'fun1_1', 'amb1_1', 'shar1_1', 'attr4_1', 'sinc4_1', 'intel4_1', 'fun4_1', 'amb4_1', 'shar4_1', 'attr2_1', 'sinc2_1', 'intel2_1', 'fun2_1', 'amb2_1', 'shar2_1', 'attr3_1', 'sinc3_1', 'fun3_1', 'intel3_1', 'amb3_1', 'attr5_1', 'sinc5_1', 'intel5_1', 'fun5_1', 'amb5_1', 'attr', 'sinc', 'intel', 'fun', 'amb', 'shar', 'like', 'prob', 'met', 'match_es', 'satis_2', 'length', 'numdat_2', 'attr1_2', 'sinc1_2', 'intel1_2', 'fun1_2', 'amb1_2', 'shar1_2', 'attr4_2', 'sinc4_2', 'intel4_2', 'fun4_2', 'amb4_2', 'shar4_2', 'attr2_2', 'sinc2_2', 'intel2_2', 'fun2_2', 'amb2_2', 'shar2_2', 'attr3_2', 'sinc3_2', 'intel3_2', 'fun3_2', 'amb3_2', 'attr5_2', 'sinc5_2', 'intel5_2', 'fun5_2', 'amb5_2']\n",
            "categorical features: ['field', 'undergra', 'from', 'zipcode', 'income', 'career']\n"
          ]
        }
      ],
      "source": [
        "# we extract numeric features and categorical features names\n",
        "# for later use\n",
        "\n",
        "# numeric features can be selected by: (based on the df2.info() output )\n",
        "features_numeric = list(xtr.select_dtypes(include=['float64', 'int64']))\n",
        "\n",
        "# categorical features can be selected by: (based on the df2.info() output )\n",
        "features_categorical = list(xtr.select_dtypes(include=['category']))\n",
        "\n",
        "print('numeric features:', features_numeric)\n",
        "print('categorical features:', features_categorical)"
      ]
    },
    {
      "cell_type": "code",
      "execution_count": 9,
      "metadata": {
        "id": "PkMH-AGdYXsT",
        "colab": {
          "base_uri": "https://localhost:8080/"
        },
        "outputId": "a30dcaff-4343-40e2-f767-f84963cbaef6"
      },
      "outputs": [
        {
          "output_type": "execute_result",
          "data": {
            "text/plain": [
              "Pipeline(steps=[('preprocessor',\n",
              "                 ColumnTransformer(transformers=[('num',\n",
              "                                                  Pipeline(steps=[('imputer',\n",
              "                                                                   SimpleImputer()),\n",
              "                                                                  ('scaler',\n",
              "                                                                   StandardScaler())]),\n",
              "                                                  ['gender', 'idg', 'condtn',\n",
              "                                                   'wave', 'round', 'position',\n",
              "                                                   'positin1', 'order',\n",
              "                                                   'partner', 'pid', 'int_corr',\n",
              "                                                   'samerace', 'age_o',\n",
              "                                                   'race_o', 'pf_o_att',\n",
              "                                                   'pf_o_sin', 'pf_o_int',\n",
              "                                                   'pf_o_fun', 'pf_o_amb',\n",
              "                                                   'pf_o_sha', 'attr_o',\n",
              "                                                   'sinc_o', 'intel_o', 'fun_o',\n",
              "                                                   'amb_o', 'shar_o', 'like_o',\n",
              "                                                   'prob_o', 'met_o', 'age', ...]),\n",
              "                                                 ('cat',\n",
              "                                                  Pipeline(steps=[('imputer',\n",
              "                                                                   SimpleImputer(strategy='constant')),\n",
              "                                                                  ('onehot',\n",
              "                                                                   OneHotEncoder(handle_unknown='ignore'))]),\n",
              "                                                  [])])),\n",
              "                ('my_classifier', LogisticRegression())])"
            ]
          },
          "metadata": {},
          "execution_count": 9
        }
      ],
      "source": [
        "#import pipeline with the imputer\n",
        "import numpy as np\n",
        "from sklearn.compose import ColumnTransformer\n",
        "from sklearn.datasets import fetch_openml\n",
        "from sklearn.pipeline import Pipeline\n",
        "from sklearn.impute import SimpleImputer\n",
        "from sklearn.preprocessing import StandardScaler, OneHotEncoder\n",
        "from sklearn.linear_model import LogisticRegression\n",
        "from sklearn.ensemble import RandomForestClassifier\n",
        "from sklearn.model_selection import train_test_split, GridSearchCV\n",
        "from xgboost.sklearn import XGBClassifier\n",
        "\n",
        "np.random.seed(0)\n",
        "\n",
        "# define a pipe line for numeric feature preprocessing\n",
        "# we gave them a name so we can set their hyperparameters\n",
        "transformer_numeric = Pipeline(\n",
        "    steps=[\n",
        "        ('imputer', SimpleImputer()),\n",
        "        ('scaler', StandardScaler())]\n",
        ")\n",
        "\n",
        "# define a pipe line for categorical feature preprocessing\n",
        "# we gave them a name so we can set their hyperparameters\n",
        "transformer_categorical = Pipeline(\n",
        "    steps=[\n",
        "        ('imputer', SimpleImputer(strategy='constant')),\n",
        "        ('onehot', OneHotEncoder(handle_unknown='ignore'))\n",
        "    ]\n",
        ")\n",
        "# define the preprocessor \n",
        "# we gave them a name so we can set their hyperparameters\n",
        "# we also specify what are the categorical \n",
        "preprocessor = ColumnTransformer(\n",
        "    transformers=[\n",
        "        ('num', transformer_numeric, features_numeric),\n",
        "        ('cat', transformer_categorical, features_categorical)\n",
        "    ]\n",
        ")\n",
        "\n",
        "# combine the preprocessor with the model as a full tunable pipeline\n",
        "# we gave them a name so we can set their hyperparameters\n",
        "full_pipline = Pipeline(\n",
        "    steps=[\n",
        "        ('preprocessor', preprocessor),\n",
        "        ('my_classifier', \n",
        "           LogisticRegression(), # using LogisticRegression model\n",
        "        )\n",
        "    ]\n",
        ")\n",
        "full_pipline"
      ]
    },
    {
      "cell_type": "code",
      "execution_count": 10,
      "metadata": {
        "id": "xXWiVkxEfMiY",
        "colab": {
          "base_uri": "https://localhost:8080/"
        },
        "outputId": "1d041aa5-f72c-41ee-9662-7b65f3d77557"
      },
      "outputs": [
        {
          "output_type": "execute_result",
          "data": {
            "text/plain": [
              "array([0, 0, 0, ..., 0, 1, 0])"
            ]
          },
          "metadata": {},
          "execution_count": 10
        }
      ],
      "source": [
        "# The pipeline object \n",
        "full_pipline = full_pipline.fit(xtr, ytr)\n",
        "full_pipline.predict(df_train)"
      ]
    },
    {
      "cell_type": "markdown",
      "metadata": {
        "id": "Ac0f5LIcf6n3"
      },
      "source": [
        "## Grid Search with Cross-validation\n",
        "\n",
        "We can tune the hyperparameters (including different preprocessing configurations using cross-validation and grid-search). Grid search tests all possible combination of hyperparameters by the options and ranges you specified."
      ]
    },
    {
      "cell_type": "code",
      "execution_count": 14,
      "metadata": {
        "colab": {
          "base_uri": "https://localhost:8080/"
        },
        "id": "9YJwFYrcfI7Z",
        "outputId": "d62544cf-7f03-41e7-e1c0-008d463a5219"
      },
      "outputs": [
        {
          "output_type": "stream",
          "name": "stdout",
          "text": [
            "Fitting 3 folds for each of 1 candidates, totalling 3 fits\n",
            "best score 0.8491691268423679\n",
            "best score {'preprocessor__num__imputer__strategy': 'mean'}\n"
          ]
        }
      ],
      "source": [
        "\n",
        "# here we specify the search space\n",
        "# `__` denotes an attribute of the preceeding name3  \n",
        "# q1\n",
        "# (e.g. my_classifier__n_estimators means the `n_estimators` param for `my_classifier`)\n",
        "param_grid = {\n",
        "    'preprocessor__num__imputer__strategy': ['mean',],\n",
        "    # preprocessor__num__imputer__strategy points to preprocessor->num (a Pipeline)-> imputer -> strategy\n",
        "    # 'my_classifier__n_estimators': [25, 30, 35],  \n",
        "     # my_classifier__n_estimators points to my_classifier->n_estimators \n",
        "    # 'my_classifier__max_depth':[5, 7, 10]       \n",
        "}\n",
        "\n",
        "# cv=2 means two-fold cross-validation\n",
        "# n_jobs means the cucurrent number of jobs\n",
        "# (on colab since we only have two cpu cores, we set it to 2)\n",
        "grid_search = GridSearchCV(\n",
        "    full_pipline, param_grid, cv=3, verbose=1, n_jobs=2, \n",
        "    scoring='roc_auc')\n",
        "\n",
        "grid_search.fit(xtr, ytr)\n",
        "\n",
        "print('best score {}'.format(grid_search.best_score_))\n",
        "print('best score {}'.format(grid_search.best_params_))"
      ]
    },
    {
      "cell_type": "code",
      "execution_count": 17,
      "metadata": {
        "colab": {
          "base_uri": "https://localhost:8080/"
        },
        "id": "QdunSZxKgRLc",
        "outputId": "2afd2e32-bc2f-4477-fe1b-e54afbb82d92"
      },
      "outputs": [
        {
          "output_type": "execute_result",
          "data": {
            "text/plain": [
              "array([0, 0, 0, ..., 0, 0, 0])"
            ]
          },
          "metadata": {},
          "execution_count": 17
        }
      ],
      "source": [
        "# the resulting model is the same pipeline with the best hyperparameters\n",
        "# trained on the full training set. we can use it directly\n",
        "grid_search.predict(df_test)"
      ]
    },
    {
      "cell_type": "code",
      "execution_count": 18,
      "metadata": {
        "id": "0CUBybL8L6Y9"
      },
      "outputs": [],
      "source": [
        "\n",
        "submission = pd.DataFrame()\n",
        "\n",
        "submission['id'] = df_test['id']\n",
        "\n",
        "submission['match'] = grid_search.predict_proba(df_test)[:,1]\n",
        "\n",
        "submission.to_csv('sample_submission_trail 1.csv', index=False)"
      ]
    },
    {
      "cell_type": "markdown",
      "source": [
        "final resultes of trail 1 \n",
        "\n",
        "best score 0.8491691268423679\n",
        "\n",
        "best score {'preprocessor__num__imputer__strategy': 'mean'}\n",
        "\n",
        "Score: 0.85240\n",
        "Public score: 0.86589\n",
        "\n"
      ],
      "metadata": {
        "id": "9cGcbFBfXm9l"
      }
    },
    {
      "cell_type": "markdown",
      "source": [
        "#trail 2"
      ],
      "metadata": {
        "id": "iiu9A7y6HX34"
      }
    },
    {
      "cell_type": "markdown",
      "source": [
        "in the socend trail i run the code without any running of the preprossing code above i took the data as it is and i expected the result to be very bad we will se at the end of this trail \n",
        "\n",
        "using logistic regression model\n",
        "\n",
        "using mean strategy to filll the nan \n",
        "\n",
        "using Grid Search with validation set"
      ],
      "metadata": {
        "id": "PQ87x2N-YYrN"
      }
    },
    {
      "cell_type": "markdown",
      "metadata": {
        "id": "WUjaR5PYguRN"
      },
      "source": [
        "## Grid Search with validation set\n",
        "\n",
        "Cross-validation is expensive. We can supply our own validation set"
      ]
    },
    {
      "cell_type": "code",
      "execution_count": 19,
      "metadata": {
        "colab": {
          "base_uri": "https://localhost:8080/"
        },
        "id": "K9Vs7erEg00M",
        "outputId": "1a692d42-06d0-4939-f249-d4f54e533c9c"
      },
      "outputs": [
        {
          "output_type": "stream",
          "name": "stdout",
          "text": [
            "Fitting 1 folds for each of 1 candidates, totalling 1 fits\n",
            "best score 0.8123520793418235\n",
            "best score {'preprocessor__num__imputer__strategy': 'mean'}\n"
          ]
        }
      ],
      "source": [
        "from sklearn.model_selection import train_test_split, GridSearchCV\n",
        "from sklearn.model_selection import PredefinedSplit\n",
        "\n",
        "# Further split the original training set to a train and a validation set\n",
        "X_train2, X_val, y_train2, y_val = train_test_split(\n",
        "    xtr, ytr, train_size = 0.9, stratify = ytr, random_state = 3)\n",
        "\n",
        "# Create a list where train data indices are -1 and validation data indices are 0\n",
        "# X_train2 (new training set), X_train\n",
        "split_index = [-1 if x in X_train2.index else 0 for x in xtr.index]\n",
        "\n",
        "# Use the list to create PredefinedSplit\n",
        "pds = PredefinedSplit(test_fold = split_index)\n",
        "\n",
        "grid_search = GridSearchCV(\n",
        "    full_pipline, param_grid, cv=pds, verbose=1, n_jobs=2, \n",
        "    scoring='roc_auc')\n",
        "\n",
        "# here we still use X_train; but the grid search model\n",
        "# will use our predefined split internally to determine \n",
        "# which sample belongs to the validation set\n",
        "grid_search.fit(xtr, ytr)\n",
        "\n",
        "print('best score {}'.format(grid_search.best_score_))\n",
        "print('best score {}'.format(grid_search.best_params_))"
      ]
    },
    {
      "cell_type": "code",
      "execution_count": 20,
      "metadata": {
        "colab": {
          "base_uri": "https://localhost:8080/"
        },
        "id": "SFD0tsuYb_Vv",
        "outputId": "dee40f4b-2054-44e0-bec7-c2faf2e6d44a"
      },
      "outputs": [
        {
          "output_type": "execute_result",
          "data": {
            "text/plain": [
              "array([0, 0, 0, ..., 0, 0, 0])"
            ]
          },
          "metadata": {},
          "execution_count": 20
        }
      ],
      "source": [
        "grid_search.predict(df_test)"
      ]
    },
    {
      "cell_type": "code",
      "execution_count": 21,
      "metadata": {
        "id": "r46uYyQCbit_"
      },
      "outputs": [],
      "source": [
        "submission = pd.DataFrame()\n",
        "\n",
        "submission['id'] = df_test['id']\n",
        "\n",
        "submission['match'] = grid_search.predict_proba(df_test)[:,1]\n",
        "\n",
        "submission.to_csv('trail 2.csv', index=False)"
      ]
    },
    {
      "cell_type": "markdown",
      "source": [
        "final resultes of trail 2\n",
        "\n",
        "best score 0.8123520793418235\n",
        "\n",
        "best score {'preprocessor__num__imputer__strategy': 'mean'}\n",
        "\n",
        "Score: 0.85926\n",
        "Public score: 0.86621\n",
        "\n"
      ],
      "metadata": {
        "id": "W2wpRBnS5yfn"
      }
    },
    {
      "cell_type": "markdown",
      "source": [
        "#trail 3"
      ],
      "metadata": {
        "id": "fty-6NR4HeJ5"
      }
    },
    {
      "cell_type": "markdown",
      "source": [
        "in the third trail i run the code without any running of the preprossing code above i took the data as it is and i expected the result to be very bad we will se at the end of this trail\n",
        "\n",
        "using logistic regression model\n",
        "\n",
        "using mean strategy to filll the nan\n",
        "\n",
        "using random search\n",
        "\n",
        "incresing the cv to be 10\n",
        "\n",
        "n_iter=10,"
      ],
      "metadata": {
        "id": "D6SApSvuaWgX"
      }
    },
    {
      "cell_type": "markdown",
      "metadata": {
        "id": "faXG97YthiEL"
      },
      "source": [
        "## Random Search \n",
        "\n",
        "Grid search (global optimal) is expensive when you specify a large search space. Alternatively, random search CV give you local optimal (may be good enough and even more generalizable)"
      ]
    },
    {
      "cell_type": "code",
      "execution_count": 34,
      "metadata": {
        "colab": {
          "base_uri": "https://localhost:8080/"
        },
        "id": "q2y87BZLhhjh",
        "outputId": "85131439-1e15-4d9e-a872-c6de988ec285"
      },
      "outputs": [
        {
          "output_type": "stream",
          "name": "stdout",
          "text": [
            "Fitting 10 folds for each of 1 candidates, totalling 10 fits\n",
            "best score 0.8526580379060753\n",
            "best score {'preprocessor__num__imputer__strategy': 'mean'}\n"
          ]
        }
      ],
      "source": [
        "from sklearn.model_selection import train_test_split, RandomizedSearchCV\n",
        "from sklearn.model_selection import PredefinedSplit\n",
        "\n",
        "grid_search = RandomizedSearchCV(\n",
        "    full_pipline, param_grid, cv=10, verbose=2, n_jobs=2, \n",
        "    # number of random trials\n",
        "    n_iter=10,\n",
        "    scoring='roc_auc')\n",
        "\n",
        "grid_search.fit(xtr, ytr)\n",
        "\n",
        "print('best score {}'.format(grid_search.best_score_))\n",
        "print('best score {}'.format(grid_search.best_params_))"
      ]
    },
    {
      "cell_type": "code",
      "execution_count": 35,
      "metadata": {
        "colab": {
          "base_uri": "https://localhost:8080/"
        },
        "id": "8YTl-X6wuAk7",
        "outputId": "7239dd9d-50f8-452f-f4c4-7859fc1ac16c"
      },
      "outputs": [
        {
          "output_type": "execute_result",
          "data": {
            "text/plain": [
              "array([0, 0, 0, ..., 0, 0, 0])"
            ]
          },
          "metadata": {},
          "execution_count": 35
        }
      ],
      "source": [
        "grid_search.predict(df_test)"
      ]
    },
    {
      "cell_type": "code",
      "execution_count": 36,
      "metadata": {
        "id": "8gDAxGl9uFcq"
      },
      "outputs": [],
      "source": [
        "submission = pd.DataFrame()\n",
        "\n",
        "submission['id'] = df_test['id']\n",
        "\n",
        "submission['match'] = grid_search.predict_proba(df_test)[:,1]\n",
        "\n",
        "submission.to_csv('trail 3.csv', index=False)"
      ]
    },
    {
      "cell_type": "markdown",
      "source": [
        "final results of trail 3\n",
        "\n",
        "best score 0.8526580379060753\n",
        "\n",
        "best score {'preprocessor__num__imputer__strategy': 'mean'\n",
        "\n",
        "Score: 0.85240\n",
        "Public score: 0.86589"
      ],
      "metadata": {
        "id": "1yVEgkmq6HYH"
      }
    },
    {
      "cell_type": "markdown",
      "source": [
        "#trail 4"
      ],
      "metadata": {
        "id": "tuoNK5nZHkhf"
      }
    },
    {
      "cell_type": "markdown",
      "source": [
        "in the forth trail i run the code without any running of the preprossing code above i took the data as it is and i expected the result to be very bad we will se at the end of this trail\n",
        "\n",
        "using logistic regression model\n",
        "\n",
        "using mean strategy to filll the nan\n",
        "\n",
        "using bayesian search\n",
        "\n",
        "decresing the cv to be 5\n",
        "\n",
        "(class_weight='unbalanced')\n",
        "\n",
        "n_iter=3,"
      ],
      "metadata": {
        "id": "_TtWjO2EdQIo"
      }
    },
    {
      "cell_type": "markdown",
      "metadata": {
        "id": "f7f9DQthh80-"
      },
      "source": [
        "## Bayesian Search\n",
        "\n",
        "We can interpret the hyperparameter search problem as a non-differentiable optimization problem, and use bayesian learning to predict what is the next hyperparamter values we should try given the current trials. \n",
        "\n"
      ]
    },
    {
      "cell_type": "code",
      "execution_count": 42,
      "metadata": {
        "colab": {
          "base_uri": "https://localhost:8080/"
        },
        "id": "y-JZz-bTi2jV",
        "outputId": "386b88c7-e86f-46bf-bfe8-bc9a75b30b63"
      },
      "outputs": [
        {
          "output_type": "stream",
          "name": "stdout",
          "text": [
            "Requirement already satisfied: scikit-optimize in /usr/local/lib/python3.7/dist-packages (0.9.0)\n",
            "Requirement already satisfied: scikit-learn>=0.20.0 in /usr/local/lib/python3.7/dist-packages (from scikit-optimize) (1.0.2)\n",
            "Requirement already satisfied: numpy>=1.13.3 in /usr/local/lib/python3.7/dist-packages (from scikit-optimize) (1.21.5)\n",
            "Requirement already satisfied: pyaml>=16.9 in /usr/local/lib/python3.7/dist-packages (from scikit-optimize) (21.10.1)\n",
            "Requirement already satisfied: joblib>=0.11 in /usr/local/lib/python3.7/dist-packages (from scikit-optimize) (1.1.0)\n",
            "Requirement already satisfied: scipy>=0.19.1 in /usr/local/lib/python3.7/dist-packages (from scikit-optimize) (1.4.1)\n",
            "Requirement already satisfied: PyYAML in /usr/local/lib/python3.7/dist-packages (from pyaml>=16.9->scikit-optimize) (3.13)\n",
            "Requirement already satisfied: threadpoolctl>=2.0.0 in /usr/local/lib/python3.7/dist-packages (from scikit-learn>=0.20.0->scikit-optimize) (3.1.0)\n"
          ]
        }
      ],
      "source": [
        "!pip install scikit-optimize"
      ]
    },
    {
      "cell_type": "markdown",
      "source": [
        "ببببب"
      ],
      "metadata": {
        "id": "XWtq9avfgRSY"
      }
    },
    {
      "cell_type": "code",
      "source": [
        ""
      ],
      "metadata": {
        "id": "5zLqcU41gViv"
      },
      "execution_count": null,
      "outputs": []
    },
    {
      "cell_type": "code",
      "execution_count": null,
      "metadata": {
        "colab": {
          "base_uri": "https://localhost:8080/"
        },
        "id": "NqndUcXtitts",
        "outputId": "4fe3d1aa-8644-48f3-d6c0-7a1338f1b4e3"
      },
      "outputs": [
        {
          "output_type": "stream",
          "name": "stdout",
          "text": [
            "Fitting 5 folds for each of 1 candidates, totalling 5 fits\n"
          ]
        }
      ],
      "source": [
        "# Let's try this with SVM model\n",
        "from skopt import BayesSearchCV\n",
        "from skopt.space import Real, Categorical, Integer\n",
        "from sklearn.svm import SVC\n",
        "\n",
        "\n",
        "SVC_pipline = Pipeline(\n",
        "    steps=[\n",
        "        ('preprocessor', preprocessor),\n",
        "        ('my_svc', SVC(class_weight='balanced'))\n",
        "    ]\n",
        ")\n",
        "# SVC has a class_weight attribute for unbalanced data\n",
        "\n",
        "\n",
        "# define ranges for bayes search\n",
        "bayes_search = BayesSearchCV(\n",
        "    SVC_pipline,\n",
        "    {\n",
        "        'my_svc__C': Real(1e-6, 1e+6, prior='log-uniform'),\n",
        "        'my_svc__gamma': Real(1e-6, 1e+1, prior='log-uniform'),\n",
        "        'my_svc__degree': Integer(1,8),\n",
        "        'my_svc__kernel': Categorical(['linear', 'poly', 'rbf']),\n",
        "    },\n",
        "    # number of trials \n",
        "    n_iter=3,\n",
        "    random_state=1,\n",
        "    verbose=1,\n",
        "    # we still use \n",
        "    cv=5,\n",
        ")\n",
        "\n",
        "bayes_search.fit(xtr,ytr)\n",
        "\n",
        "print('best score {}'.format(bayes_search.best_score_))\n",
        "print('best score {}'.format(bayes_search.best_params_))"
      ]
    },
    {
      "cell_type": "code",
      "execution_count": 45,
      "metadata": {
        "colab": {
          "base_uri": "https://localhost:8080/"
        },
        "id": "FxzhQEzCj0Lu",
        "outputId": "daea4f37-f402-4392-8c05-0f8e7a84b2ff"
      },
      "outputs": [
        {
          "output_type": "execute_result",
          "data": {
            "text/plain": [
              "array([0, 0, 0, ..., 0, 0, 0])"
            ]
          },
          "metadata": {},
          "execution_count": 45
        }
      ],
      "source": [
        "# the resulting model is the same pipeline with the best hyperparameters\n",
        "# trained on the full training set. we can use it directly\n",
        "bayes_search.predict(df_test)"
      ]
    },
    {
      "cell_type": "code",
      "source": [
        "submission = pd.DataFrame()\n",
        "\n",
        "submission['id'] = df_test['id']\n",
        "\n",
        "submission['match'] = grid_search.predict_proba(df_test)[:,1]\n",
        "\n",
        "submission.to_csv('sample_submission_walkthroughsvm.csv', index=False)"
      ],
      "metadata": {
        "id": "LD3JkToz6nkn"
      },
      "execution_count": 47,
      "outputs": []
    },
    {
      "cell_type": "markdown",
      "source": [
        "Score: 0.85589\n",
        "Public score: 0.86633"
      ],
      "metadata": {
        "id": "sCtmnTghHAlG"
      }
    },
    {
      "cell_type": "markdown",
      "source": [
        "Score: 0.85926\n",
        "Public score: 0.86621"
      ],
      "metadata": {
        "id": "7a7F2bvP7L5H"
      }
    },
    {
      "cell_type": "markdown",
      "source": [
        ""
      ],
      "metadata": {
        "id": "oUlmDvbUEsT-"
      }
    },
    {
      "cell_type": "code",
      "source": [
        ""
      ],
      "metadata": {
        "id": "iygguEe1EsxF"
      },
      "execution_count": null,
      "outputs": []
    },
    {
      "cell_type": "markdown",
      "source": [
        "#trail 5"
      ],
      "metadata": {
        "id": "7skgiZHBEtYb"
      }
    },
    {
      "cell_type": "markdown",
      "source": [
        "in the fifth trail i run the code using preprossing code above i took the cleand data and i expected the result to be better we will see at the end of this trail\n",
        "\n",
        "using XGBClassifier regression model\n",
        "\n",
        "let the model to choose between ('mean' or 'most_frequent') to filll the nan\n",
        "\n",
        "\n",
        "I changed the hyperbrameters 'my_classifier__n_estimators': to be: [105,300], \n",
        "\n",
        "decresing the cv to be 5\n",
        "\n",
        "(class_weight='balanced')\n",
        "\n",
        "n_iter=3,\n",
        "\n",
        "'mean','most_frequent','median','constant'\n",
        "\n",
        "using grid search with cross validation"
      ],
      "metadata": {
        "id": "YvdqfZUdpunE"
      }
    },
    {
      "cell_type": "markdown",
      "metadata": {
        "id": "-8mHyE5ZEtYc"
      },
      "source": [
        "##pipline"
      ]
    },
    {
      "cell_type": "code",
      "execution_count": 20,
      "metadata": {
        "colab": {
          "base_uri": "https://localhost:8080/"
        },
        "outputId": "9a1433e8-ac5e-454f-d3dc-f364bce25241",
        "id": "zhSaSKiuEtYc"
      },
      "outputs": [
        {
          "output_type": "execute_result",
          "data": {
            "text/plain": [
              "Pipeline(steps=[('preprocessor',\n",
              "                 ColumnTransformer(transformers=[('num',\n",
              "                                                  Pipeline(steps=[('imputer',\n",
              "                                                                   SimpleImputer()),\n",
              "                                                                  ('scaler',\n",
              "                                                                   StandardScaler())]),\n",
              "                                                  ['gender', 'condtn', 'wave',\n",
              "                                                   'round', 'position',\n",
              "                                                   'positin1', 'order',\n",
              "                                                   'partner', 'pid', 'int_corr',\n",
              "                                                   'samerace', 'age_o',\n",
              "                                                   'race_o', 'pf_o_att',\n",
              "                                                   'pf_o_sin', 'pf_o_int',\n",
              "                                                   'pf_o_fun', 'pf_o_amb',\n",
              "                                                   'pf_o_sha', 'attr_o',\n",
              "                                                   'sinc_o', 'intel_o', 'fun_o',\n",
              "                                                   'amb_o', 'shar_o', 'like_o',\n",
              "                                                   'prob_o', 'met_o', 'age',\n",
              "                                                   'field_cd', ...]),\n",
              "                                                 ('cat',\n",
              "                                                  Pipeline(steps=[('imputer',\n",
              "                                                                   SimpleImputer(strategy='constant')),\n",
              "                                                                  ('onehot',\n",
              "                                                                   OneHotEncoder(handle_unknown='ignore'))]),\n",
              "                                                  ['field', 'undergra', 'from',\n",
              "                                                   'zipcode', 'income',\n",
              "                                                   'career'])])),\n",
              "                ('my_classifier', XGBClassifier())])"
            ]
          },
          "metadata": {},
          "execution_count": 20
        }
      ],
      "source": [
        "import numpy as np\n",
        "from sklearn.compose import ColumnTransformer\n",
        "from sklearn.datasets import fetch_openml\n",
        "from sklearn.pipeline import Pipeline\n",
        "from sklearn.impute import SimpleImputer\n",
        "from sklearn.preprocessing import StandardScaler, OneHotEncoder\n",
        "from sklearn.linear_model import LogisticRegression\n",
        "from sklearn.ensemble import RandomForestClassifier\n",
        "from sklearn.model_selection import train_test_split, GridSearchCV\n",
        "from xgboost.sklearn import XGBClassifier\n",
        "\n",
        "np.random.seed(0)\n",
        "\n",
        "# define a pipe line for numeric feature preprocessing\n",
        "# we gave them a name so we can set their hyperparameters\n",
        "transformer_numeric = Pipeline(\n",
        "    steps=[\n",
        "        ('imputer', SimpleImputer()),\n",
        "        ('scaler', StandardScaler())]\n",
        ")\n",
        "\n",
        "# define a pipe line for categorical feature preprocessing\n",
        "# we gave them a name so we can set their hyperparameters\n",
        "transformer_categorical = Pipeline(\n",
        "    steps=[\n",
        "        ('imputer', SimpleImputer(strategy='constant')),\n",
        "        ('onehot', OneHotEncoder(handle_unknown='ignore'))\n",
        "    ]\n",
        ")\n",
        "# define the preprocessor \n",
        "# we gave them a name so we can set their hyperparameters\n",
        "# we also specify what are the categorical \n",
        "preprocessor = ColumnTransformer(\n",
        "    transformers=[\n",
        "        ('num', transformer_numeric, features_numeric),\n",
        "        ('cat', transformer_categorical, features_categorical)\n",
        "    ]\n",
        ")\n",
        "\n",
        "# combine the preprocessor with the model as a full tunable pipeline\n",
        "# we gave them a name so we can set their hyperparameters\n",
        "full_pipline = Pipeline(\n",
        "    steps=[\n",
        "        ('preprocessor', preprocessor),\n",
        "        ('my_classifier', \n",
        "           XGBClassifier(), # i tried other models but this model pridected high score with this hyperprameters\n",
        "        )\n",
        "    ]\n",
        ")\n",
        "full_pipline"
      ]
    },
    {
      "cell_type": "code",
      "execution_count": null,
      "metadata": {
        "colab": {
          "base_uri": "https://localhost:8080/"
        },
        "outputId": "33af3953-7460-4fee-d7e4-d894fc1a9c42",
        "id": "YyTl0_DEEtYd"
      },
      "outputs": [
        {
          "output_type": "execute_result",
          "data": {
            "text/plain": [
              "array([0, 0, 0, ..., 0, 1, 0])"
            ]
          },
          "metadata": {},
          "execution_count": 31
        }
      ],
      "source": [
        "# The pipeline object \n",
        "full_pipline = full_pipline.fit(xtr, ytr)\n",
        "full_pipline.predict(df_train)"
      ]
    },
    {
      "cell_type": "markdown",
      "metadata": {
        "id": "l6G-XQBZEtYd"
      },
      "source": [
        "## Grid Search with Cross-validation\n",
        "\n",
        "We can tune the hyperparameters (including different preprocessing configurations using cross-validation and grid-search). Grid search tests all possible combination of hyperparameters by the options and ranges you specified."
      ]
    },
    {
      "cell_type": "code",
      "execution_count": 27,
      "metadata": {
        "colab": {
          "base_uri": "https://localhost:8080/"
        },
        "outputId": "c7bda502-cab5-4d9f-93ac-18ee936acd21",
        "id": "Dh2Q8hSdEtYd"
      },
      "outputs": [
        {
          "output_type": "stream",
          "name": "stdout",
          "text": [
            "Fitting 3 folds for each of 6 candidates, totalling 18 fits\n",
            "best score 0.872325972520985\n",
            "best score {'my_classifier__max_depth': 5, 'my_classifier__n_estimators': 300, 'preprocessor__num__imputer__strategy': 'mean'}\n"
          ]
        }
      ],
      "source": [
        "\n",
        "# here we specify the search space\n",
        "# `__` denotes an attribute of the preceeding name3  \n",
        "# q1\n",
        "# (e.g. my_classifier__n_estimators means the `n_estimators` param for `my_classifier`)\n",
        "param_grid = {\n",
        "    'preprocessor__num__imputer__strategy': ['mean'],\n",
        "    # preprocessor__num__imputer__strategy points to preprocessor->num (a Pipeline)-> imputer -> strategy\n",
        "    'my_classifier__n_estimators': [105,300],  \n",
        "     # my_classifier__n_estimators points to my_classifier->n_estimators \n",
        "    'my_classifier__max_depth':[5, 7, 10]       \n",
        "}\n",
        "\n",
        "# cv=2 means two-fold cross-validation\n",
        "# n_jobs means the cucurrent number of jobs\n",
        "# (on colab since we only have two cpu cores, we set it to 2)\n",
        "grid_search = GridSearchCV(\n",
        "    full_pipline, param_grid, cv=3, verbose=1, n_jobs=2, \n",
        "    scoring='roc_auc')\n",
        "\n",
        "grid_search.fit(xtr, ytr)\n",
        "\n",
        "print('best score {}'.format(grid_search.best_score_))\n",
        "print('best score {}'.format(grid_search.best_params_))"
      ]
    },
    {
      "cell_type": "code",
      "source": [
        "# grid_search.fit(xtr, ytr)\n"
      ],
      "metadata": {
        "id": "CX4nRYnXEtYe"
      },
      "execution_count": null,
      "outputs": []
    },
    {
      "cell_type": "code",
      "execution_count": 28,
      "metadata": {
        "colab": {
          "base_uri": "https://localhost:8080/"
        },
        "outputId": "85fe8c02-1e2b-40f0-914d-16ea4d486198",
        "id": "o8H-0iYTEtYe"
      },
      "outputs": [
        {
          "output_type": "execute_result",
          "data": {
            "text/plain": [
              "array([0, 1, 0, ..., 0, 0, 0])"
            ]
          },
          "metadata": {},
          "execution_count": 28
        }
      ],
      "source": [
        "# the resulting model is the same pipeline with the best hyperparameters\n",
        "# trained on the full training set. we can use it directly\n",
        "grid_search.predict(df_test)"
      ]
    },
    {
      "cell_type": "code",
      "execution_count": 31,
      "metadata": {
        "id": "NwMQjf4dEtYe"
      },
      "outputs": [],
      "source": [
        "\n",
        "submission = pd.DataFrame()\n",
        "\n",
        "submission['id'] = df_test['id']\n",
        "\n",
        "submission['match'] = grid_search.predict_proba(df_test)[:,1]\n",
        "\n",
        "submission.to_csv('ttrail 5.csv', index=False)"
      ]
    },
    {
      "cell_type": "markdown",
      "source": [
        "trail 5\n",
        "\n",
        "finally i found that this is the best model till now on kaggels results as i meention the scores bellow rasing the max debth to be my_classifier__n_estimators': [105,300], \n",
        "\n",
        "best score 0.872325972520985\n",
        "\n",
        "best score {'my_classifier__max_depth': 5, \n",
        "\n",
        "'my_classifier__n_estimators': 300,\n",
        "\n",
        " 'preprocessor__num__imputer__strategy': 'mean'}\n",
        "\n",
        " \n",
        "Submitted by Ahmed Nouser · Submitted a few seconds ago\n",
        "\n",
        "Score: 0.88193\n",
        "Public score: 0.88149 on kaggle \n",
        "\n"
      ],
      "metadata": {
        "id": "yoed3gQCycSb"
      }
    },
    {
      "cell_type": "markdown",
      "source": [
        "#trail 6"
      ],
      "metadata": {
        "id": "tAe5i3KtH_GQ"
      }
    },
    {
      "cell_type": "markdown",
      "source": [
        "in the sixth trail i run the code using preprossing code above i took the cleand data and i expected the result to be better we will see at the end of this trail\n",
        "\n",
        "using XGBClassifier regression model\n",
        "\n",
        "let the model to choose between ('mean' or 'most_frequent') to filll the nan\n",
        "\n",
        "\n",
        "I changed the hyperbrameters 'my_classifier__n_estimators': to be: [105,300], \n",
        "\n",
        "decresing the cv to be 5\n",
        "\n",
        "(class_weight='balanced')\n",
        "\n",
        "n_iter=3,\n",
        "\n",
        "'mean','most_frequent','median','constant'\n",
        "\n",
        "i changed the rondome state to be 1\n",
        "\n",
        " using Grid Search with validation set"
      ],
      "metadata": {
        "id": "3ZxVBoce0Z0A"
      }
    },
    {
      "cell_type": "markdown",
      "metadata": {
        "id": "0eFPg9aUEtYe"
      },
      "source": [
        "## Grid Search with validation set\n",
        "\n",
        "Cross-validation is expensive. We can supply our own validation set"
      ]
    },
    {
      "cell_type": "code",
      "execution_count": 32,
      "metadata": {
        "colab": {
          "base_uri": "https://localhost:8080/"
        },
        "outputId": "f70db675-db7c-47ea-8e90-ef748e589082",
        "id": "Mh5QPjZdEtYe"
      },
      "outputs": [
        {
          "output_type": "stream",
          "name": "stdout",
          "text": [
            "Fitting 1 folds for each of 6 candidates, totalling 6 fits\n",
            "best score 0.8847965738758029\n",
            "best score {'my_classifier__max_depth': 7, 'my_classifier__n_estimators': 300, 'preprocessor__num__imputer__strategy': 'mean'}\n"
          ]
        }
      ],
      "source": [
        "from sklearn.model_selection import train_test_split, GridSearchCV\n",
        "from sklearn.model_selection import PredefinedSplit\n",
        "\n",
        "# Further split the original training set to a train and a validation set\n",
        "X_train2, X_val, y_train2, y_val = train_test_split(\n",
        "    xtr, ytr, train_size = 0.9, stratify = ytr, random_state = 1)\n",
        "\n",
        "# Create a list where train data indices are -1 and validation data indices are 0\n",
        "# X_train2 (new training set), X_train\n",
        "split_index = [-1 if x in X_train2.index else 0 for x in xtr.index]\n",
        "\n",
        "# Use the list to create PredefinedSplit\n",
        "pds = PredefinedSplit(test_fold = split_index)\n",
        "\n",
        "grid_search = GridSearchCV(\n",
        "    full_pipline, param_grid, cv=pds, verbose=1, n_jobs=2, \n",
        "    scoring='roc_auc')\n",
        "\n",
        "# here we still use X_train; but the grid search model\n",
        "# will use our predefined split internally to determine \n",
        "# which sample belongs to the validation set\n",
        "grid_search.fit(xtr, ytr)\n",
        "\n",
        "print('best score {}'.format(grid_search.best_score_))\n",
        "print('best score {}'.format(grid_search.best_params_))"
      ]
    },
    {
      "cell_type": "code",
      "execution_count": 33,
      "metadata": {
        "colab": {
          "base_uri": "https://localhost:8080/"
        },
        "outputId": "fc3c389c-046f-4c59-e26b-bff5580ab8cc",
        "id": "2Yjix6YbEtYf"
      },
      "outputs": [
        {
          "output_type": "execute_result",
          "data": {
            "text/plain": [
              "array([0, 0, 0, ..., 0, 0, 0])"
            ]
          },
          "metadata": {},
          "execution_count": 33
        }
      ],
      "source": [
        "grid_search.predict(df_test)"
      ]
    },
    {
      "cell_type": "code",
      "execution_count": 34,
      "metadata": {
        "id": "v0U35U47EtYf"
      },
      "outputs": [],
      "source": [
        "submission = pd.DataFrame()\n",
        "\n",
        "submission['id'] = df_test['id']\n",
        "\n",
        "submission['match'] = grid_search.predict_proba(df_test)[:,1]\n",
        "\n",
        "submission.to_csv('trail 6.csv', index=False)"
      ]
    },
    {
      "cell_type": "markdown",
      "source": [
        "final result trail 6 \n",
        "\n",
        "it is the best till now for me the highest score on kaggle\n",
        "\n",
        "best score 0.8847965738758029\n",
        "best score {'my_classifier__max_depth': 7, 'my_classifier__n_estimators': 300, 'preprocessor__num__imputer__strategy': 'mean'}\n",
        "\n",
        "Score: 0.88484            kaggle \n",
        "Public score: 0.88166"
      ],
      "metadata": {
        "id": "1VyWNFNi1-0a"
      }
    },
    {
      "cell_type": "markdown",
      "source": [
        "#trail 7"
      ],
      "metadata": {
        "id": "g27dTPd8ID6W"
      }
    },
    {
      "cell_type": "markdown",
      "source": [
        "in the seventh trail i run the code using preprossing code above i took the cleand data and i expected the result to be better we will see at the end of this trail\n",
        "\n",
        "using XGBClassifier regression model\n",
        "\n",
        "let the model to choose between ('mean' or 'most_frequent') to filll the nan\n",
        "\n",
        "\n",
        "I changed the hyperbrameters 'my_classifier__n_estimators': to be: [105,300], \n",
        "\n",
        "\n",
        "n_iter=10,\n",
        "\n",
        "'mean','most_frequent','median','constant'\n",
        "\n",
        "i changed the rondome state to be 1\n",
        "\n",
        " using Random Search"
      ],
      "metadata": {
        "id": "i-QPC4OM2f0F"
      }
    },
    {
      "cell_type": "markdown",
      "metadata": {
        "id": "YLEKR2yVEtYf"
      },
      "source": [
        "## Random Search \n",
        "\n",
        "Grid search (global optimal) is expensive when you specify a large search space. Alternatively, random search CV give you local optimal (may be good enough and even more generalizable)"
      ]
    },
    {
      "cell_type": "code",
      "execution_count": 35,
      "metadata": {
        "colab": {
          "base_uri": "https://localhost:8080/"
        },
        "outputId": "f40f8f3b-8b22-4b97-aacb-c380522ff303",
        "id": "OPyYVnrlEtYg"
      },
      "outputs": [
        {
          "output_type": "stream",
          "name": "stdout",
          "text": [
            "Fitting 1 folds for each of 6 candidates, totalling 6 fits\n",
            "best score 0.8847965738758029\n",
            "best score {'preprocessor__num__imputer__strategy': 'mean', 'my_classifier__n_estimators': 300, 'my_classifier__max_depth': 7}\n"
          ]
        }
      ],
      "source": [
        "from sklearn.model_selection import train_test_split, RandomizedSearchCV\n",
        "from sklearn.model_selection import PredefinedSplit\n",
        "\n",
        "grid_search = RandomizedSearchCV(\n",
        "    full_pipline, param_grid, cv=pds, verbose=1, n_jobs=2, \n",
        "    # number of random trials\n",
        "    n_iter=10,\n",
        "    scoring='roc_auc')\n",
        "\n",
        "grid_search.fit(xtr, ytr)\n",
        "\n",
        "print('best score {}'.format(grid_search.best_score_))\n",
        "print('best score {}'.format(grid_search.best_params_))"
      ]
    },
    {
      "cell_type": "code",
      "execution_count": 36,
      "metadata": {
        "colab": {
          "base_uri": "https://localhost:8080/"
        },
        "outputId": "89e43e67-cd0c-4508-b33e-9add73799410",
        "id": "i2GK_1xPEtYg"
      },
      "outputs": [
        {
          "output_type": "execute_result",
          "data": {
            "text/plain": [
              "array([0, 0, 0, ..., 0, 0, 0])"
            ]
          },
          "metadata": {},
          "execution_count": 36
        }
      ],
      "source": [
        "grid_search.predict(df_test)"
      ]
    },
    {
      "cell_type": "code",
      "execution_count": 37,
      "metadata": {
        "id": "Om7rHDAzEtYg"
      },
      "outputs": [],
      "source": [
        "submission = pd.DataFrame()\n",
        "\n",
        "submission['id'] = df_test['id']\n",
        "\n",
        "submission['match'] = grid_search.predict_proba(df_test)[:,1]\n",
        "\n",
        "submission.to_csv('trail 7.csv', index=False)"
      ]
    },
    {
      "cell_type": "markdown",
      "source": [
        "final result trail 7\n",
        "\n",
        "best score 0.8847965738758029\n",
        "best score {'preprocessor__num__imputer__strategy': 'mean', 'my_classifier__n_estimators': 300, 'my_classifier__max_depth': 7\n",
        "\n",
        "best score 0.8847965738758029\n"
      ],
      "metadata": {
        "id": "n_cooJbO3ekL"
      }
    },
    {
      "cell_type": "markdown",
      "source": [
        "#trail 8"
      ],
      "metadata": {
        "id": "P5ePikcoIGR2"
      }
    },
    {
      "cell_type": "markdown",
      "source": [
        "in the final trail i run the code using preprossing code above i took the cleand data and i expected the result to be worestand the score decreses we will see at the end of this trail\n",
        "\n",
        "using XGBClassifier regression model\n",
        "\n",
        "let the model to choose between ('mean' or 'most_frequent') to filll the nan\n",
        "\n",
        "\n",
        "I changed the hyperbrameters 'my_classifier__n_estimators': to be: [105,300], \n",
        "\n",
        "\n",
        "n_iter=10,\n",
        "\n",
        "'mean','most_frequent','median','constant'\n",
        "\n",
        "\n",
        " using Bayesian Search"
      ],
      "metadata": {
        "id": "0xEiBodn4PDw"
      }
    },
    {
      "cell_type": "markdown",
      "metadata": {
        "id": "44neZfzaEtYg"
      },
      "source": [
        "## Bayesian Search\n",
        "\n",
        "We can interpret the hyperparameter search problem as a non-differentiable optimization problem, and use bayesian learning to predict what is the next hyperparamter values we should try given the current trials. \n",
        "\n"
      ]
    },
    {
      "cell_type": "code",
      "execution_count": 38,
      "metadata": {
        "colab": {
          "base_uri": "https://localhost:8080/"
        },
        "outputId": "d98a7a54-fa0d-4c76-e993-b882dc7385ee",
        "id": "UlmkagsFEtYh"
      },
      "outputs": [
        {
          "output_type": "stream",
          "name": "stdout",
          "text": [
            "Requirement already satisfied: scikit-optimize in /usr/local/lib/python3.7/dist-packages (0.9.0)\n",
            "Requirement already satisfied: scikit-learn>=0.20.0 in /usr/local/lib/python3.7/dist-packages (from scikit-optimize) (1.0.2)\n",
            "Requirement already satisfied: joblib>=0.11 in /usr/local/lib/python3.7/dist-packages (from scikit-optimize) (1.1.0)\n",
            "Requirement already satisfied: scipy>=0.19.1 in /usr/local/lib/python3.7/dist-packages (from scikit-optimize) (1.4.1)\n",
            "Requirement already satisfied: pyaml>=16.9 in /usr/local/lib/python3.7/dist-packages (from scikit-optimize) (21.10.1)\n",
            "Requirement already satisfied: numpy>=1.13.3 in /usr/local/lib/python3.7/dist-packages (from scikit-optimize) (1.21.5)\n",
            "Requirement already satisfied: PyYAML in /usr/local/lib/python3.7/dist-packages (from pyaml>=16.9->scikit-optimize) (3.13)\n",
            "Requirement already satisfied: threadpoolctl>=2.0.0 in /usr/local/lib/python3.7/dist-packages (from scikit-learn>=0.20.0->scikit-optimize) (3.1.0)\n"
          ]
        }
      ],
      "source": [
        "!pip install scikit-optimize"
      ]
    },
    {
      "cell_type": "code",
      "execution_count": 39,
      "metadata": {
        "colab": {
          "base_uri": "https://localhost:8080/"
        },
        "outputId": "1201bf91-88b7-42e4-d18e-3b817863ba9a",
        "id": "p3boPsaSEtYh"
      },
      "outputs": [
        {
          "output_type": "stream",
          "name": "stdout",
          "text": [
            "Fitting 1 folds for each of 1 candidates, totalling 1 fits\n",
            "Fitting 1 folds for each of 1 candidates, totalling 1 fits\n",
            "Fitting 1 folds for each of 1 candidates, totalling 1 fits\n",
            "best score 0.8167259786476868\n",
            "best score OrderedDict([('my_svc__C', 0.0012602593949011189), ('my_svc__degree', 8), ('my_svc__gamma', 2.285959941576884), ('my_svc__kernel', 'poly')])\n"
          ]
        }
      ],
      "source": [
        "# Let's try this with SVM model\n",
        "from skopt import BayesSearchCV\n",
        "from skopt.space import Real, Categorical, Integer\n",
        "from sklearn.svm import SVC\n",
        "\n",
        "\n",
        "SVC_pipline = Pipeline(\n",
        "    steps=[\n",
        "        ('preprocessor', preprocessor),\n",
        "        ('my_svc', SVC(class_weight='balanced'))\n",
        "    ]\n",
        ")\n",
        "# SVC has a class_weight attribute for unbalanced data\n",
        "\n",
        "\n",
        "# define ranges for bayes search\n",
        "bayes_search = BayesSearchCV(\n",
        "    SVC_pipline,\n",
        "    {\n",
        "        'my_svc__C': Real(1e-6, 1e+6, prior='log-uniform'),\n",
        "        'my_svc__gamma': Real(1e-6, 1e+1, prior='log-uniform'),\n",
        "        'my_svc__degree': Integer(1,8),\n",
        "        'my_svc__kernel': Categorical(['linear', 'poly', 'rbf']),\n",
        "    },\n",
        "    # number of trials \n",
        "    n_iter=3,\n",
        "    random_state=0,\n",
        "    verbose=1,\n",
        "    # we still use \n",
        "    cv=pds,\n",
        ")\n",
        "\n",
        "bayes_search.fit(xtr, ytr)\n",
        "\n",
        "print('best score {}'.format(bayes_search.best_score_))\n",
        "print('best score {}'.format(bayes_search.best_params_))"
      ]
    },
    {
      "cell_type": "code",
      "execution_count": 40,
      "metadata": {
        "colab": {
          "base_uri": "https://localhost:8080/"
        },
        "outputId": "b4057459-4b52-4747-fd6e-349b539c74fc",
        "id": "cfE1QjQ5EtYh"
      },
      "outputs": [
        {
          "output_type": "execute_result",
          "data": {
            "text/plain": [
              "array([0, 0, 0, ..., 0, 0, 0])"
            ]
          },
          "metadata": {},
          "execution_count": 40
        }
      ],
      "source": [
        "# the resulting model is the same pipeline with the best hyperparameters\n",
        "# trained on the full training set. we can use it directly\n",
        "bayes_search.predict(df_test)"
      ]
    },
    {
      "cell_type": "code",
      "source": [
        "submission = pd.DataFrame()\n",
        "\n",
        "submission['id'] = df_test['id']\n",
        "\n",
        "submission['match'] = grid_search.predict_proba(df_test)[:,1]\n",
        "\n",
        "submission.to_csv('trail 8.csv', index=False)"
      ],
      "metadata": {
        "id": "YIb6QzrUEtYh"
      },
      "execution_count": 42,
      "outputs": []
    },
    {
      "cell_type": "markdown",
      "source": [
        "Score: 0.85926\n",
        "Public score: 0.86621"
      ],
      "metadata": {
        "id": "85SG6jyhEtYi"
      }
    },
    {
      "cell_type": "markdown",
      "source": [
        "#final results"
      ],
      "metadata": {
        "id": "xPxFmiz_5Lzi"
      }
    },
    {
      "cell_type": "markdown",
      "source": [
        "the svm decreseees the score as i expected but the bestscore was final result trail 6 \n",
        "\n",
        "it is the best till now for me the highest score on kaggle\n",
        "\n",
        "best score 0.8847965738758029\n",
        "best score {'my_classifier__max_depth': 7, 'my_classifier__n_estimators': 300, 'preprocessor__num__imputer__strategy': 'mean'}\n",
        "\n",
        "Score: 0.88484            kaggle \n",
        "Public score: 0.88166"
      ],
      "metadata": {
        "id": "fp4E5msV499p"
      }
    },
    {
      "cell_type": "markdown",
      "source": [
        "in the sixth trail i run the code using preprossing code above i took the cleand data and i expected the result to be better we will see at the end of this trail\n",
        "\n",
        "using XGBClassifier regression model\n",
        "\n",
        "let the model to choose between ('mean' or 'most_frequent') to filll the nan\n",
        "\n",
        "\n",
        "I changed the hyperbrameters 'my_classifier__n_estimators': to be: [105,300], \n",
        "\n",
        "decresing the cv to be 5\n",
        "\n",
        "(class_weight='balanced')\n",
        "\n",
        "n_iter=3,\n",
        "\n",
        "'mean','most_frequent','median','constant'\n",
        "\n",
        "i changed the rondome state to be 1\n",
        "\n",
        " using Grid Search with validation set"
      ],
      "metadata": {
        "id": "mb_mLpij5i86"
      }
    },
    {
      "cell_type": "markdown",
      "source": [
        ""
      ],
      "metadata": {
        "id": "VCluCTQxBYTi"
      }
    },
    {
      "cell_type": "markdown",
      "source": [
        "# Questions"
      ],
      "metadata": {
        "id": "pumfML8JO9Zk"
      }
    },
    {
      "cell_type": "markdown",
      "source": [
        "🌈 Why a simple linear regression model (without any activation function) is not good for classification task, compared to Perceptron/Logistic regression?\n",
        "\n",
        "🌈What's a decision tree and how it is different to a logistic regression model?\n",
        "\n",
        "🌈What's the difference between grid search and random search?\n",
        "\n",
        "🌈What's the difference between bayesian search and random search?"
      ],
      "metadata": {
        "id": "mecyhEBIADIU"
      }
    },
    {
      "cell_type": "markdown",
      "source": [
        "## 1"
      ],
      "metadata": {
        "id": "bP2wsB_UU2q9"
      }
    },
    {
      "cell_type": "markdown",
      "source": [
        "🌈 Why a simple linear regression model (without any activation function) is not good for classification task, compared to Perceptron/Logistic regression?"
      ],
      "metadata": {
        "id": "Ee1V7zcZEyIr"
      }
    },
    {
      "cell_type": "markdown",
      "source": [
        "1-we have two differnt resones that explain why Linear Regression is not suitable for classification.  \n",
        "\n",
        "(a) Linear Regression work with continuous values but classification problems is discrete values.\n",
        "(b) The second problem is regarding the shift in threshold value when new data points are added.\n",
        "\n",
        "but Logistic regression is classification model despite its name and it provides discreet output\n",
        "\n",
        "the perceptron can be used as a binary classification model, defining a linear decision boundary. It finds the separating hyperplane that minimizes the distance between misclassified points and the decision boundary\n"
      ],
      "metadata": {
        "id": "N6GNsfXfE05C"
      }
    },
    {
      "cell_type": "markdown",
      "source": [
        "## 2 "
      ],
      "metadata": {
        "id": "K8XXYV4eU86M"
      }
    },
    {
      "cell_type": "markdown",
      "source": [
        "🌈What's a decision tree and how it is different to a logistic regression model?"
      ],
      "metadata": {
        "id": "cU57_wXxHVzM"
      }
    },
    {
      "cell_type": "markdown",
      "source": [
        "Decision Tree is a Supervised learning technique that can be used for both classification and Regression problems, but mostly it is preferred for solving Classification problems. It is a tree-structured classifier\n",
        "\n",
        "A decision tree is a decision support tool that uses a tree-like model of decisions and their possible consequences, including chance event outcomes, resource costs, and utility. It is one way to display an algorithm that only contains conditional control statements.\n",
        "Decision trees are commonly used in operations research, specifically in decision analysis, to help identify a strategy most likely to reach a goal, but are also a popular tool in machine learning.\n",
        "\n",
        "different to a logistic regression model\n",
        "\n",
        "Logistic Regression and trees differ in the way that they generate decision boundaries i.e. the lines that are drawn to separate different classes,Decision Trees bisect the space into smaller and smaller regions, whereas Logistic Regression fits a single line to divide the space exactly into two.\n",
        "\n",
        "1-Logistic Regression assumes that the data is linearly (or curvy linearly) Decision Trees are non-linear classifiers\n",
        "\n",
        "2-Categorical data works well with Decision Trees, while continuous data work well with Logistic Regression\n",
        "\n",
        "3-Logistic Regression does not handle skewed classes well,Decision Trees handle skewed classes nicely if we let it grow fully.\n",
        "\n",
        "4-Decision Trees works with missing values, Logistic Regression does not handle missing values\n",
        "\n",
        "\n",
        "Logistic Regression and trees differ in the way that they generate decision boundaries i.e. the lines that are drawn to separate different classes"
      ],
      "metadata": {
        "id": "SzawmK7MaS6T"
      }
    },
    {
      "cell_type": "markdown",
      "source": [
        "## 3"
      ],
      "metadata": {
        "id": "sAEa3aUUYTyW"
      }
    },
    {
      "cell_type": "markdown",
      "source": [
        "🌈What's the difference between grid search and random search?"
      ],
      "metadata": {
        "id": "bmtvs7XSK19O"
      }
    },
    {
      "cell_type": "markdown",
      "source": [
        "Grid Search:Define a search space as a grid of hyperparameter values and evaluate every position in the grid.\n",
        "\n",
        "Random Search: Define a search space as a bounded domain of hyperparameter values and randomly sample points in that domain.\n"
      ],
      "metadata": {
        "id": "ShiucBhankjF"
      }
    },
    {
      "cell_type": "markdown",
      "source": [
        "\n",
        "It may look like grid search is the better option, compared to the random one, but bare in mind that when the dimensionality is high, the number of combinations you have to search is enormous. For example, to grid-search ten boolean (yes/no) parameters you will have to test 1024 different combinations. That is why random search, sometimes combined with clever heuristics, is often used."
      ],
      "metadata": {
        "id": "ylxuQRnMnnON"
      }
    },
    {
      "cell_type": "markdown",
      "source": [
        "## 4"
      ],
      "metadata": {
        "id": "Pd_DmIiVaK2W"
      }
    },
    {
      "cell_type": "markdown",
      "source": [
        "🌈What's the difference between bayesian search and random search?"
      ],
      "metadata": {
        "id": "FhFh-r1ItN3y"
      }
    },
    {
      "cell_type": "markdown",
      "source": [
        "Bayesian optimization methods are efficient because they select hyperparameters in an informed manner. By prioritizing hyperparameters that appear more promising from past results, Bayesian methods can find the best hyperparameters in lesser time (in fewer iterations) than both grid search and random search."
      ],
      "metadata": {
        "id": "vNZaS3oLfohU"
      }
    },
    {
      "cell_type": "markdown",
      "source": [
        "\n",
        "Random search\n",
        "Try out a random subset\n",
        "good enough\n",
        "Local optimal (within the given range)\n",
        "Efficient (less trials)\n",
        "Sklearn: model_selection.RandomizedSearchCV\n",
        "\n",
        "Bayesian Optimization\n",
        "As an optimization problem\n",
        "Trial -> estimated error -> Bayesian model estimates the next\n",
        "parameter to try -> trial -> repeat\n",
        "pip install bayesian-optimization"
      ],
      "metadata": {
        "id": "lvbZAduPuEqC"
      }
    },
    {
      "cell_type": "markdown",
      "source": [
        "Bayesian Search: Based upon Bayes Rule and considers previously known knowledge to help narrow down the search space of good hyperparameter combinations.\n",
        "Bayesian Search usually takes more time than Random Search"
      ],
      "metadata": {
        "id": "G38M2nreu7pb"
      }
    }
  ],
  "metadata": {
    "colab": {
      "collapsed_sections": [
        "MEpTgjzC0S21",
        "3qLeDb2h2t4Z"
      ],
      "name": "Comp 2 .ipynb",
      "toc_visible": true,
      "provenance": []
    },
    "kernelspec": {
      "display_name": "Python 3",
      "name": "python3"
    },
    "language_info": {
      "name": "python"
    }
  },
  "nbformat": 4,
  "nbformat_minor": 0
}